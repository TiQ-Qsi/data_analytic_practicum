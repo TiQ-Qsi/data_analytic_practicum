{
 "cells": [
  {
   "cell_type": "markdown",
   "metadata": {},
   "source": [
    "<div style=\"border:solid green 3px; padding: 20px\">\n",
    "\t\t\t\t\t\t\t\t\t\t\t\t\t\t\t\t\t\t\t\t\t\t\t\n",
    "<b>Привет!</b>\n",
    "\t\t\t\t\t\t\t\t\t\t\t\t\t\t\t\t\t\t\t\t\t\n",
    "Меня зовут Сороколетов Илья и я буду проверять твой проект. \n",
    "\t\t\t\t\t\t\t\t\t\t\t\t\t\t\t\t\t\t\t\t\t\n",
    "Предлагаю общаться на «**ты**», но если тебе будет комфортнее общаться на «**вы**», то сообщи об этом в комментариях)\n",
    "\t\t\t\t\t\t\t\t\t\t\t\t\t\t\t\t\t\t\t\t\t\n",
    "\t\t\t\t\t\t\t\t\t\t\t\t\t\t\t\t\t\t\t\t\t\n",
    "Для твоего удобства, я буду выделять свои комментарии следующим образом:\n",
    "\t\t\t\t\t\t\t\t\t\t\t\t\t\t\t\t\t\t\t\t\t\n",
    "<div class=\"alert alert-danger\">\n",
    "<b>❌ Комментарий ревьюера v1:</b> Самые важные замечания. Они указывают на ключевые моменты, которые влияют на конечный результат проекта. </div>\n",
    "\t\t\t\t\t\t\t\t\t\t\t\t\t\t\t\t\t\t\t\t\t\n",
    "<div class=\"alert alert-warning\">\n",
    "<b>⚠️ Комментарий ревьюера v1:</b> Советы или замечания, которые помогут сделать твою работу лучше, но необязательны к выполнению.\n",
    "\t\t\t\t\t\t\t\t\t\t\t\t\t\t\t\t\t\t\t\t\t\n",
    "</div>\n",
    "\t\t\t\t\t\t\t\t\t\t\t\t\t\t\t\t\t\t\t\t\t\n",
    "<div class=\"alert alert-success\">\n",
    "<b>✔️ Комментарий ревьюера v1:</b> Так я выделяю все остальные комментарии.</div>\n",
    "\t\t\t\t\t\t\t\t\t\t\t\t\t\t\t\t\t\t\t\t\t\n",
    "\t\t\t\t\t\t\t\t\t\t\t\t\t\t\t\t\t\t\t\t\t\n",
    "Пометками <b>v1-v2-v3-...</b> я буду отмечать версию проверки. Так ты сможешь быстро найти мои новые комментарии.\n",
    "\t\t\t\t\t\t\t\t\t\t\t\t\t\t\t\t\t\t\t\t\t\n",
    "Давай работать над проектом в диалоге: если ты что-то меняешь в проекте по моим рекомендациям — пиши об этом. Выбери для своих комментариев какой-то заметный цвет, так мне будет легче отследить изменения, например вот так:\n",
    "\t\t\t\t\t\t\t\t\t\t\t\t\t\t\t\t\t\t\t\t\t    \n",
    "<div class=\"alert alert-info\">\n",
    "<b>Комментарий студента:</b>\n",
    "<br>\n",
    "</div>\n",
    "\t\t\t\t\t\t\t\t\t\t\t\t\t\t\t\t\t\t\t\t\t\n",
    "<b>Пожалуйста, не перемещай, не изменяй и не удаляй мои комментарии.</b> Если ты оставляешь свои комментарии, то делай это под моими, чтобы сообщения были расположены в хронологическом порядке. Всё это поможет выполнить повторную проверку твоего проекта быстрее. \n",
    "\t\t\t\t\t\t\t\t\t\t\t\t\t\t\t\t\t\t\t\t\t\n",
    "Перед отправкой работы я рекомендую нажимать Kernel -> Restart & Run All. Это перезапустит ядро и по очереди выполнит все ячейки. Так ты сможешь проверить, что всё работает корректно. Кнопка Kernel находится в панели сверху\n",
    "\t\t\t\t\t\t\t\t\t\t\t\t\t\t\t\t\t\t\t\t\t\n",
    "Обязательно задавай вопросы если они возникнут, а я перехожу к проверке)\n",
    "\t\t\t\t\t\t\t\t\t\t\t\t\t\t\t\t\t\t\t\t\t\n",
    "P.S. На всякий случай, я оставлю пустой шаблон для твоих комментариев ниже. Кликни два раза на мой комментарий, скопируй последние четыре строчки кода и вставляй их в пустую ячейку там, где ты хочешь оставить комментарий. Не забудь только перед этим сменить тип ячейки на Markdown. Быстро это можно сделать так: кликнуть на ячейку - нажать ESC - нажать M. \n",
    "\t\t\t\t\t\t\t\t\t\t\t\t\t\t\t\t\t\t\t\t\t    \n",
    "\t\t\t\t\t\t\t\t\t\t\t\t\t\t\t\t\t\t\t\t\t    \n",
    "<div class=\"alert alert-info\">\n",
    "<b>Комментарий студента:</b>\n",
    "<br>Удали этот текст и вместо него напиши свой комментарий 🙂\n",
    "</div>"
   ]
  },
  {
   "cell_type": "markdown",
   "metadata": {
    "id": "-VFbjcb3Awb7"
   },
   "source": [
    "# Исследование объявлений о продаже квартир\n",
    "\n",
    "В вашем распоряжении данные сервиса Яндекс Недвижимость — архив объявлений о продаже квартир в Санкт-Петербурге и соседних населённых пунктах за несколько лет. Вам нужно научиться определять рыночную стоимость объектов недвижимости. Для этого проведите исследовательский анализ данных и установите параметры, влияющие на цену объектов. Это позволит построить автоматизированную систему: она отследит аномалии и мошенническую деятельность.\n",
    "\n",
    "По каждой квартире на продажу доступны два вида данных. Первые вписаны пользователем, вторые — получены автоматически на основе картографических данных. Например, расстояние до центра, аэропорта и других объектов — эти данные автоматически получены из геосервисов. Количество парков и водоёмов также заполняется без участия пользователя."
   ]
  },
  {
   "cell_type": "markdown",
   "metadata": {
    "id": "aeFLH07FAwb9"
   },
   "source": [
    "## Общая информация"
   ]
  },
  {
   "cell_type": "code",
   "execution_count": 1,
   "metadata": {
    "id": "7MZxY65pAwb9"
   },
   "outputs": [],
   "source": [
    "import pandas as pd\n",
    "import matplotlib.pyplot as plt"
   ]
  },
  {
   "cell_type": "code",
   "execution_count": 2,
   "metadata": {},
   "outputs": [],
   "source": [
    "data = pd.read_csv('/datasets/real_estate_data.csv', sep='\\t')"
   ]
  },
  {
   "cell_type": "markdown",
   "metadata": {},
   "source": [
    "<div class=\"alert alert-warning\">\n",
    "<b>⚠️ Комментарий ревьюера v1:</b> \n",
    "<br>Все библиотеки лучше импортировать отдельно в первой ячейке. Это позволит тебе в любой момент добавить ещё одну библиотеку без перезаписи переменных.\n",
    "</div>"
   ]
  },
  {
   "cell_type": "markdown",
   "metadata": {},
   "source": [
    "### Описание данных\n",
    "\n",
    "* **airports_nearest** — расстояние до ближайшего аэропорта в метрах (м)\n",
    "\n",
    "* **balcony** — число балконов\n",
    "\n",
    "* **ceiling_height** — высота потолков (м)\n",
    "\n",
    "* **cityCenters_nearest** — расстояние до центра города (м)\n",
    "\n",
    "* **days_exposition** — сколько дней было размещено объявление (от публикации до снятия)\n",
    "\n",
    "* **first_day_exposition** — дата публикации\n",
    "\n",
    "* **floor** — этаж\n",
    "\n",
    "* **floors_total** — всего этажей в доме\n",
    "\n",
    "* **is_apartment** — апартаменты (булев тип)\n",
    "\n",
    "* **kitchen_area** — площадь кухни в квадратных метрах (м²)\n",
    "\n",
    "* **last_price** — цена на момент снятия с публикации\n",
    "\n",
    "* **living_area** — жилая площадь в квадратных метрах (м²)\n",
    "\n",
    "* **locality_name** — название населённого пункта\n",
    "\n",
    "* **open_plan** — свободная планировка (булев тип)\n",
    "\n",
    "* **parks_around3000** — число парков в радиусе 3 км\n",
    "\n",
    "* **parks_nearest** — расстояние до ближайшего парка (м)\n",
    "\n",
    "* **ponds_around3000** — число водоёмов в радиусе 3 км\n",
    "\n",
    "* **ponds_nearest** — расстояние до ближайшего водоёма (м)\n",
    "\n",
    "* **rooms** — число комнат\n",
    "\n",
    "* **studio** — квартира-студия (булев тип)\n",
    "\n",
    "* **total_area** — общая площадь квартиры в квадратных метрах (м²)\n",
    "\n",
    "* **total_images** — число фотографий квартиры в объявлении"
   ]
  },
  {
   "cell_type": "markdown",
   "metadata": {},
   "source": [
    "### Изучение датафрейма"
   ]
  },
  {
   "cell_type": "code",
   "execution_count": 3,
   "metadata": {},
   "outputs": [
    {
     "data": {
      "text/html": [
       "<div>\n",
       "<style scoped>\n",
       "    .dataframe tbody tr th:only-of-type {\n",
       "        vertical-align: middle;\n",
       "    }\n",
       "\n",
       "    .dataframe tbody tr th {\n",
       "        vertical-align: top;\n",
       "    }\n",
       "\n",
       "    .dataframe thead th {\n",
       "        text-align: right;\n",
       "    }\n",
       "</style>\n",
       "<table border=\"1\" class=\"dataframe\">\n",
       "  <thead>\n",
       "    <tr style=\"text-align: right;\">\n",
       "      <th></th>\n",
       "      <th>total_images</th>\n",
       "      <th>last_price</th>\n",
       "      <th>total_area</th>\n",
       "      <th>first_day_exposition</th>\n",
       "      <th>rooms</th>\n",
       "      <th>ceiling_height</th>\n",
       "      <th>floors_total</th>\n",
       "      <th>living_area</th>\n",
       "      <th>floor</th>\n",
       "      <th>is_apartment</th>\n",
       "      <th>studio</th>\n",
       "      <th>open_plan</th>\n",
       "      <th>kitchen_area</th>\n",
       "      <th>balcony</th>\n",
       "      <th>locality_name</th>\n",
       "      <th>airports_nearest</th>\n",
       "      <th>cityCenters_nearest</th>\n",
       "      <th>parks_around3000</th>\n",
       "      <th>parks_nearest</th>\n",
       "      <th>ponds_around3000</th>\n",
       "      <th>ponds_nearest</th>\n",
       "      <th>days_exposition</th>\n",
       "    </tr>\n",
       "  </thead>\n",
       "  <tbody>\n",
       "    <tr>\n",
       "      <th>0</th>\n",
       "      <td>20</td>\n",
       "      <td>13000000.0</td>\n",
       "      <td>108.00</td>\n",
       "      <td>2019-03-07T00:00:00</td>\n",
       "      <td>3</td>\n",
       "      <td>2.70</td>\n",
       "      <td>16.0</td>\n",
       "      <td>51.00</td>\n",
       "      <td>8</td>\n",
       "      <td>NaN</td>\n",
       "      <td>False</td>\n",
       "      <td>False</td>\n",
       "      <td>25.00</td>\n",
       "      <td>NaN</td>\n",
       "      <td>Санкт-Петербург</td>\n",
       "      <td>18863.0</td>\n",
       "      <td>16028.0</td>\n",
       "      <td>1.0</td>\n",
       "      <td>482.0</td>\n",
       "      <td>2.0</td>\n",
       "      <td>755.0</td>\n",
       "      <td>NaN</td>\n",
       "    </tr>\n",
       "    <tr>\n",
       "      <th>1</th>\n",
       "      <td>7</td>\n",
       "      <td>3350000.0</td>\n",
       "      <td>40.40</td>\n",
       "      <td>2018-12-04T00:00:00</td>\n",
       "      <td>1</td>\n",
       "      <td>NaN</td>\n",
       "      <td>11.0</td>\n",
       "      <td>18.60</td>\n",
       "      <td>1</td>\n",
       "      <td>NaN</td>\n",
       "      <td>False</td>\n",
       "      <td>False</td>\n",
       "      <td>11.00</td>\n",
       "      <td>2.0</td>\n",
       "      <td>посёлок Шушары</td>\n",
       "      <td>12817.0</td>\n",
       "      <td>18603.0</td>\n",
       "      <td>0.0</td>\n",
       "      <td>NaN</td>\n",
       "      <td>0.0</td>\n",
       "      <td>NaN</td>\n",
       "      <td>81.0</td>\n",
       "    </tr>\n",
       "    <tr>\n",
       "      <th>2</th>\n",
       "      <td>10</td>\n",
       "      <td>5196000.0</td>\n",
       "      <td>56.00</td>\n",
       "      <td>2015-08-20T00:00:00</td>\n",
       "      <td>2</td>\n",
       "      <td>NaN</td>\n",
       "      <td>5.0</td>\n",
       "      <td>34.30</td>\n",
       "      <td>4</td>\n",
       "      <td>NaN</td>\n",
       "      <td>False</td>\n",
       "      <td>False</td>\n",
       "      <td>8.30</td>\n",
       "      <td>0.0</td>\n",
       "      <td>Санкт-Петербург</td>\n",
       "      <td>21741.0</td>\n",
       "      <td>13933.0</td>\n",
       "      <td>1.0</td>\n",
       "      <td>90.0</td>\n",
       "      <td>2.0</td>\n",
       "      <td>574.0</td>\n",
       "      <td>558.0</td>\n",
       "    </tr>\n",
       "    <tr>\n",
       "      <th>3</th>\n",
       "      <td>0</td>\n",
       "      <td>64900000.0</td>\n",
       "      <td>159.00</td>\n",
       "      <td>2015-07-24T00:00:00</td>\n",
       "      <td>3</td>\n",
       "      <td>NaN</td>\n",
       "      <td>14.0</td>\n",
       "      <td>NaN</td>\n",
       "      <td>9</td>\n",
       "      <td>NaN</td>\n",
       "      <td>False</td>\n",
       "      <td>False</td>\n",
       "      <td>NaN</td>\n",
       "      <td>0.0</td>\n",
       "      <td>Санкт-Петербург</td>\n",
       "      <td>28098.0</td>\n",
       "      <td>6800.0</td>\n",
       "      <td>2.0</td>\n",
       "      <td>84.0</td>\n",
       "      <td>3.0</td>\n",
       "      <td>234.0</td>\n",
       "      <td>424.0</td>\n",
       "    </tr>\n",
       "    <tr>\n",
       "      <th>4</th>\n",
       "      <td>2</td>\n",
       "      <td>10000000.0</td>\n",
       "      <td>100.00</td>\n",
       "      <td>2018-06-19T00:00:00</td>\n",
       "      <td>2</td>\n",
       "      <td>3.03</td>\n",
       "      <td>14.0</td>\n",
       "      <td>32.00</td>\n",
       "      <td>13</td>\n",
       "      <td>NaN</td>\n",
       "      <td>False</td>\n",
       "      <td>False</td>\n",
       "      <td>41.00</td>\n",
       "      <td>NaN</td>\n",
       "      <td>Санкт-Петербург</td>\n",
       "      <td>31856.0</td>\n",
       "      <td>8098.0</td>\n",
       "      <td>2.0</td>\n",
       "      <td>112.0</td>\n",
       "      <td>1.0</td>\n",
       "      <td>48.0</td>\n",
       "      <td>121.0</td>\n",
       "    </tr>\n",
       "    <tr>\n",
       "      <th>5</th>\n",
       "      <td>10</td>\n",
       "      <td>2890000.0</td>\n",
       "      <td>30.40</td>\n",
       "      <td>2018-09-10T00:00:00</td>\n",
       "      <td>1</td>\n",
       "      <td>NaN</td>\n",
       "      <td>12.0</td>\n",
       "      <td>14.40</td>\n",
       "      <td>5</td>\n",
       "      <td>NaN</td>\n",
       "      <td>False</td>\n",
       "      <td>False</td>\n",
       "      <td>9.10</td>\n",
       "      <td>NaN</td>\n",
       "      <td>городской посёлок Янино-1</td>\n",
       "      <td>NaN</td>\n",
       "      <td>NaN</td>\n",
       "      <td>NaN</td>\n",
       "      <td>NaN</td>\n",
       "      <td>NaN</td>\n",
       "      <td>NaN</td>\n",
       "      <td>55.0</td>\n",
       "    </tr>\n",
       "    <tr>\n",
       "      <th>6</th>\n",
       "      <td>6</td>\n",
       "      <td>3700000.0</td>\n",
       "      <td>37.30</td>\n",
       "      <td>2017-11-02T00:00:00</td>\n",
       "      <td>1</td>\n",
       "      <td>NaN</td>\n",
       "      <td>26.0</td>\n",
       "      <td>10.60</td>\n",
       "      <td>6</td>\n",
       "      <td>NaN</td>\n",
       "      <td>False</td>\n",
       "      <td>False</td>\n",
       "      <td>14.40</td>\n",
       "      <td>1.0</td>\n",
       "      <td>посёлок Парголово</td>\n",
       "      <td>52996.0</td>\n",
       "      <td>19143.0</td>\n",
       "      <td>0.0</td>\n",
       "      <td>NaN</td>\n",
       "      <td>0.0</td>\n",
       "      <td>NaN</td>\n",
       "      <td>155.0</td>\n",
       "    </tr>\n",
       "    <tr>\n",
       "      <th>7</th>\n",
       "      <td>5</td>\n",
       "      <td>7915000.0</td>\n",
       "      <td>71.60</td>\n",
       "      <td>2019-04-18T00:00:00</td>\n",
       "      <td>2</td>\n",
       "      <td>NaN</td>\n",
       "      <td>24.0</td>\n",
       "      <td>NaN</td>\n",
       "      <td>22</td>\n",
       "      <td>NaN</td>\n",
       "      <td>False</td>\n",
       "      <td>False</td>\n",
       "      <td>18.90</td>\n",
       "      <td>2.0</td>\n",
       "      <td>Санкт-Петербург</td>\n",
       "      <td>23982.0</td>\n",
       "      <td>11634.0</td>\n",
       "      <td>0.0</td>\n",
       "      <td>NaN</td>\n",
       "      <td>0.0</td>\n",
       "      <td>NaN</td>\n",
       "      <td>NaN</td>\n",
       "    </tr>\n",
       "    <tr>\n",
       "      <th>8</th>\n",
       "      <td>20</td>\n",
       "      <td>2900000.0</td>\n",
       "      <td>33.16</td>\n",
       "      <td>2018-05-23T00:00:00</td>\n",
       "      <td>1</td>\n",
       "      <td>NaN</td>\n",
       "      <td>27.0</td>\n",
       "      <td>15.43</td>\n",
       "      <td>26</td>\n",
       "      <td>NaN</td>\n",
       "      <td>False</td>\n",
       "      <td>False</td>\n",
       "      <td>8.81</td>\n",
       "      <td>NaN</td>\n",
       "      <td>посёлок Мурино</td>\n",
       "      <td>NaN</td>\n",
       "      <td>NaN</td>\n",
       "      <td>NaN</td>\n",
       "      <td>NaN</td>\n",
       "      <td>NaN</td>\n",
       "      <td>NaN</td>\n",
       "      <td>189.0</td>\n",
       "    </tr>\n",
       "    <tr>\n",
       "      <th>9</th>\n",
       "      <td>18</td>\n",
       "      <td>5400000.0</td>\n",
       "      <td>61.00</td>\n",
       "      <td>2017-02-26T00:00:00</td>\n",
       "      <td>3</td>\n",
       "      <td>2.50</td>\n",
       "      <td>9.0</td>\n",
       "      <td>43.60</td>\n",
       "      <td>7</td>\n",
       "      <td>NaN</td>\n",
       "      <td>False</td>\n",
       "      <td>False</td>\n",
       "      <td>6.50</td>\n",
       "      <td>2.0</td>\n",
       "      <td>Санкт-Петербург</td>\n",
       "      <td>50898.0</td>\n",
       "      <td>15008.0</td>\n",
       "      <td>0.0</td>\n",
       "      <td>NaN</td>\n",
       "      <td>0.0</td>\n",
       "      <td>NaN</td>\n",
       "      <td>289.0</td>\n",
       "    </tr>\n",
       "  </tbody>\n",
       "</table>\n",
       "</div>"
      ],
      "text/plain": [
       "   total_images  last_price  total_area first_day_exposition  rooms  \\\n",
       "0            20  13000000.0      108.00  2019-03-07T00:00:00      3   \n",
       "1             7   3350000.0       40.40  2018-12-04T00:00:00      1   \n",
       "2            10   5196000.0       56.00  2015-08-20T00:00:00      2   \n",
       "3             0  64900000.0      159.00  2015-07-24T00:00:00      3   \n",
       "4             2  10000000.0      100.00  2018-06-19T00:00:00      2   \n",
       "5            10   2890000.0       30.40  2018-09-10T00:00:00      1   \n",
       "6             6   3700000.0       37.30  2017-11-02T00:00:00      1   \n",
       "7             5   7915000.0       71.60  2019-04-18T00:00:00      2   \n",
       "8            20   2900000.0       33.16  2018-05-23T00:00:00      1   \n",
       "9            18   5400000.0       61.00  2017-02-26T00:00:00      3   \n",
       "\n",
       "   ceiling_height  floors_total  living_area  floor is_apartment  studio  \\\n",
       "0            2.70          16.0        51.00      8          NaN   False   \n",
       "1             NaN          11.0        18.60      1          NaN   False   \n",
       "2             NaN           5.0        34.30      4          NaN   False   \n",
       "3             NaN          14.0          NaN      9          NaN   False   \n",
       "4            3.03          14.0        32.00     13          NaN   False   \n",
       "5             NaN          12.0        14.40      5          NaN   False   \n",
       "6             NaN          26.0        10.60      6          NaN   False   \n",
       "7             NaN          24.0          NaN     22          NaN   False   \n",
       "8             NaN          27.0        15.43     26          NaN   False   \n",
       "9            2.50           9.0        43.60      7          NaN   False   \n",
       "\n",
       "   open_plan  kitchen_area  balcony              locality_name  \\\n",
       "0      False         25.00      NaN            Санкт-Петербург   \n",
       "1      False         11.00      2.0             посёлок Шушары   \n",
       "2      False          8.30      0.0            Санкт-Петербург   \n",
       "3      False           NaN      0.0            Санкт-Петербург   \n",
       "4      False         41.00      NaN            Санкт-Петербург   \n",
       "5      False          9.10      NaN  городской посёлок Янино-1   \n",
       "6      False         14.40      1.0          посёлок Парголово   \n",
       "7      False         18.90      2.0            Санкт-Петербург   \n",
       "8      False          8.81      NaN             посёлок Мурино   \n",
       "9      False          6.50      2.0            Санкт-Петербург   \n",
       "\n",
       "   airports_nearest  cityCenters_nearest  parks_around3000  parks_nearest  \\\n",
       "0           18863.0              16028.0               1.0          482.0   \n",
       "1           12817.0              18603.0               0.0            NaN   \n",
       "2           21741.0              13933.0               1.0           90.0   \n",
       "3           28098.0               6800.0               2.0           84.0   \n",
       "4           31856.0               8098.0               2.0          112.0   \n",
       "5               NaN                  NaN               NaN            NaN   \n",
       "6           52996.0              19143.0               0.0            NaN   \n",
       "7           23982.0              11634.0               0.0            NaN   \n",
       "8               NaN                  NaN               NaN            NaN   \n",
       "9           50898.0              15008.0               0.0            NaN   \n",
       "\n",
       "   ponds_around3000  ponds_nearest  days_exposition  \n",
       "0               2.0          755.0              NaN  \n",
       "1               0.0            NaN             81.0  \n",
       "2               2.0          574.0            558.0  \n",
       "3               3.0          234.0            424.0  \n",
       "4               1.0           48.0            121.0  \n",
       "5               NaN            NaN             55.0  \n",
       "6               0.0            NaN            155.0  \n",
       "7               0.0            NaN              NaN  \n",
       "8               NaN            NaN            189.0  \n",
       "9               0.0            NaN            289.0  "
      ]
     },
     "execution_count": 3,
     "metadata": {},
     "output_type": "execute_result"
    }
   ],
   "source": [
    "pd.set_option('display.max_columns', None)\n",
    "data.head(10)"
   ]
  },
  {
   "cell_type": "markdown",
   "metadata": {},
   "source": [
    " <div class=\"alert alert-warning\">\n",
    "<b>⚠️ Комментарий ревьюера v1:</b> \n",
    "<br>Обрати внимание, что часть столбцов заменилась на \"...\". Чтобы это исправить, нужно увеличить максимальное количество отображающихся столбцов командой\n",
    "\t\t\t\n",
    "\tpd.set_option('display.max_columns', None)\n",
    "</div>"
   ]
  },
  {
   "cell_type": "code",
   "execution_count": 4,
   "metadata": {},
   "outputs": [
    {
     "name": "stdout",
     "output_type": "stream",
     "text": [
      "<class 'pandas.core.frame.DataFrame'>\n",
      "RangeIndex: 23699 entries, 0 to 23698\n",
      "Data columns (total 22 columns):\n",
      " #   Column                Non-Null Count  Dtype  \n",
      "---  ------                --------------  -----  \n",
      " 0   total_images          23699 non-null  int64  \n",
      " 1   last_price            23699 non-null  float64\n",
      " 2   total_area            23699 non-null  float64\n",
      " 3   first_day_exposition  23699 non-null  object \n",
      " 4   rooms                 23699 non-null  int64  \n",
      " 5   ceiling_height        14504 non-null  float64\n",
      " 6   floors_total          23613 non-null  float64\n",
      " 7   living_area           21796 non-null  float64\n",
      " 8   floor                 23699 non-null  int64  \n",
      " 9   is_apartment          2775 non-null   object \n",
      " 10  studio                23699 non-null  bool   \n",
      " 11  open_plan             23699 non-null  bool   \n",
      " 12  kitchen_area          21421 non-null  float64\n",
      " 13  balcony               12180 non-null  float64\n",
      " 14  locality_name         23650 non-null  object \n",
      " 15  airports_nearest      18157 non-null  float64\n",
      " 16  cityCenters_nearest   18180 non-null  float64\n",
      " 17  parks_around3000      18181 non-null  float64\n",
      " 18  parks_nearest         8079 non-null   float64\n",
      " 19  ponds_around3000      18181 non-null  float64\n",
      " 20  ponds_nearest         9110 non-null   float64\n",
      " 21  days_exposition       20518 non-null  float64\n",
      "dtypes: bool(2), float64(14), int64(3), object(3)\n",
      "memory usage: 3.7+ MB\n"
     ]
    }
   ],
   "source": [
    "data.info()"
   ]
  },
  {
   "cell_type": "code",
   "execution_count": 5,
   "metadata": {},
   "outputs": [
    {
     "data": {
      "text/html": [
       "<div>\n",
       "<style scoped>\n",
       "    .dataframe tbody tr th:only-of-type {\n",
       "        vertical-align: middle;\n",
       "    }\n",
       "\n",
       "    .dataframe tbody tr th {\n",
       "        vertical-align: top;\n",
       "    }\n",
       "\n",
       "    .dataframe thead th {\n",
       "        text-align: right;\n",
       "    }\n",
       "</style>\n",
       "<table border=\"1\" class=\"dataframe\">\n",
       "  <thead>\n",
       "    <tr style=\"text-align: right;\">\n",
       "      <th></th>\n",
       "      <th>total_images</th>\n",
       "      <th>last_price</th>\n",
       "      <th>total_area</th>\n",
       "      <th>rooms</th>\n",
       "      <th>ceiling_height</th>\n",
       "      <th>floors_total</th>\n",
       "      <th>living_area</th>\n",
       "      <th>floor</th>\n",
       "      <th>kitchen_area</th>\n",
       "      <th>balcony</th>\n",
       "      <th>airports_nearest</th>\n",
       "      <th>cityCenters_nearest</th>\n",
       "      <th>parks_around3000</th>\n",
       "      <th>parks_nearest</th>\n",
       "      <th>ponds_around3000</th>\n",
       "      <th>ponds_nearest</th>\n",
       "      <th>days_exposition</th>\n",
       "    </tr>\n",
       "  </thead>\n",
       "  <tbody>\n",
       "    <tr>\n",
       "      <th>count</th>\n",
       "      <td>23699.000000</td>\n",
       "      <td>2.369900e+04</td>\n",
       "      <td>23699.000000</td>\n",
       "      <td>23699.000000</td>\n",
       "      <td>14504.000000</td>\n",
       "      <td>23613.000000</td>\n",
       "      <td>21796.000000</td>\n",
       "      <td>23699.000000</td>\n",
       "      <td>21421.000000</td>\n",
       "      <td>12180.000000</td>\n",
       "      <td>18157.000000</td>\n",
       "      <td>18180.000000</td>\n",
       "      <td>18181.000000</td>\n",
       "      <td>8079.000000</td>\n",
       "      <td>18181.000000</td>\n",
       "      <td>9110.000000</td>\n",
       "      <td>20518.000000</td>\n",
       "    </tr>\n",
       "    <tr>\n",
       "      <th>mean</th>\n",
       "      <td>9.858475</td>\n",
       "      <td>6.541549e+06</td>\n",
       "      <td>60.348651</td>\n",
       "      <td>2.070636</td>\n",
       "      <td>2.771499</td>\n",
       "      <td>10.673824</td>\n",
       "      <td>34.457852</td>\n",
       "      <td>5.892358</td>\n",
       "      <td>10.569807</td>\n",
       "      <td>1.150082</td>\n",
       "      <td>28793.672193</td>\n",
       "      <td>14191.277833</td>\n",
       "      <td>0.611408</td>\n",
       "      <td>490.804555</td>\n",
       "      <td>0.770255</td>\n",
       "      <td>517.980900</td>\n",
       "      <td>180.888634</td>\n",
       "    </tr>\n",
       "    <tr>\n",
       "      <th>std</th>\n",
       "      <td>5.682529</td>\n",
       "      <td>1.088701e+07</td>\n",
       "      <td>35.654083</td>\n",
       "      <td>1.078405</td>\n",
       "      <td>1.261056</td>\n",
       "      <td>6.597173</td>\n",
       "      <td>22.030445</td>\n",
       "      <td>4.885249</td>\n",
       "      <td>5.905438</td>\n",
       "      <td>1.071300</td>\n",
       "      <td>12630.880622</td>\n",
       "      <td>8608.386210</td>\n",
       "      <td>0.802074</td>\n",
       "      <td>342.317995</td>\n",
       "      <td>0.938346</td>\n",
       "      <td>277.720643</td>\n",
       "      <td>219.727988</td>\n",
       "    </tr>\n",
       "    <tr>\n",
       "      <th>min</th>\n",
       "      <td>0.000000</td>\n",
       "      <td>1.219000e+04</td>\n",
       "      <td>12.000000</td>\n",
       "      <td>0.000000</td>\n",
       "      <td>1.000000</td>\n",
       "      <td>1.000000</td>\n",
       "      <td>2.000000</td>\n",
       "      <td>1.000000</td>\n",
       "      <td>1.300000</td>\n",
       "      <td>0.000000</td>\n",
       "      <td>0.000000</td>\n",
       "      <td>181.000000</td>\n",
       "      <td>0.000000</td>\n",
       "      <td>1.000000</td>\n",
       "      <td>0.000000</td>\n",
       "      <td>13.000000</td>\n",
       "      <td>1.000000</td>\n",
       "    </tr>\n",
       "    <tr>\n",
       "      <th>25%</th>\n",
       "      <td>6.000000</td>\n",
       "      <td>3.400000e+06</td>\n",
       "      <td>40.000000</td>\n",
       "      <td>1.000000</td>\n",
       "      <td>2.520000</td>\n",
       "      <td>5.000000</td>\n",
       "      <td>18.600000</td>\n",
       "      <td>2.000000</td>\n",
       "      <td>7.000000</td>\n",
       "      <td>0.000000</td>\n",
       "      <td>18585.000000</td>\n",
       "      <td>9238.000000</td>\n",
       "      <td>0.000000</td>\n",
       "      <td>288.000000</td>\n",
       "      <td>0.000000</td>\n",
       "      <td>294.000000</td>\n",
       "      <td>45.000000</td>\n",
       "    </tr>\n",
       "    <tr>\n",
       "      <th>50%</th>\n",
       "      <td>9.000000</td>\n",
       "      <td>4.650000e+06</td>\n",
       "      <td>52.000000</td>\n",
       "      <td>2.000000</td>\n",
       "      <td>2.650000</td>\n",
       "      <td>9.000000</td>\n",
       "      <td>30.000000</td>\n",
       "      <td>4.000000</td>\n",
       "      <td>9.100000</td>\n",
       "      <td>1.000000</td>\n",
       "      <td>26726.000000</td>\n",
       "      <td>13098.500000</td>\n",
       "      <td>0.000000</td>\n",
       "      <td>455.000000</td>\n",
       "      <td>1.000000</td>\n",
       "      <td>502.000000</td>\n",
       "      <td>95.000000</td>\n",
       "    </tr>\n",
       "    <tr>\n",
       "      <th>75%</th>\n",
       "      <td>14.000000</td>\n",
       "      <td>6.800000e+06</td>\n",
       "      <td>69.900000</td>\n",
       "      <td>3.000000</td>\n",
       "      <td>2.800000</td>\n",
       "      <td>16.000000</td>\n",
       "      <td>42.300000</td>\n",
       "      <td>8.000000</td>\n",
       "      <td>12.000000</td>\n",
       "      <td>2.000000</td>\n",
       "      <td>37273.000000</td>\n",
       "      <td>16293.000000</td>\n",
       "      <td>1.000000</td>\n",
       "      <td>612.000000</td>\n",
       "      <td>1.000000</td>\n",
       "      <td>729.000000</td>\n",
       "      <td>232.000000</td>\n",
       "    </tr>\n",
       "    <tr>\n",
       "      <th>max</th>\n",
       "      <td>50.000000</td>\n",
       "      <td>7.630000e+08</td>\n",
       "      <td>900.000000</td>\n",
       "      <td>19.000000</td>\n",
       "      <td>100.000000</td>\n",
       "      <td>60.000000</td>\n",
       "      <td>409.700000</td>\n",
       "      <td>33.000000</td>\n",
       "      <td>112.000000</td>\n",
       "      <td>5.000000</td>\n",
       "      <td>84869.000000</td>\n",
       "      <td>65968.000000</td>\n",
       "      <td>3.000000</td>\n",
       "      <td>3190.000000</td>\n",
       "      <td>3.000000</td>\n",
       "      <td>1344.000000</td>\n",
       "      <td>1580.000000</td>\n",
       "    </tr>\n",
       "  </tbody>\n",
       "</table>\n",
       "</div>"
      ],
      "text/plain": [
       "       total_images    last_price    total_area         rooms  ceiling_height  \\\n",
       "count  23699.000000  2.369900e+04  23699.000000  23699.000000    14504.000000   \n",
       "mean       9.858475  6.541549e+06     60.348651      2.070636        2.771499   \n",
       "std        5.682529  1.088701e+07     35.654083      1.078405        1.261056   \n",
       "min        0.000000  1.219000e+04     12.000000      0.000000        1.000000   \n",
       "25%        6.000000  3.400000e+06     40.000000      1.000000        2.520000   \n",
       "50%        9.000000  4.650000e+06     52.000000      2.000000        2.650000   \n",
       "75%       14.000000  6.800000e+06     69.900000      3.000000        2.800000   \n",
       "max       50.000000  7.630000e+08    900.000000     19.000000      100.000000   \n",
       "\n",
       "       floors_total   living_area         floor  kitchen_area       balcony  \\\n",
       "count  23613.000000  21796.000000  23699.000000  21421.000000  12180.000000   \n",
       "mean      10.673824     34.457852      5.892358     10.569807      1.150082   \n",
       "std        6.597173     22.030445      4.885249      5.905438      1.071300   \n",
       "min        1.000000      2.000000      1.000000      1.300000      0.000000   \n",
       "25%        5.000000     18.600000      2.000000      7.000000      0.000000   \n",
       "50%        9.000000     30.000000      4.000000      9.100000      1.000000   \n",
       "75%       16.000000     42.300000      8.000000     12.000000      2.000000   \n",
       "max       60.000000    409.700000     33.000000    112.000000      5.000000   \n",
       "\n",
       "       airports_nearest  cityCenters_nearest  parks_around3000  parks_nearest  \\\n",
       "count      18157.000000         18180.000000      18181.000000    8079.000000   \n",
       "mean       28793.672193         14191.277833          0.611408     490.804555   \n",
       "std        12630.880622          8608.386210          0.802074     342.317995   \n",
       "min            0.000000           181.000000          0.000000       1.000000   \n",
       "25%        18585.000000          9238.000000          0.000000     288.000000   \n",
       "50%        26726.000000         13098.500000          0.000000     455.000000   \n",
       "75%        37273.000000         16293.000000          1.000000     612.000000   \n",
       "max        84869.000000         65968.000000          3.000000    3190.000000   \n",
       "\n",
       "       ponds_around3000  ponds_nearest  days_exposition  \n",
       "count      18181.000000    9110.000000     20518.000000  \n",
       "mean           0.770255     517.980900       180.888634  \n",
       "std            0.938346     277.720643       219.727988  \n",
       "min            0.000000      13.000000         1.000000  \n",
       "25%            0.000000     294.000000        45.000000  \n",
       "50%            1.000000     502.000000        95.000000  \n",
       "75%            1.000000     729.000000       232.000000  \n",
       "max            3.000000    1344.000000      1580.000000  "
      ]
     },
     "execution_count": 5,
     "metadata": {},
     "output_type": "execute_result"
    }
   ],
   "source": [
    "data.describe()"
   ]
  },
  {
   "cell_type": "code",
   "execution_count": 6,
   "metadata": {},
   "outputs": [
    {
     "data": {
      "image/png": "[encoded data removed]",
      "text/plain": [
       "<Figure size 1080x1440 with 20 Axes>"
      ]
     },
     "metadata": {
      "needs_background": "light"
     },
     "output_type": "display_data"
    }
   ],
   "source": [
    "data.hist(figsize=(15, 20))\n",
    "plt.show()"
   ]
  },
  {
   "cell_type": "markdown",
   "metadata": {},
   "source": [
    "<div class=\"alert alert-success\">\n",
    "<b>✔️ Комментарий ревьюера v1:</b> \n",
    "<br>Графики построено верно! \n",
    "</div>"
   ]
  },
  {
   "cell_type": "markdown",
   "metadata": {},
   "source": [
    "**Вывод:** \n",
    "\n",
    "В данных есть пропуски и аномальные значения, а также, возможно, дубликаты названий населённых пунктов. Попробуем разобраться с этим."
   ]
  },
  {
   "cell_type": "markdown",
   "metadata": {
    "id": "-O5NtivEAwb9"
   },
   "source": [
    "## Предобработка данных"
   ]
  },
  {
   "cell_type": "markdown",
   "metadata": {},
   "source": [
    "### Обработка пропусков"
   ]
  },
  {
   "cell_type": "markdown",
   "metadata": {},
   "source": [
    "Выведим количество пропущенных значений для каждого столбца:"
   ]
  },
  {
   "cell_type": "code",
   "execution_count": 7,
   "metadata": {
    "id": "7v3vAeTuAwb-"
   },
   "outputs": [
    {
     "data": {
      "text/plain": [
       "total_images                0\n",
       "last_price                  0\n",
       "total_area                  0\n",
       "first_day_exposition        0\n",
       "rooms                       0\n",
       "ceiling_height           9195\n",
       "floors_total               86\n",
       "living_area              1903\n",
       "floor                       0\n",
       "is_apartment            20924\n",
       "studio                      0\n",
       "open_plan                   0\n",
       "kitchen_area             2278\n",
       "balcony                 11519\n",
       "locality_name              49\n",
       "airports_nearest         5542\n",
       "cityCenters_nearest      5519\n",
       "parks_around3000         5518\n",
       "parks_nearest           15620\n",
       "ponds_around3000         5518\n",
       "ponds_nearest           14589\n",
       "days_exposition          3181\n",
       "dtype: int64"
      ]
     },
     "execution_count": 7,
     "metadata": {},
     "output_type": "execute_result"
    }
   ],
   "source": [
    "data.isna().sum()"
   ]
  },
  {
   "cell_type": "code",
   "execution_count": 8,
   "metadata": {},
   "outputs": [],
   "source": [
    "data['ceiling_height'].fillna(data['ceiling_height'].median(), inplace=True)"
   ]
  },
  {
   "cell_type": "markdown",
   "metadata": {},
   "source": [
    "<div class=\"alert alert-success\">\n",
    "<b>✔️ Комментарий ревьюера v1:</b> \n",
    "<br>Согласен с таким решением для столбца с высотой потолков, так как основная часть данных в этом столбце находится в небольшом диапазоне.\n",
    "</div>"
   ]
  },
  {
   "cell_type": "markdown",
   "metadata": {},
   "source": [
    "Скорее всего, пропуски в столбце «ceiling_height» случайны. Возможно, продавец не знает высоту потолков, забыл её указать или не заметил этот пункт. Поскольку высота потолков соответствует определённым стандартам, данные не сильно исказятся, если заполнить пропуски медианным значением."
   ]
  },
  {
   "cell_type": "markdown",
   "metadata": {},
   "source": [
    "Пропуски в столбце «floors_total» было решено оставить, так как мы не можем с уверенностью утверждать, сколько в доме этажей. Скорее всего, эти пропуски тоже случайны."
   ]
  },
  {
   "cell_type": "code",
   "execution_count": 9,
   "metadata": {},
   "outputs": [],
   "source": [
    "data['is_apartment'].fillna(False, inplace=True)"
   ]
  },
  {
   "cell_type": "markdown",
   "metadata": {},
   "source": [
    "<div class=\"alert alert-success\">\n",
    "<b>✔️ Комментарий ревьюера v1:</b> \n",
    "<br>👌\n",
    "</div>"
   ]
  },
  {
   "cell_type": "markdown",
   "metadata": {},
   "source": [
    "Заполним столбец «is_apartment» значением False, предполагая, что если значение пропущено, то помещение, скорее всего, не является апартаментами."
   ]
  },
  {
   "cell_type": "code",
   "execution_count": 10,
   "metadata": {},
   "outputs": [],
   "source": [
    "data['balcony'].fillna(0, inplace=True)"
   ]
  },
  {
   "cell_type": "markdown",
   "metadata": {},
   "source": [
    "<div class=\"alert alert-success\">\n",
    "<b>✔️ Комментарий ревьюера v1:</b> \n",
    "<br>👌\n",
    "</div>"
   ]
  },
  {
   "cell_type": "markdown",
   "metadata": {},
   "source": [
    "Таким же образом поступим со столбцом «balcony», заменив пропущенные значения на 0."
   ]
  },
  {
   "cell_type": "markdown",
   "metadata": {},
   "source": [
    "Пропуски в столбце «days_exposition», скорее всего, означают, что объявление не было снято с публикации."
   ]
  },
  {
   "cell_type": "code",
   "execution_count": 11,
   "metadata": {},
   "outputs": [],
   "source": [
    "data = data.dropna(subset=['locality_name'])"
   ]
  },
  {
   "cell_type": "markdown",
   "metadata": {},
   "source": [
    "<div class=\"alert alert-success\">\n",
    "<b>✔️ Комментарий ревьюера v1:</b> \n",
    "<br>Удалить пропуски в столбце locality_name - это хорошее решение. \n",
    "</div>"
   ]
  },
  {
   "cell_type": "markdown",
   "metadata": {},
   "source": [
    "Также не удастся заполнить пропуски в столбце «locality_name», так как невозможно узнать названия пропущенных населённых пунктов. Поэтому удалим их, чтобы они не мешали дальнейшему исследованию."
   ]
  },
  {
   "cell_type": "markdown",
   "metadata": {},
   "source": [
    "**Вывод:**"
   ]
  },
  {
   "cell_type": "markdown",
   "metadata": {},
   "source": [
    "* При заполнении остальных пропусков в столбцах с данными медианным или средним значением, мы рискуем получить результаты, которые будут значительно отличаться от реальных. Например, заполняя столбец «parks_nearest» средним значением, мы можем указать расстояние до водоёма, которое возможно будет сильно отличаться от действительного. Это может привести к тому, что результаты исследования окажутся далёкими от реальных данных. Аналогично, заполнение пропусков в столбцах «kitchen_area» и «living_area» может исказить параметры, которые могут повлиять на стоимость жилья, что, в свою очередь, может привести к ошибочным выводам.\n",
    "\n",
    "* В DataFrame есть довольно много пропусков в данных, полученных из геосервисов. Стоит обратиться к ответственному. Скорее всего, пропуски в данных вызваны какой-то технической неполадкой, однако для учебного исследования нам должно хватить и имеющихся данных.\n"
   ]
  },
  {
   "cell_type": "markdown",
   "metadata": {},
   "source": [
    "### Изменение типов данных"
   ]
  },
  {
   "cell_type": "code",
   "execution_count": 12,
   "metadata": {},
   "outputs": [],
   "source": [
    "data['first_day_exposition'] = pd.to_datetime(data['first_day_exposition'])"
   ]
  },
  {
   "cell_type": "markdown",
   "metadata": {},
   "source": [
    "Изменим тип данных в столбце «first_day_exposition» с object на datetime64, чтобы в дальнейшем иметь возможность выполнять операции с датами."
   ]
  },
  {
   "cell_type": "markdown",
   "metadata": {},
   "source": [
    "В столбце «is_apartment» тип данных изменился с object на bool, когда мы заполнили пропуски."
   ]
  },
  {
   "cell_type": "code",
   "execution_count": 13,
   "metadata": {},
   "outputs": [],
   "source": [
    "data['last_price'] = data['last_price'].astype(int)"
   ]
  },
  {
   "cell_type": "markdown",
   "metadata": {},
   "source": [
    "Скорее всего, в столбце «last_price» должен быть целочисленный тип данных."
   ]
  },
  {
   "cell_type": "markdown",
   "metadata": {},
   "source": [
    "### Обработка дубликатов"
   ]
  },
  {
   "cell_type": "code",
   "execution_count": 14,
   "metadata": {},
   "outputs": [
    {
     "data": {
      "text/plain": [
       "array(['Бокситогорск', 'Волосово', 'Волхов', 'Всеволожск', 'Выборг',\n",
       "       'Высоцк', 'Гатчина', 'Зеленогорск', 'Ивангород', 'Каменногорск',\n",
       "       'Кингисепп', 'Кириши', 'Кировск', 'Колпино', 'Коммунар',\n",
       "       'Красное Село', 'Кронштадт', 'Кудрово', 'Лодейное Поле',\n",
       "       'Ломоносов', 'Луга', 'Любань', 'Мурино', 'Никольское',\n",
       "       'Новая Ладога', 'Отрадное', 'Павловск', 'Петергоф', 'Пикалёво',\n",
       "       'Подпорожье', 'Приморск', 'Приозерск', 'Пушкин', 'Санкт-Петербург',\n",
       "       'Светогорск', 'Сертолово', 'Сестрорецк', 'Сланцы', 'Сосновый Бор',\n",
       "       'Сясьстрой', 'Тихвин', 'Тосно', 'Шлиссельбург',\n",
       "       'городской поселок Большая Ижора', 'городской поселок Янино-1',\n",
       "       'городской посёлок Будогощь', 'городской посёлок Виллози',\n",
       "       'городской посёлок Лесогорский', 'городской посёлок Мга',\n",
       "       'городской посёлок Назия', 'городской посёлок Новоселье',\n",
       "       'городской посёлок Павлово', 'городской посёлок Рощино',\n",
       "       'городской посёлок Свирьстрой', 'городской посёлок Советский',\n",
       "       'городской посёлок Фёдоровское', 'городской посёлок Янино-1',\n",
       "       'деревня Агалатово', 'деревня Аро', 'деревня Батово',\n",
       "       'деревня Бегуницы', 'деревня Белогорка', 'деревня Большая Вруда',\n",
       "       'деревня Большая Пустомержа', 'деревня Большие Колпаны',\n",
       "       'деревня Большое Рейзино', 'деревня Большой Сабск', 'деревня Бор',\n",
       "       'деревня Борисова Грива', 'деревня Ваганово', 'деревня Вартемяги',\n",
       "       'деревня Вахнова Кара', 'деревня Выскатка', 'деревня Гарболово',\n",
       "       'деревня Глинка', 'деревня Горбунки', 'деревня Гостилицы',\n",
       "       'деревня Заклинье', 'деревня Заневка', 'деревня Зимитицы',\n",
       "       'деревня Извара', 'деревня Иссад', 'деревня Калитино',\n",
       "       'деревня Кальтино', 'деревня Камышовка', 'деревня Каськово',\n",
       "       'деревня Келози', 'деревня Кипень', 'деревня Кисельня',\n",
       "       'деревня Колтуши', 'деревня Коркино', 'деревня Котлы',\n",
       "       'деревня Кривко', 'деревня Кудрово', 'деревня Кузьмолово',\n",
       "       'деревня Курковицы', 'деревня Куровицы', 'деревня Куттузи',\n",
       "       'деревня Лаврики', 'деревня Лаголово', 'деревня Лампово',\n",
       "       'деревня Лесколово', 'деревня Лопухинка', 'деревня Лупполово',\n",
       "       'деревня Малая Романовка', 'деревня Малое Верево',\n",
       "       'деревня Малое Карлино', 'деревня Малые Колпаны',\n",
       "       'деревня Мануйлово', 'деревня Меньково', 'деревня Мины',\n",
       "       'деревня Мистолово', 'деревня Ненимяки', 'деревня Нижние Осельки',\n",
       "       'деревня Нижняя', 'деревня Низино', 'деревня Новое Девяткино',\n",
       "       'деревня Новолисино', 'деревня Нурма', 'деревня Оржицы',\n",
       "       'деревня Парицы', 'деревня Пельгора', 'деревня Пеники',\n",
       "       'деревня Пижма', 'деревня Пикколово', 'деревня Пудомяги',\n",
       "       'деревня Пустынка', 'деревня Пчева', 'деревня Рабитицы',\n",
       "       'деревня Разбегаево', 'деревня Раздолье', 'деревня Разметелево',\n",
       "       'деревня Рапполово', 'деревня Реброво', 'деревня Русско',\n",
       "       'деревня Сижно', 'деревня Снегирёвка', 'деревня Старая',\n",
       "       'деревня Старая Пустошь', 'деревня Старое Хинколово',\n",
       "       'деревня Старополье', 'деревня Старосиверская',\n",
       "       'деревня Старые Бегуницы', 'деревня Суоранда',\n",
       "       'деревня Сяськелево', 'деревня Тарасово', 'деревня Терпилицы',\n",
       "       'деревня Тихковицы', 'деревня Тойворово', 'деревня Торосово',\n",
       "       'деревня Торошковичи', 'деревня Трубников Бор',\n",
       "       'деревня Фалилеево', 'деревня Фёдоровское', 'деревня Хапо-Ое',\n",
       "       'деревня Хязельки', 'деревня Чудской Бор', 'деревня Шпаньково',\n",
       "       'деревня Щеглово', 'деревня Юкки', 'деревня Ялгино',\n",
       "       'деревня Яльгелево', 'деревня Ям-Тесово',\n",
       "       'коттеджный поселок Кивеннапа Север', 'коттеджный поселок Счастье',\n",
       "       'коттеджный посёлок Лесное', 'поселок Аннино', 'поселок Барышево',\n",
       "       'поселок Бугры', 'поселок Возрождение', 'поселок Войсковицы',\n",
       "       'поселок Володарское', 'поселок Гаврилово', 'поселок Гарболово',\n",
       "       'поселок Гладкое', 'поселок Глажево', 'поселок Глебычево',\n",
       "       'поселок Гончарово', 'поселок Громово', 'поселок Дружноселье',\n",
       "       'поселок Елизаветино', 'поселок Жилгородок', 'поселок Жилпосёлок',\n",
       "       'поселок Житково', 'поселок Заводской', 'поселок Запорожское',\n",
       "       'поселок Зимитицы', 'поселок Ильичёво', 'поселок Калитино',\n",
       "       'поселок Каложицы', 'поселок Кингисеппский', 'поселок Кирпичное',\n",
       "       'поселок Кобралово', 'поселок Кобринское', 'поселок Коммунары',\n",
       "       'поселок Коробицыно', 'поселок Котельский',\n",
       "       'поселок Красная Долина', 'поселок Красносельское',\n",
       "       'поселок Лесное', 'поселок Лисий Нос', 'поселок Лукаши',\n",
       "       'поселок Любань', 'поселок Мельниково', 'поселок Мичуринское',\n",
       "       'поселок Молодцово', 'поселок Мурино', 'поселок Новый Свет',\n",
       "       'поселок Новый Учхоз', 'поселок Оредеж',\n",
       "       'поселок Пансионат Зелёный Бор', 'поселок Первомайское',\n",
       "       'поселок Перово', 'поселок Петровское', 'поселок Победа',\n",
       "       'поселок Поляны', 'поселок Почап', 'поселок Починок',\n",
       "       'поселок Пушное', 'поселок Пчевжа', 'поселок Рабитицы',\n",
       "       'поселок Романовка', 'поселок Ромашки', 'поселок Рябово',\n",
       "       'поселок Севастьяново', 'поселок Селезнёво', 'поселок Сельцо',\n",
       "       'поселок Семиозерье', 'поселок Семрино', 'поселок Серебрянский',\n",
       "       'поселок Совхозный', 'поселок Старая Малукса',\n",
       "       'поселок Стеклянный', 'поселок Сумино', 'поселок Суходолье',\n",
       "       'поселок Тельмана', 'поселок Терволово', 'поселок Торковичи',\n",
       "       'поселок Тёсово-4', 'поселок Углово', 'поселок Усть-Луга',\n",
       "       'поселок Ушаки', 'поселок Цвелодубово', 'поселок Цвылёво',\n",
       "       'поселок городского типа Большая Ижора',\n",
       "       'поселок городского типа Вырица',\n",
       "       'поселок городского типа Дружная Горка',\n",
       "       'поселок городского типа Дубровка',\n",
       "       'поселок городского типа Ефимовский',\n",
       "       'поселок городского типа Кондратьево',\n",
       "       'поселок городского типа Красный Бор',\n",
       "       'поселок городского типа Кузьмоловский',\n",
       "       'поселок городского типа Лебяжье',\n",
       "       'поселок городского типа Лесогорский',\n",
       "       'поселок городского типа Назия',\n",
       "       'поселок городского типа Никольский',\n",
       "       'поселок городского типа Приладожский',\n",
       "       'поселок городского типа Рахья', 'поселок городского типа Рощино',\n",
       "       'поселок городского типа Рябово',\n",
       "       'поселок городского типа Синявино',\n",
       "       'поселок городского типа Советский',\n",
       "       'поселок городского типа Токсово',\n",
       "       'поселок городского типа Форносово',\n",
       "       'поселок городского типа имени Свердлова',\n",
       "       'поселок станции Вещево', 'поселок станции Корнево',\n",
       "       'поселок станции Лужайка', 'поселок станции Приветнинское',\n",
       "       'посёлок Александровская', 'посёлок Алексеевка', 'посёлок Аннино',\n",
       "       'посёлок Белоостров', 'посёлок Бугры', 'посёлок Возрождение',\n",
       "       'посёлок Войскорово', 'посёлок Высокоключевой',\n",
       "       'посёлок Гаврилово', 'посёлок Дзержинского', 'посёлок Жилгородок',\n",
       "       'посёлок Ильичёво', 'посёлок Кикерино', 'посёлок Кобралово',\n",
       "       'посёлок Коробицыно', 'посёлок Левашово', 'посёлок Ленинское',\n",
       "       'посёлок Лисий Нос', 'посёлок Мельниково', 'посёлок Металлострой',\n",
       "       'посёлок Мичуринское', 'посёлок Молодёжное', 'посёлок Мурино',\n",
       "       'посёлок Мыза-Ивановка', 'посёлок Новогорелово',\n",
       "       'посёлок Новый Свет', 'посёлок Пансионат Зелёный Бор',\n",
       "       'посёлок Парголово', 'посёлок Перово', 'посёлок Песочный',\n",
       "       'посёлок Петро-Славянка', 'посёлок Петровское',\n",
       "       'посёлок Платформа 69-й километр', 'посёлок Плодовое',\n",
       "       'посёлок Плоское', 'посёлок Победа', 'посёлок Поляны',\n",
       "       'посёлок Понтонный', 'посёлок Пригородный', 'посёлок Пудость',\n",
       "       'посёлок Репино', 'посёлок Ропша', 'посёлок Сапёрное',\n",
       "       'посёлок Сапёрный', 'посёлок Сосново', 'посёлок Старая Малукса',\n",
       "       'посёлок Стеклянный', 'посёлок Стрельна', 'посёлок Суйда',\n",
       "       'посёлок Сумино', 'посёлок Тельмана', 'посёлок Терволово',\n",
       "       'посёлок Торфяное', 'посёлок Усть-Ижора', 'посёлок Усть-Луга',\n",
       "       'посёлок Форт Красная Горка', 'посёлок Шугозеро', 'посёлок Шушары',\n",
       "       'посёлок Щеглово', 'посёлок городского типа Важины',\n",
       "       'посёлок городского типа Вознесенье',\n",
       "       'посёлок городского типа Вырица',\n",
       "       'посёлок городского типа Красный Бор',\n",
       "       'посёлок городского типа Кузнечное',\n",
       "       'посёлок городского типа Кузьмоловский',\n",
       "       'посёлок городского типа Лебяжье', 'посёлок городского типа Мга',\n",
       "       'посёлок городского типа Павлово',\n",
       "       'посёлок городского типа Рощино', 'посёлок городского типа Рябово',\n",
       "       'посёлок городского типа Сиверский',\n",
       "       'посёлок городского типа Тайцы', 'посёлок городского типа Токсово',\n",
       "       'посёлок городского типа Ульяновка',\n",
       "       'посёлок городского типа Форносово',\n",
       "       'посёлок городского типа имени Морозова',\n",
       "       'посёлок городского типа имени Свердлова',\n",
       "       'посёлок при железнодорожной станции Вещево',\n",
       "       'посёлок при железнодорожной станции Приветнинское',\n",
       "       'посёлок станции Громово', 'посёлок станции Свирь',\n",
       "       'садоводческое некоммерческое товарищество Лесная Поляна',\n",
       "       'садовое товарищество Новая Ропша',\n",
       "       'садовое товарищество Приладожский', 'садовое товарищество Рахья',\n",
       "       'садовое товарищество Садко', 'село Копорье', 'село Никольское',\n",
       "       'село Павлово', 'село Паша', 'село Путилово', 'село Рождествено',\n",
       "       'село Русско-Высоцкое', 'село Старая Ладога', 'село Шум'],\n",
       "      dtype=object)"
      ]
     },
     "execution_count": 14,
     "metadata": {},
     "output_type": "execute_result"
    }
   ],
   "source": [
    "data['locality_name'].sort_values().unique()"
   ]
  },
  {
   "cell_type": "code",
   "execution_count": 15,
   "metadata": {},
   "outputs": [
    {
     "data": {
      "text/plain": [
       "364"
      ]
     },
     "execution_count": 15,
     "metadata": {},
     "output_type": "execute_result"
    }
   ],
   "source": [
    "len(data['locality_name'].unique())"
   ]
  },
  {
   "cell_type": "code",
   "execution_count": 16,
   "metadata": {},
   "outputs": [],
   "source": [
    "data['locality_name'] = (\n",
    "    data['locality_name'].str.replace('ё', 'е')\n",
    "    .replace(['поселок городского типа', 'городской поселок'],'поселок',regex=True)\n",
    ")"
   ]
  },
  {
   "cell_type": "code",
   "execution_count": 17,
   "metadata": {},
   "outputs": [
    {
     "data": {
      "text/plain": [
       "322"
      ]
     },
     "execution_count": 17,
     "metadata": {},
     "output_type": "execute_result"
    }
   ],
   "source": [
    "len(data['locality_name'].unique())"
   ]
  },
  {
   "cell_type": "markdown",
   "metadata": {},
   "source": [
    "Таким образом, заменив в названиях населённых пунктов «ё» на «е» и «поселок городского типа» и «городской поселок» на «посёлок», мы избавились от 42 неявных дубликатов."
   ]
  },
  {
   "cell_type": "markdown",
   "metadata": {},
   "source": [
    "<div class=\"alert alert-success\">\n",
    "<b>✔️ Комментарий ревьюера v1:</b> \n",
    "<br>Супер! Здесь всё верно)\n",
    "</div>"
   ]
  },
  {
   "cell_type": "markdown",
   "metadata": {},
   "source": [
    "### Обработка аномальных значений"
   ]
  },
  {
   "cell_type": "markdown",
   "metadata": {},
   "source": [
    "<div class=\"alert alert-info\">\n",
    "<b>Комментарий студента:</b>\n",
    "<br>Привет! Где синий текст, там мои исправления.\n",
    "</div>"
   ]
  },
  {
   "cell_type": "markdown",
   "metadata": {},
   "source": [
    "<div class=\"alert alert-success\">\n",
    "<b>✔️ Комментарий ревьюера v2:</b>\n",
    "<br>Привет! Принято)\n",
    "</div>"
   ]
  },
  {
   "cell_type": "markdown",
   "metadata": {},
   "source": [
    "**«ceiling_height»**"
   ]
  },
  {
   "cell_type": "code",
   "execution_count": 18,
   "metadata": {},
   "outputs": [],
   "source": [
    "very_high_ceilings = data.query('ceiling_height > 10')['ceiling_height']\n",
    "ceilings_normal_height = []\n",
    "\n",
    "def lowering_ceiling(value):\n",
    "    for i in value:\n",
    "        division = i / 10\n",
    "        ceilings_normal_height.append(division)\n",
    "        \n",
    "\n",
    "result = lowering_ceiling(very_high_ceilings)\n",
    "\n",
    "\n",
    "indices = very_high_ceilings.index\n",
    "\n",
    "for i, v in zip(indices, ceilings_normal_height):\n",
    "    data.at[i, 'ceiling_height'] = v"
   ]
  },
  {
   "cell_type": "markdown",
   "metadata": {},
   "source": [
    "В столбце «ceiling_height» некоторые значения высоты потолков равны высоте двухэтажных и более домов. Можно предположить, что на самом деле это вещественные значения, а не целые числа. Исправим эту ошибку."
   ]
  },
  {
   "cell_type": "code",
   "execution_count": 19,
   "metadata": {},
   "outputs": [],
   "source": [
    "data = data[(data['ceiling_height'] > 2) & (data['ceiling_height'] <= 6)]"
   ]
  },
  {
   "cell_type": "markdown",
   "metadata": {},
   "source": [
    "Минимальный стандарт высоты потолков составляет примерно 2,5 метра. При этом для комфортного проживания потолок должен быть не ниже 15–20 см над головой, поэтому потолки ниже 2 метров выглядят не очень реалистично. Также выглядят и потолки выше 7 метров. Удалим строки, в которых высота потолка меньше 2 метров и выше 6 метров."
   ]
  },
  {
   "cell_type": "markdown",
   "metadata": {},
   "source": [
    "**«last_price»**"
   ]
  },
  {
   "cell_type": "code",
   "execution_count": 20,
   "metadata": {},
   "outputs": [
    {
     "data": {
      "text/html": [
       "<div>\n",
       "<style scoped>\n",
       "    .dataframe tbody tr th:only-of-type {\n",
       "        vertical-align: middle;\n",
       "    }\n",
       "\n",
       "    .dataframe tbody tr th {\n",
       "        vertical-align: top;\n",
       "    }\n",
       "\n",
       "    .dataframe thead th {\n",
       "        text-align: right;\n",
       "    }\n",
       "</style>\n",
       "<table border=\"1\" class=\"dataframe\">\n",
       "  <thead>\n",
       "    <tr style=\"text-align: right;\">\n",
       "      <th></th>\n",
       "      <th>total_images</th>\n",
       "      <th>last_price</th>\n",
       "      <th>total_area</th>\n",
       "      <th>first_day_exposition</th>\n",
       "      <th>rooms</th>\n",
       "      <th>ceiling_height</th>\n",
       "      <th>floors_total</th>\n",
       "      <th>living_area</th>\n",
       "      <th>floor</th>\n",
       "      <th>is_apartment</th>\n",
       "      <th>studio</th>\n",
       "      <th>open_plan</th>\n",
       "      <th>kitchen_area</th>\n",
       "      <th>balcony</th>\n",
       "      <th>locality_name</th>\n",
       "      <th>airports_nearest</th>\n",
       "      <th>cityCenters_nearest</th>\n",
       "      <th>parks_around3000</th>\n",
       "      <th>parks_nearest</th>\n",
       "      <th>ponds_around3000</th>\n",
       "      <th>ponds_nearest</th>\n",
       "      <th>days_exposition</th>\n",
       "    </tr>\n",
       "  </thead>\n",
       "  <tbody>\n",
       "    <tr>\n",
       "      <th>8793</th>\n",
       "      <td>7</td>\n",
       "      <td>12190</td>\n",
       "      <td>109.0</td>\n",
       "      <td>2019-03-20</td>\n",
       "      <td>2</td>\n",
       "      <td>2.75</td>\n",
       "      <td>25.0</td>\n",
       "      <td>32.0</td>\n",
       "      <td>25</td>\n",
       "      <td>False</td>\n",
       "      <td>False</td>\n",
       "      <td>False</td>\n",
       "      <td>40.5</td>\n",
       "      <td>0.0</td>\n",
       "      <td>Санкт-Петербург</td>\n",
       "      <td>36421.0</td>\n",
       "      <td>9176.0</td>\n",
       "      <td>1.0</td>\n",
       "      <td>805.0</td>\n",
       "      <td>0.0</td>\n",
       "      <td>NaN</td>\n",
       "      <td>8.0</td>\n",
       "    </tr>\n",
       "  </tbody>\n",
       "</table>\n",
       "</div>"
      ],
      "text/plain": [
       "      total_images  last_price  total_area first_day_exposition  rooms  \\\n",
       "8793             7       12190       109.0           2019-03-20      2   \n",
       "\n",
       "      ceiling_height  floors_total  living_area  floor  is_apartment  studio  \\\n",
       "8793            2.75          25.0         32.0     25         False   False   \n",
       "\n",
       "      open_plan  kitchen_area  balcony    locality_name  airports_nearest  \\\n",
       "8793      False          40.5      0.0  Санкт-Петербург           36421.0   \n",
       "\n",
       "      cityCenters_nearest  parks_around3000  parks_nearest  ponds_around3000  \\\n",
       "8793               9176.0               1.0          805.0               0.0   \n",
       "\n",
       "      ponds_nearest  days_exposition  \n",
       "8793            NaN              8.0  "
      ]
     },
     "execution_count": 20,
     "metadata": {},
     "output_type": "execute_result"
    }
   ],
   "source": [
    "data.query('last_price < 100000')"
   ]
  },
  {
   "cell_type": "markdown",
   "metadata": {},
   "source": [
    "В столбце «last_price» присутствует строка со значением 12190. Скорее всего, что это число указано в тысячах. Исправим эту ошибку."
   ]
  },
  {
   "cell_type": "code",
   "execution_count": 21,
   "metadata": {},
   "outputs": [],
   "source": [
    "data['last_price'] = data['last_price'].replace(12190, 12190000)"
   ]
  },
  {
   "cell_type": "code",
   "execution_count": 22,
   "metadata": {},
   "outputs": [],
   "source": [
    "data = data[data['last_price'] < 100000000] "
   ]
  },
  {
   "cell_type": "markdown",
   "metadata": {},
   "source": [
    "<font color='blue'> Удалим аномальные значения стоимости квартир, которые превышают 100 000 000. </font>"
   ]
  },
  {
   "cell_type": "markdown",
   "metadata": {},
   "source": [
    "<div class=\"alert alert-danger\">\n",
    "<b>❌ Комментарий ревьюера v1:</b> \n",
    "<br>Аномалии остались. Давай разберём на примере общей площади (график ниже). На графике чётко видно, что после 200м квартир практически нет, а после 300 линии даже не видно. В данном случае аномальными значениями можно считать все квартиры больше 200-300м. Значит эти значения нужно отбросить. Удали аномалии в столбцах с общей площадью, общей ценой и количеством комнат\n",
    "</div>\n"
   ]
  },
  {
   "cell_type": "code",
   "execution_count": 23,
   "metadata": {},
   "outputs": [
    {
     "data": {
      "image/png": "[encoded data removed]",
      "text/plain": [
       "<Figure size 432x288 with 1 Axes>"
      ]
     },
     "metadata": {
      "needs_background": "light"
     },
     "output_type": "display_data"
    }
   ],
   "source": [
    "#код ревьюера\n",
    "data2 = pd.read_csv('/datasets/real_estate_data.csv', sep='\\t')\n",
    "(data2['total_area']).hist(bins=30);"
   ]
  },
  {
   "cell_type": "markdown",
   "metadata": {},
   "source": [
    "**«floors_total»** "
   ]
  },
  {
   "cell_type": "code",
   "execution_count": 24,
   "metadata": {},
   "outputs": [],
   "source": [
    "data = data[data['floors_total'] <= 37]"
   ]
  },
  {
   "cell_type": "markdown",
   "metadata": {},
   "source": [
    "Самое высокое здание в Санкт-Петербурге — это ЖК «Князь Александр Невский», в нём 37 этажей. Удалим строки, в которых больше 37 этажей."
   ]
  },
  {
   "cell_type": "markdown",
   "metadata": {},
   "source": [
    "<font color='blue'> «rooms» </font>"
   ]
  },
  {
   "cell_type": "code",
   "execution_count": 25,
   "metadata": {},
   "outputs": [],
   "source": [
    "data = data[data['rooms'] <= 8]"
   ]
  },
  {
   "cell_type": "markdown",
   "metadata": {},
   "source": [
    "<font color='blue'> Чтобы исключить из анализа аномалии, удалим данные о квартирах с количеством комнат больше 8. </font>"
   ]
  },
  {
   "cell_type": "markdown",
   "metadata": {},
   "source": [
    "<font color='blue'> «total_area» </font>"
   ]
  },
  {
   "cell_type": "code",
   "execution_count": 26,
   "metadata": {},
   "outputs": [],
   "source": [
    "data = data[data['total_area'] <= 300]"
   ]
  },
  {
   "cell_type": "markdown",
   "metadata": {},
   "source": [
    "<font color='blue'> Удалим аномальные значения площади квартир, которые больше 300 м². </font>"
   ]
  },
  {
   "cell_type": "markdown",
   "metadata": {},
   "source": [
    "<div class=\"alert alert-success\">\n",
    "<b>✔️ Комментарий ревьюера v2:</b>\n",
    "<br>Отлично! Теперь всё верно)\n",
    "</div>"
   ]
  },
  {
   "cell_type": "markdown",
   "metadata": {
    "id": "QCcvyY6YAwb-"
   },
   "source": [
    "## Промежуточные вычисления"
   ]
  },
  {
   "cell_type": "code",
   "execution_count": 27,
   "metadata": {
    "id": "Z8eJek3IAwb-"
   },
   "outputs": [],
   "source": [
    "data['square_meter_price'] = (data['last_price'] / data['total_area']).round(2)"
   ]
  },
  {
   "cell_type": "markdown",
   "metadata": {},
   "source": [
    "Добавим в таблицу столбец «square_meter_price», который будет хранить в себе цену одного квадратного метра."
   ]
  },
  {
   "cell_type": "code",
   "execution_count": 28,
   "metadata": {},
   "outputs": [],
   "source": [
    "data['day_week_publication'] = data['first_day_exposition'].dt.weekday"
   ]
  },
  {
   "cell_type": "markdown",
   "metadata": {},
   "source": [
    "Добавим в таблицу столбец «day_week_publication», который будет хранить в себе номер дня недели публикации объявления."
   ]
  },
  {
   "cell_type": "code",
   "execution_count": 29,
   "metadata": {},
   "outputs": [],
   "source": [
    "data['month_publication'] = data['first_day_exposition'].dt.month"
   ]
  },
  {
   "cell_type": "markdown",
   "metadata": {},
   "source": [
    "Добавим в таблицу столбец «month_publication», который будет хранить в себе месяц публикации объявления."
   ]
  },
  {
   "cell_type": "code",
   "execution_count": 30,
   "metadata": {},
   "outputs": [],
   "source": [
    "data['year_publication'] = data['first_day_exposition'].dt.year"
   ]
  },
  {
   "cell_type": "markdown",
   "metadata": {},
   "source": [
    "Добавим в таблицу столбец «year_publication», который будет хранить в себе год публикации объявления."
   ]
  },
  {
   "cell_type": "code",
   "execution_count": 31,
   "metadata": {},
   "outputs": [],
   "source": [
    "def categorize_floor(value):\n",
    "    floor = value['floor']\n",
    "    floors_total = value['floors_total']\n",
    "    \n",
    "    if floor == 1:\n",
    "        return 'первый'\n",
    "    elif floor == floors_total:\n",
    "        return 'последний'\n",
    "    else:\n",
    "        return 'другой'\n",
    "    \n",
    "data['type_floor'] = data.apply(categorize_floor, axis=1)    "
   ]
  },
  {
   "cell_type": "markdown",
   "metadata": {},
   "source": [
    "Добавим в таблицу столбец «type_floor», который будет хранить в себе тип этажа квартиры."
   ]
  },
  {
   "cell_type": "code",
   "execution_count": 32,
   "metadata": {},
   "outputs": [],
   "source": [
    "data['city_centers_nearest_km'] = (data['cityCenters_nearest'] / 1000).round(0)"
   ]
  },
  {
   "cell_type": "markdown",
   "metadata": {},
   "source": [
    "Добавим в таблицу столбец «city_centers_nearest_km», который будет хранить в себе расстояние до центра города в километрах."
   ]
  },
  {
   "cell_type": "markdown",
   "metadata": {},
   "source": [
    "<div class=\"alert alert-success\">\n",
    "<b>✔️ Комментарий ревьюера v1:</b> \n",
    "<br>Все необходимые колонки добавлены. Идём дальше)\n",
    "</div>"
   ]
  },
  {
   "cell_type": "markdown",
   "metadata": {
    "id": "pPyxrKWTAwb-"
   },
   "source": [
    "## Исследовательский анализ данных"
   ]
  },
  {
   "cell_type": "markdown",
   "metadata": {},
   "source": [
    "### Общая площадь"
   ]
  },
  {
   "cell_type": "code",
   "execution_count": 33,
   "metadata": {},
   "outputs": [
    {
     "data": {
      "text/plain": [
       "count    23448.000000\n",
       "mean        59.192884\n",
       "std         29.807379\n",
       "min         12.000000\n",
       "25%         40.000000\n",
       "50%         52.000000\n",
       "75%         69.100000\n",
       "max        300.000000\n",
       "Name: total_area, dtype: float64"
      ]
     },
     "execution_count": 33,
     "metadata": {},
     "output_type": "execute_result"
    }
   ],
   "source": [
    "data['total_area'].describe()"
   ]
  },
  {
   "cell_type": "code",
   "execution_count": 34,
   "metadata": {
    "id": "V2f0D3kLAwb-"
   },
   "outputs": [
    {
     "data": {
      "text/plain": [
       "<AxesSubplot:>"
      ]
     },
     "execution_count": 34,
     "metadata": {},
     "output_type": "execute_result"
    },
    {
     "data": {
      "image/png": "[encoded data removed]",
      "text/plain": [
       "<Figure size 432x288 with 1 Axes>"
      ]
     },
     "metadata": {
      "needs_background": "light"
     },
     "output_type": "display_data"
    }
   ],
   "source": [
    "data['total_area'].hist(bins=40)"
   ]
  },
  {
   "cell_type": "markdown",
   "metadata": {},
   "source": [
    "**Вывод:**\n",
    "\n",
    "Анализ графика показывает, что большинство квартир имеют  общую площадь в диапазоне приблизительно от 25 до 100 м². Однако, наблюдаются и единичные случаи квартир с площадью превывающей 200 м², что характерно для объектов элитной недвижимости."
   ]
  },
  {
   "cell_type": "markdown",
   "metadata": {},
   "source": [
    "### Жилая площадь"
   ]
  },
  {
   "cell_type": "code",
   "execution_count": 35,
   "metadata": {},
   "outputs": [
    {
     "data": {
      "text/plain": [
       "count    21600.000000\n",
       "mean        33.884685\n",
       "std         19.381754\n",
       "min          2.000000\n",
       "25%         18.600000\n",
       "50%         30.000000\n",
       "75%         42.100000\n",
       "max        250.000000\n",
       "Name: living_area, dtype: float64"
      ]
     },
     "execution_count": 35,
     "metadata": {},
     "output_type": "execute_result"
    }
   ],
   "source": [
    "data['living_area'].describe()"
   ]
  },
  {
   "cell_type": "code",
   "execution_count": 36,
   "metadata": {},
   "outputs": [
    {
     "data": {
      "text/plain": [
       "<AxesSubplot:>"
      ]
     },
     "execution_count": 36,
     "metadata": {},
     "output_type": "execute_result"
    },
    {
     "data": {
      "image/png": "[encoded data removed]",
      "text/plain": [
       "<Figure size 432x288 with 1 Axes>"
      ]
     },
     "metadata": {
      "needs_background": "light"
     },
     "output_type": "display_data"
    }
   ],
   "source": [
    "data['living_area'].hist(bins=40)"
   ]
  },
  {
   "cell_type": "markdown",
   "metadata": {},
   "source": [
    "**Вывод:**\n",
    "\n",
    "Наибольшее количество предложений приходится на квартиры с жилой площадью приблизительно от 15 до 60 м²."
   ]
  },
  {
   "cell_type": "markdown",
   "metadata": {},
   "source": [
    "### Площадь кухни"
   ]
  },
  {
   "cell_type": "code",
   "execution_count": 37,
   "metadata": {},
   "outputs": [
    {
     "data": {
      "text/plain": [
       "count    21246.000000\n",
       "mean        10.474999\n",
       "std          5.609864\n",
       "min          1.300000\n",
       "25%          7.000000\n",
       "50%          9.100000\n",
       "75%         12.000000\n",
       "max        107.000000\n",
       "Name: kitchen_area, dtype: float64"
      ]
     },
     "execution_count": 37,
     "metadata": {},
     "output_type": "execute_result"
    }
   ],
   "source": [
    "data['kitchen_area'].describe()"
   ]
  },
  {
   "cell_type": "code",
   "execution_count": 38,
   "metadata": {},
   "outputs": [
    {
     "data": {
      "text/plain": [
       "<AxesSubplot:>"
      ]
     },
     "execution_count": 38,
     "metadata": {},
     "output_type": "execute_result"
    },
    {
     "data": {
      "image/png": "[encoded data removed]",
      "text/plain": [
       "<Figure size 432x288 with 1 Axes>"
      ]
     },
     "metadata": {
      "needs_background": "light"
     },
     "output_type": "display_data"
    }
   ],
   "source": [
    "data['kitchen_area'].hist(bins=40)"
   ]
  },
  {
   "cell_type": "markdown",
   "metadata": {},
   "source": [
    "**Вывод:**\n",
    "\n",
    "В основном в данных представлены квартиры, площадь кухни которых находится в диапазоне примерно от 5 до 20 м²."
   ]
  },
  {
   "cell_type": "markdown",
   "metadata": {},
   "source": [
    "### Цена объекта"
   ]
  },
  {
   "cell_type": "code",
   "execution_count": 39,
   "metadata": {},
   "outputs": [
    {
     "data": {
      "text/plain": [
       "count    2.344800e+04\n",
       "mean     6.160524e+06\n",
       "std      6.063534e+06\n",
       "min      4.300000e+05\n",
       "25%      3.400000e+06\n",
       "50%      4.600000e+06\n",
       "75%      6.700000e+06\n",
       "max      9.900000e+07\n",
       "Name: last_price, dtype: float64"
      ]
     },
     "execution_count": 39,
     "metadata": {},
     "output_type": "execute_result"
    }
   ],
   "source": [
    "data['last_price'].describe()"
   ]
  },
  {
   "cell_type": "code",
   "execution_count": 40,
   "metadata": {},
   "outputs": [
    {
     "data": {
      "text/plain": [
       "<AxesSubplot:>"
      ]
     },
     "execution_count": 40,
     "metadata": {},
     "output_type": "execute_result"
    },
    {
     "data": {
      "image/png": "[encoded data removed]",
      "text/plain": [
       "<Figure size 576x360 with 1 Axes>"
      ]
     },
     "metadata": {
      "needs_background": "light"
     },
     "output_type": "display_data"
    }
   ],
   "source": [
    "last_price_divide_by_million = data['last_price'] / 1000000\n",
    "last_price_divide_by_million.hist(bins=100, figsize=(8, 5), range=(0, 40))"
   ]
  },
  {
   "cell_type": "markdown",
   "metadata": {},
   "source": [
    "<div class=\"alert alert-danger\">\n",
    "<b>❌ Комментарий ревьюера v1:</b> \n",
    "<br>Тут необходимо поиграться с параметром range, чтобы график стал более понятным, а если ещё разделить все значения на 1млн, то будет совсем хорошо)\n",
    "</div>"
   ]
  },
  {
   "cell_type": "markdown",
   "metadata": {},
   "source": [
    "<div class=\"alert alert-success\">\n",
    "<b>✔️ Комментарий ревьюера v2:</b>\n",
    "<br>Правка выполнена 👍\n",
    "</div>"
   ]
  },
  {
   "cell_type": "markdown",
   "metadata": {},
   "source": [
    "**Вывод:**\n",
    "\n",
    "На гистограмме видно, что основная часть квартир находится в ценовом диапазоне приблизительно до 9 000 000 рублей."
   ]
  },
  {
   "cell_type": "markdown",
   "metadata": {},
   "source": [
    "### Количество комнат"
   ]
  },
  {
   "cell_type": "code",
   "execution_count": 41,
   "metadata": {},
   "outputs": [
    {
     "data": {
      "text/plain": [
       "count    23448.000000\n",
       "mean         2.053267\n",
       "std          1.025135\n",
       "min          0.000000\n",
       "25%          1.000000\n",
       "50%          2.000000\n",
       "75%          3.000000\n",
       "max          8.000000\n",
       "Name: rooms, dtype: float64"
      ]
     },
     "execution_count": 41,
     "metadata": {},
     "output_type": "execute_result"
    }
   ],
   "source": [
    "data['rooms'].describe()"
   ]
  },
  {
   "cell_type": "code",
   "execution_count": 42,
   "metadata": {},
   "outputs": [
    {
     "data": {
      "text/plain": [
       "<AxesSubplot:>"
      ]
     },
     "execution_count": 42,
     "metadata": {},
     "output_type": "execute_result"
    },
    {
     "data": {
      "image/png": "[encoded data removed]",
      "text/plain": [
       "<Figure size 432x288 with 1 Axes>"
      ]
     },
     "metadata": {
      "needs_background": "light"
     },
     "output_type": "display_data"
    }
   ],
   "source": [
    "data['rooms'].hist()"
   ]
  },
  {
   "cell_type": "markdown",
   "metadata": {},
   "source": [
    "**Вывод:**\n",
    "\n",
    "В основном в данных представлены квартиры с количеством комнат от 0 (что характерно для студий, апартаментов или квартир со свободной планировкой) до 3."
   ]
  },
  {
   "cell_type": "markdown",
   "metadata": {},
   "source": [
    "### Высота потолков"
   ]
  },
  {
   "cell_type": "code",
   "execution_count": 43,
   "metadata": {},
   "outputs": [
    {
     "data": {
      "text/plain": [
       "count    23448.000000\n",
       "mean         2.695051\n",
       "std          0.214362\n",
       "min          2.200000\n",
       "25%          2.600000\n",
       "50%          2.650000\n",
       "75%          2.700000\n",
       "max          5.800000\n",
       "Name: ceiling_height, dtype: float64"
      ]
     },
     "execution_count": 43,
     "metadata": {},
     "output_type": "execute_result"
    }
   ],
   "source": [
    "data['ceiling_height'].describe()"
   ]
  },
  {
   "cell_type": "code",
   "execution_count": 44,
   "metadata": {},
   "outputs": [
    {
     "data": {
      "text/plain": [
       "<AxesSubplot:>"
      ]
     },
     "execution_count": 44,
     "metadata": {},
     "output_type": "execute_result"
    },
    {
     "data": {
      "image/png": "[encoded data removed]",
      "text/plain": [
       "<Figure size 432x288 with 1 Axes>"
      ]
     },
     "metadata": {
      "needs_background": "light"
     },
     "output_type": "display_data"
    }
   ],
   "source": [
    "data['ceiling_height'].hist()"
   ]
  },
  {
   "cell_type": "markdown",
   "metadata": {},
   "source": [
    "Высота потолков в основном составляет примерно от 2,3 до 3 метров."
   ]
  },
  {
   "cell_type": "markdown",
   "metadata": {},
   "source": [
    "### Тип этажа квартиры"
   ]
  },
  {
   "cell_type": "code",
   "execution_count": 45,
   "metadata": {},
   "outputs": [
    {
     "data": {
      "text/plain": [
       "count      23448\n",
       "unique         3\n",
       "top       другой\n",
       "freq       17258\n",
       "Name: type_floor, dtype: object"
      ]
     },
     "execution_count": 45,
     "metadata": {},
     "output_type": "execute_result"
    }
   ],
   "source": [
    "data['type_floor'].describe()"
   ]
  },
  {
   "cell_type": "code",
   "execution_count": 46,
   "metadata": {},
   "outputs": [
    {
     "data": {
      "text/plain": [
       "<AxesSubplot:>"
      ]
     },
     "execution_count": 46,
     "metadata": {},
     "output_type": "execute_result"
    },
    {
     "data": {
      "image/png": "[encoded data removed]",
      "text/plain": [
       "<Figure size 432x288 with 1 Axes>"
      ]
     },
     "metadata": {
      "needs_background": "light"
     },
     "output_type": "display_data"
    }
   ],
   "source": [
    "data['type_floor'].hist()"
   ]
  },
  {
   "cell_type": "markdown",
   "metadata": {},
   "source": [
    "В датафрейме представлено меньше квартир на первом этаже, чем на последнем. Количество квартир, расположенных на этажах, типа «другой», составляет 17393, что превышает суммарное количество квартир на первом и последнем этажах. "
   ]
  },
  {
   "cell_type": "markdown",
   "metadata": {},
   "source": [
    "### Общее количество этажей в доме"
   ]
  },
  {
   "cell_type": "code",
   "execution_count": 47,
   "metadata": {},
   "outputs": [
    {
     "data": {
      "text/plain": [
       "count    23448.000000\n",
       "mean        10.688715\n",
       "std          6.583940\n",
       "min          1.000000\n",
       "25%          5.000000\n",
       "50%          9.000000\n",
       "75%         16.000000\n",
       "max         36.000000\n",
       "Name: floors_total, dtype: float64"
      ]
     },
     "execution_count": 47,
     "metadata": {},
     "output_type": "execute_result"
    }
   ],
   "source": [
    "data['floors_total'].describe()"
   ]
  },
  {
   "cell_type": "code",
   "execution_count": 48,
   "metadata": {},
   "outputs": [
    {
     "data": {
      "text/plain": [
       "<AxesSubplot:>"
      ]
     },
     "execution_count": 48,
     "metadata": {},
     "output_type": "execute_result"
    },
    {
     "data": {
      "image/png": "[encoded data removed]",
      "text/plain": [
       "<Figure size 432x288 with 1 Axes>"
      ]
     },
     "metadata": {
      "needs_background": "light"
     },
     "output_type": "display_data"
    }
   ],
   "source": [
    "data['floors_total'].hist(bins=30)"
   ]
  },
  {
   "cell_type": "code",
   "execution_count": 49,
   "metadata": {},
   "outputs": [
    {
     "data": {
      "text/plain": [
       "5.0     5750\n",
       "9.0     3752\n",
       "16.0    1371\n",
       "12.0    1358\n",
       "4.0     1181\n",
       "10.0    1173\n",
       "25.0    1074\n",
       "6.0      893\n",
       "17.0     831\n",
       "3.0      657\n",
       "7.0      574\n",
       "14.0     552\n",
       "18.0     504\n",
       "24.0     462\n",
       "8.0      381\n",
       "2.0      376\n",
       "15.0     364\n",
       "23.0     349\n",
       "19.0     339\n",
       "22.0     286\n",
       "20.0     269\n",
       "13.0     228\n",
       "11.0     202\n",
       "27.0     164\n",
       "21.0     158\n",
       "26.0     124\n",
       "1.0       25\n",
       "35.0      24\n",
       "28.0      21\n",
       "36.0       3\n",
       "34.0       1\n",
       "33.0       1\n",
       "29.0       1\n",
       "Name: floors_total, dtype: int64"
      ]
     },
     "execution_count": 49,
     "metadata": {},
     "output_type": "execute_result"
    }
   ],
   "source": [
    "data['floors_total'].value_counts()"
   ]
  },
  {
   "cell_type": "markdown",
   "metadata": {},
   "source": [
    "По количеству объявлений лидируют пятиэтажные дома, значительно опережая остальные. На втором месте находятся девятиэтажные дома, также с заметным отрывом. Третье место делят между собой дома в 12 и 16 этажей."
   ]
  },
  {
   "cell_type": "markdown",
   "metadata": {},
   "source": [
    "### Расстояние до центра города в метрах"
   ]
  },
  {
   "cell_type": "code",
   "execution_count": 50,
   "metadata": {},
   "outputs": [
    {
     "data": {
      "text/plain": [
       "count    17959.000000\n",
       "mean     14227.678323\n",
       "std       8604.854288\n",
       "min        181.000000\n",
       "25%       9289.500000\n",
       "50%      13123.000000\n",
       "75%      16293.000000\n",
       "max      65968.000000\n",
       "Name: cityCenters_nearest, dtype: float64"
      ]
     },
     "execution_count": 50,
     "metadata": {},
     "output_type": "execute_result"
    }
   ],
   "source": [
    "data['cityCenters_nearest'].describe()"
   ]
  },
  {
   "cell_type": "code",
   "execution_count": 51,
   "metadata": {},
   "outputs": [
    {
     "data": {
      "text/plain": [
       "<AxesSubplot:>"
      ]
     },
     "execution_count": 51,
     "metadata": {},
     "output_type": "execute_result"
    },
    {
     "data": {
      "image/png": "[encoded data removed]",
      "text/plain": [
       "<Figure size 432x288 with 1 Axes>"
      ]
     },
     "metadata": {
      "needs_background": "light"
     },
     "output_type": "display_data"
    }
   ],
   "source": [
    "data['cityCenters_nearest'].hist()"
   ]
  },
  {
   "cell_type": "markdown",
   "metadata": {},
   "source": [
    "Основная часть представленной в данных недвижимости расположена на расстоянии от 8 до 20 километров от центра города. Кроме того, в данных представлено больше недвижимости, расположенной в радиусе 8 километров от центра города, чем объектов, находящихся на расстоянии более 20 километров от центра."
   ]
  },
  {
   "cell_type": "markdown",
   "metadata": {},
   "source": [
    "### Расстояние до ближайшего парка"
   ]
  },
  {
   "cell_type": "code",
   "execution_count": 52,
   "metadata": {},
   "outputs": [
    {
     "data": {
      "text/plain": [
       "count    7954.000000\n",
       "mean      491.022630\n",
       "std       342.147844\n",
       "min         1.000000\n",
       "25%       288.000000\n",
       "50%       455.000000\n",
       "75%       612.000000\n",
       "max      3190.000000\n",
       "Name: parks_nearest, dtype: float64"
      ]
     },
     "execution_count": 52,
     "metadata": {},
     "output_type": "execute_result"
    }
   ],
   "source": [
    "data['parks_nearest'].describe()"
   ]
  },
  {
   "cell_type": "code",
   "execution_count": 53,
   "metadata": {},
   "outputs": [
    {
     "data": {
      "text/plain": [
       "<AxesSubplot:>"
      ]
     },
     "execution_count": 53,
     "metadata": {},
     "output_type": "execute_result"
    },
    {
     "data": {
      "image/png": "[encoded data removed]",
      "text/plain": [
       "<Figure size 432x288 with 1 Axes>"
      ]
     },
     "metadata": {
      "needs_background": "light"
     },
     "output_type": "display_data"
    }
   ],
   "source": [
    "data['parks_nearest'].hist()"
   ]
  },
  {
   "cell_type": "markdown",
   "metadata": {},
   "source": [
    "Большинство квартир расположено приблизительно в радиусе до 600 метров от парков."
   ]
  },
  {
   "cell_type": "code",
   "execution_count": 54,
   "metadata": {},
   "outputs": [
    {
     "data": {
      "text/html": [
       "<div>\n",
       "<style scoped>\n",
       "    .dataframe tbody tr th:only-of-type {\n",
       "        vertical-align: middle;\n",
       "    }\n",
       "\n",
       "    .dataframe tbody tr th {\n",
       "        vertical-align: top;\n",
       "    }\n",
       "\n",
       "    .dataframe thead th {\n",
       "        text-align: right;\n",
       "    }\n",
       "</style>\n",
       "<table border=\"1\" class=\"dataframe\">\n",
       "  <thead>\n",
       "    <tr style=\"text-align: right;\">\n",
       "      <th></th>\n",
       "      <th>parks_nearest</th>\n",
       "      <th>locality_name</th>\n",
       "      <th>type_floor</th>\n",
       "      <th>rooms</th>\n",
       "      <th>total_area</th>\n",
       "      <th>square_meter_price</th>\n",
       "    </tr>\n",
       "  </thead>\n",
       "  <tbody>\n",
       "    <tr>\n",
       "      <th>2527</th>\n",
       "      <td>9.0</td>\n",
       "      <td>Кронштадт</td>\n",
       "      <td>другой</td>\n",
       "      <td>2</td>\n",
       "      <td>60.3</td>\n",
       "      <td>77777.78</td>\n",
       "    </tr>\n",
       "    <tr>\n",
       "      <th>9344</th>\n",
       "      <td>7.0</td>\n",
       "      <td>Санкт-Петербург</td>\n",
       "      <td>первый</td>\n",
       "      <td>1</td>\n",
       "      <td>28.1</td>\n",
       "      <td>106761.57</td>\n",
       "    </tr>\n",
       "    <tr>\n",
       "      <th>11949</th>\n",
       "      <td>3.0</td>\n",
       "      <td>Санкт-Петербург</td>\n",
       "      <td>другой</td>\n",
       "      <td>2</td>\n",
       "      <td>44.0</td>\n",
       "      <td>102272.73</td>\n",
       "    </tr>\n",
       "    <tr>\n",
       "      <th>14624</th>\n",
       "      <td>1.0</td>\n",
       "      <td>Санкт-Петербург</td>\n",
       "      <td>другой</td>\n",
       "      <td>2</td>\n",
       "      <td>45.4</td>\n",
       "      <td>83039.65</td>\n",
       "    </tr>\n",
       "    <tr>\n",
       "      <th>20193</th>\n",
       "      <td>9.0</td>\n",
       "      <td>Санкт-Петербург</td>\n",
       "      <td>другой</td>\n",
       "      <td>3</td>\n",
       "      <td>102.6</td>\n",
       "      <td>115104.00</td>\n",
       "    </tr>\n",
       "    <tr>\n",
       "      <th>22941</th>\n",
       "      <td>4.0</td>\n",
       "      <td>Зеленогорск</td>\n",
       "      <td>последний</td>\n",
       "      <td>1</td>\n",
       "      <td>69.3</td>\n",
       "      <td>158225.11</td>\n",
       "    </tr>\n",
       "  </tbody>\n",
       "</table>\n",
       "</div>"
      ],
      "text/plain": [
       "       parks_nearest    locality_name type_floor  rooms  total_area  \\\n",
       "2527             9.0        Кронштадт     другой      2        60.3   \n",
       "9344             7.0  Санкт-Петербург     первый      1        28.1   \n",
       "11949            3.0  Санкт-Петербург     другой      2        44.0   \n",
       "14624            1.0  Санкт-Петербург     другой      2        45.4   \n",
       "20193            9.0  Санкт-Петербург     другой      3       102.6   \n",
       "22941            4.0      Зеленогорск  последний      1        69.3   \n",
       "\n",
       "       square_meter_price  \n",
       "2527             77777.78  \n",
       "9344            106761.57  \n",
       "11949           102272.73  \n",
       "14624            83039.65  \n",
       "20193           115104.00  \n",
       "22941           158225.11  "
      ]
     },
     "execution_count": 54,
     "metadata": {},
     "output_type": "execute_result"
    }
   ],
   "source": [
    "data.query('parks_nearest < 10')[['parks_nearest', 'locality_name', 'type_floor', 'rooms', 'total_area', 'square_meter_price']]"
   ]
  },
  {
   "cell_type": "markdown",
   "metadata": {},
   "source": [
    "В данных представлено 6 вариантов, где парк находится буквально через дорогу или даже на расстоянии одного шага."
   ]
  },
  {
   "cell_type": "markdown",
   "metadata": {},
   "source": [
    "<div class=\"alert alert-success\">\n",
    "<b>✔️ Комментарий ревьюера v1:</b> \n",
    "<br>Для остальных графиков ты корректно подбираешь основные диапазоны, а также верно читаешь графики! \n",
    "</div>"
   ]
  },
  {
   "cell_type": "markdown",
   "metadata": {},
   "source": [
    "### Скорость продажи квартир"
   ]
  },
  {
   "cell_type": "code",
   "execution_count": 55,
   "metadata": {},
   "outputs": [
    {
     "data": {
      "text/plain": [
       "count    20300.000000\n",
       "mean       180.320887\n",
       "std        219.346059\n",
       "min          1.000000\n",
       "25%         45.000000\n",
       "50%         95.000000\n",
       "75%        230.000000\n",
       "max       1580.000000\n",
       "Name: days_exposition, dtype: float64"
      ]
     },
     "execution_count": 55,
     "metadata": {},
     "output_type": "execute_result"
    }
   ],
   "source": [
    "data['days_exposition'].describe()"
   ]
  },
  {
   "cell_type": "code",
   "execution_count": 56,
   "metadata": {},
   "outputs": [
    {
     "data": {
      "text/plain": [
       "<AxesSubplot:>"
      ]
     },
     "execution_count": 56,
     "metadata": {},
     "output_type": "execute_result"
    },
    {
     "data": {
      "image/png": "[encoded data removed]",
      "text/plain": [
       "<Figure size 576x360 with 1 Axes>"
      ]
     },
     "metadata": {
      "needs_background": "light"
     },
     "output_type": "display_data"
    }
   ],
   "source": [
    "data['days_exposition'].hist(bins=200, figsize=(8, 5))"
   ]
  },
  {
   "cell_type": "markdown",
   "metadata": {},
   "source": [
    " 🤔 Пик гистограммы совпадает с медианой. Гистограмма имеет длинный хвост, образованный редкими большими значениями, что должно оказывать значительное влияние на среднее значение."
   ]
  },
  {
   "cell_type": "code",
   "execution_count": 57,
   "metadata": {},
   "outputs": [
    {
     "data": {
      "text/html": [
       "<div>\n",
       "<style scoped>\n",
       "    .dataframe tbody tr th:only-of-type {\n",
       "        vertical-align: middle;\n",
       "    }\n",
       "\n",
       "    .dataframe tbody tr th {\n",
       "        vertical-align: top;\n",
       "    }\n",
       "\n",
       "    .dataframe thead th {\n",
       "        text-align: right;\n",
       "    }\n",
       "</style>\n",
       "<table border=\"1\" class=\"dataframe\">\n",
       "  <thead>\n",
       "    <tr style=\"text-align: right;\">\n",
       "      <th></th>\n",
       "      <th>среднее</th>\n",
       "      <th>медиана</th>\n",
       "      <th>количество</th>\n",
       "    </tr>\n",
       "    <tr>\n",
       "      <th>rooms</th>\n",
       "      <th></th>\n",
       "      <th></th>\n",
       "      <th></th>\n",
       "    </tr>\n",
       "  </thead>\n",
       "  <tbody>\n",
       "    <tr>\n",
       "      <th>0</th>\n",
       "      <td>110.435754</td>\n",
       "      <td>49.0</td>\n",
       "      <td>179</td>\n",
       "    </tr>\n",
       "    <tr>\n",
       "      <th>1</th>\n",
       "      <td>158.919828</td>\n",
       "      <td>81.0</td>\n",
       "      <td>7222</td>\n",
       "    </tr>\n",
       "    <tr>\n",
       "      <th>2</th>\n",
       "      <td>172.958776</td>\n",
       "      <td>91.0</td>\n",
       "      <td>6865</td>\n",
       "    </tr>\n",
       "    <tr>\n",
       "      <th>3</th>\n",
       "      <td>203.941238</td>\n",
       "      <td>114.0</td>\n",
       "      <td>4782</td>\n",
       "    </tr>\n",
       "    <tr>\n",
       "      <th>4</th>\n",
       "      <td>253.779826</td>\n",
       "      <td>154.0</td>\n",
       "      <td>922</td>\n",
       "    </tr>\n",
       "    <tr>\n",
       "      <th>5</th>\n",
       "      <td>297.575107</td>\n",
       "      <td>168.0</td>\n",
       "      <td>233</td>\n",
       "    </tr>\n",
       "  </tbody>\n",
       "</table>\n",
       "</div>"
      ],
      "text/plain": [
       "          среднее  медиана  количество\n",
       "rooms                                 \n",
       "0      110.435754     49.0         179\n",
       "1      158.919828     81.0        7222\n",
       "2      172.958776     91.0        6865\n",
       "3      203.941238    114.0        4782\n",
       "4      253.779826    154.0         922\n",
       "5      297.575107    168.0         233"
      ]
     },
     "execution_count": 57,
     "metadata": {},
     "output_type": "execute_result"
    }
   ],
   "source": [
    "\n",
    "    fast_purchase_because_rooms = data.pivot_table(\n",
    "    index='rooms', \n",
    "    values='days_exposition', \n",
    "    aggfunc=['mean', 'median', 'count']\n",
    ")\n",
    "\n",
    "fast_purchase_because_rooms.columns = ['среднее', 'медиана', 'количество']\n",
    " \n",
    "fast_purchase_because_rooms.query('количество > 100')\n"
   ]
  },
  {
   "cell_type": "markdown",
   "metadata": {},
   "source": [
    "Количество студий и квартир свободной планировки в выборке данных ограничено для формирования надежных выводов. Тем не менее, наблюдается тенденция, согласно которой жилье с меньшим количеством комнат имеет более низкую стоимость и продается быстрее. В частности, однокомнатные квартиры продаются быстрее, чем квартиры с большим количеством комнат, в то время как продажа четырех и пятикомнатных квартир может занимать значительное время."
   ]
  },
  {
   "cell_type": "code",
   "execution_count": 58,
   "metadata": {},
   "outputs": [
    {
     "data": {
      "text/html": [
       "<div>\n",
       "<style scoped>\n",
       "    .dataframe tbody tr th:only-of-type {\n",
       "        vertical-align: middle;\n",
       "    }\n",
       "\n",
       "    .dataframe tbody tr th {\n",
       "        vertical-align: top;\n",
       "    }\n",
       "\n",
       "    .dataframe thead th {\n",
       "        text-align: right;\n",
       "    }\n",
       "</style>\n",
       "<table border=\"1\" class=\"dataframe\">\n",
       "  <thead>\n",
       "    <tr style=\"text-align: right;\">\n",
       "      <th></th>\n",
       "      <th>среднее</th>\n",
       "      <th>медиана</th>\n",
       "      <th>количество</th>\n",
       "    </tr>\n",
       "    <tr>\n",
       "      <th>month_publication</th>\n",
       "      <th></th>\n",
       "      <th></th>\n",
       "      <th></th>\n",
       "    </tr>\n",
       "  </thead>\n",
       "  <tbody>\n",
       "    <tr>\n",
       "      <th>1</th>\n",
       "      <td>184.598431</td>\n",
       "      <td>88.0</td>\n",
       "      <td>1275</td>\n",
       "    </tr>\n",
       "    <tr>\n",
       "      <th>2</th>\n",
       "      <td>169.585022</td>\n",
       "      <td>90.0</td>\n",
       "      <td>2270</td>\n",
       "    </tr>\n",
       "    <tr>\n",
       "      <th>3</th>\n",
       "      <td>201.258691</td>\n",
       "      <td>108.0</td>\n",
       "      <td>1956</td>\n",
       "    </tr>\n",
       "    <tr>\n",
       "      <th>4</th>\n",
       "      <td>200.090970</td>\n",
       "      <td>125.0</td>\n",
       "      <td>1495</td>\n",
       "    </tr>\n",
       "    <tr>\n",
       "      <th>5</th>\n",
       "      <td>221.606140</td>\n",
       "      <td>134.0</td>\n",
       "      <td>1140</td>\n",
       "    </tr>\n",
       "    <tr>\n",
       "      <th>6</th>\n",
       "      <td>195.224096</td>\n",
       "      <td>114.0</td>\n",
       "      <td>1660</td>\n",
       "    </tr>\n",
       "    <tr>\n",
       "      <th>7</th>\n",
       "      <td>174.787918</td>\n",
       "      <td>92.0</td>\n",
       "      <td>1556</td>\n",
       "    </tr>\n",
       "    <tr>\n",
       "      <th>8</th>\n",
       "      <td>153.314607</td>\n",
       "      <td>82.0</td>\n",
       "      <td>1602</td>\n",
       "    </tr>\n",
       "    <tr>\n",
       "      <th>9</th>\n",
       "      <td>164.768979</td>\n",
       "      <td>89.0</td>\n",
       "      <td>1831</td>\n",
       "    </tr>\n",
       "    <tr>\n",
       "      <th>10</th>\n",
       "      <td>160.407233</td>\n",
       "      <td>91.0</td>\n",
       "      <td>1908</td>\n",
       "    </tr>\n",
       "    <tr>\n",
       "      <th>11</th>\n",
       "      <td>151.721158</td>\n",
       "      <td>74.0</td>\n",
       "      <td>2141</td>\n",
       "    </tr>\n",
       "    <tr>\n",
       "      <th>12</th>\n",
       "      <td>218.641201</td>\n",
       "      <td>98.0</td>\n",
       "      <td>1466</td>\n",
       "    </tr>\n",
       "  </tbody>\n",
       "</table>\n",
       "</div>"
      ],
      "text/plain": [
       "                      среднее  медиана  количество\n",
       "month_publication                                 \n",
       "1                  184.598431     88.0        1275\n",
       "2                  169.585022     90.0        2270\n",
       "3                  201.258691    108.0        1956\n",
       "4                  200.090970    125.0        1495\n",
       "5                  221.606140    134.0        1140\n",
       "6                  195.224096    114.0        1660\n",
       "7                  174.787918     92.0        1556\n",
       "8                  153.314607     82.0        1602\n",
       "9                  164.768979     89.0        1831\n",
       "10                 160.407233     91.0        1908\n",
       "11                 151.721158     74.0        2141\n",
       "12                 218.641201     98.0        1466"
      ]
     },
     "execution_count": 58,
     "metadata": {},
     "output_type": "execute_result"
    }
   ],
   "source": [
    "fast_purchase_in_month = data.pivot_table(\n",
    "    index='month_publication', \n",
    "    values='days_exposition', \n",
    "    aggfunc=['mean', 'median', 'count']\n",
    ")\n",
    "fast_purchase_in_month.columns = ['среднее', 'медиана', 'количество']\n",
    "fast_purchase_in_month"
   ]
  },
  {
   "cell_type": "markdown",
   "metadata": {},
   "source": [
    "🤔Наиболее активный спрос на квартиры наблюдается в ноябре, в то время как весной продажи  замедляются."
   ]
  },
  {
   "cell_type": "markdown",
   "metadata": {},
   "source": [
    "Предположим, что быстрые продажи — это продажи, которые заняли до трёх месяцев, а долгие — от шести и более. Рассчитаем медиану для этих диапазонов."
   ]
  },
  {
   "cell_type": "code",
   "execution_count": 59,
   "metadata": {},
   "outputs": [
    {
     "name": "stdout",
     "output_type": "stream",
     "text": [
      "Медиана быстрых продаж 45.0\n",
      "Медиана долгих продаж 349.0\n"
     ]
    }
   ],
   "source": [
    "print('Медиана быстрых продаж', data.query('days_exposition <= 95')['days_exposition'].median().round(0))\n",
    "\n",
    "print('Медиана долгих продаж', data.query('days_exposition >= 180')['days_exposition'].median().round(0))"
   ]
  },
  {
   "cell_type": "markdown",
   "metadata": {},
   "source": [
    "**Вывод:**\n",
    "\n",
    "Скорость продажи недвижимости зависит от множества факторов, включая доступность жилья и сезонные тенденции. Продажи, завершенные в течение полутора месяца, предполагаю можно считать быстрыми, в то время как продажи, занимающие более года, можно отнести к категории  долгих.\n"
   ]
  },
  {
   "cell_type": "markdown",
   "metadata": {},
   "source": [
    "<div class=\"alert alert-success\">\n",
    "<b>✔️ Комментарий ревьюера v1:</b> \n",
    "<br>Если интересно, то можно посмотреть на диапазон от 0 до 100 дней. Там есть пики, которым можно найти очень логичное объяснение</div>\n",
    "</div>"
   ]
  },
  {
   "cell_type": "markdown",
   "metadata": {},
   "source": [
    "### Факторы, влияющие на полную стоимость объекта"
   ]
  },
  {
   "cell_type": "markdown",
   "metadata": {},
   "source": [
    "#### Влияние общей площади на стоимость объекта"
   ]
  },
  {
   "cell_type": "code",
   "execution_count": 60,
   "metadata": {},
   "outputs": [
    {
     "data": {
      "image/png": "[encoded data removed]",
      "text/plain": [
       "<Figure size 504x360 with 1 Axes>"
      ]
     },
     "metadata": {
      "needs_background": "light"
     },
     "output_type": "display_data"
    }
   ],
   "source": [
    "data.plot(\n",
    "    x='last_price',\n",
    "    y='total_area', \n",
    "    grid=True, \n",
    "    kind='scatter', \n",
    "    alpha=0.3, \n",
    "    figsize=(7, 5)\n",
    ")\n",
    "plt.ylabel('Площадь квартиры (кв.м.)')\n",
    "plt.xlabel('Стоимость квартиры (руб.)')\n",
    "plt.title('Взаимосвязь общей площади и стоимости квартир')\n",
    "plt.show()"
   ]
  },
  {
   "cell_type": "markdown",
   "metadata": {},
   "source": [
    "**Вывод:**\n",
    "\n",
    "Диаграмма рассеяния демонстрирует положительную корреляцию между площадью квартир и их стоимостью. В целом, чем больше площадь квартиры, тем выше ее цена. Однако наблюдаются выбросы – отдельные точки, значительно отклоняющиеся от общей тенденции, что может указывать на наличие дорогих квартир небольшой площади, например, в элитных районах города."
   ]
  },
  {
   "cell_type": "markdown",
   "metadata": {},
   "source": [
    "#### Влияние жилой площади на стоимость объекта"
   ]
  },
  {
   "cell_type": "code",
   "execution_count": 61,
   "metadata": {},
   "outputs": [
    {
     "data": {
      "image/png": "[encoded data removed]",
      "text/plain": [
       "<Figure size 504x360 with 1 Axes>"
      ]
     },
     "metadata": {
      "needs_background": "light"
     },
     "output_type": "display_data"
    }
   ],
   "source": [
    "data.plot(\n",
    "    x='last_price',\n",
    "    y='living_area', \n",
    "    grid=True, \n",
    "    kind='scatter', \n",
    "    alpha=0.3, \n",
    "    figsize=(7, 5)\n",
    ")\n",
    "plt.ylabel('Жилая площадь(кв.м.)')\n",
    "plt.xlabel('Стоимость квартиры (руб.)')\n",
    "plt.title('Взаимосвязь жилой площади и стоимости квартир')\n",
    "plt.show() \n"
   ]
  },
  {
   "cell_type": "markdown",
   "metadata": {},
   "source": [
    "**Вывод:**\n",
    "\n",
    "На диаграмме рассеяния видно, что между жилой площадью квартир и их стоимостью прослеживается положительная корреляция. Чем больше жилая площадь, тем выше стоимость квартиры. Однако здесь также присутствуют выбросы. "
   ]
  },
  {
   "cell_type": "markdown",
   "metadata": {},
   "source": [
    "#### Влияние общей площади кухни на стоимость объекта"
   ]
  },
  {
   "cell_type": "code",
   "execution_count": 62,
   "metadata": {},
   "outputs": [
    {
     "data": {
      "image/png": "[encoded data removed]",
      "text/plain": [
       "<Figure size 504x360 with 1 Axes>"
      ]
     },
     "metadata": {
      "needs_background": "light"
     },
     "output_type": "display_data"
    }
   ],
   "source": [
    "data.plot(\n",
    "    x='last_price',\n",
    "    y='kitchen_area', \n",
    "    grid=True, \n",
    "    kind='scatter', \n",
    "    alpha=0.3, \n",
    "    figsize=(7, 5)\n",
    ")\n",
    "plt.ylabel('Площадь кухни (кв.м.)')\n",
    "plt.xlabel('Стоимость квартиры (руб.)')\n",
    "plt.title('Взаимосвязь площади кухни и стоимости квартир')\n",
    "plt.show() "
   ]
  },
  {
   "cell_type": "markdown",
   "metadata": {},
   "source": [
    "**Вывод:**\n",
    "\n",
    "Диаграмма рассеяния демонстрирует положительную корреляцию между площадью кухни и стоимостью квартиры. В целом, чем больше площадь кухни, тем выше стоимость квартиры. Однако, наблюдается значительное количество точек, расположенных в левой части графика при небольшой площади кухни, что говорит о том, что площадь кухни не является основным фактором, влияющим на стоимость квартиры."
   ]
  },
  {
   "cell_type": "markdown",
   "metadata": {},
   "source": [
    "#### Влияние количество комнат на стоимость объекта"
   ]
  },
  {
   "cell_type": "markdown",
   "metadata": {},
   "source": [
    "Перед построением столбчатой диаграммы исключим из данных квартиры с количеством комнат более 6, так как небольшое количество наблюдений в этих категориях делают выборку нерепрезентативной."
   ]
  },
  {
   "cell_type": "code",
   "execution_count": 63,
   "metadata": {},
   "outputs": [
    {
     "data": {
      "image/png": "[encoded data removed]",
      "text/plain": [
       "<Figure size 504x360 with 1 Axes>"
      ]
     },
     "metadata": {
      "needs_background": "light"
     },
     "output_type": "display_data"
    }
   ],
   "source": [
    "(\n",
    "    data.query('rooms <= 6').\n",
    "    pivot_table(index='rooms', \n",
    "                values='last_price', \n",
    "                aggfunc='median')\n",
    "    .plot(kind='bar', \n",
    "          grid=True,\n",
    "          figsize=(7, 5))\n",
    ")\n",
    "\n",
    "plt.ylabel('Стоимость квартиры (руб.)')\n",
    "plt.xlabel('Количество комнат')\n",
    "plt.title('Взаимосвязь количества комнат и стоимости квартир')\n",
    "plt.show() "
   ]
  },
  {
   "cell_type": "markdown",
   "metadata": {},
   "source": [
    "**Вывод:** \n",
    "\n",
    "На графике наблюдается положительная зависимость между количеством комнат в квартире и ее средней стоимостью: с увеличением количества комнат цена возрастает. Самые дорогие квартиры представлены в категории с 6 комнатами, а наиболее доступные — в категориях с 0-1 комнатами."
   ]
  },
  {
   "cell_type": "markdown",
   "metadata": {},
   "source": [
    "#### Влияние типа этажа, на котором расположена квартира на стоимость объекта"
   ]
  },
  {
   "cell_type": "code",
   "execution_count": 64,
   "metadata": {},
   "outputs": [
    {
     "data": {
      "image/png": "[encoded data removed]",
      "text/plain": [
       "<Figure size 504x360 with 1 Axes>"
      ]
     },
     "metadata": {
      "needs_background": "light"
     },
     "output_type": "display_data"
    }
   ],
   "source": [
    "(\n",
    "    data.pivot_table(index='type_floor', \n",
    "                     values='last_price', \n",
    "                     aggfunc='median')\n",
    "    .plot(kind='bar', \n",
    "          grid=True,\n",
    "          figsize=(7, 5))\n",
    ")\n",
    "\n",
    "\n",
    "plt.ylabel('Стоимость квартиры (руб.)')\n",
    "plt.xlabel('тип этажа')\n",
    "plt.title('Взаимосвязь типа этажа и стоимости квартир')\n",
    "plt.show()  \n",
    "\n"
   ]
  },
  {
   "cell_type": "markdown",
   "metadata": {},
   "source": [
    "**Вывод:**\n",
    "\n",
    "Медианная стоимость квартир на  других этажах  выше, чем  стоимость квартир на первом этаже."
   ]
  },
  {
   "cell_type": "markdown",
   "metadata": {},
   "source": [
    "#### Влияние даты размещения на стоимость объекта "
   ]
  },
  {
   "cell_type": "markdown",
   "metadata": {},
   "source": [
    "**Влияние дня недели на стоимость объекта**"
   ]
  },
  {
   "cell_type": "code",
   "execution_count": 65,
   "metadata": {},
   "outputs": [
    {
     "data": {
      "image/png": "[encoded data removed]",
      "text/plain": [
       "<Figure size 504x360 with 1 Axes>"
      ]
     },
     "metadata": {
      "needs_background": "light"
     },
     "output_type": "display_data"
    }
   ],
   "source": [
    "(\n",
    "    data.pivot_table(index='day_week_publication', \n",
    "                     values='last_price', \n",
    "                     aggfunc='median')\n",
    "    .plot(grid=True,\n",
    "          figsize=(7, 5))\n",
    ")\n",
    "\n",
    "plt.ylabel('Стоимость квартиры (руб.)')\n",
    "plt.xlabel('день недели')\n",
    "plt.title('влияние дня недели публикации на стоимость квартир')\n",
    "plt.show()  "
   ]
  },
  {
   "cell_type": "code",
   "execution_count": 66,
   "metadata": {},
   "outputs": [
    {
     "data": {
      "image/png": "[encoded data removed]",
      "text/plain": [
       "<Figure size 432x288 with 1 Axes>"
      ]
     },
     "metadata": {
      "needs_background": "light"
     },
     "output_type": "display_data"
    }
   ],
   "source": [
    "(data.pivot_table(index='day_week_publication', \n",
    "                 values='last_price', \n",
    "                 aggfunc='count')\n",
    ".plot(grid=True)\n",
    ")\n",
    "\n",
    "plt.ylabel('Количество объявлений')\n",
    "plt.xlabel('день недели')\n",
    "plt.title('количество публикаций объявлений в зависимости от дня недели')\n",
    "plt.show()  "
   ]
  },
  {
   "cell_type": "markdown",
   "metadata": {},
   "source": [
    "**Вывод:**\n",
    "\n",
    "В начале недели стоимость жилья немного выше, чем в конце, и количество новых объявлений больше."
   ]
  },
  {
   "cell_type": "markdown",
   "metadata": {},
   "source": [
    "**Влияние месяца размещения на стоимость объекта**"
   ]
  },
  {
   "cell_type": "code",
   "execution_count": 67,
   "metadata": {},
   "outputs": [
    {
     "data": {
      "image/png": "[encoded data removed]",
      "text/plain": [
       "<Figure size 504x360 with 1 Axes>"
      ]
     },
     "metadata": {
      "needs_background": "light"
     },
     "output_type": "display_data"
    }
   ],
   "source": [
    "(\n",
    "    data.pivot_table(index='month_publication', \n",
    "                     values='last_price', \n",
    "                     aggfunc='median')\n",
    "    .plot(grid=True,\n",
    "          figsize=(7, 5))\n",
    ")\n",
    "\n",
    "plt.ylabel('Стоимость квартиры (руб.)')\n",
    "plt.xlabel('месяц')\n",
    "plt.title('влияние месяца публикации на стоимость квартир')\n",
    "plt.show()  "
   ]
  },
  {
   "cell_type": "code",
   "execution_count": 68,
   "metadata": {},
   "outputs": [
    {
     "data": {
      "image/png": "[encoded data removed]",
      "text/plain": [
       "<Figure size 432x288 with 1 Axes>"
      ]
     },
     "metadata": {
      "needs_background": "light"
     },
     "output_type": "display_data"
    }
   ],
   "source": [
    "(data.pivot_table(index='month_publication', \n",
    "                 values='last_price', \n",
    "                 aggfunc='count')\n",
    ".plot(grid=True)\n",
    ")\n",
    "\n",
    "plt.ylabel('Количество объявлений')\n",
    "plt.xlabel('месяц публикации')\n",
    "plt.title('количество публикаций объявлений в зависимости от месяца')\n",
    "plt.show()  "
   ]
  },
  {
   "cell_type": "markdown",
   "metadata": {},
   "source": [
    "**Вывод:** \n",
    "\n",
    "Самая высокая стоимость наблюдается в апреле, после чего происходит резкое снижение. В июне наблюдается минимальная стоимость, после чего цена снова повышается, достигая максимума в сентябре. С ноября по декабрь цена держится на стабильном уровне. Это связано с сезонным уровнем спроса."
   ]
  },
  {
   "cell_type": "markdown",
   "metadata": {},
   "source": [
    "**Влияние года размещения на стоимость объекта**"
   ]
  },
  {
   "cell_type": "code",
   "execution_count": 69,
   "metadata": {},
   "outputs": [
    {
     "data": {
      "image/png": "[encoded data removed]",
      "text/plain": [
       "<Figure size 504x360 with 1 Axes>"
      ]
     },
     "metadata": {
      "needs_background": "light"
     },
     "output_type": "display_data"
    }
   ],
   "source": [
    "(\n",
    "    data.pivot_table(index='year_publication', \n",
    "                     values='last_price', \n",
    "                     aggfunc='median')\n",
    "    .plot(grid=True,\n",
    "          figsize=(7, 5))\n",
    ")\n",
    "\n",
    "plt.ylabel('Стоимость квартиры (руб.)')\n",
    "plt.xlabel('год')\n",
    "plt.title('влияние года публикации на стоимость квартир')\n",
    "plt.show()  "
   ]
  },
  {
   "cell_type": "code",
   "execution_count": 70,
   "metadata": {},
   "outputs": [
    {
     "data": {
      "image/png": "[encoded data removed]",
      "text/plain": [
       "<Figure size 504x360 with 1 Axes>"
      ]
     },
     "metadata": {
      "needs_background": "light"
     },
     "output_type": "display_data"
    }
   ],
   "source": [
    "(\n",
    "    data.pivot_table(index='year_publication', \n",
    "                     values='total_area', \n",
    "                     aggfunc='median')\n",
    "    .plot(grid=True,\n",
    "          figsize=(7, 5))\n",
    ")\n",
    "\n",
    "plt.ylabel('площадь квартир')\n",
    "plt.xlabel('год')\n",
    "plt.title('Измение площади квартир по годам')\n",
    "plt.show()  "
   ]
  },
  {
   "cell_type": "markdown",
   "metadata": {},
   "source": [
    "**Вывод:**\n",
    "На графике можно увидеть, что в 2014 году стоимость была максимальной и составляла около 7,7 млн рублей. После этого наблюдается тенденция к снижению цены. В 2016 году можно заметить, что цена стабилизировалась, а в последующие годы  наблюдается небольшой рост с 2018 года. К 2019 году цена достигла примерно 5 млн рублей. Отчасти это произошло из-за тенденции к уменьшению площади квартир.\n"
   ]
  },
  {
   "cell_type": "markdown",
   "metadata": {},
   "source": [
    "<div class=\"alert alert-success\">\n",
    "<b>✔️ Комментарий ревьюера v1:</b>\n",
    "<br>Зависимость цены изучена верно! Ещё тут можно использовать для визуализации pairplot из библиотеки seaborn \n",
    "    \n",
    "    https://seaborn.pydata.org/generated/seaborn.pairplot.html\n",
    "</div>"
   ]
  },
  {
   "cell_type": "markdown",
   "metadata": {},
   "source": [
    "### Cредняя цена одного квадратного метра в 10 населённых пунктах с наибольшим числом объявлений"
   ]
  },
  {
   "cell_type": "code",
   "execution_count": 71,
   "metadata": {},
   "outputs": [
    {
     "data": {
      "text/html": [
       "<div>\n",
       "<style scoped>\n",
       "    .dataframe tbody tr th:only-of-type {\n",
       "        vertical-align: middle;\n",
       "    }\n",
       "\n",
       "    .dataframe tbody tr th {\n",
       "        vertical-align: top;\n",
       "    }\n",
       "\n",
       "    .dataframe thead th {\n",
       "        text-align: right;\n",
       "    }\n",
       "</style>\n",
       "<table border=\"1\" class=\"dataframe\">\n",
       "  <thead>\n",
       "    <tr style=\"text-align: right;\">\n",
       "      <th></th>\n",
       "      <th>количество</th>\n",
       "      <th>средняя стоимость (кв. м)</th>\n",
       "    </tr>\n",
       "    <tr>\n",
       "      <th>locality_name</th>\n",
       "      <th></th>\n",
       "      <th></th>\n",
       "    </tr>\n",
       "  </thead>\n",
       "  <tbody>\n",
       "    <tr>\n",
       "      <th>Санкт-Петербург</th>\n",
       "      <td>15551</td>\n",
       "      <td>113561.992653</td>\n",
       "    </tr>\n",
       "    <tr>\n",
       "      <th>поселок Мурино</th>\n",
       "      <td>552</td>\n",
       "      <td>85629.568641</td>\n",
       "    </tr>\n",
       "    <tr>\n",
       "      <th>поселок Шушары</th>\n",
       "      <td>439</td>\n",
       "      <td>78551.344647</td>\n",
       "    </tr>\n",
       "    <tr>\n",
       "      <th>Всеволожск</th>\n",
       "      <td>397</td>\n",
       "      <td>68719.320378</td>\n",
       "    </tr>\n",
       "    <tr>\n",
       "      <th>Пушкин</th>\n",
       "      <td>367</td>\n",
       "      <td>103130.851826</td>\n",
       "    </tr>\n",
       "    <tr>\n",
       "      <th>Колпино</th>\n",
       "      <td>337</td>\n",
       "      <td>75333.295816</td>\n",
       "    </tr>\n",
       "    <tr>\n",
       "      <th>поселок Парголово</th>\n",
       "      <td>327</td>\n",
       "      <td>90175.913089</td>\n",
       "    </tr>\n",
       "    <tr>\n",
       "      <th>Гатчина</th>\n",
       "      <td>307</td>\n",
       "      <td>68746.146515</td>\n",
       "    </tr>\n",
       "    <tr>\n",
       "      <th>деревня Кудрово</th>\n",
       "      <td>299</td>\n",
       "      <td>92473.547559</td>\n",
       "    </tr>\n",
       "    <tr>\n",
       "      <th>Выборг</th>\n",
       "      <td>235</td>\n",
       "      <td>58238.143277</td>\n",
       "    </tr>\n",
       "  </tbody>\n",
       "</table>\n",
       "</div>"
      ],
      "text/plain": [
       "                   количество  средняя стоимость (кв. м)\n",
       "locality_name                                           \n",
       "Санкт-Петербург         15551              113561.992653\n",
       "поселок Мурино            552               85629.568641\n",
       "поселок Шушары            439               78551.344647\n",
       "Всеволожск                397               68719.320378\n",
       "Пушкин                    367              103130.851826\n",
       "Колпино                   337               75333.295816\n",
       "поселок Парголово         327               90175.913089\n",
       "Гатчина                   307               68746.146515\n",
       "деревня Кудрово           299               92473.547559\n",
       "Выборг                    235               58238.143277"
      ]
     },
     "execution_count": 71,
     "metadata": {},
     "output_type": "execute_result"
    }
   ],
   "source": [
    "top_10_squere_meter = data.pivot_table(index='locality_name', values='square_meter_price', aggfunc=['count', 'mean'])\n",
    "top_10_squere_meter.columns = ['количество', 'средняя стоимость (кв. м)']\n",
    "top_10_squere_meter.sort_values(by='количество', ascending=False).head(10)\n"
   ]
  },
  {
   "cell_type": "markdown",
   "metadata": {},
   "source": [
    "**Вывод:**\n",
    "\n",
    "Самая высокая стоимость квадратного метра в Санкт-Петербурге (114737.440652). Самая низкая стоимость квадратного метра в Выборге (58238.143277)."
   ]
  },
  {
   "cell_type": "markdown",
   "metadata": {},
   "source": [
    "### Средняя стоимость квартир в Санкт-Петербурге на разном удалении от центра"
   ]
  },
  {
   "cell_type": "code",
   "execution_count": 72,
   "metadata": {},
   "outputs": [
    {
     "data": {
      "text/html": [
       "<div>\n",
       "<style scoped>\n",
       "    .dataframe tbody tr th:only-of-type {\n",
       "        vertical-align: middle;\n",
       "    }\n",
       "\n",
       "    .dataframe tbody tr th {\n",
       "        vertical-align: top;\n",
       "    }\n",
       "\n",
       "    .dataframe thead th {\n",
       "        text-align: right;\n",
       "    }\n",
       "</style>\n",
       "<table border=\"1\" class=\"dataframe\">\n",
       "  <thead>\n",
       "    <tr style=\"text-align: right;\">\n",
       "      <th></th>\n",
       "      <th>last_price</th>\n",
       "    </tr>\n",
       "    <tr>\n",
       "      <th>city_centers_nearest_km</th>\n",
       "      <th></th>\n",
       "    </tr>\n",
       "  </thead>\n",
       "  <tbody>\n",
       "    <tr>\n",
       "      <th>0.0</th>\n",
       "      <td>2.654331e+07</td>\n",
       "    </tr>\n",
       "    <tr>\n",
       "      <th>1.0</th>\n",
       "      <td>1.570115e+07</td>\n",
       "    </tr>\n",
       "    <tr>\n",
       "      <th>2.0</th>\n",
       "      <td>1.441889e+07</td>\n",
       "    </tr>\n",
       "    <tr>\n",
       "      <th>3.0</th>\n",
       "      <td>1.065498e+07</td>\n",
       "    </tr>\n",
       "    <tr>\n",
       "      <th>4.0</th>\n",
       "      <td>1.131852e+07</td>\n",
       "    </tr>\n",
       "    <tr>\n",
       "      <th>5.0</th>\n",
       "      <td>1.235424e+07</td>\n",
       "    </tr>\n",
       "    <tr>\n",
       "      <th>6.0</th>\n",
       "      <td>1.313514e+07</td>\n",
       "    </tr>\n",
       "    <tr>\n",
       "      <th>7.0</th>\n",
       "      <td>1.378578e+07</td>\n",
       "    </tr>\n",
       "    <tr>\n",
       "      <th>8.0</th>\n",
       "      <td>9.116252e+06</td>\n",
       "    </tr>\n",
       "    <tr>\n",
       "      <th>9.0</th>\n",
       "      <td>6.977188e+06</td>\n",
       "    </tr>\n",
       "    <tr>\n",
       "      <th>10.0</th>\n",
       "      <td>6.411851e+06</td>\n",
       "    </tr>\n",
       "    <tr>\n",
       "      <th>11.0</th>\n",
       "      <td>6.229141e+06</td>\n",
       "    </tr>\n",
       "    <tr>\n",
       "      <th>12.0</th>\n",
       "      <td>5.814004e+06</td>\n",
       "    </tr>\n",
       "    <tr>\n",
       "      <th>13.0</th>\n",
       "      <td>6.079091e+06</td>\n",
       "    </tr>\n",
       "    <tr>\n",
       "      <th>14.0</th>\n",
       "      <td>5.603905e+06</td>\n",
       "    </tr>\n",
       "    <tr>\n",
       "      <th>15.0</th>\n",
       "      <td>5.834451e+06</td>\n",
       "    </tr>\n",
       "    <tr>\n",
       "      <th>16.0</th>\n",
       "      <td>5.373131e+06</td>\n",
       "    </tr>\n",
       "    <tr>\n",
       "      <th>17.0</th>\n",
       "      <td>5.222945e+06</td>\n",
       "    </tr>\n",
       "    <tr>\n",
       "      <th>18.0</th>\n",
       "      <td>4.999375e+06</td>\n",
       "    </tr>\n",
       "    <tr>\n",
       "      <th>19.0</th>\n",
       "      <td>5.051410e+06</td>\n",
       "    </tr>\n",
       "    <tr>\n",
       "      <th>20.0</th>\n",
       "      <td>5.990037e+06</td>\n",
       "    </tr>\n",
       "    <tr>\n",
       "      <th>21.0</th>\n",
       "      <td>5.493469e+06</td>\n",
       "    </tr>\n",
       "    <tr>\n",
       "      <th>22.0</th>\n",
       "      <td>5.415524e+06</td>\n",
       "    </tr>\n",
       "    <tr>\n",
       "      <th>23.0</th>\n",
       "      <td>4.985376e+06</td>\n",
       "    </tr>\n",
       "    <tr>\n",
       "      <th>24.0</th>\n",
       "      <td>3.854430e+06</td>\n",
       "    </tr>\n",
       "    <tr>\n",
       "      <th>25.0</th>\n",
       "      <td>4.052840e+06</td>\n",
       "    </tr>\n",
       "    <tr>\n",
       "      <th>26.0</th>\n",
       "      <td>4.014287e+06</td>\n",
       "    </tr>\n",
       "    <tr>\n",
       "      <th>27.0</th>\n",
       "      <td>8.300000e+06</td>\n",
       "    </tr>\n",
       "    <tr>\n",
       "      <th>28.0</th>\n",
       "      <td>5.026429e+06</td>\n",
       "    </tr>\n",
       "    <tr>\n",
       "      <th>29.0</th>\n",
       "      <td>4.236667e+06</td>\n",
       "    </tr>\n",
       "  </tbody>\n",
       "</table>\n",
       "</div>"
      ],
      "text/plain": [
       "                           last_price\n",
       "city_centers_nearest_km              \n",
       "0.0                      2.654331e+07\n",
       "1.0                      1.570115e+07\n",
       "2.0                      1.441889e+07\n",
       "3.0                      1.065498e+07\n",
       "4.0                      1.131852e+07\n",
       "5.0                      1.235424e+07\n",
       "6.0                      1.313514e+07\n",
       "7.0                      1.378578e+07\n",
       "8.0                      9.116252e+06\n",
       "9.0                      6.977188e+06\n",
       "10.0                     6.411851e+06\n",
       "11.0                     6.229141e+06\n",
       "12.0                     5.814004e+06\n",
       "13.0                     6.079091e+06\n",
       "14.0                     5.603905e+06\n",
       "15.0                     5.834451e+06\n",
       "16.0                     5.373131e+06\n",
       "17.0                     5.222945e+06\n",
       "18.0                     4.999375e+06\n",
       "19.0                     5.051410e+06\n",
       "20.0                     5.990037e+06\n",
       "21.0                     5.493469e+06\n",
       "22.0                     5.415524e+06\n",
       "23.0                     4.985376e+06\n",
       "24.0                     3.854430e+06\n",
       "25.0                     4.052840e+06\n",
       "26.0                     4.014287e+06\n",
       "27.0                     8.300000e+06\n",
       "28.0                     5.026429e+06\n",
       "29.0                     4.236667e+06"
      ]
     },
     "execution_count": 72,
     "metadata": {},
     "output_type": "execute_result"
    }
   ],
   "source": [
    "Saint_Petersburg_centers_nearest = (\n",
    "    data.query('locality_name == \"Санкт-Петербург\"')\n",
    "    [['city_centers_nearest_km', 'last_price']]\n",
    "    .pivot_table(index='city_centers_nearest_km', \n",
    "                 values='last_price')\n",
    ")\n",
    "Saint_Petersburg_centers_nearest"
   ]
  },
  {
   "cell_type": "code",
   "execution_count": 73,
   "metadata": {},
   "outputs": [
    {
     "data": {
      "image/png": "[encoded data removed]",
      "text/plain": [
       "<Figure size 576x432 with 1 Axes>"
      ]
     },
     "metadata": {
      "needs_background": "light"
     },
     "output_type": "display_data"
    }
   ],
   "source": [
    "Saint_Petersburg_centers_nearest.plot(kind='bar', figsize=(8, 6), grid=True)\n",
    "plt.ylabel('Средняя стоимость квартир (руб.)')\n",
    "plt.xlabel('Расстояние (км)')\n",
    "plt.title('Влияние расстояния от центра города на стоимость квартир')\n",
    "plt.show()"
   ]
  },
  {
   "cell_type": "markdown",
   "metadata": {},
   "source": [
    "**Вывод:** \n",
    "\n",
    "Стоимость объекта недвижимости обратно пропорциональна расстоянию до центра города. С увеличением расстояния от центра стоимость объекта снижается.\n",
    "На графике это отражается следующим образом: до 3 км от центра цена резко падает, после чего, на расстоянии от 4 до 7 км от центра, она начинает немного увилчиваться. После 8 км от центра цена продолжает плавно снижаться.\n",
    "Однако в районе 27 км от центра наблюдается скачок цены. Это может быть связано с наличием в этом районе объектов премиум-класса."
   ]
  },
  {
   "cell_type": "markdown",
   "metadata": {},
   "source": [
    "<div class=\"alert alert-success\">\n",
    "<b>✔️ Комментарий ревьюера v1:</b> \n",
    "<br>Всё верно! Как вариант, тут можно построить барплот для топ10 по средней цене, так будет более наглядно)\n",
    "</div>"
   ]
  },
  {
   "cell_type": "markdown",
   "metadata": {
    "id": "h7VpzkIDAwb-"
   },
   "source": [
    "## Общий вывод"
   ]
  },
  {
   "cell_type": "markdown",
   "metadata": {},
   "source": [
    "Изучив архив данных о продажах квартир в Санкт-Петербурге и ближайших населенных пунктах, полученных с сервиса Яндекс Недвижимость, мы выявили ряд факторов, влияющих на стоимость и скорость продажи жилья. \n",
    "\n",
    "**Скорость продажи:**\n",
    "\n",
    "Несмотря на то, что скорость продажи квартир может зависеть от различных факторов, на основании имеющихся данных мы сделали вывод, что медленными продажами можно считать те, на реализацию которых потребовалось больше года, а быстрыми — те, которые произошли в течение 1–2 месяцев.\n",
    "\n",
    "**Стоимость:**\n",
    "\n",
    "* Площадь: чем больше площадь, тем выше стоимость.\n",
    "\n",
    "* Количество комнат: также оказывает влияние на стоимость.\n",
    "\n",
    "* Этаж: этаж, на котором расположена квартира, оказывает незначительное влияние на стоимость, однако квартиры на первом этаже всё-таки немного дешевле чем остальные предложения.\n",
    "\n",
    "* Месяц размещения объявления: Сезонные колебания спроса на жилье могут приводить к изменению стоимости. В некоторые периоды года спрос снижается, что может привести к уменьшению стоимости квартир.\n",
    "\n",
    "* С 2014 по 2016 год стоимость квартир падала, что было отчасти связано с тенденцией уменьшения площади квартир. В дальнейшем стоимость сначала стабилизировалась, а с 2017 года начала расти.\n",
    "\n",
    "* Местоположение: \n",
    "\n",
    "   * Город: Самые дорогие квадратные метры в представленных данных – в Санкт-Петербурге, самые дешевые – в Выборге. \n",
    "   \n",
    "   * Расстояние до центра города: существует тенденция, согласно которой, чем ближе квартира к центру Санкт-Петербурга, тем выше её стоимость.\n",
    "\n"
   ]
  },
  {
   "cell_type": "markdown",
   "metadata": {
    "id": "3H4lnp_KAwb-"
   },
   "source": [
    "<div class=\"alert alert-danger\">\n",
    "<b>❌ Итоговый комментарий ревьюера v1:</b> \n",
    "<br>Необходимо поправить:\n",
    "<br>- отбросить аномальные значения \n",
    "<br>- поправить график для столбца last_price\n",
    "\n",
    "<br>После всех внесённых правок не забудь поправить выводы там, где это необходимо\n",
    "</div>"
   ]
  },
  {
   "cell_type": "markdown",
   "metadata": {},
   "source": [
    "<div class=\"alert alert-success\">\n",
    "<b>✔️ Итоговый комментарий ревьюера v2:</b>\n",
    "<br>Все правки выполнены. Молодец!\n",
    "<br>Я рад был поработать над проверкой твоей работы) В качестве дополнительного материала для изучения могу порекомендовать следующий ресурс:\n",
    "\n",
    "\thttps://www.python-graph-gallery.com/\n",
    "<br>В нем содержится большая библиотека графиков с готовым кодом, который можно использовать при работе.\n",
    "<br>Поздравляю со сдачей проекта и желаю удачи в дальнейшем обучении! 😉    \n",
    "</div>"
   ]
  },
  {
   "cell_type": "markdown",
   "metadata": {
    "id": "A90mc0BgAwb-"
   },
   "source": [
    "**Чек-лист готовности проекта**\n",
    "\n",
    "Поставьте 'x' в выполненных пунктах. Далее нажмите Shift+Enter."
   ]
  },
  {
   "cell_type": "markdown",
   "metadata": {
    "id": "ME3sTWm6Awb-"
   },
   "source": [
    "- [x]  Файл с данными открыт.\n",
    "- [x]  Файл с данными изучен: выведены первые строки, использован метод `info()`, построены гистограммы.\n",
    "- [x]  Найдены пропущенные значения.\n",
    "- [x]  Пропущенные значения заполнены там, где это возможно.\n",
    "- [x]  Объяснено, какие пропущенные значения обнаружены.\n",
    "- [x]  В каждом столбце установлен корректный тип данных.\n",
    "- [x]  Объяснено, в каких столбцах изменён тип данных и почему.\n",
    "- [x]  Устранены неявные дубликаты в названиях населённых пунктов.\n",
    "- [x]  Обработаны редкие и выбивающиеся значения (аномалии).\n",
    "- [x]  В таблицу добавлены новые параметры:\n",
    "       – цена одного квадратного метра;\n",
    "       – день публикации объявления (0 - понедельник, 1 - вторник и т. д.);\n",
    "       – месяц публикации объявления;\n",
    "       – год публикации объявления;\n",
    "       – тип этажа квартиры (значения — «первый», «последний», «другой»);\n",
    "       – расстояние до центра города в километрах.\n",
    "- [x]  Изучены и описаны параметры:\n",
    "        - общая площадь;\n",
    "        - жилая площадь;\n",
    "        - площадь кухни;\n",
    "        - цена объекта;\n",
    "        - количество комнат;\n",
    "        - высота потолков;\n",
    "        - тип этажа квартиры («первый», «последний», «другой»);\n",
    "        - общее количество этажей в доме;\n",
    "        - расстояние до центра города в метрах;\n",
    "        - расстояние до ближайшего парка.\n",
    "- [x]  Выполнено задание «Изучите, как быстро продавались квартиры (столбец `days_exposition`)»:\n",
    "    - построена гистограмма;\n",
    "    - рассчитаны среднее и медиана;\n",
    "    - описано, сколько обычно занимает продажа и указано, какие продажи можно считать быстрыми, а какие — необычно долгими.\n",
    "- [x]  Выполнено задание «Определите факторы, которые больше всего влияют на общую (полную) стоимость объекта». Построены графики, которые показывают зависимость цены от параметров:\n",
    "        - общая площадь;\n",
    "        - жилая площадь;\n",
    "        - площадь кухни;\n",
    "        - количество комнат;\n",
    "        - тип этажа, на котором расположена квартира (первый, последний, другой);\n",
    "        - дата размещения (день недели, месяц, год).\n",
    "- [x]  Выполнено задание «Посчитайте среднюю цену одного квадратного метра в 10 населённых пунктах с наибольшим числом объявлений»:\n",
    "    - выделены населённые пункты с самой высокой и низкой стоимостью квадратного метра.\n",
    "- [x]  Выполнено задание «Выделите квартиры в Санкт-Петербурге с помощью столбца `locality_name` и вычислите их среднюю стоимость на разном удалении от центра»:\n",
    "    -  учтён каждый километр расстояния, известны средние цены квартир в одном километре от центра, в двух и так далее;\n",
    "    -  описано, как стоимость объекта зависит от расстояния до центра города;\n",
    "    -  построен график изменения средней цены для каждого километра от центра Петербурга.\n",
    "- [x]  На каждом этапе сделаны промежуточные выводы.\n",
    "- [x]  В конце проекта сделан общий вывод."
   ]
  },
  {
   "cell_type": "code",
   "execution_count": null,
   "metadata": {},
   "outputs": [],
   "source": []
  }
 ],
 "metadata": {
  "ExecuteTimeLog": [
   {
    "duration": 687,
    "start_time": "2024-07-29T13:52:33.472Z"
   },
   {
    "duration": 14,
    "start_time": "2024-07-29T13:56:18.349Z"
   },
   {
    "duration": 13,
    "start_time": "2024-07-29T13:56:35.065Z"
   },
   {
    "duration": 6,
    "start_time": "2024-07-29T14:00:44.605Z"
   },
   {
    "duration": 103,
    "start_time": "2024-07-29T14:02:32.717Z"
   },
   {
    "duration": 31,
    "start_time": "2024-07-29T14:02:34.417Z"
   },
   {
    "duration": 16,
    "start_time": "2024-07-29T14:02:40.805Z"
   },
   {
    "duration": 1693,
    "start_time": "2024-07-29T14:04:53.461Z"
   },
   {
    "duration": 1230,
    "start_time": "2024-07-29T14:06:14.351Z"
   },
   {
    "duration": 74,
    "start_time": "2024-07-29T14:06:30.821Z"
   },
   {
    "duration": 1701,
    "start_time": "2024-07-29T14:06:36.095Z"
   },
   {
    "duration": 2036,
    "start_time": "2024-07-29T14:06:52.701Z"
   },
   {
    "duration": 2051,
    "start_time": "2024-07-29T14:12:01.644Z"
   },
   {
    "duration": 2041,
    "start_time": "2024-07-29T14:14:55.649Z"
   },
   {
    "duration": 96,
    "start_time": "2024-07-29T14:16:46.567Z"
   },
   {
    "duration": 1890,
    "start_time": "2024-07-29T14:16:51.338Z"
   },
   {
    "duration": 2131,
    "start_time": "2024-07-29T14:17:00.749Z"
   },
   {
    "duration": 96,
    "start_time": "2024-07-29T14:17:41.273Z"
   },
   {
    "duration": 32,
    "start_time": "2024-07-29T14:17:42.309Z"
   },
   {
    "duration": 15,
    "start_time": "2024-07-29T14:17:43.012Z"
   },
   {
    "duration": 2042,
    "start_time": "2024-07-29T14:17:44.249Z"
   },
   {
    "duration": 95,
    "start_time": "2024-07-29T14:19:31.301Z"
   },
   {
    "duration": 2076,
    "start_time": "2024-07-29T14:19:48.399Z"
   },
   {
    "duration": 758,
    "start_time": "2024-07-29T15:11:03.608Z"
   },
   {
    "duration": 33,
    "start_time": "2024-07-29T15:11:04.368Z"
   },
   {
    "duration": 25,
    "start_time": "2024-07-29T15:11:04.402Z"
   },
   {
    "duration": 1991,
    "start_time": "2024-07-29T15:11:04.429Z"
   },
   {
    "duration": 10,
    "start_time": "2024-07-29T15:11:06.422Z"
   },
   {
    "duration": 43,
    "start_time": "2024-07-29T15:32:22.765Z"
   },
   {
    "duration": 720,
    "start_time": "2024-07-29T15:33:24.118Z"
   },
   {
    "duration": 4,
    "start_time": "2024-07-29T15:34:03.685Z"
   },
   {
    "duration": 4,
    "start_time": "2024-07-29T15:34:10.337Z"
   },
   {
    "duration": 8,
    "start_time": "2024-07-29T15:36:01.937Z"
   },
   {
    "duration": 4,
    "start_time": "2024-07-29T15:36:15.007Z"
   },
   {
    "duration": 7,
    "start_time": "2024-07-29T15:38:51.117Z"
   },
   {
    "duration": 50,
    "start_time": "2024-07-29T15:39:49.268Z"
   },
   {
    "duration": 11,
    "start_time": "2024-07-29T15:40:11.889Z"
   },
   {
    "duration": 12,
    "start_time": "2024-07-29T15:40:26.928Z"
   },
   {
    "duration": 49,
    "start_time": "2024-07-29T15:41:59.207Z"
   },
   {
    "duration": 4,
    "start_time": "2024-07-29T15:43:08.489Z"
   },
   {
    "duration": 4,
    "start_time": "2024-07-29T15:54:36.389Z"
   },
   {
    "duration": 46,
    "start_time": "2024-07-29T15:55:18.129Z"
   },
   {
    "duration": 6,
    "start_time": "2024-07-29T16:07:23.525Z"
   },
   {
    "duration": 3,
    "start_time": "2024-07-29T16:10:11.020Z"
   },
   {
    "duration": 2,
    "start_time": "2024-07-29T16:10:17.680Z"
   },
   {
    "duration": 6,
    "start_time": "2024-07-29T16:10:29.670Z"
   },
   {
    "duration": 5,
    "start_time": "2024-07-29T16:10:35.240Z"
   },
   {
    "duration": 7,
    "start_time": "2024-07-29T16:15:03.689Z"
   },
   {
    "duration": 7,
    "start_time": "2024-07-29T16:16:46.671Z"
   },
   {
    "duration": 6,
    "start_time": "2024-07-29T16:17:35.270Z"
   },
   {
    "duration": 21,
    "start_time": "2024-07-29T16:24:11.190Z"
   },
   {
    "duration": 18,
    "start_time": "2024-07-29T16:24:41.504Z"
   },
   {
    "duration": 7,
    "start_time": "2024-07-29T16:25:01.500Z"
   },
   {
    "duration": 6,
    "start_time": "2024-07-29T16:25:22.477Z"
   },
   {
    "duration": 9,
    "start_time": "2024-07-29T16:26:01.889Z"
   },
   {
    "duration": 8,
    "start_time": "2024-07-29T16:26:08.440Z"
   },
   {
    "duration": 18,
    "start_time": "2024-07-29T16:28:17.069Z"
   },
   {
    "duration": 7,
    "start_time": "2024-07-29T16:28:33.639Z"
   },
   {
    "duration": 11,
    "start_time": "2024-07-29T16:28:38.985Z"
   },
   {
    "duration": 3,
    "start_time": "2024-07-29T16:29:01.410Z"
   },
   {
    "duration": 7,
    "start_time": "2024-07-29T16:29:20.600Z"
   },
   {
    "duration": 790,
    "start_time": "2024-07-29T16:31:49.008Z"
   },
   {
    "duration": 42,
    "start_time": "2024-07-29T16:31:49.800Z"
   },
   {
    "duration": 16,
    "start_time": "2024-07-29T16:31:49.844Z"
   },
   {
    "duration": 2023,
    "start_time": "2024-07-29T16:31:49.862Z"
   },
   {
    "duration": 9,
    "start_time": "2024-07-29T16:31:51.887Z"
   },
   {
    "duration": 73,
    "start_time": "2024-07-29T16:31:51.897Z"
   },
   {
    "duration": 7,
    "start_time": "2024-07-29T16:34:12.748Z"
   },
   {
    "duration": 45,
    "start_time": "2024-07-29T16:52:09.366Z"
   },
   {
    "duration": 1365,
    "start_time": "2024-07-29T16:52:28.689Z"
   },
   {
    "duration": 153,
    "start_time": "2024-07-29T16:53:09.053Z"
   },
   {
    "duration": 129,
    "start_time": "2024-07-29T16:53:44.871Z"
   },
   {
    "duration": 130,
    "start_time": "2024-07-29T16:54:34.658Z"
   },
   {
    "duration": 4,
    "start_time": "2024-07-29T17:45:22.741Z"
   },
   {
    "duration": 6,
    "start_time": "2024-07-29T17:48:43.750Z"
   },
   {
    "duration": 5,
    "start_time": "2024-07-29T17:51:54.422Z"
   },
   {
    "duration": 5,
    "start_time": "2024-07-29T17:52:24.381Z"
   },
   {
    "duration": 5,
    "start_time": "2024-07-29T17:52:33.950Z"
   },
   {
    "duration": 4,
    "start_time": "2024-07-29T17:53:03.682Z"
   },
   {
    "duration": 4,
    "start_time": "2024-07-29T17:53:12.279Z"
   },
   {
    "duration": 4,
    "start_time": "2024-07-29T17:53:25.492Z"
   },
   {
    "duration": 6,
    "start_time": "2024-07-29T17:57:04.388Z"
   },
   {
    "duration": 3,
    "start_time": "2024-07-29T17:57:38.401Z"
   },
   {
    "duration": 11,
    "start_time": "2024-07-29T17:57:48.841Z"
   },
   {
    "duration": 5,
    "start_time": "2024-07-29T18:10:40.713Z"
   },
   {
    "duration": 6,
    "start_time": "2024-07-29T18:10:50.324Z"
   },
   {
    "duration": 4,
    "start_time": "2024-07-29T18:11:54.804Z"
   },
   {
    "duration": 5,
    "start_time": "2024-07-29T18:12:36.185Z"
   },
   {
    "duration": 702,
    "start_time": "2024-07-29T18:15:16.655Z"
   },
   {
    "duration": 33,
    "start_time": "2024-07-29T18:15:17.359Z"
   },
   {
    "duration": 15,
    "start_time": "2024-07-29T18:15:17.394Z"
   },
   {
    "duration": 1968,
    "start_time": "2024-07-29T18:15:17.425Z"
   },
   {
    "duration": 9,
    "start_time": "2024-07-29T18:15:19.394Z"
   },
   {
    "duration": 7,
    "start_time": "2024-07-29T18:16:15.474Z"
   },
   {
    "duration": 6,
    "start_time": "2024-07-29T18:16:33.723Z"
   },
   {
    "duration": 42,
    "start_time": "2024-07-29T18:17:55.066Z"
   },
   {
    "duration": 36,
    "start_time": "2024-07-29T18:19:13.634Z"
   },
   {
    "duration": 31,
    "start_time": "2024-07-29T18:19:53.573Z"
   },
   {
    "duration": 17,
    "start_time": "2024-07-29T18:25:57.894Z"
   },
   {
    "duration": 16,
    "start_time": "2024-07-29T18:26:09.706Z"
   },
   {
    "duration": 46,
    "start_time": "2024-07-29T18:26:31.394Z"
   },
   {
    "duration": 37,
    "start_time": "2024-07-29T18:27:12.505Z"
   },
   {
    "duration": 41,
    "start_time": "2024-07-29T18:27:24.652Z"
   },
   {
    "duration": 41,
    "start_time": "2024-07-29T18:27:38.673Z"
   },
   {
    "duration": 12,
    "start_time": "2024-07-29T18:28:49.518Z"
   },
   {
    "duration": 12,
    "start_time": "2024-07-29T18:33:12.281Z"
   },
   {
    "duration": 10,
    "start_time": "2024-07-29T18:34:14.364Z"
   },
   {
    "duration": 9,
    "start_time": "2024-07-29T18:34:28.944Z"
   },
   {
    "duration": 9,
    "start_time": "2024-07-29T18:34:46.734Z"
   },
   {
    "duration": 11,
    "start_time": "2024-07-29T18:34:56.989Z"
   },
   {
    "duration": 75,
    "start_time": "2024-07-29T18:36:07.444Z"
   },
   {
    "duration": 749,
    "start_time": "2024-07-29T18:36:34.376Z"
   },
   {
    "duration": 6,
    "start_time": "2024-07-29T18:37:53.746Z"
   },
   {
    "duration": 6,
    "start_time": "2024-07-29T18:38:40.244Z"
   },
   {
    "duration": 1116,
    "start_time": "2024-07-30T08:09:25.900Z"
   },
   {
    "duration": 33,
    "start_time": "2024-07-30T08:09:27.018Z"
   },
   {
    "duration": 16,
    "start_time": "2024-07-30T08:09:27.053Z"
   },
   {
    "duration": 1954,
    "start_time": "2024-07-30T08:09:27.071Z"
   },
   {
    "duration": 11,
    "start_time": "2024-07-30T08:09:29.026Z"
   },
   {
    "duration": 43,
    "start_time": "2024-07-30T08:09:37.608Z"
   },
   {
    "duration": 11,
    "start_time": "2024-07-30T08:13:10.906Z"
   },
   {
    "duration": 10,
    "start_time": "2024-07-30T08:13:31.832Z"
   },
   {
    "duration": 10,
    "start_time": "2024-07-30T08:13:46.982Z"
   },
   {
    "duration": 10,
    "start_time": "2024-07-30T08:14:18.302Z"
   },
   {
    "duration": 8,
    "start_time": "2024-07-30T08:14:24.773Z"
   },
   {
    "duration": 8,
    "start_time": "2024-07-30T08:14:28.931Z"
   },
   {
    "duration": 8,
    "start_time": "2024-07-30T08:14:34.121Z"
   },
   {
    "duration": 9,
    "start_time": "2024-07-30T08:14:38.052Z"
   },
   {
    "duration": 10,
    "start_time": "2024-07-30T08:14:43.322Z"
   },
   {
    "duration": 10,
    "start_time": "2024-07-30T08:14:54.518Z"
   },
   {
    "duration": 9,
    "start_time": "2024-07-30T08:14:59.401Z"
   },
   {
    "duration": 40,
    "start_time": "2024-07-30T08:18:54.063Z"
   },
   {
    "duration": 68,
    "start_time": "2024-07-30T08:19:47.333Z"
   },
   {
    "duration": 6,
    "start_time": "2024-07-30T08:20:41.932Z"
   },
   {
    "duration": 5,
    "start_time": "2024-07-30T08:23:23.951Z"
   },
   {
    "duration": 5,
    "start_time": "2024-07-30T08:57:09.304Z"
   },
   {
    "duration": 3,
    "start_time": "2024-07-30T09:13:12.953Z"
   },
   {
    "duration": 3,
    "start_time": "2024-07-30T09:13:15.553Z"
   },
   {
    "duration": 5,
    "start_time": "2024-07-30T09:20:22.735Z"
   },
   {
    "duration": 11,
    "start_time": "2024-07-30T09:22:42.116Z"
   },
   {
    "duration": 9,
    "start_time": "2024-07-30T09:22:56.943Z"
   },
   {
    "duration": 67,
    "start_time": "2024-07-30T10:56:20.083Z"
   },
   {
    "duration": 1229,
    "start_time": "2024-07-30T10:56:26.516Z"
   },
   {
    "duration": 47,
    "start_time": "2024-07-30T10:56:27.747Z"
   },
   {
    "duration": 22,
    "start_time": "2024-07-30T10:56:27.796Z"
   },
   {
    "duration": 2152,
    "start_time": "2024-07-30T10:56:27.820Z"
   },
   {
    "duration": 5,
    "start_time": "2024-07-30T10:56:29.974Z"
   },
   {
    "duration": 13,
    "start_time": "2024-07-30T10:56:29.980Z"
   },
   {
    "duration": 4,
    "start_time": "2024-07-30T10:56:29.995Z"
   },
   {
    "duration": 20,
    "start_time": "2024-07-30T10:56:30.001Z"
   },
   {
    "duration": 11,
    "start_time": "2024-07-30T10:57:57.976Z"
   },
   {
    "duration": 9,
    "start_time": "2024-07-30T10:58:05.513Z"
   },
   {
    "duration": 14,
    "start_time": "2024-07-30T10:58:11.651Z"
   },
   {
    "duration": 86,
    "start_time": "2024-07-30T10:58:28.442Z"
   },
   {
    "duration": 29,
    "start_time": "2024-07-30T10:58:32.301Z"
   },
   {
    "duration": 31,
    "start_time": "2024-07-30T11:13:54.763Z"
   },
   {
    "duration": 88,
    "start_time": "2024-07-30T11:14:26.552Z"
   },
   {
    "duration": 19,
    "start_time": "2024-07-30T11:17:12.392Z"
   },
   {
    "duration": 8,
    "start_time": "2024-07-30T12:30:19.640Z"
   },
   {
    "duration": 38,
    "start_time": "2024-07-30T12:31:26.993Z"
   },
   {
    "duration": 8,
    "start_time": "2024-07-30T12:32:51.831Z"
   },
   {
    "duration": 782,
    "start_time": "2024-07-30T12:33:15.730Z"
   },
   {
    "duration": 8,
    "start_time": "2024-07-30T12:33:30.638Z"
   },
   {
    "duration": 16,
    "start_time": "2024-07-30T12:35:30.640Z"
   },
   {
    "duration": 13,
    "start_time": "2024-07-30T12:40:22.265Z"
   },
   {
    "duration": 13,
    "start_time": "2024-07-30T12:40:58.739Z"
   },
   {
    "duration": 16,
    "start_time": "2024-07-30T12:45:27.529Z"
   },
   {
    "duration": 21,
    "start_time": "2024-07-30T12:53:41.491Z"
   },
   {
    "duration": 49,
    "start_time": "2024-07-30T14:38:10.793Z"
   },
   {
    "duration": 6,
    "start_time": "2024-07-30T14:38:18.057Z"
   },
   {
    "duration": 8,
    "start_time": "2024-07-30T14:42:33.313Z"
   },
   {
    "duration": 8,
    "start_time": "2024-07-30T14:43:50.575Z"
   },
   {
    "duration": 1000,
    "start_time": "2024-07-30T14:44:04.545Z"
   },
   {
    "duration": 40,
    "start_time": "2024-07-30T14:44:05.548Z"
   },
   {
    "duration": 24,
    "start_time": "2024-07-30T14:44:05.590Z"
   },
   {
    "duration": 2087,
    "start_time": "2024-07-30T14:44:05.618Z"
   },
   {
    "duration": 11,
    "start_time": "2024-07-30T14:44:07.706Z"
   },
   {
    "duration": 7,
    "start_time": "2024-07-30T14:44:07.719Z"
   },
   {
    "duration": 17,
    "start_time": "2024-07-30T14:44:07.728Z"
   },
   {
    "duration": 3,
    "start_time": "2024-07-30T14:44:07.747Z"
   },
   {
    "duration": 17,
    "start_time": "2024-07-30T14:44:07.752Z"
   },
   {
    "duration": 5,
    "start_time": "2024-07-30T14:44:19.925Z"
   },
   {
    "duration": 13,
    "start_time": "2024-07-30T14:45:09.765Z"
   },
   {
    "duration": 16,
    "start_time": "2024-07-30T14:46:31.655Z"
   },
   {
    "duration": 19,
    "start_time": "2024-07-30T14:57:42.027Z"
   },
   {
    "duration": 23,
    "start_time": "2024-07-30T14:59:38.927Z"
   },
   {
    "duration": 14,
    "start_time": "2024-07-30T14:59:51.324Z"
   },
   {
    "duration": 8,
    "start_time": "2024-07-30T15:00:22.069Z"
   },
   {
    "duration": 71,
    "start_time": "2024-07-30T15:00:49.960Z"
   },
   {
    "duration": 7,
    "start_time": "2024-07-30T15:01:00.196Z"
   },
   {
    "duration": 17,
    "start_time": "2024-07-30T15:41:46.750Z"
   },
   {
    "duration": 4,
    "start_time": "2024-07-30T15:48:06.072Z"
   },
   {
    "duration": 48,
    "start_time": "2024-07-30T17:26:15.536Z"
   },
   {
    "duration": 6,
    "start_time": "2024-07-30T17:26:23.568Z"
   },
   {
    "duration": 1093,
    "start_time": "2024-07-30T17:26:29.152Z"
   },
   {
    "duration": 35,
    "start_time": "2024-07-30T17:26:30.249Z"
   },
   {
    "duration": 60,
    "start_time": "2024-07-30T17:26:30.285Z"
   },
   {
    "duration": 2117,
    "start_time": "2024-07-30T17:26:30.347Z"
   },
   {
    "duration": 9,
    "start_time": "2024-07-30T17:26:32.466Z"
   },
   {
    "duration": 40,
    "start_time": "2024-07-30T17:26:32.477Z"
   },
   {
    "duration": 15,
    "start_time": "2024-07-30T17:26:32.519Z"
   },
   {
    "duration": 29,
    "start_time": "2024-07-30T17:26:32.536Z"
   },
   {
    "duration": 10,
    "start_time": "2024-07-30T17:26:45.086Z"
   },
   {
    "duration": 10,
    "start_time": "2024-07-30T17:27:04.207Z"
   },
   {
    "duration": 2,
    "start_time": "2024-07-30T17:27:42.029Z"
   },
   {
    "duration": 3,
    "start_time": "2024-07-30T17:27:47.003Z"
   },
   {
    "duration": 2,
    "start_time": "2024-07-30T17:27:48.772Z"
   },
   {
    "duration": 2,
    "start_time": "2024-07-30T17:27:52.115Z"
   },
   {
    "duration": 14,
    "start_time": "2024-07-30T17:27:55.292Z"
   },
   {
    "duration": 3,
    "start_time": "2024-07-30T17:28:03.246Z"
   },
   {
    "duration": 9,
    "start_time": "2024-07-30T17:28:05.848Z"
   },
   {
    "duration": 4,
    "start_time": "2024-07-30T17:28:20.313Z"
   },
   {
    "duration": 5,
    "start_time": "2024-07-30T17:28:22.733Z"
   },
   {
    "duration": 4,
    "start_time": "2024-07-30T17:28:25.043Z"
   },
   {
    "duration": 740,
    "start_time": "2024-07-30T17:29:27.754Z"
   },
   {
    "duration": 37,
    "start_time": "2024-07-30T17:29:28.496Z"
   },
   {
    "duration": 22,
    "start_time": "2024-07-30T17:29:28.534Z"
   },
   {
    "duration": 2126,
    "start_time": "2024-07-30T17:29:28.558Z"
   },
   {
    "duration": 11,
    "start_time": "2024-07-30T17:29:30.686Z"
   },
   {
    "duration": 33,
    "start_time": "2024-07-30T17:29:30.699Z"
   },
   {
    "duration": 42,
    "start_time": "2024-07-30T17:29:30.733Z"
   },
   {
    "duration": 33,
    "start_time": "2024-07-30T17:29:30.777Z"
   },
   {
    "duration": 77,
    "start_time": "2024-07-30T17:32:09.164Z"
   },
   {
    "duration": 830,
    "start_time": "2024-07-30T17:32:20.069Z"
   },
   {
    "duration": 37,
    "start_time": "2024-07-30T17:32:20.900Z"
   },
   {
    "duration": 16,
    "start_time": "2024-07-30T17:32:20.939Z"
   },
   {
    "duration": 91,
    "start_time": "2024-07-30T17:32:20.958Z"
   },
   {
    "duration": 2066,
    "start_time": "2024-07-30T17:32:21.050Z"
   },
   {
    "duration": 10,
    "start_time": "2024-07-30T17:32:23.118Z"
   },
   {
    "duration": 7,
    "start_time": "2024-07-30T17:32:23.129Z"
   },
   {
    "duration": 14,
    "start_time": "2024-07-30T17:32:23.137Z"
   },
   {
    "duration": 11,
    "start_time": "2024-07-30T17:32:23.153Z"
   },
   {
    "duration": 3,
    "start_time": "2024-07-30T17:37:02.300Z"
   },
   {
    "duration": 969,
    "start_time": "2024-07-31T07:55:25.464Z"
   },
   {
    "duration": 46,
    "start_time": "2024-07-31T07:55:26.434Z"
   },
   {
    "duration": 29,
    "start_time": "2024-07-31T07:55:26.482Z"
   },
   {
    "duration": 110,
    "start_time": "2024-07-31T07:55:26.514Z"
   },
   {
    "duration": 2186,
    "start_time": "2024-07-31T07:55:26.625Z"
   },
   {
    "duration": 9,
    "start_time": "2024-07-31T07:55:28.813Z"
   },
   {
    "duration": 6,
    "start_time": "2024-07-31T07:55:28.823Z"
   },
   {
    "duration": 7,
    "start_time": "2024-07-31T07:55:28.830Z"
   },
   {
    "duration": 5,
    "start_time": "2024-07-31T07:58:22.930Z"
   },
   {
    "duration": 5,
    "start_time": "2024-07-31T07:58:42.699Z"
   },
   {
    "duration": 1151,
    "start_time": "2024-07-31T12:54:36.216Z"
   },
   {
    "duration": 36,
    "start_time": "2024-07-31T12:54:37.369Z"
   },
   {
    "duration": 17,
    "start_time": "2024-07-31T12:54:37.406Z"
   },
   {
    "duration": 89,
    "start_time": "2024-07-31T12:54:37.425Z"
   },
   {
    "duration": 2037,
    "start_time": "2024-07-31T12:54:37.515Z"
   },
   {
    "duration": 11,
    "start_time": "2024-07-31T12:54:39.553Z"
   },
   {
    "duration": 6,
    "start_time": "2024-07-31T12:54:39.565Z"
   },
   {
    "duration": 5,
    "start_time": "2024-07-31T12:54:39.573Z"
   },
   {
    "duration": 5,
    "start_time": "2024-07-31T12:54:39.579Z"
   },
   {
    "duration": 15,
    "start_time": "2024-07-31T12:57:20.114Z"
   },
   {
    "duration": 76,
    "start_time": "2024-07-31T12:57:51.285Z"
   },
   {
    "duration": 77,
    "start_time": "2024-07-31T12:58:09.753Z"
   },
   {
    "duration": 14,
    "start_time": "2024-07-31T12:58:41.185Z"
   },
   {
    "duration": 5,
    "start_time": "2024-07-31T13:00:15.593Z"
   },
   {
    "duration": 12,
    "start_time": "2024-07-31T13:05:35.406Z"
   },
   {
    "duration": 8,
    "start_time": "2024-07-31T13:15:01.966Z"
   },
   {
    "duration": 12,
    "start_time": "2024-07-31T13:15:06.378Z"
   },
   {
    "duration": 6,
    "start_time": "2024-07-31T13:15:16.374Z"
   },
   {
    "duration": 75,
    "start_time": "2024-07-31T13:19:41.447Z"
   },
   {
    "duration": 14,
    "start_time": "2024-07-31T13:30:33.797Z"
   },
   {
    "duration": 1017,
    "start_time": "2024-07-31T16:51:14.007Z"
   },
   {
    "duration": 30,
    "start_time": "2024-07-31T16:51:15.026Z"
   },
   {
    "duration": 15,
    "start_time": "2024-07-31T16:51:15.057Z"
   },
   {
    "duration": 79,
    "start_time": "2024-07-31T16:51:15.074Z"
   },
   {
    "duration": 1756,
    "start_time": "2024-07-31T16:51:15.155Z"
   },
   {
    "duration": 9,
    "start_time": "2024-07-31T16:51:16.912Z"
   },
   {
    "duration": 7,
    "start_time": "2024-07-31T16:51:16.922Z"
   },
   {
    "duration": 7,
    "start_time": "2024-07-31T16:51:16.930Z"
   },
   {
    "duration": 7,
    "start_time": "2024-07-31T16:51:16.939Z"
   },
   {
    "duration": 26,
    "start_time": "2024-07-31T16:51:16.948Z"
   },
   {
    "duration": 20,
    "start_time": "2024-07-31T16:51:16.975Z"
   },
   {
    "duration": 2,
    "start_time": "2024-07-31T16:58:02.798Z"
   },
   {
    "duration": 65,
    "start_time": "2024-07-31T17:19:48.568Z"
   },
   {
    "duration": 6,
    "start_time": "2024-07-31T17:20:29.949Z"
   },
   {
    "duration": 44,
    "start_time": "2024-07-31T17:22:02.198Z"
   },
   {
    "duration": 7,
    "start_time": "2024-07-31T17:27:31.319Z"
   },
   {
    "duration": 5,
    "start_time": "2024-07-31T17:33:45.098Z"
   },
   {
    "duration": 4,
    "start_time": "2024-07-31T17:35:18.438Z"
   },
   {
    "duration": 4,
    "start_time": "2024-07-31T17:44:55.029Z"
   },
   {
    "duration": 694,
    "start_time": "2024-07-31T17:46:44.749Z"
   },
   {
    "duration": 30,
    "start_time": "2024-07-31T17:46:45.445Z"
   },
   {
    "duration": 19,
    "start_time": "2024-07-31T17:46:45.476Z"
   },
   {
    "duration": 63,
    "start_time": "2024-07-31T17:46:45.497Z"
   },
   {
    "duration": 1765,
    "start_time": "2024-07-31T17:46:45.562Z"
   },
   {
    "duration": 8,
    "start_time": "2024-07-31T17:46:47.329Z"
   },
   {
    "duration": 3,
    "start_time": "2024-07-31T17:46:47.339Z"
   },
   {
    "duration": 8,
    "start_time": "2024-07-31T17:46:47.343Z"
   },
   {
    "duration": 5,
    "start_time": "2024-07-31T17:46:47.352Z"
   },
   {
    "duration": 6,
    "start_time": "2024-07-31T17:46:47.359Z"
   },
   {
    "duration": 9,
    "start_time": "2024-07-31T17:46:47.366Z"
   },
   {
    "duration": 13,
    "start_time": "2024-07-31T17:47:15.859Z"
   },
   {
    "duration": 68,
    "start_time": "2024-07-31T17:47:30.258Z"
   },
   {
    "duration": 8,
    "start_time": "2024-07-31T17:47:37.570Z"
   },
   {
    "duration": 8,
    "start_time": "2024-07-31T17:48:00.295Z"
   },
   {
    "duration": 8,
    "start_time": "2024-07-31T17:48:04.309Z"
   },
   {
    "duration": 9,
    "start_time": "2024-07-31T17:48:17.988Z"
   },
   {
    "duration": 6,
    "start_time": "2024-07-31T17:48:32.440Z"
   },
   {
    "duration": 8,
    "start_time": "2024-07-31T17:50:02.337Z"
   },
   {
    "duration": 4,
    "start_time": "2024-07-31T17:52:19.199Z"
   },
   {
    "duration": 14,
    "start_time": "2024-07-31T17:52:21.113Z"
   },
   {
    "duration": 8,
    "start_time": "2024-07-31T17:52:49.640Z"
   },
   {
    "duration": 12,
    "start_time": "2024-07-31T17:53:00.398Z"
   },
   {
    "duration": 23,
    "start_time": "2024-07-31T17:53:39.868Z"
   },
   {
    "duration": 28,
    "start_time": "2024-07-31T17:54:02.311Z"
   },
   {
    "duration": 12,
    "start_time": "2024-07-31T17:57:26.738Z"
   },
   {
    "duration": 50,
    "start_time": "2024-07-31T18:02:21.489Z"
   },
   {
    "duration": 1037,
    "start_time": "2024-08-01T07:45:21.058Z"
   },
   {
    "duration": 34,
    "start_time": "2024-08-01T07:45:22.097Z"
   },
   {
    "duration": 17,
    "start_time": "2024-08-01T07:45:22.133Z"
   },
   {
    "duration": 90,
    "start_time": "2024-08-01T07:45:22.152Z"
   },
   {
    "duration": 2144,
    "start_time": "2024-08-01T07:45:22.244Z"
   },
   {
    "duration": 10,
    "start_time": "2024-08-01T07:45:24.390Z"
   },
   {
    "duration": 18,
    "start_time": "2024-08-01T07:45:24.402Z"
   },
   {
    "duration": 28,
    "start_time": "2024-08-01T07:45:24.422Z"
   },
   {
    "duration": 5,
    "start_time": "2024-08-01T07:45:24.452Z"
   },
   {
    "duration": 9,
    "start_time": "2024-08-01T07:45:24.459Z"
   },
   {
    "duration": 26,
    "start_time": "2024-08-01T07:45:24.469Z"
   },
   {
    "duration": 38,
    "start_time": "2024-08-01T07:45:24.497Z"
   },
   {
    "duration": 46,
    "start_time": "2024-08-01T07:45:24.537Z"
   },
   {
    "duration": 14,
    "start_time": "2024-08-01T07:46:28.117Z"
   },
   {
    "duration": 28,
    "start_time": "2024-08-01T07:46:30.406Z"
   },
   {
    "duration": 100,
    "start_time": "2024-08-01T07:48:56.460Z"
   },
   {
    "duration": 19,
    "start_time": "2024-08-01T07:49:22.157Z"
   },
   {
    "duration": 809,
    "start_time": "2024-08-01T09:26:06.661Z"
   },
   {
    "duration": 35,
    "start_time": "2024-08-01T09:26:07.472Z"
   },
   {
    "duration": 16,
    "start_time": "2024-08-01T09:26:07.508Z"
   },
   {
    "duration": 90,
    "start_time": "2024-08-01T09:26:07.526Z"
   },
   {
    "duration": 2246,
    "start_time": "2024-08-01T09:26:07.618Z"
   },
   {
    "duration": 10,
    "start_time": "2024-08-01T09:26:09.866Z"
   },
   {
    "duration": 6,
    "start_time": "2024-08-01T09:26:09.877Z"
   },
   {
    "duration": 5,
    "start_time": "2024-08-01T09:26:09.885Z"
   },
   {
    "duration": 8,
    "start_time": "2024-08-01T09:26:09.892Z"
   },
   {
    "duration": 8,
    "start_time": "2024-08-01T09:26:09.902Z"
   },
   {
    "duration": 729,
    "start_time": "2024-08-01T09:34:06.527Z"
   },
   {
    "duration": 40,
    "start_time": "2024-08-01T09:34:07.258Z"
   },
   {
    "duration": 17,
    "start_time": "2024-08-01T09:34:07.299Z"
   },
   {
    "duration": 91,
    "start_time": "2024-08-01T09:34:07.317Z"
   },
   {
    "duration": 2126,
    "start_time": "2024-08-01T09:34:07.410Z"
   },
   {
    "duration": 11,
    "start_time": "2024-08-01T09:34:09.539Z"
   },
   {
    "duration": 7,
    "start_time": "2024-08-01T09:34:09.552Z"
   },
   {
    "duration": 12,
    "start_time": "2024-08-01T09:34:09.560Z"
   },
   {
    "duration": 11,
    "start_time": "2024-08-01T09:34:09.573Z"
   },
   {
    "duration": 13,
    "start_time": "2024-08-01T09:34:09.586Z"
   },
   {
    "duration": 9,
    "start_time": "2024-08-01T09:34:09.601Z"
   },
   {
    "duration": 10,
    "start_time": "2024-08-01T09:34:44.067Z"
   },
   {
    "duration": 22,
    "start_time": "2024-08-01T09:35:10.293Z"
   },
   {
    "duration": 7,
    "start_time": "2024-08-01T09:37:10.326Z"
   },
   {
    "duration": 78,
    "start_time": "2024-08-01T09:37:22.227Z"
   },
   {
    "duration": 5,
    "start_time": "2024-08-01T09:37:36.096Z"
   },
   {
    "duration": 1183,
    "start_time": "2024-08-01T15:24:34.705Z"
   },
   {
    "duration": 34,
    "start_time": "2024-08-01T15:24:35.890Z"
   },
   {
    "duration": 22,
    "start_time": "2024-08-01T15:24:35.926Z"
   },
   {
    "duration": 92,
    "start_time": "2024-08-01T15:24:35.950Z"
   },
   {
    "duration": 2140,
    "start_time": "2024-08-01T15:24:36.044Z"
   },
   {
    "duration": 15,
    "start_time": "2024-08-01T15:24:38.186Z"
   },
   {
    "duration": 6,
    "start_time": "2024-08-01T15:24:38.203Z"
   },
   {
    "duration": 10,
    "start_time": "2024-08-01T15:24:38.210Z"
   },
   {
    "duration": 4,
    "start_time": "2024-08-01T15:24:38.222Z"
   },
   {
    "duration": 12,
    "start_time": "2024-08-01T15:24:38.228Z"
   },
   {
    "duration": 12,
    "start_time": "2024-08-01T15:24:38.241Z"
   },
   {
    "duration": 54,
    "start_time": "2024-08-01T15:24:38.255Z"
   },
   {
    "duration": 7,
    "start_time": "2024-08-01T15:24:38.311Z"
   },
   {
    "duration": 15,
    "start_time": "2024-08-01T15:25:17.716Z"
   },
   {
    "duration": 9,
    "start_time": "2024-08-01T15:25:25.105Z"
   },
   {
    "duration": 757,
    "start_time": "2024-08-01T15:25:51.651Z"
   },
   {
    "duration": 40,
    "start_time": "2024-08-01T15:25:52.411Z"
   },
   {
    "duration": 20,
    "start_time": "2024-08-01T15:25:52.452Z"
   },
   {
    "duration": 98,
    "start_time": "2024-08-01T15:25:52.474Z"
   },
   {
    "duration": 2254,
    "start_time": "2024-08-01T15:25:52.574Z"
   },
   {
    "duration": 12,
    "start_time": "2024-08-01T15:25:54.830Z"
   },
   {
    "duration": 14,
    "start_time": "2024-08-01T15:25:54.843Z"
   },
   {
    "duration": 7,
    "start_time": "2024-08-01T15:25:54.859Z"
   },
   {
    "duration": 6,
    "start_time": "2024-08-01T15:25:54.867Z"
   },
   {
    "duration": 15,
    "start_time": "2024-08-01T15:25:54.876Z"
   },
   {
    "duration": 28,
    "start_time": "2024-08-01T15:25:54.894Z"
   },
   {
    "duration": 21,
    "start_time": "2024-08-01T15:25:54.924Z"
   },
   {
    "duration": 5,
    "start_time": "2024-08-01T15:25:54.947Z"
   },
   {
    "duration": 12,
    "start_time": "2024-08-01T15:26:43.607Z"
   },
   {
    "duration": 7,
    "start_time": "2024-08-01T15:26:51.944Z"
   },
   {
    "duration": 65,
    "start_time": "2024-08-01T15:39:43.267Z"
   },
   {
    "duration": 6,
    "start_time": "2024-08-01T15:39:44.556Z"
   },
   {
    "duration": 16,
    "start_time": "2024-08-01T16:55:28.955Z"
   },
   {
    "duration": 134,
    "start_time": "2024-08-01T16:56:39.164Z"
   },
   {
    "duration": 245,
    "start_time": "2024-08-01T16:57:05.483Z"
   },
   {
    "duration": 5,
    "start_time": "2024-08-01T16:57:39.696Z"
   },
   {
    "duration": 5,
    "start_time": "2024-08-01T16:57:53.515Z"
   },
   {
    "duration": 9,
    "start_time": "2024-08-01T16:58:06.514Z"
   },
   {
    "duration": 5,
    "start_time": "2024-08-01T16:59:42.048Z"
   },
   {
    "duration": 53,
    "start_time": "2024-08-01T16:59:52.434Z"
   },
   {
    "duration": 7,
    "start_time": "2024-08-01T17:00:00.354Z"
   },
   {
    "duration": 6,
    "start_time": "2024-08-01T17:00:12.454Z"
   },
   {
    "duration": 37,
    "start_time": "2024-08-01T17:02:01.055Z"
   },
   {
    "duration": 39,
    "start_time": "2024-08-01T17:03:40.004Z"
   },
   {
    "duration": 51,
    "start_time": "2024-08-01T17:03:46.100Z"
   },
   {
    "duration": 19,
    "start_time": "2024-08-01T17:04:04.696Z"
   },
   {
    "duration": 54,
    "start_time": "2024-08-01T17:07:04.206Z"
   },
   {
    "duration": 8,
    "start_time": "2024-08-01T18:54:39.409Z"
   },
   {
    "duration": 89,
    "start_time": "2024-08-01T18:55:24.017Z"
   },
   {
    "duration": 26,
    "start_time": "2024-08-01T18:55:32.020Z"
   },
   {
    "duration": 6,
    "start_time": "2024-08-01T18:55:45.484Z"
   },
   {
    "duration": 8,
    "start_time": "2024-08-01T18:56:02.405Z"
   },
   {
    "duration": 7,
    "start_time": "2024-08-01T18:56:09.721Z"
   },
   {
    "duration": 6,
    "start_time": "2024-08-01T18:56:38.020Z"
   },
   {
    "duration": 7,
    "start_time": "2024-08-01T18:56:38.965Z"
   },
   {
    "duration": 1006,
    "start_time": "2024-08-02T05:44:55.136Z"
   },
   {
    "duration": 33,
    "start_time": "2024-08-02T05:44:56.144Z"
   },
   {
    "duration": 63,
    "start_time": "2024-08-02T05:44:56.179Z"
   },
   {
    "duration": 146,
    "start_time": "2024-08-02T05:44:56.244Z"
   },
   {
    "duration": 2190,
    "start_time": "2024-08-02T05:44:56.391Z"
   },
   {
    "duration": 14,
    "start_time": "2024-08-02T05:44:58.583Z"
   },
   {
    "duration": 17,
    "start_time": "2024-08-02T05:44:58.599Z"
   },
   {
    "duration": 8,
    "start_time": "2024-08-02T05:44:58.618Z"
   },
   {
    "duration": 24,
    "start_time": "2024-08-02T05:44:58.628Z"
   },
   {
    "duration": 12,
    "start_time": "2024-08-02T05:44:58.656Z"
   },
   {
    "duration": 14,
    "start_time": "2024-08-02T05:44:58.669Z"
   },
   {
    "duration": 21,
    "start_time": "2024-08-02T05:44:58.685Z"
   },
   {
    "duration": 56,
    "start_time": "2024-08-02T05:44:58.708Z"
   },
   {
    "duration": 118,
    "start_time": "2024-08-02T05:44:58.765Z"
   },
   {
    "duration": 6,
    "start_time": "2024-08-02T05:44:58.885Z"
   },
   {
    "duration": 16,
    "start_time": "2024-08-02T05:44:58.893Z"
   },
   {
    "duration": 9,
    "start_time": "2024-08-02T05:57:39.684Z"
   },
   {
    "duration": 6,
    "start_time": "2024-08-02T06:28:00.603Z"
   },
   {
    "duration": 75,
    "start_time": "2024-08-02T06:28:20.783Z"
   },
   {
    "duration": 43,
    "start_time": "2024-08-02T06:28:38.060Z"
   },
   {
    "duration": 8,
    "start_time": "2024-08-02T06:28:54.560Z"
   },
   {
    "duration": 8,
    "start_time": "2024-08-02T06:29:04.231Z"
   },
   {
    "duration": 7,
    "start_time": "2024-08-02T06:29:59.901Z"
   },
   {
    "duration": 771,
    "start_time": "2024-08-02T08:00:31.218Z"
   },
   {
    "duration": 637,
    "start_time": "2024-08-02T08:00:31.990Z"
   },
   {
    "duration": 318,
    "start_time": "2024-08-02T08:00:32.628Z"
   },
   {
    "duration": 79,
    "start_time": "2024-08-02T08:00:32.947Z"
   },
   {
    "duration": 2120,
    "start_time": "2024-08-02T08:00:33.029Z"
   },
   {
    "duration": 10,
    "start_time": "2024-08-02T08:00:35.150Z"
   },
   {
    "duration": 60,
    "start_time": "2024-08-02T08:00:35.162Z"
   },
   {
    "duration": 29,
    "start_time": "2024-08-02T08:00:35.224Z"
   },
   {
    "duration": 18,
    "start_time": "2024-08-02T08:00:35.255Z"
   },
   {
    "duration": 23,
    "start_time": "2024-08-02T08:00:35.275Z"
   },
   {
    "duration": 9,
    "start_time": "2024-08-02T08:00:35.300Z"
   },
   {
    "duration": 51,
    "start_time": "2024-08-02T08:00:35.310Z"
   },
   {
    "duration": 6,
    "start_time": "2024-08-02T08:00:35.362Z"
   },
   {
    "duration": 61,
    "start_time": "2024-08-02T08:00:35.371Z"
   },
   {
    "duration": 13,
    "start_time": "2024-08-02T08:00:35.434Z"
   },
   {
    "duration": 14,
    "start_time": "2024-08-02T08:00:35.448Z"
   },
   {
    "duration": 6,
    "start_time": "2024-08-02T08:00:35.463Z"
   },
   {
    "duration": 5,
    "start_time": "2024-08-02T08:02:18.204Z"
   },
   {
    "duration": 6,
    "start_time": "2024-08-02T08:02:26.981Z"
   },
   {
    "duration": 5,
    "start_time": "2024-08-02T08:02:49.694Z"
   },
   {
    "duration": 7,
    "start_time": "2024-08-02T08:02:50.315Z"
   },
   {
    "duration": 4,
    "start_time": "2024-08-02T08:03:19.718Z"
   },
   {
    "duration": 5,
    "start_time": "2024-08-02T08:03:20.608Z"
   },
   {
    "duration": 4,
    "start_time": "2024-08-02T08:03:24.572Z"
   },
   {
    "duration": 6,
    "start_time": "2024-08-02T08:03:25.296Z"
   },
   {
    "duration": 108,
    "start_time": "2024-08-02T08:04:01.482Z"
   },
   {
    "duration": 53,
    "start_time": "2024-08-02T08:04:12.153Z"
   },
   {
    "duration": 5,
    "start_time": "2024-08-02T08:04:34.198Z"
   },
   {
    "duration": 47,
    "start_time": "2024-08-02T08:04:35.247Z"
   },
   {
    "duration": 5,
    "start_time": "2024-08-02T08:06:19.766Z"
   },
   {
    "duration": 47,
    "start_time": "2024-08-02T08:06:21.843Z"
   },
   {
    "duration": 50,
    "start_time": "2024-08-02T09:53:09.244Z"
   },
   {
    "duration": 1221,
    "start_time": "2024-08-02T09:53:22.478Z"
   },
   {
    "duration": 33,
    "start_time": "2024-08-02T09:53:23.701Z"
   },
   {
    "duration": 22,
    "start_time": "2024-08-02T09:53:23.736Z"
   },
   {
    "duration": 83,
    "start_time": "2024-08-02T09:53:23.760Z"
   },
   {
    "duration": 2020,
    "start_time": "2024-08-02T09:53:23.844Z"
   },
   {
    "duration": 11,
    "start_time": "2024-08-02T09:53:25.865Z"
   },
   {
    "duration": 14,
    "start_time": "2024-08-02T09:53:25.878Z"
   },
   {
    "duration": 5,
    "start_time": "2024-08-02T09:53:25.894Z"
   },
   {
    "duration": 10,
    "start_time": "2024-08-02T09:53:25.901Z"
   },
   {
    "duration": 22,
    "start_time": "2024-08-02T09:53:25.913Z"
   },
   {
    "duration": 9,
    "start_time": "2024-08-02T09:53:25.936Z"
   },
   {
    "duration": 28,
    "start_time": "2024-08-02T09:53:25.946Z"
   },
   {
    "duration": 5,
    "start_time": "2024-08-02T09:53:25.976Z"
   },
   {
    "duration": 62,
    "start_time": "2024-08-02T09:53:25.983Z"
   },
   {
    "duration": 5,
    "start_time": "2024-08-02T09:53:26.048Z"
   },
   {
    "duration": 33,
    "start_time": "2024-08-02T09:53:26.055Z"
   },
   {
    "duration": 8,
    "start_time": "2024-08-02T09:53:26.089Z"
   },
   {
    "duration": 10,
    "start_time": "2024-08-02T09:53:26.098Z"
   },
   {
    "duration": 6,
    "start_time": "2024-08-02T09:53:31.404Z"
   },
   {
    "duration": 748,
    "start_time": "2024-08-02T10:59:02.898Z"
   },
   {
    "duration": 34,
    "start_time": "2024-08-02T10:59:03.648Z"
   },
   {
    "duration": 25,
    "start_time": "2024-08-02T10:59:03.683Z"
   },
   {
    "duration": 73,
    "start_time": "2024-08-02T10:59:03.710Z"
   },
   {
    "duration": 2048,
    "start_time": "2024-08-02T10:59:03.784Z"
   },
   {
    "duration": 10,
    "start_time": "2024-08-02T10:59:05.834Z"
   },
   {
    "duration": 5,
    "start_time": "2024-08-02T10:59:05.846Z"
   },
   {
    "duration": 5,
    "start_time": "2024-08-02T10:59:05.852Z"
   },
   {
    "duration": 16,
    "start_time": "2024-08-02T10:59:05.859Z"
   },
   {
    "duration": 39,
    "start_time": "2024-08-02T10:59:05.877Z"
   },
   {
    "duration": 10,
    "start_time": "2024-08-02T10:59:05.918Z"
   },
   {
    "duration": 22,
    "start_time": "2024-08-02T10:59:05.930Z"
   },
   {
    "duration": 8,
    "start_time": "2024-08-02T10:59:05.953Z"
   },
   {
    "duration": 79,
    "start_time": "2024-08-02T10:59:05.962Z"
   },
   {
    "duration": 6,
    "start_time": "2024-08-02T10:59:06.042Z"
   },
   {
    "duration": 17,
    "start_time": "2024-08-02T10:59:06.049Z"
   },
   {
    "duration": 4,
    "start_time": "2024-08-02T10:59:06.068Z"
   },
   {
    "duration": 16,
    "start_time": "2024-08-02T10:59:06.073Z"
   },
   {
    "duration": 790,
    "start_time": "2024-08-02T10:59:32.089Z"
   },
   {
    "duration": 43,
    "start_time": "2024-08-02T10:59:32.881Z"
   },
   {
    "duration": 21,
    "start_time": "2024-08-02T10:59:32.926Z"
   },
   {
    "duration": 93,
    "start_time": "2024-08-02T10:59:32.948Z"
   },
   {
    "duration": 2021,
    "start_time": "2024-08-02T10:59:33.043Z"
   },
   {
    "duration": 10,
    "start_time": "2024-08-02T10:59:35.065Z"
   },
   {
    "duration": 6,
    "start_time": "2024-08-02T10:59:35.077Z"
   },
   {
    "duration": 7,
    "start_time": "2024-08-02T10:59:35.084Z"
   },
   {
    "duration": 7,
    "start_time": "2024-08-02T10:59:35.093Z"
   },
   {
    "duration": 12,
    "start_time": "2024-08-02T10:59:35.103Z"
   },
   {
    "duration": 9,
    "start_time": "2024-08-02T10:59:35.117Z"
   },
   {
    "duration": 23,
    "start_time": "2024-08-02T10:59:35.127Z"
   },
   {
    "duration": 6,
    "start_time": "2024-08-02T10:59:35.152Z"
   },
   {
    "duration": 84,
    "start_time": "2024-08-02T10:59:35.159Z"
   },
   {
    "duration": 7,
    "start_time": "2024-08-02T10:59:35.245Z"
   },
   {
    "duration": 12,
    "start_time": "2024-08-02T10:59:35.254Z"
   },
   {
    "duration": 24,
    "start_time": "2024-08-02T10:59:35.267Z"
   },
   {
    "duration": 8,
    "start_time": "2024-08-02T10:59:35.292Z"
   },
   {
    "duration": 6,
    "start_time": "2024-08-02T11:02:26.331Z"
   },
   {
    "duration": 6,
    "start_time": "2024-08-02T11:32:09.572Z"
   },
   {
    "duration": 8,
    "start_time": "2024-08-02T11:32:13.916Z"
   },
   {
    "duration": 6,
    "start_time": "2024-08-02T11:33:09.438Z"
   },
   {
    "duration": 7,
    "start_time": "2024-08-02T11:33:47.016Z"
   },
   {
    "duration": 57,
    "start_time": "2024-08-02T11:34:15.409Z"
   },
   {
    "duration": 59,
    "start_time": "2024-08-02T11:34:32.901Z"
   },
   {
    "duration": 327,
    "start_time": "2024-08-02T13:11:39.344Z"
   },
   {
    "duration": 37,
    "start_time": "2024-08-02T13:11:51.464Z"
   },
   {
    "duration": 344,
    "start_time": "2024-08-02T13:19:30.805Z"
   },
   {
    "duration": 9,
    "start_time": "2024-08-02T13:20:23.349Z"
   },
   {
    "duration": 4,
    "start_time": "2024-08-02T14:11:02.006Z"
   },
   {
    "duration": 4,
    "start_time": "2024-08-02T14:11:11.896Z"
   },
   {
    "duration": 5,
    "start_time": "2024-08-02T14:11:44.525Z"
   },
   {
    "duration": 6,
    "start_time": "2024-08-02T14:11:55.425Z"
   },
   {
    "duration": 13,
    "start_time": "2024-08-02T14:16:19.866Z"
   },
   {
    "duration": 965,
    "start_time": "2024-08-03T09:27:24.063Z"
   },
   {
    "duration": 34,
    "start_time": "2024-08-03T09:27:25.030Z"
   },
   {
    "duration": 17,
    "start_time": "2024-08-03T09:27:25.066Z"
   },
   {
    "duration": 84,
    "start_time": "2024-08-03T09:27:25.086Z"
   },
   {
    "duration": 2006,
    "start_time": "2024-08-03T09:27:25.171Z"
   },
   {
    "duration": 10,
    "start_time": "2024-08-03T09:27:27.179Z"
   },
   {
    "duration": 7,
    "start_time": "2024-08-03T09:27:27.191Z"
   },
   {
    "duration": 6,
    "start_time": "2024-08-03T09:27:27.200Z"
   },
   {
    "duration": 4,
    "start_time": "2024-08-03T09:27:27.208Z"
   },
   {
    "duration": 12,
    "start_time": "2024-08-03T09:27:27.215Z"
   },
   {
    "duration": 19,
    "start_time": "2024-08-03T09:27:27.229Z"
   },
   {
    "duration": 35,
    "start_time": "2024-08-03T09:27:27.249Z"
   },
   {
    "duration": 6,
    "start_time": "2024-08-03T09:27:27.285Z"
   },
   {
    "duration": 70,
    "start_time": "2024-08-03T09:27:27.292Z"
   },
   {
    "duration": 5,
    "start_time": "2024-08-03T09:27:27.364Z"
   },
   {
    "duration": 8,
    "start_time": "2024-08-03T09:27:27.370Z"
   },
   {
    "duration": 37,
    "start_time": "2024-08-03T09:27:27.379Z"
   },
   {
    "duration": 4,
    "start_time": "2024-08-03T09:27:27.417Z"
   },
   {
    "duration": 6,
    "start_time": "2024-08-03T09:27:27.423Z"
   },
   {
    "duration": 16,
    "start_time": "2024-08-03T09:27:27.430Z"
   },
   {
    "duration": 6,
    "start_time": "2024-08-03T09:27:27.447Z"
   },
   {
    "duration": 346,
    "start_time": "2024-08-03T09:27:27.455Z"
   },
   {
    "duration": 4,
    "start_time": "2024-08-03T09:27:27.802Z"
   },
   {
    "duration": 70,
    "start_time": "2024-08-03T09:30:35.882Z"
   },
   {
    "duration": 10,
    "start_time": "2024-08-03T09:31:48.683Z"
   },
   {
    "duration": 4,
    "start_time": "2024-08-03T09:33:10.982Z"
   },
   {
    "duration": 6,
    "start_time": "2024-08-03T09:33:17.052Z"
   },
   {
    "duration": 11,
    "start_time": "2024-08-03T09:34:16.463Z"
   },
   {
    "duration": 6,
    "start_time": "2024-08-03T09:36:24.966Z"
   },
   {
    "duration": 13,
    "start_time": "2024-08-03T09:37:19.172Z"
   },
   {
    "duration": 4,
    "start_time": "2024-08-03T09:37:34.380Z"
   },
   {
    "duration": 15,
    "start_time": "2024-08-03T09:37:54.700Z"
   },
   {
    "duration": 14,
    "start_time": "2024-08-03T09:38:10.091Z"
   },
   {
    "duration": 122,
    "start_time": "2024-08-03T09:48:26.231Z"
   },
   {
    "duration": 253,
    "start_time": "2024-08-03T09:48:44.543Z"
   },
   {
    "duration": 1484,
    "start_time": "2024-08-03T09:51:20.394Z"
   },
   {
    "duration": 739,
    "start_time": "2024-08-03T09:51:27.078Z"
   },
   {
    "duration": 215,
    "start_time": "2024-08-03T09:51:32.036Z"
   },
   {
    "duration": 461,
    "start_time": "2024-08-03T09:51:39.925Z"
   },
   {
    "duration": 458,
    "start_time": "2024-08-03T09:51:47.767Z"
   },
   {
    "duration": 624,
    "start_time": "2024-08-03T09:51:55.100Z"
   },
   {
    "duration": 848,
    "start_time": "2024-08-03T09:52:17.407Z"
   },
   {
    "duration": 166,
    "start_time": "2024-08-03T09:53:44.796Z"
   },
   {
    "duration": 221,
    "start_time": "2024-08-03T09:53:57.734Z"
   },
   {
    "duration": 10,
    "start_time": "2024-08-03T09:54:31.358Z"
   },
   {
    "duration": 4,
    "start_time": "2024-08-03T10:16:04.487Z"
   },
   {
    "duration": 14,
    "start_time": "2024-08-03T11:05:21.899Z"
   },
   {
    "duration": 241,
    "start_time": "2024-08-03T11:05:38.829Z"
   },
   {
    "duration": 188,
    "start_time": "2024-08-03T11:06:38.660Z"
   },
   {
    "duration": 170,
    "start_time": "2024-08-03T11:06:52.181Z"
   },
   {
    "duration": 360,
    "start_time": "2024-08-03T11:07:43.929Z"
   },
   {
    "duration": 198,
    "start_time": "2024-08-03T11:07:50.139Z"
   },
   {
    "duration": 173,
    "start_time": "2024-08-03T11:09:57.200Z"
   },
   {
    "duration": 179,
    "start_time": "2024-08-03T11:10:24.669Z"
   },
   {
    "duration": 139,
    "start_time": "2024-08-03T11:13:11.060Z"
   },
   {
    "duration": 125,
    "start_time": "2024-08-03T11:13:24.940Z"
   },
   {
    "duration": 171,
    "start_time": "2024-08-03T11:13:44.339Z"
   },
   {
    "duration": 104,
    "start_time": "2024-08-03T11:14:17.859Z"
   },
   {
    "duration": 133,
    "start_time": "2024-08-03T11:14:25.290Z"
   },
   {
    "duration": 146,
    "start_time": "2024-08-03T11:14:37.391Z"
   },
   {
    "duration": 184,
    "start_time": "2024-08-03T11:15:02.349Z"
   },
   {
    "duration": 6,
    "start_time": "2024-08-03T11:17:54.142Z"
   },
   {
    "duration": 180,
    "start_time": "2024-08-03T11:20:06.711Z"
   },
   {
    "duration": 154,
    "start_time": "2024-08-03T11:20:23.471Z"
   },
   {
    "duration": 933,
    "start_time": "2024-08-03T11:20:44.243Z"
   },
   {
    "duration": 156,
    "start_time": "2024-08-03T11:24:29.474Z"
   },
   {
    "duration": 179,
    "start_time": "2024-08-03T11:24:55.740Z"
   },
   {
    "duration": 181,
    "start_time": "2024-08-03T11:25:11.493Z"
   },
   {
    "duration": 224,
    "start_time": "2024-08-03T11:25:19.879Z"
   },
   {
    "duration": 63,
    "start_time": "2024-08-03T11:26:36.278Z"
   },
   {
    "duration": 424,
    "start_time": "2024-08-03T11:26:40.038Z"
   },
   {
    "duration": 122,
    "start_time": "2024-08-03T11:27:52.051Z"
   },
   {
    "duration": 234,
    "start_time": "2024-08-03T11:28:05.591Z"
   },
   {
    "duration": 637,
    "start_time": "2024-08-03T11:28:19.141Z"
   },
   {
    "duration": 161,
    "start_time": "2024-08-03T11:28:47.399Z"
   },
   {
    "duration": 2,
    "start_time": "2024-08-03T11:45:24.064Z"
   },
   {
    "duration": 3,
    "start_time": "2024-08-03T11:46:47.520Z"
   },
   {
    "duration": 1058,
    "start_time": "2024-08-03T12:25:33.826Z"
   },
   {
    "duration": 12,
    "start_time": "2024-08-03T12:25:50.987Z"
   },
   {
    "duration": 123,
    "start_time": "2024-08-03T12:26:27.710Z"
   },
   {
    "duration": 156,
    "start_time": "2024-08-03T12:26:43.627Z"
   },
   {
    "duration": 440,
    "start_time": "2024-08-03T12:27:17.387Z"
   },
   {
    "duration": 193,
    "start_time": "2024-08-03T12:27:25.563Z"
   },
   {
    "duration": 168,
    "start_time": "2024-08-03T12:27:41.917Z"
   },
   {
    "duration": 10,
    "start_time": "2024-08-03T12:40:36.056Z"
   },
   {
    "duration": 172,
    "start_time": "2024-08-03T12:40:55.127Z"
   },
   {
    "duration": 635,
    "start_time": "2024-08-03T12:41:14.584Z"
   },
   {
    "duration": 632,
    "start_time": "2024-08-03T12:43:44.527Z"
   },
   {
    "duration": 652,
    "start_time": "2024-08-03T12:44:30.100Z"
   },
   {
    "duration": 10,
    "start_time": "2024-08-03T12:45:35.177Z"
   },
   {
    "duration": 27,
    "start_time": "2024-08-03T12:48:23.906Z"
   },
   {
    "duration": 4,
    "start_time": "2024-08-03T12:58:34.335Z"
   },
   {
    "duration": 4,
    "start_time": "2024-08-03T12:58:49.238Z"
   },
   {
    "duration": 796,
    "start_time": "2024-08-03T12:58:56.715Z"
   },
   {
    "duration": 37,
    "start_time": "2024-08-03T12:58:57.513Z"
   },
   {
    "duration": 16,
    "start_time": "2024-08-03T12:58:57.551Z"
   },
   {
    "duration": 95,
    "start_time": "2024-08-03T12:58:57.571Z"
   },
   {
    "duration": 2046,
    "start_time": "2024-08-03T12:58:57.667Z"
   },
   {
    "duration": 10,
    "start_time": "2024-08-03T12:58:59.714Z"
   },
   {
    "duration": 35,
    "start_time": "2024-08-03T12:58:59.726Z"
   },
   {
    "duration": 6,
    "start_time": "2024-08-03T12:58:59.763Z"
   },
   {
    "duration": 10,
    "start_time": "2024-08-03T12:58:59.770Z"
   },
   {
    "duration": 11,
    "start_time": "2024-08-03T12:58:59.783Z"
   },
   {
    "duration": 8,
    "start_time": "2024-08-03T12:58:59.795Z"
   },
   {
    "duration": 8,
    "start_time": "2024-08-03T12:58:59.804Z"
   },
   {
    "duration": 21,
    "start_time": "2024-08-03T12:58:59.813Z"
   },
   {
    "duration": 22,
    "start_time": "2024-08-03T12:58:59.835Z"
   },
   {
    "duration": 69,
    "start_time": "2024-08-03T12:58:59.859Z"
   },
   {
    "duration": 5,
    "start_time": "2024-08-03T12:58:59.930Z"
   },
   {
    "duration": 19,
    "start_time": "2024-08-03T12:58:59.937Z"
   },
   {
    "duration": 29,
    "start_time": "2024-08-03T12:58:59.957Z"
   },
   {
    "duration": 3,
    "start_time": "2024-08-03T12:58:59.988Z"
   },
   {
    "duration": 37,
    "start_time": "2024-08-03T12:58:59.992Z"
   },
   {
    "duration": 46,
    "start_time": "2024-08-03T12:59:00.031Z"
   },
   {
    "duration": 73,
    "start_time": "2024-08-03T12:59:00.079Z"
   },
   {
    "duration": 45,
    "start_time": "2024-08-03T12:59:00.154Z"
   },
   {
    "duration": 349,
    "start_time": "2024-08-03T12:59:00.200Z"
   },
   {
    "duration": 5,
    "start_time": "2024-08-03T12:59:00.551Z"
   },
   {
    "duration": 257,
    "start_time": "2024-08-03T12:59:00.557Z"
   },
   {
    "duration": 230,
    "start_time": "2024-08-03T12:59:00.816Z"
   },
   {
    "duration": 24,
    "start_time": "2024-08-03T12:59:01.049Z"
   },
   {
    "duration": 278,
    "start_time": "2024-08-03T12:59:01.075Z"
   },
   {
    "duration": 9,
    "start_time": "2024-08-03T12:59:01.355Z"
   },
   {
    "duration": 256,
    "start_time": "2024-08-03T12:59:01.366Z"
   },
   {
    "duration": 224,
    "start_time": "2024-08-03T12:59:01.623Z"
   },
   {
    "duration": 832,
    "start_time": "2024-08-03T12:59:01.848Z"
   },
   {
    "duration": 57,
    "start_time": "2024-08-03T13:03:54.727Z"
   },
   {
    "duration": 749,
    "start_time": "2024-08-03T13:04:14.323Z"
   },
   {
    "duration": 36,
    "start_time": "2024-08-03T13:04:15.075Z"
   },
   {
    "duration": 35,
    "start_time": "2024-08-03T13:04:15.113Z"
   },
   {
    "duration": 83,
    "start_time": "2024-08-03T13:04:15.150Z"
   },
   {
    "duration": 2049,
    "start_time": "2024-08-03T13:04:15.235Z"
   },
   {
    "duration": 10,
    "start_time": "2024-08-03T13:04:17.286Z"
   },
   {
    "duration": 63,
    "start_time": "2024-08-03T13:04:17.298Z"
   },
   {
    "duration": 23,
    "start_time": "2024-08-03T13:04:17.363Z"
   },
   {
    "duration": 18,
    "start_time": "2024-08-03T13:04:17.387Z"
   },
   {
    "duration": 11,
    "start_time": "2024-08-03T13:04:17.407Z"
   },
   {
    "duration": 14,
    "start_time": "2024-08-03T13:04:17.420Z"
   },
   {
    "duration": 31,
    "start_time": "2024-08-03T13:04:17.436Z"
   },
   {
    "duration": 20,
    "start_time": "2024-08-03T13:04:17.469Z"
   },
   {
    "duration": 5,
    "start_time": "2024-08-03T13:04:17.491Z"
   },
   {
    "duration": 61,
    "start_time": "2024-08-03T13:04:17.497Z"
   },
   {
    "duration": 6,
    "start_time": "2024-08-03T13:04:17.560Z"
   },
   {
    "duration": 12,
    "start_time": "2024-08-03T13:04:17.567Z"
   },
   {
    "duration": 27,
    "start_time": "2024-08-03T13:04:17.581Z"
   },
   {
    "duration": 5,
    "start_time": "2024-08-03T13:04:17.609Z"
   },
   {
    "duration": 61,
    "start_time": "2024-08-03T13:04:17.616Z"
   },
   {
    "duration": 59,
    "start_time": "2024-08-03T13:04:17.678Z"
   },
   {
    "duration": 28,
    "start_time": "2024-08-03T13:04:17.739Z"
   },
   {
    "duration": 9,
    "start_time": "2024-08-03T13:04:17.768Z"
   },
   {
    "duration": 312,
    "start_time": "2024-08-03T13:04:17.779Z"
   },
   {
    "duration": 4,
    "start_time": "2024-08-03T13:04:18.093Z"
   },
   {
    "duration": 13,
    "start_time": "2024-08-03T13:04:18.099Z"
   },
   {
    "duration": 171,
    "start_time": "2024-08-03T13:04:18.113Z"
   },
   {
    "duration": 9,
    "start_time": "2024-08-03T13:04:18.287Z"
   },
   {
    "duration": 195,
    "start_time": "2024-08-03T13:04:18.297Z"
   },
   {
    "duration": 12,
    "start_time": "2024-08-03T13:04:18.493Z"
   },
   {
    "duration": 226,
    "start_time": "2024-08-03T13:04:18.507Z"
   },
   {
    "duration": 19,
    "start_time": "2024-08-03T13:04:18.735Z"
   },
   {
    "duration": 812,
    "start_time": "2024-08-03T13:04:18.756Z"
   },
   {
    "duration": 154,
    "start_time": "2024-08-03T13:04:44.616Z"
   },
   {
    "duration": 155,
    "start_time": "2024-08-03T13:04:50.496Z"
   },
   {
    "duration": 84,
    "start_time": "2024-08-03T13:04:58.136Z"
   },
   {
    "duration": 133,
    "start_time": "2024-08-03T13:05:06.304Z"
   },
   {
    "duration": 18,
    "start_time": "2024-08-03T13:19:30.614Z"
   },
   {
    "duration": 277,
    "start_time": "2024-08-03T13:19:39.099Z"
   },
   {
    "duration": 32,
    "start_time": "2024-08-03T13:36:45.204Z"
   },
   {
    "duration": 25,
    "start_time": "2024-08-03T13:37:05.375Z"
   },
   {
    "duration": 24,
    "start_time": "2024-08-03T13:37:14.285Z"
   },
   {
    "duration": 23,
    "start_time": "2024-08-03T13:38:40.933Z"
   },
   {
    "duration": 7,
    "start_time": "2024-08-03T13:41:23.825Z"
   },
   {
    "duration": 771,
    "start_time": "2024-08-03T13:47:47.200Z"
   },
   {
    "duration": 32,
    "start_time": "2024-08-03T13:47:47.973Z"
   },
   {
    "duration": 16,
    "start_time": "2024-08-03T13:47:48.006Z"
   },
   {
    "duration": 85,
    "start_time": "2024-08-03T13:47:48.025Z"
   },
   {
    "duration": 2034,
    "start_time": "2024-08-03T13:47:48.111Z"
   },
   {
    "duration": 10,
    "start_time": "2024-08-03T13:47:50.146Z"
   },
   {
    "duration": 12,
    "start_time": "2024-08-03T13:47:50.158Z"
   },
   {
    "duration": 23,
    "start_time": "2024-08-03T13:47:50.171Z"
   },
   {
    "duration": 9,
    "start_time": "2024-08-03T13:47:50.196Z"
   },
   {
    "duration": 12,
    "start_time": "2024-08-03T13:47:50.208Z"
   },
   {
    "duration": 14,
    "start_time": "2024-08-03T13:47:50.221Z"
   },
   {
    "duration": 26,
    "start_time": "2024-08-03T13:47:50.237Z"
   },
   {
    "duration": 21,
    "start_time": "2024-08-03T13:47:50.265Z"
   },
   {
    "duration": 6,
    "start_time": "2024-08-03T13:47:50.287Z"
   },
   {
    "duration": 52,
    "start_time": "2024-08-03T13:47:50.294Z"
   },
   {
    "duration": 5,
    "start_time": "2024-08-03T13:47:50.348Z"
   },
   {
    "duration": 13,
    "start_time": "2024-08-03T13:47:50.355Z"
   },
   {
    "duration": 21,
    "start_time": "2024-08-03T13:47:50.370Z"
   },
   {
    "duration": 3,
    "start_time": "2024-08-03T13:47:50.393Z"
   },
   {
    "duration": 28,
    "start_time": "2024-08-03T13:47:50.397Z"
   },
   {
    "duration": 22,
    "start_time": "2024-08-03T13:47:50.427Z"
   },
   {
    "duration": 12,
    "start_time": "2024-08-03T13:47:50.451Z"
   },
   {
    "duration": 42,
    "start_time": "2024-08-03T13:47:50.464Z"
   },
   {
    "duration": 15,
    "start_time": "2024-08-03T13:47:50.508Z"
   },
   {
    "duration": 304,
    "start_time": "2024-08-03T13:47:50.524Z"
   },
   {
    "duration": 5,
    "start_time": "2024-08-03T13:47:50.829Z"
   },
   {
    "duration": 72,
    "start_time": "2024-08-03T13:47:50.835Z"
   },
   {
    "duration": 209,
    "start_time": "2024-08-03T13:47:50.911Z"
   },
   {
    "duration": 23,
    "start_time": "2024-08-03T13:47:51.122Z"
   },
   {
    "duration": 196,
    "start_time": "2024-08-03T13:47:51.147Z"
   },
   {
    "duration": 10,
    "start_time": "2024-08-03T13:47:51.345Z"
   },
   {
    "duration": 182,
    "start_time": "2024-08-03T13:47:51.356Z"
   },
   {
    "duration": 12,
    "start_time": "2024-08-03T13:47:51.540Z"
   },
   {
    "duration": 341,
    "start_time": "2024-08-03T13:47:51.553Z"
   },
   {
    "duration": 144,
    "start_time": "2024-08-03T13:48:04.839Z"
   },
   {
    "duration": 234,
    "start_time": "2024-08-03T13:48:38.017Z"
   },
   {
    "duration": 3,
    "start_time": "2024-08-03T13:51:23.275Z"
   },
   {
    "duration": 8,
    "start_time": "2024-08-03T13:53:18.887Z"
   },
   {
    "duration": 9,
    "start_time": "2024-08-03T13:55:33.202Z"
   },
   {
    "duration": 152,
    "start_time": "2024-08-03T13:55:45.745Z"
   },
   {
    "duration": 82,
    "start_time": "2024-08-03T13:56:29.477Z"
   },
   {
    "duration": 144,
    "start_time": "2024-08-03T13:56:35.027Z"
   },
   {
    "duration": 77,
    "start_time": "2024-08-03T13:56:41.513Z"
   },
   {
    "duration": 161,
    "start_time": "2024-08-03T13:56:45.643Z"
   },
   {
    "duration": 5,
    "start_time": "2024-08-03T13:57:09.517Z"
   },
   {
    "duration": 142,
    "start_time": "2024-08-03T13:57:37.628Z"
   },
   {
    "duration": 37,
    "start_time": "2024-08-03T14:00:04.292Z"
   },
   {
    "duration": 12,
    "start_time": "2024-08-03T14:00:29.167Z"
   },
   {
    "duration": 9,
    "start_time": "2024-08-03T14:00:34.780Z"
   },
   {
    "duration": 11,
    "start_time": "2024-08-03T14:46:11.476Z"
   },
   {
    "duration": 135,
    "start_time": "2024-08-03T14:46:49.828Z"
   },
   {
    "duration": 1081,
    "start_time": "2024-08-03T16:26:28.593Z"
   },
   {
    "duration": 40,
    "start_time": "2024-08-03T16:26:29.676Z"
   },
   {
    "duration": 14,
    "start_time": "2024-08-03T16:26:29.718Z"
   },
   {
    "duration": 79,
    "start_time": "2024-08-03T16:26:29.734Z"
   },
   {
    "duration": 1936,
    "start_time": "2024-08-03T16:26:29.814Z"
   },
   {
    "duration": 9,
    "start_time": "2024-08-03T16:26:31.752Z"
   },
   {
    "duration": 21,
    "start_time": "2024-08-03T16:26:31.762Z"
   },
   {
    "duration": 8,
    "start_time": "2024-08-03T16:26:31.785Z"
   },
   {
    "duration": 15,
    "start_time": "2024-08-03T16:26:31.795Z"
   },
   {
    "duration": 15,
    "start_time": "2024-08-03T16:26:31.814Z"
   },
   {
    "duration": 8,
    "start_time": "2024-08-03T16:26:31.830Z"
   },
   {
    "duration": 18,
    "start_time": "2024-08-03T16:26:31.839Z"
   },
   {
    "duration": 33,
    "start_time": "2024-08-03T16:26:31.859Z"
   },
   {
    "duration": 12,
    "start_time": "2024-08-03T16:26:31.895Z"
   },
   {
    "duration": 53,
    "start_time": "2024-08-03T16:26:31.909Z"
   },
   {
    "duration": 19,
    "start_time": "2024-08-03T16:26:31.964Z"
   },
   {
    "duration": 16,
    "start_time": "2024-08-03T16:26:31.986Z"
   },
   {
    "duration": 26,
    "start_time": "2024-08-03T16:26:32.005Z"
   },
   {
    "duration": 4,
    "start_time": "2024-08-03T16:26:32.032Z"
   },
   {
    "duration": 12,
    "start_time": "2024-08-03T16:26:32.038Z"
   },
   {
    "duration": 4,
    "start_time": "2024-08-03T16:26:32.052Z"
   },
   {
    "duration": 27,
    "start_time": "2024-08-03T16:26:32.057Z"
   },
   {
    "duration": 7,
    "start_time": "2024-08-03T16:26:32.086Z"
   },
   {
    "duration": 18,
    "start_time": "2024-08-03T16:26:32.095Z"
   },
   {
    "duration": 303,
    "start_time": "2024-08-03T16:26:32.115Z"
   },
   {
    "duration": 5,
    "start_time": "2024-08-03T16:26:32.420Z"
   },
   {
    "duration": 20,
    "start_time": "2024-08-03T16:26:32.427Z"
   },
   {
    "duration": 153,
    "start_time": "2024-08-03T16:26:32.450Z"
   },
   {
    "duration": 9,
    "start_time": "2024-08-03T16:26:32.604Z"
   },
   {
    "duration": 187,
    "start_time": "2024-08-03T16:26:32.614Z"
   },
   {
    "duration": 8,
    "start_time": "2024-08-03T16:26:32.802Z"
   },
   {
    "duration": 183,
    "start_time": "2024-08-03T16:26:32.812Z"
   },
   {
    "duration": 8,
    "start_time": "2024-08-03T16:26:32.997Z"
   },
   {
    "duration": 334,
    "start_time": "2024-08-03T16:26:33.006Z"
   },
   {
    "duration": 7,
    "start_time": "2024-08-03T16:26:33.342Z"
   },
   {
    "duration": 150,
    "start_time": "2024-08-03T16:26:33.350Z"
   },
   {
    "duration": 7,
    "start_time": "2024-08-03T16:26:33.502Z"
   },
   {
    "duration": 134,
    "start_time": "2024-08-03T16:26:33.511Z"
   },
   {
    "duration": 85,
    "start_time": "2024-08-03T16:29:50.493Z"
   },
   {
    "duration": 731,
    "start_time": "2024-08-03T16:30:15.761Z"
   },
   {
    "duration": 29,
    "start_time": "2024-08-03T16:30:16.495Z"
   },
   {
    "duration": 15,
    "start_time": "2024-08-03T16:30:16.526Z"
   },
   {
    "duration": 89,
    "start_time": "2024-08-03T16:30:16.542Z"
   },
   {
    "duration": 1887,
    "start_time": "2024-08-03T16:30:16.632Z"
   },
   {
    "duration": 9,
    "start_time": "2024-08-03T16:30:18.520Z"
   },
   {
    "duration": 6,
    "start_time": "2024-08-03T16:30:18.530Z"
   },
   {
    "duration": 22,
    "start_time": "2024-08-03T16:30:18.538Z"
   },
   {
    "duration": 11,
    "start_time": "2024-08-03T16:30:18.562Z"
   },
   {
    "duration": 26,
    "start_time": "2024-08-03T16:30:18.575Z"
   },
   {
    "duration": 7,
    "start_time": "2024-08-03T16:30:18.603Z"
   },
   {
    "duration": 16,
    "start_time": "2024-08-03T16:30:18.611Z"
   },
   {
    "duration": 18,
    "start_time": "2024-08-03T16:30:18.629Z"
   },
   {
    "duration": 8,
    "start_time": "2024-08-03T16:30:18.650Z"
   },
   {
    "duration": 60,
    "start_time": "2024-08-03T16:30:18.660Z"
   },
   {
    "duration": 5,
    "start_time": "2024-08-03T16:30:18.722Z"
   },
   {
    "duration": 13,
    "start_time": "2024-08-03T16:30:18.729Z"
   },
   {
    "duration": 96,
    "start_time": "2024-08-03T16:30:18.744Z"
   },
   {
    "duration": 0,
    "start_time": "2024-08-03T16:30:18.843Z"
   },
   {
    "duration": 0,
    "start_time": "2024-08-03T16:30:18.843Z"
   },
   {
    "duration": 0,
    "start_time": "2024-08-03T16:30:18.844Z"
   },
   {
    "duration": 0,
    "start_time": "2024-08-03T16:30:18.845Z"
   },
   {
    "duration": 0,
    "start_time": "2024-08-03T16:30:18.847Z"
   },
   {
    "duration": 0,
    "start_time": "2024-08-03T16:30:18.848Z"
   },
   {
    "duration": 0,
    "start_time": "2024-08-03T16:30:18.849Z"
   },
   {
    "duration": 0,
    "start_time": "2024-08-03T16:30:18.850Z"
   },
   {
    "duration": 0,
    "start_time": "2024-08-03T16:30:18.851Z"
   },
   {
    "duration": 0,
    "start_time": "2024-08-03T16:30:18.851Z"
   },
   {
    "duration": 0,
    "start_time": "2024-08-03T16:30:18.852Z"
   },
   {
    "duration": 0,
    "start_time": "2024-08-03T16:30:18.853Z"
   },
   {
    "duration": 0,
    "start_time": "2024-08-03T16:30:18.854Z"
   },
   {
    "duration": 0,
    "start_time": "2024-08-03T16:30:18.854Z"
   },
   {
    "duration": 0,
    "start_time": "2024-08-03T16:30:18.855Z"
   },
   {
    "duration": 0,
    "start_time": "2024-08-03T16:30:18.856Z"
   },
   {
    "duration": 0,
    "start_time": "2024-08-03T16:30:18.857Z"
   },
   {
    "duration": 0,
    "start_time": "2024-08-03T16:30:18.882Z"
   },
   {
    "duration": 0,
    "start_time": "2024-08-03T16:30:18.888Z"
   },
   {
    "duration": 0,
    "start_time": "2024-08-03T16:30:18.889Z"
   },
   {
    "duration": 0,
    "start_time": "2024-08-03T16:30:18.891Z"
   },
   {
    "duration": 21,
    "start_time": "2024-08-03T16:30:46.883Z"
   },
   {
    "duration": 26,
    "start_time": "2024-08-03T16:31:40.502Z"
   },
   {
    "duration": 11,
    "start_time": "2024-08-03T16:31:55.943Z"
   },
   {
    "duration": 28,
    "start_time": "2024-08-03T16:32:31.793Z"
   },
   {
    "duration": 40,
    "start_time": "2024-08-03T16:32:54.472Z"
   },
   {
    "duration": 37,
    "start_time": "2024-08-03T16:33:07.994Z"
   },
   {
    "duration": 40,
    "start_time": "2024-08-03T16:33:24.184Z"
   },
   {
    "duration": 50,
    "start_time": "2024-08-03T16:34:48.874Z"
   },
   {
    "duration": 8,
    "start_time": "2024-08-03T16:35:11.783Z"
   },
   {
    "duration": 744,
    "start_time": "2024-08-03T16:39:00.463Z"
   },
   {
    "duration": 34,
    "start_time": "2024-08-03T16:39:01.208Z"
   },
   {
    "duration": 30,
    "start_time": "2024-08-03T16:39:01.244Z"
   },
   {
    "duration": 112,
    "start_time": "2024-08-03T16:39:01.276Z"
   },
   {
    "duration": 2012,
    "start_time": "2024-08-03T16:39:01.390Z"
   },
   {
    "duration": 8,
    "start_time": "2024-08-03T16:39:03.404Z"
   },
   {
    "duration": 4,
    "start_time": "2024-08-03T16:39:03.414Z"
   },
   {
    "duration": 4,
    "start_time": "2024-08-03T16:39:03.420Z"
   },
   {
    "duration": 4,
    "start_time": "2024-08-03T16:39:03.425Z"
   },
   {
    "duration": 13,
    "start_time": "2024-08-03T16:39:03.430Z"
   },
   {
    "duration": 8,
    "start_time": "2024-08-03T16:39:03.444Z"
   },
   {
    "duration": 8,
    "start_time": "2024-08-03T16:39:03.453Z"
   },
   {
    "duration": 21,
    "start_time": "2024-08-03T16:39:03.462Z"
   },
   {
    "duration": 7,
    "start_time": "2024-08-03T16:39:03.487Z"
   },
   {
    "duration": 50,
    "start_time": "2024-08-03T16:39:03.496Z"
   },
   {
    "duration": 5,
    "start_time": "2024-08-03T16:39:03.547Z"
   },
   {
    "duration": 36,
    "start_time": "2024-08-03T16:39:03.553Z"
   },
   {
    "duration": 8,
    "start_time": "2024-08-03T16:39:03.592Z"
   },
   {
    "duration": 22,
    "start_time": "2024-08-03T16:39:03.601Z"
   },
   {
    "duration": 4,
    "start_time": "2024-08-03T16:39:03.624Z"
   },
   {
    "duration": 12,
    "start_time": "2024-08-03T16:39:03.629Z"
   },
   {
    "duration": 4,
    "start_time": "2024-08-03T16:39:03.643Z"
   },
   {
    "duration": 12,
    "start_time": "2024-08-03T16:39:03.648Z"
   },
   {
    "duration": 25,
    "start_time": "2024-08-03T16:39:03.661Z"
   },
   {
    "duration": 7,
    "start_time": "2024-08-03T16:39:03.688Z"
   },
   {
    "duration": 301,
    "start_time": "2024-08-03T16:39:03.698Z"
   },
   {
    "duration": 4,
    "start_time": "2024-08-03T16:39:04.001Z"
   },
   {
    "duration": 9,
    "start_time": "2024-08-03T16:39:04.006Z"
   },
   {
    "duration": 148,
    "start_time": "2024-08-03T16:39:04.016Z"
   },
   {
    "duration": 22,
    "start_time": "2024-08-03T16:39:04.165Z"
   },
   {
    "duration": 176,
    "start_time": "2024-08-03T16:39:04.188Z"
   },
   {
    "duration": 21,
    "start_time": "2024-08-03T16:39:04.366Z"
   },
   {
    "duration": 164,
    "start_time": "2024-08-03T16:39:04.388Z"
   },
   {
    "duration": 8,
    "start_time": "2024-08-03T16:39:04.554Z"
   },
   {
    "duration": 319,
    "start_time": "2024-08-03T16:39:04.564Z"
   },
   {
    "duration": 11,
    "start_time": "2024-08-03T16:39:04.885Z"
   },
   {
    "duration": 146,
    "start_time": "2024-08-03T16:39:04.898Z"
   },
   {
    "duration": 7,
    "start_time": "2024-08-03T16:39:05.046Z"
   },
   {
    "duration": 156,
    "start_time": "2024-08-03T16:39:05.054Z"
   },
   {
    "duration": 77,
    "start_time": "2024-08-03T16:39:32.524Z"
   },
   {
    "duration": 151,
    "start_time": "2024-08-03T16:39:40.424Z"
   },
   {
    "duration": 169,
    "start_time": "2024-08-03T16:39:50.695Z"
   },
   {
    "duration": 136,
    "start_time": "2024-08-03T16:40:00.939Z"
   },
   {
    "duration": 7,
    "start_time": "2024-08-03T16:56:09.197Z"
   },
   {
    "duration": 12,
    "start_time": "2024-08-03T17:12:03.190Z"
   },
   {
    "duration": 10,
    "start_time": "2024-08-03T17:12:17.620Z"
   },
   {
    "duration": 694,
    "start_time": "2024-08-03T17:12:26.490Z"
   },
   {
    "duration": 31,
    "start_time": "2024-08-03T17:12:27.186Z"
   },
   {
    "duration": 14,
    "start_time": "2024-08-03T17:12:27.219Z"
   },
   {
    "duration": 81,
    "start_time": "2024-08-03T17:12:27.235Z"
   },
   {
    "duration": 1797,
    "start_time": "2024-08-03T17:12:27.317Z"
   },
   {
    "duration": 9,
    "start_time": "2024-08-03T17:12:29.116Z"
   },
   {
    "duration": 4,
    "start_time": "2024-08-03T17:12:29.126Z"
   },
   {
    "duration": 5,
    "start_time": "2024-08-03T17:12:29.131Z"
   },
   {
    "duration": 10,
    "start_time": "2024-08-03T17:12:29.137Z"
   },
   {
    "duration": 10,
    "start_time": "2024-08-03T17:12:29.149Z"
   },
   {
    "duration": 7,
    "start_time": "2024-08-03T17:12:29.160Z"
   },
   {
    "duration": 11,
    "start_time": "2024-08-03T17:12:29.168Z"
   },
   {
    "duration": 20,
    "start_time": "2024-08-03T17:12:29.180Z"
   },
   {
    "duration": 5,
    "start_time": "2024-08-03T17:12:29.201Z"
   },
   {
    "duration": 48,
    "start_time": "2024-08-03T17:12:29.207Z"
   },
   {
    "duration": 5,
    "start_time": "2024-08-03T17:12:29.256Z"
   },
   {
    "duration": 26,
    "start_time": "2024-08-03T17:12:29.262Z"
   },
   {
    "duration": 7,
    "start_time": "2024-08-03T17:12:29.289Z"
   },
   {
    "duration": 20,
    "start_time": "2024-08-03T17:12:29.297Z"
   },
   {
    "duration": 3,
    "start_time": "2024-08-03T17:12:29.319Z"
   },
   {
    "duration": 4,
    "start_time": "2024-08-03T17:12:29.323Z"
   },
   {
    "duration": 5,
    "start_time": "2024-08-03T17:12:29.328Z"
   },
   {
    "duration": 5,
    "start_time": "2024-08-03T17:12:29.334Z"
   },
   {
    "duration": 11,
    "start_time": "2024-08-03T17:12:29.340Z"
   },
   {
    "duration": 30,
    "start_time": "2024-08-03T17:12:29.352Z"
   },
   {
    "duration": 271,
    "start_time": "2024-08-03T17:12:29.384Z"
   },
   {
    "duration": 4,
    "start_time": "2024-08-03T17:12:29.656Z"
   },
   {
    "duration": 19,
    "start_time": "2024-08-03T17:12:29.663Z"
   },
   {
    "duration": 141,
    "start_time": "2024-08-03T17:12:29.683Z"
   },
   {
    "duration": 9,
    "start_time": "2024-08-03T17:12:29.825Z"
   },
   {
    "duration": 168,
    "start_time": "2024-08-03T17:12:29.835Z"
   },
   {
    "duration": 9,
    "start_time": "2024-08-03T17:12:30.004Z"
   },
   {
    "duration": 207,
    "start_time": "2024-08-03T17:12:30.014Z"
   },
   {
    "duration": 11,
    "start_time": "2024-08-03T17:12:30.223Z"
   },
   {
    "duration": 339,
    "start_time": "2024-08-03T17:12:30.237Z"
   },
   {
    "duration": 10,
    "start_time": "2024-08-03T17:12:30.577Z"
   },
   {
    "duration": 163,
    "start_time": "2024-08-03T17:12:30.588Z"
   },
   {
    "duration": 8,
    "start_time": "2024-08-03T17:12:30.752Z"
   },
   {
    "duration": 159,
    "start_time": "2024-08-03T17:12:30.761Z"
   },
   {
    "duration": 64,
    "start_time": "2024-08-03T17:14:24.010Z"
   },
   {
    "duration": 108,
    "start_time": "2024-08-03T17:14:29.659Z"
   },
   {
    "duration": 12,
    "start_time": "2024-08-03T17:15:08.090Z"
   },
   {
    "duration": 735,
    "start_time": "2024-08-03T17:16:59.666Z"
   },
   {
    "duration": 29,
    "start_time": "2024-08-03T17:17:00.403Z"
   },
   {
    "duration": 42,
    "start_time": "2024-08-03T17:17:00.433Z"
   },
   {
    "duration": 137,
    "start_time": "2024-08-03T17:17:00.477Z"
   },
   {
    "duration": 1998,
    "start_time": "2024-08-03T17:17:00.616Z"
   },
   {
    "duration": 8,
    "start_time": "2024-08-03T17:17:02.616Z"
   },
   {
    "duration": 7,
    "start_time": "2024-08-03T17:17:02.625Z"
   },
   {
    "duration": 24,
    "start_time": "2024-08-03T17:17:02.633Z"
   },
   {
    "duration": 38,
    "start_time": "2024-08-03T17:17:02.659Z"
   },
   {
    "duration": 37,
    "start_time": "2024-08-03T17:17:02.699Z"
   },
   {
    "duration": 7,
    "start_time": "2024-08-03T17:17:02.738Z"
   },
   {
    "duration": 6,
    "start_time": "2024-08-03T17:17:02.746Z"
   },
   {
    "duration": 20,
    "start_time": "2024-08-03T17:17:02.753Z"
   },
   {
    "duration": 31,
    "start_time": "2024-08-03T17:17:02.774Z"
   },
   {
    "duration": 60,
    "start_time": "2024-08-03T17:17:02.806Z"
   },
   {
    "duration": 6,
    "start_time": "2024-08-03T17:17:02.868Z"
   },
   {
    "duration": 27,
    "start_time": "2024-08-03T17:17:02.876Z"
   },
   {
    "duration": 10,
    "start_time": "2024-08-03T17:17:02.905Z"
   },
   {
    "duration": 31,
    "start_time": "2024-08-03T17:17:02.917Z"
   },
   {
    "duration": 4,
    "start_time": "2024-08-03T17:17:02.949Z"
   },
   {
    "duration": 6,
    "start_time": "2024-08-03T17:17:02.954Z"
   },
   {
    "duration": 5,
    "start_time": "2024-08-03T17:17:02.961Z"
   },
   {
    "duration": 7,
    "start_time": "2024-08-03T17:17:02.982Z"
   },
   {
    "duration": 19,
    "start_time": "2024-08-03T17:17:02.990Z"
   },
   {
    "duration": 9,
    "start_time": "2024-08-03T17:17:03.010Z"
   },
   {
    "duration": 276,
    "start_time": "2024-08-03T17:17:03.020Z"
   },
   {
    "duration": 5,
    "start_time": "2024-08-03T17:17:03.297Z"
   },
   {
    "duration": 8,
    "start_time": "2024-08-03T17:17:03.306Z"
   },
   {
    "duration": 156,
    "start_time": "2024-08-03T17:17:03.315Z"
   },
   {
    "duration": 15,
    "start_time": "2024-08-03T17:17:03.473Z"
   },
   {
    "duration": 168,
    "start_time": "2024-08-03T17:17:03.489Z"
   },
   {
    "duration": 10,
    "start_time": "2024-08-03T17:17:03.659Z"
   },
   {
    "duration": 155,
    "start_time": "2024-08-03T17:17:03.682Z"
   },
   {
    "duration": 9,
    "start_time": "2024-08-03T17:17:03.839Z"
   },
   {
    "duration": 288,
    "start_time": "2024-08-03T17:17:03.849Z"
   },
   {
    "duration": 8,
    "start_time": "2024-08-03T17:17:04.138Z"
   },
   {
    "duration": 141,
    "start_time": "2024-08-03T17:17:04.147Z"
   },
   {
    "duration": 8,
    "start_time": "2024-08-03T17:17:04.290Z"
   },
   {
    "duration": 143,
    "start_time": "2024-08-03T17:17:04.299Z"
   },
   {
    "duration": 114,
    "start_time": "2024-08-03T17:17:04.444Z"
   },
   {
    "duration": 8,
    "start_time": "2024-08-03T17:17:04.559Z"
   },
   {
    "duration": 11,
    "start_time": "2024-08-03T17:18:32.078Z"
   },
   {
    "duration": 1082,
    "start_time": "2024-08-04T06:08:11.363Z"
   },
   {
    "duration": 42,
    "start_time": "2024-08-04T06:08:12.447Z"
   },
   {
    "duration": 16,
    "start_time": "2024-08-04T06:08:12.490Z"
   },
   {
    "duration": 73,
    "start_time": "2024-08-04T06:08:12.508Z"
   },
   {
    "duration": 1771,
    "start_time": "2024-08-04T06:08:12.583Z"
   },
   {
    "duration": 9,
    "start_time": "2024-08-04T06:08:14.356Z"
   },
   {
    "duration": 4,
    "start_time": "2024-08-04T06:08:14.367Z"
   },
   {
    "duration": 4,
    "start_time": "2024-08-04T06:08:14.373Z"
   },
   {
    "duration": 3,
    "start_time": "2024-08-04T06:08:14.382Z"
   },
   {
    "duration": 10,
    "start_time": "2024-08-04T06:08:14.387Z"
   },
   {
    "duration": 7,
    "start_time": "2024-08-04T06:08:14.399Z"
   },
   {
    "duration": 13,
    "start_time": "2024-08-04T06:08:14.407Z"
   },
   {
    "duration": 20,
    "start_time": "2024-08-04T06:08:14.421Z"
   },
   {
    "duration": 5,
    "start_time": "2024-08-04T06:08:14.442Z"
   },
   {
    "duration": 66,
    "start_time": "2024-08-04T06:08:14.448Z"
   },
   {
    "duration": 5,
    "start_time": "2024-08-04T06:08:14.515Z"
   },
   {
    "duration": 18,
    "start_time": "2024-08-04T06:08:14.521Z"
   },
   {
    "duration": 7,
    "start_time": "2024-08-04T06:08:14.540Z"
   },
   {
    "duration": 35,
    "start_time": "2024-08-04T06:08:14.548Z"
   },
   {
    "duration": 3,
    "start_time": "2024-08-04T06:08:14.584Z"
   },
   {
    "duration": 7,
    "start_time": "2024-08-04T06:08:14.588Z"
   },
   {
    "duration": 12,
    "start_time": "2024-08-04T06:08:14.596Z"
   },
   {
    "duration": 5,
    "start_time": "2024-08-04T06:08:14.610Z"
   },
   {
    "duration": 11,
    "start_time": "2024-08-04T06:08:14.617Z"
   },
   {
    "duration": 7,
    "start_time": "2024-08-04T06:08:14.629Z"
   },
   {
    "duration": 282,
    "start_time": "2024-08-04T06:08:14.637Z"
   },
   {
    "duration": 4,
    "start_time": "2024-08-04T06:08:14.921Z"
   },
   {
    "duration": 11,
    "start_time": "2024-08-04T06:08:14.928Z"
   },
   {
    "duration": 151,
    "start_time": "2024-08-04T06:08:14.940Z"
   },
   {
    "duration": 8,
    "start_time": "2024-08-04T06:08:15.093Z"
   },
   {
    "duration": 191,
    "start_time": "2024-08-04T06:08:15.103Z"
   },
   {
    "duration": 9,
    "start_time": "2024-08-04T06:08:15.295Z"
   },
   {
    "duration": 165,
    "start_time": "2024-08-04T06:08:15.306Z"
   },
   {
    "duration": 14,
    "start_time": "2024-08-04T06:08:15.473Z"
   },
   {
    "duration": 287,
    "start_time": "2024-08-04T06:08:15.489Z"
   },
   {
    "duration": 7,
    "start_time": "2024-08-04T06:08:15.781Z"
   },
   {
    "duration": 145,
    "start_time": "2024-08-04T06:08:15.790Z"
   },
   {
    "duration": 8,
    "start_time": "2024-08-04T06:08:15.936Z"
   },
   {
    "duration": 168,
    "start_time": "2024-08-04T06:08:15.945Z"
   },
   {
    "duration": 9,
    "start_time": "2024-08-04T06:08:16.115Z"
   },
   {
    "duration": 125,
    "start_time": "2024-08-04T06:08:16.126Z"
   },
   {
    "duration": 4,
    "start_time": "2024-08-04T06:12:25.829Z"
   },
   {
    "duration": 4,
    "start_time": "2024-08-04T06:12:31.321Z"
   },
   {
    "duration": 9,
    "start_time": "2024-08-04T06:19:31.148Z"
   },
   {
    "duration": 104,
    "start_time": "2024-08-04T06:19:45.168Z"
   },
   {
    "duration": 24,
    "start_time": "2024-08-04T06:20:19.428Z"
   },
   {
    "duration": 8,
    "start_time": "2024-08-04T06:21:16.187Z"
   },
   {
    "duration": 9,
    "start_time": "2024-08-04T06:22:06.749Z"
   },
   {
    "duration": 5,
    "start_time": "2024-08-04T06:35:02.497Z"
   },
   {
    "duration": 19,
    "start_time": "2024-08-04T06:35:10.595Z"
   },
   {
    "duration": 36,
    "start_time": "2024-08-04T06:35:33.767Z"
   },
   {
    "duration": 20,
    "start_time": "2024-08-04T06:38:00.790Z"
   },
   {
    "duration": 19,
    "start_time": "2024-08-04T06:38:10.028Z"
   },
   {
    "duration": 61,
    "start_time": "2024-08-04T06:38:23.547Z"
   },
   {
    "duration": 36,
    "start_time": "2024-08-04T06:38:27.899Z"
   },
   {
    "duration": 5,
    "start_time": "2024-08-04T06:38:54.077Z"
   },
   {
    "duration": 730,
    "start_time": "2024-08-04T06:39:22.848Z"
   },
   {
    "duration": 29,
    "start_time": "2024-08-04T06:39:23.580Z"
   },
   {
    "duration": 15,
    "start_time": "2024-08-04T06:39:23.610Z"
   },
   {
    "duration": 81,
    "start_time": "2024-08-04T06:39:23.626Z"
   },
   {
    "duration": 1733,
    "start_time": "2024-08-04T06:39:23.709Z"
   },
   {
    "duration": 8,
    "start_time": "2024-08-04T06:39:25.444Z"
   },
   {
    "duration": 4,
    "start_time": "2024-08-04T06:39:25.453Z"
   },
   {
    "duration": 8,
    "start_time": "2024-08-04T06:39:25.458Z"
   },
   {
    "duration": 14,
    "start_time": "2024-08-04T06:39:25.467Z"
   },
   {
    "duration": 12,
    "start_time": "2024-08-04T06:39:25.482Z"
   },
   {
    "duration": 7,
    "start_time": "2024-08-04T06:39:25.495Z"
   },
   {
    "duration": 9,
    "start_time": "2024-08-04T06:39:25.503Z"
   },
   {
    "duration": 23,
    "start_time": "2024-08-04T06:39:25.513Z"
   },
   {
    "duration": 5,
    "start_time": "2024-08-04T06:39:25.538Z"
   },
   {
    "duration": 59,
    "start_time": "2024-08-04T06:39:25.544Z"
   },
   {
    "duration": 5,
    "start_time": "2024-08-04T06:39:25.605Z"
   },
   {
    "duration": 8,
    "start_time": "2024-08-04T06:39:25.611Z"
   },
   {
    "duration": 6,
    "start_time": "2024-08-04T06:39:25.620Z"
   },
   {
    "duration": 20,
    "start_time": "2024-08-04T06:39:25.628Z"
   },
   {
    "duration": 3,
    "start_time": "2024-08-04T06:39:25.650Z"
   },
   {
    "duration": 27,
    "start_time": "2024-08-04T06:39:25.655Z"
   },
   {
    "duration": 5,
    "start_time": "2024-08-04T06:39:25.683Z"
   },
   {
    "duration": 4,
    "start_time": "2024-08-04T06:39:25.689Z"
   },
   {
    "duration": 7,
    "start_time": "2024-08-04T06:39:25.695Z"
   },
   {
    "duration": 5,
    "start_time": "2024-08-04T06:39:25.703Z"
   },
   {
    "duration": 9,
    "start_time": "2024-08-04T06:39:25.709Z"
   },
   {
    "duration": 275,
    "start_time": "2024-08-04T06:39:25.720Z"
   },
   {
    "duration": 3,
    "start_time": "2024-08-04T06:39:25.996Z"
   },
   {
    "duration": 11,
    "start_time": "2024-08-04T06:39:26.001Z"
   },
   {
    "duration": 147,
    "start_time": "2024-08-04T06:39:26.013Z"
   },
   {
    "duration": 8,
    "start_time": "2024-08-04T06:39:26.161Z"
   },
   {
    "duration": 180,
    "start_time": "2024-08-04T06:39:26.170Z"
   },
   {
    "duration": 8,
    "start_time": "2024-08-04T06:39:26.352Z"
   },
   {
    "duration": 157,
    "start_time": "2024-08-04T06:39:26.361Z"
   },
   {
    "duration": 8,
    "start_time": "2024-08-04T06:39:26.519Z"
   },
   {
    "duration": 282,
    "start_time": "2024-08-04T06:39:26.528Z"
   },
   {
    "duration": 7,
    "start_time": "2024-08-04T06:39:26.811Z"
   },
   {
    "duration": 138,
    "start_time": "2024-08-04T06:39:26.820Z"
   },
   {
    "duration": 8,
    "start_time": "2024-08-04T06:39:26.959Z"
   },
   {
    "duration": 140,
    "start_time": "2024-08-04T06:39:26.968Z"
   },
   {
    "duration": 8,
    "start_time": "2024-08-04T06:39:27.112Z"
   },
   {
    "duration": 117,
    "start_time": "2024-08-04T06:39:27.122Z"
   },
   {
    "duration": 7,
    "start_time": "2024-08-04T06:39:27.241Z"
   },
   {
    "duration": 141,
    "start_time": "2024-08-04T06:39:27.250Z"
   },
   {
    "duration": 11,
    "start_time": "2024-08-04T06:39:27.392Z"
   },
   {
    "duration": 7,
    "start_time": "2024-08-04T06:41:33.273Z"
   },
   {
    "duration": 683,
    "start_time": "2024-08-04T06:41:52.800Z"
   },
   {
    "duration": 31,
    "start_time": "2024-08-04T06:41:53.484Z"
   },
   {
    "duration": 14,
    "start_time": "2024-08-04T06:41:53.516Z"
   },
   {
    "duration": 80,
    "start_time": "2024-08-04T06:41:53.532Z"
   },
   {
    "duration": 1729,
    "start_time": "2024-08-04T06:41:53.613Z"
   },
   {
    "duration": 9,
    "start_time": "2024-08-04T06:41:55.343Z"
   },
   {
    "duration": 28,
    "start_time": "2024-08-04T06:41:55.353Z"
   },
   {
    "duration": 14,
    "start_time": "2024-08-04T06:41:55.382Z"
   },
   {
    "duration": 5,
    "start_time": "2024-08-04T06:41:55.397Z"
   },
   {
    "duration": 14,
    "start_time": "2024-08-04T06:41:55.404Z"
   },
   {
    "duration": 10,
    "start_time": "2024-08-04T06:41:55.419Z"
   },
   {
    "duration": 5,
    "start_time": "2024-08-04T06:41:55.431Z"
   },
   {
    "duration": 21,
    "start_time": "2024-08-04T06:41:55.437Z"
   },
   {
    "duration": 4,
    "start_time": "2024-08-04T06:41:55.460Z"
   },
   {
    "duration": 79,
    "start_time": "2024-08-04T06:41:55.466Z"
   },
   {
    "duration": 5,
    "start_time": "2024-08-04T06:41:55.547Z"
   },
   {
    "duration": 27,
    "start_time": "2024-08-04T06:41:55.553Z"
   },
   {
    "duration": 12,
    "start_time": "2024-08-04T06:41:55.582Z"
   },
   {
    "duration": 20,
    "start_time": "2024-08-04T06:41:55.595Z"
   },
   {
    "duration": 3,
    "start_time": "2024-08-04T06:41:55.617Z"
   },
   {
    "duration": 5,
    "start_time": "2024-08-04T06:41:55.621Z"
   },
   {
    "duration": 11,
    "start_time": "2024-08-04T06:41:55.628Z"
   },
   {
    "duration": 4,
    "start_time": "2024-08-04T06:41:55.641Z"
   },
   {
    "duration": 6,
    "start_time": "2024-08-04T06:41:55.646Z"
   },
   {
    "duration": 5,
    "start_time": "2024-08-04T06:41:55.654Z"
   },
   {
    "duration": 22,
    "start_time": "2024-08-04T06:41:55.660Z"
   },
   {
    "duration": 265,
    "start_time": "2024-08-04T06:41:55.683Z"
   },
   {
    "duration": 4,
    "start_time": "2024-08-04T06:41:55.951Z"
   },
   {
    "duration": 10,
    "start_time": "2024-08-04T06:41:55.956Z"
   },
   {
    "duration": 152,
    "start_time": "2024-08-04T06:41:55.967Z"
   },
   {
    "duration": 9,
    "start_time": "2024-08-04T06:41:56.120Z"
   },
   {
    "duration": 178,
    "start_time": "2024-08-04T06:41:56.130Z"
   },
   {
    "duration": 8,
    "start_time": "2024-08-04T06:41:56.309Z"
   },
   {
    "duration": 163,
    "start_time": "2024-08-04T06:41:56.319Z"
   },
   {
    "duration": 7,
    "start_time": "2024-08-04T06:41:56.484Z"
   },
   {
    "duration": 282,
    "start_time": "2024-08-04T06:41:56.493Z"
   },
   {
    "duration": 7,
    "start_time": "2024-08-04T06:41:56.781Z"
   },
   {
    "duration": 155,
    "start_time": "2024-08-04T06:41:56.790Z"
   },
   {
    "duration": 8,
    "start_time": "2024-08-04T06:41:56.947Z"
   },
   {
    "duration": 153,
    "start_time": "2024-08-04T06:41:56.957Z"
   },
   {
    "duration": 8,
    "start_time": "2024-08-04T06:41:57.111Z"
   },
   {
    "duration": 115,
    "start_time": "2024-08-04T06:41:57.121Z"
   },
   {
    "duration": 8,
    "start_time": "2024-08-04T06:41:57.238Z"
   },
   {
    "duration": 139,
    "start_time": "2024-08-04T06:41:57.247Z"
   },
   {
    "duration": 136,
    "start_time": "2024-08-04T06:46:17.126Z"
   },
   {
    "duration": 149,
    "start_time": "2024-08-04T06:46:33.026Z"
   },
   {
    "duration": 6,
    "start_time": "2024-08-04T06:48:25.636Z"
   },
   {
    "duration": 123,
    "start_time": "2024-08-04T06:48:41.577Z"
   },
   {
    "duration": 9,
    "start_time": "2024-08-04T07:02:45.853Z"
   },
   {
    "duration": 115,
    "start_time": "2024-08-04T07:28:38.390Z"
   },
   {
    "duration": 10,
    "start_time": "2024-08-04T07:37:22.624Z"
   },
   {
    "duration": 10,
    "start_time": "2024-08-04T07:38:15.325Z"
   },
   {
    "duration": 122,
    "start_time": "2024-08-04T07:38:31.525Z"
   },
   {
    "duration": 25,
    "start_time": "2024-08-04T07:46:28.066Z"
   },
   {
    "duration": 19,
    "start_time": "2024-08-04T07:50:41.487Z"
   },
   {
    "duration": 8,
    "start_time": "2024-08-04T08:13:13.210Z"
   },
   {
    "duration": 7,
    "start_time": "2024-08-04T08:13:51.349Z"
   },
   {
    "duration": 7,
    "start_time": "2024-08-04T08:15:32.511Z"
   },
   {
    "duration": 94,
    "start_time": "2024-08-04T08:21:59.202Z"
   },
   {
    "duration": 89,
    "start_time": "2024-08-04T08:24:20.163Z"
   },
   {
    "duration": 9,
    "start_time": "2024-08-04T08:27:53.893Z"
   },
   {
    "duration": 5,
    "start_time": "2024-08-04T08:29:42.203Z"
   },
   {
    "duration": 4,
    "start_time": "2024-08-04T08:29:51.953Z"
   },
   {
    "duration": 7,
    "start_time": "2024-08-04T08:43:42.332Z"
   },
   {
    "duration": 697,
    "start_time": "2024-08-04T08:43:48.702Z"
   },
   {
    "duration": 29,
    "start_time": "2024-08-04T08:43:49.401Z"
   },
   {
    "duration": 15,
    "start_time": "2024-08-04T08:43:49.431Z"
   },
   {
    "duration": 83,
    "start_time": "2024-08-04T08:43:49.447Z"
   },
   {
    "duration": 1780,
    "start_time": "2024-08-04T08:43:49.531Z"
   },
   {
    "duration": 9,
    "start_time": "2024-08-04T08:43:51.312Z"
   },
   {
    "duration": 11,
    "start_time": "2024-08-04T08:43:51.322Z"
   },
   {
    "duration": 5,
    "start_time": "2024-08-04T08:43:51.335Z"
   },
   {
    "duration": 11,
    "start_time": "2024-08-04T08:43:51.342Z"
   },
   {
    "duration": 12,
    "start_time": "2024-08-04T08:43:51.357Z"
   },
   {
    "duration": 18,
    "start_time": "2024-08-04T08:43:51.371Z"
   },
   {
    "duration": 12,
    "start_time": "2024-08-04T08:43:51.391Z"
   },
   {
    "duration": 9,
    "start_time": "2024-08-04T08:43:51.405Z"
   },
   {
    "duration": 33,
    "start_time": "2024-08-04T08:43:51.416Z"
   },
   {
    "duration": 5,
    "start_time": "2024-08-04T08:43:51.450Z"
   },
   {
    "duration": 82,
    "start_time": "2024-08-04T08:43:51.456Z"
   },
   {
    "duration": 5,
    "start_time": "2024-08-04T08:43:51.540Z"
   },
   {
    "duration": 19,
    "start_time": "2024-08-04T08:43:51.547Z"
   },
   {
    "duration": 17,
    "start_time": "2024-08-04T08:43:51.568Z"
   },
   {
    "duration": 23,
    "start_time": "2024-08-04T08:43:51.586Z"
   },
   {
    "duration": 4,
    "start_time": "2024-08-04T08:43:51.611Z"
   },
   {
    "duration": 35,
    "start_time": "2024-08-04T08:43:51.616Z"
   },
   {
    "duration": 8,
    "start_time": "2024-08-04T08:43:51.653Z"
   },
   {
    "duration": 19,
    "start_time": "2024-08-04T08:43:51.662Z"
   },
   {
    "duration": 10,
    "start_time": "2024-08-04T08:43:51.683Z"
   },
   {
    "duration": 9,
    "start_time": "2024-08-04T08:43:51.694Z"
   },
   {
    "duration": 16,
    "start_time": "2024-08-04T08:43:51.704Z"
   },
   {
    "duration": 294,
    "start_time": "2024-08-04T08:43:51.723Z"
   },
   {
    "duration": 4,
    "start_time": "2024-08-04T08:43:52.018Z"
   },
   {
    "duration": 17,
    "start_time": "2024-08-04T08:43:52.024Z"
   },
   {
    "duration": 147,
    "start_time": "2024-08-04T08:43:52.042Z"
   },
   {
    "duration": 8,
    "start_time": "2024-08-04T08:43:52.191Z"
   },
   {
    "duration": 177,
    "start_time": "2024-08-04T08:43:52.200Z"
   },
   {
    "duration": 11,
    "start_time": "2024-08-04T08:43:52.378Z"
   },
   {
    "duration": 158,
    "start_time": "2024-08-04T08:43:52.390Z"
   },
   {
    "duration": 10,
    "start_time": "2024-08-04T08:43:52.549Z"
   },
   {
    "duration": 330,
    "start_time": "2024-08-04T08:43:52.561Z"
   },
   {
    "duration": 8,
    "start_time": "2024-08-04T08:43:52.892Z"
   },
   {
    "duration": 136,
    "start_time": "2024-08-04T08:43:52.902Z"
   },
   {
    "duration": 8,
    "start_time": "2024-08-04T08:43:53.040Z"
   },
   {
    "duration": 147,
    "start_time": "2024-08-04T08:43:53.049Z"
   },
   {
    "duration": 12,
    "start_time": "2024-08-04T08:43:53.199Z"
   },
   {
    "duration": 153,
    "start_time": "2024-08-04T08:43:53.213Z"
   },
   {
    "duration": 15,
    "start_time": "2024-08-04T08:43:53.367Z"
   },
   {
    "duration": 132,
    "start_time": "2024-08-04T08:43:53.383Z"
   },
   {
    "duration": 6,
    "start_time": "2024-08-04T08:43:53.516Z"
   },
   {
    "duration": 14,
    "start_time": "2024-08-04T08:43:53.524Z"
   },
   {
    "duration": 175,
    "start_time": "2024-08-04T08:43:53.540Z"
   },
   {
    "duration": 9,
    "start_time": "2024-08-04T08:43:53.717Z"
   },
   {
    "duration": 167,
    "start_time": "2024-08-04T08:43:53.727Z"
   },
   {
    "duration": 21,
    "start_time": "2024-08-04T08:43:53.896Z"
   },
   {
    "duration": 4,
    "start_time": "2024-08-04T08:43:53.919Z"
   },
   {
    "duration": 8,
    "start_time": "2024-08-04T08:43:53.925Z"
   },
   {
    "duration": 8,
    "start_time": "2024-08-04T08:44:51.656Z"
   },
   {
    "duration": 36,
    "start_time": "2024-08-04T08:45:21.243Z"
   },
   {
    "duration": 4,
    "start_time": "2024-08-04T08:47:20.163Z"
   },
   {
    "duration": 12,
    "start_time": "2024-08-04T08:49:16.423Z"
   },
   {
    "duration": 679,
    "start_time": "2024-08-04T08:50:28.362Z"
   },
   {
    "duration": 29,
    "start_time": "2024-08-04T08:50:29.043Z"
   },
   {
    "duration": 17,
    "start_time": "2024-08-04T08:50:29.074Z"
   },
   {
    "duration": 69,
    "start_time": "2024-08-04T08:50:29.092Z"
   },
   {
    "duration": 1771,
    "start_time": "2024-08-04T08:50:29.163Z"
   },
   {
    "duration": 8,
    "start_time": "2024-08-04T08:50:30.936Z"
   },
   {
    "duration": 42,
    "start_time": "2024-08-04T08:50:30.946Z"
   },
   {
    "duration": 55,
    "start_time": "2024-08-04T08:50:30.990Z"
   },
   {
    "duration": 61,
    "start_time": "2024-08-04T08:50:31.046Z"
   },
   {
    "duration": 44,
    "start_time": "2024-08-04T08:50:31.109Z"
   },
   {
    "duration": 53,
    "start_time": "2024-08-04T08:50:31.154Z"
   },
   {
    "duration": 43,
    "start_time": "2024-08-04T08:50:31.209Z"
   },
   {
    "duration": 30,
    "start_time": "2024-08-04T08:50:31.254Z"
   },
   {
    "duration": 47,
    "start_time": "2024-08-04T08:50:31.286Z"
   },
   {
    "duration": 64,
    "start_time": "2024-08-04T08:50:31.334Z"
   },
   {
    "duration": 12,
    "start_time": "2024-08-04T08:50:31.399Z"
   },
   {
    "duration": 44,
    "start_time": "2024-08-04T08:50:31.412Z"
   },
   {
    "duration": 58,
    "start_time": "2024-08-04T08:50:31.457Z"
   },
   {
    "duration": 69,
    "start_time": "2024-08-04T08:50:31.516Z"
   },
   {
    "duration": 48,
    "start_time": "2024-08-04T08:50:31.586Z"
   },
   {
    "duration": 21,
    "start_time": "2024-08-04T08:50:31.635Z"
   },
   {
    "duration": 26,
    "start_time": "2024-08-04T08:50:31.658Z"
   },
   {
    "duration": 36,
    "start_time": "2024-08-04T08:50:31.686Z"
   },
   {
    "duration": 34,
    "start_time": "2024-08-04T08:50:31.723Z"
   },
   {
    "duration": 15,
    "start_time": "2024-08-04T08:50:31.759Z"
   },
   {
    "duration": 5,
    "start_time": "2024-08-04T08:50:31.775Z"
   },
   {
    "duration": 304,
    "start_time": "2024-08-04T08:50:31.781Z"
   },
   {
    "duration": 3,
    "start_time": "2024-08-04T08:50:32.087Z"
   },
   {
    "duration": 43,
    "start_time": "2024-08-04T08:50:32.092Z"
   },
   {
    "duration": 131,
    "start_time": "2024-08-04T08:50:32.137Z"
   },
   {
    "duration": 12,
    "start_time": "2024-08-04T08:50:32.270Z"
   },
   {
    "duration": 172,
    "start_time": "2024-08-04T08:50:32.283Z"
   },
   {
    "duration": 7,
    "start_time": "2024-08-04T08:50:32.456Z"
   },
   {
    "duration": 155,
    "start_time": "2024-08-04T08:50:32.465Z"
   },
   {
    "duration": 7,
    "start_time": "2024-08-04T08:50:32.622Z"
   },
   {
    "duration": 306,
    "start_time": "2024-08-04T08:50:32.630Z"
   },
   {
    "duration": 7,
    "start_time": "2024-08-04T08:50:32.937Z"
   },
   {
    "duration": 127,
    "start_time": "2024-08-04T08:50:32.946Z"
   },
   {
    "duration": 7,
    "start_time": "2024-08-04T08:50:33.081Z"
   },
   {
    "duration": 150,
    "start_time": "2024-08-04T08:50:33.089Z"
   },
   {
    "duration": 11,
    "start_time": "2024-08-04T08:50:33.243Z"
   },
   {
    "duration": 121,
    "start_time": "2024-08-04T08:50:33.255Z"
   },
   {
    "duration": 12,
    "start_time": "2024-08-04T08:50:33.378Z"
   },
   {
    "duration": 135,
    "start_time": "2024-08-04T08:50:33.392Z"
   },
   {
    "duration": 6,
    "start_time": "2024-08-04T08:50:33.529Z"
   },
   {
    "duration": 8,
    "start_time": "2024-08-04T08:50:33.536Z"
   },
   {
    "duration": 145,
    "start_time": "2024-08-04T08:50:33.545Z"
   },
   {
    "duration": 8,
    "start_time": "2024-08-04T08:50:33.691Z"
   },
   {
    "duration": 133,
    "start_time": "2024-08-04T08:50:33.700Z"
   },
   {
    "duration": 15,
    "start_time": "2024-08-04T08:50:33.834Z"
   },
   {
    "duration": 7,
    "start_time": "2024-08-04T08:50:33.851Z"
   },
   {
    "duration": 126,
    "start_time": "2024-08-04T08:51:22.151Z"
   },
   {
    "duration": 210,
    "start_time": "2024-08-04T08:52:05.992Z"
   },
   {
    "duration": 406,
    "start_time": "2024-08-04T08:52:16.031Z"
   },
   {
    "duration": 73,
    "start_time": "2024-08-04T08:52:43.104Z"
   },
   {
    "duration": 425,
    "start_time": "2024-08-04T08:52:51.601Z"
   },
   {
    "duration": 365,
    "start_time": "2024-08-04T08:53:04.451Z"
   },
   {
    "duration": 447,
    "start_time": "2024-08-04T08:53:11.561Z"
   },
   {
    "duration": 338,
    "start_time": "2024-08-04T08:53:25.561Z"
   },
   {
    "duration": 336,
    "start_time": "2024-08-04T08:53:38.221Z"
   },
   {
    "duration": 339,
    "start_time": "2024-08-04T08:53:44.299Z"
   },
   {
    "duration": 334,
    "start_time": "2024-08-04T08:55:26.071Z"
   },
   {
    "duration": 8,
    "start_time": "2024-08-04T09:09:16.172Z"
   },
   {
    "duration": 10,
    "start_time": "2024-08-04T09:09:25.851Z"
   },
   {
    "duration": 7,
    "start_time": "2024-08-04T11:19:56.354Z"
   },
   {
    "duration": 8,
    "start_time": "2024-08-04T11:20:41.834Z"
   },
   {
    "duration": 39,
    "start_time": "2024-08-04T11:20:54.625Z"
   },
   {
    "duration": 10,
    "start_time": "2024-08-04T11:21:10.634Z"
   },
   {
    "duration": 15,
    "start_time": "2024-08-04T11:23:27.827Z"
   },
   {
    "duration": 8,
    "start_time": "2024-08-04T11:23:31.807Z"
   },
   {
    "duration": 51,
    "start_time": "2024-08-04T11:24:28.864Z"
   },
   {
    "duration": 7,
    "start_time": "2024-08-04T11:24:34.510Z"
   },
   {
    "duration": 11,
    "start_time": "2024-08-04T11:31:02.552Z"
   },
   {
    "duration": 10,
    "start_time": "2024-08-04T11:32:20.707Z"
   },
   {
    "duration": 11,
    "start_time": "2024-08-04T11:32:40.433Z"
   },
   {
    "duration": 17,
    "start_time": "2024-08-04T12:02:38.798Z"
   },
   {
    "duration": 20,
    "start_time": "2024-08-04T12:03:02.928Z"
   },
   {
    "duration": 16,
    "start_time": "2024-08-04T12:03:24.368Z"
   },
   {
    "duration": 26,
    "start_time": "2024-08-04T12:03:43.918Z"
   },
   {
    "duration": 34,
    "start_time": "2024-08-04T12:04:03.027Z"
   },
   {
    "duration": 37,
    "start_time": "2024-08-04T12:05:43.618Z"
   },
   {
    "duration": 23,
    "start_time": "2024-08-04T12:06:49.709Z"
   },
   {
    "duration": 43,
    "start_time": "2024-08-04T12:10:19.858Z"
   },
   {
    "duration": 24,
    "start_time": "2024-08-04T12:10:50.128Z"
   },
   {
    "duration": 9,
    "start_time": "2024-08-04T12:20:36.669Z"
   },
   {
    "duration": 32,
    "start_time": "2024-08-04T12:20:44.857Z"
   },
   {
    "duration": 17,
    "start_time": "2024-08-04T12:21:24.876Z"
   },
   {
    "duration": 37,
    "start_time": "2024-08-04T12:23:43.407Z"
   },
   {
    "duration": 37,
    "start_time": "2024-08-04T12:24:02.519Z"
   },
   {
    "duration": 17,
    "start_time": "2024-08-04T12:26:59.619Z"
   },
   {
    "duration": 22,
    "start_time": "2024-08-04T12:27:07.977Z"
   },
   {
    "duration": 25,
    "start_time": "2024-08-04T12:27:47.678Z"
   },
   {
    "duration": 28,
    "start_time": "2024-08-04T12:28:03.207Z"
   },
   {
    "duration": 67,
    "start_time": "2024-08-04T12:35:07.573Z"
   },
   {
    "duration": 165,
    "start_time": "2024-08-04T12:35:22.090Z"
   },
   {
    "duration": 29,
    "start_time": "2024-08-04T12:42:59.154Z"
   },
   {
    "duration": 156,
    "start_time": "2024-08-04T12:43:12.856Z"
   },
   {
    "duration": 143,
    "start_time": "2024-08-04T12:43:39.897Z"
   },
   {
    "duration": 54,
    "start_time": "2024-08-04T12:44:22.328Z"
   },
   {
    "duration": 62,
    "start_time": "2024-08-04T12:44:29.678Z"
   },
   {
    "duration": 154,
    "start_time": "2024-08-04T12:46:06.225Z"
   },
   {
    "duration": 23,
    "start_time": "2024-08-04T12:46:53.877Z"
   },
   {
    "duration": 55,
    "start_time": "2024-08-04T12:53:06.638Z"
   },
   {
    "duration": 169,
    "start_time": "2024-08-04T12:54:03.227Z"
   },
   {
    "duration": 141,
    "start_time": "2024-08-04T12:55:10.807Z"
   },
   {
    "duration": 20,
    "start_time": "2024-08-04T12:58:52.887Z"
   },
   {
    "duration": 684,
    "start_time": "2024-08-04T13:00:49.116Z"
   },
   {
    "duration": 161,
    "start_time": "2024-08-04T13:01:01.967Z"
   },
   {
    "duration": 25,
    "start_time": "2024-08-04T13:01:32.577Z"
   },
   {
    "duration": 55,
    "start_time": "2024-08-04T13:05:08.755Z"
   },
   {
    "duration": 29,
    "start_time": "2024-08-04T13:05:13.457Z"
   },
   {
    "duration": 25,
    "start_time": "2024-08-04T13:06:02.246Z"
   },
   {
    "duration": 891,
    "start_time": "2024-08-04T13:06:05.655Z"
   },
   {
    "duration": 25,
    "start_time": "2024-08-04T13:06:20.387Z"
   },
   {
    "duration": 737,
    "start_time": "2024-08-04T13:07:21.539Z"
   },
   {
    "duration": 153,
    "start_time": "2024-08-04T13:07:31.008Z"
   },
   {
    "duration": 139,
    "start_time": "2024-08-04T13:08:09.428Z"
   },
   {
    "duration": 21,
    "start_time": "2024-08-04T13:11:30.657Z"
   },
   {
    "duration": 19,
    "start_time": "2024-08-04T13:11:52.147Z"
   },
   {
    "duration": 18,
    "start_time": "2024-08-04T13:12:01.054Z"
   },
   {
    "duration": 20,
    "start_time": "2024-08-04T13:12:19.867Z"
   },
   {
    "duration": 20,
    "start_time": "2024-08-04T13:12:29.387Z"
   },
   {
    "duration": 22,
    "start_time": "2024-08-04T13:12:57.358Z"
   },
   {
    "duration": 15,
    "start_time": "2024-08-04T13:13:04.628Z"
   },
   {
    "duration": 147,
    "start_time": "2024-08-04T13:15:11.338Z"
   },
   {
    "duration": 151,
    "start_time": "2024-08-04T13:15:31.158Z"
   },
   {
    "duration": 138,
    "start_time": "2024-08-04T13:18:54.305Z"
   },
   {
    "duration": 139,
    "start_time": "2024-08-04T13:19:06.000Z"
   },
   {
    "duration": 19,
    "start_time": "2024-08-04T13:19:52.928Z"
   },
   {
    "duration": 20,
    "start_time": "2024-08-04T13:20:28.615Z"
   },
   {
    "duration": 143,
    "start_time": "2024-08-04T13:20:36.990Z"
   },
   {
    "duration": 121,
    "start_time": "2024-08-04T13:21:26.430Z"
   },
   {
    "duration": 157,
    "start_time": "2024-08-04T13:22:03.478Z"
   },
   {
    "duration": 20,
    "start_time": "2024-08-04T13:22:17.232Z"
   },
   {
    "duration": 181,
    "start_time": "2024-08-04T13:22:31.378Z"
   },
   {
    "duration": 22,
    "start_time": "2024-08-04T13:22:56.479Z"
   },
   {
    "duration": 20,
    "start_time": "2024-08-04T13:23:17.051Z"
   },
   {
    "duration": 116,
    "start_time": "2024-08-04T13:23:36.295Z"
   },
   {
    "duration": 161,
    "start_time": "2024-08-04T13:23:45.257Z"
   },
   {
    "duration": 19,
    "start_time": "2024-08-04T13:24:24.348Z"
   },
   {
    "duration": 23,
    "start_time": "2024-08-04T13:25:05.618Z"
   },
   {
    "duration": 8,
    "start_time": "2024-08-04T13:26:59.039Z"
   },
   {
    "duration": 24,
    "start_time": "2024-08-04T13:30:43.720Z"
   },
   {
    "duration": 25,
    "start_time": "2024-08-04T13:31:56.868Z"
   },
   {
    "duration": 24,
    "start_time": "2024-08-04T13:37:48.269Z"
   },
   {
    "duration": 23,
    "start_time": "2024-08-04T13:37:58.978Z"
   },
   {
    "duration": 25,
    "start_time": "2024-08-04T13:38:17.848Z"
   },
   {
    "duration": 22,
    "start_time": "2024-08-04T13:38:32.179Z"
   },
   {
    "duration": 22,
    "start_time": "2024-08-04T13:38:50.526Z"
   },
   {
    "duration": 23,
    "start_time": "2024-08-04T13:38:56.030Z"
   },
   {
    "duration": 48,
    "start_time": "2024-08-04T15:15:47.428Z"
   },
   {
    "duration": 997,
    "start_time": "2024-08-04T15:16:27.321Z"
   },
   {
    "duration": 35,
    "start_time": "2024-08-04T15:16:28.320Z"
   },
   {
    "duration": 18,
    "start_time": "2024-08-04T15:16:28.357Z"
   },
   {
    "duration": 86,
    "start_time": "2024-08-04T15:16:28.378Z"
   },
   {
    "duration": 2047,
    "start_time": "2024-08-04T15:16:28.466Z"
   },
   {
    "duration": 11,
    "start_time": "2024-08-04T15:16:30.516Z"
   },
   {
    "duration": 103,
    "start_time": "2024-08-04T15:16:30.529Z"
   },
   {
    "duration": 69,
    "start_time": "2024-08-04T15:16:30.634Z"
   },
   {
    "duration": 76,
    "start_time": "2024-08-04T15:16:30.705Z"
   },
   {
    "duration": 54,
    "start_time": "2024-08-04T15:16:30.784Z"
   },
   {
    "duration": 141,
    "start_time": "2024-08-04T15:16:30.839Z"
   },
   {
    "duration": 46,
    "start_time": "2024-08-04T15:16:30.982Z"
   },
   {
    "duration": 106,
    "start_time": "2024-08-04T15:16:31.030Z"
   },
   {
    "duration": 45,
    "start_time": "2024-08-04T15:16:31.138Z"
   },
   {
    "duration": 111,
    "start_time": "2024-08-04T15:16:31.185Z"
   },
   {
    "duration": 26,
    "start_time": "2024-08-04T15:16:31.298Z"
   },
   {
    "duration": 108,
    "start_time": "2024-08-04T15:16:31.326Z"
   },
   {
    "duration": 52,
    "start_time": "2024-08-04T15:16:31.436Z"
   },
   {
    "duration": 54,
    "start_time": "2024-08-04T15:16:31.489Z"
   },
   {
    "duration": 15,
    "start_time": "2024-08-04T15:16:31.545Z"
   },
   {
    "duration": 21,
    "start_time": "2024-08-04T15:16:31.562Z"
   },
   {
    "duration": 12,
    "start_time": "2024-08-04T15:16:31.585Z"
   },
   {
    "duration": 27,
    "start_time": "2024-08-04T15:16:31.599Z"
   },
   {
    "duration": 34,
    "start_time": "2024-08-04T15:16:31.628Z"
   },
   {
    "duration": 24,
    "start_time": "2024-08-04T15:16:31.664Z"
   },
   {
    "duration": 15,
    "start_time": "2024-08-04T15:16:31.690Z"
   },
   {
    "duration": 311,
    "start_time": "2024-08-04T15:16:31.707Z"
   },
   {
    "duration": 4,
    "start_time": "2024-08-04T15:16:32.023Z"
   },
   {
    "duration": 10,
    "start_time": "2024-08-04T15:16:32.028Z"
   },
   {
    "duration": 177,
    "start_time": "2024-08-04T15:16:32.039Z"
   },
   {
    "duration": 9,
    "start_time": "2024-08-04T15:16:32.218Z"
   },
   {
    "duration": 201,
    "start_time": "2024-08-04T15:16:32.228Z"
   },
   {
    "duration": 9,
    "start_time": "2024-08-04T15:16:32.431Z"
   },
   {
    "duration": 207,
    "start_time": "2024-08-04T15:16:32.442Z"
   },
   {
    "duration": 10,
    "start_time": "2024-08-04T15:16:32.651Z"
   },
   {
    "duration": 367,
    "start_time": "2024-08-04T15:16:32.663Z"
   },
   {
    "duration": 9,
    "start_time": "2024-08-04T15:16:33.032Z"
   },
   {
    "duration": 177,
    "start_time": "2024-08-04T15:16:33.043Z"
   },
   {
    "duration": 9,
    "start_time": "2024-08-04T15:16:33.222Z"
   },
   {
    "duration": 165,
    "start_time": "2024-08-04T15:16:33.232Z"
   },
   {
    "duration": 16,
    "start_time": "2024-08-04T15:16:33.399Z"
   },
   {
    "duration": 138,
    "start_time": "2024-08-04T15:16:33.416Z"
   },
   {
    "duration": 9,
    "start_time": "2024-08-04T15:16:33.556Z"
   },
   {
    "duration": 156,
    "start_time": "2024-08-04T15:16:33.567Z"
   },
   {
    "duration": 7,
    "start_time": "2024-08-04T15:16:33.724Z"
   },
   {
    "duration": 12,
    "start_time": "2024-08-04T15:16:33.732Z"
   },
   {
    "duration": 155,
    "start_time": "2024-08-04T15:16:33.746Z"
   },
   {
    "duration": 9,
    "start_time": "2024-08-04T15:16:33.905Z"
   },
   {
    "duration": 156,
    "start_time": "2024-08-04T15:16:33.915Z"
   },
   {
    "duration": 16,
    "start_time": "2024-08-04T15:16:34.073Z"
   },
   {
    "duration": 429,
    "start_time": "2024-08-04T15:16:34.091Z"
   },
   {
    "duration": 10,
    "start_time": "2024-08-04T15:16:34.522Z"
   },
   {
    "duration": 26,
    "start_time": "2024-08-04T15:16:34.534Z"
   },
   {
    "duration": 5,
    "start_time": "2024-08-04T15:16:34.561Z"
   },
   {
    "duration": 16,
    "start_time": "2024-08-04T15:17:10.793Z"
   },
   {
    "duration": 103,
    "start_time": "2024-08-04T15:17:17.543Z"
   },
   {
    "duration": 37,
    "start_time": "2024-08-04T15:17:26.893Z"
   },
   {
    "duration": 37,
    "start_time": "2024-08-04T15:17:43.014Z"
   },
   {
    "duration": 62,
    "start_time": "2024-08-04T15:18:08.784Z"
   },
   {
    "duration": 5,
    "start_time": "2024-08-04T15:18:13.884Z"
   },
   {
    "duration": 27,
    "start_time": "2024-08-04T15:34:00.137Z"
   },
   {
    "duration": 10,
    "start_time": "2024-08-04T15:39:23.982Z"
   },
   {
    "duration": 26,
    "start_time": "2024-08-04T15:41:50.142Z"
   },
   {
    "duration": 28,
    "start_time": "2024-08-04T15:42:24.577Z"
   },
   {
    "duration": 32,
    "start_time": "2024-08-04T15:47:06.875Z"
   },
   {
    "duration": 20,
    "start_time": "2024-08-04T15:47:42.107Z"
   },
   {
    "duration": 21,
    "start_time": "2024-08-04T15:47:55.424Z"
   },
   {
    "duration": 25,
    "start_time": "2024-08-04T15:48:02.303Z"
   },
   {
    "duration": 91,
    "start_time": "2024-08-04T16:02:06.115Z"
   },
   {
    "duration": 12,
    "start_time": "2024-08-04T16:02:09.934Z"
   },
   {
    "duration": 146,
    "start_time": "2024-08-04T16:02:51.746Z"
   },
   {
    "duration": 32,
    "start_time": "2024-08-04T16:09:55.325Z"
   },
   {
    "duration": 12,
    "start_time": "2024-08-04T16:10:10.003Z"
   },
   {
    "duration": 14,
    "start_time": "2024-08-04T16:10:17.501Z"
   },
   {
    "duration": 9,
    "start_time": "2024-08-04T16:10:25.875Z"
   },
   {
    "duration": 11,
    "start_time": "2024-08-04T16:10:56.621Z"
   },
   {
    "duration": 12,
    "start_time": "2024-08-04T16:11:22.306Z"
   },
   {
    "duration": 12,
    "start_time": "2024-08-04T16:11:28.169Z"
   },
   {
    "duration": 12,
    "start_time": "2024-08-04T16:12:16.645Z"
   },
   {
    "duration": 13,
    "start_time": "2024-08-04T16:12:57.195Z"
   },
   {
    "duration": 14,
    "start_time": "2024-08-04T16:13:28.673Z"
   },
   {
    "duration": 13,
    "start_time": "2024-08-04T16:13:39.656Z"
   },
   {
    "duration": 13,
    "start_time": "2024-08-04T16:14:15.026Z"
   },
   {
    "duration": 15,
    "start_time": "2024-08-04T16:15:16.862Z"
   },
   {
    "duration": 1052,
    "start_time": "2024-08-05T07:21:51.814Z"
   },
   {
    "duration": 36,
    "start_time": "2024-08-05T07:21:52.868Z"
   },
   {
    "duration": 34,
    "start_time": "2024-08-05T07:21:52.906Z"
   },
   {
    "duration": 78,
    "start_time": "2024-08-05T07:21:52.942Z"
   },
   {
    "duration": 2122,
    "start_time": "2024-08-05T07:21:53.022Z"
   },
   {
    "duration": 14,
    "start_time": "2024-08-05T07:21:55.147Z"
   },
   {
    "duration": 16,
    "start_time": "2024-08-05T07:21:55.163Z"
   },
   {
    "duration": 26,
    "start_time": "2024-08-05T07:21:55.181Z"
   },
   {
    "duration": 25,
    "start_time": "2024-08-05T07:21:55.209Z"
   },
   {
    "duration": 30,
    "start_time": "2024-08-05T07:21:55.236Z"
   },
   {
    "duration": 12,
    "start_time": "2024-08-05T07:21:55.267Z"
   },
   {
    "duration": 21,
    "start_time": "2024-08-05T07:21:55.281Z"
   },
   {
    "duration": 39,
    "start_time": "2024-08-05T07:21:55.305Z"
   },
   {
    "duration": 23,
    "start_time": "2024-08-05T07:21:55.345Z"
   },
   {
    "duration": 64,
    "start_time": "2024-08-05T07:21:55.370Z"
   },
   {
    "duration": 6,
    "start_time": "2024-08-05T07:21:55.436Z"
   },
   {
    "duration": 30,
    "start_time": "2024-08-05T07:21:55.444Z"
   },
   {
    "duration": 12,
    "start_time": "2024-08-05T07:21:55.476Z"
   },
   {
    "duration": 24,
    "start_time": "2024-08-05T07:21:55.490Z"
   },
   {
    "duration": 3,
    "start_time": "2024-08-05T07:21:55.516Z"
   },
   {
    "duration": 31,
    "start_time": "2024-08-05T07:21:55.521Z"
   },
   {
    "duration": 28,
    "start_time": "2024-08-05T07:21:55.553Z"
   },
   {
    "duration": 34,
    "start_time": "2024-08-05T07:21:55.582Z"
   },
   {
    "duration": 41,
    "start_time": "2024-08-05T07:21:55.617Z"
   },
   {
    "duration": 22,
    "start_time": "2024-08-05T07:21:55.660Z"
   },
   {
    "duration": 6,
    "start_time": "2024-08-05T07:21:55.683Z"
   },
   {
    "duration": 337,
    "start_time": "2024-08-05T07:21:55.691Z"
   },
   {
    "duration": 4,
    "start_time": "2024-08-05T07:21:56.032Z"
   },
   {
    "duration": 31,
    "start_time": "2024-08-05T07:21:56.038Z"
   },
   {
    "duration": 180,
    "start_time": "2024-08-05T07:21:56.071Z"
   },
   {
    "duration": 10,
    "start_time": "2024-08-05T07:21:56.252Z"
   },
   {
    "duration": 324,
    "start_time": "2024-08-05T07:21:56.263Z"
   },
   {
    "duration": 13,
    "start_time": "2024-08-05T07:21:56.589Z"
   },
   {
    "duration": 217,
    "start_time": "2024-08-05T07:21:56.603Z"
   },
   {
    "duration": 10,
    "start_time": "2024-08-05T07:21:56.823Z"
   },
   {
    "duration": 410,
    "start_time": "2024-08-05T07:21:56.835Z"
   },
   {
    "duration": 15,
    "start_time": "2024-08-05T07:21:57.247Z"
   },
   {
    "duration": 172,
    "start_time": "2024-08-05T07:21:57.264Z"
   },
   {
    "duration": 10,
    "start_time": "2024-08-05T07:21:57.437Z"
   },
   {
    "duration": 199,
    "start_time": "2024-08-05T07:21:57.448Z"
   },
   {
    "duration": 16,
    "start_time": "2024-08-05T07:21:57.649Z"
   },
   {
    "duration": 148,
    "start_time": "2024-08-05T07:21:57.667Z"
   },
   {
    "duration": 10,
    "start_time": "2024-08-05T07:21:57.817Z"
   },
   {
    "duration": 224,
    "start_time": "2024-08-05T07:21:57.828Z"
   },
   {
    "duration": 8,
    "start_time": "2024-08-05T07:21:58.053Z"
   },
   {
    "duration": 21,
    "start_time": "2024-08-05T07:21:58.062Z"
   },
   {
    "duration": 169,
    "start_time": "2024-08-05T07:21:58.085Z"
   },
   {
    "duration": 10,
    "start_time": "2024-08-05T07:21:58.255Z"
   },
   {
    "duration": 174,
    "start_time": "2024-08-05T07:21:58.267Z"
   },
   {
    "duration": 26,
    "start_time": "2024-08-05T07:21:58.443Z"
   },
   {
    "duration": 9,
    "start_time": "2024-08-05T07:21:58.471Z"
   },
   {
    "duration": 413,
    "start_time": "2024-08-05T07:21:58.482Z"
   },
   {
    "duration": 29,
    "start_time": "2024-08-05T07:21:58.897Z"
   },
   {
    "duration": 47,
    "start_time": "2024-08-05T07:21:58.928Z"
   },
   {
    "duration": 94,
    "start_time": "2024-08-05T07:21:58.977Z"
   },
   {
    "duration": 175,
    "start_time": "2024-08-05T07:40:55.141Z"
   },
   {
    "duration": 95,
    "start_time": "2024-08-05T07:41:36.631Z"
   },
   {
    "duration": 122,
    "start_time": "2024-08-05T07:41:44.735Z"
   },
   {
    "duration": 29,
    "start_time": "2024-08-05T07:42:40.919Z"
   },
   {
    "duration": 15,
    "start_time": "2024-08-05T07:45:15.979Z"
   },
   {
    "duration": 16,
    "start_time": "2024-08-05T07:45:30.299Z"
   },
   {
    "duration": 13,
    "start_time": "2024-08-05T07:46:02.257Z"
   },
   {
    "duration": 14,
    "start_time": "2024-08-05T07:46:19.737Z"
   },
   {
    "duration": 8,
    "start_time": "2024-08-05T07:52:14.756Z"
   },
   {
    "duration": 4,
    "start_time": "2024-08-05T07:52:21.796Z"
   },
   {
    "duration": 93,
    "start_time": "2024-08-05T07:54:42.648Z"
   },
   {
    "duration": 9,
    "start_time": "2024-08-05T07:54:49.756Z"
   },
   {
    "duration": 783,
    "start_time": "2024-08-05T07:55:01.405Z"
   },
   {
    "duration": 40,
    "start_time": "2024-08-05T07:55:02.190Z"
   },
   {
    "duration": 40,
    "start_time": "2024-08-05T07:55:02.232Z"
   },
   {
    "duration": 100,
    "start_time": "2024-08-05T07:55:02.274Z"
   },
   {
    "duration": 2242,
    "start_time": "2024-08-05T07:55:02.378Z"
   },
   {
    "duration": 10,
    "start_time": "2024-08-05T07:55:04.622Z"
   },
   {
    "duration": 31,
    "start_time": "2024-08-05T07:55:04.634Z"
   },
   {
    "duration": 25,
    "start_time": "2024-08-05T07:55:04.667Z"
   },
   {
    "duration": 4,
    "start_time": "2024-08-05T07:55:04.693Z"
   },
   {
    "duration": 14,
    "start_time": "2024-08-05T07:55:04.699Z"
   },
   {
    "duration": 14,
    "start_time": "2024-08-05T07:55:04.715Z"
   },
   {
    "duration": 10,
    "start_time": "2024-08-05T07:55:04.730Z"
   },
   {
    "duration": 23,
    "start_time": "2024-08-05T07:55:04.742Z"
   },
   {
    "duration": 6,
    "start_time": "2024-08-05T07:55:04.769Z"
   },
   {
    "duration": 62,
    "start_time": "2024-08-05T07:55:04.777Z"
   },
   {
    "duration": 15,
    "start_time": "2024-08-05T07:55:04.841Z"
   },
   {
    "duration": 11,
    "start_time": "2024-08-05T07:55:04.858Z"
   },
   {
    "duration": 12,
    "start_time": "2024-08-05T07:55:04.871Z"
   },
   {
    "duration": 34,
    "start_time": "2024-08-05T07:55:04.885Z"
   },
   {
    "duration": 4,
    "start_time": "2024-08-05T07:55:04.921Z"
   },
   {
    "duration": 28,
    "start_time": "2024-08-05T07:55:04.927Z"
   },
   {
    "duration": 21,
    "start_time": "2024-08-05T07:55:04.958Z"
   },
   {
    "duration": 16,
    "start_time": "2024-08-05T07:55:04.981Z"
   },
   {
    "duration": 8,
    "start_time": "2024-08-05T07:55:04.999Z"
   },
   {
    "duration": 7,
    "start_time": "2024-08-05T07:55:05.009Z"
   },
   {
    "duration": 6,
    "start_time": "2024-08-05T07:55:05.018Z"
   },
   {
    "duration": 328,
    "start_time": "2024-08-05T07:55:05.026Z"
   },
   {
    "duration": 6,
    "start_time": "2024-08-05T07:55:05.356Z"
   },
   {
    "duration": 25,
    "start_time": "2024-08-05T07:55:05.363Z"
   },
   {
    "duration": 170,
    "start_time": "2024-08-05T07:55:05.390Z"
   },
   {
    "duration": 10,
    "start_time": "2024-08-05T07:55:05.562Z"
   },
   {
    "duration": 209,
    "start_time": "2024-08-05T07:55:05.573Z"
   },
   {
    "duration": 9,
    "start_time": "2024-08-05T07:55:05.784Z"
   },
   {
    "duration": 194,
    "start_time": "2024-08-05T07:55:05.794Z"
   },
   {
    "duration": 8,
    "start_time": "2024-08-05T07:55:05.990Z"
   },
   {
    "duration": 426,
    "start_time": "2024-08-05T07:55:06.000Z"
   },
   {
    "duration": 9,
    "start_time": "2024-08-05T07:55:06.427Z"
   },
   {
    "duration": 170,
    "start_time": "2024-08-05T07:55:06.438Z"
   },
   {
    "duration": 9,
    "start_time": "2024-08-05T07:55:06.610Z"
   },
   {
    "duration": 195,
    "start_time": "2024-08-05T07:55:06.622Z"
   },
   {
    "duration": 11,
    "start_time": "2024-08-05T07:55:06.821Z"
   },
   {
    "duration": 151,
    "start_time": "2024-08-05T07:55:06.834Z"
   },
   {
    "duration": 9,
    "start_time": "2024-08-05T07:55:06.986Z"
   },
   {
    "duration": 168,
    "start_time": "2024-08-05T07:55:06.997Z"
   },
   {
    "duration": 7,
    "start_time": "2024-08-05T07:55:07.167Z"
   },
   {
    "duration": 26,
    "start_time": "2024-08-05T07:55:07.175Z"
   },
   {
    "duration": 144,
    "start_time": "2024-08-05T07:55:07.203Z"
   },
   {
    "duration": 10,
    "start_time": "2024-08-05T07:55:07.355Z"
   },
   {
    "duration": 169,
    "start_time": "2024-08-05T07:55:07.367Z"
   },
   {
    "duration": 29,
    "start_time": "2024-08-05T07:55:07.538Z"
   },
   {
    "duration": 10,
    "start_time": "2024-08-05T07:55:07.568Z"
   },
   {
    "duration": 429,
    "start_time": "2024-08-05T07:55:07.580Z"
   },
   {
    "duration": 26,
    "start_time": "2024-08-05T07:55:08.011Z"
   },
   {
    "duration": 65,
    "start_time": "2024-08-05T07:55:08.039Z"
   },
   {
    "duration": 88,
    "start_time": "2024-08-05T07:55:08.105Z"
   },
   {
    "duration": 9,
    "start_time": "2024-08-05T07:55:08.194Z"
   },
   {
    "duration": 77,
    "start_time": "2024-08-05T07:55:08.204Z"
   },
   {
    "duration": 19,
    "start_time": "2024-08-05T07:55:58.056Z"
   },
   {
    "duration": 1174,
    "start_time": "2024-08-05T07:56:57.956Z"
   },
   {
    "duration": 78,
    "start_time": "2024-08-05T07:58:18.269Z"
   },
   {
    "duration": 1197,
    "start_time": "2024-08-05T07:58:26.118Z"
   },
   {
    "duration": 9,
    "start_time": "2024-08-05T07:58:45.334Z"
   },
   {
    "duration": 9,
    "start_time": "2024-08-05T07:58:59.219Z"
   },
   {
    "duration": 18,
    "start_time": "2024-08-05T07:59:26.915Z"
   },
   {
    "duration": 148,
    "start_time": "2024-08-05T07:59:59.312Z"
   },
   {
    "duration": 185,
    "start_time": "2024-08-05T08:07:19.227Z"
   },
   {
    "duration": 24,
    "start_time": "2024-08-05T08:12:44.216Z"
   },
   {
    "duration": 157,
    "start_time": "2024-08-05T08:13:56.211Z"
   },
   {
    "duration": 159,
    "start_time": "2024-08-05T08:14:24.104Z"
   },
   {
    "duration": 163,
    "start_time": "2024-08-05T08:14:56.177Z"
   },
   {
    "duration": 4,
    "start_time": "2024-08-05T08:15:47.915Z"
   },
   {
    "duration": 4,
    "start_time": "2024-08-05T08:16:00.446Z"
   },
   {
    "duration": 4,
    "start_time": "2024-08-05T08:16:14.218Z"
   },
   {
    "duration": 71,
    "start_time": "2024-08-05T08:16:19.446Z"
   },
   {
    "duration": 68,
    "start_time": "2024-08-05T08:16:28.128Z"
   },
   {
    "duration": 58,
    "start_time": "2024-08-05T08:16:41.126Z"
   },
   {
    "duration": 65,
    "start_time": "2024-08-05T08:17:38.807Z"
   },
   {
    "duration": 62,
    "start_time": "2024-08-05T08:17:48.904Z"
   },
   {
    "duration": 64,
    "start_time": "2024-08-05T08:18:08.838Z"
   },
   {
    "duration": 173,
    "start_time": "2024-08-05T08:19:17.910Z"
   },
   {
    "duration": 283,
    "start_time": "2024-08-05T08:19:46.288Z"
   },
   {
    "duration": 187,
    "start_time": "2024-08-05T08:20:22.358Z"
   },
   {
    "duration": 170,
    "start_time": "2024-08-05T08:20:28.575Z"
   },
   {
    "duration": 117,
    "start_time": "2024-08-05T08:20:37.069Z"
   },
   {
    "duration": 115,
    "start_time": "2024-08-05T08:20:41.828Z"
   },
   {
    "duration": 175,
    "start_time": "2024-08-05T08:20:53.157Z"
   },
   {
    "duration": 195,
    "start_time": "2024-08-05T08:28:32.168Z"
   },
   {
    "duration": 173,
    "start_time": "2024-08-05T08:28:38.190Z"
   },
   {
    "duration": 275,
    "start_time": "2024-08-05T08:29:18.010Z"
   },
   {
    "duration": 167,
    "start_time": "2024-08-05T08:29:27.758Z"
   },
   {
    "duration": 175,
    "start_time": "2024-08-05T08:31:22.748Z"
   },
   {
    "duration": 180,
    "start_time": "2024-08-05T08:31:50.326Z"
   },
   {
    "duration": 185,
    "start_time": "2024-08-05T08:35:13.663Z"
   },
   {
    "duration": 178,
    "start_time": "2024-08-05T08:35:33.708Z"
   },
   {
    "duration": 181,
    "start_time": "2024-08-05T08:36:02.650Z"
   },
   {
    "duration": 180,
    "start_time": "2024-08-05T08:36:10.667Z"
   },
   {
    "duration": 204,
    "start_time": "2024-08-05T08:36:19.657Z"
   },
   {
    "duration": 177,
    "start_time": "2024-08-05T08:36:25.701Z"
   },
   {
    "duration": 183,
    "start_time": "2024-08-05T08:36:58.484Z"
   },
   {
    "duration": 185,
    "start_time": "2024-08-05T08:37:45.325Z"
   },
   {
    "duration": 181,
    "start_time": "2024-08-05T08:41:35.551Z"
   },
   {
    "duration": 73,
    "start_time": "2024-08-05T08:45:24.300Z"
   },
   {
    "duration": 208,
    "start_time": "2024-08-05T08:45:50.486Z"
   },
   {
    "duration": 206,
    "start_time": "2024-08-05T08:46:17.976Z"
   },
   {
    "duration": 750,
    "start_time": "2024-08-05T10:26:45.674Z"
   },
   {
    "duration": 35,
    "start_time": "2024-08-05T10:26:46.427Z"
   },
   {
    "duration": 25,
    "start_time": "2024-08-05T10:26:46.464Z"
   },
   {
    "duration": 75,
    "start_time": "2024-08-05T10:26:46.491Z"
   },
   {
    "duration": 2077,
    "start_time": "2024-08-05T10:26:46.567Z"
   },
   {
    "duration": 11,
    "start_time": "2024-08-05T10:26:48.646Z"
   },
   {
    "duration": 13,
    "start_time": "2024-08-05T10:26:48.658Z"
   },
   {
    "duration": 6,
    "start_time": "2024-08-05T10:26:48.672Z"
   },
   {
    "duration": 8,
    "start_time": "2024-08-05T10:26:48.680Z"
   },
   {
    "duration": 24,
    "start_time": "2024-08-05T10:26:48.691Z"
   },
   {
    "duration": 30,
    "start_time": "2024-08-05T10:26:48.717Z"
   },
   {
    "duration": 16,
    "start_time": "2024-08-05T10:26:48.749Z"
   },
   {
    "duration": 29,
    "start_time": "2024-08-05T10:26:48.767Z"
   },
   {
    "duration": 5,
    "start_time": "2024-08-05T10:26:48.798Z"
   },
   {
    "duration": 57,
    "start_time": "2024-08-05T10:26:48.804Z"
   },
   {
    "duration": 5,
    "start_time": "2024-08-05T10:26:48.863Z"
   },
   {
    "duration": 21,
    "start_time": "2024-08-05T10:26:48.869Z"
   },
   {
    "duration": 7,
    "start_time": "2024-08-05T10:26:48.892Z"
   },
   {
    "duration": 30,
    "start_time": "2024-08-05T10:26:48.901Z"
   },
   {
    "duration": 3,
    "start_time": "2024-08-05T10:26:48.933Z"
   },
   {
    "duration": 30,
    "start_time": "2024-08-05T10:26:48.937Z"
   },
   {
    "duration": 6,
    "start_time": "2024-08-05T10:26:48.968Z"
   },
   {
    "duration": 61,
    "start_time": "2024-08-05T10:26:48.975Z"
   },
   {
    "duration": 50,
    "start_time": "2024-08-05T10:26:49.037Z"
   },
   {
    "duration": 24,
    "start_time": "2024-08-05T10:26:49.089Z"
   },
   {
    "duration": 6,
    "start_time": "2024-08-05T10:26:49.115Z"
   },
   {
    "duration": 306,
    "start_time": "2024-08-05T10:26:49.123Z"
   },
   {
    "duration": 4,
    "start_time": "2024-08-05T10:26:49.432Z"
   },
   {
    "duration": 48,
    "start_time": "2024-08-05T10:26:49.438Z"
   },
   {
    "duration": 203,
    "start_time": "2024-08-05T10:26:49.488Z"
   },
   {
    "duration": 9,
    "start_time": "2024-08-05T10:26:49.692Z"
   },
   {
    "duration": 192,
    "start_time": "2024-08-05T10:26:49.702Z"
   },
   {
    "duration": 9,
    "start_time": "2024-08-05T10:26:49.895Z"
   },
   {
    "duration": 185,
    "start_time": "2024-08-05T10:26:49.905Z"
   },
   {
    "duration": 8,
    "start_time": "2024-08-05T10:26:50.091Z"
   },
   {
    "duration": 324,
    "start_time": "2024-08-05T10:26:50.100Z"
   },
   {
    "duration": 8,
    "start_time": "2024-08-05T10:26:50.426Z"
   },
   {
    "duration": 183,
    "start_time": "2024-08-05T10:26:50.435Z"
   },
   {
    "duration": 8,
    "start_time": "2024-08-05T10:26:50.619Z"
   },
   {
    "duration": 160,
    "start_time": "2024-08-05T10:26:50.628Z"
   },
   {
    "duration": 9,
    "start_time": "2024-08-05T10:26:50.790Z"
   },
   {
    "duration": 136,
    "start_time": "2024-08-05T10:26:50.801Z"
   },
   {
    "duration": 9,
    "start_time": "2024-08-05T10:26:50.939Z"
   },
   {
    "duration": 151,
    "start_time": "2024-08-05T10:26:50.949Z"
   },
   {
    "duration": 6,
    "start_time": "2024-08-05T10:26:51.102Z"
   },
   {
    "duration": 10,
    "start_time": "2024-08-05T10:26:51.110Z"
   },
   {
    "duration": 153,
    "start_time": "2024-08-05T10:26:51.122Z"
   },
   {
    "duration": 15,
    "start_time": "2024-08-05T10:26:51.276Z"
   },
   {
    "duration": 149,
    "start_time": "2024-08-05T10:26:51.292Z"
   },
   {
    "duration": 15,
    "start_time": "2024-08-05T10:26:51.442Z"
   },
   {
    "duration": 7,
    "start_time": "2024-08-05T10:26:51.459Z"
   },
   {
    "duration": 382,
    "start_time": "2024-08-05T10:26:51.468Z"
   },
   {
    "duration": 34,
    "start_time": "2024-08-05T10:26:51.851Z"
   },
   {
    "duration": 23,
    "start_time": "2024-08-05T10:26:51.887Z"
   },
   {
    "duration": 97,
    "start_time": "2024-08-05T10:26:51.912Z"
   },
   {
    "duration": 199,
    "start_time": "2024-08-05T10:26:52.010Z"
   },
   {
    "duration": 220,
    "start_time": "2024-08-05T10:26:52.211Z"
   },
   {
    "duration": 195,
    "start_time": "2024-08-05T10:27:08.681Z"
   },
   {
    "duration": 187,
    "start_time": "2024-08-05T10:44:02.981Z"
   },
   {
    "duration": 212,
    "start_time": "2024-08-05T10:51:40.912Z"
   },
   {
    "duration": 253,
    "start_time": "2024-08-05T10:52:20.950Z"
   },
   {
    "duration": 217,
    "start_time": "2024-08-05T10:52:30.900Z"
   },
   {
    "duration": 906,
    "start_time": "2024-08-05T10:53:04.690Z"
   },
   {
    "duration": 176,
    "start_time": "2024-08-05T10:53:12.750Z"
   },
   {
    "duration": 760,
    "start_time": "2024-08-05T11:07:44.778Z"
   },
   {
    "duration": 33,
    "start_time": "2024-08-05T11:07:45.540Z"
   },
   {
    "duration": 22,
    "start_time": "2024-08-05T11:07:45.584Z"
   },
   {
    "duration": 91,
    "start_time": "2024-08-05T11:07:45.608Z"
   },
   {
    "duration": 2004,
    "start_time": "2024-08-05T11:07:45.701Z"
   },
   {
    "duration": 10,
    "start_time": "2024-08-05T11:07:47.708Z"
   },
   {
    "duration": 5,
    "start_time": "2024-08-05T11:07:47.720Z"
   },
   {
    "duration": 7,
    "start_time": "2024-08-05T11:07:47.727Z"
   },
   {
    "duration": 4,
    "start_time": "2024-08-05T11:07:47.735Z"
   },
   {
    "duration": 10,
    "start_time": "2024-08-05T11:07:47.742Z"
   },
   {
    "duration": 8,
    "start_time": "2024-08-05T11:07:47.753Z"
   },
   {
    "duration": 27,
    "start_time": "2024-08-05T11:07:47.762Z"
   },
   {
    "duration": 25,
    "start_time": "2024-08-05T11:07:47.790Z"
   },
   {
    "duration": 18,
    "start_time": "2024-08-05T11:07:47.817Z"
   },
   {
    "duration": 116,
    "start_time": "2024-08-05T11:07:47.836Z"
   },
   {
    "duration": 7,
    "start_time": "2024-08-05T11:07:47.953Z"
   },
   {
    "duration": 11,
    "start_time": "2024-08-05T11:07:47.962Z"
   },
   {
    "duration": 16,
    "start_time": "2024-08-05T11:07:47.975Z"
   },
   {
    "duration": 26,
    "start_time": "2024-08-05T11:07:47.996Z"
   },
   {
    "duration": 3,
    "start_time": "2024-08-05T11:07:48.023Z"
   },
   {
    "duration": 24,
    "start_time": "2024-08-05T11:07:48.027Z"
   },
   {
    "duration": 60,
    "start_time": "2024-08-05T11:07:48.052Z"
   },
   {
    "duration": 4,
    "start_time": "2024-08-05T11:07:48.113Z"
   },
   {
    "duration": 15,
    "start_time": "2024-08-05T11:07:48.118Z"
   },
   {
    "duration": 16,
    "start_time": "2024-08-05T11:07:48.135Z"
   },
   {
    "duration": 5,
    "start_time": "2024-08-05T11:07:48.153Z"
   },
   {
    "duration": 329,
    "start_time": "2024-08-05T11:07:48.159Z"
   },
   {
    "duration": 7,
    "start_time": "2024-08-05T11:07:48.494Z"
   },
   {
    "duration": 11,
    "start_time": "2024-08-05T11:07:48.502Z"
   },
   {
    "duration": 213,
    "start_time": "2024-08-05T11:07:48.515Z"
   },
   {
    "duration": 10,
    "start_time": "2024-08-05T11:07:48.730Z"
   },
   {
    "duration": 213,
    "start_time": "2024-08-05T11:07:48.742Z"
   },
   {
    "duration": 10,
    "start_time": "2024-08-05T11:07:48.957Z"
   },
   {
    "duration": 187,
    "start_time": "2024-08-05T11:07:48.983Z"
   },
   {
    "duration": 18,
    "start_time": "2024-08-05T11:07:49.172Z"
   },
   {
    "duration": 365,
    "start_time": "2024-08-05T11:07:49.194Z"
   },
   {
    "duration": 8,
    "start_time": "2024-08-05T11:07:49.561Z"
   },
   {
    "duration": 145,
    "start_time": "2024-08-05T11:07:49.589Z"
   },
   {
    "duration": 8,
    "start_time": "2024-08-05T11:07:49.735Z"
   },
   {
    "duration": 170,
    "start_time": "2024-08-05T11:07:49.745Z"
   },
   {
    "duration": 9,
    "start_time": "2024-08-05T11:07:49.916Z"
   },
   {
    "duration": 140,
    "start_time": "2024-08-05T11:07:49.927Z"
   },
   {
    "duration": 18,
    "start_time": "2024-08-05T11:07:50.069Z"
   },
   {
    "duration": 145,
    "start_time": "2024-08-05T11:07:50.088Z"
   },
   {
    "duration": 6,
    "start_time": "2024-08-05T11:07:50.235Z"
   },
   {
    "duration": 55,
    "start_time": "2024-08-05T11:07:50.243Z"
   },
   {
    "duration": 138,
    "start_time": "2024-08-05T11:07:50.300Z"
   },
   {
    "duration": 8,
    "start_time": "2024-08-05T11:07:50.440Z"
   },
   {
    "duration": 187,
    "start_time": "2024-08-05T11:07:50.450Z"
   },
   {
    "duration": 20,
    "start_time": "2024-08-05T11:07:50.639Z"
   },
   {
    "duration": 43,
    "start_time": "2024-08-05T11:07:50.660Z"
   },
   {
    "duration": 405,
    "start_time": "2024-08-05T11:07:50.705Z"
   },
   {
    "duration": 26,
    "start_time": "2024-08-05T11:07:51.112Z"
   },
   {
    "duration": 24,
    "start_time": "2024-08-05T11:07:51.139Z"
   },
   {
    "duration": 76,
    "start_time": "2024-08-05T11:07:51.187Z"
   },
   {
    "duration": 209,
    "start_time": "2024-08-05T11:07:51.265Z"
   },
   {
    "duration": 215,
    "start_time": "2024-08-05T11:07:51.483Z"
   },
   {
    "duration": 210,
    "start_time": "2024-08-05T11:07:51.700Z"
   },
   {
    "duration": 89,
    "start_time": "2024-08-05T11:07:51.911Z"
   },
   {
    "duration": 14,
    "start_time": "2024-08-05T11:08:04.032Z"
   },
   {
    "duration": 203,
    "start_time": "2024-08-05T11:08:50.870Z"
   },
   {
    "duration": 215,
    "start_time": "2024-08-05T11:09:52.594Z"
   },
   {
    "duration": 186,
    "start_time": "2024-08-05T11:10:11.581Z"
   },
   {
    "duration": 54,
    "start_time": "2024-08-05T11:10:39.482Z"
   },
   {
    "duration": 61,
    "start_time": "2024-08-05T11:10:44.737Z"
   },
   {
    "duration": 208,
    "start_time": "2024-08-05T11:10:52.822Z"
   },
   {
    "duration": 201,
    "start_time": "2024-08-05T11:11:09.292Z"
   },
   {
    "duration": 69,
    "start_time": "2024-08-05T11:37:53.353Z"
   },
   {
    "duration": 19,
    "start_time": "2024-08-05T11:37:57.794Z"
   },
   {
    "duration": 11,
    "start_time": "2024-08-05T11:38:31.453Z"
   },
   {
    "duration": 19,
    "start_time": "2024-08-05T11:41:04.353Z"
   },
   {
    "duration": 14,
    "start_time": "2024-08-05T11:42:20.203Z"
   },
   {
    "duration": 16,
    "start_time": "2024-08-05T11:42:41.153Z"
   },
   {
    "duration": 164,
    "start_time": "2024-08-05T11:43:07.503Z"
   },
   {
    "duration": 164,
    "start_time": "2024-08-05T11:44:51.903Z"
   },
   {
    "duration": 64,
    "start_time": "2024-08-05T11:49:16.943Z"
   },
   {
    "duration": 174,
    "start_time": "2024-08-05T11:49:29.730Z"
   },
   {
    "duration": 29,
    "start_time": "2024-08-05T11:56:34.920Z"
   },
   {
    "duration": 270,
    "start_time": "2024-08-05T11:56:46.250Z"
   },
   {
    "duration": 188,
    "start_time": "2024-08-05T11:56:57.382Z"
   },
   {
    "duration": 194,
    "start_time": "2024-08-05T12:00:53.829Z"
   },
   {
    "duration": 187,
    "start_time": "2024-08-05T12:01:26.558Z"
   },
   {
    "duration": 69,
    "start_time": "2024-08-05T12:18:22.810Z"
   },
   {
    "duration": 51,
    "start_time": "2024-08-05T12:18:25.020Z"
   },
   {
    "duration": 54,
    "start_time": "2024-08-05T12:18:59.566Z"
   },
   {
    "duration": 3,
    "start_time": "2024-08-05T12:19:08.308Z"
   },
   {
    "duration": 9,
    "start_time": "2024-08-05T12:19:15.812Z"
   },
   {
    "duration": 8,
    "start_time": "2024-08-05T12:19:48.366Z"
   },
   {
    "duration": 9,
    "start_time": "2024-08-05T12:19:55.369Z"
   },
   {
    "duration": 166567,
    "start_time": "2024-08-05T12:22:46.520Z"
   },
   {
    "duration": 731,
    "start_time": "2024-08-05T12:29:15.589Z"
   },
   {
    "duration": 35,
    "start_time": "2024-08-05T12:29:16.321Z"
   },
   {
    "duration": 33,
    "start_time": "2024-08-05T12:29:16.357Z"
   },
   {
    "duration": 70,
    "start_time": "2024-08-05T12:29:16.392Z"
   },
   {
    "duration": 1961,
    "start_time": "2024-08-05T12:29:16.464Z"
   },
   {
    "duration": 12,
    "start_time": "2024-08-05T12:29:18.427Z"
   },
   {
    "duration": 10,
    "start_time": "2024-08-05T12:29:18.441Z"
   },
   {
    "duration": 7,
    "start_time": "2024-08-05T12:29:18.453Z"
   },
   {
    "duration": 9,
    "start_time": "2024-08-05T12:29:18.461Z"
   },
   {
    "duration": 23,
    "start_time": "2024-08-05T12:29:18.483Z"
   },
   {
    "duration": 9,
    "start_time": "2024-08-05T12:29:18.508Z"
   },
   {
    "duration": 9,
    "start_time": "2024-08-05T12:29:18.518Z"
   },
   {
    "duration": 27,
    "start_time": "2024-08-05T12:29:18.528Z"
   },
   {
    "duration": 4,
    "start_time": "2024-08-05T12:29:18.557Z"
   },
   {
    "duration": 70,
    "start_time": "2024-08-05T12:29:18.563Z"
   },
   {
    "duration": 5,
    "start_time": "2024-08-05T12:29:18.634Z"
   },
   {
    "duration": 10,
    "start_time": "2024-08-05T12:29:18.640Z"
   },
   {
    "duration": 7,
    "start_time": "2024-08-05T12:29:18.651Z"
   },
   {
    "duration": 44,
    "start_time": "2024-08-05T12:29:18.660Z"
   },
   {
    "duration": 11,
    "start_time": "2024-08-05T12:29:18.705Z"
   },
   {
    "duration": 6,
    "start_time": "2024-08-05T12:29:18.717Z"
   },
   {
    "duration": 4,
    "start_time": "2024-08-05T12:29:18.725Z"
   },
   {
    "duration": 5,
    "start_time": "2024-08-05T12:29:18.731Z"
   },
   {
    "duration": 7,
    "start_time": "2024-08-05T12:29:18.738Z"
   },
   {
    "duration": 7,
    "start_time": "2024-08-05T12:29:18.785Z"
   },
   {
    "duration": 6,
    "start_time": "2024-08-05T12:29:18.793Z"
   },
   {
    "duration": 296,
    "start_time": "2024-08-05T12:29:18.801Z"
   },
   {
    "duration": 4,
    "start_time": "2024-08-05T12:29:19.101Z"
   },
   {
    "duration": 12,
    "start_time": "2024-08-05T12:29:19.107Z"
   },
   {
    "duration": 205,
    "start_time": "2024-08-05T12:29:19.120Z"
   },
   {
    "duration": 8,
    "start_time": "2024-08-05T12:29:19.326Z"
   },
   {
    "duration": 194,
    "start_time": "2024-08-05T12:29:19.336Z"
   },
   {
    "duration": 9,
    "start_time": "2024-08-05T12:29:19.532Z"
   },
   {
    "duration": 201,
    "start_time": "2024-08-05T12:29:19.543Z"
   },
   {
    "duration": 9,
    "start_time": "2024-08-05T12:29:19.746Z"
   },
   {
    "duration": 329,
    "start_time": "2024-08-05T12:29:19.757Z"
   },
   {
    "duration": 10,
    "start_time": "2024-08-05T12:29:20.087Z"
   },
   {
    "duration": 158,
    "start_time": "2024-08-05T12:29:20.100Z"
   },
   {
    "duration": 10,
    "start_time": "2024-08-05T12:29:20.259Z"
   },
   {
    "duration": 166,
    "start_time": "2024-08-05T12:29:20.283Z"
   },
   {
    "duration": 10,
    "start_time": "2024-08-05T12:29:20.451Z"
   },
   {
    "duration": 144,
    "start_time": "2024-08-05T12:29:20.462Z"
   },
   {
    "duration": 9,
    "start_time": "2024-08-05T12:29:20.607Z"
   },
   {
    "duration": 168,
    "start_time": "2024-08-05T12:29:20.617Z"
   },
   {
    "duration": 7,
    "start_time": "2024-08-05T12:29:20.787Z"
   },
   {
    "duration": 17,
    "start_time": "2024-08-05T12:29:20.795Z"
   },
   {
    "duration": 162,
    "start_time": "2024-08-05T12:29:20.814Z"
   },
   {
    "duration": 13,
    "start_time": "2024-08-05T12:29:20.978Z"
   },
   {
    "duration": 167,
    "start_time": "2024-08-05T12:29:20.993Z"
   },
   {
    "duration": 25,
    "start_time": "2024-08-05T12:29:21.162Z"
   },
   {
    "duration": 8,
    "start_time": "2024-08-05T12:29:21.189Z"
   },
   {
    "duration": 386,
    "start_time": "2024-08-05T12:29:21.198Z"
   },
   {
    "duration": 25,
    "start_time": "2024-08-05T12:29:21.585Z"
   },
   {
    "duration": 23,
    "start_time": "2024-08-05T12:29:21.612Z"
   },
   {
    "duration": 99,
    "start_time": "2024-08-05T12:29:21.636Z"
   },
   {
    "duration": 200,
    "start_time": "2024-08-05T12:29:21.736Z"
   },
   {
    "duration": 217,
    "start_time": "2024-08-05T12:29:21.938Z"
   },
   {
    "duration": 213,
    "start_time": "2024-08-05T12:29:22.157Z"
   },
   {
    "duration": 174,
    "start_time": "2024-08-05T12:29:22.372Z"
   },
   {
    "duration": 84,
    "start_time": "2024-08-05T12:29:22.548Z"
   },
   {
    "duration": 160,
    "start_time": "2024-08-05T12:29:45.011Z"
   },
   {
    "duration": 165,
    "start_time": "2024-08-05T12:30:28.188Z"
   },
   {
    "duration": 156,
    "start_time": "2024-08-05T12:31:17.228Z"
   },
   {
    "duration": 126,
    "start_time": "2024-08-05T12:33:29.360Z"
   },
   {
    "duration": 117,
    "start_time": "2024-08-05T12:33:33.708Z"
   },
   {
    "duration": 117,
    "start_time": "2024-08-05T12:33:38.558Z"
   },
   {
    "duration": 148,
    "start_time": "2024-08-05T12:34:01.190Z"
   },
   {
    "duration": 140,
    "start_time": "2024-08-05T12:35:44.729Z"
   },
   {
    "duration": 146,
    "start_time": "2024-08-05T12:36:09.427Z"
   },
   {
    "duration": 151,
    "start_time": "2024-08-05T12:36:56.348Z"
   },
   {
    "duration": 14,
    "start_time": "2024-08-05T12:37:12.148Z"
   },
   {
    "duration": 223,
    "start_time": "2024-08-05T12:38:07.309Z"
   },
   {
    "duration": 27,
    "start_time": "2024-08-05T12:40:16.547Z"
   },
   {
    "duration": 27,
    "start_time": "2024-08-05T12:41:59.228Z"
   },
   {
    "duration": 189,
    "start_time": "2024-08-05T12:42:19.458Z"
   },
   {
    "duration": 151,
    "start_time": "2024-08-05T12:57:15.000Z"
   },
   {
    "duration": 187,
    "start_time": "2024-08-05T12:59:29.141Z"
   },
   {
    "duration": 48,
    "start_time": "2024-08-05T13:01:35.889Z"
   },
   {
    "duration": 35,
    "start_time": "2024-08-05T13:01:43.537Z"
   },
   {
    "duration": 39,
    "start_time": "2024-08-05T13:01:51.019Z"
   },
   {
    "duration": 14,
    "start_time": "2024-08-05T13:02:27.668Z"
   },
   {
    "duration": 12,
    "start_time": "2024-08-05T13:02:39.091Z"
   },
   {
    "duration": 8,
    "start_time": "2024-08-05T13:02:46.168Z"
   },
   {
    "duration": 11,
    "start_time": "2024-08-05T13:03:34.928Z"
   },
   {
    "duration": 9,
    "start_time": "2024-08-05T13:03:43.417Z"
   },
   {
    "duration": 9,
    "start_time": "2024-08-05T13:03:53.909Z"
   },
   {
    "duration": 643,
    "start_time": "2024-08-05T13:07:31.897Z"
   },
   {
    "duration": 1403,
    "start_time": "2024-08-05T13:07:35.657Z"
   },
   {
    "duration": 51,
    "start_time": "2024-08-05T13:07:37.063Z"
   },
   {
    "duration": 47,
    "start_time": "2024-08-05T13:07:37.115Z"
   },
   {
    "duration": 93,
    "start_time": "2024-08-05T13:07:37.164Z"
   },
   {
    "duration": 2297,
    "start_time": "2024-08-05T13:07:37.259Z"
   },
   {
    "duration": 9,
    "start_time": "2024-08-05T13:07:39.558Z"
   },
   {
    "duration": 5,
    "start_time": "2024-08-05T13:07:39.568Z"
   },
   {
    "duration": 76,
    "start_time": "2024-08-05T13:07:39.574Z"
   },
   {
    "duration": 13,
    "start_time": "2024-08-05T13:07:39.652Z"
   },
   {
    "duration": 11,
    "start_time": "2024-08-05T13:07:39.667Z"
   },
   {
    "duration": 16,
    "start_time": "2024-08-05T13:07:39.679Z"
   },
   {
    "duration": 13,
    "start_time": "2024-08-05T13:07:39.701Z"
   },
   {
    "duration": 25,
    "start_time": "2024-08-05T13:07:39.716Z"
   },
   {
    "duration": 6,
    "start_time": "2024-08-05T13:07:39.743Z"
   },
   {
    "duration": 70,
    "start_time": "2024-08-05T13:07:39.751Z"
   },
   {
    "duration": 5,
    "start_time": "2024-08-05T13:07:39.823Z"
   },
   {
    "duration": 8,
    "start_time": "2024-08-05T13:07:39.829Z"
   },
   {
    "duration": 6,
    "start_time": "2024-08-05T13:07:39.839Z"
   },
   {
    "duration": 55,
    "start_time": "2024-08-05T13:07:39.846Z"
   },
   {
    "duration": 8,
    "start_time": "2024-08-05T13:07:39.902Z"
   },
   {
    "duration": 9,
    "start_time": "2024-08-05T13:07:39.911Z"
   },
   {
    "duration": 6,
    "start_time": "2024-08-05T13:07:39.921Z"
   },
   {
    "duration": 12,
    "start_time": "2024-08-05T13:07:39.929Z"
   },
   {
    "duration": 8,
    "start_time": "2024-08-05T13:07:39.943Z"
   },
   {
    "duration": 20,
    "start_time": "2024-08-05T13:07:39.952Z"
   },
   {
    "duration": 5,
    "start_time": "2024-08-05T13:07:39.973Z"
   },
   {
    "duration": 332,
    "start_time": "2024-08-05T13:07:39.980Z"
   },
   {
    "duration": 4,
    "start_time": "2024-08-05T13:07:40.315Z"
   },
   {
    "duration": 45,
    "start_time": "2024-08-05T13:07:40.321Z"
   },
   {
    "duration": 182,
    "start_time": "2024-08-05T13:07:40.368Z"
   },
   {
    "duration": 10,
    "start_time": "2024-08-05T13:07:40.552Z"
   },
   {
    "duration": 207,
    "start_time": "2024-08-05T13:07:40.564Z"
   },
   {
    "duration": 32,
    "start_time": "2024-08-05T13:07:40.772Z"
   },
   {
    "duration": 188,
    "start_time": "2024-08-05T13:07:40.808Z"
   },
   {
    "duration": 15,
    "start_time": "2024-08-05T13:07:40.998Z"
   },
   {
    "duration": 286,
    "start_time": "2024-08-05T13:07:41.015Z"
   },
   {
    "duration": 10,
    "start_time": "2024-08-05T13:07:41.308Z"
   },
   {
    "duration": 161,
    "start_time": "2024-08-05T13:07:41.320Z"
   },
   {
    "duration": 18,
    "start_time": "2024-08-05T13:07:41.487Z"
   },
   {
    "duration": 158,
    "start_time": "2024-08-05T13:07:41.508Z"
   },
   {
    "duration": 9,
    "start_time": "2024-08-05T13:07:41.668Z"
   },
   {
    "duration": 261,
    "start_time": "2024-08-05T13:07:41.684Z"
   },
   {
    "duration": 8,
    "start_time": "2024-08-05T13:07:41.947Z"
   },
   {
    "duration": 182,
    "start_time": "2024-08-05T13:07:41.957Z"
   },
   {
    "duration": 6,
    "start_time": "2024-08-05T13:07:42.141Z"
   },
   {
    "duration": 10,
    "start_time": "2024-08-05T13:07:42.148Z"
   },
   {
    "duration": 169,
    "start_time": "2024-08-05T13:07:42.159Z"
   },
   {
    "duration": 10,
    "start_time": "2024-08-05T13:07:42.329Z"
   },
   {
    "duration": 174,
    "start_time": "2024-08-05T13:07:42.341Z"
   },
   {
    "duration": 18,
    "start_time": "2024-08-05T13:07:42.516Z"
   },
   {
    "duration": 8,
    "start_time": "2024-08-05T13:07:42.535Z"
   },
   {
    "duration": 424,
    "start_time": "2024-08-05T13:07:42.545Z"
   },
   {
    "duration": 35,
    "start_time": "2024-08-05T13:07:42.971Z"
   },
   {
    "duration": 25,
    "start_time": "2024-08-05T13:07:43.007Z"
   },
   {
    "duration": 12,
    "start_time": "2024-08-05T13:07:43.033Z"
   },
   {
    "duration": 295,
    "start_time": "2024-08-05T13:07:43.046Z"
   },
   {
    "duration": 222,
    "start_time": "2024-08-05T13:07:43.342Z"
   },
   {
    "duration": 208,
    "start_time": "2024-08-05T13:07:43.566Z"
   },
   {
    "duration": 194,
    "start_time": "2024-08-05T13:07:43.775Z"
   },
   {
    "duration": 267,
    "start_time": "2024-08-05T13:07:43.970Z"
   },
   {
    "duration": 1242,
    "start_time": "2024-08-05T13:10:04.224Z"
   },
   {
    "duration": 48,
    "start_time": "2024-08-05T13:10:05.468Z"
   },
   {
    "duration": 16,
    "start_time": "2024-08-05T13:10:05.518Z"
   },
   {
    "duration": 100,
    "start_time": "2024-08-05T13:10:05.536Z"
   },
   {
    "duration": 2215,
    "start_time": "2024-08-05T13:10:05.638Z"
   },
   {
    "duration": 9,
    "start_time": "2024-08-05T13:10:07.854Z"
   },
   {
    "duration": 26,
    "start_time": "2024-08-05T13:10:07.865Z"
   },
   {
    "duration": 18,
    "start_time": "2024-08-05T13:10:07.893Z"
   },
   {
    "duration": 4,
    "start_time": "2024-08-05T13:10:07.912Z"
   },
   {
    "duration": 10,
    "start_time": "2024-08-05T13:10:07.919Z"
   },
   {
    "duration": 8,
    "start_time": "2024-08-05T13:10:07.930Z"
   },
   {
    "duration": 15,
    "start_time": "2024-08-05T13:10:07.939Z"
   },
   {
    "duration": 20,
    "start_time": "2024-08-05T13:10:07.956Z"
   },
   {
    "duration": 19,
    "start_time": "2024-08-05T13:10:07.978Z"
   },
   {
    "duration": 59,
    "start_time": "2024-08-05T13:10:08.000Z"
   },
   {
    "duration": 6,
    "start_time": "2024-08-05T13:10:08.061Z"
   },
   {
    "duration": 61,
    "start_time": "2024-08-05T13:10:08.069Z"
   },
   {
    "duration": 10,
    "start_time": "2024-08-05T13:10:08.132Z"
   },
   {
    "duration": 33,
    "start_time": "2024-08-05T13:10:08.143Z"
   },
   {
    "duration": 3,
    "start_time": "2024-08-05T13:10:08.178Z"
   },
   {
    "duration": 22,
    "start_time": "2024-08-05T13:10:08.182Z"
   },
   {
    "duration": 5,
    "start_time": "2024-08-05T13:10:08.210Z"
   },
   {
    "duration": 5,
    "start_time": "2024-08-05T13:10:08.217Z"
   },
   {
    "duration": 7,
    "start_time": "2024-08-05T13:10:08.223Z"
   },
   {
    "duration": 14,
    "start_time": "2024-08-05T13:10:08.232Z"
   },
   {
    "duration": 6,
    "start_time": "2024-08-05T13:10:08.247Z"
   },
   {
    "duration": 345,
    "start_time": "2024-08-05T13:10:08.254Z"
   },
   {
    "duration": 5,
    "start_time": "2024-08-05T13:10:08.609Z"
   },
   {
    "duration": 17,
    "start_time": "2024-08-05T13:10:08.615Z"
   },
   {
    "duration": 168,
    "start_time": "2024-08-05T13:10:08.634Z"
   },
   {
    "duration": 9,
    "start_time": "2024-08-05T13:10:08.806Z"
   },
   {
    "duration": 209,
    "start_time": "2024-08-05T13:10:08.817Z"
   },
   {
    "duration": 10,
    "start_time": "2024-08-05T13:10:09.028Z"
   },
   {
    "duration": 221,
    "start_time": "2024-08-05T13:10:09.040Z"
   },
   {
    "duration": 8,
    "start_time": "2024-08-05T13:10:09.262Z"
   },
   {
    "duration": 281,
    "start_time": "2024-08-05T13:10:09.272Z"
   },
   {
    "duration": 9,
    "start_time": "2024-08-05T13:10:09.555Z"
   },
   {
    "duration": 174,
    "start_time": "2024-08-05T13:10:09.565Z"
   },
   {
    "duration": 9,
    "start_time": "2024-08-05T13:10:09.740Z"
   },
   {
    "duration": 167,
    "start_time": "2024-08-05T13:10:09.750Z"
   },
   {
    "duration": 10,
    "start_time": "2024-08-05T13:10:09.919Z"
   },
   {
    "duration": 262,
    "start_time": "2024-08-05T13:10:09.931Z"
   },
   {
    "duration": 14,
    "start_time": "2024-08-05T13:10:10.197Z"
   },
   {
    "duration": 175,
    "start_time": "2024-08-05T13:10:10.212Z"
   },
   {
    "duration": 21,
    "start_time": "2024-08-05T13:10:10.390Z"
   },
   {
    "duration": 14,
    "start_time": "2024-08-05T13:10:10.413Z"
   },
   {
    "duration": 138,
    "start_time": "2024-08-05T13:10:10.429Z"
   },
   {
    "duration": 9,
    "start_time": "2024-08-05T13:10:10.569Z"
   },
   {
    "duration": 165,
    "start_time": "2024-08-05T13:10:10.583Z"
   },
   {
    "duration": 16,
    "start_time": "2024-08-05T13:10:10.750Z"
   },
   {
    "duration": 33,
    "start_time": "2024-08-05T13:10:10.768Z"
   },
   {
    "duration": 416,
    "start_time": "2024-08-05T13:10:10.808Z"
   },
   {
    "duration": 25,
    "start_time": "2024-08-05T13:10:11.225Z"
   },
   {
    "duration": 47,
    "start_time": "2024-08-05T13:10:11.252Z"
   },
   {
    "duration": 16,
    "start_time": "2024-08-05T13:10:11.304Z"
   },
   {
    "duration": 195,
    "start_time": "2024-08-05T13:10:11.322Z"
   },
   {
    "duration": 216,
    "start_time": "2024-08-05T13:10:11.518Z"
   },
   {
    "duration": 202,
    "start_time": "2024-08-05T13:10:11.735Z"
   },
   {
    "duration": 195,
    "start_time": "2024-08-05T13:10:11.938Z"
   },
   {
    "duration": 68525,
    "start_time": "2024-08-05T13:10:12.134Z"
   },
   {
    "duration": 173,
    "start_time": "2024-08-05T13:11:20.660Z"
   },
   {
    "duration": 118,
    "start_time": "2024-08-05T13:12:34.119Z"
   },
   {
    "duration": 115,
    "start_time": "2024-08-05T13:16:00.611Z"
   },
   {
    "duration": 5,
    "start_time": "2024-08-05T13:40:48.648Z"
   },
   {
    "duration": 4,
    "start_time": "2024-08-05T13:41:29.996Z"
   },
   {
    "duration": 761,
    "start_time": "2024-08-05T13:44:47.397Z"
   },
   {
    "duration": 40,
    "start_time": "2024-08-05T13:44:48.161Z"
   },
   {
    "duration": 16,
    "start_time": "2024-08-05T13:44:48.202Z"
   },
   {
    "duration": 86,
    "start_time": "2024-08-05T13:44:48.220Z"
   },
   {
    "duration": 2113,
    "start_time": "2024-08-05T13:44:48.307Z"
   },
   {
    "duration": 9,
    "start_time": "2024-08-05T13:44:50.422Z"
   },
   {
    "duration": 13,
    "start_time": "2024-08-05T13:44:50.433Z"
   },
   {
    "duration": 14,
    "start_time": "2024-08-05T13:44:50.448Z"
   },
   {
    "duration": 4,
    "start_time": "2024-08-05T13:44:50.463Z"
   },
   {
    "duration": 11,
    "start_time": "2024-08-05T13:44:50.469Z"
   },
   {
    "duration": 7,
    "start_time": "2024-08-05T13:44:50.482Z"
   },
   {
    "duration": 18,
    "start_time": "2024-08-05T13:44:50.490Z"
   },
   {
    "duration": 50,
    "start_time": "2024-08-05T13:44:50.509Z"
   },
   {
    "duration": 6,
    "start_time": "2024-08-05T13:44:50.560Z"
   },
   {
    "duration": 54,
    "start_time": "2024-08-05T13:44:50.567Z"
   },
   {
    "duration": 30,
    "start_time": "2024-08-05T13:44:50.622Z"
   },
   {
    "duration": 17,
    "start_time": "2024-08-05T13:44:50.654Z"
   },
   {
    "duration": 14,
    "start_time": "2024-08-05T13:44:50.672Z"
   },
   {
    "duration": 76,
    "start_time": "2024-08-05T13:44:50.687Z"
   },
   {
    "duration": 21,
    "start_time": "2024-08-05T13:44:50.764Z"
   },
   {
    "duration": 19,
    "start_time": "2024-08-05T13:44:50.787Z"
   },
   {
    "duration": 11,
    "start_time": "2024-08-05T13:44:50.808Z"
   },
   {
    "duration": 8,
    "start_time": "2024-08-05T13:44:50.821Z"
   },
   {
    "duration": 7,
    "start_time": "2024-08-05T13:44:50.831Z"
   },
   {
    "duration": 26,
    "start_time": "2024-08-05T13:44:50.839Z"
   },
   {
    "duration": 31,
    "start_time": "2024-08-05T13:44:50.867Z"
   },
   {
    "duration": 289,
    "start_time": "2024-08-05T13:44:50.900Z"
   },
   {
    "duration": 4,
    "start_time": "2024-08-05T13:44:51.192Z"
   },
   {
    "duration": 13,
    "start_time": "2024-08-05T13:44:51.198Z"
   },
   {
    "duration": 161,
    "start_time": "2024-08-05T13:44:51.212Z"
   },
   {
    "duration": 13,
    "start_time": "2024-08-05T13:44:51.375Z"
   },
   {
    "duration": 185,
    "start_time": "2024-08-05T13:44:51.389Z"
   },
   {
    "duration": 13,
    "start_time": "2024-08-05T13:44:51.575Z"
   },
   {
    "duration": 178,
    "start_time": "2024-08-05T13:44:51.589Z"
   },
   {
    "duration": 16,
    "start_time": "2024-08-05T13:44:51.768Z"
   },
   {
    "duration": 311,
    "start_time": "2024-08-05T13:44:51.785Z"
   },
   {
    "duration": 8,
    "start_time": "2024-08-05T13:44:52.097Z"
   },
   {
    "duration": 158,
    "start_time": "2024-08-05T13:44:52.106Z"
   },
   {
    "duration": 8,
    "start_time": "2024-08-05T13:44:52.265Z"
   },
   {
    "duration": 176,
    "start_time": "2024-08-05T13:44:52.275Z"
   },
   {
    "duration": 9,
    "start_time": "2024-08-05T13:44:52.453Z"
   },
   {
    "duration": 138,
    "start_time": "2024-08-05T13:44:52.464Z"
   },
   {
    "duration": 8,
    "start_time": "2024-08-05T13:44:52.603Z"
   },
   {
    "duration": 149,
    "start_time": "2024-08-05T13:44:52.612Z"
   },
   {
    "duration": 6,
    "start_time": "2024-08-05T13:44:52.763Z"
   },
   {
    "duration": 36,
    "start_time": "2024-08-05T13:44:52.770Z"
   },
   {
    "duration": 124,
    "start_time": "2024-08-05T13:44:52.808Z"
   },
   {
    "duration": 9,
    "start_time": "2024-08-05T13:44:52.933Z"
   },
   {
    "duration": 137,
    "start_time": "2024-08-05T13:44:52.943Z"
   },
   {
    "duration": 16,
    "start_time": "2024-08-05T13:44:53.083Z"
   },
   {
    "duration": 16,
    "start_time": "2024-08-05T13:44:53.100Z"
   },
   {
    "duration": 371,
    "start_time": "2024-08-05T13:44:53.118Z"
   },
   {
    "duration": 26,
    "start_time": "2024-08-05T13:44:53.490Z"
   },
   {
    "duration": 29,
    "start_time": "2024-08-05T13:44:53.517Z"
   },
   {
    "duration": 88,
    "start_time": "2024-08-05T13:44:53.548Z"
   },
   {
    "duration": 199,
    "start_time": "2024-08-05T13:44:53.638Z"
   },
   {
    "duration": 223,
    "start_time": "2024-08-05T13:44:53.839Z"
   },
   {
    "duration": 198,
    "start_time": "2024-08-05T13:44:54.064Z"
   },
   {
    "duration": 180,
    "start_time": "2024-08-05T13:44:54.264Z"
   },
   {
    "duration": 158,
    "start_time": "2024-08-05T13:44:54.446Z"
   },
   {
    "duration": 4,
    "start_time": "2024-08-05T13:44:54.606Z"
   },
   {
    "duration": 1347,
    "start_time": "2024-08-05T13:50:39.757Z"
   },
   {
    "duration": 47,
    "start_time": "2024-08-05T13:50:41.106Z"
   },
   {
    "duration": 36,
    "start_time": "2024-08-05T13:50:41.155Z"
   },
   {
    "duration": 121,
    "start_time": "2024-08-05T13:50:41.194Z"
   },
   {
    "duration": 2087,
    "start_time": "2024-08-05T13:50:41.317Z"
   },
   {
    "duration": 10,
    "start_time": "2024-08-05T13:50:43.406Z"
   },
   {
    "duration": 5,
    "start_time": "2024-08-05T13:50:43.418Z"
   },
   {
    "duration": 23,
    "start_time": "2024-08-05T13:50:43.424Z"
   },
   {
    "duration": 4,
    "start_time": "2024-08-05T13:50:43.449Z"
   },
   {
    "duration": 14,
    "start_time": "2024-08-05T13:50:43.457Z"
   },
   {
    "duration": 8,
    "start_time": "2024-08-05T13:50:43.473Z"
   },
   {
    "duration": 6,
    "start_time": "2024-08-05T13:50:43.482Z"
   },
   {
    "duration": 35,
    "start_time": "2024-08-05T13:50:43.490Z"
   },
   {
    "duration": 8,
    "start_time": "2024-08-05T13:50:43.527Z"
   },
   {
    "duration": 72,
    "start_time": "2024-08-05T13:50:43.536Z"
   },
   {
    "duration": 9,
    "start_time": "2024-08-05T13:50:43.610Z"
   },
   {
    "duration": 9,
    "start_time": "2024-08-05T13:50:43.621Z"
   },
   {
    "duration": 34,
    "start_time": "2024-08-05T13:50:43.631Z"
   },
   {
    "duration": 23,
    "start_time": "2024-08-05T13:50:43.666Z"
   },
   {
    "duration": 89,
    "start_time": "2024-08-05T13:50:43.690Z"
   },
   {
    "duration": 9,
    "start_time": "2024-08-05T13:50:43.780Z"
   },
   {
    "duration": 30,
    "start_time": "2024-08-05T13:50:43.790Z"
   },
   {
    "duration": 9,
    "start_time": "2024-08-05T13:50:43.821Z"
   },
   {
    "duration": 17,
    "start_time": "2024-08-05T13:50:43.831Z"
   },
   {
    "duration": 10,
    "start_time": "2024-08-05T13:50:43.849Z"
   },
   {
    "duration": 16,
    "start_time": "2024-08-05T13:50:43.860Z"
   },
   {
    "duration": 294,
    "start_time": "2024-08-05T13:50:43.877Z"
   },
   {
    "duration": 9,
    "start_time": "2024-08-05T13:50:44.176Z"
   },
   {
    "duration": 11,
    "start_time": "2024-08-05T13:50:44.187Z"
   },
   {
    "duration": 189,
    "start_time": "2024-08-05T13:50:44.200Z"
   },
   {
    "duration": 13,
    "start_time": "2024-08-05T13:50:44.392Z"
   },
   {
    "duration": 266,
    "start_time": "2024-08-05T13:50:44.407Z"
   },
   {
    "duration": 13,
    "start_time": "2024-08-05T13:50:44.675Z"
   },
   {
    "duration": 180,
    "start_time": "2024-08-05T13:50:44.689Z"
   },
   {
    "duration": 14,
    "start_time": "2024-08-05T13:50:44.871Z"
   },
   {
    "duration": 295,
    "start_time": "2024-08-05T13:50:44.886Z"
   },
   {
    "duration": 9,
    "start_time": "2024-08-05T13:50:45.182Z"
   },
   {
    "duration": 193,
    "start_time": "2024-08-05T13:50:45.192Z"
   },
   {
    "duration": 8,
    "start_time": "2024-08-05T13:50:45.387Z"
   },
   {
    "duration": 283,
    "start_time": "2024-08-05T13:50:45.396Z"
   },
   {
    "duration": 9,
    "start_time": "2024-08-05T13:50:45.680Z"
   },
   {
    "duration": 200,
    "start_time": "2024-08-05T13:50:45.691Z"
   },
   {
    "duration": 11,
    "start_time": "2024-08-05T13:50:45.893Z"
   },
   {
    "duration": 165,
    "start_time": "2024-08-05T13:50:45.905Z"
   },
   {
    "duration": 14,
    "start_time": "2024-08-05T13:50:46.071Z"
   },
   {
    "duration": 9,
    "start_time": "2024-08-05T13:50:46.086Z"
   },
   {
    "duration": 150,
    "start_time": "2024-08-05T13:50:46.096Z"
   },
   {
    "duration": 9,
    "start_time": "2024-08-05T13:50:46.248Z"
   },
   {
    "duration": 170,
    "start_time": "2024-08-05T13:50:46.259Z"
   },
   {
    "duration": 17,
    "start_time": "2024-08-05T13:50:46.431Z"
   },
   {
    "duration": 17,
    "start_time": "2024-08-05T13:50:46.450Z"
   },
   {
    "duration": 417,
    "start_time": "2024-08-05T13:50:46.469Z"
   },
   {
    "duration": 27,
    "start_time": "2024-08-05T13:50:46.888Z"
   },
   {
    "duration": 25,
    "start_time": "2024-08-05T13:50:46.917Z"
   },
   {
    "duration": 41,
    "start_time": "2024-08-05T13:50:46.943Z"
   },
   {
    "duration": 201,
    "start_time": "2024-08-05T13:50:46.986Z"
   },
   {
    "duration": 207,
    "start_time": "2024-08-05T13:50:47.189Z"
   },
   {
    "duration": 259,
    "start_time": "2024-08-05T13:50:47.398Z"
   },
   {
    "duration": 276,
    "start_time": "2024-08-05T13:50:47.660Z"
   },
   {
    "duration": 222,
    "start_time": "2024-08-05T13:50:47.938Z"
   },
   {
    "duration": 5,
    "start_time": "2024-08-05T13:50:48.162Z"
   },
   {
    "duration": 36065,
    "start_time": "2024-08-05T13:51:30.668Z"
   },
   {
    "duration": 60,
    "start_time": "2024-08-05T13:54:23.344Z"
   },
   {
    "duration": 21,
    "start_time": "2024-08-05T13:54:33.880Z"
   },
   {
    "duration": 111,
    "start_time": "2024-08-05T13:55:02.467Z"
   },
   {
    "duration": 5839,
    "start_time": "2024-08-05T13:55:12.187Z"
   },
   {
    "duration": 1345,
    "start_time": "2024-08-05T16:35:57.895Z"
   },
   {
    "duration": 31,
    "start_time": "2024-08-05T16:35:59.242Z"
   },
   {
    "duration": 54,
    "start_time": "2024-08-05T16:35:59.274Z"
   },
   {
    "duration": 63,
    "start_time": "2024-08-05T16:35:59.330Z"
   },
   {
    "duration": 1602,
    "start_time": "2024-08-05T16:35:59.394Z"
   },
   {
    "duration": 7,
    "start_time": "2024-08-05T16:36:00.998Z"
   },
   {
    "duration": 432,
    "start_time": "2024-08-05T16:36:01.006Z"
   },
   {
    "duration": 50,
    "start_time": "2024-08-05T16:36:01.440Z"
   },
   {
    "duration": 128,
    "start_time": "2024-08-05T16:36:01.492Z"
   },
   {
    "duration": 87,
    "start_time": "2024-08-05T16:36:01.622Z"
   },
   {
    "duration": 45,
    "start_time": "2024-08-05T16:36:01.710Z"
   },
   {
    "duration": 102,
    "start_time": "2024-08-05T16:36:01.756Z"
   },
   {
    "duration": 227,
    "start_time": "2024-08-05T16:36:01.860Z"
   },
   {
    "duration": 29,
    "start_time": "2024-08-05T16:36:02.089Z"
   },
   {
    "duration": 47,
    "start_time": "2024-08-05T16:36:02.119Z"
   },
   {
    "duration": 5,
    "start_time": "2024-08-05T16:36:02.168Z"
   },
   {
    "duration": 39,
    "start_time": "2024-08-05T16:36:02.174Z"
   },
   {
    "duration": 34,
    "start_time": "2024-08-05T16:36:02.214Z"
   },
   {
    "duration": 31,
    "start_time": "2024-08-05T16:36:02.250Z"
   },
   {
    "duration": 21,
    "start_time": "2024-08-05T16:36:02.282Z"
   },
   {
    "duration": 27,
    "start_time": "2024-08-05T16:36:02.304Z"
   },
   {
    "duration": 9,
    "start_time": "2024-08-05T16:36:02.333Z"
   },
   {
    "duration": 4,
    "start_time": "2024-08-05T16:36:02.343Z"
   },
   {
    "duration": 23,
    "start_time": "2024-08-05T16:36:02.348Z"
   },
   {
    "duration": 45,
    "start_time": "2024-08-05T16:36:02.372Z"
   },
   {
    "duration": 13,
    "start_time": "2024-08-05T16:36:02.418Z"
   },
   {
    "duration": 313,
    "start_time": "2024-08-05T16:36:02.432Z"
   },
   {
    "duration": 3,
    "start_time": "2024-08-05T16:36:02.749Z"
   },
   {
    "duration": 53,
    "start_time": "2024-08-05T16:36:02.753Z"
   },
   {
    "duration": 148,
    "start_time": "2024-08-05T16:36:02.808Z"
   },
   {
    "duration": 9,
    "start_time": "2024-08-05T16:36:02.958Z"
   },
   {
    "duration": 179,
    "start_time": "2024-08-05T16:36:02.968Z"
   },
   {
    "duration": 7,
    "start_time": "2024-08-05T16:36:03.148Z"
   },
   {
    "duration": 164,
    "start_time": "2024-08-05T16:36:03.156Z"
   },
   {
    "duration": 7,
    "start_time": "2024-08-05T16:36:03.321Z"
   },
   {
    "duration": 188,
    "start_time": "2024-08-05T16:36:03.329Z"
   },
   {
    "duration": 6,
    "start_time": "2024-08-05T16:36:03.519Z"
   },
   {
    "duration": 115,
    "start_time": "2024-08-05T16:36:03.526Z"
   },
   {
    "duration": 8,
    "start_time": "2024-08-05T16:36:03.642Z"
   },
   {
    "duration": 203,
    "start_time": "2024-08-05T16:36:03.651Z"
   },
   {
    "duration": 7,
    "start_time": "2024-08-05T16:36:03.856Z"
   },
   {
    "duration": 103,
    "start_time": "2024-08-05T16:36:03.865Z"
   },
   {
    "duration": 8,
    "start_time": "2024-08-05T16:36:03.970Z"
   },
   {
    "duration": 124,
    "start_time": "2024-08-05T16:36:03.979Z"
   },
   {
    "duration": 6,
    "start_time": "2024-08-05T16:36:04.105Z"
   },
   {
    "duration": 21,
    "start_time": "2024-08-05T16:36:04.113Z"
   },
   {
    "duration": 111,
    "start_time": "2024-08-05T16:36:04.136Z"
   },
   {
    "duration": 9,
    "start_time": "2024-08-05T16:36:04.249Z"
   },
   {
    "duration": 127,
    "start_time": "2024-08-05T16:36:04.259Z"
   },
   {
    "duration": 22,
    "start_time": "2024-08-05T16:36:04.388Z"
   },
   {
    "duration": 8,
    "start_time": "2024-08-05T16:36:04.411Z"
   },
   {
    "duration": 299,
    "start_time": "2024-08-05T16:36:04.420Z"
   },
   {
    "duration": 22,
    "start_time": "2024-08-05T16:36:04.720Z"
   },
   {
    "duration": 82,
    "start_time": "2024-08-05T16:36:04.744Z"
   },
   {
    "duration": 11,
    "start_time": "2024-08-05T16:36:04.828Z"
   },
   {
    "duration": 161,
    "start_time": "2024-08-05T16:36:04.841Z"
   },
   {
    "duration": 177,
    "start_time": "2024-08-05T16:36:05.003Z"
   },
   {
    "duration": 178,
    "start_time": "2024-08-05T16:36:05.181Z"
   },
   {
    "duration": 210,
    "start_time": "2024-08-05T16:36:05.361Z"
   },
   {
    "duration": 137,
    "start_time": "2024-08-05T16:36:05.573Z"
   },
   {
    "duration": 4,
    "start_time": "2024-08-05T16:36:05.711Z"
   },
   {
    "duration": 150,
    "start_time": "2024-08-05T16:41:42.992Z"
   },
   {
    "duration": 1157,
    "start_time": "2024-08-05T16:44:41.598Z"
   },
   {
    "duration": 27,
    "start_time": "2024-08-05T16:44:42.756Z"
   },
   {
    "duration": 19,
    "start_time": "2024-08-05T16:44:42.784Z"
   },
   {
    "duration": 127,
    "start_time": "2024-08-05T16:44:42.805Z"
   },
   {
    "duration": 1583,
    "start_time": "2024-08-05T16:44:42.933Z"
   },
   {
    "duration": 9,
    "start_time": "2024-08-05T16:44:44.517Z"
   },
   {
    "duration": 12,
    "start_time": "2024-08-05T16:44:44.527Z"
   },
   {
    "duration": 19,
    "start_time": "2024-08-05T16:44:44.540Z"
   },
   {
    "duration": 15,
    "start_time": "2024-08-05T16:44:44.560Z"
   },
   {
    "duration": 18,
    "start_time": "2024-08-05T16:44:44.577Z"
   },
   {
    "duration": 7,
    "start_time": "2024-08-05T16:44:44.597Z"
   },
   {
    "duration": 16,
    "start_time": "2024-08-05T16:44:44.605Z"
   },
   {
    "duration": 17,
    "start_time": "2024-08-05T16:44:44.623Z"
   },
   {
    "duration": 4,
    "start_time": "2024-08-05T16:44:44.641Z"
   },
   {
    "duration": 57,
    "start_time": "2024-08-05T16:44:44.646Z"
   },
   {
    "duration": 4,
    "start_time": "2024-08-05T16:44:44.705Z"
   },
   {
    "duration": 79,
    "start_time": "2024-08-05T16:44:44.711Z"
   },
   {
    "duration": 88,
    "start_time": "2024-08-05T16:44:44.792Z"
   },
   {
    "duration": 24,
    "start_time": "2024-08-05T16:44:44.882Z"
   },
   {
    "duration": 3,
    "start_time": "2024-08-05T16:44:44.908Z"
   },
   {
    "duration": 16,
    "start_time": "2024-08-05T16:44:44.912Z"
   },
   {
    "duration": 5,
    "start_time": "2024-08-05T16:44:44.929Z"
   },
   {
    "duration": 97,
    "start_time": "2024-08-05T16:44:44.935Z"
   },
   {
    "duration": 35,
    "start_time": "2024-08-05T16:44:45.033Z"
   },
   {
    "duration": 31,
    "start_time": "2024-08-05T16:44:45.069Z"
   },
   {
    "duration": 51,
    "start_time": "2024-08-05T16:44:45.102Z"
   },
   {
    "duration": 278,
    "start_time": "2024-08-05T16:44:45.155Z"
   },
   {
    "duration": 4,
    "start_time": "2024-08-05T16:44:45.436Z"
   },
   {
    "duration": 29,
    "start_time": "2024-08-05T16:44:45.441Z"
   },
   {
    "duration": 117,
    "start_time": "2024-08-05T16:44:45.471Z"
   },
   {
    "duration": 14,
    "start_time": "2024-08-05T16:44:45.589Z"
   },
   {
    "duration": 160,
    "start_time": "2024-08-05T16:44:45.604Z"
   },
   {
    "duration": 7,
    "start_time": "2024-08-05T16:44:45.766Z"
   },
   {
    "duration": 164,
    "start_time": "2024-08-05T16:44:45.775Z"
   },
   {
    "duration": 6,
    "start_time": "2024-08-05T16:44:45.940Z"
   },
   {
    "duration": 181,
    "start_time": "2024-08-05T16:44:45.947Z"
   },
   {
    "duration": 7,
    "start_time": "2024-08-05T16:44:46.129Z"
   },
   {
    "duration": 126,
    "start_time": "2024-08-05T16:44:46.137Z"
   },
   {
    "duration": 7,
    "start_time": "2024-08-05T16:44:46.264Z"
   },
   {
    "duration": 206,
    "start_time": "2024-08-05T16:44:46.272Z"
   },
   {
    "duration": 7,
    "start_time": "2024-08-05T16:44:46.479Z"
   },
   {
    "duration": 106,
    "start_time": "2024-08-05T16:44:46.488Z"
   },
   {
    "duration": 11,
    "start_time": "2024-08-05T16:44:46.595Z"
   },
   {
    "duration": 116,
    "start_time": "2024-08-05T16:44:46.607Z"
   },
   {
    "duration": 6,
    "start_time": "2024-08-05T16:44:46.724Z"
   },
   {
    "duration": 51,
    "start_time": "2024-08-05T16:44:46.731Z"
   },
   {
    "duration": 102,
    "start_time": "2024-08-05T16:44:46.783Z"
   },
   {
    "duration": 7,
    "start_time": "2024-08-05T16:44:46.886Z"
   },
   {
    "duration": 120,
    "start_time": "2024-08-05T16:44:46.895Z"
   },
   {
    "duration": 14,
    "start_time": "2024-08-05T16:44:47.016Z"
   },
   {
    "duration": 17,
    "start_time": "2024-08-05T16:44:47.032Z"
   },
   {
    "duration": 299,
    "start_time": "2024-08-05T16:44:47.051Z"
   },
   {
    "duration": 21,
    "start_time": "2024-08-05T16:44:47.351Z"
   },
   {
    "duration": 45,
    "start_time": "2024-08-05T16:44:47.374Z"
   },
   {
    "duration": 11,
    "start_time": "2024-08-05T16:44:47.420Z"
   },
   {
    "duration": 181,
    "start_time": "2024-08-05T16:44:47.433Z"
   },
   {
    "duration": 175,
    "start_time": "2024-08-05T16:44:47.615Z"
   },
   {
    "duration": 162,
    "start_time": "2024-08-05T16:44:47.791Z"
   },
   {
    "duration": 206,
    "start_time": "2024-08-05T16:44:47.954Z"
   },
   {
    "duration": 129,
    "start_time": "2024-08-05T16:44:48.161Z"
   },
   {
    "duration": 9,
    "start_time": "2024-08-05T16:44:48.292Z"
   },
   {
    "duration": 145,
    "start_time": "2024-08-05T16:44:48.303Z"
   },
   {
    "duration": 135,
    "start_time": "2024-08-05T16:48:12.623Z"
   },
   {
    "duration": 114,
    "start_time": "2024-08-05T16:48:51.443Z"
   },
   {
    "duration": 218,
    "start_time": "2024-08-05T16:50:27.695Z"
   },
   {
    "duration": 114,
    "start_time": "2024-08-05T16:51:17.846Z"
   },
   {
    "duration": 134,
    "start_time": "2024-08-05T16:51:34.869Z"
   },
   {
    "duration": 158,
    "start_time": "2024-08-05T16:52:12.426Z"
   },
   {
    "duration": 15,
    "start_time": "2024-08-05T16:53:02.737Z"
   },
   {
    "duration": 194,
    "start_time": "2024-08-05T16:54:39.603Z"
   },
   {
    "duration": 146,
    "start_time": "2024-08-05T16:56:55.881Z"
   },
   {
    "duration": 105,
    "start_time": "2024-08-05T16:57:13.027Z"
   },
   {
    "duration": 7,
    "start_time": "2024-08-05T16:57:34.658Z"
   },
   {
    "duration": 108,
    "start_time": "2024-08-05T16:58:16.507Z"
   },
   {
    "duration": 145,
    "start_time": "2024-08-05T16:58:48.318Z"
   },
   {
    "duration": 63,
    "start_time": "2024-08-05T17:00:34.409Z"
   },
   {
    "duration": 112,
    "start_time": "2024-08-05T17:00:43.380Z"
   },
   {
    "duration": 110,
    "start_time": "2024-08-05T17:01:26.099Z"
   },
   {
    "duration": 202,
    "start_time": "2024-08-05T17:01:55.330Z"
   },
   {
    "duration": 13,
    "start_time": "2024-08-05T17:03:24.891Z"
   },
   {
    "duration": 115,
    "start_time": "2024-08-05T17:03:33.262Z"
   },
   {
    "duration": 142,
    "start_time": "2024-08-05T17:05:13.262Z"
   },
   {
    "duration": 125,
    "start_time": "2024-08-05T17:08:10.010Z"
   },
   {
    "duration": 128,
    "start_time": "2024-08-05T17:09:39.200Z"
   },
   {
    "duration": 9,
    "start_time": "2024-08-05T17:21:17.051Z"
   },
   {
    "duration": 4,
    "start_time": "2024-08-05T17:21:20.597Z"
   },
   {
    "duration": 141,
    "start_time": "2024-08-05T17:21:55.736Z"
   },
   {
    "duration": 138,
    "start_time": "2024-08-05T17:25:27.993Z"
   },
   {
    "duration": 140,
    "start_time": "2024-08-05T17:25:36.608Z"
   },
   {
    "duration": 137,
    "start_time": "2024-08-05T17:27:04.190Z"
   },
   {
    "duration": 128,
    "start_time": "2024-08-05T17:29:38.961Z"
   },
   {
    "duration": 138,
    "start_time": "2024-08-05T17:29:49.058Z"
   },
   {
    "duration": 152,
    "start_time": "2024-08-05T17:30:21.101Z"
   },
   {
    "duration": 129,
    "start_time": "2024-08-05T17:30:27.246Z"
   },
   {
    "duration": 130,
    "start_time": "2024-08-05T17:36:09.801Z"
   },
   {
    "duration": 49,
    "start_time": "2024-08-05T17:41:16.292Z"
   },
   {
    "duration": 1105,
    "start_time": "2024-08-05T17:43:14.982Z"
   },
   {
    "duration": 6,
    "start_time": "2024-08-05T17:43:33.690Z"
   },
   {
    "duration": 6,
    "start_time": "2024-08-05T17:46:37.105Z"
   },
   {
    "duration": 6,
    "start_time": "2024-08-05T17:47:13.394Z"
   },
   {
    "duration": 126,
    "start_time": "2024-08-05T17:57:27.536Z"
   },
   {
    "duration": 128,
    "start_time": "2024-08-05T17:58:43.134Z"
   },
   {
    "duration": 1740,
    "start_time": "2024-08-06T10:41:20.004Z"
   },
   {
    "duration": 35,
    "start_time": "2024-08-06T10:41:21.746Z"
   },
   {
    "duration": 16,
    "start_time": "2024-08-06T10:41:21.783Z"
   },
   {
    "duration": 74,
    "start_time": "2024-08-06T10:41:21.801Z"
   },
   {
    "duration": 2071,
    "start_time": "2024-08-06T10:41:21.877Z"
   },
   {
    "duration": 10,
    "start_time": "2024-08-06T10:41:23.949Z"
   },
   {
    "duration": 21,
    "start_time": "2024-08-06T10:41:23.960Z"
   },
   {
    "duration": 13,
    "start_time": "2024-08-06T10:41:23.983Z"
   },
   {
    "duration": 7,
    "start_time": "2024-08-06T10:41:23.997Z"
   },
   {
    "duration": 11,
    "start_time": "2024-08-06T10:41:24.007Z"
   },
   {
    "duration": 7,
    "start_time": "2024-08-06T10:41:24.020Z"
   },
   {
    "duration": 5,
    "start_time": "2024-08-06T10:41:24.029Z"
   },
   {
    "duration": 21,
    "start_time": "2024-08-06T10:41:24.035Z"
   },
   {
    "duration": 5,
    "start_time": "2024-08-06T10:41:24.057Z"
   },
   {
    "duration": 84,
    "start_time": "2024-08-06T10:41:24.064Z"
   },
   {
    "duration": 6,
    "start_time": "2024-08-06T10:41:24.150Z"
   },
   {
    "duration": 9,
    "start_time": "2024-08-06T10:41:24.157Z"
   },
   {
    "duration": 12,
    "start_time": "2024-08-06T10:41:24.168Z"
   },
   {
    "duration": 38,
    "start_time": "2024-08-06T10:41:24.182Z"
   },
   {
    "duration": 4,
    "start_time": "2024-08-06T10:41:24.221Z"
   },
   {
    "duration": 5,
    "start_time": "2024-08-06T10:41:24.226Z"
   },
   {
    "duration": 4,
    "start_time": "2024-08-06T10:41:24.233Z"
   },
   {
    "duration": 4,
    "start_time": "2024-08-06T10:41:24.239Z"
   },
   {
    "duration": 6,
    "start_time": "2024-08-06T10:41:24.244Z"
   },
   {
    "duration": 7,
    "start_time": "2024-08-06T10:41:24.251Z"
   },
   {
    "duration": 5,
    "start_time": "2024-08-06T10:41:24.260Z"
   },
   {
    "duration": 331,
    "start_time": "2024-08-06T10:41:24.266Z"
   },
   {
    "duration": 8,
    "start_time": "2024-08-06T10:41:24.601Z"
   },
   {
    "duration": 9,
    "start_time": "2024-08-06T10:41:24.610Z"
   },
   {
    "duration": 175,
    "start_time": "2024-08-06T10:41:24.620Z"
   },
   {
    "duration": 14,
    "start_time": "2024-08-06T10:41:24.797Z"
   },
   {
    "duration": 209,
    "start_time": "2024-08-06T10:41:24.813Z"
   },
   {
    "duration": 10,
    "start_time": "2024-08-06T10:41:25.024Z"
   },
   {
    "duration": 217,
    "start_time": "2024-08-06T10:41:25.036Z"
   },
   {
    "duration": 8,
    "start_time": "2024-08-06T10:41:25.255Z"
   },
   {
    "duration": 264,
    "start_time": "2024-08-06T10:41:25.265Z"
   },
   {
    "duration": 8,
    "start_time": "2024-08-06T10:41:25.531Z"
   },
   {
    "duration": 169,
    "start_time": "2024-08-06T10:41:25.540Z"
   },
   {
    "duration": 9,
    "start_time": "2024-08-06T10:41:25.711Z"
   },
   {
    "duration": 302,
    "start_time": "2024-08-06T10:41:25.721Z"
   },
   {
    "duration": 10,
    "start_time": "2024-08-06T10:41:26.024Z"
   },
   {
    "duration": 155,
    "start_time": "2024-08-06T10:41:26.036Z"
   },
   {
    "duration": 18,
    "start_time": "2024-08-06T10:41:26.193Z"
   },
   {
    "duration": 174,
    "start_time": "2024-08-06T10:41:26.212Z"
   },
   {
    "duration": 7,
    "start_time": "2024-08-06T10:41:26.388Z"
   },
   {
    "duration": 28,
    "start_time": "2024-08-06T10:41:26.407Z"
   },
   {
    "duration": 152,
    "start_time": "2024-08-06T10:41:26.437Z"
   },
   {
    "duration": 10,
    "start_time": "2024-08-06T10:41:26.591Z"
   },
   {
    "duration": 158,
    "start_time": "2024-08-06T10:41:26.607Z"
   },
   {
    "duration": 19,
    "start_time": "2024-08-06T10:41:26.767Z"
   },
   {
    "duration": 23,
    "start_time": "2024-08-06T10:41:26.787Z"
   },
   {
    "duration": 448,
    "start_time": "2024-08-06T10:41:26.812Z"
   },
   {
    "duration": 49,
    "start_time": "2024-08-06T10:41:27.262Z"
   },
   {
    "duration": 39,
    "start_time": "2024-08-06T10:41:27.313Z"
   },
   {
    "duration": 22,
    "start_time": "2024-08-06T10:41:27.354Z"
   },
   {
    "duration": 230,
    "start_time": "2024-08-06T10:41:27.378Z"
   },
   {
    "duration": 228,
    "start_time": "2024-08-06T10:41:27.609Z"
   },
   {
    "duration": 225,
    "start_time": "2024-08-06T10:41:27.838Z"
   },
   {
    "duration": 325,
    "start_time": "2024-08-06T10:41:28.064Z"
   },
   {
    "duration": 160,
    "start_time": "2024-08-06T10:41:28.390Z"
   },
   {
    "duration": 174,
    "start_time": "2024-08-06T10:41:28.552Z"
   },
   {
    "duration": 183,
    "start_time": "2024-08-06T10:41:28.728Z"
   },
   {
    "duration": 187,
    "start_time": "2024-08-06T10:41:28.913Z"
   },
   {
    "duration": 176,
    "start_time": "2024-08-06T10:41:29.102Z"
   },
   {
    "duration": 190,
    "start_time": "2024-08-06T10:41:29.280Z"
   },
   {
    "duration": 5,
    "start_time": "2024-08-06T10:47:47.931Z"
   },
   {
    "duration": 26,
    "start_time": "2024-08-06T10:50:03.093Z"
   },
   {
    "duration": 20,
    "start_time": "2024-08-06T10:52:11.339Z"
   },
   {
    "duration": 25,
    "start_time": "2024-08-06T10:52:40.083Z"
   },
   {
    "duration": 28,
    "start_time": "2024-08-06T10:52:56.764Z"
   },
   {
    "duration": 23,
    "start_time": "2024-08-06T10:54:37.025Z"
   },
   {
    "duration": 161,
    "start_time": "2024-08-06T10:56:19.241Z"
   },
   {
    "duration": 22,
    "start_time": "2024-08-06T10:56:43.462Z"
   },
   {
    "duration": 24,
    "start_time": "2024-08-06T10:57:55.861Z"
   },
   {
    "duration": 25,
    "start_time": "2024-08-06T10:58:03.180Z"
   },
   {
    "duration": 399,
    "start_time": "2024-08-06T11:26:58.691Z"
   },
   {
    "duration": 108,
    "start_time": "2024-08-06T11:27:22.327Z"
   },
   {
    "duration": 4,
    "start_time": "2024-08-06T11:33:35.608Z"
   },
   {
    "duration": 772,
    "start_time": "2024-08-06T11:34:07.570Z"
   },
   {
    "duration": 40,
    "start_time": "2024-08-06T11:34:08.344Z"
   },
   {
    "duration": 28,
    "start_time": "2024-08-06T11:34:08.385Z"
   },
   {
    "duration": 74,
    "start_time": "2024-08-06T11:34:08.415Z"
   },
   {
    "duration": 2049,
    "start_time": "2024-08-06T11:34:08.491Z"
   },
   {
    "duration": 9,
    "start_time": "2024-08-06T11:34:10.542Z"
   },
   {
    "duration": 25,
    "start_time": "2024-08-06T11:34:10.553Z"
   },
   {
    "duration": 5,
    "start_time": "2024-08-06T11:34:10.580Z"
   },
   {
    "duration": 5,
    "start_time": "2024-08-06T11:34:10.587Z"
   },
   {
    "duration": 13,
    "start_time": "2024-08-06T11:34:10.594Z"
   },
   {
    "duration": 9,
    "start_time": "2024-08-06T11:34:10.608Z"
   },
   {
    "duration": 6,
    "start_time": "2024-08-06T11:34:10.618Z"
   },
   {
    "duration": 22,
    "start_time": "2024-08-06T11:34:10.626Z"
   },
   {
    "duration": 5,
    "start_time": "2024-08-06T11:34:10.650Z"
   },
   {
    "duration": 81,
    "start_time": "2024-08-06T11:34:10.657Z"
   },
   {
    "duration": 6,
    "start_time": "2024-08-06T11:34:10.740Z"
   },
   {
    "duration": 14,
    "start_time": "2024-08-06T11:34:10.747Z"
   },
   {
    "duration": 9,
    "start_time": "2024-08-06T11:34:10.763Z"
   },
   {
    "duration": 36,
    "start_time": "2024-08-06T11:34:10.774Z"
   },
   {
    "duration": 3,
    "start_time": "2024-08-06T11:34:10.812Z"
   },
   {
    "duration": 6,
    "start_time": "2024-08-06T11:34:10.817Z"
   },
   {
    "duration": 7,
    "start_time": "2024-08-06T11:34:10.824Z"
   },
   {
    "duration": 5,
    "start_time": "2024-08-06T11:34:10.832Z"
   },
   {
    "duration": 9,
    "start_time": "2024-08-06T11:34:10.838Z"
   },
   {
    "duration": 5,
    "start_time": "2024-08-06T11:34:10.848Z"
   },
   {
    "duration": 5,
    "start_time": "2024-08-06T11:34:10.855Z"
   },
   {
    "duration": 337,
    "start_time": "2024-08-06T11:34:10.862Z"
   },
   {
    "duration": 4,
    "start_time": "2024-08-06T11:34:11.203Z"
   },
   {
    "duration": 23,
    "start_time": "2024-08-06T11:34:11.209Z"
   },
   {
    "duration": 166,
    "start_time": "2024-08-06T11:34:11.234Z"
   },
   {
    "duration": 12,
    "start_time": "2024-08-06T11:34:11.402Z"
   },
   {
    "duration": 199,
    "start_time": "2024-08-06T11:34:11.416Z"
   },
   {
    "duration": 11,
    "start_time": "2024-08-06T11:34:11.617Z"
   },
   {
    "duration": 189,
    "start_time": "2024-08-06T11:34:11.629Z"
   },
   {
    "duration": 9,
    "start_time": "2024-08-06T11:34:11.820Z"
   },
   {
    "duration": 338,
    "start_time": "2024-08-06T11:34:11.831Z"
   },
   {
    "duration": 8,
    "start_time": "2024-08-06T11:34:12.172Z"
   },
   {
    "duration": 162,
    "start_time": "2024-08-06T11:34:12.182Z"
   },
   {
    "duration": 8,
    "start_time": "2024-08-06T11:34:12.346Z"
   },
   {
    "duration": 167,
    "start_time": "2024-08-06T11:34:12.356Z"
   },
   {
    "duration": 10,
    "start_time": "2024-08-06T11:34:12.524Z"
   },
   {
    "duration": 141,
    "start_time": "2024-08-06T11:34:12.536Z"
   },
   {
    "duration": 9,
    "start_time": "2024-08-06T11:34:12.679Z"
   },
   {
    "duration": 160,
    "start_time": "2024-08-06T11:34:12.689Z"
   },
   {
    "duration": 6,
    "start_time": "2024-08-06T11:34:12.851Z"
   },
   {
    "duration": 11,
    "start_time": "2024-08-06T11:34:12.859Z"
   },
   {
    "duration": 168,
    "start_time": "2024-08-06T11:34:12.872Z"
   },
   {
    "duration": 9,
    "start_time": "2024-08-06T11:34:13.041Z"
   },
   {
    "duration": 159,
    "start_time": "2024-08-06T11:34:13.052Z"
   },
   {
    "duration": 17,
    "start_time": "2024-08-06T11:34:13.213Z"
   },
   {
    "duration": 9,
    "start_time": "2024-08-06T11:34:13.231Z"
   },
   {
    "duration": 406,
    "start_time": "2024-08-06T11:34:13.242Z"
   },
   {
    "duration": 28,
    "start_time": "2024-08-06T11:34:13.650Z"
   },
   {
    "duration": 41,
    "start_time": "2024-08-06T11:34:13.680Z"
   },
   {
    "duration": 89,
    "start_time": "2024-08-06T11:34:13.723Z"
   },
   {
    "duration": 198,
    "start_time": "2024-08-06T11:34:13.813Z"
   },
   {
    "duration": 216,
    "start_time": "2024-08-06T11:34:14.013Z"
   },
   {
    "duration": 209,
    "start_time": "2024-08-06T11:34:14.231Z"
   },
   {
    "duration": 182,
    "start_time": "2024-08-06T11:34:14.442Z"
   },
   {
    "duration": 155,
    "start_time": "2024-08-06T11:34:14.626Z"
   },
   {
    "duration": 156,
    "start_time": "2024-08-06T11:34:14.783Z"
   },
   {
    "duration": 180,
    "start_time": "2024-08-06T11:34:14.941Z"
   },
   {
    "duration": 188,
    "start_time": "2024-08-06T11:34:15.123Z"
   },
   {
    "duration": 176,
    "start_time": "2024-08-06T11:34:15.313Z"
   },
   {
    "duration": 162,
    "start_time": "2024-08-06T11:34:15.491Z"
   },
   {
    "duration": 23,
    "start_time": "2024-08-06T11:34:15.655Z"
   },
   {
    "duration": 6,
    "start_time": "2024-08-06T11:34:15.679Z"
   },
   {
    "duration": 105,
    "start_time": "2024-08-06T11:36:14.230Z"
   },
   {
    "duration": 46,
    "start_time": "2024-08-06T11:36:59.182Z"
   },
   {
    "duration": 11,
    "start_time": "2024-08-06T11:37:15.928Z"
   },
   {
    "duration": 16,
    "start_time": "2024-08-06T11:38:07.600Z"
   },
   {
    "duration": 9,
    "start_time": "2024-08-06T11:40:54.870Z"
   },
   {
    "duration": 191,
    "start_time": "2024-08-06T11:43:12.982Z"
   },
   {
    "duration": 16,
    "start_time": "2024-08-06T11:55:40.831Z"
   },
   {
    "duration": 22,
    "start_time": "2024-08-06T11:57:10.654Z"
   },
   {
    "duration": 15,
    "start_time": "2024-08-06T12:02:20.529Z"
   },
   {
    "duration": 21,
    "start_time": "2024-08-06T12:02:29.709Z"
   },
   {
    "duration": 136,
    "start_time": "2024-08-06T12:04:43.380Z"
   },
   {
    "duration": 273,
    "start_time": "2024-08-06T12:05:36.375Z"
   },
   {
    "duration": 407,
    "start_time": "2024-08-06T12:07:10.022Z"
   },
   {
    "duration": 284,
    "start_time": "2024-08-06T12:07:31.480Z"
   },
   {
    "duration": 274,
    "start_time": "2024-08-06T12:07:43.772Z"
   },
   {
    "duration": 337,
    "start_time": "2024-08-06T12:08:32.872Z"
   },
   {
    "duration": 313,
    "start_time": "2024-08-06T12:10:12.322Z"
   },
   {
    "duration": 174,
    "start_time": "2024-08-06T12:32:51.552Z"
   },
   {
    "duration": 161,
    "start_time": "2024-08-06T12:33:30.071Z"
   },
   {
    "duration": 14,
    "start_time": "2024-08-06T13:05:47.996Z"
   },
   {
    "duration": 724,
    "start_time": "2024-08-06T13:31:38.137Z"
   },
   {
    "duration": 32,
    "start_time": "2024-08-06T13:31:38.863Z"
   },
   {
    "duration": 27,
    "start_time": "2024-08-06T13:31:38.897Z"
   },
   {
    "duration": 82,
    "start_time": "2024-08-06T13:31:38.926Z"
   },
   {
    "duration": 1998,
    "start_time": "2024-08-06T13:31:39.017Z"
   },
   {
    "duration": 10,
    "start_time": "2024-08-06T13:31:41.017Z"
   },
   {
    "duration": 23,
    "start_time": "2024-08-06T13:31:41.028Z"
   },
   {
    "duration": 27,
    "start_time": "2024-08-06T13:31:41.052Z"
   },
   {
    "duration": 19,
    "start_time": "2024-08-06T13:31:41.081Z"
   },
   {
    "duration": 15,
    "start_time": "2024-08-06T13:31:41.103Z"
   },
   {
    "duration": 20,
    "start_time": "2024-08-06T13:31:41.119Z"
   },
   {
    "duration": 16,
    "start_time": "2024-08-06T13:31:41.141Z"
   },
   {
    "duration": 39,
    "start_time": "2024-08-06T13:31:41.158Z"
   },
   {
    "duration": 18,
    "start_time": "2024-08-06T13:31:41.198Z"
   },
   {
    "duration": 63,
    "start_time": "2024-08-06T13:31:41.218Z"
   },
   {
    "duration": 5,
    "start_time": "2024-08-06T13:31:41.283Z"
   },
   {
    "duration": 48,
    "start_time": "2024-08-06T13:31:41.289Z"
   },
   {
    "duration": 21,
    "start_time": "2024-08-06T13:31:41.339Z"
   },
   {
    "duration": 38,
    "start_time": "2024-08-06T13:31:41.362Z"
   },
   {
    "duration": 3,
    "start_time": "2024-08-06T13:31:41.401Z"
   },
   {
    "duration": 13,
    "start_time": "2024-08-06T13:31:41.406Z"
   },
   {
    "duration": 23,
    "start_time": "2024-08-06T13:31:41.420Z"
   },
   {
    "duration": 11,
    "start_time": "2024-08-06T13:31:41.444Z"
   },
   {
    "duration": 21,
    "start_time": "2024-08-06T13:31:41.456Z"
   },
   {
    "duration": 6,
    "start_time": "2024-08-06T13:31:41.478Z"
   },
   {
    "duration": 28,
    "start_time": "2024-08-06T13:31:41.486Z"
   },
   {
    "duration": 354,
    "start_time": "2024-08-06T13:31:41.515Z"
   },
   {
    "duration": 5,
    "start_time": "2024-08-06T13:31:41.874Z"
   },
   {
    "duration": 67,
    "start_time": "2024-08-06T13:31:41.881Z"
   },
   {
    "duration": 215,
    "start_time": "2024-08-06T13:31:41.950Z"
   },
   {
    "duration": 9,
    "start_time": "2024-08-06T13:31:42.167Z"
   },
   {
    "duration": 223,
    "start_time": "2024-08-06T13:31:42.177Z"
   },
   {
    "duration": 21,
    "start_time": "2024-08-06T13:31:42.402Z"
   },
   {
    "duration": 181,
    "start_time": "2024-08-06T13:31:42.424Z"
   },
   {
    "duration": 11,
    "start_time": "2024-08-06T13:31:42.607Z"
   },
   {
    "duration": 327,
    "start_time": "2024-08-06T13:31:42.619Z"
   },
   {
    "duration": 8,
    "start_time": "2024-08-06T13:31:42.948Z"
   },
   {
    "duration": 181,
    "start_time": "2024-08-06T13:31:42.958Z"
   },
   {
    "duration": 8,
    "start_time": "2024-08-06T13:31:43.141Z"
   },
   {
    "duration": 168,
    "start_time": "2024-08-06T13:31:43.151Z"
   },
   {
    "duration": 10,
    "start_time": "2024-08-06T13:31:43.320Z"
   },
   {
    "duration": 139,
    "start_time": "2024-08-06T13:31:43.332Z"
   },
   {
    "duration": 9,
    "start_time": "2024-08-06T13:31:43.472Z"
   },
   {
    "duration": 165,
    "start_time": "2024-08-06T13:31:43.483Z"
   },
   {
    "duration": 6,
    "start_time": "2024-08-06T13:31:43.650Z"
   },
   {
    "duration": 12,
    "start_time": "2024-08-06T13:31:43.658Z"
   },
   {
    "duration": 183,
    "start_time": "2024-08-06T13:31:43.672Z"
   },
   {
    "duration": 10,
    "start_time": "2024-08-06T13:31:43.856Z"
   },
   {
    "duration": 153,
    "start_time": "2024-08-06T13:31:43.867Z"
   },
   {
    "duration": 18,
    "start_time": "2024-08-06T13:31:44.021Z"
   },
   {
    "duration": 10,
    "start_time": "2024-08-06T13:31:44.041Z"
   },
   {
    "duration": 405,
    "start_time": "2024-08-06T13:31:44.053Z"
   },
   {
    "duration": 27,
    "start_time": "2024-08-06T13:31:44.460Z"
   },
   {
    "duration": 47,
    "start_time": "2024-08-06T13:31:44.489Z"
   },
   {
    "duration": 84,
    "start_time": "2024-08-06T13:31:44.538Z"
   },
   {
    "duration": 202,
    "start_time": "2024-08-06T13:31:44.624Z"
   },
   {
    "duration": 219,
    "start_time": "2024-08-06T13:31:44.828Z"
   },
   {
    "duration": 207,
    "start_time": "2024-08-06T13:31:45.049Z"
   },
   {
    "duration": 198,
    "start_time": "2024-08-06T13:31:45.258Z"
   },
   {
    "duration": 155,
    "start_time": "2024-08-06T13:31:45.458Z"
   },
   {
    "duration": 182,
    "start_time": "2024-08-06T13:31:45.617Z"
   },
   {
    "duration": 172,
    "start_time": "2024-08-06T13:31:45.801Z"
   },
   {
    "duration": 180,
    "start_time": "2024-08-06T13:31:45.975Z"
   },
   {
    "duration": 173,
    "start_time": "2024-08-06T13:31:46.157Z"
   },
   {
    "duration": 169,
    "start_time": "2024-08-06T13:31:46.331Z"
   },
   {
    "duration": 165,
    "start_time": "2024-08-06T13:31:46.502Z"
   },
   {
    "duration": 29,
    "start_time": "2024-08-06T13:31:46.669Z"
   },
   {
    "duration": 36,
    "start_time": "2024-08-06T13:31:46.699Z"
   },
   {
    "duration": 329,
    "start_time": "2024-08-06T13:31:46.736Z"
   },
   {
    "duration": 184,
    "start_time": "2024-08-06T13:45:09.906Z"
   },
   {
    "duration": 89,
    "start_time": "2024-08-06T13:45:28.744Z"
   },
   {
    "duration": 258,
    "start_time": "2024-08-06T13:46:01.526Z"
   },
   {
    "duration": 8,
    "start_time": "2024-08-06T13:46:15.164Z"
   },
   {
    "duration": 991,
    "start_time": "2024-08-06T14:48:03.556Z"
   },
   {
    "duration": 33,
    "start_time": "2024-08-06T14:48:04.550Z"
   },
   {
    "duration": 18,
    "start_time": "2024-08-06T14:48:04.585Z"
   },
   {
    "duration": 129,
    "start_time": "2024-08-06T14:48:04.605Z"
   },
   {
    "duration": 2225,
    "start_time": "2024-08-06T14:48:04.736Z"
   },
   {
    "duration": 11,
    "start_time": "2024-08-06T14:48:06.963Z"
   },
   {
    "duration": 35,
    "start_time": "2024-08-06T14:48:06.976Z"
   },
   {
    "duration": 59,
    "start_time": "2024-08-06T14:48:07.013Z"
   },
   {
    "duration": 54,
    "start_time": "2024-08-06T14:48:07.073Z"
   },
   {
    "duration": 38,
    "start_time": "2024-08-06T14:48:07.129Z"
   },
   {
    "duration": 38,
    "start_time": "2024-08-06T14:48:07.169Z"
   },
   {
    "duration": 35,
    "start_time": "2024-08-06T14:48:07.209Z"
   },
   {
    "duration": 54,
    "start_time": "2024-08-06T14:48:07.246Z"
   },
   {
    "duration": 26,
    "start_time": "2024-08-06T14:48:07.302Z"
   },
   {
    "duration": 76,
    "start_time": "2024-08-06T14:48:07.330Z"
   },
   {
    "duration": 5,
    "start_time": "2024-08-06T14:48:07.409Z"
   },
   {
    "duration": 53,
    "start_time": "2024-08-06T14:48:07.415Z"
   },
   {
    "duration": 26,
    "start_time": "2024-08-06T14:48:07.470Z"
   },
   {
    "duration": 49,
    "start_time": "2024-08-06T14:48:07.497Z"
   },
   {
    "duration": 4,
    "start_time": "2024-08-06T14:48:07.547Z"
   },
   {
    "duration": 34,
    "start_time": "2024-08-06T14:48:07.553Z"
   },
   {
    "duration": 377,
    "start_time": "2024-08-06T14:48:07.589Z"
   },
   {
    "duration": 6,
    "start_time": "2024-08-06T14:48:07.968Z"
   },
   {
    "duration": 60,
    "start_time": "2024-08-06T14:48:07.976Z"
   },
   {
    "duration": 53,
    "start_time": "2024-08-06T14:48:08.037Z"
   },
   {
    "duration": 29,
    "start_time": "2024-08-06T14:48:08.092Z"
   },
   {
    "duration": 47,
    "start_time": "2024-08-06T14:48:08.123Z"
   },
   {
    "duration": 334,
    "start_time": "2024-08-06T14:48:08.175Z"
   },
   {
    "duration": 5,
    "start_time": "2024-08-06T14:48:08.510Z"
   },
   {
    "duration": 199,
    "start_time": "2024-08-06T14:48:08.517Z"
   },
   {
    "duration": 301,
    "start_time": "2024-08-06T14:48:08.720Z"
   },
   {
    "duration": 9,
    "start_time": "2024-08-06T14:48:09.023Z"
   },
   {
    "duration": 211,
    "start_time": "2024-08-06T14:48:09.033Z"
   },
   {
    "duration": 11,
    "start_time": "2024-08-06T14:48:09.246Z"
   },
   {
    "duration": 275,
    "start_time": "2024-08-06T14:48:09.259Z"
   },
   {
    "duration": 14,
    "start_time": "2024-08-06T14:48:09.536Z"
   },
   {
    "duration": 241,
    "start_time": "2024-08-06T14:48:09.552Z"
   },
   {
    "duration": 9,
    "start_time": "2024-08-06T14:48:09.795Z"
   },
   {
    "duration": 303,
    "start_time": "2024-08-06T14:48:09.805Z"
   },
   {
    "duration": 9,
    "start_time": "2024-08-06T14:48:10.110Z"
   },
   {
    "duration": 268,
    "start_time": "2024-08-06T14:48:10.121Z"
   },
   {
    "duration": 10,
    "start_time": "2024-08-06T14:48:10.391Z"
   },
   {
    "duration": 175,
    "start_time": "2024-08-06T14:48:10.403Z"
   },
   {
    "duration": 13,
    "start_time": "2024-08-06T14:48:10.580Z"
   },
   {
    "duration": 247,
    "start_time": "2024-08-06T14:48:10.595Z"
   },
   {
    "duration": 7,
    "start_time": "2024-08-06T14:48:10.843Z"
   },
   {
    "duration": 19,
    "start_time": "2024-08-06T14:48:10.851Z"
   },
   {
    "duration": 162,
    "start_time": "2024-08-06T14:48:10.872Z"
   },
   {
    "duration": 15,
    "start_time": "2024-08-06T14:48:11.035Z"
   },
   {
    "duration": 157,
    "start_time": "2024-08-06T14:48:11.052Z"
   },
   {
    "duration": 17,
    "start_time": "2024-08-06T14:48:11.211Z"
   },
   {
    "duration": 20,
    "start_time": "2024-08-06T14:48:11.229Z"
   },
   {
    "duration": 452,
    "start_time": "2024-08-06T14:48:11.251Z"
   },
   {
    "duration": 28,
    "start_time": "2024-08-06T14:48:11.705Z"
   },
   {
    "duration": 142,
    "start_time": "2024-08-06T14:48:11.734Z"
   },
   {
    "duration": 14,
    "start_time": "2024-08-06T14:48:11.877Z"
   },
   {
    "duration": 205,
    "start_time": "2024-08-06T14:48:11.892Z"
   },
   {
    "duration": 203,
    "start_time": "2024-08-06T14:48:12.098Z"
   },
   {
    "duration": 199,
    "start_time": "2024-08-06T14:48:12.303Z"
   },
   {
    "duration": 201,
    "start_time": "2024-08-06T14:48:12.504Z"
   },
   {
    "duration": 150,
    "start_time": "2024-08-06T14:48:12.707Z"
   },
   {
    "duration": 169,
    "start_time": "2024-08-06T14:48:12.859Z"
   },
   {
    "duration": 153,
    "start_time": "2024-08-06T14:48:13.030Z"
   },
   {
    "duration": 176,
    "start_time": "2024-08-06T14:48:13.185Z"
   },
   {
    "duration": 165,
    "start_time": "2024-08-06T14:48:13.362Z"
   },
   {
    "duration": 179,
    "start_time": "2024-08-06T14:48:13.529Z"
   },
   {
    "duration": 161,
    "start_time": "2024-08-06T14:48:13.710Z"
   },
   {
    "duration": 23,
    "start_time": "2024-08-06T14:48:13.872Z"
   },
   {
    "duration": 23,
    "start_time": "2024-08-06T14:48:13.897Z"
   },
   {
    "duration": 452,
    "start_time": "2024-08-06T14:48:13.922Z"
   },
   {
    "duration": 3,
    "start_time": "2024-08-06T14:48:27.341Z"
   },
   {
    "duration": 3,
    "start_time": "2024-08-06T14:50:12.688Z"
   },
   {
    "duration": 32,
    "start_time": "2024-08-06T14:50:34.068Z"
   },
   {
    "duration": 3,
    "start_time": "2024-08-06T14:50:39.490Z"
   },
   {
    "duration": 32,
    "start_time": "2024-08-06T14:51:46.908Z"
   },
   {
    "duration": 629,
    "start_time": "2024-08-06T14:52:27.580Z"
   },
   {
    "duration": 107,
    "start_time": "2024-08-06T14:52:28.211Z"
   },
   {
    "duration": 38,
    "start_time": "2024-08-06T14:52:28.320Z"
   },
   {
    "duration": 36,
    "start_time": "2024-08-06T14:52:28.359Z"
   },
   {
    "duration": 82,
    "start_time": "2024-08-06T14:52:28.397Z"
   },
   {
    "duration": 2141,
    "start_time": "2024-08-06T14:52:28.481Z"
   },
   {
    "duration": 11,
    "start_time": "2024-08-06T14:52:30.624Z"
   },
   {
    "duration": 176,
    "start_time": "2024-08-06T14:52:30.636Z"
   },
   {
    "duration": 101,
    "start_time": "2024-08-06T14:52:30.814Z"
   },
   {
    "duration": 61,
    "start_time": "2024-08-06T14:52:30.917Z"
   },
   {
    "duration": 63,
    "start_time": "2024-08-06T14:52:30.980Z"
   },
   {
    "duration": 59,
    "start_time": "2024-08-06T14:52:31.044Z"
   },
   {
    "duration": 41,
    "start_time": "2024-08-06T14:52:31.105Z"
   },
   {
    "duration": 81,
    "start_time": "2024-08-06T14:52:31.151Z"
   },
   {
    "duration": 96,
    "start_time": "2024-08-06T14:52:31.233Z"
   },
   {
    "duration": 154,
    "start_time": "2024-08-06T14:52:31.330Z"
   },
   {
    "duration": 18,
    "start_time": "2024-08-06T14:52:31.486Z"
   },
   {
    "duration": 107,
    "start_time": "2024-08-06T14:52:31.505Z"
   },
   {
    "duration": 634,
    "start_time": "2024-08-06T14:52:31.614Z"
   },
   {
    "duration": 49,
    "start_time": "2024-08-06T14:52:32.250Z"
   },
   {
    "duration": 57,
    "start_time": "2024-08-06T14:52:32.300Z"
   },
   {
    "duration": 129,
    "start_time": "2024-08-06T14:52:32.358Z"
   },
   {
    "duration": 292,
    "start_time": "2024-08-06T14:52:32.489Z"
   },
   {
    "duration": 7,
    "start_time": "2024-08-06T14:52:32.782Z"
   },
   {
    "duration": 565,
    "start_time": "2024-08-06T14:52:32.790Z"
   },
   {
    "duration": 40,
    "start_time": "2024-08-06T14:52:33.357Z"
   },
   {
    "duration": 99,
    "start_time": "2024-08-06T14:52:33.398Z"
   },
   {
    "duration": 34,
    "start_time": "2024-08-06T14:52:33.498Z"
   },
   {
    "duration": 295,
    "start_time": "2024-08-06T14:52:33.534Z"
   },
   {
    "duration": 4,
    "start_time": "2024-08-06T14:52:33.831Z"
   },
   {
    "duration": 16,
    "start_time": "2024-08-06T14:52:33.836Z"
   },
   {
    "duration": 169,
    "start_time": "2024-08-06T14:52:33.853Z"
   },
   {
    "duration": 25,
    "start_time": "2024-08-06T14:52:34.024Z"
   },
   {
    "duration": 217,
    "start_time": "2024-08-06T14:52:34.051Z"
   },
   {
    "duration": 10,
    "start_time": "2024-08-06T14:52:34.270Z"
   },
   {
    "duration": 278,
    "start_time": "2024-08-06T14:52:34.282Z"
   },
   {
    "duration": 10,
    "start_time": "2024-08-06T14:52:34.562Z"
   },
   {
    "duration": 253,
    "start_time": "2024-08-06T14:52:34.574Z"
   },
   {
    "duration": 19,
    "start_time": "2024-08-06T14:52:34.829Z"
   },
   {
    "duration": 150,
    "start_time": "2024-08-06T14:52:34.850Z"
   },
   {
    "duration": 9,
    "start_time": "2024-08-06T14:52:35.005Z"
   },
   {
    "duration": 159,
    "start_time": "2024-08-06T14:52:35.016Z"
   },
   {
    "duration": 10,
    "start_time": "2024-08-06T14:52:35.177Z"
   },
   {
    "duration": 138,
    "start_time": "2024-08-06T14:52:35.188Z"
   },
   {
    "duration": 22,
    "start_time": "2024-08-06T14:52:35.328Z"
   },
   {
    "duration": 162,
    "start_time": "2024-08-06T14:52:35.352Z"
   },
   {
    "duration": 6,
    "start_time": "2024-08-06T14:52:35.516Z"
   },
   {
    "duration": 23,
    "start_time": "2024-08-06T14:52:35.524Z"
   },
   {
    "duration": 146,
    "start_time": "2024-08-06T14:52:35.549Z"
   },
   {
    "duration": 9,
    "start_time": "2024-08-06T14:52:35.697Z"
   },
   {
    "duration": 165,
    "start_time": "2024-08-06T14:52:35.708Z"
   },
   {
    "duration": 22,
    "start_time": "2024-08-06T14:52:35.875Z"
   },
   {
    "duration": 16,
    "start_time": "2024-08-06T14:52:35.899Z"
   },
   {
    "duration": 473,
    "start_time": "2024-08-06T14:52:35.917Z"
   },
   {
    "duration": 27,
    "start_time": "2024-08-06T14:52:36.391Z"
   },
   {
    "duration": 38,
    "start_time": "2024-08-06T14:52:36.420Z"
   },
   {
    "duration": 13,
    "start_time": "2024-08-06T14:52:36.460Z"
   },
   {
    "duration": 214,
    "start_time": "2024-08-06T14:52:36.475Z"
   },
   {
    "duration": 211,
    "start_time": "2024-08-06T14:52:36.690Z"
   },
   {
    "duration": 190,
    "start_time": "2024-08-06T14:52:36.903Z"
   },
   {
    "duration": 188,
    "start_time": "2024-08-06T14:52:37.094Z"
   },
   {
    "duration": 169,
    "start_time": "2024-08-06T14:52:37.283Z"
   },
   {
    "duration": 189,
    "start_time": "2024-08-06T14:52:37.453Z"
   },
   {
    "duration": 182,
    "start_time": "2024-08-06T14:52:37.644Z"
   },
   {
    "duration": 174,
    "start_time": "2024-08-06T14:52:37.828Z"
   },
   {
    "duration": 167,
    "start_time": "2024-08-06T14:52:38.004Z"
   },
   {
    "duration": 164,
    "start_time": "2024-08-06T14:52:38.172Z"
   },
   {
    "duration": 155,
    "start_time": "2024-08-06T14:52:38.338Z"
   },
   {
    "duration": 23,
    "start_time": "2024-08-06T14:52:38.495Z"
   },
   {
    "duration": 41,
    "start_time": "2024-08-06T14:52:38.520Z"
   },
   {
    "duration": 421,
    "start_time": "2024-08-06T14:52:38.562Z"
   },
   {
    "duration": 95,
    "start_time": "2024-08-06T15:01:59.598Z"
   },
   {
    "duration": 115,
    "start_time": "2024-08-06T15:02:08.815Z"
   },
   {
    "duration": 67,
    "start_time": "2024-08-06T15:04:22.817Z"
   },
   {
    "duration": 61,
    "start_time": "2024-08-06T15:22:09.134Z"
   },
   {
    "duration": 140,
    "start_time": "2024-08-06T15:22:17.135Z"
   },
   {
    "duration": 570,
    "start_time": "2024-08-06T15:22:29.196Z"
   },
   {
    "duration": 65,
    "start_time": "2024-08-06T15:24:16.304Z"
   },
   {
    "duration": 9,
    "start_time": "2024-08-06T15:24:33.325Z"
   },
   {
    "duration": 9,
    "start_time": "2024-08-06T15:24:45.904Z"
   },
   {
    "duration": 10,
    "start_time": "2024-08-06T15:25:37.225Z"
   },
   {
    "duration": 9,
    "start_time": "2024-08-06T15:25:43.475Z"
   },
   {
    "duration": 9,
    "start_time": "2024-08-06T15:25:54.413Z"
   },
   {
    "duration": 7,
    "start_time": "2024-08-06T15:26:40.544Z"
   },
   {
    "duration": 725,
    "start_time": "2024-08-06T15:26:42.734Z"
   },
   {
    "duration": 6,
    "start_time": "2024-08-06T15:27:08.536Z"
   },
   {
    "duration": 637,
    "start_time": "2024-08-06T15:27:10.874Z"
   },
   {
    "duration": 650,
    "start_time": "2024-08-06T15:33:39.545Z"
   },
   {
    "duration": 105,
    "start_time": "2024-08-06T15:33:40.197Z"
   },
   {
    "duration": 30,
    "start_time": "2024-08-06T15:33:40.304Z"
   },
   {
    "duration": 40,
    "start_time": "2024-08-06T15:33:40.336Z"
   },
   {
    "duration": 91,
    "start_time": "2024-08-06T15:33:40.379Z"
   },
   {
    "duration": 1997,
    "start_time": "2024-08-06T15:33:40.472Z"
   },
   {
    "duration": 10,
    "start_time": "2024-08-06T15:33:42.470Z"
   },
   {
    "duration": 34,
    "start_time": "2024-08-06T15:33:42.482Z"
   },
   {
    "duration": 17,
    "start_time": "2024-08-06T15:33:42.518Z"
   },
   {
    "duration": 21,
    "start_time": "2024-08-06T15:33:42.537Z"
   },
   {
    "duration": 174,
    "start_time": "2024-08-06T15:33:42.560Z"
   },
   {
    "duration": 66,
    "start_time": "2024-08-06T15:33:42.735Z"
   },
   {
    "duration": 13,
    "start_time": "2024-08-06T15:33:42.802Z"
   },
   {
    "duration": 200,
    "start_time": "2024-08-06T15:33:42.818Z"
   },
   {
    "duration": 156,
    "start_time": "2024-08-06T15:33:43.020Z"
   },
   {
    "duration": 56,
    "start_time": "2024-08-06T15:33:43.177Z"
   },
   {
    "duration": 6,
    "start_time": "2024-08-06T15:33:43.235Z"
   },
   {
    "duration": 30,
    "start_time": "2024-08-06T15:33:43.242Z"
   },
   {
    "duration": 41,
    "start_time": "2024-08-06T15:33:43.274Z"
   },
   {
    "duration": 42,
    "start_time": "2024-08-06T15:33:43.317Z"
   },
   {
    "duration": 21,
    "start_time": "2024-08-06T15:33:43.361Z"
   },
   {
    "duration": 35,
    "start_time": "2024-08-06T15:33:43.384Z"
   },
   {
    "duration": 261,
    "start_time": "2024-08-06T15:33:43.421Z"
   },
   {
    "duration": 7,
    "start_time": "2024-08-06T15:33:43.684Z"
   },
   {
    "duration": 116,
    "start_time": "2024-08-06T15:33:43.692Z"
   },
   {
    "duration": 222,
    "start_time": "2024-08-06T15:33:43.810Z"
   },
   {
    "duration": 25,
    "start_time": "2024-08-06T15:33:44.034Z"
   },
   {
    "duration": 6,
    "start_time": "2024-08-06T15:33:44.061Z"
   },
   {
    "duration": 295,
    "start_time": "2024-08-06T15:33:44.069Z"
   },
   {
    "duration": 5,
    "start_time": "2024-08-06T15:33:44.366Z"
   },
   {
    "duration": 26,
    "start_time": "2024-08-06T15:33:44.373Z"
   },
   {
    "duration": 193,
    "start_time": "2024-08-06T15:33:44.401Z"
   },
   {
    "duration": 9,
    "start_time": "2024-08-06T15:33:44.597Z"
   },
   {
    "duration": 234,
    "start_time": "2024-08-06T15:33:44.608Z"
   },
   {
    "duration": 9,
    "start_time": "2024-08-06T15:33:44.846Z"
   },
   {
    "duration": 359,
    "start_time": "2024-08-06T15:33:44.857Z"
   },
   {
    "duration": 8,
    "start_time": "2024-08-06T15:33:45.217Z"
   },
   {
    "duration": 276,
    "start_time": "2024-08-06T15:33:45.227Z"
   },
   {
    "duration": 9,
    "start_time": "2024-08-06T15:33:45.504Z"
   },
   {
    "duration": 189,
    "start_time": "2024-08-06T15:33:45.514Z"
   },
   {
    "duration": 9,
    "start_time": "2024-08-06T15:33:45.707Z"
   },
   {
    "duration": 159,
    "start_time": "2024-08-06T15:33:45.717Z"
   },
   {
    "duration": 11,
    "start_time": "2024-08-06T15:33:45.877Z"
   },
   {
    "duration": 557,
    "start_time": "2024-08-06T15:33:45.890Z"
   },
   {
    "duration": 18,
    "start_time": "2024-08-06T15:33:46.449Z"
   },
   {
    "duration": 177,
    "start_time": "2024-08-06T15:33:46.469Z"
   },
   {
    "duration": 7,
    "start_time": "2024-08-06T15:33:46.648Z"
   },
   {
    "duration": 22,
    "start_time": "2024-08-06T15:33:46.657Z"
   },
   {
    "duration": 135,
    "start_time": "2024-08-06T15:33:46.681Z"
   },
   {
    "duration": 10,
    "start_time": "2024-08-06T15:33:46.818Z"
   },
   {
    "duration": 157,
    "start_time": "2024-08-06T15:33:46.829Z"
   },
   {
    "duration": 17,
    "start_time": "2024-08-06T15:33:46.988Z"
   },
   {
    "duration": 17,
    "start_time": "2024-08-06T15:33:47.007Z"
   },
   {
    "duration": 454,
    "start_time": "2024-08-06T15:33:47.026Z"
   },
   {
    "duration": 28,
    "start_time": "2024-08-06T15:33:47.481Z"
   },
   {
    "duration": 39,
    "start_time": "2024-08-06T15:33:47.510Z"
   },
   {
    "duration": 15,
    "start_time": "2024-08-06T15:33:47.551Z"
   },
   {
    "duration": 231,
    "start_time": "2024-08-06T15:33:47.568Z"
   },
   {
    "duration": 220,
    "start_time": "2024-08-06T15:33:47.801Z"
   },
   {
    "duration": 205,
    "start_time": "2024-08-06T15:33:48.023Z"
   },
   {
    "duration": 191,
    "start_time": "2024-08-06T15:33:48.230Z"
   },
   {
    "duration": 155,
    "start_time": "2024-08-06T15:33:48.422Z"
   },
   {
    "duration": 200,
    "start_time": "2024-08-06T15:33:48.579Z"
   },
   {
    "duration": 155,
    "start_time": "2024-08-06T15:33:48.781Z"
   },
   {
    "duration": 175,
    "start_time": "2024-08-06T15:33:48.937Z"
   },
   {
    "duration": 170,
    "start_time": "2024-08-06T15:33:49.113Z"
   },
   {
    "duration": 169,
    "start_time": "2024-08-06T15:33:49.285Z"
   },
   {
    "duration": 163,
    "start_time": "2024-08-06T15:33:49.455Z"
   },
   {
    "duration": 33,
    "start_time": "2024-08-06T15:33:49.620Z"
   },
   {
    "duration": 21,
    "start_time": "2024-08-06T15:33:49.654Z"
   },
   {
    "duration": 426,
    "start_time": "2024-08-06T15:33:49.677Z"
   },
   {
    "duration": 145,
    "start_time": "2024-08-06T15:36:24.764Z"
   },
   {
    "duration": 52,
    "start_time": "2024-08-06T15:37:59.155Z"
   },
   {
    "duration": 10,
    "start_time": "2024-08-06T15:38:09.233Z"
   },
   {
    "duration": 42,
    "start_time": "2024-08-06T15:38:50.704Z"
   },
   {
    "duration": 6,
    "start_time": "2024-08-06T15:39:06.584Z"
   },
   {
    "duration": 135,
    "start_time": "2024-08-06T15:42:21.064Z"
   },
   {
    "duration": 60,
    "start_time": "2024-08-06T15:43:17.734Z"
   },
   {
    "duration": 10,
    "start_time": "2024-08-06T15:43:28.944Z"
   },
   {
    "duration": 9,
    "start_time": "2024-08-06T15:43:45.785Z"
   },
   {
    "duration": 10,
    "start_time": "2024-08-06T15:43:51.704Z"
   },
   {
    "duration": 12,
    "start_time": "2024-08-06T15:43:59.654Z"
   },
   {
    "duration": 9,
    "start_time": "2024-08-06T15:44:15.744Z"
   },
   {
    "duration": 14,
    "start_time": "2024-08-06T15:44:22.577Z"
   },
   {
    "duration": 215,
    "start_time": "2024-08-06T15:45:00.535Z"
   },
   {
    "duration": 137,
    "start_time": "2024-08-06T15:45:26.314Z"
   },
   {
    "duration": 8,
    "start_time": "2024-08-06T15:45:43.384Z"
   },
   {
    "duration": 5,
    "start_time": "2024-08-06T15:46:31.866Z"
   },
   {
    "duration": 131,
    "start_time": "2024-08-06T15:46:32.615Z"
   },
   {
    "duration": 4,
    "start_time": "2024-08-06T15:46:41.025Z"
   },
   {
    "duration": 119,
    "start_time": "2024-08-06T15:46:41.721Z"
   },
   {
    "duration": 652,
    "start_time": "2024-08-06T15:46:53.950Z"
   },
   {
    "duration": 105,
    "start_time": "2024-08-06T15:46:54.604Z"
   },
   {
    "duration": 37,
    "start_time": "2024-08-06T15:46:54.710Z"
   },
   {
    "duration": 16,
    "start_time": "2024-08-06T15:46:54.748Z"
   },
   {
    "duration": 90,
    "start_time": "2024-08-06T15:46:54.765Z"
   },
   {
    "duration": 2036,
    "start_time": "2024-08-06T15:46:54.857Z"
   },
   {
    "duration": 10,
    "start_time": "2024-08-06T15:46:56.894Z"
   },
   {
    "duration": 6,
    "start_time": "2024-08-06T15:46:56.906Z"
   },
   {
    "duration": 29,
    "start_time": "2024-08-06T15:46:56.913Z"
   },
   {
    "duration": 5,
    "start_time": "2024-08-06T15:46:56.944Z"
   },
   {
    "duration": 14,
    "start_time": "2024-08-06T15:46:56.951Z"
   },
   {
    "duration": 10,
    "start_time": "2024-08-06T15:46:56.967Z"
   },
   {
    "duration": 8,
    "start_time": "2024-08-06T15:46:56.979Z"
   },
   {
    "duration": 39,
    "start_time": "2024-08-06T15:46:56.989Z"
   },
   {
    "duration": 30,
    "start_time": "2024-08-06T15:46:57.030Z"
   },
   {
    "duration": 67,
    "start_time": "2024-08-06T15:46:57.062Z"
   },
   {
    "duration": 6,
    "start_time": "2024-08-06T15:46:57.130Z"
   },
   {
    "duration": 28,
    "start_time": "2024-08-06T15:46:57.138Z"
   },
   {
    "duration": 63,
    "start_time": "2024-08-06T15:46:57.167Z"
   },
   {
    "duration": 28,
    "start_time": "2024-08-06T15:46:57.232Z"
   },
   {
    "duration": 4,
    "start_time": "2024-08-06T15:46:57.263Z"
   },
   {
    "duration": 50,
    "start_time": "2024-08-06T15:46:57.269Z"
   },
   {
    "duration": 266,
    "start_time": "2024-08-06T15:46:57.320Z"
   },
   {
    "duration": 6,
    "start_time": "2024-08-06T15:46:57.588Z"
   },
   {
    "duration": 5,
    "start_time": "2024-08-06T15:46:57.595Z"
   },
   {
    "duration": 153,
    "start_time": "2024-08-06T15:46:57.602Z"
   },
   {
    "duration": 9,
    "start_time": "2024-08-06T15:46:57.757Z"
   },
   {
    "duration": 20,
    "start_time": "2024-08-06T15:46:57.770Z"
   },
   {
    "duration": 16,
    "start_time": "2024-08-06T15:46:57.792Z"
   },
   {
    "duration": 10,
    "start_time": "2024-08-06T15:46:57.810Z"
   },
   {
    "duration": 7,
    "start_time": "2024-08-06T15:46:57.821Z"
   },
   {
    "duration": 288,
    "start_time": "2024-08-06T15:46:57.830Z"
   },
   {
    "duration": 5,
    "start_time": "2024-08-06T15:46:58.120Z"
   },
   {
    "duration": 10,
    "start_time": "2024-08-06T15:46:58.126Z"
   },
   {
    "duration": 172,
    "start_time": "2024-08-06T15:46:58.146Z"
   },
   {
    "duration": 15,
    "start_time": "2024-08-06T15:46:58.320Z"
   },
   {
    "duration": 299,
    "start_time": "2024-08-06T15:46:58.337Z"
   },
   {
    "duration": 16,
    "start_time": "2024-08-06T15:46:58.639Z"
   },
   {
    "duration": 199,
    "start_time": "2024-08-06T15:46:58.657Z"
   },
   {
    "duration": 9,
    "start_time": "2024-08-06T15:46:58.858Z"
   },
   {
    "duration": 255,
    "start_time": "2024-08-06T15:46:58.869Z"
   },
   {
    "duration": 9,
    "start_time": "2024-08-06T15:46:59.126Z"
   },
   {
    "duration": 155,
    "start_time": "2024-08-06T15:46:59.146Z"
   },
   {
    "duration": 10,
    "start_time": "2024-08-06T15:46:59.302Z"
   },
   {
    "duration": 155,
    "start_time": "2024-08-06T15:46:59.314Z"
   },
   {
    "duration": 10,
    "start_time": "2024-08-06T15:46:59.471Z"
   },
   {
    "duration": 135,
    "start_time": "2024-08-06T15:46:59.483Z"
   },
   {
    "duration": 7,
    "start_time": "2024-08-06T15:46:59.620Z"
   },
   {
    "duration": 154,
    "start_time": "2024-08-06T15:46:59.629Z"
   },
   {
    "duration": 6,
    "start_time": "2024-08-06T15:46:59.785Z"
   },
   {
    "duration": 30,
    "start_time": "2024-08-06T15:46:59.792Z"
   },
   {
    "duration": 139,
    "start_time": "2024-08-06T15:46:59.824Z"
   },
   {
    "duration": 10,
    "start_time": "2024-08-06T15:46:59.964Z"
   },
   {
    "duration": 190,
    "start_time": "2024-08-06T15:46:59.975Z"
   },
   {
    "duration": 18,
    "start_time": "2024-08-06T15:47:00.166Z"
   },
   {
    "duration": 37,
    "start_time": "2024-08-06T15:47:00.185Z"
   },
   {
    "duration": 493,
    "start_time": "2024-08-06T15:47:00.223Z"
   },
   {
    "duration": 45,
    "start_time": "2024-08-06T15:47:00.717Z"
   },
   {
    "duration": 488,
    "start_time": "2024-08-06T15:47:00.764Z"
   },
   {
    "duration": 178,
    "start_time": "2024-08-06T15:47:01.254Z"
   },
   {
    "duration": 290,
    "start_time": "2024-08-06T15:47:01.433Z"
   },
   {
    "duration": 216,
    "start_time": "2024-08-06T15:47:01.724Z"
   },
   {
    "duration": 682,
    "start_time": "2024-08-06T15:47:01.942Z"
   },
   {
    "duration": 183,
    "start_time": "2024-08-06T15:47:02.626Z"
   },
   {
    "duration": 284,
    "start_time": "2024-08-06T15:47:02.811Z"
   },
   {
    "duration": 176,
    "start_time": "2024-08-06T15:47:03.096Z"
   },
   {
    "duration": 157,
    "start_time": "2024-08-06T15:47:03.274Z"
   },
   {
    "duration": 354,
    "start_time": "2024-08-06T15:47:03.432Z"
   },
   {
    "duration": 161,
    "start_time": "2024-08-06T15:47:03.788Z"
   },
   {
    "duration": 273,
    "start_time": "2024-08-06T15:47:03.950Z"
   },
   {
    "duration": 162,
    "start_time": "2024-08-06T15:47:04.224Z"
   },
   {
    "duration": 24,
    "start_time": "2024-08-06T15:47:04.387Z"
   },
   {
    "duration": 36,
    "start_time": "2024-08-06T15:47:04.412Z"
   },
   {
    "duration": 303,
    "start_time": "2024-08-06T15:47:04.450Z"
   },
   {
    "duration": 6,
    "start_time": "2024-08-06T15:48:42.224Z"
   },
   {
    "duration": 134,
    "start_time": "2024-08-06T15:48:43.074Z"
   },
   {
    "duration": 8,
    "start_time": "2024-08-06T15:49:13.604Z"
   },
   {
    "duration": 129,
    "start_time": "2024-08-06T15:49:14.107Z"
   },
   {
    "duration": 75,
    "start_time": "2024-08-06T15:51:38.174Z"
   },
   {
    "duration": 655,
    "start_time": "2024-08-06T15:51:51.564Z"
   },
   {
    "duration": 106,
    "start_time": "2024-08-06T15:51:52.221Z"
   },
   {
    "duration": 39,
    "start_time": "2024-08-06T15:51:52.329Z"
   },
   {
    "duration": 15,
    "start_time": "2024-08-06T15:51:52.370Z"
   },
   {
    "duration": 122,
    "start_time": "2024-08-06T15:51:52.386Z"
   },
   {
    "duration": 2019,
    "start_time": "2024-08-06T15:51:52.510Z"
   },
   {
    "duration": 10,
    "start_time": "2024-08-06T15:51:54.530Z"
   },
   {
    "duration": 22,
    "start_time": "2024-08-06T15:51:54.542Z"
   },
   {
    "duration": 32,
    "start_time": "2024-08-06T15:51:54.565Z"
   },
   {
    "duration": 3,
    "start_time": "2024-08-06T15:51:54.600Z"
   },
   {
    "duration": 29,
    "start_time": "2024-08-06T15:51:54.605Z"
   },
   {
    "duration": 9,
    "start_time": "2024-08-06T15:51:54.636Z"
   },
   {
    "duration": 9,
    "start_time": "2024-08-06T15:51:54.646Z"
   },
   {
    "duration": 22,
    "start_time": "2024-08-06T15:51:54.657Z"
   },
   {
    "duration": 6,
    "start_time": "2024-08-06T15:51:54.682Z"
   },
   {
    "duration": 66,
    "start_time": "2024-08-06T15:51:54.689Z"
   },
   {
    "duration": 6,
    "start_time": "2024-08-06T15:51:54.756Z"
   },
   {
    "duration": 9,
    "start_time": "2024-08-06T15:51:54.764Z"
   },
   {
    "duration": 23,
    "start_time": "2024-08-06T15:51:54.775Z"
   },
   {
    "duration": 37,
    "start_time": "2024-08-06T15:51:54.799Z"
   },
   {
    "duration": 4,
    "start_time": "2024-08-06T15:51:54.838Z"
   },
   {
    "duration": 27,
    "start_time": "2024-08-06T15:51:54.843Z"
   },
   {
    "duration": 272,
    "start_time": "2024-08-06T15:51:54.872Z"
   },
   {
    "duration": 6,
    "start_time": "2024-08-06T15:51:55.146Z"
   },
   {
    "duration": 16,
    "start_time": "2024-08-06T15:51:55.153Z"
   },
   {
    "duration": 28,
    "start_time": "2024-08-06T15:51:55.170Z"
   },
   {
    "duration": 11,
    "start_time": "2024-08-06T15:51:55.199Z"
   },
   {
    "duration": 6,
    "start_time": "2024-08-06T15:51:55.214Z"
   },
   {
    "duration": 7,
    "start_time": "2024-08-06T15:51:55.221Z"
   },
   {
    "duration": 26,
    "start_time": "2024-08-06T15:51:55.229Z"
   },
   {
    "duration": 297,
    "start_time": "2024-08-06T15:51:55.256Z"
   },
   {
    "duration": 5,
    "start_time": "2024-08-06T15:51:55.555Z"
   },
   {
    "duration": 29,
    "start_time": "2024-08-06T15:51:55.562Z"
   },
   {
    "duration": 184,
    "start_time": "2024-08-06T15:51:55.592Z"
   },
   {
    "duration": 9,
    "start_time": "2024-08-06T15:51:55.778Z"
   },
   {
    "duration": 206,
    "start_time": "2024-08-06T15:51:55.788Z"
   },
   {
    "duration": 12,
    "start_time": "2024-08-06T15:51:55.997Z"
   },
   {
    "duration": 394,
    "start_time": "2024-08-06T15:51:56.010Z"
   },
   {
    "duration": 8,
    "start_time": "2024-08-06T15:51:56.406Z"
   },
   {
    "duration": 256,
    "start_time": "2024-08-06T15:51:56.416Z"
   },
   {
    "duration": 8,
    "start_time": "2024-08-06T15:51:56.674Z"
   },
   {
    "duration": 164,
    "start_time": "2024-08-06T15:51:56.683Z"
   },
   {
    "duration": 9,
    "start_time": "2024-08-06T15:51:56.849Z"
   },
   {
    "duration": 164,
    "start_time": "2024-08-06T15:51:56.859Z"
   },
   {
    "duration": 10,
    "start_time": "2024-08-06T15:51:57.024Z"
   },
   {
    "duration": 146,
    "start_time": "2024-08-06T15:51:57.035Z"
   },
   {
    "duration": 9,
    "start_time": "2024-08-06T15:51:57.183Z"
   },
   {
    "duration": 161,
    "start_time": "2024-08-06T15:51:57.193Z"
   },
   {
    "duration": 6,
    "start_time": "2024-08-06T15:51:57.356Z"
   },
   {
    "duration": 20,
    "start_time": "2024-08-06T15:51:57.364Z"
   },
   {
    "duration": 161,
    "start_time": "2024-08-06T15:51:57.385Z"
   },
   {
    "duration": 10,
    "start_time": "2024-08-06T15:51:57.547Z"
   },
   {
    "duration": 183,
    "start_time": "2024-08-06T15:51:57.558Z"
   },
   {
    "duration": 18,
    "start_time": "2024-08-06T15:51:57.743Z"
   },
   {
    "duration": 10,
    "start_time": "2024-08-06T15:51:57.762Z"
   },
   {
    "duration": 466,
    "start_time": "2024-08-06T15:51:57.774Z"
   },
   {
    "duration": 26,
    "start_time": "2024-08-06T15:51:58.245Z"
   },
   {
    "duration": 25,
    "start_time": "2024-08-06T15:51:58.273Z"
   },
   {
    "duration": 14,
    "start_time": "2024-08-06T15:51:58.299Z"
   },
   {
    "duration": 235,
    "start_time": "2024-08-06T15:51:58.314Z"
   },
   {
    "duration": 225,
    "start_time": "2024-08-06T15:51:58.552Z"
   },
   {
    "duration": 191,
    "start_time": "2024-08-06T15:51:58.779Z"
   },
   {
    "duration": 189,
    "start_time": "2024-08-06T15:51:58.972Z"
   },
   {
    "duration": 155,
    "start_time": "2024-08-06T15:51:59.162Z"
   },
   {
    "duration": 199,
    "start_time": "2024-08-06T15:51:59.318Z"
   },
   {
    "duration": 162,
    "start_time": "2024-08-06T15:51:59.519Z"
   },
   {
    "duration": 178,
    "start_time": "2024-08-06T15:51:59.683Z"
   },
   {
    "duration": 171,
    "start_time": "2024-08-06T15:51:59.863Z"
   },
   {
    "duration": 175,
    "start_time": "2024-08-06T15:52:00.036Z"
   },
   {
    "duration": 168,
    "start_time": "2024-08-06T15:52:00.213Z"
   },
   {
    "duration": 26,
    "start_time": "2024-08-06T15:52:00.383Z"
   },
   {
    "duration": 130,
    "start_time": "2024-08-06T15:52:00.411Z"
   },
   {
    "duration": 474,
    "start_time": "2024-08-06T15:52:00.543Z"
   },
   {
    "duration": 6,
    "start_time": "2024-08-06T15:52:40.944Z"
   },
   {
    "duration": 661,
    "start_time": "2024-08-06T15:52:45.156Z"
   },
   {
    "duration": 105,
    "start_time": "2024-08-06T15:52:45.819Z"
   },
   {
    "duration": 37,
    "start_time": "2024-08-06T15:52:45.926Z"
   },
   {
    "duration": 45,
    "start_time": "2024-08-06T15:52:45.966Z"
   },
   {
    "duration": 74,
    "start_time": "2024-08-06T15:52:46.013Z"
   },
   {
    "duration": 2033,
    "start_time": "2024-08-06T15:52:46.088Z"
   },
   {
    "duration": 10,
    "start_time": "2024-08-06T15:52:48.123Z"
   },
   {
    "duration": 7,
    "start_time": "2024-08-06T15:52:48.134Z"
   },
   {
    "duration": 6,
    "start_time": "2024-08-06T15:52:48.145Z"
   },
   {
    "duration": 3,
    "start_time": "2024-08-06T15:52:48.154Z"
   },
   {
    "duration": 27,
    "start_time": "2024-08-06T15:52:48.159Z"
   },
   {
    "duration": 9,
    "start_time": "2024-08-06T15:52:48.187Z"
   },
   {
    "duration": 20,
    "start_time": "2024-08-06T15:52:48.197Z"
   },
   {
    "duration": 42,
    "start_time": "2024-08-06T15:52:48.219Z"
   },
   {
    "duration": 24,
    "start_time": "2024-08-06T15:52:48.263Z"
   },
   {
    "duration": 71,
    "start_time": "2024-08-06T15:52:48.289Z"
   },
   {
    "duration": 7,
    "start_time": "2024-08-06T15:52:48.361Z"
   },
   {
    "duration": 32,
    "start_time": "2024-08-06T15:52:48.370Z"
   },
   {
    "duration": 13,
    "start_time": "2024-08-06T15:52:48.404Z"
   },
   {
    "duration": 23,
    "start_time": "2024-08-06T15:52:48.419Z"
   },
   {
    "duration": 4,
    "start_time": "2024-08-06T15:52:48.444Z"
   },
   {
    "duration": 41,
    "start_time": "2024-08-06T15:52:48.450Z"
   },
   {
    "duration": 311,
    "start_time": "2024-08-06T15:52:48.493Z"
   },
   {
    "duration": 7,
    "start_time": "2024-08-06T15:52:48.805Z"
   },
   {
    "duration": 21,
    "start_time": "2024-08-06T15:52:48.814Z"
   },
   {
    "duration": 13,
    "start_time": "2024-08-06T15:52:48.837Z"
   },
   {
    "duration": 11,
    "start_time": "2024-08-06T15:52:48.852Z"
   },
   {
    "duration": 16,
    "start_time": "2024-08-06T15:52:48.867Z"
   },
   {
    "duration": 5,
    "start_time": "2024-08-06T15:52:48.886Z"
   },
   {
    "duration": 5,
    "start_time": "2024-08-06T15:52:48.892Z"
   },
   {
    "duration": 308,
    "start_time": "2024-08-06T15:52:48.899Z"
   },
   {
    "duration": 4,
    "start_time": "2024-08-06T15:52:49.209Z"
   },
   {
    "duration": 11,
    "start_time": "2024-08-06T15:52:49.215Z"
   },
   {
    "duration": 182,
    "start_time": "2024-08-06T15:52:49.228Z"
   },
   {
    "duration": 9,
    "start_time": "2024-08-06T15:52:49.411Z"
   },
   {
    "duration": 181,
    "start_time": "2024-08-06T15:52:49.421Z"
   },
   {
    "duration": 8,
    "start_time": "2024-08-06T15:52:49.604Z"
   },
   {
    "duration": 263,
    "start_time": "2024-08-06T15:52:49.614Z"
   },
   {
    "duration": 8,
    "start_time": "2024-08-06T15:52:49.879Z"
   },
   {
    "duration": 246,
    "start_time": "2024-08-06T15:52:49.888Z"
   },
   {
    "duration": 13,
    "start_time": "2024-08-06T15:52:50.136Z"
   },
   {
    "duration": 157,
    "start_time": "2024-08-06T15:52:50.151Z"
   },
   {
    "duration": 8,
    "start_time": "2024-08-06T15:52:50.309Z"
   },
   {
    "duration": 178,
    "start_time": "2024-08-06T15:52:50.319Z"
   },
   {
    "duration": 10,
    "start_time": "2024-08-06T15:52:50.498Z"
   },
   {
    "duration": 162,
    "start_time": "2024-08-06T15:52:50.510Z"
   },
   {
    "duration": 11,
    "start_time": "2024-08-06T15:52:50.674Z"
   },
   {
    "duration": 166,
    "start_time": "2024-08-06T15:52:50.686Z"
   },
   {
    "duration": 8,
    "start_time": "2024-08-06T15:52:50.854Z"
   },
   {
    "duration": 16,
    "start_time": "2024-08-06T15:52:50.863Z"
   },
   {
    "duration": 170,
    "start_time": "2024-08-06T15:52:50.880Z"
   },
   {
    "duration": 10,
    "start_time": "2024-08-06T15:52:51.051Z"
   },
   {
    "duration": 155,
    "start_time": "2024-08-06T15:52:51.063Z"
   },
   {
    "duration": 27,
    "start_time": "2024-08-06T15:52:51.220Z"
   },
   {
    "duration": 9,
    "start_time": "2024-08-06T15:52:51.248Z"
   },
   {
    "duration": 460,
    "start_time": "2024-08-06T15:52:51.259Z"
   },
   {
    "duration": 32,
    "start_time": "2024-08-06T15:52:51.721Z"
   },
   {
    "duration": 26,
    "start_time": "2024-08-06T15:52:51.755Z"
   },
   {
    "duration": 13,
    "start_time": "2024-08-06T15:52:51.782Z"
   },
   {
    "duration": 225,
    "start_time": "2024-08-06T15:52:51.796Z"
   },
   {
    "duration": 204,
    "start_time": "2024-08-06T15:52:52.023Z"
   },
   {
    "duration": 194,
    "start_time": "2024-08-06T15:52:52.228Z"
   },
   {
    "duration": 196,
    "start_time": "2024-08-06T15:52:52.424Z"
   },
   {
    "duration": 186,
    "start_time": "2024-08-06T15:52:52.621Z"
   },
   {
    "duration": 192,
    "start_time": "2024-08-06T15:52:52.809Z"
   },
   {
    "duration": 162,
    "start_time": "2024-08-06T15:52:53.003Z"
   },
   {
    "duration": 181,
    "start_time": "2024-08-06T15:52:53.167Z"
   },
   {
    "duration": 171,
    "start_time": "2024-08-06T15:52:53.350Z"
   },
   {
    "duration": 169,
    "start_time": "2024-08-06T15:52:53.523Z"
   },
   {
    "duration": 165,
    "start_time": "2024-08-06T15:52:53.693Z"
   },
   {
    "duration": 25,
    "start_time": "2024-08-06T15:52:53.860Z"
   },
   {
    "duration": 28,
    "start_time": "2024-08-06T15:52:53.886Z"
   },
   {
    "duration": 439,
    "start_time": "2024-08-06T15:52:53.916Z"
   },
   {
    "duration": 239,
    "start_time": "2024-08-06T15:54:26.985Z"
   },
   {
    "duration": 3,
    "start_time": "2024-08-06T15:57:13.165Z"
   },
   {
    "duration": 260,
    "start_time": "2024-08-06T15:57:45.884Z"
   },
   {
    "duration": 264,
    "start_time": "2024-08-06T15:58:18.113Z"
   },
   {
    "duration": 277,
    "start_time": "2024-08-06T15:58:35.103Z"
   },
   {
    "duration": 319,
    "start_time": "2024-08-06T15:58:41.495Z"
   },
   {
    "duration": 271,
    "start_time": "2024-08-06T15:58:50.784Z"
   },
   {
    "duration": 167,
    "start_time": "2024-08-06T16:00:54.903Z"
   },
   {
    "duration": 145,
    "start_time": "2024-08-06T16:01:23.113Z"
   },
   {
    "duration": 161,
    "start_time": "2024-08-06T16:01:28.211Z"
   },
   {
    "duration": 145,
    "start_time": "2024-08-06T16:01:48.034Z"
   },
   {
    "duration": 69,
    "start_time": "2024-08-06T16:07:37.804Z"
   },
   {
    "duration": 630,
    "start_time": "2024-08-06T16:20:38.565Z"
   },
   {
    "duration": 106,
    "start_time": "2024-08-06T16:20:39.197Z"
   },
   {
    "duration": 30,
    "start_time": "2024-08-06T16:20:39.305Z"
   },
   {
    "duration": 23,
    "start_time": "2024-08-06T16:20:39.349Z"
   },
   {
    "duration": 84,
    "start_time": "2024-08-06T16:20:39.375Z"
   },
   {
    "duration": 2029,
    "start_time": "2024-08-06T16:20:39.460Z"
   },
   {
    "duration": 10,
    "start_time": "2024-08-06T16:20:41.490Z"
   },
   {
    "duration": 12,
    "start_time": "2024-08-06T16:20:41.502Z"
   },
   {
    "duration": 12,
    "start_time": "2024-08-06T16:20:41.515Z"
   },
   {
    "duration": 3,
    "start_time": "2024-08-06T16:20:41.529Z"
   },
   {
    "duration": 13,
    "start_time": "2024-08-06T16:20:41.534Z"
   },
   {
    "duration": 8,
    "start_time": "2024-08-06T16:20:41.548Z"
   },
   {
    "duration": 6,
    "start_time": "2024-08-06T16:20:41.558Z"
   },
   {
    "duration": 19,
    "start_time": "2024-08-06T16:20:41.567Z"
   },
   {
    "duration": 7,
    "start_time": "2024-08-06T16:20:41.588Z"
   },
   {
    "duration": 76,
    "start_time": "2024-08-06T16:20:41.596Z"
   },
   {
    "duration": 5,
    "start_time": "2024-08-06T16:20:41.674Z"
   },
   {
    "duration": 11,
    "start_time": "2024-08-06T16:20:41.681Z"
   },
   {
    "duration": 7,
    "start_time": "2024-08-06T16:20:41.694Z"
   },
   {
    "duration": 19,
    "start_time": "2024-08-06T16:20:41.702Z"
   },
   {
    "duration": 25,
    "start_time": "2024-08-06T16:20:41.722Z"
   },
   {
    "duration": 11,
    "start_time": "2024-08-06T16:20:41.748Z"
   },
   {
    "duration": 238,
    "start_time": "2024-08-06T16:20:41.760Z"
   },
   {
    "duration": 7,
    "start_time": "2024-08-06T16:20:42.000Z"
   },
   {
    "duration": 6,
    "start_time": "2024-08-06T16:20:42.009Z"
   },
   {
    "duration": 6,
    "start_time": "2024-08-06T16:20:42.016Z"
   },
   {
    "duration": 6,
    "start_time": "2024-08-06T16:20:42.045Z"
   },
   {
    "duration": 23,
    "start_time": "2024-08-06T16:20:42.052Z"
   },
   {
    "duration": 187,
    "start_time": "2024-08-06T16:20:42.076Z"
   },
   {
    "duration": 46,
    "start_time": "2024-08-06T16:20:42.265Z"
   },
   {
    "duration": 297,
    "start_time": "2024-08-06T16:20:42.313Z"
   },
   {
    "duration": 11,
    "start_time": "2024-08-06T16:20:42.612Z"
   },
   {
    "duration": 22,
    "start_time": "2024-08-06T16:20:42.626Z"
   },
   {
    "duration": 190,
    "start_time": "2024-08-06T16:20:42.650Z"
   },
   {
    "duration": 12,
    "start_time": "2024-08-06T16:20:42.841Z"
   },
   {
    "duration": 191,
    "start_time": "2024-08-06T16:20:42.855Z"
   },
   {
    "duration": 9,
    "start_time": "2024-08-06T16:20:43.048Z"
   },
   {
    "duration": 275,
    "start_time": "2024-08-06T16:20:43.059Z"
   },
   {
    "duration": 14,
    "start_time": "2024-08-06T16:20:43.335Z"
   },
   {
    "duration": 262,
    "start_time": "2024-08-06T16:20:43.351Z"
   },
   {
    "duration": 8,
    "start_time": "2024-08-06T16:20:43.617Z"
   },
   {
    "duration": 160,
    "start_time": "2024-08-06T16:20:43.626Z"
   },
   {
    "duration": 8,
    "start_time": "2024-08-06T16:20:43.788Z"
   },
   {
    "duration": 152,
    "start_time": "2024-08-06T16:20:43.798Z"
   },
   {
    "duration": 9,
    "start_time": "2024-08-06T16:20:43.952Z"
   },
   {
    "duration": 148,
    "start_time": "2024-08-06T16:20:43.963Z"
   },
   {
    "duration": 9,
    "start_time": "2024-08-06T16:20:44.112Z"
   },
   {
    "duration": 333,
    "start_time": "2024-08-06T16:20:44.123Z"
   },
   {
    "duration": 6,
    "start_time": "2024-08-06T16:20:44.458Z"
   },
   {
    "duration": 18,
    "start_time": "2024-08-06T16:20:44.466Z"
   },
   {
    "duration": 160,
    "start_time": "2024-08-06T16:20:44.486Z"
   },
   {
    "duration": 10,
    "start_time": "2024-08-06T16:20:44.647Z"
   },
   {
    "duration": 185,
    "start_time": "2024-08-06T16:20:44.659Z"
   },
   {
    "duration": 17,
    "start_time": "2024-08-06T16:20:44.846Z"
   },
   {
    "duration": 11,
    "start_time": "2024-08-06T16:20:44.865Z"
   },
   {
    "duration": 473,
    "start_time": "2024-08-06T16:20:44.878Z"
   },
   {
    "duration": 25,
    "start_time": "2024-08-06T16:20:45.352Z"
   },
   {
    "duration": 51,
    "start_time": "2024-08-06T16:20:45.378Z"
   },
   {
    "duration": 39,
    "start_time": "2024-08-06T16:20:45.431Z"
   },
   {
    "duration": 234,
    "start_time": "2024-08-06T16:20:45.472Z"
   },
   {
    "duration": 192,
    "start_time": "2024-08-06T16:20:45.708Z"
   },
   {
    "duration": 197,
    "start_time": "2024-08-06T16:20:45.901Z"
   },
   {
    "duration": 189,
    "start_time": "2024-08-06T16:20:46.100Z"
   },
   {
    "duration": 157,
    "start_time": "2024-08-06T16:20:46.291Z"
   },
   {
    "duration": 214,
    "start_time": "2024-08-06T16:20:46.449Z"
   },
   {
    "duration": 158,
    "start_time": "2024-08-06T16:20:46.665Z"
   },
   {
    "duration": 172,
    "start_time": "2024-08-06T16:20:46.825Z"
   },
   {
    "duration": 164,
    "start_time": "2024-08-06T16:20:46.999Z"
   },
   {
    "duration": 172,
    "start_time": "2024-08-06T16:20:47.165Z"
   },
   {
    "duration": 159,
    "start_time": "2024-08-06T16:20:47.338Z"
   },
   {
    "duration": 25,
    "start_time": "2024-08-06T16:20:47.499Z"
   },
   {
    "duration": 40,
    "start_time": "2024-08-06T16:20:47.525Z"
   },
   {
    "duration": 403,
    "start_time": "2024-08-06T16:20:47.567Z"
   },
   {
    "duration": 141,
    "start_time": "2024-08-06T16:22:01.437Z"
   },
   {
    "duration": 139,
    "start_time": "2024-08-06T16:22:17.047Z"
   },
   {
    "duration": 172,
    "start_time": "2024-08-06T16:22:36.989Z"
   },
   {
    "duration": 135,
    "start_time": "2024-08-06T16:22:58.367Z"
   },
   {
    "duration": 628,
    "start_time": "2024-08-07T11:14:38.263Z"
   },
   {
    "duration": 99,
    "start_time": "2024-08-07T11:14:38.893Z"
   },
   {
    "duration": 39,
    "start_time": "2024-08-07T11:14:38.993Z"
   },
   {
    "duration": 16,
    "start_time": "2024-08-07T11:14:39.033Z"
   },
   {
    "duration": 85,
    "start_time": "2024-08-07T11:14:39.051Z"
   },
   {
    "duration": 2029,
    "start_time": "2024-08-07T11:14:39.138Z"
   },
   {
    "duration": 9,
    "start_time": "2024-08-07T11:14:41.169Z"
   },
   {
    "duration": 12,
    "start_time": "2024-08-07T11:14:41.180Z"
   },
   {
    "duration": 11,
    "start_time": "2024-08-07T11:14:41.193Z"
   },
   {
    "duration": 4,
    "start_time": "2024-08-07T11:14:41.206Z"
   },
   {
    "duration": 10,
    "start_time": "2024-08-07T11:14:41.211Z"
   },
   {
    "duration": 7,
    "start_time": "2024-08-07T11:14:41.223Z"
   },
   {
    "duration": 18,
    "start_time": "2024-08-07T11:14:41.232Z"
   },
   {
    "duration": 20,
    "start_time": "2024-08-07T11:14:41.253Z"
   },
   {
    "duration": 5,
    "start_time": "2024-08-07T11:14:41.274Z"
   },
   {
    "duration": 63,
    "start_time": "2024-08-07T11:14:41.280Z"
   },
   {
    "duration": 6,
    "start_time": "2024-08-07T11:14:41.345Z"
   },
   {
    "duration": 20,
    "start_time": "2024-08-07T11:14:41.352Z"
   },
   {
    "duration": 10,
    "start_time": "2024-08-07T11:14:41.374Z"
   },
   {
    "duration": 21,
    "start_time": "2024-08-07T11:14:41.386Z"
   },
   {
    "duration": 6,
    "start_time": "2024-08-07T11:14:41.418Z"
   },
   {
    "duration": 13,
    "start_time": "2024-08-07T11:14:41.425Z"
   },
   {
    "duration": 252,
    "start_time": "2024-08-07T11:14:41.442Z"
   },
   {
    "duration": 6,
    "start_time": "2024-08-07T11:14:41.695Z"
   },
   {
    "duration": 18,
    "start_time": "2024-08-07T11:14:41.703Z"
   },
   {
    "duration": 6,
    "start_time": "2024-08-07T11:14:41.723Z"
   },
   {
    "duration": 5,
    "start_time": "2024-08-07T11:14:41.731Z"
   },
   {
    "duration": 16,
    "start_time": "2024-08-07T11:14:41.738Z"
   },
   {
    "duration": 5,
    "start_time": "2024-08-07T11:14:41.756Z"
   },
   {
    "duration": 5,
    "start_time": "2024-08-07T11:14:41.763Z"
   },
   {
    "duration": 324,
    "start_time": "2024-08-07T11:14:41.769Z"
   },
   {
    "duration": 4,
    "start_time": "2024-08-07T11:14:42.095Z"
   },
   {
    "duration": 17,
    "start_time": "2024-08-07T11:14:42.101Z"
   },
   {
    "duration": 193,
    "start_time": "2024-08-07T11:14:42.120Z"
   },
   {
    "duration": 10,
    "start_time": "2024-08-07T11:14:42.314Z"
   },
   {
    "duration": 193,
    "start_time": "2024-08-07T11:14:42.326Z"
   },
   {
    "duration": 9,
    "start_time": "2024-08-07T11:14:42.521Z"
   },
   {
    "duration": 257,
    "start_time": "2024-08-07T11:14:42.531Z"
   },
   {
    "duration": 8,
    "start_time": "2024-08-07T11:14:42.790Z"
   },
   {
    "duration": 326,
    "start_time": "2024-08-07T11:14:42.800Z"
   },
   {
    "duration": 8,
    "start_time": "2024-08-07T11:14:43.130Z"
   },
   {
    "duration": 166,
    "start_time": "2024-08-07T11:14:43.140Z"
   },
   {
    "duration": 17,
    "start_time": "2024-08-07T11:14:43.307Z"
   },
   {
    "duration": 157,
    "start_time": "2024-08-07T11:14:43.326Z"
   },
   {
    "duration": 10,
    "start_time": "2024-08-07T11:14:43.484Z"
   },
   {
    "duration": 134,
    "start_time": "2024-08-07T11:14:43.495Z"
   },
   {
    "duration": 10,
    "start_time": "2024-08-07T11:14:43.631Z"
   },
   {
    "duration": 179,
    "start_time": "2024-08-07T11:14:43.643Z"
   },
   {
    "duration": 7,
    "start_time": "2024-08-07T11:14:43.823Z"
   },
   {
    "duration": 14,
    "start_time": "2024-08-07T11:14:43.831Z"
   },
   {
    "duration": 148,
    "start_time": "2024-08-07T11:14:43.846Z"
   },
   {
    "duration": 9,
    "start_time": "2024-08-07T11:14:43.996Z"
   },
   {
    "duration": 147,
    "start_time": "2024-08-07T11:14:44.018Z"
   },
   {
    "duration": 16,
    "start_time": "2024-08-07T11:14:44.166Z"
   },
   {
    "duration": 9,
    "start_time": "2024-08-07T11:14:44.184Z"
   },
   {
    "duration": 458,
    "start_time": "2024-08-07T11:14:44.194Z"
   },
   {
    "duration": 27,
    "start_time": "2024-08-07T11:14:44.654Z"
   },
   {
    "duration": 44,
    "start_time": "2024-08-07T11:14:44.682Z"
   },
   {
    "duration": 13,
    "start_time": "2024-08-07T11:14:44.728Z"
   },
   {
    "duration": 219,
    "start_time": "2024-08-07T11:14:44.743Z"
   },
   {
    "duration": 205,
    "start_time": "2024-08-07T11:14:44.964Z"
   },
   {
    "duration": 199,
    "start_time": "2024-08-07T11:14:45.170Z"
   },
   {
    "duration": 188,
    "start_time": "2024-08-07T11:14:45.370Z"
   },
   {
    "duration": 160,
    "start_time": "2024-08-07T11:14:45.560Z"
   },
   {
    "duration": 211,
    "start_time": "2024-08-07T11:14:45.722Z"
   },
   {
    "duration": 162,
    "start_time": "2024-08-07T11:14:45.934Z"
   },
   {
    "duration": 211,
    "start_time": "2024-08-07T11:14:46.099Z"
   },
   {
    "duration": 183,
    "start_time": "2024-08-07T11:14:46.311Z"
   },
   {
    "duration": 166,
    "start_time": "2024-08-07T11:14:46.496Z"
   },
   {
    "duration": 157,
    "start_time": "2024-08-07T11:14:46.663Z"
   },
   {
    "duration": 22,
    "start_time": "2024-08-07T11:14:46.822Z"
   },
   {
    "duration": 23,
    "start_time": "2024-08-07T11:14:46.846Z"
   },
   {
    "duration": 414,
    "start_time": "2024-08-07T11:14:46.870Z"
   },
   {
    "duration": 90,
    "start_time": "2024-08-07T11:15:09.449Z"
   }
  ],
  "colab": {
   "provenance": []
  },
  "kernelspec": {
   "display_name": "Python 3 (ipykernel)",
   "language": "python",
   "name": "python3"
  },
  "language_info": {
   "codemirror_mode": {
    "name": "ipython",
    "version": 3
   },
   "file_extension": ".py",
   "mimetype": "text/x-python",
   "name": "python",
   "nbconvert_exporter": "python",
   "pygments_lexer": "ipython3",
   "version": "3.9.5"
  },
  "toc": {
   "base_numbering": 1,
   "nav_menu": {},
   "number_sections": true,
   "sideBar": true,
   "skip_h1_title": true,
   "title_cell": "Table of Contents",
   "title_sidebar": "Contents",
   "toc_cell": false,
   "toc_position": {},
   "toc_section_display": true,
   "toc_window_display": false
  }
 },
 "nbformat": 4,
 "nbformat_minor": 1
}
