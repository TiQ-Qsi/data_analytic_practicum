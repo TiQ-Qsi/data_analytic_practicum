{
 "cells": [
  {
   "cell_type": "markdown",
   "id": "04b3ffd5",
   "metadata": {},
   "source": [
    "<div style=\"border:solid green 2px; padding: 20px\">\n",
    "\n",
    "<b>Привет, Даниил! Поздравляю с выполнением очередного проекта!!</b>\n",
    "\n",
    "Меня зовут Петр Раздобреев и я буду проверять твою работу. Попробую помочь сделать тебе её еще лучше! В Практикуме принято общени на ты, но если это дискомфортно, то сообщи об этом)\n",
    "\n",
    "Ниже ты найдешь мои комментарии - пожалуйста, не перемещай, не изменяй и не удаляй их. Я буду использовать цветовую разметку:\n",
    "\n",
    "<div class=\"alert alert-danger\">\n",
    "<b>Комментарий ревьюера:</b>☁️Так выделены самые важные замечания. Без их отработки проект не будет принят. </div>\n",
    "\n",
    "<div class=\"alert alert-warning\">\n",
    "<b>Комментарий ревьюера:</b>⛅️ Так выделены небольшие замечания.Такие замечания в проекте допустимы, это пространство для улучшений в будущем.\n",
    "</div>\n",
    "\n",
    "<div class=\"alert alert-success\">\n",
    "<b>Комментарий ревьюера:</b>☀️Так я выделяю успешные идеи.</div>\n",
    "\n",
    "Давай работать над проектом в диалоге: если ты что-то меняешь в проекте или отвечаешь на мои комменатри — пиши об этом. Мне будет легче отследить изменения, если ты выделишь свои комментарии:\n",
    "<div class=\"alert alert-info\"> <b>Комментарий студента:</b> Например, вот так.</div>\n",
    "\n",
    "Всё это поможет выполнить повторную проверку твоего проекта оперативнее. \n",
    "    "
   ]
  },
  {
   "cell_type": "markdown",
   "id": "4f5dadca",
   "metadata": {},
   "source": [
    "# Исcледование сервиса аренды самокатов GoFast"
   ]
  },
  {
   "cell_type": "markdown",
   "id": "888e6583",
   "metadata": {},
   "source": [
    "В рамках учебного проекта мы получили данные о пользователях сервиса аренды самокатов GoFast из нескольких городов, а также об их поездках. Наша задача — проанализировать эти данные и проверить гипотезы, которые помогут бизнесу вырасти.\n",
    "\n",
    "Для передвижения по городу пользователи GoFast используют мобильное приложение. Сервис предлагает два тарифа:\n",
    "\n",
    "* Без подписки: \n",
    "\n",
    "    * абонентская плата отсутствует; \n",
    "    \n",
    "    * стоимость одной минуты поездки — 8 рублей; \n",
    "    \n",
    "    * стоимость старта (начала поездки) — 50 рублей;\n",
    "    \n",
    "* С подпиской Ultra: \n",
    "\n",
    "    * абонентская плата составляет 199 рублей в месяц;\n",
    "    \n",
    "    * стоимость одной минуты поездки — 6 рублей; \n",
    "    \n",
    "    * стоимость старта — бесплатно."
   ]
  },
  {
   "cell_type": "markdown",
   "id": "12dfd6dc",
   "metadata": {},
   "source": [
    "## **Описание данных**"
   ]
  },
  {
   "cell_type": "markdown",
   "id": "2876ebc3",
   "metadata": {},
   "source": [
    "DataFrame **df_users** содержит следующую информацию о пользователях: \n",
    "\n",
    "* **user_id** - уникальный идентификатор пользователя\n",
    "\n",
    "* **name** - имя пользователя\n",
    "\n",
    "* **age** - возраст\n",
    "\n",
    "* **city** - город\n",
    "\n",
    "* **subscription_type**\t- тип подписки (free, ultra)"
   ]
  },
  {
   "cell_type": "markdown",
   "id": "2e009c23",
   "metadata": {},
   "source": [
    "DataFrame **df_riders** содержит следующую информацию о поездках:\n",
    "\n",
    "* **user_id** -\tуникальный идентификатор пользователя\n",
    "\n",
    "* **distance** - расстояние, которое пользователь проехал в текущей сессии (в метрах)\n",
    "\n",
    "* **duration** - продолжительность сессии (в минутах) — время с того момента, как пользователь нажал кнопку «Начать поездку» до момента, как он нажал кнопку «Завершить поездку»\n",
    "\n",
    "* **date** - дата совершения поездки"
   ]
  },
  {
   "cell_type": "markdown",
   "id": "1d73acc3",
   "metadata": {},
   "source": [
    "DataFrame **df_subscription** содержит следующую информацию о подписках:\n",
    "\n",
    "* **subscription_type** - тип подписки\n",
    "\n",
    "* **minute_price** - стоимость одной минуты поездки по данной подписке\n",
    "\n",
    "* **start_ride_price** - стоимость начала поездки\n",
    "\n",
    "* **subscription_fee** - стоимость ежемесячного платежа"
   ]
  },
  {
   "cell_type": "code",
   "execution_count": 1,
   "id": "72576667",
   "metadata": {},
   "outputs": [],
   "source": [
    "import pandas as pd\n",
    "import matplotlib.pyplot as plt\n",
    "import numpy as np\n",
    "import scipy.stats as st"
   ]
  },
  {
   "cell_type": "markdown",
   "id": "c42cbe00",
   "metadata": {},
   "source": [
    "## Обзор данных"
   ]
  },
  {
   "cell_type": "code",
   "execution_count": 2,
   "id": "eff9f206",
   "metadata": {},
   "outputs": [],
   "source": [
    "df_users = pd.read_csv('/datasets/users_go.csv')\n",
    "df_riders = pd.read_csv('/datasets/rides_go.csv')\n",
    "df_subscription = pd.read_csv('/datasets/subscriptions_go.csv')"
   ]
  },
  {
   "cell_type": "code",
   "execution_count": 3,
   "id": "7ace1bfc",
   "metadata": {},
   "outputs": [],
   "source": [
    "pd.set_option('display.max_columns', None)"
   ]
  },
  {
   "cell_type": "markdown",
   "id": "92c56283",
   "metadata": {},
   "source": [
    "### Общая информация о пользователях"
   ]
  },
  {
   "cell_type": "code",
   "execution_count": 4,
   "id": "cfaef83b",
   "metadata": {},
   "outputs": [
    {
     "data": {
      "text/html": [
       "<div>\n",
       "<style scoped>\n",
       "    .dataframe tbody tr th:only-of-type {\n",
       "        vertical-align: middle;\n",
       "    }\n",
       "\n",
       "    .dataframe tbody tr th {\n",
       "        vertical-align: top;\n",
       "    }\n",
       "\n",
       "    .dataframe thead th {\n",
       "        text-align: right;\n",
       "    }\n",
       "</style>\n",
       "<table border=\"1\" class=\"dataframe\">\n",
       "  <thead>\n",
       "    <tr style=\"text-align: right;\">\n",
       "      <th></th>\n",
       "      <th>user_id</th>\n",
       "      <th>name</th>\n",
       "      <th>age</th>\n",
       "      <th>city</th>\n",
       "      <th>subscription_type</th>\n",
       "    </tr>\n",
       "  </thead>\n",
       "  <tbody>\n",
       "    <tr>\n",
       "      <th>0</th>\n",
       "      <td>1</td>\n",
       "      <td>Кира</td>\n",
       "      <td>22</td>\n",
       "      <td>Тюмень</td>\n",
       "      <td>ultra</td>\n",
       "    </tr>\n",
       "    <tr>\n",
       "      <th>1</th>\n",
       "      <td>2</td>\n",
       "      <td>Станислав</td>\n",
       "      <td>31</td>\n",
       "      <td>Омск</td>\n",
       "      <td>ultra</td>\n",
       "    </tr>\n",
       "    <tr>\n",
       "      <th>2</th>\n",
       "      <td>3</td>\n",
       "      <td>Алексей</td>\n",
       "      <td>20</td>\n",
       "      <td>Москва</td>\n",
       "      <td>ultra</td>\n",
       "    </tr>\n",
       "    <tr>\n",
       "      <th>3</th>\n",
       "      <td>4</td>\n",
       "      <td>Константин</td>\n",
       "      <td>26</td>\n",
       "      <td>Ростов-на-Дону</td>\n",
       "      <td>ultra</td>\n",
       "    </tr>\n",
       "    <tr>\n",
       "      <th>4</th>\n",
       "      <td>5</td>\n",
       "      <td>Адель</td>\n",
       "      <td>28</td>\n",
       "      <td>Омск</td>\n",
       "      <td>ultra</td>\n",
       "    </tr>\n",
       "    <tr>\n",
       "      <th>5</th>\n",
       "      <td>6</td>\n",
       "      <td>Регина</td>\n",
       "      <td>25</td>\n",
       "      <td>Краснодар</td>\n",
       "      <td>ultra</td>\n",
       "    </tr>\n",
       "    <tr>\n",
       "      <th>6</th>\n",
       "      <td>7</td>\n",
       "      <td>Игорь</td>\n",
       "      <td>23</td>\n",
       "      <td>Омск</td>\n",
       "      <td>ultra</td>\n",
       "    </tr>\n",
       "    <tr>\n",
       "      <th>7</th>\n",
       "      <td>8</td>\n",
       "      <td>Юрий</td>\n",
       "      <td>23</td>\n",
       "      <td>Краснодар</td>\n",
       "      <td>ultra</td>\n",
       "    </tr>\n",
       "    <tr>\n",
       "      <th>8</th>\n",
       "      <td>9</td>\n",
       "      <td>Ян</td>\n",
       "      <td>21</td>\n",
       "      <td>Пятигорск</td>\n",
       "      <td>ultra</td>\n",
       "    </tr>\n",
       "    <tr>\n",
       "      <th>9</th>\n",
       "      <td>10</td>\n",
       "      <td>Валерий</td>\n",
       "      <td>18</td>\n",
       "      <td>Екатеринбург</td>\n",
       "      <td>ultra</td>\n",
       "    </tr>\n",
       "  </tbody>\n",
       "</table>\n",
       "</div>"
      ],
      "text/plain": [
       "   user_id        name  age            city subscription_type\n",
       "0        1        Кира   22          Тюмень             ultra\n",
       "1        2   Станислав   31            Омск             ultra\n",
       "2        3     Алексей   20          Москва             ultra\n",
       "3        4  Константин   26  Ростов-на-Дону             ultra\n",
       "4        5       Адель   28            Омск             ultra\n",
       "5        6      Регина   25       Краснодар             ultra\n",
       "6        7       Игорь   23            Омск             ultra\n",
       "7        8        Юрий   23       Краснодар             ultra\n",
       "8        9          Ян   21       Пятигорск             ultra\n",
       "9       10     Валерий   18    Екатеринбург             ultra"
      ]
     },
     "execution_count": 4,
     "metadata": {},
     "output_type": "execute_result"
    }
   ],
   "source": [
    "df_users.head(10)"
   ]
  },
  {
   "cell_type": "code",
   "execution_count": 5,
   "id": "a96eeee3",
   "metadata": {},
   "outputs": [
    {
     "name": "stdout",
     "output_type": "stream",
     "text": [
      "<class 'pandas.core.frame.DataFrame'>\n",
      "RangeIndex: 1565 entries, 0 to 1564\n",
      "Data columns (total 5 columns):\n",
      " #   Column             Non-Null Count  Dtype \n",
      "---  ------             --------------  ----- \n",
      " 0   user_id            1565 non-null   int64 \n",
      " 1   name               1565 non-null   object\n",
      " 2   age                1565 non-null   int64 \n",
      " 3   city               1565 non-null   object\n",
      " 4   subscription_type  1565 non-null   object\n",
      "dtypes: int64(2), object(3)\n",
      "memory usage: 61.3+ KB\n"
     ]
    }
   ],
   "source": [
    "df_users.info()"
   ]
  },
  {
   "cell_type": "markdown",
   "id": "e192d5ef",
   "metadata": {},
   "source": [
    "### Общая информация о поездках"
   ]
  },
  {
   "cell_type": "code",
   "execution_count": 6,
   "id": "ad2feeb5",
   "metadata": {},
   "outputs": [
    {
     "data": {
      "text/html": [
       "<div>\n",
       "<style scoped>\n",
       "    .dataframe tbody tr th:only-of-type {\n",
       "        vertical-align: middle;\n",
       "    }\n",
       "\n",
       "    .dataframe tbody tr th {\n",
       "        vertical-align: top;\n",
       "    }\n",
       "\n",
       "    .dataframe thead th {\n",
       "        text-align: right;\n",
       "    }\n",
       "</style>\n",
       "<table border=\"1\" class=\"dataframe\">\n",
       "  <thead>\n",
       "    <tr style=\"text-align: right;\">\n",
       "      <th></th>\n",
       "      <th>user_id</th>\n",
       "      <th>distance</th>\n",
       "      <th>duration</th>\n",
       "      <th>date</th>\n",
       "    </tr>\n",
       "  </thead>\n",
       "  <tbody>\n",
       "    <tr>\n",
       "      <th>0</th>\n",
       "      <td>1</td>\n",
       "      <td>4409.919140</td>\n",
       "      <td>25.599769</td>\n",
       "      <td>2021-01-01</td>\n",
       "    </tr>\n",
       "    <tr>\n",
       "      <th>1</th>\n",
       "      <td>1</td>\n",
       "      <td>2617.592153</td>\n",
       "      <td>15.816871</td>\n",
       "      <td>2021-01-18</td>\n",
       "    </tr>\n",
       "    <tr>\n",
       "      <th>2</th>\n",
       "      <td>1</td>\n",
       "      <td>754.159807</td>\n",
       "      <td>6.232113</td>\n",
       "      <td>2021-04-20</td>\n",
       "    </tr>\n",
       "    <tr>\n",
       "      <th>3</th>\n",
       "      <td>1</td>\n",
       "      <td>2694.783254</td>\n",
       "      <td>18.511000</td>\n",
       "      <td>2021-08-11</td>\n",
       "    </tr>\n",
       "    <tr>\n",
       "      <th>4</th>\n",
       "      <td>1</td>\n",
       "      <td>4028.687306</td>\n",
       "      <td>26.265803</td>\n",
       "      <td>2021-08-28</td>\n",
       "    </tr>\n",
       "    <tr>\n",
       "      <th>5</th>\n",
       "      <td>1</td>\n",
       "      <td>2770.890808</td>\n",
       "      <td>16.650138</td>\n",
       "      <td>2021-10-09</td>\n",
       "    </tr>\n",
       "    <tr>\n",
       "      <th>6</th>\n",
       "      <td>1</td>\n",
       "      <td>3039.020292</td>\n",
       "      <td>14.927879</td>\n",
       "      <td>2021-10-19</td>\n",
       "    </tr>\n",
       "    <tr>\n",
       "      <th>7</th>\n",
       "      <td>1</td>\n",
       "      <td>2842.118050</td>\n",
       "      <td>23.117468</td>\n",
       "      <td>2021-11-06</td>\n",
       "    </tr>\n",
       "    <tr>\n",
       "      <th>8</th>\n",
       "      <td>1</td>\n",
       "      <td>3412.690668</td>\n",
       "      <td>15.238072</td>\n",
       "      <td>2021-11-14</td>\n",
       "    </tr>\n",
       "    <tr>\n",
       "      <th>9</th>\n",
       "      <td>1</td>\n",
       "      <td>748.690645</td>\n",
       "      <td>15.041884</td>\n",
       "      <td>2021-11-22</td>\n",
       "    </tr>\n",
       "  </tbody>\n",
       "</table>\n",
       "</div>"
      ],
      "text/plain": [
       "   user_id     distance   duration        date\n",
       "0        1  4409.919140  25.599769  2021-01-01\n",
       "1        1  2617.592153  15.816871  2021-01-18\n",
       "2        1   754.159807   6.232113  2021-04-20\n",
       "3        1  2694.783254  18.511000  2021-08-11\n",
       "4        1  4028.687306  26.265803  2021-08-28\n",
       "5        1  2770.890808  16.650138  2021-10-09\n",
       "6        1  3039.020292  14.927879  2021-10-19\n",
       "7        1  2842.118050  23.117468  2021-11-06\n",
       "8        1  3412.690668  15.238072  2021-11-14\n",
       "9        1   748.690645  15.041884  2021-11-22"
      ]
     },
     "execution_count": 6,
     "metadata": {},
     "output_type": "execute_result"
    }
   ],
   "source": [
    "df_riders.head(10)"
   ]
  },
  {
   "cell_type": "code",
   "execution_count": 7,
   "id": "8351a3af",
   "metadata": {},
   "outputs": [
    {
     "name": "stdout",
     "output_type": "stream",
     "text": [
      "<class 'pandas.core.frame.DataFrame'>\n",
      "RangeIndex: 18068 entries, 0 to 18067\n",
      "Data columns (total 4 columns):\n",
      " #   Column    Non-Null Count  Dtype  \n",
      "---  ------    --------------  -----  \n",
      " 0   user_id   18068 non-null  int64  \n",
      " 1   distance  18068 non-null  float64\n",
      " 2   duration  18068 non-null  float64\n",
      " 3   date      18068 non-null  object \n",
      "dtypes: float64(2), int64(1), object(1)\n",
      "memory usage: 564.8+ KB\n"
     ]
    }
   ],
   "source": [
    "df_riders.info()"
   ]
  },
  {
   "cell_type": "markdown",
   "id": "01eb000a",
   "metadata": {},
   "source": [
    "<div class=\"alert alert-success\">\n",
    "<b>Комментарий ревьюера:</b>☀️\n",
    "    \n",
    "Замечательно, что знакомишься с датафреймом выводя и несколько первых строк и обзорную информацию при помощи `info`"
   ]
  },
  {
   "cell_type": "code",
   "execution_count": 8,
   "id": "40e13104",
   "metadata": {},
   "outputs": [
    {
     "data": {
      "text/html": [
       "<div>\n",
       "<style scoped>\n",
       "    .dataframe tbody tr th:only-of-type {\n",
       "        vertical-align: middle;\n",
       "    }\n",
       "\n",
       "    .dataframe tbody tr th {\n",
       "        vertical-align: top;\n",
       "    }\n",
       "\n",
       "    .dataframe thead th {\n",
       "        text-align: right;\n",
       "    }\n",
       "</style>\n",
       "<table border=\"1\" class=\"dataframe\">\n",
       "  <thead>\n",
       "    <tr style=\"text-align: right;\">\n",
       "      <th></th>\n",
       "      <th>distance</th>\n",
       "      <th>duration</th>\n",
       "    </tr>\n",
       "  </thead>\n",
       "  <tbody>\n",
       "    <tr>\n",
       "      <th>count</th>\n",
       "      <td>18068.000000</td>\n",
       "      <td>18068.000000</td>\n",
       "    </tr>\n",
       "    <tr>\n",
       "      <th>mean</th>\n",
       "      <td>3070.659976</td>\n",
       "      <td>17.805011</td>\n",
       "    </tr>\n",
       "    <tr>\n",
       "      <th>std</th>\n",
       "      <td>1116.831209</td>\n",
       "      <td>6.091051</td>\n",
       "    </tr>\n",
       "    <tr>\n",
       "      <th>min</th>\n",
       "      <td>0.855683</td>\n",
       "      <td>0.500000</td>\n",
       "    </tr>\n",
       "    <tr>\n",
       "      <th>25%</th>\n",
       "      <td>2543.226360</td>\n",
       "      <td>13.597563</td>\n",
       "    </tr>\n",
       "    <tr>\n",
       "      <th>50%</th>\n",
       "      <td>3133.609994</td>\n",
       "      <td>17.678395</td>\n",
       "    </tr>\n",
       "    <tr>\n",
       "      <th>75%</th>\n",
       "      <td>3776.222735</td>\n",
       "      <td>21.724800</td>\n",
       "    </tr>\n",
       "    <tr>\n",
       "      <th>max</th>\n",
       "      <td>7211.007745</td>\n",
       "      <td>40.823963</td>\n",
       "    </tr>\n",
       "  </tbody>\n",
       "</table>\n",
       "</div>"
      ],
      "text/plain": [
       "           distance      duration\n",
       "count  18068.000000  18068.000000\n",
       "mean    3070.659976     17.805011\n",
       "std     1116.831209      6.091051\n",
       "min        0.855683      0.500000\n",
       "25%     2543.226360     13.597563\n",
       "50%     3133.609994     17.678395\n",
       "75%     3776.222735     21.724800\n",
       "max     7211.007745     40.823963"
      ]
     },
     "execution_count": 8,
     "metadata": {},
     "output_type": "execute_result"
    }
   ],
   "source": [
    "df_riders[['distance', 'duration']].describe()"
   ]
  },
  {
   "cell_type": "markdown",
   "id": "728317eb",
   "metadata": {},
   "source": [
    " ### Общая информация о подписках"
   ]
  },
  {
   "cell_type": "code",
   "execution_count": 9,
   "id": "2f2e084e",
   "metadata": {},
   "outputs": [
    {
     "data": {
      "text/html": [
       "<div>\n",
       "<style scoped>\n",
       "    .dataframe tbody tr th:only-of-type {\n",
       "        vertical-align: middle;\n",
       "    }\n",
       "\n",
       "    .dataframe tbody tr th {\n",
       "        vertical-align: top;\n",
       "    }\n",
       "\n",
       "    .dataframe thead th {\n",
       "        text-align: right;\n",
       "    }\n",
       "</style>\n",
       "<table border=\"1\" class=\"dataframe\">\n",
       "  <thead>\n",
       "    <tr style=\"text-align: right;\">\n",
       "      <th></th>\n",
       "      <th>subscription_type</th>\n",
       "      <th>minute_price</th>\n",
       "      <th>start_ride_price</th>\n",
       "      <th>subscription_fee</th>\n",
       "    </tr>\n",
       "  </thead>\n",
       "  <tbody>\n",
       "    <tr>\n",
       "      <th>0</th>\n",
       "      <td>free</td>\n",
       "      <td>8</td>\n",
       "      <td>50</td>\n",
       "      <td>0</td>\n",
       "    </tr>\n",
       "    <tr>\n",
       "      <th>1</th>\n",
       "      <td>ultra</td>\n",
       "      <td>6</td>\n",
       "      <td>0</td>\n",
       "      <td>199</td>\n",
       "    </tr>\n",
       "  </tbody>\n",
       "</table>\n",
       "</div>"
      ],
      "text/plain": [
       "  subscription_type  minute_price  start_ride_price  subscription_fee\n",
       "0              free             8                50                 0\n",
       "1             ultra             6                 0               199"
      ]
     },
     "execution_count": 9,
     "metadata": {},
     "output_type": "execute_result"
    }
   ],
   "source": [
    "df_subscription.head(10)"
   ]
  },
  {
   "cell_type": "code",
   "execution_count": 10,
   "id": "666bb379",
   "metadata": {},
   "outputs": [
    {
     "name": "stdout",
     "output_type": "stream",
     "text": [
      "<class 'pandas.core.frame.DataFrame'>\n",
      "RangeIndex: 2 entries, 0 to 1\n",
      "Data columns (total 4 columns):\n",
      " #   Column             Non-Null Count  Dtype \n",
      "---  ------             --------------  ----- \n",
      " 0   subscription_type  2 non-null      object\n",
      " 1   minute_price       2 non-null      int64 \n",
      " 2   start_ride_price   2 non-null      int64 \n",
      " 3   subscription_fee   2 non-null      int64 \n",
      "dtypes: int64(3), object(1)\n",
      "memory usage: 192.0+ bytes\n"
     ]
    }
   ],
   "source": [
    "df_subscription.info()"
   ]
  },
  {
   "cell_type": "markdown",
   "id": "004828bd",
   "metadata": {},
   "source": [
    "### Вывод"
   ]
  },
  {
   "cell_type": "markdown",
   "id": "a8b2b22b",
   "metadata": {},
   "source": [
    "В DataFrame **df_riders** у столбца **date**, который хранит даты совершённых поездок, неправильный тип данных. Возможно, в **df_users** в столбцах **user_id** и **city** есть дубликаты."
   ]
  },
  {
   "cell_type": "markdown",
   "id": "e95ebca7",
   "metadata": {},
   "source": [
    "## Предобработка данных"
   ]
  },
  {
   "cell_type": "code",
   "execution_count": 11,
   "id": "af6d202c",
   "metadata": {},
   "outputs": [],
   "source": [
    "df_riders['date'] = pd.to_datetime(df_riders['date'])"
   ]
  },
  {
   "cell_type": "markdown",
   "id": "00edb092",
   "metadata": {},
   "source": [
    "Изменили тип данных в столбце **date** c **object** на **datetime64**."
   ]
  },
  {
   "cell_type": "code",
   "execution_count": 12,
   "id": "4c1eb06d",
   "metadata": {},
   "outputs": [],
   "source": [
    "df_riders['month_number'] = df_riders['date'].dt.month"
   ]
  },
  {
   "cell_type": "markdown",
   "id": "c21e4508",
   "metadata": {},
   "source": [
    "Добавили в DataFrame новый столбец, который содержит номера месяцев."
   ]
  },
  {
   "cell_type": "code",
   "execution_count": 13,
   "id": "68c51041",
   "metadata": {},
   "outputs": [
    {
     "data": {
      "text/plain": [
       "user_id              0\n",
       "name                 0\n",
       "age                  0\n",
       "city                 0\n",
       "subscription_type    0\n",
       "dtype: int64"
      ]
     },
     "execution_count": 13,
     "metadata": {},
     "output_type": "execute_result"
    }
   ],
   "source": [
    "df_users.isna().sum()"
   ]
  },
  {
   "cell_type": "code",
   "execution_count": 14,
   "id": "d57008f6",
   "metadata": {},
   "outputs": [
    {
     "data": {
      "text/plain": [
       "user_id         0\n",
       "distance        0\n",
       "duration        0\n",
       "date            0\n",
       "month_number    0\n",
       "dtype: int64"
      ]
     },
     "execution_count": 14,
     "metadata": {},
     "output_type": "execute_result"
    }
   ],
   "source": [
    "df_riders.isna().sum()"
   ]
  },
  {
   "cell_type": "code",
   "execution_count": 15,
   "id": "52034f03",
   "metadata": {},
   "outputs": [
    {
     "data": {
      "text/plain": [
       "subscription_type    0\n",
       "minute_price         0\n",
       "start_ride_price     0\n",
       "subscription_fee     0\n",
       "dtype: int64"
      ]
     },
     "execution_count": 15,
     "metadata": {},
     "output_type": "execute_result"
    }
   ],
   "source": [
    "df_subscription.isna().sum()"
   ]
  },
  {
   "cell_type": "markdown",
   "id": "934b9c74",
   "metadata": {},
   "source": [
    "Пропуски отсутствуют."
   ]
  },
  {
   "cell_type": "code",
   "execution_count": 16,
   "id": "3ee9eff8",
   "metadata": {},
   "outputs": [
    {
     "data": {
      "text/plain": [
       "array(['Екатеринбург', 'Краснодар', 'Москва', 'Омск', 'Пятигорск',\n",
       "       'Ростов-на-Дону', 'Сочи', 'Тюмень'], dtype=object)"
      ]
     },
     "execution_count": 16,
     "metadata": {},
     "output_type": "execute_result"
    }
   ],
   "source": [
    "df_users['city'].sort_values().unique()"
   ]
  },
  {
   "cell_type": "markdown",
   "id": "2e080b80",
   "metadata": {},
   "source": [
    "Неявные дубликаты в названиях городов отсутствуют."
   ]
  },
  {
   "cell_type": "code",
   "execution_count": 17,
   "id": "61a49fe5",
   "metadata": {},
   "outputs": [
    {
     "data": {
      "text/plain": [
       "31"
      ]
     },
     "execution_count": 17,
     "metadata": {},
     "output_type": "execute_result"
    }
   ],
   "source": [
    "df_users.duplicated(subset='user_id').sum()"
   ]
  },
  {
   "cell_type": "markdown",
   "id": "a0dfdc18",
   "metadata": {},
   "source": [
    "<div class=\"alert alert-success\">\n",
    "<b>Комментарий ревьюера:</b>☀️\n",
    "    \n",
    "И про дубликаты не забываешь, замечательно. Но действия по первичному анализу датафреймов схожи, можно было бы функцию написать "
   ]
  },
  {
   "cell_type": "code",
   "execution_count": 18,
   "id": "f5c4a941",
   "metadata": {},
   "outputs": [],
   "source": [
    "df_users = df_users.drop_duplicates(subset=['user_id']).reset_index(drop=True)"
   ]
  },
  {
   "cell_type": "markdown",
   "id": "7e33e18e",
   "metadata": {},
   "source": [
    "Удалим дубликаты в столбце **users_id**"
   ]
  },
  {
   "cell_type": "markdown",
   "id": "212593c7",
   "metadata": {},
   "source": [
    "## Исследовательский анализ данных"
   ]
  },
  {
   "cell_type": "markdown",
   "id": "2806ce9e",
   "metadata": {},
   "source": [
    "### Частота встречаемости городов"
   ]
  },
  {
   "cell_type": "code",
   "execution_count": 19,
   "id": "e3a4274c",
   "metadata": {},
   "outputs": [
    {
     "data": {
      "image/png": "[encoded data removed]",
      "text/plain": [
       "<Figure size 504x360 with 1 Axes>"
      ]
     },
     "metadata": {
      "needs_background": "light"
     },
     "output_type": "display_data"
    }
   ],
   "source": [
    "df_users.pivot_table(\n",
    "    index='city', \n",
    "    values='user_id', \n",
    "    aggfunc='count'\n",
    ").plot(\n",
    "    kind='bar',\n",
    "    figsize=(7, 5),\n",
    "    grid=True\n",
    ")\n",
    "plt.ylabel('Количество пользователей')\n",
    "plt.xlabel('Город')\n",
    "plt.title('Частота встречаемости городов')\n",
    "plt.show()"
   ]
  },
  {
   "cell_type": "markdown",
   "id": "24b0ad04",
   "metadata": {},
   "source": [
    "<div class=\"alert alert-success\">\n",
    "<b>Комментарий ревьюера:</b>☀️\n",
    "    \n",
    "Подписи осей и заголовок - отлично, ещё можно было бы сортировать значения, так график информативнее будет и проще считывать информацию "
   ]
  },
  {
   "cell_type": "code",
   "execution_count": 20,
   "id": "2b45546f",
   "metadata": {},
   "outputs": [
    {
     "data": {
      "text/html": [
       "<div>\n",
       "<style scoped>\n",
       "    .dataframe tbody tr th:only-of-type {\n",
       "        vertical-align: middle;\n",
       "    }\n",
       "\n",
       "    .dataframe tbody tr th {\n",
       "        vertical-align: top;\n",
       "    }\n",
       "\n",
       "    .dataframe thead th {\n",
       "        text-align: right;\n",
       "    }\n",
       "</style>\n",
       "<table border=\"1\" class=\"dataframe\">\n",
       "  <thead>\n",
       "    <tr style=\"text-align: right;\">\n",
       "      <th></th>\n",
       "      <th>user_id</th>\n",
       "    </tr>\n",
       "    <tr>\n",
       "      <th>city</th>\n",
       "      <th></th>\n",
       "    </tr>\n",
       "  </thead>\n",
       "  <tbody>\n",
       "    <tr>\n",
       "      <th>Москва</th>\n",
       "      <td>168</td>\n",
       "    </tr>\n",
       "    <tr>\n",
       "      <th>Тюмень</th>\n",
       "      <td>180</td>\n",
       "    </tr>\n",
       "    <tr>\n",
       "      <th>Омск</th>\n",
       "      <td>183</td>\n",
       "    </tr>\n",
       "    <tr>\n",
       "      <th>Сочи</th>\n",
       "      <td>189</td>\n",
       "    </tr>\n",
       "    <tr>\n",
       "      <th>Краснодар</th>\n",
       "      <td>193</td>\n",
       "    </tr>\n",
       "    <tr>\n",
       "      <th>Ростов-на-Дону</th>\n",
       "      <td>198</td>\n",
       "    </tr>\n",
       "    <tr>\n",
       "      <th>Екатеринбург</th>\n",
       "      <td>204</td>\n",
       "    </tr>\n",
       "    <tr>\n",
       "      <th>Пятигорск</th>\n",
       "      <td>219</td>\n",
       "    </tr>\n",
       "  </tbody>\n",
       "</table>\n",
       "</div>"
      ],
      "text/plain": [
       "                user_id\n",
       "city                   \n",
       "Москва              168\n",
       "Тюмень              180\n",
       "Омск                183\n",
       "Сочи                189\n",
       "Краснодар           193\n",
       "Ростов-на-Дону      198\n",
       "Екатеринбург        204\n",
       "Пятигорск           219"
      ]
     },
     "execution_count": 20,
     "metadata": {},
     "output_type": "execute_result"
    }
   ],
   "source": [
    "df_users.pivot_table(\n",
    "    index='city', \n",
    "    values='user_id', \n",
    "    aggfunc='count'\n",
    ").sort_values(by='user_id')"
   ]
  },
  {
   "cell_type": "markdown",
   "id": "b6da2770",
   "metadata": {},
   "source": [
    "**Вывод:**\n",
    "\n",
    "Города в датафрейме встречаются с небольшим разбросом. Москва встречается реже всего — 168 раз. Чаще всего встречается Пятигорск — 219 раз."
   ]
  },
  {
   "cell_type": "markdown",
   "id": "113a32bc",
   "metadata": {},
   "source": [
    "###  Cоотношение пользователей с подпиской и без подписки"
   ]
  },
  {
   "cell_type": "code",
   "execution_count": 21,
   "id": "e87a203f",
   "metadata": {},
   "outputs": [
    {
     "data": {
      "image/png": "[encoded data removed]",
      "text/plain": [
       "<Figure size 504x360 with 1 Axes>"
      ]
     },
     "metadata": {
      "needs_background": "light"
     },
     "output_type": "display_data"
    }
   ],
   "source": [
    "df_users.pivot_table(\n",
    "    index='subscription_type', \n",
    "    values='user_id', \n",
    "    aggfunc='count'\n",
    ").plot(\n",
    "    kind='bar',\n",
    "    figsize=(7, 5),\n",
    "    grid=True\n",
    ")\n",
    "plt.ylabel('Количество пользователей')\n",
    "plt.xlabel('Тип подписки')\n",
    "plt.title('Cоотношение пользователей с подпиской и без подписки')\n",
    "plt.show()"
   ]
  },
  {
   "cell_type": "markdown",
   "id": "f8da261c",
   "metadata": {},
   "source": [
    "<div class=\"alert alert-success\">\n",
    "<b>Комментарий ревьюера:</b>☀️\n",
    "    \n",
    "Для разнообразия можно было бы строить круговую диаграмму"
   ]
  },
  {
   "cell_type": "code",
   "execution_count": 22,
   "id": "73afd309",
   "metadata": {},
   "outputs": [
    {
     "data": {
      "text/html": [
       "<div>\n",
       "<style scoped>\n",
       "    .dataframe tbody tr th:only-of-type {\n",
       "        vertical-align: middle;\n",
       "    }\n",
       "\n",
       "    .dataframe tbody tr th {\n",
       "        vertical-align: top;\n",
       "    }\n",
       "\n",
       "    .dataframe thead th {\n",
       "        text-align: right;\n",
       "    }\n",
       "</style>\n",
       "<table border=\"1\" class=\"dataframe\">\n",
       "  <thead>\n",
       "    <tr style=\"text-align: right;\">\n",
       "      <th></th>\n",
       "      <th>user_id</th>\n",
       "    </tr>\n",
       "    <tr>\n",
       "      <th>subscription_type</th>\n",
       "      <th></th>\n",
       "    </tr>\n",
       "  </thead>\n",
       "  <tbody>\n",
       "    <tr>\n",
       "      <th>free</th>\n",
       "      <td>835</td>\n",
       "    </tr>\n",
       "    <tr>\n",
       "      <th>ultra</th>\n",
       "      <td>699</td>\n",
       "    </tr>\n",
       "  </tbody>\n",
       "</table>\n",
       "</div>"
      ],
      "text/plain": [
       "                   user_id\n",
       "subscription_type         \n",
       "free                   835\n",
       "ultra                  699"
      ]
     },
     "execution_count": 22,
     "metadata": {},
     "output_type": "execute_result"
    }
   ],
   "source": [
    "df_users.pivot_table(\n",
    "    index='subscription_type', \n",
    "    values='user_id', \n",
    "    aggfunc='count'\n",
    ")"
   ]
  },
  {
   "cell_type": "markdown",
   "id": "cd026dcc",
   "metadata": {},
   "source": [
    "**Вывод:**\n",
    "\n",
    "В данных преобладают пользователи с бесплатной подпиской."
   ]
  },
  {
   "cell_type": "markdown",
   "id": "010606bc",
   "metadata": {},
   "source": [
    "### Возраст пользователей"
   ]
  },
  {
   "cell_type": "code",
   "execution_count": 23,
   "id": "8617334a",
   "metadata": {},
   "outputs": [
    {
     "data": {
      "text/plain": [
       "count    1534.000000\n",
       "mean       24.903520\n",
       "std         4.572367\n",
       "min        12.000000\n",
       "25%        22.000000\n",
       "50%        25.000000\n",
       "75%        28.000000\n",
       "max        43.000000\n",
       "Name: age, dtype: float64"
      ]
     },
     "execution_count": 23,
     "metadata": {},
     "output_type": "execute_result"
    }
   ],
   "source": [
    "df_users['age'].describe()"
   ]
  },
  {
   "cell_type": "code",
   "execution_count": 24,
   "id": "fd90c89d",
   "metadata": {},
   "outputs": [
    {
     "data": {
      "image/png": "[encoded data removed]",
      "text/plain": [
       "<Figure size 504x360 with 1 Axes>"
      ]
     },
     "metadata": {
      "needs_background": "light"
     },
     "output_type": "display_data"
    }
   ],
   "source": [
    "df_users['age'].hist(figsize=(7, 5))\n",
    "plt.ylabel('Количество пользователей')\n",
    "plt.xlabel('Возраст')\n",
    "plt.title('Возраст пользователей')\n",
    "plt.show()"
   ]
  },
  {
   "cell_type": "markdown",
   "id": "9a228e2b",
   "metadata": {},
   "source": [
    "<div class=\"alert alert-success\">\n",
    "<b>Комментарий ревьюера:</b>☀️\n",
    "    \n",
    "Было бы хорошо добавить акцент и на довольно юных пользователях, кстати здесь вопрос, а законадательно возможно ли это. Такие факты хорошо бы проверять, выходя чуть за рамки непосредственно задания"
   ]
  },
  {
   "cell_type": "markdown",
   "id": "a9f74a29",
   "metadata": {},
   "source": [
    "**Вывод:** \n",
    "\n",
    "Возраст пользователей в основном сосредоточен в диапазоне от 18 до 30 лет. Количество пользователей старше 40 лет минимально."
   ]
  },
  {
   "cell_type": "markdown",
   "id": "032ae579",
   "metadata": {},
   "source": [
    "### Расстояние, которое пользователь преодолел за одну поездку"
   ]
  },
  {
   "cell_type": "code",
   "execution_count": 25,
   "id": "864d5aab",
   "metadata": {},
   "outputs": [
    {
     "data": {
      "text/plain": [
       "count    18068.000000\n",
       "mean      3070.659976\n",
       "std       1116.831209\n",
       "min          0.855683\n",
       "25%       2543.226360\n",
       "50%       3133.609994\n",
       "75%       3776.222735\n",
       "max       7211.007745\n",
       "Name: distance, dtype: float64"
      ]
     },
     "execution_count": 25,
     "metadata": {},
     "output_type": "execute_result"
    }
   ],
   "source": [
    "df_riders['distance'].describe()"
   ]
  },
  {
   "cell_type": "code",
   "execution_count": 26,
   "id": "a0ddd312",
   "metadata": {},
   "outputs": [
    {
     "data": {
      "image/png": "[encoded data removed]",
      "text/plain": [
       "<Figure size 504x360 with 1 Axes>"
      ]
     },
     "metadata": {
      "needs_background": "light"
     },
     "output_type": "display_data"
    }
   ],
   "source": [
    "df_riders['distance'].hist(figsize=(7, 5))\n",
    "plt.ylabel('Частота поездок')\n",
    "plt.xlabel('Расстояние (м.)')\n",
    "plt.title('Расстояние преодоленное за одну сессию')\n",
    "plt.show()"
   ]
  },
  {
   "cell_type": "markdown",
   "id": "84a8dc33",
   "metadata": {},
   "source": [
    "<div class=\"alert alert-success\">\n",
    "<b>Комментарий ревьюера:</b>☀️\n",
    "    \n",
    "Наличие пары пиков дистанций наталкивает на мысль, что может быть несколько сценариев пользования приложением и с этими категориями стоит отдельно работать"
   ]
  },
  {
   "cell_type": "markdown",
   "id": "1b063b4b",
   "metadata": {},
   "source": [
    "**Вывод:** \n",
    "\n",
    "В основном пользователи за поездку проезжают от 2 до 5 км. Довольно редко встречаются сессии с преодолённым расстоянием более 6 км."
   ]
  },
  {
   "cell_type": "markdown",
   "id": "f69e1313",
   "metadata": {},
   "source": [
    "### Продолжительность поездок"
   ]
  },
  {
   "cell_type": "code",
   "execution_count": 27,
   "id": "a715bdd4",
   "metadata": {},
   "outputs": [
    {
     "data": {
      "text/plain": [
       "count    18068.000000\n",
       "mean        17.805011\n",
       "std          6.091051\n",
       "min          0.500000\n",
       "25%         13.597563\n",
       "50%         17.678395\n",
       "75%         21.724800\n",
       "max         40.823963\n",
       "Name: duration, dtype: float64"
      ]
     },
     "execution_count": 27,
     "metadata": {},
     "output_type": "execute_result"
    }
   ],
   "source": [
    "df_riders['duration'].describe()"
   ]
  },
  {
   "cell_type": "code",
   "execution_count": 28,
   "id": "8ffa9232",
   "metadata": {},
   "outputs": [
    {
     "data": {
      "image/png": "[encoded data removed]",
      "text/plain": [
       "<Figure size 504x360 with 1 Axes>"
      ]
     },
     "metadata": {
      "needs_background": "light"
     },
     "output_type": "display_data"
    }
   ],
   "source": [
    "df_riders['duration'].hist(figsize=(7, 5))\n",
    "plt.ylabel('Частота сессий')\n",
    "plt.xlabel('Продолжительность (мин.)')\n",
    "plt.title('Продолжительность поездок')\n",
    "plt.show()"
   ]
  },
  {
   "cell_type": "markdown",
   "id": "842f7f2b",
   "metadata": {},
   "source": [
    "<div class=\"alert alert-info\"> <b>Комментарий студента:</b> Привет! Ниже провёл дополнительный анализ.</div>"
   ]
  },
  {
   "cell_type": "code",
   "execution_count": 29,
   "id": "3e682338",
   "metadata": {},
   "outputs": [
    {
     "data": {
      "text/html": [
       "<div>\n",
       "<style scoped>\n",
       "    .dataframe tbody tr th:only-of-type {\n",
       "        vertical-align: middle;\n",
       "    }\n",
       "\n",
       "    .dataframe tbody tr th {\n",
       "        vertical-align: top;\n",
       "    }\n",
       "\n",
       "    .dataframe thead th {\n",
       "        text-align: right;\n",
       "    }\n",
       "</style>\n",
       "<table border=\"1\" class=\"dataframe\">\n",
       "  <thead>\n",
       "    <tr style=\"text-align: right;\">\n",
       "      <th></th>\n",
       "      <th>user_id</th>\n",
       "      <th>distance</th>\n",
       "      <th>duration</th>\n",
       "      <th>date</th>\n",
       "      <th>month_number</th>\n",
       "    </tr>\n",
       "  </thead>\n",
       "  <tbody>\n",
       "    <tr>\n",
       "      <th>6531</th>\n",
       "      <td>701</td>\n",
       "      <td>4196.445201</td>\n",
       "      <td>0.5</td>\n",
       "      <td>2021-08-31</td>\n",
       "      <td>8</td>\n",
       "    </tr>\n",
       "    <tr>\n",
       "      <th>6570</th>\n",
       "      <td>704</td>\n",
       "      <td>4830.824371</td>\n",
       "      <td>0.5</td>\n",
       "      <td>2021-10-14</td>\n",
       "      <td>10</td>\n",
       "    </tr>\n",
       "    <tr>\n",
       "      <th>6680</th>\n",
       "      <td>712</td>\n",
       "      <td>4684.004397</td>\n",
       "      <td>0.5</td>\n",
       "      <td>2021-03-04</td>\n",
       "      <td>3</td>\n",
       "    </tr>\n",
       "    <tr>\n",
       "      <th>6695</th>\n",
       "      <td>713</td>\n",
       "      <td>5215.642710</td>\n",
       "      <td>0.5</td>\n",
       "      <td>2021-02-25</td>\n",
       "      <td>2</td>\n",
       "    </tr>\n",
       "    <tr>\n",
       "      <th>6768</th>\n",
       "      <td>718</td>\n",
       "      <td>5197.436649</td>\n",
       "      <td>0.5</td>\n",
       "      <td>2021-02-11</td>\n",
       "      <td>2</td>\n",
       "    </tr>\n",
       "    <tr>\n",
       "      <th>...</th>\n",
       "      <td>...</td>\n",
       "      <td>...</td>\n",
       "      <td>...</td>\n",
       "      <td>...</td>\n",
       "      <td>...</td>\n",
       "    </tr>\n",
       "    <tr>\n",
       "      <th>17004</th>\n",
       "      <td>1460</td>\n",
       "      <td>5531.335845</td>\n",
       "      <td>0.5</td>\n",
       "      <td>2021-01-19</td>\n",
       "      <td>1</td>\n",
       "    </tr>\n",
       "    <tr>\n",
       "      <th>17242</th>\n",
       "      <td>1477</td>\n",
       "      <td>6724.932981</td>\n",
       "      <td>0.5</td>\n",
       "      <td>2021-01-12</td>\n",
       "      <td>1</td>\n",
       "    </tr>\n",
       "    <tr>\n",
       "      <th>17314</th>\n",
       "      <td>1483</td>\n",
       "      <td>4445.481070</td>\n",
       "      <td>0.5</td>\n",
       "      <td>2021-03-06</td>\n",
       "      <td>3</td>\n",
       "    </tr>\n",
       "    <tr>\n",
       "      <th>17505</th>\n",
       "      <td>1496</td>\n",
       "      <td>5722.551787</td>\n",
       "      <td>0.5</td>\n",
       "      <td>2021-02-14</td>\n",
       "      <td>2</td>\n",
       "    </tr>\n",
       "    <tr>\n",
       "      <th>17909</th>\n",
       "      <td>1524</td>\n",
       "      <td>4103.998874</td>\n",
       "      <td>0.5</td>\n",
       "      <td>2021-06-18</td>\n",
       "      <td>6</td>\n",
       "    </tr>\n",
       "  </tbody>\n",
       "</table>\n",
       "<p>95 rows × 5 columns</p>\n",
       "</div>"
      ],
      "text/plain": [
       "       user_id     distance  duration       date  month_number\n",
       "6531       701  4196.445201       0.5 2021-08-31             8\n",
       "6570       704  4830.824371       0.5 2021-10-14            10\n",
       "6680       712  4684.004397       0.5 2021-03-04             3\n",
       "6695       713  5215.642710       0.5 2021-02-25             2\n",
       "6768       718  5197.436649       0.5 2021-02-11             2\n",
       "...        ...          ...       ...        ...           ...\n",
       "17004     1460  5531.335845       0.5 2021-01-19             1\n",
       "17242     1477  6724.932981       0.5 2021-01-12             1\n",
       "17314     1483  4445.481070       0.5 2021-03-06             3\n",
       "17505     1496  5722.551787       0.5 2021-02-14             2\n",
       "17909     1524  4103.998874       0.5 2021-06-18             6\n",
       "\n",
       "[95 rows x 5 columns]"
      ]
     },
     "execution_count": 29,
     "metadata": {},
     "output_type": "execute_result"
    }
   ],
   "source": [
    "df_riders.query('duration < 1 and distance > 4000')"
   ]
  },
  {
   "cell_type": "markdown",
   "id": "6a1928fe",
   "metadata": {},
   "source": [
    "Анализ данных показал, что аномально короткие поездки, вероятно, вызваны сбоем в системе. Он как-то связан с продолжительностью поездки и возникает у пользователей, проехавших 4+ км. Стоит сообщить об этой ошибке ответственному лицу."
   ]
  },
  {
   "cell_type": "markdown",
   "id": "f1516f02",
   "metadata": {},
   "source": [
    "<div class=\"alert alert-warning\">\n",
    "<b>Комментарий ревьюера:</b>⛅️ \n",
    "\n",
    "Рекомендовал бы внимательнее рассмотреть поездки, которые длились до минуты, это похоже на аномалии и стоит убедиться, короткие ли это поездки или какие-то сбои логирования\n",
    "</div>"
   ]
  },
  {
   "cell_type": "markdown",
   "id": "57b500d2",
   "metadata": {},
   "source": [
    "**Вывод:** \n",
    "\n",
    "Большинство поездок приблизительно длятся от 8 до 25 минут. Количество поездок продолжительностью менее 5 минут и более 30 минут значительно меньше чем остальных. "
   ]
  },
  {
   "cell_type": "markdown",
   "id": "4ef51331",
   "metadata": {},
   "source": [
    "## Объединение данных"
   ]
  },
  {
   "cell_type": "markdown",
   "id": "62d0e217",
   "metadata": {},
   "source": [
    "###  Объединение данных о пользователях, поездках и подписках в один датафрейм"
   ]
  },
  {
   "cell_type": "code",
   "execution_count": 30,
   "id": "d32f02a1",
   "metadata": {},
   "outputs": [],
   "source": [
    "merged_df = df_riders.merge(right=df_users, on='user_id', how='left')"
   ]
  },
  {
   "cell_type": "code",
   "execution_count": 31,
   "id": "15b0bbd0",
   "metadata": {},
   "outputs": [],
   "source": [
    "merged_df = merged_df.merge(right=df_subscription, on='subscription_type', how='left')"
   ]
  },
  {
   "cell_type": "markdown",
   "id": "6c4f4786",
   "metadata": {},
   "source": [
    "<div class=\"alert alert-info\"> <b>Комментарий студента:</b> Здесь я провёл дополнительную проверку и исправил ошибку, на которую ты обратил внимание в «подсчёте выручки».</div>"
   ]
  },
  {
   "cell_type": "code",
   "execution_count": 32,
   "id": "39441878",
   "metadata": {},
   "outputs": [],
   "source": [
    "merged_df['duration'] = np.ceil(merged_df['duration'])"
   ]
  },
  {
   "cell_type": "markdown",
   "id": "7c72f6b5",
   "metadata": {},
   "source": [
    "Округлили значения в столбце duration до следующего целого числа."
   ]
  },
  {
   "cell_type": "markdown",
   "id": "4b824bdc",
   "metadata": {},
   "source": [
    "Проверим объединенный датафрейм на наличие пропусков и соответствие ожидаемому размеру."
   ]
  },
  {
   "cell_type": "code",
   "execution_count": 33,
   "id": "2ce33366",
   "metadata": {},
   "outputs": [
    {
     "data": {
      "text/plain": [
       "user_id              0\n",
       "distance             0\n",
       "duration             0\n",
       "date                 0\n",
       "month_number         0\n",
       "name                 0\n",
       "age                  0\n",
       "city                 0\n",
       "subscription_type    0\n",
       "minute_price         0\n",
       "start_ride_price     0\n",
       "subscription_fee     0\n",
       "dtype: int64"
      ]
     },
     "execution_count": 33,
     "metadata": {},
     "output_type": "execute_result"
    }
   ],
   "source": [
    "merged_df.isna().sum()"
   ]
  },
  {
   "cell_type": "code",
   "execution_count": 34,
   "id": "ca53804e",
   "metadata": {},
   "outputs": [
    {
     "name": "stdout",
     "output_type": "stream",
     "text": [
      "<class 'pandas.core.frame.DataFrame'>\n",
      "Int64Index: 18068 entries, 0 to 18067\n",
      "Data columns (total 12 columns):\n",
      " #   Column             Non-Null Count  Dtype         \n",
      "---  ------             --------------  -----         \n",
      " 0   user_id            18068 non-null  int64         \n",
      " 1   distance           18068 non-null  float64       \n",
      " 2   duration           18068 non-null  float64       \n",
      " 3   date               18068 non-null  datetime64[ns]\n",
      " 4   month_number       18068 non-null  int64         \n",
      " 5   name               18068 non-null  object        \n",
      " 6   age                18068 non-null  int64         \n",
      " 7   city               18068 non-null  object        \n",
      " 8   subscription_type  18068 non-null  object        \n",
      " 9   minute_price       18068 non-null  int64         \n",
      " 10  start_ride_price   18068 non-null  int64         \n",
      " 11  subscription_fee   18068 non-null  int64         \n",
      "dtypes: datetime64[ns](1), float64(2), int64(6), object(3)\n",
      "memory usage: 1.8+ MB\n"
     ]
    }
   ],
   "source": [
    "merged_df.info()"
   ]
  },
  {
   "cell_type": "code",
   "execution_count": 35,
   "id": "3fe6596c",
   "metadata": {},
   "outputs": [
    {
     "data": {
      "text/html": [
       "<div>\n",
       "<style scoped>\n",
       "    .dataframe tbody tr th:only-of-type {\n",
       "        vertical-align: middle;\n",
       "    }\n",
       "\n",
       "    .dataframe tbody tr th {\n",
       "        vertical-align: top;\n",
       "    }\n",
       "\n",
       "    .dataframe thead th {\n",
       "        text-align: right;\n",
       "    }\n",
       "</style>\n",
       "<table border=\"1\" class=\"dataframe\">\n",
       "  <thead>\n",
       "    <tr style=\"text-align: right;\">\n",
       "      <th></th>\n",
       "      <th>user_id</th>\n",
       "      <th>distance</th>\n",
       "      <th>duration</th>\n",
       "      <th>date</th>\n",
       "      <th>month_number</th>\n",
       "      <th>name</th>\n",
       "      <th>age</th>\n",
       "      <th>city</th>\n",
       "      <th>subscription_type</th>\n",
       "      <th>minute_price</th>\n",
       "      <th>start_ride_price</th>\n",
       "      <th>subscription_fee</th>\n",
       "    </tr>\n",
       "  </thead>\n",
       "  <tbody>\n",
       "    <tr>\n",
       "      <th>0</th>\n",
       "      <td>1</td>\n",
       "      <td>4409.919140</td>\n",
       "      <td>26.0</td>\n",
       "      <td>2021-01-01</td>\n",
       "      <td>1</td>\n",
       "      <td>Кира</td>\n",
       "      <td>22</td>\n",
       "      <td>Тюмень</td>\n",
       "      <td>ultra</td>\n",
       "      <td>6</td>\n",
       "      <td>0</td>\n",
       "      <td>199</td>\n",
       "    </tr>\n",
       "    <tr>\n",
       "      <th>1</th>\n",
       "      <td>1</td>\n",
       "      <td>2617.592153</td>\n",
       "      <td>16.0</td>\n",
       "      <td>2021-01-18</td>\n",
       "      <td>1</td>\n",
       "      <td>Кира</td>\n",
       "      <td>22</td>\n",
       "      <td>Тюмень</td>\n",
       "      <td>ultra</td>\n",
       "      <td>6</td>\n",
       "      <td>0</td>\n",
       "      <td>199</td>\n",
       "    </tr>\n",
       "    <tr>\n",
       "      <th>2</th>\n",
       "      <td>1</td>\n",
       "      <td>754.159807</td>\n",
       "      <td>7.0</td>\n",
       "      <td>2021-04-20</td>\n",
       "      <td>4</td>\n",
       "      <td>Кира</td>\n",
       "      <td>22</td>\n",
       "      <td>Тюмень</td>\n",
       "      <td>ultra</td>\n",
       "      <td>6</td>\n",
       "      <td>0</td>\n",
       "      <td>199</td>\n",
       "    </tr>\n",
       "    <tr>\n",
       "      <th>3</th>\n",
       "      <td>1</td>\n",
       "      <td>2694.783254</td>\n",
       "      <td>19.0</td>\n",
       "      <td>2021-08-11</td>\n",
       "      <td>8</td>\n",
       "      <td>Кира</td>\n",
       "      <td>22</td>\n",
       "      <td>Тюмень</td>\n",
       "      <td>ultra</td>\n",
       "      <td>6</td>\n",
       "      <td>0</td>\n",
       "      <td>199</td>\n",
       "    </tr>\n",
       "    <tr>\n",
       "      <th>4</th>\n",
       "      <td>1</td>\n",
       "      <td>4028.687306</td>\n",
       "      <td>27.0</td>\n",
       "      <td>2021-08-28</td>\n",
       "      <td>8</td>\n",
       "      <td>Кира</td>\n",
       "      <td>22</td>\n",
       "      <td>Тюмень</td>\n",
       "      <td>ultra</td>\n",
       "      <td>6</td>\n",
       "      <td>0</td>\n",
       "      <td>199</td>\n",
       "    </tr>\n",
       "    <tr>\n",
       "      <th>5</th>\n",
       "      <td>1</td>\n",
       "      <td>2770.890808</td>\n",
       "      <td>17.0</td>\n",
       "      <td>2021-10-09</td>\n",
       "      <td>10</td>\n",
       "      <td>Кира</td>\n",
       "      <td>22</td>\n",
       "      <td>Тюмень</td>\n",
       "      <td>ultra</td>\n",
       "      <td>6</td>\n",
       "      <td>0</td>\n",
       "      <td>199</td>\n",
       "    </tr>\n",
       "    <tr>\n",
       "      <th>6</th>\n",
       "      <td>1</td>\n",
       "      <td>3039.020292</td>\n",
       "      <td>15.0</td>\n",
       "      <td>2021-10-19</td>\n",
       "      <td>10</td>\n",
       "      <td>Кира</td>\n",
       "      <td>22</td>\n",
       "      <td>Тюмень</td>\n",
       "      <td>ultra</td>\n",
       "      <td>6</td>\n",
       "      <td>0</td>\n",
       "      <td>199</td>\n",
       "    </tr>\n",
       "    <tr>\n",
       "      <th>7</th>\n",
       "      <td>1</td>\n",
       "      <td>2842.118050</td>\n",
       "      <td>24.0</td>\n",
       "      <td>2021-11-06</td>\n",
       "      <td>11</td>\n",
       "      <td>Кира</td>\n",
       "      <td>22</td>\n",
       "      <td>Тюмень</td>\n",
       "      <td>ultra</td>\n",
       "      <td>6</td>\n",
       "      <td>0</td>\n",
       "      <td>199</td>\n",
       "    </tr>\n",
       "    <tr>\n",
       "      <th>8</th>\n",
       "      <td>1</td>\n",
       "      <td>3412.690668</td>\n",
       "      <td>16.0</td>\n",
       "      <td>2021-11-14</td>\n",
       "      <td>11</td>\n",
       "      <td>Кира</td>\n",
       "      <td>22</td>\n",
       "      <td>Тюмень</td>\n",
       "      <td>ultra</td>\n",
       "      <td>6</td>\n",
       "      <td>0</td>\n",
       "      <td>199</td>\n",
       "    </tr>\n",
       "    <tr>\n",
       "      <th>9</th>\n",
       "      <td>1</td>\n",
       "      <td>748.690645</td>\n",
       "      <td>16.0</td>\n",
       "      <td>2021-11-22</td>\n",
       "      <td>11</td>\n",
       "      <td>Кира</td>\n",
       "      <td>22</td>\n",
       "      <td>Тюмень</td>\n",
       "      <td>ultra</td>\n",
       "      <td>6</td>\n",
       "      <td>0</td>\n",
       "      <td>199</td>\n",
       "    </tr>\n",
       "  </tbody>\n",
       "</table>\n",
       "</div>"
      ],
      "text/plain": [
       "   user_id     distance  duration       date  month_number  name  age    city  \\\n",
       "0        1  4409.919140      26.0 2021-01-01             1  Кира   22  Тюмень   \n",
       "1        1  2617.592153      16.0 2021-01-18             1  Кира   22  Тюмень   \n",
       "2        1   754.159807       7.0 2021-04-20             4  Кира   22  Тюмень   \n",
       "3        1  2694.783254      19.0 2021-08-11             8  Кира   22  Тюмень   \n",
       "4        1  4028.687306      27.0 2021-08-28             8  Кира   22  Тюмень   \n",
       "5        1  2770.890808      17.0 2021-10-09            10  Кира   22  Тюмень   \n",
       "6        1  3039.020292      15.0 2021-10-19            10  Кира   22  Тюмень   \n",
       "7        1  2842.118050      24.0 2021-11-06            11  Кира   22  Тюмень   \n",
       "8        1  3412.690668      16.0 2021-11-14            11  Кира   22  Тюмень   \n",
       "9        1   748.690645      16.0 2021-11-22            11  Кира   22  Тюмень   \n",
       "\n",
       "  subscription_type  minute_price  start_ride_price  subscription_fee  \n",
       "0             ultra             6                 0               199  \n",
       "1             ultra             6                 0               199  \n",
       "2             ultra             6                 0               199  \n",
       "3             ultra             6                 0               199  \n",
       "4             ultra             6                 0               199  \n",
       "5             ultra             6                 0               199  \n",
       "6             ultra             6                 0               199  \n",
       "7             ultra             6                 0               199  \n",
       "8             ultra             6                 0               199  \n",
       "9             ultra             6                 0               199  "
      ]
     },
     "execution_count": 35,
     "metadata": {},
     "output_type": "execute_result"
    }
   ],
   "source": [
    "merged_df.head(10)"
   ]
  },
  {
   "cell_type": "markdown",
   "id": "fb3eb05c",
   "metadata": {},
   "source": [
    "Всё в порядке"
   ]
  },
  {
   "cell_type": "markdown",
   "id": "ca461771",
   "metadata": {},
   "source": [
    "<div class=\"alert alert-danger\">\n",
    "<b>Комментарий ревьюера:</b>☁️\n",
    "\n",
    "Прошу ещё добавить проверку, что после соединения таблиц не возникли пропуски, что размер объъединенной таблице соответствует ожиданиям\n",
    "\n",
    "</div>"
   ]
  },
  {
   "cell_type": "markdown",
   "id": "9cacdbf6",
   "metadata": {},
   "source": [
    "### Датафрейм c данными о пользователях без подписки"
   ]
  },
  {
   "cell_type": "markdown",
   "id": "0a20c219",
   "metadata": {},
   "source": [
    "Создадим новый датафрейм, в котором будет содержаться информация о пользователях без подписки."
   ]
  },
  {
   "cell_type": "code",
   "execution_count": 36,
   "id": "a54c1d64",
   "metadata": {},
   "outputs": [],
   "source": [
    "df_subscription_free = merged_df.query('subscription_type == \"free\"')"
   ]
  },
  {
   "cell_type": "markdown",
   "id": "4b3e5b96",
   "metadata": {},
   "source": [
    "### Датафрейм с данными о пользователях с подпиской"
   ]
  },
  {
   "cell_type": "markdown",
   "id": "46fb3fb2",
   "metadata": {},
   "source": [
    "Создадим новый датафрейм, в котором будет содержаться информация о пользователях с подпиской **Ultra**."
   ]
  },
  {
   "cell_type": "code",
   "execution_count": 37,
   "id": "32d1cd5b",
   "metadata": {},
   "outputs": [],
   "source": [
    "df_subscription_ultra = merged_df.query('subscription_type == \"ultra\"')"
   ]
  },
  {
   "cell_type": "markdown",
   "id": "8c725928",
   "metadata": {},
   "source": [
    "### Визуализация информации о расстоянии и времени поездок"
   ]
  },
  {
   "cell_type": "markdown",
   "id": "203c85f6",
   "metadata": {},
   "source": [
    "**Сравним на графике расстояние, которое проезжают пользователи с подпиской и без неё.**"
   ]
  },
  {
   "cell_type": "code",
   "execution_count": 38,
   "id": "5184606e",
   "metadata": {},
   "outputs": [
    {
     "data": {
      "image/png": "[encoded data removed]",
      "text/plain": [
       "<Figure size 576x432 with 1 Axes>"
      ]
     },
     "metadata": {
      "needs_background": "light"
     },
     "output_type": "display_data"
    }
   ],
   "source": [
    "ax = df_subscription_free.plot(\n",
    "    kind='hist',\n",
    "    y='distance',\n",
    "    histtype='step',\n",
    "    bins=10,\n",
    "    linewidth=5,\n",
    "    alpha=0.7,\n",
    "    label='Растояние без подписки',\n",
    "    figsize=(8, 6),\n",
    "   \n",
    ")\n",
    "df_subscription_ultra.plot(\n",
    "    kind='hist',\n",
    "    y='distance',\n",
    "    histtype='step',\n",
    "    bins=10,\n",
    "    linewidth=5,\n",
    "    alpha=0.7,\n",
    "    label='Растояние с подпиской Ultra',\n",
    "    ax=ax,\n",
    "    grid=True,\n",
    "    legend=True,\n",
    "   \n",
    ") \n",
    "plt.ylabel('Частота поездок')\n",
    "plt.xlabel('Расстояние (м.)')\n",
    "plt.show()"
   ]
  },
  {
   "cell_type": "markdown",
   "id": "32eb63fb",
   "metadata": {},
   "source": [
    "**Сравним время, которое тратят пользователи на одну сессию с подпиской и без подписки.**"
   ]
  },
  {
   "cell_type": "code",
   "execution_count": 39,
   "id": "02a25545",
   "metadata": {},
   "outputs": [
    {
     "data": {
      "image/png": "[encoded data removed]",
      "text/plain": [
       "<Figure size 576x432 with 1 Axes>"
      ]
     },
     "metadata": {
      "needs_background": "light"
     },
     "output_type": "display_data"
    }
   ],
   "source": [
    "ax = df_subscription_free.plot(\n",
    "    kind='hist',\n",
    "    y='duration',\n",
    "    histtype='step',\n",
    "    bins=10,\n",
    "    linewidth=5,\n",
    "    alpha=0.7,\n",
    "    label='Продолжительность сессии без подписки',\n",
    "    figsize=(8, 6),\n",
    "   \n",
    ")\n",
    "df_subscription_ultra.plot(\n",
    "    kind='hist',\n",
    "    y='duration',\n",
    "    histtype='step',\n",
    "    bins=10,\n",
    "    linewidth=5,\n",
    "    alpha=0.7,\n",
    "    label='Продолжительность сессии с подпиской',\n",
    "    ax=ax,\n",
    "    grid=True,\n",
    "    legend=True,\n",
    "   \n",
    ")\n",
    "plt.ylabel('Частота сессий')\n",
    "plt.xlabel('Продолжительность (мин.)')\n",
    "plt.show()"
   ]
  },
  {
   "cell_type": "markdown",
   "id": "0b760359",
   "metadata": {},
   "source": [
    "<div class=\"alert alert-success\">\n",
    "<b>Комментарий ревьюера:</b>☀️\n",
    "    \n",
    "* Отличная идея на одном графике отобразить оба тарифа, так их максимально удобно сравнивать, спасибо!\n",
    "* На графиках отлично смотрится среднее или медиана, как дополнительное опорной значение, вот [тут](https://stackoverflow.com/questions/16930328/vertical-horizontal-lines-in-matplotlib) можно посмотреть, как добавить такую визуализацию"
   ]
  },
  {
   "cell_type": "markdown",
   "id": "8325de6e",
   "metadata": {},
   "source": [
    "**Вывод:**\n",
    "\n",
    "основное количество поездок у пользователей с подпиской приходится на примерно 3–4 км, в то время как у пользователей без подписки разброс больше. Время на поездку пользователи обеих категорий тратят приблизительно одинаково. Также стоит отметить, что в данных представлено меньше пользователей с подпиской, чем без неё."
   ]
  },
  {
   "cell_type": "markdown",
   "id": "402d620f",
   "metadata": {},
   "source": [
    "## Подсчёт выручки"
   ]
  },
  {
   "cell_type": "code",
   "execution_count": 40,
   "id": "3f42b785",
   "metadata": {},
   "outputs": [
    {
     "data": {
      "text/html": [
       "<div>\n",
       "<style scoped>\n",
       "    .dataframe tbody tr th:only-of-type {\n",
       "        vertical-align: middle;\n",
       "    }\n",
       "\n",
       "    .dataframe tbody tr th {\n",
       "        vertical-align: top;\n",
       "    }\n",
       "\n",
       "    .dataframe thead th {\n",
       "        text-align: right;\n",
       "    }\n",
       "</style>\n",
       "<table border=\"1\" class=\"dataframe\">\n",
       "  <thead>\n",
       "    <tr style=\"text-align: right;\">\n",
       "      <th></th>\n",
       "      <th>user_id</th>\n",
       "      <th>month_number</th>\n",
       "      <th>total_distance</th>\n",
       "      <th>count_rides</th>\n",
       "      <th>total_duration</th>\n",
       "    </tr>\n",
       "  </thead>\n",
       "  <tbody>\n",
       "    <tr>\n",
       "      <th>0</th>\n",
       "      <td>1</td>\n",
       "      <td>1</td>\n",
       "      <td>7027.511294</td>\n",
       "      <td>2</td>\n",
       "      <td>42.0</td>\n",
       "    </tr>\n",
       "    <tr>\n",
       "      <th>1</th>\n",
       "      <td>1</td>\n",
       "      <td>4</td>\n",
       "      <td>754.159807</td>\n",
       "      <td>1</td>\n",
       "      <td>7.0</td>\n",
       "    </tr>\n",
       "    <tr>\n",
       "      <th>2</th>\n",
       "      <td>1</td>\n",
       "      <td>8</td>\n",
       "      <td>6723.470560</td>\n",
       "      <td>2</td>\n",
       "      <td>46.0</td>\n",
       "    </tr>\n",
       "    <tr>\n",
       "      <th>3</th>\n",
       "      <td>1</td>\n",
       "      <td>10</td>\n",
       "      <td>5809.911100</td>\n",
       "      <td>2</td>\n",
       "      <td>32.0</td>\n",
       "    </tr>\n",
       "    <tr>\n",
       "      <th>4</th>\n",
       "      <td>1</td>\n",
       "      <td>11</td>\n",
       "      <td>7003.499363</td>\n",
       "      <td>3</td>\n",
       "      <td>56.0</td>\n",
       "    </tr>\n",
       "    <tr>\n",
       "      <th>5</th>\n",
       "      <td>1</td>\n",
       "      <td>12</td>\n",
       "      <td>6751.629942</td>\n",
       "      <td>2</td>\n",
       "      <td>28.0</td>\n",
       "    </tr>\n",
       "    <tr>\n",
       "      <th>6</th>\n",
       "      <td>2</td>\n",
       "      <td>3</td>\n",
       "      <td>10187.723006</td>\n",
       "      <td>3</td>\n",
       "      <td>63.0</td>\n",
       "    </tr>\n",
       "    <tr>\n",
       "      <th>7</th>\n",
       "      <td>2</td>\n",
       "      <td>4</td>\n",
       "      <td>6164.381824</td>\n",
       "      <td>2</td>\n",
       "      <td>40.0</td>\n",
       "    </tr>\n",
       "    <tr>\n",
       "      <th>8</th>\n",
       "      <td>2</td>\n",
       "      <td>6</td>\n",
       "      <td>3255.338202</td>\n",
       "      <td>1</td>\n",
       "      <td>14.0</td>\n",
       "    </tr>\n",
       "    <tr>\n",
       "      <th>9</th>\n",
       "      <td>2</td>\n",
       "      <td>7</td>\n",
       "      <td>6780.722964</td>\n",
       "      <td>2</td>\n",
       "      <td>48.0</td>\n",
       "    </tr>\n",
       "  </tbody>\n",
       "</table>\n",
       "</div>"
      ],
      "text/plain": [
       "   user_id  month_number  total_distance  count_rides  total_duration\n",
       "0        1             1     7027.511294            2            42.0\n",
       "1        1             4      754.159807            1             7.0\n",
       "2        1             8     6723.470560            2            46.0\n",
       "3        1            10     5809.911100            2            32.0\n",
       "4        1            11     7003.499363            3            56.0\n",
       "5        1            12     6751.629942            2            28.0\n",
       "6        2             3    10187.723006            3            63.0\n",
       "7        2             4     6164.381824            2            40.0\n",
       "8        2             6     3255.338202            1            14.0\n",
       "9        2             7     6780.722964            2            48.0"
      ]
     },
     "execution_count": 40,
     "metadata": {},
     "output_type": "execute_result"
    }
   ],
   "source": [
    "df_revenue = merged_df.groupby(['user_id', 'month_number'])[['distance','duration']].agg(['sum', 'count'])\n",
    "#cоздаём новый датафрейм с агрегированными данными о поездках\n",
    "df_revenue.columns = ['total_distance', 'count_rides', 'total_duration', 'count']\n",
    "#переименовываем столбцы\n",
    "df_revenue.drop('count', axis=1, inplace=True)\n",
    "#удаляем дубликат столбца count_rides\n",
    "df_revenue  = df_revenue.reset_index()\n",
    "#сбрасываем индексы, чтобы получить user_id и month_number в качестве столбцов\n",
    "df_revenue.head(10)"
   ]
  },
  {
   "cell_type": "markdown",
   "id": "a5ce45f4",
   "metadata": {},
   "source": [
    "<div class=\"alert alert-danger\">\n",
    "<b>Комментарий ревьюера:</b>☁️\n",
    "\n",
    "Округление ожидалось до агрегации, ещё на этапе датафрейма `merged_df`\n",
    "</div>"
   ]
  },
  {
   "cell_type": "code",
   "execution_count": 41,
   "id": "dd584be6",
   "metadata": {},
   "outputs": [
    {
     "data": {
      "text/html": [
       "<div>\n",
       "<style scoped>\n",
       "    .dataframe tbody tr th:only-of-type {\n",
       "        vertical-align: middle;\n",
       "    }\n",
       "\n",
       "    .dataframe tbody tr th {\n",
       "        vertical-align: top;\n",
       "    }\n",
       "\n",
       "    .dataframe thead th {\n",
       "        text-align: right;\n",
       "    }\n",
       "</style>\n",
       "<table border=\"1\" class=\"dataframe\">\n",
       "  <thead>\n",
       "    <tr style=\"text-align: right;\">\n",
       "      <th></th>\n",
       "      <th>user_id</th>\n",
       "      <th>month_number</th>\n",
       "      <th>total_distance</th>\n",
       "      <th>count_rides</th>\n",
       "      <th>total_duration</th>\n",
       "      <th>subscription_type</th>\n",
       "      <th>monthly_revenue</th>\n",
       "    </tr>\n",
       "  </thead>\n",
       "  <tbody>\n",
       "    <tr>\n",
       "      <th>0</th>\n",
       "      <td>1</td>\n",
       "      <td>1</td>\n",
       "      <td>7027.511294</td>\n",
       "      <td>2</td>\n",
       "      <td>42.0</td>\n",
       "      <td>ultra</td>\n",
       "      <td>451.0</td>\n",
       "    </tr>\n",
       "    <tr>\n",
       "      <th>1</th>\n",
       "      <td>1</td>\n",
       "      <td>4</td>\n",
       "      <td>754.159807</td>\n",
       "      <td>1</td>\n",
       "      <td>7.0</td>\n",
       "      <td>ultra</td>\n",
       "      <td>241.0</td>\n",
       "    </tr>\n",
       "    <tr>\n",
       "      <th>2</th>\n",
       "      <td>1</td>\n",
       "      <td>8</td>\n",
       "      <td>6723.470560</td>\n",
       "      <td>2</td>\n",
       "      <td>46.0</td>\n",
       "      <td>ultra</td>\n",
       "      <td>475.0</td>\n",
       "    </tr>\n",
       "    <tr>\n",
       "      <th>3</th>\n",
       "      <td>1</td>\n",
       "      <td>10</td>\n",
       "      <td>5809.911100</td>\n",
       "      <td>2</td>\n",
       "      <td>32.0</td>\n",
       "      <td>ultra</td>\n",
       "      <td>391.0</td>\n",
       "    </tr>\n",
       "    <tr>\n",
       "      <th>4</th>\n",
       "      <td>1</td>\n",
       "      <td>11</td>\n",
       "      <td>7003.499363</td>\n",
       "      <td>3</td>\n",
       "      <td>56.0</td>\n",
       "      <td>ultra</td>\n",
       "      <td>535.0</td>\n",
       "    </tr>\n",
       "    <tr>\n",
       "      <th>5</th>\n",
       "      <td>1</td>\n",
       "      <td>12</td>\n",
       "      <td>6751.629942</td>\n",
       "      <td>2</td>\n",
       "      <td>28.0</td>\n",
       "      <td>ultra</td>\n",
       "      <td>367.0</td>\n",
       "    </tr>\n",
       "    <tr>\n",
       "      <th>6</th>\n",
       "      <td>2</td>\n",
       "      <td>3</td>\n",
       "      <td>10187.723006</td>\n",
       "      <td>3</td>\n",
       "      <td>63.0</td>\n",
       "      <td>ultra</td>\n",
       "      <td>577.0</td>\n",
       "    </tr>\n",
       "    <tr>\n",
       "      <th>7</th>\n",
       "      <td>2</td>\n",
       "      <td>4</td>\n",
       "      <td>6164.381824</td>\n",
       "      <td>2</td>\n",
       "      <td>40.0</td>\n",
       "      <td>ultra</td>\n",
       "      <td>439.0</td>\n",
       "    </tr>\n",
       "    <tr>\n",
       "      <th>8</th>\n",
       "      <td>2</td>\n",
       "      <td>6</td>\n",
       "      <td>3255.338202</td>\n",
       "      <td>1</td>\n",
       "      <td>14.0</td>\n",
       "      <td>ultra</td>\n",
       "      <td>283.0</td>\n",
       "    </tr>\n",
       "    <tr>\n",
       "      <th>9</th>\n",
       "      <td>2</td>\n",
       "      <td>7</td>\n",
       "      <td>6780.722964</td>\n",
       "      <td>2</td>\n",
       "      <td>48.0</td>\n",
       "      <td>ultra</td>\n",
       "      <td>487.0</td>\n",
       "    </tr>\n",
       "  </tbody>\n",
       "</table>\n",
       "</div>"
      ],
      "text/plain": [
       "   user_id  month_number  total_distance  count_rides  total_duration  \\\n",
       "0        1             1     7027.511294            2            42.0   \n",
       "1        1             4      754.159807            1             7.0   \n",
       "2        1             8     6723.470560            2            46.0   \n",
       "3        1            10     5809.911100            2            32.0   \n",
       "4        1            11     7003.499363            3            56.0   \n",
       "5        1            12     6751.629942            2            28.0   \n",
       "6        2             3    10187.723006            3            63.0   \n",
       "7        2             4     6164.381824            2            40.0   \n",
       "8        2             6     3255.338202            1            14.0   \n",
       "9        2             7     6780.722964            2            48.0   \n",
       "\n",
       "  subscription_type  monthly_revenue  \n",
       "0             ultra            451.0  \n",
       "1             ultra            241.0  \n",
       "2             ultra            475.0  \n",
       "3             ultra            391.0  \n",
       "4             ultra            535.0  \n",
       "5             ultra            367.0  \n",
       "6             ultra            577.0  \n",
       "7             ultra            439.0  \n",
       "8             ultra            283.0  \n",
       "9             ultra            487.0  "
      ]
     },
     "execution_count": 41,
     "metadata": {},
     "output_type": "execute_result"
    }
   ],
   "source": [
    "df_revenue = df_revenue.merge(right=df_users, on='user_id', how='left')\n",
    "#добавляем в df_revenue столбец subscription_type из df_users\n",
    "df_revenue.drop(['name', 'age', 'city'], axis=1, inplace=True)\n",
    "#удаляем лишние столбцы\n",
    "df_revenue = df_revenue.merge(right=df_subscription, on='subscription_type', how='left')\n",
    "#добавляем в df_revenue столбцы нужные для вычислений из df_subscription\n",
    "df_revenue['monthly_revenue'] = (\n",
    "    df_revenue['start_ride_price'] *  df_revenue['count_rides']\n",
    ") + (\n",
    "    df_revenue['minute_price'] * df_revenue['total_duration']\n",
    ") + df_revenue['subscription_fee']\n",
    "#добавляем столбец monthly_revenue, который будет хранить в себе результаты вычислений, в df_revenue и проводим вычисления \n",
    "df_revenue.drop(['minute_price', 'start_ride_price', 'subscription_fee'], axis=1, inplace=True)\n",
    "#ещё раз удаляем лишние столбцы\n",
    "df_revenue.head(10)"
   ]
  },
  {
   "cell_type": "markdown",
   "id": "41545ac0",
   "metadata": {},
   "source": [
    "## Проверка гипотез"
   ]
  },
  {
   "cell_type": "markdown",
   "id": "872256eb",
   "metadata": {},
   "source": [
    "### Тратят ли пользователи с подпиской больше времени на поездки?"
   ]
  },
  {
   "cell_type": "markdown",
   "id": "e21cec28",
   "metadata": {},
   "source": [
    "* Нулевая гипотеза: пользователи с подпиской не тратят больше времени на поездки, чем пользователи без подписки.\n",
    "\n",
    "* Альтернативная гипотеза: пользователи с подпиской тратят больше времени на поездки, чем пользователи без подписки.\n"
   ]
  },
  {
   "cell_type": "code",
   "execution_count": 42,
   "id": "9ca63176",
   "metadata": {},
   "outputs": [
    {
     "name": "stdout",
     "output_type": "stream",
     "text": [
      "p-value: 2.4959453720736625e-34\n",
      "Отвергаем нулевую гипотезу\n"
     ]
    }
   ],
   "source": [
    "alpha = 0.05\n",
    "\n",
    "first_group_ultra = df_subscription_ultra['duration']\n",
    "\n",
    "first_group_free = df_subscription_free['duration']\n",
    "\n",
    "results = st.ttest_ind(first_group_ultra, first_group_free, alternative='greater')\n",
    "\n",
    "print(f'p-value: {results.pvalue}')\n",
    "\n",
    "if results.pvalue < alpha:\n",
    "    print('Отвергаем нулевую гипотезу')\n",
    "else:\n",
    "    print('Нет оснований отвергать нулевую гипотезу')"
   ]
  },
  {
   "cell_type": "markdown",
   "id": "8dfd3e48",
   "metadata": {},
   "source": [
    "<div class=\"alert alert-success\">\n",
    "<b>Комментарий ревьюера:</b>☀️\n",
    "    \n",
    "Отлично, что формулируешь нулевую, альтернативную гипотезу, это важно, выводы верны, ещё могу порекомендовать дополнительно проверять себя и выводить среднее проверяемых переменных или распределения"
   ]
  },
  {
   "cell_type": "markdown",
   "id": "2662820a",
   "metadata": {},
   "source": [
    "**Вывод:**\n",
    "\n",
    "Гипотезу о том, что пользователи с подпиской тратят больше времени на поездки, мы не можем отвергнуть."
   ]
  },
  {
   "cell_type": "markdown",
   "id": "0faff180",
   "metadata": {},
   "source": [
    "### Cреднее расстояние, которое проезжают пользователи с подпиской за одну поездку"
   ]
  },
  {
   "cell_type": "markdown",
   "id": "6bf52605",
   "metadata": {},
   "source": [
    "* Нулевая гипотеза: пользователи с подпиской проезжают в среднем  3130 метров.\n",
    "\n",
    "* Альтернативная гипотеза: пользователи с подпиской проезжают в среднем больше 3130 метров."
   ]
  },
  {
   "cell_type": "code",
   "execution_count": 43,
   "id": "cb4dcd24",
   "metadata": {},
   "outputs": [
    {
     "name": "stdout",
     "output_type": "stream",
     "text": [
      "p-value: 0.9195368847849785\n",
      "Нет оснований отвергать нулевую гипотезу\n"
     ]
    }
   ],
   "source": [
    "alpha = 0.05\n",
    "\n",
    "interested_value = 3130\n",
    "\n",
    "first_group_ultra = df_subscription_ultra['distance']\n",
    "\n",
    "results = st.ttest_1samp(first_group_ultra, interested_value, alternative='greater')\n",
    "\n",
    "print(f'p-value: {results.pvalue}')\n",
    "\n",
    "if results.pvalue < alpha:\n",
    "    print('Отвергаем нулевую гипотезу')\n",
    "else:\n",
    "    print('Нет оснований отвергать нулевую гипотезу')"
   ]
  },
  {
   "cell_type": "markdown",
   "id": "ac5fdff6",
   "metadata": {},
   "source": [
    "<div class=\"alert alert-success\">\n",
    "<b>Комментарий ревьюера:</b>☀️\n",
    "    \n",
    "Бизнес может спать спокойно, с износом всё в порядке"
   ]
  },
  {
   "cell_type": "markdown",
   "id": "5fe6c6be",
   "metadata": {},
   "source": [
    "**Вывод:**\n",
    "\n",
    "мы не можем отвергнуть нулевую гипотезу о том, что пользователи с подпиской проезжают в среднем 3130 метров."
   ]
  },
  {
   "cell_type": "markdown",
   "id": "ffe705ea",
   "metadata": {},
   "source": [
    "### Будет ли помесячная выручка от пользователей с подпиской по месяцам выше"
   ]
  },
  {
   "cell_type": "markdown",
   "id": "d43d4984",
   "metadata": {},
   "source": [
    "* Нулевая гипотеза: помесячная выручка от пользователей с подпиской по месяцам такая же как от пользователей без подписки.\n",
    "\n",
    "* Альтернативная гипотеза: помесячная выручка от пользователей с подпиской по месяцам больше, чем выручка от пользователей без подписки."
   ]
  },
  {
   "cell_type": "code",
   "execution_count": 44,
   "id": "8c774a50",
   "metadata": {},
   "outputs": [
    {
     "name": "stdout",
     "output_type": "stream",
     "text": [
      "p-value: 8.517956987709186e-13\n",
      "Отвергаем нулевую гипотезу\n"
     ]
    }
   ],
   "source": [
    "alpha = 0.05\n",
    "\n",
    "first_group_ultra_revenue = (\n",
    "    df_revenue.query('subscription_type == \"ultra\"')\n",
    "    .groupby('month_number')['monthly_revenue']\n",
    "    .agg('mean')\n",
    ")\n",
    "\n",
    "first_group_free_revenue = (\n",
    "    df_revenue.query('subscription_type == \"free\"')\n",
    "    .groupby('month_number')['monthly_revenue']\n",
    "    .agg('mean')\n",
    ")\n",
    "\n",
    "results = st.ttest_ind(first_group_ultra_revenue, first_group_free_revenue, alternative='greater')\n",
    "\n",
    "print(f'p-value: {results.pvalue}')\n",
    "\n",
    "if results.pvalue < alpha:\n",
    "    print('Отвергаем нулевую гипотезу')\n",
    "else:\n",
    "    print('Нет оснований отвергать нулевую гипотезу')"
   ]
  },
  {
   "cell_type": "markdown",
   "id": "6f05bf68",
   "metadata": {},
   "source": [
    "**Вывод:** \n",
    "\n",
    "Мы не можем отвергнуть гипотезу о том, что помесячная выручка от пользователей с подпиской по месяцам превышает выручку от пользователей без подписки."
   ]
  },
  {
   "cell_type": "markdown",
   "id": "00638b7d",
   "metadata": {},
   "source": [
    "### Различия между двумя выборками до и после обновления."
   ]
  },
  {
   "cell_type": "markdown",
   "id": "badd2374",
   "metadata": {},
   "source": [
    "Чтобы проверить эту гипотезу, нам нужен двухвыборочный t-тест для зависимых выборок. У нас есть данные о количестве обращений одного и того же пользователя до и после обновления серверов. Это делает выборки зависимыми. Также мы хотим выяснить, есть ли статистически значимая разница в среднем количестве обращений до и после обновления."
   ]
  },
  {
   "cell_type": "markdown",
   "id": "2f52efd2",
   "metadata": {},
   "source": [
    "<div class=\"alert alert-success\">\n",
    "<b>Комментарий ревьюера:</b>☀️\n",
    "    \n",
    "Как будет звучать альтернативная гипотеза? "
   ]
  },
  {
   "cell_type": "markdown",
   "id": "61213c5e",
   "metadata": {},
   "source": [
    "## Общий вывод"
   ]
  },
  {
   "cell_type": "markdown",
   "id": "c43b0996",
   "metadata": {},
   "source": [
    "<div class=\"alert alert-danger\">\n",
    "<b>Комментарий ревьюера:</b>☁️\n",
    "\n",
    "Вывода не хватило\n",
    "</div>"
   ]
  },
  {
   "cell_type": "markdown",
   "id": "c21e5d72",
   "metadata": {},
   "source": [
    "<div class=\"alert alert-info\"> <b>Комментарий студента:</b> Добавил общий вывод, которого не было в первой версии проекта.</div>"
   ]
  },
  {
   "cell_type": "markdown",
   "id": "5d828afa",
   "metadata": {},
   "source": [
    "В ходе учебного проекта по исследованию сервиса аренды самокатов GoFast мы провели исследовательский анализ, который показал, что:\n",
    "\n",
    "* города в представленных данных встречаются с минимальным разбросом, однако Москва встречается реже всего, а Пятигорск — чаще всего.\n",
    "\n",
    "* В данных преобладают пользователи без подписки. В основном возраст пользователей сервиса находится в диапазоне от 18 до 30 лет, медианное значение — 25.\n",
    "\n",
    "* Пользователи проезжают на самокатах в среднем от 2 до 5 км, а поездки длятся в основном от 8 до 25 минут.\n",
    "\n",
    "Также в рамках статистического анализа мы проверили некоторые гипотезы и вот к чему пришли:\n",
    "\n",
    "* Мы не смогли опровергнуть гипотезу о том, что пользователи с подпиской тратят больше времени, чем без неё.\n",
    "\n",
    "* Также не смогли отвергнуть гипотезу о том, что пользователи с подпиской проезжают в среднем 3130 метров.\n",
    "\n",
    "* Не смогли опровергнуть гипотезу, что средняя выручка по месяцам от пользователей с подпиской больше, чем без неё."
   ]
  },
  {
   "cell_type": "code",
   "execution_count": null,
   "id": "07e10ee4",
   "metadata": {},
   "outputs": [],
   "source": []
  }
 ],
 "metadata": {
  "ExecuteTimeLog": [
   {
    "duration": 53,
    "start_time": "2024-08-15T11:51:55.434Z"
   },
   {
    "duration": 415,
    "start_time": "2024-08-15T11:51:57.397Z"
   },
   {
    "duration": 369,
    "start_time": "2024-08-15T11:51:58.447Z"
   },
   {
    "duration": 83,
    "start_time": "2024-08-15T11:52:24.747Z"
   },
   {
    "duration": 432,
    "start_time": "2024-08-15T12:41:04.795Z"
   },
   {
    "duration": 3,
    "start_time": "2024-08-15T12:41:54.868Z"
   },
   {
    "duration": 15,
    "start_time": "2024-08-15T12:45:55.376Z"
   },
   {
    "duration": 3,
    "start_time": "2024-08-15T12:46:58.184Z"
   },
   {
    "duration": 8,
    "start_time": "2024-08-15T12:47:01.396Z"
   },
   {
    "duration": 12,
    "start_time": "2024-08-15T12:47:53.983Z"
   },
   {
    "duration": 16,
    "start_time": "2024-08-15T12:49:12.691Z"
   },
   {
    "duration": 7,
    "start_time": "2024-08-15T12:49:25.685Z"
   },
   {
    "duration": 7,
    "start_time": "2024-08-15T12:51:01.483Z"
   },
   {
    "duration": 2553,
    "start_time": "2024-08-15T12:53:39.553Z"
   },
   {
    "duration": 2620,
    "start_time": "2024-08-15T12:54:04.325Z"
   },
   {
    "duration": 155,
    "start_time": "2024-08-15T12:54:18.713Z"
   },
   {
    "duration": 245,
    "start_time": "2024-08-15T12:54:51.073Z"
   },
   {
    "duration": 138,
    "start_time": "2024-08-15T12:55:03.375Z"
   },
   {
    "duration": 165,
    "start_time": "2024-08-15T12:55:20.121Z"
   },
   {
    "duration": 182,
    "start_time": "2024-08-15T12:55:28.045Z"
   },
   {
    "duration": 266,
    "start_time": "2024-08-15T12:55:44.704Z"
   },
   {
    "duration": 447,
    "start_time": "2024-08-15T12:57:12.091Z"
   },
   {
    "duration": 165,
    "start_time": "2024-08-15T12:58:02.203Z"
   },
   {
    "duration": 148,
    "start_time": "2024-08-15T12:58:09.785Z"
   },
   {
    "duration": 127,
    "start_time": "2024-08-15T12:58:16.785Z"
   },
   {
    "duration": 142,
    "start_time": "2024-08-15T12:58:22.264Z"
   },
   {
    "duration": 139,
    "start_time": "2024-08-15T12:58:30.134Z"
   },
   {
    "duration": 10,
    "start_time": "2024-08-15T12:59:01.594Z"
   },
   {
    "duration": 14,
    "start_time": "2024-08-15T12:59:41.193Z"
   },
   {
    "duration": 19,
    "start_time": "2024-08-15T13:00:45.044Z"
   },
   {
    "duration": 17,
    "start_time": "2024-08-15T13:01:53.563Z"
   },
   {
    "duration": 213,
    "start_time": "2024-08-15T13:02:40.704Z"
   },
   {
    "duration": 208,
    "start_time": "2024-08-15T13:02:53.354Z"
   },
   {
    "duration": 7,
    "start_time": "2024-08-15T13:05:35.685Z"
   },
   {
    "duration": 11,
    "start_time": "2024-08-15T13:06:42.865Z"
   },
   {
    "duration": 10,
    "start_time": "2024-08-15T13:28:19.571Z"
   },
   {
    "duration": 7,
    "start_time": "2024-08-15T13:28:36.954Z"
   },
   {
    "duration": 8,
    "start_time": "2024-08-15T13:28:49.217Z"
   },
   {
    "duration": 8,
    "start_time": "2024-08-15T13:30:31.890Z"
   },
   {
    "duration": 6,
    "start_time": "2024-08-15T13:30:41.012Z"
   },
   {
    "duration": 40,
    "start_time": "2024-08-15T13:31:21.983Z"
   },
   {
    "duration": 9,
    "start_time": "2024-08-15T13:31:25.763Z"
   },
   {
    "duration": 10,
    "start_time": "2024-08-15T13:31:32.892Z"
   },
   {
    "duration": 11,
    "start_time": "2024-08-15T13:31:36.084Z"
   },
   {
    "duration": 12,
    "start_time": "2024-08-15T13:31:42.205Z"
   },
   {
    "duration": 6,
    "start_time": "2024-08-15T13:39:32.293Z"
   },
   {
    "duration": 8,
    "start_time": "2024-08-15T13:39:39.124Z"
   },
   {
    "duration": 5,
    "start_time": "2024-08-15T13:40:52.294Z"
   },
   {
    "duration": 51,
    "start_time": "2024-08-15T17:17:28.346Z"
   },
   {
    "duration": 890,
    "start_time": "2024-08-15T17:17:32.481Z"
   },
   {
    "duration": 306,
    "start_time": "2024-08-15T17:17:33.373Z"
   },
   {
    "duration": 3,
    "start_time": "2024-08-15T17:17:33.681Z"
   },
   {
    "duration": 28,
    "start_time": "2024-08-15T17:17:33.686Z"
   },
   {
    "duration": 12,
    "start_time": "2024-08-15T17:17:33.717Z"
   },
   {
    "duration": 9,
    "start_time": "2024-08-15T17:17:33.731Z"
   },
   {
    "duration": 230,
    "start_time": "2024-08-15T17:17:33.742Z"
   },
   {
    "duration": 9,
    "start_time": "2024-08-15T17:17:33.973Z"
   },
   {
    "duration": 46,
    "start_time": "2024-08-15T17:17:33.984Z"
   },
   {
    "duration": 18,
    "start_time": "2024-08-15T17:17:34.032Z"
   },
   {
    "duration": 217,
    "start_time": "2024-08-15T17:17:34.051Z"
   },
   {
    "duration": 8,
    "start_time": "2024-08-15T17:17:34.269Z"
   },
   {
    "duration": 11,
    "start_time": "2024-08-15T17:17:34.279Z"
   },
   {
    "duration": 8,
    "start_time": "2024-08-15T17:17:34.307Z"
   },
   {
    "duration": 6,
    "start_time": "2024-08-15T17:17:34.316Z"
   },
   {
    "duration": 9,
    "start_time": "2024-08-15T17:17:34.324Z"
   },
   {
    "duration": 8,
    "start_time": "2024-08-15T17:18:05.023Z"
   },
   {
    "duration": 6,
    "start_time": "2024-08-15T17:18:34.262Z"
   },
   {
    "duration": 6,
    "start_time": "2024-08-15T17:19:59.568Z"
   },
   {
    "duration": 8,
    "start_time": "2024-08-15T17:21:15.983Z"
   },
   {
    "duration": 74,
    "start_time": "2024-08-15T17:22:10.733Z"
   },
   {
    "duration": 8,
    "start_time": "2024-08-15T17:28:07.877Z"
   },
   {
    "duration": 744,
    "start_time": "2024-08-16T10:03:51.529Z"
   },
   {
    "duration": 368,
    "start_time": "2024-08-16T10:03:52.276Z"
   },
   {
    "duration": 4,
    "start_time": "2024-08-16T10:03:52.645Z"
   },
   {
    "duration": 18,
    "start_time": "2024-08-16T10:03:52.651Z"
   },
   {
    "duration": 12,
    "start_time": "2024-08-16T10:03:52.672Z"
   },
   {
    "duration": 17,
    "start_time": "2024-08-16T10:03:52.686Z"
   },
   {
    "duration": 48,
    "start_time": "2024-08-16T10:03:52.705Z"
   },
   {
    "duration": 13,
    "start_time": "2024-08-16T10:03:52.755Z"
   },
   {
    "duration": 17,
    "start_time": "2024-08-16T10:03:52.770Z"
   },
   {
    "duration": 7,
    "start_time": "2024-08-16T10:03:52.789Z"
   },
   {
    "duration": 15,
    "start_time": "2024-08-16T10:03:52.798Z"
   },
   {
    "duration": 26,
    "start_time": "2024-08-16T10:03:52.815Z"
   },
   {
    "duration": 9,
    "start_time": "2024-08-16T10:03:52.842Z"
   },
   {
    "duration": 18,
    "start_time": "2024-08-16T10:03:52.854Z"
   },
   {
    "duration": 38,
    "start_time": "2024-08-16T10:03:52.874Z"
   },
   {
    "duration": 16,
    "start_time": "2024-08-16T10:03:52.914Z"
   },
   {
    "duration": 6,
    "start_time": "2024-08-16T10:03:52.932Z"
   },
   {
    "duration": 20414,
    "start_time": "2024-08-16T10:05:10.979Z"
   },
   {
    "duration": 13,
    "start_time": "2024-08-16T10:07:28.597Z"
   },
   {
    "duration": 140,
    "start_time": "2024-08-16T10:07:47.698Z"
   },
   {
    "duration": 11,
    "start_time": "2024-08-16T10:08:22.028Z"
   },
   {
    "duration": 144,
    "start_time": "2024-08-16T10:10:13.767Z"
   },
   {
    "duration": 183,
    "start_time": "2024-08-16T10:10:43.308Z"
   },
   {
    "duration": 122,
    "start_time": "2024-08-16T10:11:27.566Z"
   },
   {
    "duration": 111,
    "start_time": "2024-08-16T10:11:31.947Z"
   },
   {
    "duration": 137,
    "start_time": "2024-08-16T10:11:40.418Z"
   },
   {
    "duration": 135,
    "start_time": "2024-08-16T10:11:50.827Z"
   },
   {
    "duration": 137,
    "start_time": "2024-08-16T10:12:41.655Z"
   },
   {
    "duration": 138,
    "start_time": "2024-08-16T10:13:04.881Z"
   },
   {
    "duration": 152,
    "start_time": "2024-08-16T10:16:09.361Z"
   },
   {
    "duration": 157,
    "start_time": "2024-08-16T10:16:38.567Z"
   },
   {
    "duration": 153,
    "start_time": "2024-08-16T10:17:08.848Z"
   },
   {
    "duration": 155,
    "start_time": "2024-08-16T10:18:37.799Z"
   },
   {
    "duration": 83,
    "start_time": "2024-08-16T10:29:19.347Z"
   },
   {
    "duration": 13,
    "start_time": "2024-08-16T10:30:09.998Z"
   },
   {
    "duration": 12,
    "start_time": "2024-08-16T10:30:29.604Z"
   },
   {
    "duration": 14,
    "start_time": "2024-08-16T10:32:15.917Z"
   },
   {
    "duration": 12,
    "start_time": "2024-08-16T10:32:38.058Z"
   },
   {
    "duration": 13,
    "start_time": "2024-08-16T10:32:51.426Z"
   },
   {
    "duration": 144,
    "start_time": "2024-08-16T10:43:52.977Z"
   },
   {
    "duration": 13,
    "start_time": "2024-08-16T10:44:21.783Z"
   },
   {
    "duration": 151,
    "start_time": "2024-08-16T10:47:29.121Z"
   },
   {
    "duration": 169,
    "start_time": "2024-08-16T10:47:39.271Z"
   },
   {
    "duration": 5,
    "start_time": "2024-08-16T10:50:36.059Z"
   },
   {
    "duration": 7,
    "start_time": "2024-08-16T10:51:18.394Z"
   },
   {
    "duration": 5,
    "start_time": "2024-08-16T10:51:26.123Z"
   },
   {
    "duration": 4,
    "start_time": "2024-08-16T10:52:03.459Z"
   },
   {
    "duration": 4,
    "start_time": "2024-08-16T10:53:01.148Z"
   },
   {
    "duration": 8,
    "start_time": "2024-08-16T10:58:39.769Z"
   },
   {
    "duration": 5,
    "start_time": "2024-08-16T10:58:50.312Z"
   },
   {
    "duration": 10,
    "start_time": "2024-08-16T10:59:01.569Z"
   },
   {
    "duration": 598,
    "start_time": "2024-08-16T11:02:18.840Z"
   },
   {
    "duration": 74,
    "start_time": "2024-08-16T11:02:19.439Z"
   },
   {
    "duration": 3,
    "start_time": "2024-08-16T11:02:19.514Z"
   },
   {
    "duration": 28,
    "start_time": "2024-08-16T11:02:19.519Z"
   },
   {
    "duration": 16,
    "start_time": "2024-08-16T11:02:19.550Z"
   },
   {
    "duration": 35,
    "start_time": "2024-08-16T11:02:19.568Z"
   },
   {
    "duration": 11,
    "start_time": "2024-08-16T11:02:19.604Z"
   },
   {
    "duration": 10,
    "start_time": "2024-08-16T11:02:19.617Z"
   },
   {
    "duration": 16,
    "start_time": "2024-08-16T11:02:19.629Z"
   },
   {
    "duration": 7,
    "start_time": "2024-08-16T11:02:19.646Z"
   },
   {
    "duration": 27,
    "start_time": "2024-08-16T11:02:19.655Z"
   },
   {
    "duration": 25,
    "start_time": "2024-08-16T11:02:19.683Z"
   },
   {
    "duration": 20,
    "start_time": "2024-08-16T11:02:19.710Z"
   },
   {
    "duration": 13,
    "start_time": "2024-08-16T11:02:19.732Z"
   },
   {
    "duration": 13,
    "start_time": "2024-08-16T11:02:19.747Z"
   },
   {
    "duration": 8,
    "start_time": "2024-08-16T11:02:19.762Z"
   },
   {
    "duration": 42,
    "start_time": "2024-08-16T11:02:19.771Z"
   },
   {
    "duration": 8,
    "start_time": "2024-08-16T11:02:19.814Z"
   },
   {
    "duration": 13,
    "start_time": "2024-08-16T11:02:19.824Z"
   },
   {
    "duration": 244,
    "start_time": "2024-08-16T11:02:19.838Z"
   },
   {
    "duration": 13,
    "start_time": "2024-08-16T11:02:20.083Z"
   },
   {
    "duration": 197,
    "start_time": "2024-08-16T11:02:20.097Z"
   },
   {
    "duration": 12,
    "start_time": "2024-08-16T11:02:20.295Z"
   },
   {
    "duration": 16,
    "start_time": "2024-08-16T11:02:20.308Z"
   },
   {
    "duration": 11,
    "start_time": "2024-08-16T11:04:18.701Z"
   },
   {
    "duration": 4,
    "start_time": "2024-08-16T11:05:05.529Z"
   },
   {
    "duration": 596,
    "start_time": "2024-08-16T11:05:11.228Z"
   },
   {
    "duration": 72,
    "start_time": "2024-08-16T11:05:11.826Z"
   },
   {
    "duration": 3,
    "start_time": "2024-08-16T11:05:11.900Z"
   },
   {
    "duration": 32,
    "start_time": "2024-08-16T11:05:11.904Z"
   },
   {
    "duration": 5,
    "start_time": "2024-08-16T11:05:11.938Z"
   },
   {
    "duration": 20,
    "start_time": "2024-08-16T11:05:11.944Z"
   },
   {
    "duration": 17,
    "start_time": "2024-08-16T11:05:11.966Z"
   },
   {
    "duration": 16,
    "start_time": "2024-08-16T11:05:11.985Z"
   },
   {
    "duration": 10,
    "start_time": "2024-08-16T11:05:12.002Z"
   },
   {
    "duration": 17,
    "start_time": "2024-08-16T11:05:12.014Z"
   },
   {
    "duration": 18,
    "start_time": "2024-08-16T11:05:12.033Z"
   },
   {
    "duration": 6,
    "start_time": "2024-08-16T11:05:12.052Z"
   },
   {
    "duration": 30,
    "start_time": "2024-08-16T11:05:12.060Z"
   },
   {
    "duration": 8,
    "start_time": "2024-08-16T11:05:12.092Z"
   },
   {
    "duration": 15,
    "start_time": "2024-08-16T11:05:12.102Z"
   },
   {
    "duration": 7,
    "start_time": "2024-08-16T11:05:12.119Z"
   },
   {
    "duration": 29,
    "start_time": "2024-08-16T11:05:12.128Z"
   },
   {
    "duration": 6,
    "start_time": "2024-08-16T11:05:12.159Z"
   },
   {
    "duration": 27,
    "start_time": "2024-08-16T11:05:12.166Z"
   },
   {
    "duration": 36,
    "start_time": "2024-08-16T11:05:12.194Z"
   },
   {
    "duration": 31,
    "start_time": "2024-08-16T11:05:12.232Z"
   },
   {
    "duration": 187,
    "start_time": "2024-08-16T11:05:12.265Z"
   },
   {
    "duration": 12,
    "start_time": "2024-08-16T11:05:12.454Z"
   },
   {
    "duration": 173,
    "start_time": "2024-08-16T11:05:12.468Z"
   },
   {
    "duration": 12,
    "start_time": "2024-08-16T11:05:12.643Z"
   },
   {
    "duration": 2,
    "start_time": "2024-08-16T11:10:09.006Z"
   },
   {
    "duration": 606,
    "start_time": "2024-08-16T12:22:25.690Z"
   },
   {
    "duration": 72,
    "start_time": "2024-08-16T12:22:26.298Z"
   },
   {
    "duration": 3,
    "start_time": "2024-08-16T12:22:26.372Z"
   },
   {
    "duration": 14,
    "start_time": "2024-08-16T12:22:26.376Z"
   },
   {
    "duration": 23,
    "start_time": "2024-08-16T12:22:26.391Z"
   },
   {
    "duration": 11,
    "start_time": "2024-08-16T12:22:26.416Z"
   },
   {
    "duration": 9,
    "start_time": "2024-08-16T12:22:26.429Z"
   },
   {
    "duration": 11,
    "start_time": "2024-08-16T12:22:26.440Z"
   },
   {
    "duration": 40,
    "start_time": "2024-08-16T12:22:26.453Z"
   },
   {
    "duration": 7,
    "start_time": "2024-08-16T12:22:26.495Z"
   },
   {
    "duration": 14,
    "start_time": "2024-08-16T12:22:26.503Z"
   },
   {
    "duration": 13,
    "start_time": "2024-08-16T12:22:26.518Z"
   },
   {
    "duration": 12,
    "start_time": "2024-08-16T12:22:26.533Z"
   },
   {
    "duration": 6,
    "start_time": "2024-08-16T12:22:26.546Z"
   },
   {
    "duration": 24,
    "start_time": "2024-08-16T12:22:26.553Z"
   },
   {
    "duration": 6,
    "start_time": "2024-08-16T12:22:26.579Z"
   },
   {
    "duration": 31,
    "start_time": "2024-08-16T12:22:26.587Z"
   },
   {
    "duration": 10,
    "start_time": "2024-08-16T12:22:26.619Z"
   },
   {
    "duration": 26,
    "start_time": "2024-08-16T12:22:26.630Z"
   },
   {
    "duration": 188,
    "start_time": "2024-08-16T12:22:26.658Z"
   },
   {
    "duration": 12,
    "start_time": "2024-08-16T12:22:26.848Z"
   },
   {
    "duration": 165,
    "start_time": "2024-08-16T12:22:26.861Z"
   },
   {
    "duration": 10,
    "start_time": "2024-08-16T12:22:27.028Z"
   },
   {
    "duration": 9,
    "start_time": "2024-08-16T12:25:37.344Z"
   },
   {
    "duration": 6,
    "start_time": "2024-08-16T12:25:51.608Z"
   },
   {
    "duration": 5,
    "start_time": "2024-08-16T12:26:09.013Z"
   },
   {
    "duration": 635,
    "start_time": "2024-08-16T12:26:14.471Z"
   },
   {
    "duration": 72,
    "start_time": "2024-08-16T12:26:15.108Z"
   },
   {
    "duration": 3,
    "start_time": "2024-08-16T12:26:15.183Z"
   },
   {
    "duration": 32,
    "start_time": "2024-08-16T12:26:15.188Z"
   },
   {
    "duration": 25,
    "start_time": "2024-08-16T12:26:15.221Z"
   },
   {
    "duration": 62,
    "start_time": "2024-08-16T12:26:15.247Z"
   },
   {
    "duration": 17,
    "start_time": "2024-08-16T12:26:15.310Z"
   },
   {
    "duration": 36,
    "start_time": "2024-08-16T12:26:15.329Z"
   },
   {
    "duration": 17,
    "start_time": "2024-08-16T12:26:15.367Z"
   },
   {
    "duration": 25,
    "start_time": "2024-08-16T12:26:15.386Z"
   },
   {
    "duration": 6,
    "start_time": "2024-08-16T12:26:15.413Z"
   },
   {
    "duration": 30,
    "start_time": "2024-08-16T12:26:15.420Z"
   },
   {
    "duration": 7,
    "start_time": "2024-08-16T12:26:15.451Z"
   },
   {
    "duration": 5,
    "start_time": "2024-08-16T12:26:15.460Z"
   },
   {
    "duration": 6,
    "start_time": "2024-08-16T12:26:15.466Z"
   },
   {
    "duration": 12,
    "start_time": "2024-08-16T12:26:15.473Z"
   },
   {
    "duration": 6,
    "start_time": "2024-08-16T12:26:15.486Z"
   },
   {
    "duration": 12,
    "start_time": "2024-08-16T12:26:15.493Z"
   },
   {
    "duration": 19,
    "start_time": "2024-08-16T12:26:15.507Z"
   },
   {
    "duration": 6,
    "start_time": "2024-08-16T12:26:15.527Z"
   },
   {
    "duration": 176,
    "start_time": "2024-08-16T12:26:15.534Z"
   },
   {
    "duration": 12,
    "start_time": "2024-08-16T12:26:15.712Z"
   },
   {
    "duration": 159,
    "start_time": "2024-08-16T12:26:15.725Z"
   },
   {
    "duration": 14,
    "start_time": "2024-08-16T12:26:15.885Z"
   },
   {
    "duration": 7,
    "start_time": "2024-08-16T12:26:38.181Z"
   },
   {
    "duration": 13,
    "start_time": "2024-08-16T12:28:48.591Z"
   },
   {
    "duration": 10,
    "start_time": "2024-08-16T12:28:58.129Z"
   },
   {
    "duration": 77,
    "start_time": "2024-08-16T12:29:06.106Z"
   },
   {
    "duration": 28,
    "start_time": "2024-08-16T12:29:12.973Z"
   },
   {
    "duration": 7,
    "start_time": "2024-08-16T12:29:23.910Z"
   },
   {
    "duration": 7,
    "start_time": "2024-08-16T12:32:44.330Z"
   },
   {
    "duration": 5,
    "start_time": "2024-08-16T12:33:02.030Z"
   },
   {
    "duration": 612,
    "start_time": "2024-08-16T12:33:08.309Z"
   },
   {
    "duration": 74,
    "start_time": "2024-08-16T12:33:08.922Z"
   },
   {
    "duration": 3,
    "start_time": "2024-08-16T12:33:08.998Z"
   },
   {
    "duration": 12,
    "start_time": "2024-08-16T12:33:09.002Z"
   },
   {
    "duration": 10,
    "start_time": "2024-08-16T12:33:09.016Z"
   },
   {
    "duration": 32,
    "start_time": "2024-08-16T12:33:09.027Z"
   },
   {
    "duration": 21,
    "start_time": "2024-08-16T12:33:09.060Z"
   },
   {
    "duration": 29,
    "start_time": "2024-08-16T12:33:09.082Z"
   },
   {
    "duration": 22,
    "start_time": "2024-08-16T12:33:09.113Z"
   },
   {
    "duration": 25,
    "start_time": "2024-08-16T12:33:09.136Z"
   },
   {
    "duration": 7,
    "start_time": "2024-08-16T12:33:09.163Z"
   },
   {
    "duration": 13,
    "start_time": "2024-08-16T12:33:09.171Z"
   },
   {
    "duration": 36,
    "start_time": "2024-08-16T12:33:09.185Z"
   },
   {
    "duration": 14,
    "start_time": "2024-08-16T12:33:09.224Z"
   },
   {
    "duration": 13,
    "start_time": "2024-08-16T12:33:09.239Z"
   },
   {
    "duration": 16,
    "start_time": "2024-08-16T12:33:09.253Z"
   },
   {
    "duration": 5,
    "start_time": "2024-08-16T12:33:09.270Z"
   },
   {
    "duration": 21,
    "start_time": "2024-08-16T12:33:09.276Z"
   },
   {
    "duration": 5,
    "start_time": "2024-08-16T12:33:09.299Z"
   },
   {
    "duration": 16,
    "start_time": "2024-08-16T12:33:09.305Z"
   },
   {
    "duration": 178,
    "start_time": "2024-08-16T12:33:09.322Z"
   },
   {
    "duration": 12,
    "start_time": "2024-08-16T12:33:09.502Z"
   },
   {
    "duration": 149,
    "start_time": "2024-08-16T12:33:09.516Z"
   },
   {
    "duration": 19,
    "start_time": "2024-08-16T12:33:09.667Z"
   },
   {
    "duration": 577,
    "start_time": "2024-08-16T12:34:20.840Z"
   },
   {
    "duration": 73,
    "start_time": "2024-08-16T12:34:21.419Z"
   },
   {
    "duration": 2,
    "start_time": "2024-08-16T12:34:21.494Z"
   },
   {
    "duration": 739,
    "start_time": "2024-08-16T12:34:21.499Z"
   },
   {
    "duration": 0,
    "start_time": "2024-08-16T12:34:22.240Z"
   },
   {
    "duration": 0,
    "start_time": "2024-08-16T12:34:22.241Z"
   },
   {
    "duration": 0,
    "start_time": "2024-08-16T12:34:22.242Z"
   },
   {
    "duration": 0,
    "start_time": "2024-08-16T12:34:22.243Z"
   },
   {
    "duration": 0,
    "start_time": "2024-08-16T12:34:22.244Z"
   },
   {
    "duration": 0,
    "start_time": "2024-08-16T12:34:22.246Z"
   },
   {
    "duration": 0,
    "start_time": "2024-08-16T12:34:22.247Z"
   },
   {
    "duration": 0,
    "start_time": "2024-08-16T12:34:22.248Z"
   },
   {
    "duration": 0,
    "start_time": "2024-08-16T12:34:22.249Z"
   },
   {
    "duration": 0,
    "start_time": "2024-08-16T12:34:22.250Z"
   },
   {
    "duration": 0,
    "start_time": "2024-08-16T12:34:22.251Z"
   },
   {
    "duration": 0,
    "start_time": "2024-08-16T12:34:22.252Z"
   },
   {
    "duration": 0,
    "start_time": "2024-08-16T12:34:22.253Z"
   },
   {
    "duration": 0,
    "start_time": "2024-08-16T12:34:22.254Z"
   },
   {
    "duration": 0,
    "start_time": "2024-08-16T12:34:22.255Z"
   },
   {
    "duration": 0,
    "start_time": "2024-08-16T12:34:22.256Z"
   },
   {
    "duration": 0,
    "start_time": "2024-08-16T12:34:22.257Z"
   },
   {
    "duration": 0,
    "start_time": "2024-08-16T12:34:22.258Z"
   },
   {
    "duration": 0,
    "start_time": "2024-08-16T12:34:22.259Z"
   },
   {
    "duration": 0,
    "start_time": "2024-08-16T12:34:22.260Z"
   },
   {
    "duration": 604,
    "start_time": "2024-08-16T12:34:37.906Z"
   },
   {
    "duration": 73,
    "start_time": "2024-08-16T12:34:38.511Z"
   },
   {
    "duration": 3,
    "start_time": "2024-08-16T12:34:38.586Z"
   },
   {
    "duration": 17,
    "start_time": "2024-08-16T12:34:38.591Z"
   },
   {
    "duration": 9,
    "start_time": "2024-08-16T12:34:38.610Z"
   },
   {
    "duration": 15,
    "start_time": "2024-08-16T12:34:38.620Z"
   },
   {
    "duration": 13,
    "start_time": "2024-08-16T12:34:38.636Z"
   },
   {
    "duration": 10,
    "start_time": "2024-08-16T12:34:38.651Z"
   },
   {
    "duration": 48,
    "start_time": "2024-08-16T12:34:38.662Z"
   },
   {
    "duration": 16,
    "start_time": "2024-08-16T12:34:38.712Z"
   },
   {
    "duration": 6,
    "start_time": "2024-08-16T12:34:38.730Z"
   },
   {
    "duration": 9,
    "start_time": "2024-08-16T12:34:38.738Z"
   },
   {
    "duration": 7,
    "start_time": "2024-08-16T12:34:38.748Z"
   },
   {
    "duration": 5,
    "start_time": "2024-08-16T12:34:38.756Z"
   },
   {
    "duration": 20,
    "start_time": "2024-08-16T12:34:38.763Z"
   },
   {
    "duration": 7,
    "start_time": "2024-08-16T12:34:38.784Z"
   },
   {
    "duration": 23,
    "start_time": "2024-08-16T12:34:38.792Z"
   },
   {
    "duration": 8,
    "start_time": "2024-08-16T12:34:38.817Z"
   },
   {
    "duration": 8,
    "start_time": "2024-08-16T12:34:38.826Z"
   },
   {
    "duration": 5,
    "start_time": "2024-08-16T12:34:38.835Z"
   },
   {
    "duration": 181,
    "start_time": "2024-08-16T12:34:38.841Z"
   },
   {
    "duration": 12,
    "start_time": "2024-08-16T12:34:39.023Z"
   },
   {
    "duration": 150,
    "start_time": "2024-08-16T12:34:39.036Z"
   },
   {
    "duration": 11,
    "start_time": "2024-08-16T12:34:39.187Z"
   },
   {
    "duration": 676,
    "start_time": "2024-08-16T12:36:11.951Z"
   },
   {
    "duration": 79,
    "start_time": "2024-08-16T12:36:12.632Z"
   },
   {
    "duration": 3,
    "start_time": "2024-08-16T12:36:12.713Z"
   },
   {
    "duration": 35,
    "start_time": "2024-08-16T12:36:12.718Z"
   },
   {
    "duration": 37,
    "start_time": "2024-08-16T12:36:12.756Z"
   },
   {
    "duration": 10,
    "start_time": "2024-08-16T12:36:12.794Z"
   },
   {
    "duration": 23,
    "start_time": "2024-08-16T12:36:12.805Z"
   },
   {
    "duration": 31,
    "start_time": "2024-08-16T12:36:12.830Z"
   },
   {
    "duration": 24,
    "start_time": "2024-08-16T12:36:12.863Z"
   },
   {
    "duration": 25,
    "start_time": "2024-08-16T12:36:12.889Z"
   },
   {
    "duration": 44,
    "start_time": "2024-08-16T12:36:12.916Z"
   },
   {
    "duration": 26,
    "start_time": "2024-08-16T12:36:12.962Z"
   },
   {
    "duration": 21,
    "start_time": "2024-08-16T12:36:12.990Z"
   },
   {
    "duration": 15,
    "start_time": "2024-08-16T12:36:13.015Z"
   },
   {
    "duration": 35,
    "start_time": "2024-08-16T12:36:13.031Z"
   },
   {
    "duration": 27,
    "start_time": "2024-08-16T12:36:13.068Z"
   },
   {
    "duration": 8,
    "start_time": "2024-08-16T12:36:13.096Z"
   },
   {
    "duration": 11,
    "start_time": "2024-08-16T12:36:13.106Z"
   },
   {
    "duration": 7,
    "start_time": "2024-08-16T12:36:13.119Z"
   },
   {
    "duration": 15,
    "start_time": "2024-08-16T12:36:13.128Z"
   },
   {
    "duration": 19,
    "start_time": "2024-08-16T12:36:13.144Z"
   },
   {
    "duration": 208,
    "start_time": "2024-08-16T12:36:13.165Z"
   },
   {
    "duration": 21,
    "start_time": "2024-08-16T12:36:13.375Z"
   },
   {
    "duration": 155,
    "start_time": "2024-08-16T12:36:13.398Z"
   },
   {
    "duration": 11,
    "start_time": "2024-08-16T12:36:13.555Z"
   },
   {
    "duration": 639,
    "start_time": "2024-08-16T12:40:35.750Z"
   },
   {
    "duration": 72,
    "start_time": "2024-08-16T12:40:36.391Z"
   },
   {
    "duration": 3,
    "start_time": "2024-08-16T12:40:36.465Z"
   },
   {
    "duration": 20,
    "start_time": "2024-08-16T12:40:36.470Z"
   },
   {
    "duration": 47,
    "start_time": "2024-08-16T12:40:36.492Z"
   },
   {
    "duration": 27,
    "start_time": "2024-08-16T12:40:36.541Z"
   },
   {
    "duration": 16,
    "start_time": "2024-08-16T12:40:36.570Z"
   },
   {
    "duration": 32,
    "start_time": "2024-08-16T12:40:36.588Z"
   },
   {
    "duration": 28,
    "start_time": "2024-08-16T12:40:36.622Z"
   },
   {
    "duration": 22,
    "start_time": "2024-08-16T12:40:36.652Z"
   },
   {
    "duration": 36,
    "start_time": "2024-08-16T12:40:36.676Z"
   },
   {
    "duration": 14,
    "start_time": "2024-08-16T12:40:36.714Z"
   },
   {
    "duration": 45,
    "start_time": "2024-08-16T12:40:36.730Z"
   },
   {
    "duration": 44,
    "start_time": "2024-08-16T12:40:36.778Z"
   },
   {
    "duration": 28,
    "start_time": "2024-08-16T12:40:36.823Z"
   },
   {
    "duration": 28,
    "start_time": "2024-08-16T12:40:36.853Z"
   },
   {
    "duration": 21,
    "start_time": "2024-08-16T12:40:36.883Z"
   },
   {
    "duration": 27,
    "start_time": "2024-08-16T12:40:36.905Z"
   },
   {
    "duration": 18,
    "start_time": "2024-08-16T12:40:36.934Z"
   },
   {
    "duration": 193,
    "start_time": "2024-08-16T12:40:36.954Z"
   },
   {
    "duration": 11,
    "start_time": "2024-08-16T12:40:37.148Z"
   },
   {
    "duration": 163,
    "start_time": "2024-08-16T12:40:37.161Z"
   },
   {
    "duration": 11,
    "start_time": "2024-08-16T12:40:37.326Z"
   },
   {
    "duration": 153,
    "start_time": "2024-08-16T12:42:42.961Z"
   },
   {
    "duration": 133,
    "start_time": "2024-08-16T12:43:16.161Z"
   },
   {
    "duration": 213,
    "start_time": "2024-08-16T12:45:11.560Z"
   },
   {
    "duration": 6,
    "start_time": "2024-08-16T12:51:35.008Z"
   },
   {
    "duration": 623,
    "start_time": "2024-08-16T12:52:35.777Z"
   },
   {
    "duration": 74,
    "start_time": "2024-08-16T12:52:36.402Z"
   },
   {
    "duration": 3,
    "start_time": "2024-08-16T12:52:36.477Z"
   },
   {
    "duration": 15,
    "start_time": "2024-08-16T12:52:36.482Z"
   },
   {
    "duration": 10,
    "start_time": "2024-08-16T12:52:36.498Z"
   },
   {
    "duration": 21,
    "start_time": "2024-08-16T12:52:36.510Z"
   },
   {
    "duration": 15,
    "start_time": "2024-08-16T12:52:36.532Z"
   },
   {
    "duration": 26,
    "start_time": "2024-08-16T12:52:36.549Z"
   },
   {
    "duration": 24,
    "start_time": "2024-08-16T12:52:36.577Z"
   },
   {
    "duration": 12,
    "start_time": "2024-08-16T12:52:36.604Z"
   },
   {
    "duration": 11,
    "start_time": "2024-08-16T12:52:36.617Z"
   },
   {
    "duration": 21,
    "start_time": "2024-08-16T12:52:36.629Z"
   },
   {
    "duration": 4,
    "start_time": "2024-08-16T12:52:36.652Z"
   },
   {
    "duration": 10,
    "start_time": "2024-08-16T12:52:36.657Z"
   },
   {
    "duration": 5,
    "start_time": "2024-08-16T12:52:36.669Z"
   },
   {
    "duration": 14,
    "start_time": "2024-08-16T12:52:36.675Z"
   },
   {
    "duration": 6,
    "start_time": "2024-08-16T12:52:36.691Z"
   },
   {
    "duration": 6,
    "start_time": "2024-08-16T12:52:36.698Z"
   },
   {
    "duration": 17,
    "start_time": "2024-08-16T12:52:36.705Z"
   },
   {
    "duration": 181,
    "start_time": "2024-08-16T12:52:36.723Z"
   },
   {
    "duration": 12,
    "start_time": "2024-08-16T12:52:36.906Z"
   },
   {
    "duration": 154,
    "start_time": "2024-08-16T12:52:36.920Z"
   },
   {
    "duration": 12,
    "start_time": "2024-08-16T12:52:37.076Z"
   },
   {
    "duration": 154,
    "start_time": "2024-08-16T12:52:37.090Z"
   },
   {
    "duration": 122,
    "start_time": "2024-08-16T12:59:59.919Z"
   },
   {
    "duration": 232,
    "start_time": "2024-08-16T13:00:42.828Z"
   },
   {
    "duration": 258,
    "start_time": "2024-08-16T13:00:53.054Z"
   },
   {
    "duration": 125,
    "start_time": "2024-08-16T13:01:07.490Z"
   },
   {
    "duration": 144,
    "start_time": "2024-08-16T13:04:18.544Z"
   },
   {
    "duration": 140,
    "start_time": "2024-08-16T13:08:11.958Z"
   },
   {
    "duration": 139,
    "start_time": "2024-08-16T13:08:32.303Z"
   },
   {
    "duration": 10,
    "start_time": "2024-08-16T13:10:28.813Z"
   },
   {
    "duration": 131,
    "start_time": "2024-08-16T13:16:32.819Z"
   },
   {
    "duration": 145,
    "start_time": "2024-08-16T13:17:08.074Z"
   },
   {
    "duration": 137,
    "start_time": "2024-08-16T13:19:10.911Z"
   },
   {
    "duration": 11,
    "start_time": "2024-08-16T13:21:09.953Z"
   },
   {
    "duration": 839,
    "start_time": "2024-08-16T15:24:44.968Z"
   },
   {
    "duration": 308,
    "start_time": "2024-08-16T15:24:45.809Z"
   },
   {
    "duration": 3,
    "start_time": "2024-08-16T15:24:46.119Z"
   },
   {
    "duration": 12,
    "start_time": "2024-08-16T15:24:46.124Z"
   },
   {
    "duration": 12,
    "start_time": "2024-08-16T15:24:46.137Z"
   },
   {
    "duration": 10,
    "start_time": "2024-08-16T15:24:46.150Z"
   },
   {
    "duration": 10,
    "start_time": "2024-08-16T15:24:46.161Z"
   },
   {
    "duration": 13,
    "start_time": "2024-08-16T15:24:46.172Z"
   },
   {
    "duration": 20,
    "start_time": "2024-08-16T15:24:46.205Z"
   },
   {
    "duration": 48,
    "start_time": "2024-08-16T15:24:46.228Z"
   },
   {
    "duration": 14,
    "start_time": "2024-08-16T15:24:46.278Z"
   },
   {
    "duration": 9,
    "start_time": "2024-08-16T15:24:46.294Z"
   },
   {
    "duration": 12,
    "start_time": "2024-08-16T15:24:46.305Z"
   },
   {
    "duration": 21,
    "start_time": "2024-08-16T15:24:46.319Z"
   },
   {
    "duration": 8,
    "start_time": "2024-08-16T15:24:46.342Z"
   },
   {
    "duration": 7,
    "start_time": "2024-08-16T15:24:46.352Z"
   },
   {
    "duration": 28,
    "start_time": "2024-08-16T15:24:46.361Z"
   },
   {
    "duration": 7,
    "start_time": "2024-08-16T15:24:46.392Z"
   },
   {
    "duration": 10,
    "start_time": "2024-08-16T15:24:46.404Z"
   },
   {
    "duration": 212,
    "start_time": "2024-08-16T15:24:46.415Z"
   },
   {
    "duration": 13,
    "start_time": "2024-08-16T15:24:46.629Z"
   },
   {
    "duration": 188,
    "start_time": "2024-08-16T15:24:46.644Z"
   },
   {
    "duration": 12,
    "start_time": "2024-08-16T15:24:46.834Z"
   },
   {
    "duration": 190,
    "start_time": "2024-08-16T15:24:46.849Z"
   },
   {
    "duration": 9,
    "start_time": "2024-08-16T15:24:47.041Z"
   },
   {
    "duration": 170,
    "start_time": "2024-08-16T15:24:47.051Z"
   },
   {
    "duration": 8,
    "start_time": "2024-08-16T15:24:47.223Z"
   },
   {
    "duration": 218,
    "start_time": "2024-08-16T15:24:47.234Z"
   },
   {
    "duration": 19,
    "start_time": "2024-08-16T16:38:23.123Z"
   },
   {
    "duration": 23,
    "start_time": "2024-08-16T16:38:31.771Z"
   },
   {
    "duration": 64,
    "start_time": "2024-08-16T16:41:09.932Z"
   },
   {
    "duration": 10,
    "start_time": "2024-08-16T16:41:45.041Z"
   },
   {
    "duration": 31,
    "start_time": "2024-08-16T16:41:55.391Z"
   },
   {
    "duration": 27,
    "start_time": "2024-08-16T16:47:41.816Z"
   },
   {
    "duration": 9,
    "start_time": "2024-08-16T16:48:08.132Z"
   },
   {
    "duration": 7,
    "start_time": "2024-08-16T16:48:42.340Z"
   },
   {
    "duration": 9,
    "start_time": "2024-08-16T16:48:48.198Z"
   },
   {
    "duration": 6,
    "start_time": "2024-08-16T16:48:53.443Z"
   },
   {
    "duration": 9,
    "start_time": "2024-08-16T16:52:19.013Z"
   },
   {
    "duration": 6,
    "start_time": "2024-08-16T16:54:19.796Z"
   },
   {
    "duration": 851,
    "start_time": "2024-08-17T09:55:17.389Z"
   },
   {
    "duration": 295,
    "start_time": "2024-08-17T09:55:18.242Z"
   },
   {
    "duration": 3,
    "start_time": "2024-08-17T09:55:18.539Z"
   },
   {
    "duration": 13,
    "start_time": "2024-08-17T09:55:18.544Z"
   },
   {
    "duration": 11,
    "start_time": "2024-08-17T09:55:18.558Z"
   },
   {
    "duration": 9,
    "start_time": "2024-08-17T09:55:18.570Z"
   },
   {
    "duration": 8,
    "start_time": "2024-08-17T09:55:18.580Z"
   },
   {
    "duration": 15,
    "start_time": "2024-08-17T09:55:18.589Z"
   },
   {
    "duration": 15,
    "start_time": "2024-08-17T09:55:18.606Z"
   },
   {
    "duration": 6,
    "start_time": "2024-08-17T09:55:18.624Z"
   },
   {
    "duration": 66,
    "start_time": "2024-08-17T09:55:18.631Z"
   },
   {
    "duration": 7,
    "start_time": "2024-08-17T09:55:18.699Z"
   },
   {
    "duration": 5,
    "start_time": "2024-08-17T09:55:18.707Z"
   },
   {
    "duration": 5,
    "start_time": "2024-08-17T09:55:18.713Z"
   },
   {
    "duration": 5,
    "start_time": "2024-08-17T09:55:18.720Z"
   },
   {
    "duration": 5,
    "start_time": "2024-08-17T09:55:18.727Z"
   },
   {
    "duration": 5,
    "start_time": "2024-08-17T09:55:18.734Z"
   },
   {
    "duration": 10,
    "start_time": "2024-08-17T09:55:18.741Z"
   },
   {
    "duration": 14,
    "start_time": "2024-08-17T09:55:18.752Z"
   },
   {
    "duration": 195,
    "start_time": "2024-08-17T09:55:18.767Z"
   },
   {
    "duration": 12,
    "start_time": "2024-08-17T09:55:18.964Z"
   },
   {
    "duration": 164,
    "start_time": "2024-08-17T09:55:18.978Z"
   },
   {
    "duration": 12,
    "start_time": "2024-08-17T09:55:19.143Z"
   },
   {
    "duration": 168,
    "start_time": "2024-08-17T09:55:19.165Z"
   },
   {
    "duration": 10,
    "start_time": "2024-08-17T09:55:19.334Z"
   },
   {
    "duration": 176,
    "start_time": "2024-08-17T09:55:19.346Z"
   },
   {
    "duration": 10,
    "start_time": "2024-08-17T09:55:19.524Z"
   },
   {
    "duration": 240,
    "start_time": "2024-08-17T09:55:19.538Z"
   },
   {
    "duration": 12,
    "start_time": "2024-08-17T09:55:19.780Z"
   },
   {
    "duration": 11,
    "start_time": "2024-08-17T09:55:19.794Z"
   },
   {
    "duration": 78,
    "start_time": "2024-08-17T09:55:19.806Z"
   },
   {
    "duration": 6,
    "start_time": "2024-08-17T09:55:19.886Z"
   },
   {
    "duration": 2,
    "start_time": "2024-08-17T09:57:12.732Z"
   },
   {
    "duration": 650,
    "start_time": "2024-08-17T09:57:16.956Z"
   },
   {
    "duration": 69,
    "start_time": "2024-08-17T09:57:17.608Z"
   },
   {
    "duration": 3,
    "start_time": "2024-08-17T09:57:17.679Z"
   },
   {
    "duration": 13,
    "start_time": "2024-08-17T09:57:17.685Z"
   },
   {
    "duration": 11,
    "start_time": "2024-08-17T09:57:17.699Z"
   },
   {
    "duration": 9,
    "start_time": "2024-08-17T09:57:17.712Z"
   },
   {
    "duration": 9,
    "start_time": "2024-08-17T09:57:17.723Z"
   },
   {
    "duration": 38,
    "start_time": "2024-08-17T09:57:17.734Z"
   },
   {
    "duration": 18,
    "start_time": "2024-08-17T09:57:17.774Z"
   },
   {
    "duration": 7,
    "start_time": "2024-08-17T09:57:17.795Z"
   },
   {
    "duration": 97,
    "start_time": "2024-08-17T09:57:17.803Z"
   },
   {
    "duration": 31,
    "start_time": "2024-08-17T09:57:17.902Z"
   },
   {
    "duration": 7,
    "start_time": "2024-08-17T09:57:17.935Z"
   },
   {
    "duration": 7,
    "start_time": "2024-08-17T09:57:17.944Z"
   },
   {
    "duration": 7,
    "start_time": "2024-08-17T09:57:17.953Z"
   },
   {
    "duration": 10,
    "start_time": "2024-08-17T09:57:17.962Z"
   },
   {
    "duration": 9,
    "start_time": "2024-08-17T09:57:17.973Z"
   },
   {
    "duration": 6,
    "start_time": "2024-08-17T09:57:17.984Z"
   },
   {
    "duration": 5,
    "start_time": "2024-08-17T09:57:17.991Z"
   },
   {
    "duration": 202,
    "start_time": "2024-08-17T09:57:17.998Z"
   },
   {
    "duration": 13,
    "start_time": "2024-08-17T09:57:18.202Z"
   },
   {
    "duration": 172,
    "start_time": "2024-08-17T09:57:18.217Z"
   },
   {
    "duration": 12,
    "start_time": "2024-08-17T09:57:18.391Z"
   },
   {
    "duration": 174,
    "start_time": "2024-08-17T09:57:18.405Z"
   },
   {
    "duration": 10,
    "start_time": "2024-08-17T09:57:18.581Z"
   },
   {
    "duration": 181,
    "start_time": "2024-08-17T09:57:18.593Z"
   },
   {
    "duration": 10,
    "start_time": "2024-08-17T09:57:18.776Z"
   },
   {
    "duration": 216,
    "start_time": "2024-08-17T09:57:18.790Z"
   },
   {
    "duration": 10,
    "start_time": "2024-08-17T09:57:19.008Z"
   },
   {
    "duration": 11,
    "start_time": "2024-08-17T09:57:19.019Z"
   },
   {
    "duration": 9,
    "start_time": "2024-08-17T09:57:19.031Z"
   },
   {
    "duration": 27,
    "start_time": "2024-08-17T09:57:19.042Z"
   },
   {
    "duration": 6,
    "start_time": "2024-08-17T10:12:06.371Z"
   },
   {
    "duration": 71,
    "start_time": "2024-08-17T10:14:02.890Z"
   },
   {
    "duration": 668,
    "start_time": "2024-08-17T10:14:18.081Z"
   },
   {
    "duration": 580,
    "start_time": "2024-08-17T10:17:54.221Z"
   },
   {
    "duration": 71,
    "start_time": "2024-08-17T10:17:54.803Z"
   },
   {
    "duration": 3,
    "start_time": "2024-08-17T10:17:54.875Z"
   },
   {
    "duration": 14,
    "start_time": "2024-08-17T10:17:54.880Z"
   },
   {
    "duration": 16,
    "start_time": "2024-08-17T10:17:54.896Z"
   },
   {
    "duration": 13,
    "start_time": "2024-08-17T10:17:54.913Z"
   },
   {
    "duration": 12,
    "start_time": "2024-08-17T10:17:54.928Z"
   },
   {
    "duration": 24,
    "start_time": "2024-08-17T10:17:54.941Z"
   },
   {
    "duration": 16,
    "start_time": "2024-08-17T10:17:54.967Z"
   },
   {
    "duration": 7,
    "start_time": "2024-08-17T10:17:54.986Z"
   },
   {
    "duration": 9,
    "start_time": "2024-08-17T10:17:54.995Z"
   },
   {
    "duration": 7,
    "start_time": "2024-08-17T10:17:55.006Z"
   },
   {
    "duration": 5,
    "start_time": "2024-08-17T10:17:55.015Z"
   },
   {
    "duration": 6,
    "start_time": "2024-08-17T10:17:55.021Z"
   },
   {
    "duration": 7,
    "start_time": "2024-08-17T10:17:55.065Z"
   },
   {
    "duration": 6,
    "start_time": "2024-08-17T10:17:55.073Z"
   },
   {
    "duration": 10,
    "start_time": "2024-08-17T10:17:55.080Z"
   },
   {
    "duration": 5,
    "start_time": "2024-08-17T10:17:55.092Z"
   },
   {
    "duration": 4,
    "start_time": "2024-08-17T10:17:55.098Z"
   },
   {
    "duration": 230,
    "start_time": "2024-08-17T10:17:55.104Z"
   },
   {
    "duration": 13,
    "start_time": "2024-08-17T10:17:55.336Z"
   },
   {
    "duration": 177,
    "start_time": "2024-08-17T10:17:55.351Z"
   },
   {
    "duration": 11,
    "start_time": "2024-08-17T10:17:55.530Z"
   },
   {
    "duration": 170,
    "start_time": "2024-08-17T10:17:55.543Z"
   },
   {
    "duration": 8,
    "start_time": "2024-08-17T10:17:55.715Z"
   },
   {
    "duration": 185,
    "start_time": "2024-08-17T10:17:55.725Z"
   },
   {
    "duration": 7,
    "start_time": "2024-08-17T10:17:55.912Z"
   },
   {
    "duration": 207,
    "start_time": "2024-08-17T10:17:55.922Z"
   },
   {
    "duration": 10,
    "start_time": "2024-08-17T10:17:56.130Z"
   },
   {
    "duration": 27,
    "start_time": "2024-08-17T10:17:56.141Z"
   },
   {
    "duration": 8,
    "start_time": "2024-08-17T10:17:56.170Z"
   },
   {
    "duration": 6,
    "start_time": "2024-08-17T10:17:56.180Z"
   },
   {
    "duration": 8,
    "start_time": "2024-08-17T10:17:56.187Z"
   },
   {
    "duration": 128,
    "start_time": "2024-08-17T10:18:20.288Z"
   },
   {
    "duration": 118,
    "start_time": "2024-08-17T10:21:57.352Z"
   },
   {
    "duration": 9,
    "start_time": "2024-08-17T10:25:06.851Z"
   },
   {
    "duration": 14,
    "start_time": "2024-08-17T10:25:14.841Z"
   },
   {
    "duration": 130,
    "start_time": "2024-08-17T10:25:22.690Z"
   },
   {
    "duration": 172,
    "start_time": "2024-08-17T10:32:54.644Z"
   },
   {
    "duration": 212,
    "start_time": "2024-08-17T10:33:56.168Z"
   },
   {
    "duration": 156,
    "start_time": "2024-08-17T10:34:04.302Z"
   },
   {
    "duration": 158,
    "start_time": "2024-08-17T10:36:22.197Z"
   },
   {
    "duration": 161,
    "start_time": "2024-08-17T10:36:54.977Z"
   },
   {
    "duration": 161,
    "start_time": "2024-08-17T10:38:06.710Z"
   },
   {
    "duration": 176,
    "start_time": "2024-08-17T10:38:17.808Z"
   },
   {
    "duration": 208,
    "start_time": "2024-08-17T10:38:28.877Z"
   },
   {
    "duration": 230,
    "start_time": "2024-08-17T10:38:54.566Z"
   },
   {
    "duration": 159,
    "start_time": "2024-08-17T10:39:14.272Z"
   },
   {
    "duration": 155,
    "start_time": "2024-08-17T10:39:34.128Z"
   },
   {
    "duration": 177,
    "start_time": "2024-08-17T10:41:19.083Z"
   },
   {
    "duration": 155,
    "start_time": "2024-08-17T10:41:34.108Z"
   },
   {
    "duration": 199,
    "start_time": "2024-08-17T10:41:49.690Z"
   },
   {
    "duration": 180,
    "start_time": "2024-08-17T10:42:18.168Z"
   },
   {
    "duration": 170,
    "start_time": "2024-08-17T10:42:33.748Z"
   },
   {
    "duration": 181,
    "start_time": "2024-08-17T10:43:01.798Z"
   },
   {
    "duration": 155,
    "start_time": "2024-08-17T10:43:17.889Z"
   },
   {
    "duration": 250,
    "start_time": "2024-08-17T10:44:08.798Z"
   },
   {
    "duration": 159,
    "start_time": "2024-08-17T10:44:47.366Z"
   },
   {
    "duration": 160,
    "start_time": "2024-08-17T10:45:02.480Z"
   },
   {
    "duration": 156,
    "start_time": "2024-08-17T10:47:53.057Z"
   },
   {
    "duration": 692,
    "start_time": "2024-08-17T10:51:24.063Z"
   },
   {
    "duration": 69,
    "start_time": "2024-08-17T10:51:24.757Z"
   },
   {
    "duration": 3,
    "start_time": "2024-08-17T10:51:24.828Z"
   },
   {
    "duration": 14,
    "start_time": "2024-08-17T10:51:24.832Z"
   },
   {
    "duration": 11,
    "start_time": "2024-08-17T10:51:24.848Z"
   },
   {
    "duration": 24,
    "start_time": "2024-08-17T10:51:24.860Z"
   },
   {
    "duration": 35,
    "start_time": "2024-08-17T10:51:24.886Z"
   },
   {
    "duration": 13,
    "start_time": "2024-08-17T10:51:24.923Z"
   },
   {
    "duration": 17,
    "start_time": "2024-08-17T10:51:24.937Z"
   },
   {
    "duration": 15,
    "start_time": "2024-08-17T10:51:24.957Z"
   },
   {
    "duration": 25,
    "start_time": "2024-08-17T10:51:24.975Z"
   },
   {
    "duration": 12,
    "start_time": "2024-08-17T10:51:25.002Z"
   },
   {
    "duration": 6,
    "start_time": "2024-08-17T10:51:25.015Z"
   },
   {
    "duration": 12,
    "start_time": "2024-08-17T10:51:25.023Z"
   },
   {
    "duration": 18,
    "start_time": "2024-08-17T10:51:25.037Z"
   },
   {
    "duration": 22,
    "start_time": "2024-08-17T10:51:25.057Z"
   },
   {
    "duration": 14,
    "start_time": "2024-08-17T10:51:25.081Z"
   },
   {
    "duration": 12,
    "start_time": "2024-08-17T10:51:25.097Z"
   },
   {
    "duration": 7,
    "start_time": "2024-08-17T10:51:25.110Z"
   },
   {
    "duration": 216,
    "start_time": "2024-08-17T10:51:25.118Z"
   },
   {
    "duration": 13,
    "start_time": "2024-08-17T10:51:25.336Z"
   },
   {
    "duration": 225,
    "start_time": "2024-08-17T10:51:25.364Z"
   },
   {
    "duration": 16,
    "start_time": "2024-08-17T10:51:25.591Z"
   },
   {
    "duration": 182,
    "start_time": "2024-08-17T10:51:25.610Z"
   },
   {
    "duration": 9,
    "start_time": "2024-08-17T10:51:25.794Z"
   },
   {
    "duration": 204,
    "start_time": "2024-08-17T10:51:25.805Z"
   },
   {
    "duration": 9,
    "start_time": "2024-08-17T10:51:26.011Z"
   },
   {
    "duration": 304,
    "start_time": "2024-08-17T10:51:26.023Z"
   },
   {
    "duration": 0,
    "start_time": "2024-08-17T10:51:26.329Z"
   },
   {
    "duration": 0,
    "start_time": "2024-08-17T10:51:26.330Z"
   },
   {
    "duration": 0,
    "start_time": "2024-08-17T10:51:26.331Z"
   },
   {
    "duration": 0,
    "start_time": "2024-08-17T10:51:26.332Z"
   },
   {
    "duration": 0,
    "start_time": "2024-08-17T10:51:26.333Z"
   },
   {
    "duration": 0,
    "start_time": "2024-08-17T10:51:26.334Z"
   },
   {
    "duration": 0,
    "start_time": "2024-08-17T10:51:26.335Z"
   },
   {
    "duration": 183,
    "start_time": "2024-08-17T10:52:09.191Z"
   },
   {
    "duration": 12,
    "start_time": "2024-08-17T10:52:14.698Z"
   },
   {
    "duration": 724,
    "start_time": "2024-08-17T10:52:20.268Z"
   },
   {
    "duration": 71,
    "start_time": "2024-08-17T10:52:20.995Z"
   },
   {
    "duration": 6,
    "start_time": "2024-08-17T10:52:21.070Z"
   },
   {
    "duration": 24,
    "start_time": "2024-08-17T10:52:21.080Z"
   },
   {
    "duration": 30,
    "start_time": "2024-08-17T10:52:21.106Z"
   },
   {
    "duration": 11,
    "start_time": "2024-08-17T10:52:21.138Z"
   },
   {
    "duration": 13,
    "start_time": "2024-08-17T10:52:21.165Z"
   },
   {
    "duration": 15,
    "start_time": "2024-08-17T10:52:21.181Z"
   },
   {
    "duration": 28,
    "start_time": "2024-08-17T10:52:21.198Z"
   },
   {
    "duration": 8,
    "start_time": "2024-08-17T10:52:21.229Z"
   },
   {
    "duration": 42,
    "start_time": "2024-08-17T10:52:21.239Z"
   },
   {
    "duration": 24,
    "start_time": "2024-08-17T10:52:21.283Z"
   },
   {
    "duration": 4,
    "start_time": "2024-08-17T10:52:21.309Z"
   },
   {
    "duration": 34,
    "start_time": "2024-08-17T10:52:21.315Z"
   },
   {
    "duration": 44,
    "start_time": "2024-08-17T10:52:21.350Z"
   },
   {
    "duration": 34,
    "start_time": "2024-08-17T10:52:21.396Z"
   },
   {
    "duration": 5,
    "start_time": "2024-08-17T10:52:21.432Z"
   },
   {
    "duration": 9,
    "start_time": "2024-08-17T10:52:21.439Z"
   },
   {
    "duration": 5,
    "start_time": "2024-08-17T10:52:21.449Z"
   },
   {
    "duration": 191,
    "start_time": "2024-08-17T10:52:21.455Z"
   },
   {
    "duration": 23,
    "start_time": "2024-08-17T10:52:21.648Z"
   },
   {
    "duration": 192,
    "start_time": "2024-08-17T10:52:21.672Z"
   },
   {
    "duration": 25,
    "start_time": "2024-08-17T10:52:21.866Z"
   },
   {
    "duration": 168,
    "start_time": "2024-08-17T10:52:21.893Z"
   },
   {
    "duration": 13,
    "start_time": "2024-08-17T10:52:22.065Z"
   },
   {
    "duration": 196,
    "start_time": "2024-08-17T10:52:22.082Z"
   },
   {
    "duration": 12,
    "start_time": "2024-08-17T10:52:22.281Z"
   },
   {
    "duration": 253,
    "start_time": "2024-08-17T10:52:22.297Z"
   },
   {
    "duration": 16,
    "start_time": "2024-08-17T10:52:22.552Z"
   },
   {
    "duration": 13,
    "start_time": "2024-08-17T10:52:22.569Z"
   },
   {
    "duration": 18,
    "start_time": "2024-08-17T10:52:22.584Z"
   },
   {
    "duration": 7,
    "start_time": "2024-08-17T10:52:22.603Z"
   },
   {
    "duration": 8,
    "start_time": "2024-08-17T10:52:22.611Z"
   },
   {
    "duration": 198,
    "start_time": "2024-08-17T10:52:22.620Z"
   },
   {
    "duration": 149,
    "start_time": "2024-08-17T10:52:22.819Z"
   },
   {
    "duration": 173,
    "start_time": "2024-08-17T10:58:27.127Z"
   },
   {
    "duration": 160,
    "start_time": "2024-08-17T10:58:36.128Z"
   },
   {
    "duration": 181,
    "start_time": "2024-08-17T10:58:40.718Z"
   },
   {
    "duration": 197,
    "start_time": "2024-08-17T10:58:47.717Z"
   },
   {
    "duration": 144,
    "start_time": "2024-08-17T10:58:56.408Z"
   },
   {
    "duration": 159,
    "start_time": "2024-08-17T10:59:01.873Z"
   },
   {
    "duration": 148,
    "start_time": "2024-08-17T10:59:07.039Z"
   },
   {
    "duration": 203,
    "start_time": "2024-08-17T10:59:25.639Z"
   },
   {
    "duration": 253,
    "start_time": "2024-08-17T11:08:56.777Z"
   },
   {
    "duration": 177,
    "start_time": "2024-08-17T11:10:44.807Z"
   },
   {
    "duration": 175,
    "start_time": "2024-08-17T11:11:05.537Z"
   },
   {
    "duration": 164,
    "start_time": "2024-08-17T11:11:16.089Z"
   },
   {
    "duration": 192,
    "start_time": "2024-08-17T11:16:43.149Z"
   },
   {
    "duration": 164,
    "start_time": "2024-08-17T11:17:06.968Z"
   },
   {
    "duration": 170,
    "start_time": "2024-08-17T11:17:33.878Z"
   },
   {
    "duration": 150,
    "start_time": "2024-08-17T11:17:57.926Z"
   },
   {
    "duration": 219,
    "start_time": "2024-08-17T11:18:30.718Z"
   },
   {
    "duration": 12,
    "start_time": "2024-08-17T11:28:31.758Z"
   },
   {
    "duration": 133,
    "start_time": "2024-08-17T11:30:38.558Z"
   },
   {
    "duration": 111,
    "start_time": "2024-08-17T11:31:16.088Z"
   },
   {
    "duration": 224,
    "start_time": "2024-08-17T11:31:51.335Z"
   },
   {
    "duration": 5,
    "start_time": "2024-08-17T11:58:24.187Z"
   },
   {
    "duration": 17,
    "start_time": "2024-08-17T12:00:27.311Z"
   },
   {
    "duration": 92,
    "start_time": "2024-08-17T12:01:08.918Z"
   },
   {
    "duration": 14,
    "start_time": "2024-08-17T12:01:41.039Z"
   },
   {
    "duration": 22,
    "start_time": "2024-08-17T12:03:58.402Z"
   },
   {
    "duration": 17,
    "start_time": "2024-08-17T12:06:13.997Z"
   },
   {
    "duration": 19,
    "start_time": "2024-08-17T12:06:39.757Z"
   },
   {
    "duration": 32,
    "start_time": "2024-08-17T12:10:15.643Z"
   },
   {
    "duration": 82,
    "start_time": "2024-08-17T12:15:30.796Z"
   },
   {
    "duration": 31,
    "start_time": "2024-08-17T12:15:50.869Z"
   },
   {
    "duration": 20,
    "start_time": "2024-08-17T12:16:00.089Z"
   },
   {
    "duration": 34,
    "start_time": "2024-08-17T12:16:06.777Z"
   },
   {
    "duration": 8,
    "start_time": "2024-08-17T12:16:55.018Z"
   },
   {
    "duration": 8,
    "start_time": "2024-08-17T12:17:09.747Z"
   },
   {
    "duration": 18,
    "start_time": "2024-08-17T12:17:17.288Z"
   },
   {
    "duration": 17,
    "start_time": "2024-08-17T12:17:30.217Z"
   },
   {
    "duration": 27,
    "start_time": "2024-08-17T12:17:44.628Z"
   },
   {
    "duration": 272,
    "start_time": "2024-08-17T12:20:53.212Z"
   },
   {
    "duration": 14,
    "start_time": "2024-08-17T12:21:21.050Z"
   },
   {
    "duration": 14,
    "start_time": "2024-08-17T12:21:28.627Z"
   },
   {
    "duration": 29,
    "start_time": "2024-08-17T12:21:34.747Z"
   },
   {
    "duration": 16,
    "start_time": "2024-08-17T12:23:17.805Z"
   },
   {
    "duration": 26,
    "start_time": "2024-08-17T12:23:26.297Z"
   },
   {
    "duration": 38,
    "start_time": "2024-08-17T12:29:55.918Z"
   },
   {
    "duration": 40,
    "start_time": "2024-08-17T12:35:53.260Z"
   },
   {
    "duration": 30,
    "start_time": "2024-08-17T12:40:25.906Z"
   },
   {
    "duration": 26,
    "start_time": "2024-08-17T13:06:06.932Z"
   },
   {
    "duration": 28,
    "start_time": "2024-08-17T13:07:10.737Z"
   },
   {
    "duration": 7,
    "start_time": "2024-08-17T13:10:20.815Z"
   },
   {
    "duration": 15,
    "start_time": "2024-08-17T13:31:02.646Z"
   },
   {
    "duration": 34,
    "start_time": "2024-08-17T13:32:08.574Z"
   },
   {
    "duration": 29,
    "start_time": "2024-08-17T13:37:31.753Z"
   },
   {
    "duration": 20,
    "start_time": "2024-08-17T13:40:18.031Z"
   },
   {
    "duration": 37,
    "start_time": "2024-08-17T13:51:06.157Z"
   },
   {
    "duration": 44,
    "start_time": "2024-08-17T13:51:19.348Z"
   },
   {
    "duration": 32,
    "start_time": "2024-08-17T13:56:24.227Z"
   },
   {
    "duration": 29,
    "start_time": "2024-08-17T13:59:46.323Z"
   },
   {
    "duration": 33,
    "start_time": "2024-08-17T14:01:23.424Z"
   },
   {
    "duration": 27,
    "start_time": "2024-08-17T14:01:55.697Z"
   },
   {
    "duration": 30,
    "start_time": "2024-08-17T14:02:32.244Z"
   },
   {
    "duration": 37,
    "start_time": "2024-08-17T14:06:55.345Z"
   },
   {
    "duration": 28,
    "start_time": "2024-08-17T14:08:57.486Z"
   },
   {
    "duration": 932,
    "start_time": "2024-08-17T15:57:15.289Z"
   },
   {
    "duration": 316,
    "start_time": "2024-08-17T15:57:16.224Z"
   },
   {
    "duration": 3,
    "start_time": "2024-08-17T15:57:16.542Z"
   },
   {
    "duration": 74,
    "start_time": "2024-08-17T15:57:16.547Z"
   },
   {
    "duration": 13,
    "start_time": "2024-08-17T15:57:16.623Z"
   },
   {
    "duration": 15,
    "start_time": "2024-08-17T15:57:16.638Z"
   },
   {
    "duration": 13,
    "start_time": "2024-08-17T15:57:16.654Z"
   },
   {
    "duration": 38,
    "start_time": "2024-08-17T15:57:16.669Z"
   },
   {
    "duration": 11,
    "start_time": "2024-08-17T15:57:16.709Z"
   },
   {
    "duration": 12,
    "start_time": "2024-08-17T15:57:16.724Z"
   },
   {
    "duration": 11,
    "start_time": "2024-08-17T15:57:16.738Z"
   },
   {
    "duration": 6,
    "start_time": "2024-08-17T15:57:16.752Z"
   },
   {
    "duration": 10,
    "start_time": "2024-08-17T15:57:16.759Z"
   },
   {
    "duration": 44,
    "start_time": "2024-08-17T15:57:16.771Z"
   },
   {
    "duration": 9,
    "start_time": "2024-08-17T15:57:16.817Z"
   },
   {
    "duration": 11,
    "start_time": "2024-08-17T15:57:16.829Z"
   },
   {
    "duration": 19,
    "start_time": "2024-08-17T15:57:16.843Z"
   },
   {
    "duration": 18,
    "start_time": "2024-08-17T15:57:16.864Z"
   },
   {
    "duration": 257,
    "start_time": "2024-08-17T15:57:16.884Z"
   },
   {
    "duration": 17,
    "start_time": "2024-08-17T15:57:17.144Z"
   },
   {
    "duration": 183,
    "start_time": "2024-08-17T15:57:17.163Z"
   },
   {
    "duration": 12,
    "start_time": "2024-08-17T15:57:17.347Z"
   },
   {
    "duration": 12,
    "start_time": "2024-08-17T15:57:17.360Z"
   },
   {
    "duration": 181,
    "start_time": "2024-08-17T15:57:17.373Z"
   },
   {
    "duration": 8,
    "start_time": "2024-08-17T15:57:17.556Z"
   },
   {
    "duration": 172,
    "start_time": "2024-08-17T15:57:17.565Z"
   },
   {
    "duration": 9,
    "start_time": "2024-08-17T15:57:17.738Z"
   },
   {
    "duration": 222,
    "start_time": "2024-08-17T15:57:17.750Z"
   },
   {
    "duration": 9,
    "start_time": "2024-08-17T15:57:17.974Z"
   },
   {
    "duration": 25,
    "start_time": "2024-08-17T15:57:17.985Z"
   },
   {
    "duration": 9,
    "start_time": "2024-08-17T15:57:18.016Z"
   },
   {
    "duration": 35,
    "start_time": "2024-08-17T15:57:18.027Z"
   },
   {
    "duration": 179,
    "start_time": "2024-08-17T15:57:18.064Z"
   },
   {
    "duration": 192,
    "start_time": "2024-08-17T15:57:18.245Z"
   },
   {
    "duration": 26,
    "start_time": "2024-08-17T15:57:18.438Z"
   },
   {
    "duration": 54,
    "start_time": "2024-08-17T15:57:18.466Z"
   },
   {
    "duration": 35,
    "start_time": "2024-08-17T15:57:33.683Z"
   },
   {
    "duration": 645,
    "start_time": "2024-08-17T15:58:23.437Z"
   },
   {
    "duration": 77,
    "start_time": "2024-08-17T15:58:24.084Z"
   },
   {
    "duration": 3,
    "start_time": "2024-08-17T15:58:24.163Z"
   },
   {
    "duration": 14,
    "start_time": "2024-08-17T15:58:24.169Z"
   },
   {
    "duration": 11,
    "start_time": "2024-08-17T15:58:24.185Z"
   },
   {
    "duration": 19,
    "start_time": "2024-08-17T15:58:24.198Z"
   },
   {
    "duration": 15,
    "start_time": "2024-08-17T15:58:24.218Z"
   },
   {
    "duration": 18,
    "start_time": "2024-08-17T15:58:24.235Z"
   },
   {
    "duration": 7,
    "start_time": "2024-08-17T15:58:24.255Z"
   },
   {
    "duration": 19,
    "start_time": "2024-08-17T15:58:24.265Z"
   },
   {
    "duration": 44,
    "start_time": "2024-08-17T15:58:24.286Z"
   },
   {
    "duration": 41,
    "start_time": "2024-08-17T15:58:24.332Z"
   },
   {
    "duration": 16,
    "start_time": "2024-08-17T15:58:24.374Z"
   },
   {
    "duration": 18,
    "start_time": "2024-08-17T15:58:24.392Z"
   },
   {
    "duration": 18,
    "start_time": "2024-08-17T15:58:24.412Z"
   },
   {
    "duration": 7,
    "start_time": "2024-08-17T15:58:24.432Z"
   },
   {
    "duration": 6,
    "start_time": "2024-08-17T15:58:24.440Z"
   },
   {
    "duration": 6,
    "start_time": "2024-08-17T15:58:24.447Z"
   },
   {
    "duration": 220,
    "start_time": "2024-08-17T15:58:24.455Z"
   },
   {
    "duration": 13,
    "start_time": "2024-08-17T15:58:24.677Z"
   },
   {
    "duration": 185,
    "start_time": "2024-08-17T15:58:24.692Z"
   },
   {
    "duration": 11,
    "start_time": "2024-08-17T15:58:24.879Z"
   },
   {
    "duration": 26,
    "start_time": "2024-08-17T15:58:24.892Z"
   },
   {
    "duration": 175,
    "start_time": "2024-08-17T15:58:24.920Z"
   },
   {
    "duration": 19,
    "start_time": "2024-08-17T15:58:25.096Z"
   },
   {
    "duration": 167,
    "start_time": "2024-08-17T15:58:25.117Z"
   },
   {
    "duration": 8,
    "start_time": "2024-08-17T15:58:25.286Z"
   },
   {
    "duration": 222,
    "start_time": "2024-08-17T15:58:25.307Z"
   },
   {
    "duration": 9,
    "start_time": "2024-08-17T15:58:25.531Z"
   },
   {
    "duration": 39,
    "start_time": "2024-08-17T15:58:25.542Z"
   },
   {
    "duration": 9,
    "start_time": "2024-08-17T15:58:25.583Z"
   },
   {
    "duration": 7,
    "start_time": "2024-08-17T15:58:25.593Z"
   },
   {
    "duration": 198,
    "start_time": "2024-08-17T15:58:25.601Z"
   },
   {
    "duration": 195,
    "start_time": "2024-08-17T15:58:25.801Z"
   },
   {
    "duration": 40,
    "start_time": "2024-08-17T15:58:26.007Z"
   },
   {
    "duration": 33,
    "start_time": "2024-08-17T15:58:26.049Z"
   },
   {
    "duration": 648,
    "start_time": "2024-08-17T16:42:09.229Z"
   },
   {
    "duration": 71,
    "start_time": "2024-08-17T16:42:09.879Z"
   },
   {
    "duration": 4,
    "start_time": "2024-08-17T16:42:09.952Z"
   },
   {
    "duration": 12,
    "start_time": "2024-08-17T16:42:09.958Z"
   },
   {
    "duration": 11,
    "start_time": "2024-08-17T16:42:09.973Z"
   },
   {
    "duration": 10,
    "start_time": "2024-08-17T16:42:09.986Z"
   },
   {
    "duration": 14,
    "start_time": "2024-08-17T16:42:09.997Z"
   },
   {
    "duration": 31,
    "start_time": "2024-08-17T16:42:10.013Z"
   },
   {
    "duration": 8,
    "start_time": "2024-08-17T16:42:10.046Z"
   },
   {
    "duration": 11,
    "start_time": "2024-08-17T16:42:10.055Z"
   },
   {
    "duration": 16,
    "start_time": "2024-08-17T16:42:10.068Z"
   },
   {
    "duration": 5,
    "start_time": "2024-08-17T16:42:10.086Z"
   },
   {
    "duration": 23,
    "start_time": "2024-08-17T16:42:10.093Z"
   },
   {
    "duration": 13,
    "start_time": "2024-08-17T16:42:10.119Z"
   },
   {
    "duration": 11,
    "start_time": "2024-08-17T16:42:10.134Z"
   },
   {
    "duration": 11,
    "start_time": "2024-08-17T16:42:10.146Z"
   },
   {
    "duration": 5,
    "start_time": "2024-08-17T16:42:10.159Z"
   },
   {
    "duration": 13,
    "start_time": "2024-08-17T16:42:10.166Z"
   },
   {
    "duration": 212,
    "start_time": "2024-08-17T16:42:10.181Z"
   },
   {
    "duration": 19,
    "start_time": "2024-08-17T16:42:10.395Z"
   },
   {
    "duration": 166,
    "start_time": "2024-08-17T16:42:10.415Z"
   },
   {
    "duration": 22,
    "start_time": "2024-08-17T16:42:10.583Z"
   },
   {
    "duration": 17,
    "start_time": "2024-08-17T16:42:10.607Z"
   },
   {
    "duration": 228,
    "start_time": "2024-08-17T16:42:10.625Z"
   },
   {
    "duration": 9,
    "start_time": "2024-08-17T16:42:10.854Z"
   },
   {
    "duration": 172,
    "start_time": "2024-08-17T16:42:10.865Z"
   },
   {
    "duration": 10,
    "start_time": "2024-08-17T16:42:11.039Z"
   },
   {
    "duration": 230,
    "start_time": "2024-08-17T16:42:11.051Z"
   },
   {
    "duration": 22,
    "start_time": "2024-08-17T16:42:11.283Z"
   },
   {
    "duration": 11,
    "start_time": "2024-08-17T16:42:11.307Z"
   },
   {
    "duration": 14,
    "start_time": "2024-08-17T16:42:11.320Z"
   },
   {
    "duration": 12,
    "start_time": "2024-08-17T16:42:11.336Z"
   },
   {
    "duration": 232,
    "start_time": "2024-08-17T16:42:11.350Z"
   },
   {
    "duration": 207,
    "start_time": "2024-08-17T16:42:11.584Z"
   },
   {
    "duration": 42,
    "start_time": "2024-08-17T16:42:11.793Z"
   },
   {
    "duration": 31,
    "start_time": "2024-08-17T16:42:11.836Z"
   },
   {
    "duration": 1166,
    "start_time": "2024-08-17T16:58:28.118Z"
   },
   {
    "duration": 72,
    "start_time": "2024-08-17T16:58:29.286Z"
   },
   {
    "duration": 3,
    "start_time": "2024-08-17T16:58:29.360Z"
   },
   {
    "duration": 16,
    "start_time": "2024-08-17T16:58:29.368Z"
   },
   {
    "duration": 12,
    "start_time": "2024-08-17T16:58:29.386Z"
   },
   {
    "duration": 20,
    "start_time": "2024-08-17T16:58:29.400Z"
   },
   {
    "duration": 14,
    "start_time": "2024-08-17T16:58:29.422Z"
   },
   {
    "duration": 19,
    "start_time": "2024-08-17T16:58:29.438Z"
   },
   {
    "duration": 8,
    "start_time": "2024-08-17T16:58:29.459Z"
   },
   {
    "duration": 14,
    "start_time": "2024-08-17T16:58:29.470Z"
   },
   {
    "duration": 8,
    "start_time": "2024-08-17T16:58:29.505Z"
   },
   {
    "duration": 6,
    "start_time": "2024-08-17T16:58:29.514Z"
   },
   {
    "duration": 7,
    "start_time": "2024-08-17T16:58:29.521Z"
   },
   {
    "duration": 12,
    "start_time": "2024-08-17T16:58:29.529Z"
   },
   {
    "duration": 6,
    "start_time": "2024-08-17T16:58:29.543Z"
   },
   {
    "duration": 16,
    "start_time": "2024-08-17T16:58:29.551Z"
   },
   {
    "duration": 15,
    "start_time": "2024-08-17T16:58:29.569Z"
   },
   {
    "duration": 22,
    "start_time": "2024-08-17T16:58:29.586Z"
   },
   {
    "duration": 211,
    "start_time": "2024-08-17T16:58:29.610Z"
   },
   {
    "duration": 13,
    "start_time": "2024-08-17T16:58:29.823Z"
   },
   {
    "duration": 169,
    "start_time": "2024-08-17T16:58:29.837Z"
   },
   {
    "duration": 11,
    "start_time": "2024-08-17T16:58:30.008Z"
   },
   {
    "duration": 32,
    "start_time": "2024-08-17T16:58:30.021Z"
   },
   {
    "duration": 162,
    "start_time": "2024-08-17T16:58:30.055Z"
   },
   {
    "duration": 9,
    "start_time": "2024-08-17T16:58:30.219Z"
   },
   {
    "duration": 169,
    "start_time": "2024-08-17T16:58:30.230Z"
   },
   {
    "duration": 9,
    "start_time": "2024-08-17T16:58:30.406Z"
   },
   {
    "duration": 167,
    "start_time": "2024-08-17T16:58:30.418Z"
   },
   {
    "duration": 24,
    "start_time": "2024-08-17T16:58:30.586Z"
   },
   {
    "duration": 10,
    "start_time": "2024-08-17T16:58:30.612Z"
   },
   {
    "duration": 9,
    "start_time": "2024-08-17T16:58:30.624Z"
   },
   {
    "duration": 6,
    "start_time": "2024-08-17T16:58:30.635Z"
   },
   {
    "duration": 210,
    "start_time": "2024-08-17T16:58:30.643Z"
   },
   {
    "duration": 213,
    "start_time": "2024-08-17T16:58:30.855Z"
   },
   {
    "duration": 36,
    "start_time": "2024-08-17T16:58:31.070Z"
   },
   {
    "duration": 29,
    "start_time": "2024-08-17T16:58:31.108Z"
   },
   {
    "duration": 106,
    "start_time": "2024-08-17T17:10:44.118Z"
   },
   {
    "duration": 7,
    "start_time": "2024-08-17T17:11:39.656Z"
   },
   {
    "duration": 71,
    "start_time": "2024-08-17T17:22:12.554Z"
   },
   {
    "duration": 5,
    "start_time": "2024-08-17T17:24:34.629Z"
   },
   {
    "duration": 5,
    "start_time": "2024-08-17T17:24:45.288Z"
   },
   {
    "duration": 4,
    "start_time": "2024-08-17T17:25:21.888Z"
   },
   {
    "duration": 5,
    "start_time": "2024-08-17T17:25:28.127Z"
   },
   {
    "duration": 6,
    "start_time": "2024-08-17T17:35:04.688Z"
   },
   {
    "duration": 6,
    "start_time": "2024-08-17T17:37:02.878Z"
   },
   {
    "duration": 7,
    "start_time": "2024-08-17T17:42:51.598Z"
   },
   {
    "duration": 3,
    "start_time": "2024-08-17T17:51:21.670Z"
   },
   {
    "duration": 1192,
    "start_time": "2024-08-17T17:56:33.597Z"
   },
   {
    "duration": 77,
    "start_time": "2024-08-17T17:56:34.791Z"
   },
   {
    "duration": 3,
    "start_time": "2024-08-17T17:56:34.871Z"
   },
   {
    "duration": 39,
    "start_time": "2024-08-17T17:56:34.876Z"
   },
   {
    "duration": 11,
    "start_time": "2024-08-17T17:56:34.917Z"
   },
   {
    "duration": 12,
    "start_time": "2024-08-17T17:56:34.929Z"
   },
   {
    "duration": 14,
    "start_time": "2024-08-17T17:56:34.943Z"
   },
   {
    "duration": 18,
    "start_time": "2024-08-17T17:56:34.959Z"
   },
   {
    "duration": 31,
    "start_time": "2024-08-17T17:56:34.979Z"
   },
   {
    "duration": 10,
    "start_time": "2024-08-17T17:56:35.012Z"
   },
   {
    "duration": 8,
    "start_time": "2024-08-17T17:56:35.024Z"
   },
   {
    "duration": 6,
    "start_time": "2024-08-17T17:56:35.033Z"
   },
   {
    "duration": 7,
    "start_time": "2024-08-17T17:56:35.041Z"
   },
   {
    "duration": 8,
    "start_time": "2024-08-17T17:56:35.051Z"
   },
   {
    "duration": 47,
    "start_time": "2024-08-17T17:56:35.061Z"
   },
   {
    "duration": 7,
    "start_time": "2024-08-17T17:56:35.110Z"
   },
   {
    "duration": 15,
    "start_time": "2024-08-17T17:56:35.119Z"
   },
   {
    "duration": 13,
    "start_time": "2024-08-17T17:56:35.136Z"
   },
   {
    "duration": 224,
    "start_time": "2024-08-17T17:56:35.150Z"
   },
   {
    "duration": 13,
    "start_time": "2024-08-17T17:56:35.376Z"
   },
   {
    "duration": 186,
    "start_time": "2024-08-17T17:56:35.405Z"
   },
   {
    "duration": 13,
    "start_time": "2024-08-17T17:56:35.593Z"
   },
   {
    "duration": 15,
    "start_time": "2024-08-17T17:56:35.608Z"
   },
   {
    "duration": 170,
    "start_time": "2024-08-17T17:56:35.625Z"
   },
   {
    "duration": 14,
    "start_time": "2024-08-17T17:56:35.797Z"
   },
   {
    "duration": 170,
    "start_time": "2024-08-17T17:56:35.813Z"
   },
   {
    "duration": 9,
    "start_time": "2024-08-17T17:56:35.985Z"
   },
   {
    "duration": 189,
    "start_time": "2024-08-17T17:56:35.995Z"
   },
   {
    "duration": 20,
    "start_time": "2024-08-17T17:56:36.185Z"
   },
   {
    "duration": 10,
    "start_time": "2024-08-17T17:56:36.207Z"
   },
   {
    "duration": 9,
    "start_time": "2024-08-17T17:56:36.219Z"
   },
   {
    "duration": 6,
    "start_time": "2024-08-17T17:56:36.230Z"
   },
   {
    "duration": 217,
    "start_time": "2024-08-17T17:56:36.238Z"
   },
   {
    "duration": 186,
    "start_time": "2024-08-17T17:56:36.457Z"
   },
   {
    "duration": 26,
    "start_time": "2024-08-17T17:56:36.645Z"
   },
   {
    "duration": 46,
    "start_time": "2024-08-17T17:56:36.672Z"
   },
   {
    "duration": 6,
    "start_time": "2024-08-17T17:56:36.720Z"
   },
   {
    "duration": 7,
    "start_time": "2024-08-17T17:56:36.728Z"
   },
   {
    "duration": 6,
    "start_time": "2024-08-17T18:16:16.235Z"
   },
   {
    "duration": 58,
    "start_time": "2024-08-17T18:21:59.825Z"
   },
   {
    "duration": 123,
    "start_time": "2024-08-17T18:22:05.990Z"
   },
   {
    "duration": 11,
    "start_time": "2024-08-17T18:22:15.346Z"
   },
   {
    "duration": 9,
    "start_time": "2024-08-17T18:22:21.265Z"
   },
   {
    "duration": 9,
    "start_time": "2024-08-17T18:22:54.474Z"
   },
   {
    "duration": 12,
    "start_time": "2024-08-17T18:23:34.032Z"
   },
   {
    "duration": 10,
    "start_time": "2024-08-17T18:23:43.099Z"
   },
   {
    "duration": 2,
    "start_time": "2024-08-17T18:23:54.144Z"
   },
   {
    "duration": 10,
    "start_time": "2024-08-17T18:23:57.655Z"
   },
   {
    "duration": 10,
    "start_time": "2024-08-17T18:26:18.735Z"
   },
   {
    "duration": 17,
    "start_time": "2024-08-17T18:29:56.138Z"
   },
   {
    "duration": 13,
    "start_time": "2024-08-17T18:30:52.314Z"
   },
   {
    "duration": 13,
    "start_time": "2024-08-17T18:34:08.529Z"
   },
   {
    "duration": 4,
    "start_time": "2024-08-17T18:35:04.437Z"
   },
   {
    "duration": 5,
    "start_time": "2024-08-17T18:35:24.585Z"
   },
   {
    "duration": 13,
    "start_time": "2024-08-17T18:35:44.636Z"
   },
   {
    "duration": 14,
    "start_time": "2024-08-17T18:36:20.199Z"
   },
   {
    "duration": 14,
    "start_time": "2024-08-17T18:36:31.097Z"
   },
   {
    "duration": 13,
    "start_time": "2024-08-17T18:36:44.057Z"
   },
   {
    "duration": 12,
    "start_time": "2024-08-17T18:47:48.046Z"
   },
   {
    "duration": 13,
    "start_time": "2024-08-17T18:48:51.406Z"
   },
   {
    "duration": 6,
    "start_time": "2024-08-17T19:25:47.188Z"
   },
   {
    "duration": 14,
    "start_time": "2024-08-17T19:28:57.305Z"
   },
   {
    "duration": 81,
    "start_time": "2024-08-17T19:31:22.306Z"
   },
   {
    "duration": 1342,
    "start_time": "2024-08-18T11:19:52.313Z"
   },
   {
    "duration": 280,
    "start_time": "2024-08-18T11:19:53.657Z"
   },
   {
    "duration": 3,
    "start_time": "2024-08-18T11:19:53.939Z"
   },
   {
    "duration": 52,
    "start_time": "2024-08-18T11:19:53.943Z"
   },
   {
    "duration": 69,
    "start_time": "2024-08-18T11:19:53.997Z"
   },
   {
    "duration": 21,
    "start_time": "2024-08-18T11:19:54.068Z"
   },
   {
    "duration": 26,
    "start_time": "2024-08-18T11:19:54.091Z"
   },
   {
    "duration": 17,
    "start_time": "2024-08-18T11:19:54.118Z"
   },
   {
    "duration": 37,
    "start_time": "2024-08-18T11:19:54.137Z"
   },
   {
    "duration": 19,
    "start_time": "2024-08-18T11:19:54.176Z"
   },
   {
    "duration": 8,
    "start_time": "2024-08-18T11:19:54.197Z"
   },
   {
    "duration": 10,
    "start_time": "2024-08-18T11:19:54.207Z"
   },
   {
    "duration": 12,
    "start_time": "2024-08-18T11:19:54.218Z"
   },
   {
    "duration": 6,
    "start_time": "2024-08-18T11:19:54.233Z"
   },
   {
    "duration": 5,
    "start_time": "2024-08-18T11:19:54.241Z"
   },
   {
    "duration": 6,
    "start_time": "2024-08-18T11:19:54.248Z"
   },
   {
    "duration": 11,
    "start_time": "2024-08-18T11:19:54.256Z"
   },
   {
    "duration": 32,
    "start_time": "2024-08-18T11:19:54.268Z"
   },
   {
    "duration": 251,
    "start_time": "2024-08-18T11:19:54.301Z"
   },
   {
    "duration": 13,
    "start_time": "2024-08-18T11:19:54.554Z"
   },
   {
    "duration": 177,
    "start_time": "2024-08-18T11:19:54.569Z"
   },
   {
    "duration": 13,
    "start_time": "2024-08-18T11:19:54.748Z"
   },
   {
    "duration": 11,
    "start_time": "2024-08-18T11:19:54.762Z"
   },
   {
    "duration": 189,
    "start_time": "2024-08-18T11:19:54.775Z"
   },
   {
    "duration": 11,
    "start_time": "2024-08-18T11:19:54.966Z"
   },
   {
    "duration": 180,
    "start_time": "2024-08-18T11:19:54.979Z"
   },
   {
    "duration": 10,
    "start_time": "2024-08-18T11:19:55.162Z"
   },
   {
    "duration": 204,
    "start_time": "2024-08-18T11:19:55.173Z"
   },
   {
    "duration": 13,
    "start_time": "2024-08-18T11:19:55.379Z"
   },
   {
    "duration": 23,
    "start_time": "2024-08-18T11:19:55.404Z"
   },
   {
    "duration": 4,
    "start_time": "2024-08-18T11:19:55.429Z"
   },
   {
    "duration": 12,
    "start_time": "2024-08-18T11:19:55.434Z"
   },
   {
    "duration": 8,
    "start_time": "2024-08-18T11:19:55.448Z"
   },
   {
    "duration": 201,
    "start_time": "2024-08-18T11:19:55.458Z"
   },
   {
    "duration": 196,
    "start_time": "2024-08-18T11:19:55.660Z"
   },
   {
    "duration": 25,
    "start_time": "2024-08-18T11:19:55.858Z"
   },
   {
    "duration": 41,
    "start_time": "2024-08-18T11:19:55.885Z"
   },
   {
    "duration": 5,
    "start_time": "2024-08-18T11:19:55.928Z"
   },
   {
    "duration": 7,
    "start_time": "2024-08-18T11:19:55.935Z"
   },
   {
    "duration": 18,
    "start_time": "2024-08-18T11:19:55.944Z"
   },
   {
    "duration": 11,
    "start_time": "2024-08-18T11:22:33.244Z"
   },
   {
    "duration": 15,
    "start_time": "2024-08-18T11:23:47.213Z"
   },
   {
    "duration": 14,
    "start_time": "2024-08-18T11:27:53.110Z"
   },
   {
    "duration": 24,
    "start_time": "2024-08-18T11:34:34.824Z"
   },
   {
    "duration": 9,
    "start_time": "2024-08-18T11:34:42.043Z"
   },
   {
    "duration": 7,
    "start_time": "2024-08-18T11:34:52.719Z"
   },
   {
    "duration": 16,
    "start_time": "2024-08-18T11:37:00.064Z"
   },
   {
    "duration": 17,
    "start_time": "2024-08-18T11:38:44.093Z"
   },
   {
    "duration": 1165,
    "start_time": "2024-08-18T11:56:57.129Z"
   },
   {
    "duration": 67,
    "start_time": "2024-08-18T11:56:58.297Z"
   },
   {
    "duration": 4,
    "start_time": "2024-08-18T11:56:58.365Z"
   },
   {
    "duration": 16,
    "start_time": "2024-08-18T11:56:58.372Z"
   },
   {
    "duration": 11,
    "start_time": "2024-08-18T11:56:58.390Z"
   },
   {
    "duration": 19,
    "start_time": "2024-08-18T11:56:58.403Z"
   },
   {
    "duration": 15,
    "start_time": "2024-08-18T11:56:58.424Z"
   },
   {
    "duration": 22,
    "start_time": "2024-08-18T11:56:58.441Z"
   },
   {
    "duration": 8,
    "start_time": "2024-08-18T11:56:58.465Z"
   },
   {
    "duration": 36,
    "start_time": "2024-08-18T11:56:58.476Z"
   },
   {
    "duration": 7,
    "start_time": "2024-08-18T11:56:58.514Z"
   },
   {
    "duration": 5,
    "start_time": "2024-08-18T11:56:58.522Z"
   },
   {
    "duration": 5,
    "start_time": "2024-08-18T11:56:58.529Z"
   },
   {
    "duration": 7,
    "start_time": "2024-08-18T11:56:58.536Z"
   },
   {
    "duration": 6,
    "start_time": "2024-08-18T11:56:58.544Z"
   },
   {
    "duration": 5,
    "start_time": "2024-08-18T11:56:58.552Z"
   },
   {
    "duration": 50,
    "start_time": "2024-08-18T11:56:58.558Z"
   },
   {
    "duration": 5,
    "start_time": "2024-08-18T11:56:58.609Z"
   },
   {
    "duration": 214,
    "start_time": "2024-08-18T11:56:58.616Z"
   },
   {
    "duration": 16,
    "start_time": "2024-08-18T11:56:58.832Z"
   },
   {
    "duration": 175,
    "start_time": "2024-08-18T11:56:58.849Z"
   },
   {
    "duration": 12,
    "start_time": "2024-08-18T11:56:59.026Z"
   },
   {
    "duration": 7,
    "start_time": "2024-08-18T11:56:59.040Z"
   },
   {
    "duration": 177,
    "start_time": "2024-08-18T11:56:59.049Z"
   },
   {
    "duration": 9,
    "start_time": "2024-08-18T11:56:59.228Z"
   },
   {
    "duration": 174,
    "start_time": "2024-08-18T11:56:59.238Z"
   },
   {
    "duration": 9,
    "start_time": "2024-08-18T11:56:59.414Z"
   },
   {
    "duration": 190,
    "start_time": "2024-08-18T11:56:59.427Z"
   },
   {
    "duration": 23,
    "start_time": "2024-08-18T11:56:59.619Z"
   },
   {
    "duration": 12,
    "start_time": "2024-08-18T11:56:59.644Z"
   },
   {
    "duration": 13,
    "start_time": "2024-08-18T11:56:59.657Z"
   },
   {
    "duration": 33,
    "start_time": "2024-08-18T11:56:59.672Z"
   },
   {
    "duration": 13,
    "start_time": "2024-08-18T11:56:59.707Z"
   },
   {
    "duration": 15,
    "start_time": "2024-08-18T11:56:59.722Z"
   },
   {
    "duration": 15,
    "start_time": "2024-08-18T11:56:59.739Z"
   },
   {
    "duration": 14,
    "start_time": "2024-08-18T11:56:59.756Z"
   },
   {
    "duration": 43,
    "start_time": "2024-08-18T11:56:59.772Z"
   },
   {
    "duration": 196,
    "start_time": "2024-08-18T11:56:59.817Z"
   },
   {
    "duration": 222,
    "start_time": "2024-08-18T11:57:00.014Z"
   },
   {
    "duration": 25,
    "start_time": "2024-08-18T11:57:00.237Z"
   },
   {
    "duration": 49,
    "start_time": "2024-08-18T11:57:00.264Z"
   },
   {
    "duration": 7,
    "start_time": "2024-08-18T11:57:00.314Z"
   },
   {
    "duration": 33,
    "start_time": "2024-08-18T11:57:00.322Z"
   },
   {
    "duration": 18,
    "start_time": "2024-08-18T11:57:00.357Z"
   },
   {
    "duration": 68,
    "start_time": "2024-08-18T11:59:31.045Z"
   }
  ],
  "kernelspec": {
   "display_name": "Python 3 (ipykernel)",
   "language": "python",
   "name": "python3"
  },
  "language_info": {
   "codemirror_mode": {
    "name": "ipython",
    "version": 3
   },
   "file_extension": ".py",
   "mimetype": "text/x-python",
   "name": "python",
   "nbconvert_exporter": "python",
   "pygments_lexer": "ipython3",
   "version": "3.9.5"
  },
  "toc": {
   "base_numbering": 1,
   "nav_menu": {},
   "number_sections": true,
   "sideBar": true,
   "skip_h1_title": true,
   "title_cell": "Table of Contents",
   "title_sidebar": "Contents",
   "toc_cell": false,
   "toc_position": {},
   "toc_section_display": true,
   "toc_window_display": false
  }
 },
 "nbformat": 4,
 "nbformat_minor": 5
}
