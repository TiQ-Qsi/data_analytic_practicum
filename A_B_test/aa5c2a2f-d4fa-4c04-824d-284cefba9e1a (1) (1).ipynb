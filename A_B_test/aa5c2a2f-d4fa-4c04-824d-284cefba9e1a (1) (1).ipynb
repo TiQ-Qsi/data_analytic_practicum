{
 "cells": [
  {
   "cell_type": "markdown",
   "metadata": {},
   "source": [
    "# A/B-тест"
   ]
  },
  {
   "cell_type": "markdown",
   "metadata": {},
   "source": [
    "В ходе учебного проекта по проведению A/B-теста мы примерим на себя роль аналитика крупного интернет-магазина.\n",
    "Наши задачи включают: \n",
    "* приоритизацию гипотез;\n",
    "* запуск A/B-теста;\n",
    "* анализ результатов."
   ]
  },
  {
   "cell_type": "markdown",
   "metadata": {},
   "source": [
    "## Приоритизация гипотез"
   ]
  },
  {
   "cell_type": "code",
   "execution_count": 2,
   "metadata": {},
   "outputs": [],
   "source": [
    "import pandas as pd\n",
    "import datetime as dt\n",
    "import numpy as np\n",
    "import matplotlib.pyplot as plt\n",
    "from pandas.plotting import register_matplotlib_converters\n",
    "import warnings\n",
    "import scipy.stats as stats"
   ]
  },
  {
   "cell_type": "code",
   "execution_count": 3,
   "metadata": {},
   "outputs": [],
   "source": [
    "pd.set_option('display.max_columns', None)\n",
    "pd.set_option('display.max_colwidth', None)"
   ]
  },
  {
   "cell_type": "code",
   "execution_count": 4,
   "metadata": {},
   "outputs": [],
   "source": [
    "data = pd.read_csv('/datasets/hypothesis.csv')"
   ]
  },
  {
   "cell_type": "code",
   "execution_count": 5,
   "metadata": {},
   "outputs": [
    {
     "data": {
      "text/html": [
       "<div>\n",
       "<style scoped>\n",
       "    .dataframe tbody tr th:only-of-type {\n",
       "        vertical-align: middle;\n",
       "    }\n",
       "\n",
       "    .dataframe tbody tr th {\n",
       "        vertical-align: top;\n",
       "    }\n",
       "\n",
       "    .dataframe thead th {\n",
       "        text-align: right;\n",
       "    }\n",
       "</style>\n",
       "<table border=\"1\" class=\"dataframe\">\n",
       "  <thead>\n",
       "    <tr style=\"text-align: right;\">\n",
       "      <th></th>\n",
       "      <th>Hypothesis</th>\n",
       "      <th>Reach</th>\n",
       "      <th>Impact</th>\n",
       "      <th>Confidence</th>\n",
       "      <th>Efforts</th>\n",
       "    </tr>\n",
       "  </thead>\n",
       "  <tbody>\n",
       "    <tr>\n",
       "      <th>0</th>\n",
       "      <td>Добавить два новых канала привлечения трафика, что позволит привлекать на 30% больше пользователей</td>\n",
       "      <td>3</td>\n",
       "      <td>10</td>\n",
       "      <td>8</td>\n",
       "      <td>6</td>\n",
       "    </tr>\n",
       "    <tr>\n",
       "      <th>1</th>\n",
       "      <td>Запустить собственную службу доставки, что сократит срок доставки заказов</td>\n",
       "      <td>2</td>\n",
       "      <td>5</td>\n",
       "      <td>4</td>\n",
       "      <td>10</td>\n",
       "    </tr>\n",
       "    <tr>\n",
       "      <th>2</th>\n",
       "      <td>Добавить блоки рекомендаций товаров на сайт интернет магазина, чтобы повысить конверсию и средний чек заказа</td>\n",
       "      <td>8</td>\n",
       "      <td>3</td>\n",
       "      <td>7</td>\n",
       "      <td>3</td>\n",
       "    </tr>\n",
       "    <tr>\n",
       "      <th>3</th>\n",
       "      <td>Изменить структура категорий, что увеличит конверсию, т.к. пользователи быстрее найдут нужный товар</td>\n",
       "      <td>8</td>\n",
       "      <td>3</td>\n",
       "      <td>3</td>\n",
       "      <td>8</td>\n",
       "    </tr>\n",
       "    <tr>\n",
       "      <th>4</th>\n",
       "      <td>Изменить цвет фона главной страницы, чтобы увеличить вовлеченность пользователей</td>\n",
       "      <td>3</td>\n",
       "      <td>1</td>\n",
       "      <td>1</td>\n",
       "      <td>1</td>\n",
       "    </tr>\n",
       "    <tr>\n",
       "      <th>5</th>\n",
       "      <td>Добавить страницу отзывов клиентов о магазине, что позволит увеличить количество заказов</td>\n",
       "      <td>3</td>\n",
       "      <td>2</td>\n",
       "      <td>2</td>\n",
       "      <td>3</td>\n",
       "    </tr>\n",
       "    <tr>\n",
       "      <th>6</th>\n",
       "      <td>Показать на главной странице баннеры с актуальными акциями и распродажами, чтобы увеличить конверсию</td>\n",
       "      <td>5</td>\n",
       "      <td>3</td>\n",
       "      <td>8</td>\n",
       "      <td>3</td>\n",
       "    </tr>\n",
       "    <tr>\n",
       "      <th>7</th>\n",
       "      <td>Добавить форму подписки на все основные страницы, чтобы собрать базу клиентов для email-рассылок</td>\n",
       "      <td>10</td>\n",
       "      <td>7</td>\n",
       "      <td>8</td>\n",
       "      <td>5</td>\n",
       "    </tr>\n",
       "    <tr>\n",
       "      <th>8</th>\n",
       "      <td>Запустить акцию, дающую скидку на товар в день рождения</td>\n",
       "      <td>1</td>\n",
       "      <td>9</td>\n",
       "      <td>9</td>\n",
       "      <td>5</td>\n",
       "    </tr>\n",
       "  </tbody>\n",
       "</table>\n",
       "</div>"
      ],
      "text/plain": [
       "                                                                                                     Hypothesis  \\\n",
       "0            Добавить два новых канала привлечения трафика, что позволит привлекать на 30% больше пользователей   \n",
       "1                                     Запустить собственную службу доставки, что сократит срок доставки заказов   \n",
       "2  Добавить блоки рекомендаций товаров на сайт интернет магазина, чтобы повысить конверсию и средний чек заказа   \n",
       "3           Изменить структура категорий, что увеличит конверсию, т.к. пользователи быстрее найдут нужный товар   \n",
       "4                              Изменить цвет фона главной страницы, чтобы увеличить вовлеченность пользователей   \n",
       "5                      Добавить страницу отзывов клиентов о магазине, что позволит увеличить количество заказов   \n",
       "6          Показать на главной странице баннеры с актуальными акциями и распродажами, чтобы увеличить конверсию   \n",
       "7              Добавить форму подписки на все основные страницы, чтобы собрать базу клиентов для email-рассылок   \n",
       "8                                                       Запустить акцию, дающую скидку на товар в день рождения   \n",
       "\n",
       "   Reach  Impact  Confidence  Efforts  \n",
       "0      3      10           8        6  \n",
       "1      2       5           4       10  \n",
       "2      8       3           7        3  \n",
       "3      8       3           3        8  \n",
       "4      3       1           1        1  \n",
       "5      3       2           2        3  \n",
       "6      5       3           8        3  \n",
       "7     10       7           8        5  \n",
       "8      1       9           9        5  "
      ]
     },
     "execution_count": 5,
     "metadata": {},
     "output_type": "execute_result"
    }
   ],
   "source": [
    "data"
   ]
  },
  {
   "cell_type": "markdown",
   "metadata": {},
   "source": [
    "### ICE"
   ]
  },
  {
   "cell_type": "code",
   "execution_count": 6,
   "metadata": {},
   "outputs": [
    {
     "data": {
      "text/html": [
       "<div>\n",
       "<style scoped>\n",
       "    .dataframe tbody tr th:only-of-type {\n",
       "        vertical-align: middle;\n",
       "    }\n",
       "\n",
       "    .dataframe tbody tr th {\n",
       "        vertical-align: top;\n",
       "    }\n",
       "\n",
       "    .dataframe thead th {\n",
       "        text-align: right;\n",
       "    }\n",
       "</style>\n",
       "<table border=\"1\" class=\"dataframe\">\n",
       "  <thead>\n",
       "    <tr style=\"text-align: right;\">\n",
       "      <th></th>\n",
       "      <th>Hypothesis</th>\n",
       "      <th>ICE</th>\n",
       "    </tr>\n",
       "  </thead>\n",
       "  <tbody>\n",
       "    <tr>\n",
       "      <th>8</th>\n",
       "      <td>Запустить акцию, дающую скидку на товар в день рождения</td>\n",
       "      <td>16.20</td>\n",
       "    </tr>\n",
       "    <tr>\n",
       "      <th>0</th>\n",
       "      <td>Добавить два новых канала привлечения трафика, что позволит привлекать на 30% больше пользователей</td>\n",
       "      <td>13.33</td>\n",
       "    </tr>\n",
       "    <tr>\n",
       "      <th>7</th>\n",
       "      <td>Добавить форму подписки на все основные страницы, чтобы собрать базу клиентов для email-рассылок</td>\n",
       "      <td>11.20</td>\n",
       "    </tr>\n",
       "    <tr>\n",
       "      <th>6</th>\n",
       "      <td>Показать на главной странице баннеры с актуальными акциями и распродажами, чтобы увеличить конверсию</td>\n",
       "      <td>8.00</td>\n",
       "    </tr>\n",
       "    <tr>\n",
       "      <th>2</th>\n",
       "      <td>Добавить блоки рекомендаций товаров на сайт интернет магазина, чтобы повысить конверсию и средний чек заказа</td>\n",
       "      <td>7.00</td>\n",
       "    </tr>\n",
       "    <tr>\n",
       "      <th>1</th>\n",
       "      <td>Запустить собственную службу доставки, что сократит срок доставки заказов</td>\n",
       "      <td>2.00</td>\n",
       "    </tr>\n",
       "    <tr>\n",
       "      <th>5</th>\n",
       "      <td>Добавить страницу отзывов клиентов о магазине, что позволит увеличить количество заказов</td>\n",
       "      <td>1.33</td>\n",
       "    </tr>\n",
       "    <tr>\n",
       "      <th>3</th>\n",
       "      <td>Изменить структура категорий, что увеличит конверсию, т.к. пользователи быстрее найдут нужный товар</td>\n",
       "      <td>1.12</td>\n",
       "    </tr>\n",
       "    <tr>\n",
       "      <th>4</th>\n",
       "      <td>Изменить цвет фона главной страницы, чтобы увеличить вовлеченность пользователей</td>\n",
       "      <td>1.00</td>\n",
       "    </tr>\n",
       "  </tbody>\n",
       "</table>\n",
       "</div>"
      ],
      "text/plain": [
       "                                                                                                     Hypothesis  \\\n",
       "8                                                       Запустить акцию, дающую скидку на товар в день рождения   \n",
       "0            Добавить два новых канала привлечения трафика, что позволит привлекать на 30% больше пользователей   \n",
       "7              Добавить форму подписки на все основные страницы, чтобы собрать базу клиентов для email-рассылок   \n",
       "6          Показать на главной странице баннеры с актуальными акциями и распродажами, чтобы увеличить конверсию   \n",
       "2  Добавить блоки рекомендаций товаров на сайт интернет магазина, чтобы повысить конверсию и средний чек заказа   \n",
       "1                                     Запустить собственную службу доставки, что сократит срок доставки заказов   \n",
       "5                      Добавить страницу отзывов клиентов о магазине, что позволит увеличить количество заказов   \n",
       "3           Изменить структура категорий, что увеличит конверсию, т.к. пользователи быстрее найдут нужный товар   \n",
       "4                              Изменить цвет фона главной страницы, чтобы увеличить вовлеченность пользователей   \n",
       "\n",
       "     ICE  \n",
       "8  16.20  \n",
       "0  13.33  \n",
       "7  11.20  \n",
       "6   8.00  \n",
       "2   7.00  \n",
       "1   2.00  \n",
       "5   1.33  \n",
       "3   1.12  \n",
       "4   1.00  "
      ]
     },
     "execution_count": 6,
     "metadata": {},
     "output_type": "execute_result"
    }
   ],
   "source": [
    "data['ICE'] = (data['Impact'] * data['Confidence'] / data['Efforts']).round(2)\n",
    "\n",
    "data[['Hypothesis', 'ICE']].sort_values(by='ICE', ascending=False)"
   ]
  },
  {
   "cell_type": "markdown",
   "metadata": {},
   "source": [
    "### RICE"
   ]
  },
  {
   "cell_type": "code",
   "execution_count": 7,
   "metadata": {},
   "outputs": [
    {
     "data": {
      "text/html": [
       "<div>\n",
       "<style scoped>\n",
       "    .dataframe tbody tr th:only-of-type {\n",
       "        vertical-align: middle;\n",
       "    }\n",
       "\n",
       "    .dataframe tbody tr th {\n",
       "        vertical-align: top;\n",
       "    }\n",
       "\n",
       "    .dataframe thead th {\n",
       "        text-align: right;\n",
       "    }\n",
       "</style>\n",
       "<table border=\"1\" class=\"dataframe\">\n",
       "  <thead>\n",
       "    <tr style=\"text-align: right;\">\n",
       "      <th></th>\n",
       "      <th>Hypothesis</th>\n",
       "      <th>RICE</th>\n",
       "    </tr>\n",
       "  </thead>\n",
       "  <tbody>\n",
       "    <tr>\n",
       "      <th>7</th>\n",
       "      <td>Добавить форму подписки на все основные страницы, чтобы собрать базу клиентов для email-рассылок</td>\n",
       "      <td>112.0</td>\n",
       "    </tr>\n",
       "    <tr>\n",
       "      <th>2</th>\n",
       "      <td>Добавить блоки рекомендаций товаров на сайт интернет магазина, чтобы повысить конверсию и средний чек заказа</td>\n",
       "      <td>56.0</td>\n",
       "    </tr>\n",
       "    <tr>\n",
       "      <th>0</th>\n",
       "      <td>Добавить два новых канала привлечения трафика, что позволит привлекать на 30% больше пользователей</td>\n",
       "      <td>40.0</td>\n",
       "    </tr>\n",
       "    <tr>\n",
       "      <th>6</th>\n",
       "      <td>Показать на главной странице баннеры с актуальными акциями и распродажами, чтобы увеличить конверсию</td>\n",
       "      <td>40.0</td>\n",
       "    </tr>\n",
       "    <tr>\n",
       "      <th>8</th>\n",
       "      <td>Запустить акцию, дающую скидку на товар в день рождения</td>\n",
       "      <td>16.2</td>\n",
       "    </tr>\n",
       "    <tr>\n",
       "      <th>3</th>\n",
       "      <td>Изменить структура категорий, что увеличит конверсию, т.к. пользователи быстрее найдут нужный товар</td>\n",
       "      <td>9.0</td>\n",
       "    </tr>\n",
       "    <tr>\n",
       "      <th>1</th>\n",
       "      <td>Запустить собственную службу доставки, что сократит срок доставки заказов</td>\n",
       "      <td>4.0</td>\n",
       "    </tr>\n",
       "    <tr>\n",
       "      <th>5</th>\n",
       "      <td>Добавить страницу отзывов клиентов о магазине, что позволит увеличить количество заказов</td>\n",
       "      <td>4.0</td>\n",
       "    </tr>\n",
       "    <tr>\n",
       "      <th>4</th>\n",
       "      <td>Изменить цвет фона главной страницы, чтобы увеличить вовлеченность пользователей</td>\n",
       "      <td>3.0</td>\n",
       "    </tr>\n",
       "  </tbody>\n",
       "</table>\n",
       "</div>"
      ],
      "text/plain": [
       "                                                                                                     Hypothesis  \\\n",
       "7              Добавить форму подписки на все основные страницы, чтобы собрать базу клиентов для email-рассылок   \n",
       "2  Добавить блоки рекомендаций товаров на сайт интернет магазина, чтобы повысить конверсию и средний чек заказа   \n",
       "0            Добавить два новых канала привлечения трафика, что позволит привлекать на 30% больше пользователей   \n",
       "6          Показать на главной странице баннеры с актуальными акциями и распродажами, чтобы увеличить конверсию   \n",
       "8                                                       Запустить акцию, дающую скидку на товар в день рождения   \n",
       "3           Изменить структура категорий, что увеличит конверсию, т.к. пользователи быстрее найдут нужный товар   \n",
       "1                                     Запустить собственную службу доставки, что сократит срок доставки заказов   \n",
       "5                      Добавить страницу отзывов клиентов о магазине, что позволит увеличить количество заказов   \n",
       "4                              Изменить цвет фона главной страницы, чтобы увеличить вовлеченность пользователей   \n",
       "\n",
       "    RICE  \n",
       "7  112.0  \n",
       "2   56.0  \n",
       "0   40.0  \n",
       "6   40.0  \n",
       "8   16.2  \n",
       "3    9.0  \n",
       "1    4.0  \n",
       "5    4.0  \n",
       "4    3.0  "
      ]
     },
     "execution_count": 7,
     "metadata": {},
     "output_type": "execute_result"
    }
   ],
   "source": [
    "data['RICE'] = data['Reach'] * data['Impact'] * data['Confidence'] / data['Efforts']\n",
    "\n",
    "data[['Hypothesis', 'RICE']].sort_values(by='RICE', ascending=False)"
   ]
  },
  {
   "cell_type": "markdown",
   "metadata": {},
   "source": [
    "### Изменение приоритизации гипотез при применении RICE вместо ICE"
   ]
  },
  {
   "cell_type": "markdown",
   "metadata": {},
   "source": [
    "**Топ 4 гипотезы при применении ICE:**\n",
    "\n",
    "1. Запустить акцию, дающую скидку на товар в день рождения\n",
    "2. Добавить два новых канала привлечения трафика, что позволит привлекать на 30% больше пользователей\n",
    "3. Добавить форму подписки на все основные страницы, чтобы собрать базу клиентов для email-рассылок\n",
    "4. Показать на главной странице баннеры с актуальными акциями и распродажами, чтобы увеличить конверсию\n",
    "\n",
    "**Топ 4 гипотезы при применении RICE:**\n",
    "\n",
    "1. Добавить форму подписки на все основные страницы, чтобы собрать базу клиентов для email-рассылок\t\n",
    "2. Добавить блоки рекомендаций товаров на сайт интернет магазина, чтобы повысить конверсию и средний чек заказа\t\n",
    "3. Добавить два новых канала привлечения трафика, что позволит привлекать на 30% больше пользователей\n",
    "4. Показать на главной странице баннеры с актуальными акциями и распродажами, чтобы увеличить конверсию\n",
    "\n",
    "**Отличия:**\n",
    "\n",
    "Гипотеза, которая занимала третье место по ICE, переместилась на первое место по RICE из-за параметра охвата равного 10. Гипотеза \"Запустить акцию, дающую скидку на товар в день рождения\" с первого места опустилась на пятое, так как её параметр охвата равен всего 1. Приориты 2-й и 3-й гипотез поменялись местами."
   ]
  },
  {
   "cell_type": "markdown",
   "metadata": {},
   "source": [
    "## Анализ A/B-теста"
   ]
  },
  {
   "cell_type": "markdown",
   "metadata": {},
   "source": [
    "### График кумулятивной выручки по группам"
   ]
  },
  {
   "cell_type": "code",
   "execution_count": 8,
   "metadata": {},
   "outputs": [],
   "source": [
    "register_matplotlib_converters()\n",
    "orders = pd.read_csv('/datasets/orders.csv')\n",
    "orders['date'] = orders['date'].map(\n",
    "    lambda x: dt.datetime.strptime(x, '%Y-%m-%d')\n",
    ")\n",
    "\n",
    "visitors = pd.read_csv('/datasets/visitors.csv')\n",
    "visitors['date'] = visitors['date'].map(\n",
    "    lambda x: dt.datetime.strptime(x, '%Y-%m-%d')\n",
    ")"
   ]
  },
  {
   "cell_type": "code",
   "execution_count": 9,
   "metadata": {},
   "outputs": [
    {
     "name": "stdout",
     "output_type": "stream",
     "text": [
      "   transactionId   visitorId       date  revenue group\n",
      "0     3667963787  3312258926 2019-08-15     1650     B\n",
      "1     2804400009  3642806036 2019-08-15      730     B\n",
      "2     2961555356  4069496402 2019-08-15      400     A\n",
      "3     3797467345  1196621759 2019-08-15     9759     B\n",
      "4     2282983706  2322279887 2019-08-15     2308     B\n",
      "        date group  visitors\n",
      "0 2019-08-01     A       719\n",
      "1 2019-08-02     A       619\n",
      "2 2019-08-03     A       507\n",
      "3 2019-08-04     A       717\n",
      "4 2019-08-05     A       756\n"
     ]
    }
   ],
   "source": [
    "print(orders.head())\n",
    "print(visitors.head())"
   ]
  },
  {
   "cell_type": "code",
   "execution_count": 10,
   "metadata": {},
   "outputs": [
    {
     "data": {
      "image/png": "[encoded data removed]",
      "text/plain": [
       "<Figure size 1224x504 with 1 Axes>"
      ]
     },
     "metadata": {
      "needs_background": "light"
     },
     "output_type": "display_data"
    }
   ],
   "source": [
    "datesGroups = orders[['date', 'group']].drop_duplicates()\n",
    "\n",
    "ordersAggregated = datesGroups.apply(\n",
    "    lambda x: orders[\n",
    "        np.logical_and(\n",
    "            orders['date'] <= x['date'], orders['group'] == x['group']\n",
    "        )\n",
    "    ].agg(\n",
    "        {\n",
    "            'date': 'max',\n",
    "            'group': 'max',\n",
    "            'transactionId': 'nunique',\n",
    "            'visitorId': 'nunique',\n",
    "            'revenue': 'sum',\n",
    "        }\n",
    "    ),\n",
    "    axis=1,\n",
    ").sort_values(by=['date', 'group'])\n",
    "\n",
    "visitorsAggregated = datesGroups.apply(\n",
    "    lambda x: visitors[\n",
    "        np.logical_and(\n",
    "            visitors['date'] <= x['date'], visitors['group'] == x['group']\n",
    "        )\n",
    "    ].agg({'date': 'max', 'group': 'max', 'visitors': 'sum'}),\n",
    "    axis=1,\n",
    ").sort_values(by=['date', 'group'])\n",
    "\n",
    "cumulativeData = ordersAggregated.merge(\n",
    "    visitorsAggregated, left_on=['date', 'group'], right_on=['date', 'group']\n",
    ")\n",
    "cumulativeData.columns = [\n",
    "    'date',\n",
    "    'group',\n",
    "    'orders',\n",
    "    'buyers',\n",
    "    'revenue',\n",
    "    'visitors',\n",
    "]\n",
    "\n",
    "plt.figure(figsize=(17, 7))\n",
    "plt.grid(linestyle='--', color='gray', alpha=0.7)\n",
    "\n",
    "cumulativeRevenueA = umulativeRevenueA = cumulativeData[cumulativeData['group']=='A'][['date','revenue', 'orders']]\n",
    "\n",
    "cumulativeRevenueB = cumulativeData[cumulativeData['group']=='B'][['date','revenue', 'orders']]\n",
    "\n",
    "plt.plot(cumulativeRevenueA['date'], cumulativeRevenueA['revenue'], label='A')\n",
    "\n",
    "\n",
    "plt.plot(cumulativeRevenueB['date'], cumulativeRevenueB['revenue'], label='B')\n",
    "\n",
    "plt.legend()\n",
    "plt.title('График кумулятивной выручки по группам')\n",
    "plt.ylabel('Выручка')\n",
    "plt.xlabel('Дата')\n",
    "plt.show()"
   ]
  },
  {
   "cell_type": "markdown",
   "metadata": {},
   "source": [
    "**Вывод:**\n",
    "\n",
    "Кумулятивная выручка группы **B** выше практически во весь период, чем у группы **A**, за исключением небольших отрезков, где они сравниваются. При этом заметен резкий скачок выручки группы **B** вo второй половинe августа, который скорее всего связан с аномально большими покупками."
   ]
  },
  {
   "cell_type": "markdown",
   "metadata": {},
   "source": [
    "### График кумулятивного среднего чека по группам"
   ]
  },
  {
   "cell_type": "code",
   "execution_count": 11,
   "metadata": {},
   "outputs": [
    {
     "data": {
      "image/png": "[encoded data removed]",
      "text/plain": [
       "<Figure size 1224x504 with 1 Axes>"
      ]
     },
     "metadata": {
      "needs_background": "light"
     },
     "output_type": "display_data"
    }
   ],
   "source": [
    "plt.figure(figsize=(17, 7))\n",
    "plt.grid(linestyle='--', color='gray', alpha=0.7)\n",
    "plt.plot(cumulativeRevenueA['date'], cumulativeRevenueA['revenue']/cumulativeRevenueA['orders'], label='A')\n",
    "plt.plot(cumulativeRevenueB['date'], cumulativeRevenueB['revenue']/cumulativeRevenueB['orders'], label='B')\n",
    "plt.legend()\n",
    "plt.title('График кумулятивного среднего чека по группам')\n",
    "plt.ylabel('Средний чек')\n",
    "plt.xlabel('Дата')\n",
    "plt.show()"
   ]
  },
  {
   "cell_type": "markdown",
   "metadata": {},
   "source": [
    "**Вывод:**\n",
    "\n",
    "В начале исследуемого периода заметны колебания в среднем чеке у обеих групп. Однако во второй половине исследования кумулятивный средний чек группы **B** резко возрос, в то время как у группы **A** показатели оставались более стабильными. Этот всплеск может указывать на несколько крупных покупок."
   ]
  },
  {
   "cell_type": "markdown",
   "metadata": {},
   "source": [
    "### График относительного изменения кумулятивного среднего чека группы B к группе A."
   ]
  },
  {
   "cell_type": "code",
   "execution_count": 12,
   "metadata": {},
   "outputs": [
    {
     "data": {
      "image/png": "[encoded data removed]",
      "text/plain": [
       "<Figure size 1224x504 with 1 Axes>"
      ]
     },
     "metadata": {
      "needs_background": "light"
     },
     "output_type": "display_data"
    }
   ],
   "source": [
    "plt.figure(figsize=(17, 7))\n",
    "plt.grid(linestyle='--', color='gray', alpha=0.7)\n",
    "mergedCumulativeRevenue = cumulativeRevenueA.merge(cumulativeRevenueB, left_on='date', right_on='date', how='left', suffixes=['A', 'B'])\n",
    "\n",
    "\n",
    "plt.plot(mergedCumulativeRevenue['date'], (mergedCumulativeRevenue['revenueB']/mergedCumulativeRevenue['ordersB'])/(mergedCumulativeRevenue['revenueA']/mergedCumulativeRevenue['ordersA'])-1)\n",
    "\n",
    "\n",
    "plt.axhline(y=0, color='black', linestyle='--')\n",
    "plt.title('График относительного различия в среднем чеке между группами')\n",
    "plt.ylabel('Различия в среднем чеке')\n",
    "plt.xlabel('Дата')\n",
    "plt.show()"
   ]
  },
  {
   "cell_type": "markdown",
   "metadata": {},
   "source": [
    "**Вывод:**\n",
    "\n",
    "В первой половине исследования наблюдался резкий спад в относительном изменении кумулятивного среднего чека группы **B** к группе **A**, а в начале второй половины последовал резкий рост."
   ]
  },
  {
   "cell_type": "markdown",
   "metadata": {},
   "source": [
    "### График кумулятивного среднего количества заказов на посетителя по группам"
   ]
  },
  {
   "cell_type": "code",
   "execution_count": 13,
   "metadata": {},
   "outputs": [
    {
     "data": {
      "image/png": "[encoded data removed]",
      "text/plain": [
       "<Figure size 1224x504 with 1 Axes>"
      ]
     },
     "metadata": {
      "needs_background": "light"
     },
     "output_type": "display_data"
    }
   ],
   "source": [
    "plt.figure(figsize=(17, 7))\n",
    "plt.grid(linestyle='--', color='gray', alpha=0.7)\n",
    "cumulativeData['conversion'] = cumulativeData['orders']/cumulativeData['visitors']\n",
    "\n",
    "\n",
    "cumulativeDataA = cumulativeData[cumulativeData['group']=='A']\n",
    "\n",
    "\n",
    "cumulativeDataB = cumulativeData[cumulativeData['group']=='B']\n",
    "\n",
    "plt.plot(cumulativeDataA['date'], cumulativeDataA['conversion'], label='A')\n",
    "plt.plot(cumulativeDataB['date'], cumulativeDataB['conversion'], label='B')\n",
    "plt.legend()\n",
    "plt.title('График кумулятивного среднего количества заказов на посетителя по группам')\n",
    "plt.ylabel('Среднее количество заказов')\n",
    "plt.xlabel('Дата')\n",
    "plt.show()\n"
   ]
  },
  {
   "cell_type": "markdown",
   "metadata": {},
   "source": [
    "**Вывод:**\n",
    "\n",
    "Группа **B** имеет более высокое количество заказов на посетителя, чем группа **A**. В начале наблюдений группа **А** имела более высокую конверсию, но на 3-й день наблюдей произошол резкий спад. Резкие начальные колебания обоих групп стабилизируются ближе ко второй половине исследования. "
   ]
  },
  {
   "cell_type": "markdown",
   "metadata": {},
   "source": [
    "###  График относительного изменения кумулятивного среднего количества заказов на посетителя группы B к группе A."
   ]
  },
  {
   "cell_type": "code",
   "execution_count": 14,
   "metadata": {},
   "outputs": [
    {
     "data": {
      "image/png": "[encoded data removed]",
      "text/plain": [
       "<Figure size 1224x504 with 1 Axes>"
      ]
     },
     "metadata": {
      "needs_background": "light"
     },
     "output_type": "display_data"
    }
   ],
   "source": [
    "plt.figure(figsize=(17, 7))\n",
    "plt.grid(linestyle='--', color='gray', alpha=0.7)\n",
    "mergedCumulativeConversions = cumulativeDataA[['date','conversion']].merge(cumulativeDataB[['date','conversion']], left_on='date', right_on='date', how='left', suffixes=['A', 'B']) \n",
    "\n",
    "plt.plot(mergedCumulativeConversions['date'], mergedCumulativeConversions['conversionB']/mergedCumulativeConversions['conversionA']-1)\n",
    "\n",
    "plt.axhline(y=0, color='black', linestyle='--')\n",
    "plt.axhline(y=0.2, color='grey', linestyle='--')\n",
    "plt.title('График относительного изменения кумулятивного среднего количества заказов на посетителя группы B к группе A')\n",
    "plt.ylabel('изменения среднего количества заказов')\n",
    "plt.xlabel('Дата')\n",
    "plt.show()"
   ]
  },
  {
   "cell_type": "markdown",
   "metadata": {},
   "source": [
    "**Вывод:**\n",
    "\n",
    "Группа **B**, в начале показав более плохой результат относительно группы **А**, на 5-й день исследования демонстрирует рост конверсии пользователей и значительно лучшие показатели по сравнению с группой **А**."
   ]
  },
  {
   "cell_type": "markdown",
   "metadata": {},
   "source": [
    "### Точечный график количества заказов по пользователям."
   ]
  },
  {
   "cell_type": "code",
   "execution_count": 15,
   "metadata": {},
   "outputs": [
    {
     "data": {
      "image/png": "[encoded data removed]",
      "text/plain": [
       "<Figure size 432x288 with 1 Axes>"
      ]
     },
     "metadata": {
      "needs_background": "light"
     },
     "output_type": "display_data"
    }
   ],
   "source": [
    "ordersByUsers = (\n",
    "    orders.groupby('visitorId', as_index=False)\n",
    "    .agg({'transactionId': 'nunique'})\n",
    ")\n",
    "ordersByUsers.columns = ['visitorId', 'transaction']\n",
    "x_values = pd.Series(range(0, len(ordersByUsers)))\n",
    "plt.scatter(x_values, ordersByUsers['transaction']) \n",
    "plt.title('Точечный график количества заказов по пользователям')\n",
    "plt.ylabel('Количество заказов')\n",
    "plt.show()"
   ]
  },
  {
   "cell_type": "markdown",
   "metadata": {},
   "source": [
    "**Вывод:** \n",
    "\n",
    "В основном пользователи совершали не более двух заказов "
   ]
  },
  {
   "cell_type": "markdown",
   "metadata": {},
   "source": [
    "### 95-й и 99-й перцентили количества заказов на пользователя"
   ]
  },
  {
   "cell_type": "code",
   "execution_count": 16,
   "metadata": {},
   "outputs": [
    {
     "name": "stdout",
     "output_type": "stream",
     "text": [
      "[2. 4.]\n"
     ]
    }
   ],
   "source": [
    "ordersByUsers = (\n",
    "    orders.groupby('visitorId', as_index=False)\n",
    "    .agg({'transactionId': 'nunique'})\n",
    ")\n",
    "ordersByUsers.columns = ['userId', 'orders']\n",
    "\n",
    "print(np.percentile(ordersByUsers['orders'], [95, 99]))"
   ]
  },
  {
   "cell_type": "markdown",
   "metadata": {},
   "source": [
    "**Вывод:**\n",
    "\n",
    "Не более **5%** пользователей совершили больше 2-х заказов и не более **1%** пользователей больше 4-х. Из этого будем считать, что до двух заказов - это нормально, а больше - аномалия."
   ]
  },
  {
   "cell_type": "markdown",
   "metadata": {},
   "source": [
    "### Точечный график стоимостей заказов"
   ]
  },
  {
   "cell_type": "code",
   "execution_count": 17,
   "metadata": {},
   "outputs": [
    {
     "data": {
      "image/png": "[encoded data removed]",
      "text/plain": [
       "<Figure size 432x288 with 1 Axes>"
      ]
     },
     "metadata": {
      "needs_background": "light"
     },
     "output_type": "display_data"
    }
   ],
   "source": [
    "x_values = pd.Series(range(0, len(orders['revenue'])))\n",
    "plt.scatter(x_values, orders['revenue'])\n",
    "plt.title('Точечный график стоимостей заказов')\n",
    "plt.ylabel('Стоимость')\n",
    "plt.show()"
   ]
  },
  {
   "cell_type": "markdown",
   "metadata": {},
   "source": [
    "**Вывод:** \n",
    "\n",
    "Стоимость основного количества заказов не превышает 100к."
   ]
  },
  {
   "cell_type": "markdown",
   "metadata": {},
   "source": [
    "### 95-й и 99-й перцентили стоимости заказов"
   ]
  },
  {
   "cell_type": "code",
   "execution_count": 18,
   "metadata": {},
   "outputs": [
    {
     "name": "stdout",
     "output_type": "stream",
     "text": [
      "[28000.  58233.2]\n"
     ]
    }
   ],
   "source": [
    "print(np.percentile(orders['revenue'], [95, 99]))"
   ]
  },
  {
   "cell_type": "markdown",
   "metadata": {},
   "source": [
    "**Вывод:**\n",
    "\n",
    "Не более **5%** пользователей потратели на заказ больше 28000 и не более **1%** пользователей больше 58233.2. Из этого будем считать, что до 28000 сумма заказа - это нормально, а больше - аномалия"
   ]
  },
  {
   "cell_type": "markdown",
   "metadata": {},
   "source": [
    "###  Cтатистическая значимость различий в среднем количестве заказов на посетителя между группами по «сырым» данным"
   ]
  },
  {
   "cell_type": "markdown",
   "metadata": {},
   "source": [
    "* **Нулевая гипотеза:** различий в среднем количестве заказов на посетителя между группами по «сырым» данным нет.\n",
    "\n",
    "* **Альтернативная гипотеза:** различия в среднем количестве заказов на посетителя между группами по «сырым» данным есть."
   ]
  },
  {
   "cell_type": "code",
   "execution_count": 29,
   "metadata": {},
   "outputs": [
    {
     "name": "stdout",
     "output_type": "stream",
     "text": [
      "p-value: 0.01679\n",
      "статистическая значимость: 0.138\n"
     ]
    }
   ],
   "source": [
    "visitorsADaily = visitors[visitors['group'] == 'A'][['date', 'visitors']]\n",
    "visitorsADaily.columns = ['date', 'visitorsPerDateA']\n",
    "\n",
    "visitorsACummulative = visitorsADaily.apply(\n",
    "    lambda x: visitorsADaily[visitorsADaily['date'] <= x['date']].agg(\n",
    "        {'date': 'max', 'visitorsPerDateA': 'sum'}\n",
    "    ),\n",
    "    axis=1,\n",
    ")\n",
    "visitorsACummulative.columns = ['date', 'visitorsCummulativeA']\n",
    "\n",
    "visitorsBDaily = visitors[visitors['group'] == 'B'][['date', 'visitors']]\n",
    "visitorsBDaily.columns = ['date', 'visitorsPerDateB']\n",
    "\n",
    "visitorsBCummulative = visitorsBDaily.apply(\n",
    "    lambda x: visitorsBDaily[visitorsBDaily['date'] <= x['date']].agg(\n",
    "        {'date': 'max', 'visitorsPerDateB': 'sum'}\n",
    "    ),\n",
    "    axis=1,\n",
    ")\n",
    "visitorsBCummulative.columns = ['date', 'visitorsCummulativeB']\n",
    "\n",
    "ordersADaily = (\n",
    "    orders[orders['group'] == 'A'][['date', 'transactionId', 'visitorId', 'revenue']]\n",
    "    .groupby('date', as_index=False)\n",
    "    .agg({'transactionId': pd.Series.nunique, 'revenue': 'sum'})\n",
    ")\n",
    "ordersADaily.columns = ['date', 'ordersPerDateA', 'revenuePerDateA']\n",
    "\n",
    "ordersACummulative = ordersADaily.apply(\n",
    "    lambda x: ordersADaily[ordersADaily['date'] <= x['date']].agg(\n",
    "        {'date': 'max', 'ordersPerDateA': 'sum', 'revenuePerDateA': 'sum'}\n",
    "    ),\n",
    "    axis=1,\n",
    ").sort_values(by=['date'])\n",
    "ordersACummulative.columns = [\n",
    "    'date',\n",
    "    'ordersCummulativeA',\n",
    "    'revenueCummulativeA',\n",
    "]\n",
    "\n",
    "ordersBDaily = (\n",
    "    orders[orders['group'] == 'B'][['date', 'transactionId', 'visitorId', 'revenue']]\n",
    "    .groupby('date', as_index=False)\n",
    "    .agg({'transactionId': pd.Series.nunique, 'revenue': 'sum'})\n",
    ")\n",
    "ordersBDaily.columns = ['date', 'ordersPerDateB', 'revenuePerDateB']\n",
    "\n",
    "ordersBCummulative = ordersBDaily.apply(\n",
    "    lambda x: ordersBDaily[ordersBDaily['date'] <= x['date']].agg(\n",
    "        {'date': 'max', 'ordersPerDateB': 'sum', 'revenuePerDateB': 'sum'}\n",
    "    ),\n",
    "    axis=1,\n",
    ").sort_values(by=['date'])\n",
    "ordersBCummulative.columns = [\n",
    "    'date',\n",
    "    'ordersCummulativeB',\n",
    "    'revenueCummulativeB',\n",
    "]\n",
    "\n",
    "data = (\n",
    "    ordersADaily.merge(\n",
    "        ordersBDaily, left_on='date', right_on='date', how='left'\n",
    "    )\n",
    "    .merge(ordersACummulative, left_on='date', right_on='date', how='left')\n",
    "    .merge(ordersBCummulative, left_on='date', right_on='date', how='left')\n",
    "    .merge(visitorsADaily, left_on='date', right_on='date', how='left')\n",
    "    .merge(visitorsBDaily, left_on='date', right_on='date', how='left')\n",
    "    .merge(visitorsACummulative, left_on='date', right_on='date', how='left')\n",
    "    .merge(visitorsBCummulative, left_on='date', right_on='date', how='left')\n",
    ")\n",
    "\n",
    "\n",
    "ordersByUsersA = (\n",
    "    orders[orders['group'] == 'A']\n",
    "    .groupby('visitorId', as_index=False)\n",
    "    .agg({'transactionId': pd.Series.nunique})\n",
    ")\n",
    "ordersByUsersA.columns = ['visitorId', 'orders']\n",
    "\n",
    "ordersByUsersB = (\n",
    "    orders[orders['group'] == 'B']\n",
    "    .groupby('visitorId', as_index=False)\n",
    "    .agg({'transactionId': pd.Series.nunique})\n",
    ")\n",
    "ordersByUsersB.columns = ['visitorId', 'orders'] \n",
    "\n",
    "sampleA = pd.concat([ordersByUsersA['orders'],pd.Series(0, index=np.arange(data['visitorsPerDateA'].sum() - len(ordersByUsersA['orders'])), name='orders')],axis=0)\n",
    "\n",
    "sampleB = pd.concat([ordersByUsersB['orders'],pd.Series(0, index=np.arange(data['visitorsPerDateB'].sum() - len(ordersByUsersB['orders'])), name='orders')],axis=0)\n",
    "\n",
    "print('p-value:', \"{0:.5f}\".format(stats.mannwhitneyu(sampleA, sampleB)[1]))\n",
    "print('статистическая значимость:', \"{0:.3f}\".format((data['ordersPerDateB'].sum()/data['visitorsPerDateB'].sum())/(data['ordersPerDateA'].sum()/data['visitorsPerDateA'].sum())-1))"
   ]
  },
  {
   "cell_type": "markdown",
   "metadata": {},
   "source": [
    "**Вывод** \n",
    "\n",
    "P-value меньше установленного уровня статистической значимости, поэтому отвергаем нулевую гипотезу. Скорее всего, существуют различия в среднем количестве заказов на посетителя между группами."
   ]
  },
  {
   "cell_type": "markdown",
   "metadata": {},
   "source": [
    "### Статистическая значимость различий в среднем чеке заказа между группами по «сырым» данным"
   ]
  },
  {
   "cell_type": "markdown",
   "metadata": {},
   "source": [
    "* **Нулевая гипотеза:** различий в среднем чеке заказа между группами по «сырым» данным нет.\n",
    "\n",
    "* **Альтернативная гипотеза:** различия в среднем чеке заказа между группами по «сырым» данным есть."
   ]
  },
  {
   "cell_type": "code",
   "execution_count": 30,
   "metadata": {},
   "outputs": [
    {
     "name": "stdout",
     "output_type": "stream",
     "text": [
      "p-value: 0.729\n",
      "статистическая значимость: 0.259\n"
     ]
    }
   ],
   "source": [
    "print('p-value:', '{0:.3f}'.format(stats.mannwhitneyu(orders[orders['group']=='A']['revenue'], orders[orders['group']=='B']['revenue'])[1]))\n",
    "print('статистическая значимость:', '{0:.3f}'.format(orders[orders['group']=='B']['revenue'].mean()/orders[orders['group']=='A']['revenue'].mean()-1))"
   ]
  },
  {
   "cell_type": "markdown",
   "metadata": {},
   "source": [
    "**Вывод:**\n",
    "\n",
    "P-value больше установленного уровня статистической значимости. Нет оснований отвергать нулевую гипотезу."
   ]
  },
  {
   "cell_type": "markdown",
   "metadata": {},
   "source": [
    "### Cтатистическая значимость различий в среднем количестве заказов на посетителя между группами по «очищенным» данным"
   ]
  },
  {
   "cell_type": "markdown",
   "metadata": {},
   "source": [
    "* **Нулевая гипотеза:** различий в среднем количестве заказов на посетителя между группами по «очищенным» данным нет.\n",
    "\n",
    "* **Альтернативная гипотеза:** различия в среднем количестве заказов на посетителя между группами по «очищенным» данным есть."
   ]
  },
  {
   "cell_type": "code",
   "execution_count": 21,
   "metadata": {},
   "outputs": [
    {
     "name": "stdout",
     "output_type": "stream",
     "text": [
      "1099    148427295\n",
      "18      199603092\n",
      "928     204675465\n",
      "23      237748145\n",
      "37      249864742\n",
      "Name: visitorId, dtype: int64\n"
     ]
    }
   ],
   "source": [
    "usersWithManyOrders = pd.concat(\n",
    "    [\n",
    "        ordersByUsersA[ordersByUsersA['orders'] > 2]['visitorId'],\n",
    "        ordersByUsersB[ordersByUsersB['orders'] > 2]['visitorId'],\n",
    "    ],\n",
    "    axis=0,\n",
    ")\n",
    "usersWithExpensiveOrders = orders[orders['revenue'] > 28000]['visitorId']\n",
    "abnormalUsers = (\n",
    "    pd.concat([usersWithManyOrders, usersWithExpensiveOrders], axis=0)\n",
    "    .drop_duplicates()\n",
    "    .sort_values()\n",
    ")\n",
    "print(abnormalUsers.head(5))\n"
   ]
  },
  {
   "cell_type": "code",
   "execution_count": 31,
   "metadata": {},
   "outputs": [
    {
     "name": "stdout",
     "output_type": "stream",
     "text": [
      "p-value: 0.01304\n",
      "статистическая значимость: 0.173\n"
     ]
    }
   ],
   "source": [
    "sampleAFiltered = pd.concat(\n",
    "    [\n",
    "        ordersByUsersA[\n",
    "            np.logical_not(ordersByUsersA['visitorId'].isin(abnormalUsers))\n",
    "        ]['orders'],\n",
    "        pd.Series(\n",
    "            0,\n",
    "            index=np.arange(\n",
    "                data['visitorsPerDateA'].sum() - len(ordersByUsersA['orders'])\n",
    "            ),\n",
    "            name='orders',\n",
    "        ),\n",
    "    ],\n",
    "    axis=0,\n",
    ")\n",
    "\n",
    "sampleBFiltered = pd.concat(\n",
    "    [\n",
    "        ordersByUsersB[\n",
    "            np.logical_not(ordersByUsersB['visitorId'].isin(abnormalUsers))\n",
    "        ]['orders'],\n",
    "        pd.Series(\n",
    "            0,\n",
    "            index=np.arange(\n",
    "                data['visitorsPerDateB'].sum() - len(ordersByUsersB['orders'])\n",
    "            ),\n",
    "            name='orders',\n",
    "        ),\n",
    "    ],\n",
    "    axis=0,\n",
    ")\n",
    "\n",
    "print('p-value:', '{0:.5f}'.format(stats.mannwhitneyu(sampleAFiltered, sampleBFiltered)[1]))\n",
    "print('статистическая значимость:', '{0:.3f}'.format(sampleBFiltered.mean()/sampleAFiltered.mean()-1))"
   ]
  },
  {
   "cell_type": "markdown",
   "metadata": {},
   "source": [
    "**Вывод:**\n",
    "\n",
    "P-value меньше установленного уровня статистической значимости, поэтому отвергаем нулевую гипотезу. В очищенных данных, скорее всего, также присутствуют различия в среднем количестве заказов на посетителя между группами."
   ]
  },
  {
   "cell_type": "markdown",
   "metadata": {},
   "source": [
    "### Cтатистическая значимость различий в среднем чеке заказа между группами по «очищенным» данным"
   ]
  },
  {
   "cell_type": "markdown",
   "metadata": {},
   "source": [
    "* **Нулевая гипотеза:** различий в среднем чеке заказа между группами по «очищенным» данным нет.\n",
    "\n",
    "* **Альтернативная гипотеза:** различия в среднем чеке заказа между группами по «очищенным» данным есть."
   ]
  },
  {
   "cell_type": "code",
   "execution_count": 32,
   "metadata": {},
   "outputs": [
    {
     "name": "stdout",
     "output_type": "stream",
     "text": [
      "p-value: 0.738\n",
      "статистическая значимость: -0.020\n"
     ]
    }
   ],
   "source": [
    "print('p-value:', \n",
    "    '{0:.3f}'.format(\n",
    "        stats.mannwhitneyu(\n",
    "            orders[\n",
    "                np.logical_and(\n",
    "                    orders['group'] == 'A',\n",
    "                    np.logical_not(orders['visitorId'].isin(abnormalUsers)),\n",
    "                )\n",
    "            ]['revenue'],\n",
    "            orders[\n",
    "                np.logical_and(\n",
    "                    orders['group'] == 'B',\n",
    "                    np.logical_not(orders['visitorId'].isin(abnormalUsers)),\n",
    "                )\n",
    "            ]['revenue'],\n",
    "        )[1]\n",
    "    )\n",
    ")\n",
    "\n",
    "print('статистическая значимость:', \n",
    "    \"{0:.3f}\".format(\n",
    "        orders[\n",
    "            np.logical_and(\n",
    "                orders['group'] == 'B',\n",
    "                np.logical_not(orders['visitorId'].isin(abnormalUsers)),\n",
    "            )\n",
    "        ]['revenue'].mean()\n",
    "        / orders[\n",
    "            np.logical_and(\n",
    "                orders['group'] == 'A',\n",
    "                np.logical_not(orders['visitorId'].isin(abnormalUsers)),\n",
    "            )\n",
    "        ]['revenue'].mean()\n",
    "        - 1\n",
    "    )\n",
    ")"
   ]
  },
  {
   "cell_type": "markdown",
   "metadata": {},
   "source": [
    "**Вывод:**\n",
    "\n",
    "P-value практически не изменился. Он всё также больше установленного уровня статистической значимости, поэтому нет оснований отвергать нулевую гипотезу. Однако уровень различия значительно снизился до -2%."
   ]
  },
  {
   "cell_type": "markdown",
   "metadata": {},
   "source": [
    "### Решение по результатам теста и общий вывод"
   ]
  },
  {
   "cell_type": "markdown",
   "metadata": {},
   "source": [
    "Думаю, что тест можно считать успешным и завершить. Подводя итоги, можно выделить следующее:\n",
    "\n",
    "* Среднее количество заказов на посетителя различается между группами. Очистка данных не оказала значительного влияния на P-value и уровень различия. Группа **B** имела более высокий уровень конверсии пользователей чем группа **A**\n",
    "\n",
    "\n",
    "* Различия в среднем чеке на посетителя между группами отсутствуют. После очистки данных от аномальных значений уровень различия снизился до минимального.\n"
   ]
  }
 ],
 "metadata": {
  "ExecuteTimeLog": [
   {
    "duration": 5,
    "start_time": "2024-11-05T12:30:43.898Z"
   },
   {
    "duration": 433,
    "start_time": "2024-11-05T12:31:52.767Z"
   },
   {
    "duration": 69,
    "start_time": "2024-11-05T12:32:19.990Z"
   },
   {
    "duration": 412,
    "start_time": "2024-11-05T12:32:45.246Z"
   },
   {
    "duration": 72,
    "start_time": "2024-11-05T12:32:45.659Z"
   },
   {
    "duration": 14,
    "start_time": "2024-11-05T12:32:45.732Z"
   },
   {
    "duration": 8,
    "start_time": "2024-11-05T12:33:27.967Z"
   },
   {
    "duration": 1530,
    "start_time": "2024-11-05T12:40:40.113Z"
   },
   {
    "duration": 13,
    "start_time": "2024-11-05T12:41:37.826Z"
   },
   {
    "duration": 8,
    "start_time": "2024-11-05T12:42:11.962Z"
   },
   {
    "duration": 10,
    "start_time": "2024-11-05T12:42:24.559Z"
   },
   {
    "duration": 10,
    "start_time": "2024-11-05T12:44:02.314Z"
   },
   {
    "duration": 14,
    "start_time": "2024-11-05T12:44:07.290Z"
   },
   {
    "duration": 4,
    "start_time": "2024-11-05T12:55:05.366Z"
   },
   {
    "duration": 385,
    "start_time": "2024-11-05T12:55:09.175Z"
   },
   {
    "duration": 3,
    "start_time": "2024-11-05T12:55:09.562Z"
   },
   {
    "duration": 59,
    "start_time": "2024-11-05T12:55:09.566Z"
   },
   {
    "duration": 58,
    "start_time": "2024-11-05T12:55:09.627Z"
   },
   {
    "duration": 15,
    "start_time": "2024-11-05T12:55:09.687Z"
   },
   {
    "duration": 12,
    "start_time": "2024-11-05T12:55:09.703Z"
   },
   {
    "duration": 9,
    "start_time": "2024-11-05T12:55:43.044Z"
   },
   {
    "duration": 8,
    "start_time": "2024-11-05T12:55:45.734Z"
   },
   {
    "duration": 6,
    "start_time": "2024-11-05T12:56:38.841Z"
   },
   {
    "duration": 29,
    "start_time": "2024-11-05T12:58:02.704Z"
   },
   {
    "duration": 10,
    "start_time": "2024-11-05T12:58:04.838Z"
   },
   {
    "duration": 13,
    "start_time": "2024-11-05T12:58:18.262Z"
   },
   {
    "duration": 12,
    "start_time": "2024-11-05T12:58:32.787Z"
   },
   {
    "duration": 13,
    "start_time": "2024-11-05T12:58:52.360Z"
   },
   {
    "duration": 29,
    "start_time": "2024-11-05T13:02:08.704Z"
   },
   {
    "duration": 1041,
    "start_time": "2024-11-05T14:08:06.110Z"
   },
   {
    "duration": 457,
    "start_time": "2024-11-05T14:09:35.762Z"
   },
   {
    "duration": 637,
    "start_time": "2024-11-05T14:09:53.283Z"
   },
   {
    "duration": 3,
    "start_time": "2024-11-05T14:09:53.922Z"
   },
   {
    "duration": 38,
    "start_time": "2024-11-05T14:09:53.926Z"
   },
   {
    "duration": 13,
    "start_time": "2024-11-05T14:09:53.966Z"
   },
   {
    "duration": 17,
    "start_time": "2024-11-05T14:09:53.980Z"
   },
   {
    "duration": 11,
    "start_time": "2024-11-05T14:09:53.999Z"
   },
   {
    "duration": 519,
    "start_time": "2024-11-05T14:09:54.011Z"
   },
   {
    "duration": 432,
    "start_time": "2024-11-05T14:10:05.744Z"
   },
   {
    "duration": 51,
    "start_time": "2024-11-05T14:25:13.125Z"
   },
   {
    "duration": 13,
    "start_time": "2024-11-05T14:25:16.318Z"
   },
   {
    "duration": 412,
    "start_time": "2024-11-05T14:30:45.992Z"
   },
   {
    "duration": 74,
    "start_time": "2024-11-05T14:31:07.358Z"
   },
   {
    "duration": 10,
    "start_time": "2024-11-05T14:31:42.932Z"
   },
   {
    "duration": 55,
    "start_time": "2024-11-06T09:22:44.359Z"
   },
   {
    "duration": 869,
    "start_time": "2024-11-06T09:22:54.559Z"
   },
   {
    "duration": 3,
    "start_time": "2024-11-06T09:22:55.430Z"
   },
   {
    "duration": 76,
    "start_time": "2024-11-06T09:22:55.435Z"
   },
   {
    "duration": 12,
    "start_time": "2024-11-06T09:22:55.514Z"
   },
   {
    "duration": 12,
    "start_time": "2024-11-06T09:22:55.527Z"
   },
   {
    "duration": 13,
    "start_time": "2024-11-06T09:22:55.541Z"
   },
   {
    "duration": 212,
    "start_time": "2024-11-06T09:22:55.556Z"
   },
   {
    "duration": 9,
    "start_time": "2024-11-06T09:22:55.770Z"
   },
   {
    "duration": 161,
    "start_time": "2024-11-06T09:22:55.792Z"
   },
   {
    "duration": 80,
    "start_time": "2024-11-06T09:24:23.986Z"
   },
   {
    "duration": 7,
    "start_time": "2024-11-06T09:24:24.622Z"
   },
   {
    "duration": 27,
    "start_time": "2024-11-06T09:24:27.430Z"
   },
   {
    "duration": 596,
    "start_time": "2024-11-06T09:26:47.774Z"
   },
   {
    "duration": 417,
    "start_time": "2024-11-06T09:27:30.773Z"
   },
   {
    "duration": 192,
    "start_time": "2024-11-06T10:42:59.912Z"
   },
   {
    "duration": 223,
    "start_time": "2024-11-06T10:43:41.516Z"
   },
   {
    "duration": 54,
    "start_time": "2024-11-06T10:43:57.962Z"
   },
   {
    "duration": 376,
    "start_time": "2024-11-06T12:57:28.285Z"
   },
   {
    "duration": 272,
    "start_time": "2024-11-06T12:58:03.606Z"
   },
   {
    "duration": 12,
    "start_time": "2024-11-06T13:00:33.040Z"
   },
   {
    "duration": 181,
    "start_time": "2024-11-06T13:00:58.148Z"
   },
   {
    "duration": 210,
    "start_time": "2024-11-06T13:01:53.682Z"
   },
   {
    "duration": 169,
    "start_time": "2024-11-06T13:02:50.118Z"
   },
   {
    "duration": 324,
    "start_time": "2024-11-06T13:28:44.412Z"
   },
   {
    "duration": 3,
    "start_time": "2024-11-06T13:29:32.952Z"
   },
   {
    "duration": 253,
    "start_time": "2024-11-06T13:30:03.531Z"
   },
   {
    "duration": 1134,
    "start_time": "2024-11-06T14:34:11.547Z"
   },
   {
    "duration": 135,
    "start_time": "2024-11-06T14:35:58.281Z"
   },
   {
    "duration": 7,
    "start_time": "2024-11-06T14:37:26.874Z"
   },
   {
    "duration": 12,
    "start_time": "2024-11-06T14:39:04.513Z"
   },
   {
    "duration": 120,
    "start_time": "2024-11-06T14:42:09.910Z"
   },
   {
    "duration": 45,
    "start_time": "2024-11-08T07:34:24.295Z"
   },
   {
    "duration": 736,
    "start_time": "2024-11-08T07:34:27.796Z"
   },
   {
    "duration": 3,
    "start_time": "2024-11-08T07:34:28.534Z"
   },
   {
    "duration": 80,
    "start_time": "2024-11-08T07:34:28.538Z"
   },
   {
    "duration": 10,
    "start_time": "2024-11-08T07:34:28.620Z"
   },
   {
    "duration": 29,
    "start_time": "2024-11-08T07:34:28.632Z"
   },
   {
    "duration": 9,
    "start_time": "2024-11-08T07:34:28.662Z"
   },
   {
    "duration": 234,
    "start_time": "2024-11-08T07:34:28.672Z"
   },
   {
    "duration": 7,
    "start_time": "2024-11-08T07:34:28.907Z"
   },
   {
    "duration": 367,
    "start_time": "2024-11-08T07:34:28.916Z"
   },
   {
    "duration": 123,
    "start_time": "2024-11-08T07:34:29.284Z"
   },
   {
    "duration": 299,
    "start_time": "2024-11-08T07:34:29.409Z"
   },
   {
    "duration": 141,
    "start_time": "2024-11-08T07:34:29.709Z"
   },
   {
    "duration": 252,
    "start_time": "2024-11-08T07:34:29.852Z"
   },
   {
    "duration": 116,
    "start_time": "2024-11-08T07:34:30.106Z"
   },
   {
    "duration": 1149,
    "start_time": "2024-11-08T07:34:30.224Z"
   },
   {
    "duration": 10,
    "start_time": "2024-11-08T07:35:24.560Z"
   },
   {
    "duration": 9,
    "start_time": "2024-11-08T07:37:46.373Z"
   },
   {
    "duration": 7,
    "start_time": "2024-11-08T07:38:06.268Z"
   },
   {
    "duration": 2,
    "start_time": "2024-11-08T07:39:04.348Z"
   },
   {
    "duration": 1009,
    "start_time": "2024-11-08T08:20:09.733Z"
   },
   {
    "duration": 105,
    "start_time": "2024-11-08T08:21:43.003Z"
   },
   {
    "duration": 50,
    "start_time": "2024-11-08T14:28:36.840Z"
   },
   {
    "duration": 756,
    "start_time": "2024-11-08T14:28:40.706Z"
   },
   {
    "duration": 3,
    "start_time": "2024-11-08T14:28:41.464Z"
   },
   {
    "duration": 86,
    "start_time": "2024-11-08T14:28:41.468Z"
   },
   {
    "duration": 11,
    "start_time": "2024-11-08T14:28:41.556Z"
   },
   {
    "duration": 11,
    "start_time": "2024-11-08T14:28:41.569Z"
   },
   {
    "duration": 12,
    "start_time": "2024-11-08T14:28:41.581Z"
   },
   {
    "duration": 157,
    "start_time": "2024-11-08T14:28:41.594Z"
   },
   {
    "duration": 8,
    "start_time": "2024-11-08T14:28:41.753Z"
   },
   {
    "duration": 421,
    "start_time": "2024-11-08T14:28:41.763Z"
   },
   {
    "duration": 151,
    "start_time": "2024-11-08T14:28:42.186Z"
   },
   {
    "duration": 320,
    "start_time": "2024-11-08T14:28:42.338Z"
   },
   {
    "duration": 173,
    "start_time": "2024-11-08T14:28:42.660Z"
   },
   {
    "duration": 293,
    "start_time": "2024-11-08T14:28:42.836Z"
   },
   {
    "duration": 127,
    "start_time": "2024-11-08T14:28:43.131Z"
   },
   {
    "duration": 17,
    "start_time": "2024-11-08T14:28:43.260Z"
   },
   {
    "duration": 73,
    "start_time": "2024-11-08T14:28:43.278Z"
   },
   {
    "duration": 0,
    "start_time": "2024-11-08T14:28:43.352Z"
   },
   {
    "duration": 121,
    "start_time": "2024-11-08T14:28:55.710Z"
   },
   {
    "duration": 4,
    "start_time": "2024-11-08T14:28:59.108Z"
   },
   {
    "duration": 2,
    "start_time": "2024-11-08T14:38:16.457Z"
   },
   {
    "duration": 873,
    "start_time": "2024-11-09T10:49:07.365Z"
   },
   {
    "duration": 3,
    "start_time": "2024-11-09T10:49:08.240Z"
   },
   {
    "duration": 99,
    "start_time": "2024-11-09T10:49:08.245Z"
   },
   {
    "duration": 13,
    "start_time": "2024-11-09T10:49:08.346Z"
   },
   {
    "duration": 14,
    "start_time": "2024-11-09T10:49:08.360Z"
   },
   {
    "duration": 12,
    "start_time": "2024-11-09T10:49:08.375Z"
   },
   {
    "duration": 184,
    "start_time": "2024-11-09T10:49:08.388Z"
   },
   {
    "duration": 8,
    "start_time": "2024-11-09T10:49:08.573Z"
   },
   {
    "duration": 412,
    "start_time": "2024-11-09T10:49:08.583Z"
   },
   {
    "duration": 150,
    "start_time": "2024-11-09T10:49:08.997Z"
   },
   {
    "duration": 257,
    "start_time": "2024-11-09T10:49:09.149Z"
   },
   {
    "duration": 175,
    "start_time": "2024-11-09T10:49:09.408Z"
   },
   {
    "duration": 284,
    "start_time": "2024-11-09T10:49:09.585Z"
   },
   {
    "duration": 122,
    "start_time": "2024-11-09T10:49:09.870Z"
   },
   {
    "duration": 7,
    "start_time": "2024-11-09T10:49:09.994Z"
   },
   {
    "duration": 137,
    "start_time": "2024-11-09T10:49:10.002Z"
   },
   {
    "duration": 3,
    "start_time": "2024-11-09T10:49:10.141Z"
   },
   {
    "duration": 410,
    "start_time": "2024-11-09T10:49:45.624Z"
   },
   {
    "duration": 143,
    "start_time": "2024-11-09T10:50:43.879Z"
   },
   {
    "duration": 136,
    "start_time": "2024-11-09T10:51:03.937Z"
   },
   {
    "duration": 387,
    "start_time": "2024-11-09T10:51:09.874Z"
   },
   {
    "duration": 257,
    "start_time": "2024-11-09T10:52:10.233Z"
   },
   {
    "duration": 251,
    "start_time": "2024-11-09T10:52:24.013Z"
   },
   {
    "duration": 167,
    "start_time": "2024-11-09T10:52:57.552Z"
   },
   {
    "duration": 218,
    "start_time": "2024-11-09T10:54:48.574Z"
   },
   {
    "duration": 192,
    "start_time": "2024-11-09T10:56:01.533Z"
   },
   {
    "duration": 130,
    "start_time": "2024-11-09T10:57:11.290Z"
   },
   {
    "duration": 166,
    "start_time": "2024-11-09T11:01:41.313Z"
   },
   {
    "duration": 106,
    "start_time": "2024-11-09T11:03:29.531Z"
   },
   {
    "duration": 105,
    "start_time": "2024-11-09T11:04:45.724Z"
   },
   {
    "duration": 100,
    "start_time": "2024-11-09T11:06:54.843Z"
   },
   {
    "duration": 333,
    "start_time": "2024-11-09T11:11:12.011Z"
   },
   {
    "duration": 449,
    "start_time": "2024-11-09T11:12:04.289Z"
   },
   {
    "duration": 357,
    "start_time": "2024-11-09T11:12:14.108Z"
   },
   {
    "duration": 355,
    "start_time": "2024-11-09T11:13:07.706Z"
   },
   {
    "duration": 2,
    "start_time": "2024-11-09T11:14:07.021Z"
   },
   {
    "duration": 1256,
    "start_time": "2024-11-09T13:46:57.088Z"
   },
   {
    "duration": 2,
    "start_time": "2024-11-09T13:46:58.346Z"
   },
   {
    "duration": 90,
    "start_time": "2024-11-09T13:46:58.349Z"
   },
   {
    "duration": 13,
    "start_time": "2024-11-09T13:46:58.441Z"
   },
   {
    "duration": 10,
    "start_time": "2024-11-09T13:46:58.456Z"
   },
   {
    "duration": 9,
    "start_time": "2024-11-09T13:46:58.467Z"
   },
   {
    "duration": 148,
    "start_time": "2024-11-09T13:46:58.478Z"
   },
   {
    "duration": 7,
    "start_time": "2024-11-09T13:46:58.627Z"
   },
   {
    "duration": 407,
    "start_time": "2024-11-09T13:46:58.635Z"
   },
   {
    "duration": 137,
    "start_time": "2024-11-09T13:46:59.044Z"
   },
   {
    "duration": 284,
    "start_time": "2024-11-09T13:46:59.182Z"
   },
   {
    "duration": 167,
    "start_time": "2024-11-09T13:46:59.476Z"
   },
   {
    "duration": 283,
    "start_time": "2024-11-09T13:46:59.645Z"
   },
   {
    "duration": 128,
    "start_time": "2024-11-09T13:46:59.930Z"
   },
   {
    "duration": 8,
    "start_time": "2024-11-09T13:47:00.059Z"
   },
   {
    "duration": 202,
    "start_time": "2024-11-09T13:47:00.068Z"
   },
   {
    "duration": 5,
    "start_time": "2024-11-09T13:47:00.272Z"
   },
   {
    "duration": 347,
    "start_time": "2024-11-09T13:47:00.279Z"
   },
   {
    "duration": 1265,
    "start_time": "2024-11-09T15:51:11.855Z"
   },
   {
    "duration": 3,
    "start_time": "2024-11-09T15:51:13.122Z"
   },
   {
    "duration": 89,
    "start_time": "2024-11-09T15:51:13.127Z"
   },
   {
    "duration": 13,
    "start_time": "2024-11-09T15:51:13.220Z"
   },
   {
    "duration": 50,
    "start_time": "2024-11-09T15:51:13.235Z"
   },
   {
    "duration": 12,
    "start_time": "2024-11-09T15:51:13.287Z"
   },
   {
    "duration": 202,
    "start_time": "2024-11-09T15:51:13.300Z"
   },
   {
    "duration": 9,
    "start_time": "2024-11-09T15:51:13.504Z"
   },
   {
    "duration": 451,
    "start_time": "2024-11-09T15:51:13.515Z"
   },
   {
    "duration": 157,
    "start_time": "2024-11-09T15:51:13.969Z"
   },
   {
    "duration": 290,
    "start_time": "2024-11-09T15:51:14.128Z"
   },
   {
    "duration": 177,
    "start_time": "2024-11-09T15:51:14.419Z"
   },
   {
    "duration": 294,
    "start_time": "2024-11-09T15:51:14.598Z"
   },
   {
    "duration": 140,
    "start_time": "2024-11-09T15:51:14.893Z"
   },
   {
    "duration": 9,
    "start_time": "2024-11-09T15:51:15.034Z"
   },
   {
    "duration": 185,
    "start_time": "2024-11-09T15:51:15.045Z"
   },
   {
    "duration": 5,
    "start_time": "2024-11-09T15:51:15.232Z"
   },
   {
    "duration": 406,
    "start_time": "2024-11-09T15:51:15.239Z"
   },
   {
    "duration": 10,
    "start_time": "2024-11-09T15:51:21.393Z"
   },
   {
    "duration": 1310,
    "start_time": "2024-11-10T08:43:19.705Z"
   },
   {
    "duration": 3,
    "start_time": "2024-11-10T08:43:21.018Z"
   },
   {
    "duration": 78,
    "start_time": "2024-11-10T08:43:21.023Z"
   },
   {
    "duration": 13,
    "start_time": "2024-11-10T08:43:21.103Z"
   },
   {
    "duration": 12,
    "start_time": "2024-11-10T08:43:21.118Z"
   },
   {
    "duration": 11,
    "start_time": "2024-11-10T08:43:21.132Z"
   },
   {
    "duration": 181,
    "start_time": "2024-11-10T08:43:21.145Z"
   },
   {
    "duration": 8,
    "start_time": "2024-11-10T08:43:21.328Z"
   },
   {
    "duration": 468,
    "start_time": "2024-11-10T08:43:21.338Z"
   },
   {
    "duration": 162,
    "start_time": "2024-11-10T08:43:21.809Z"
   },
   {
    "duration": 351,
    "start_time": "2024-11-10T08:43:21.973Z"
   },
   {
    "duration": 188,
    "start_time": "2024-11-10T08:43:22.325Z"
   },
   {
    "duration": 277,
    "start_time": "2024-11-10T08:43:22.520Z"
   },
   {
    "duration": 145,
    "start_time": "2024-11-10T08:43:22.799Z"
   },
   {
    "duration": 8,
    "start_time": "2024-11-10T08:43:22.947Z"
   },
   {
    "duration": 154,
    "start_time": "2024-11-10T08:43:22.957Z"
   },
   {
    "duration": 11,
    "start_time": "2024-11-10T08:43:23.112Z"
   },
   {
    "duration": 380,
    "start_time": "2024-11-10T08:43:23.124Z"
   },
   {
    "duration": 20,
    "start_time": "2024-11-10T08:43:23.506Z"
   },
   {
    "duration": 1216,
    "start_time": "2024-11-10T09:06:29.386Z"
   },
   {
    "duration": 1284,
    "start_time": "2024-11-10T09:07:21.996Z"
   },
   {
    "duration": 11,
    "start_time": "2024-11-10T09:07:32.491Z"
   },
   {
    "duration": 1288,
    "start_time": "2024-11-10T10:01:59.909Z"
   },
   {
    "duration": 32,
    "start_time": "2024-11-10T10:02:24.601Z"
   },
   {
    "duration": 3,
    "start_time": "2024-11-10T10:03:39.156Z"
   },
   {
    "duration": 14,
    "start_time": "2024-11-10T10:04:39.140Z"
   },
   {
    "duration": 633,
    "start_time": "2024-11-10T10:07:07.876Z"
   },
   {
    "duration": 472,
    "start_time": "2024-11-10T10:07:41.776Z"
   },
   {
    "duration": 659,
    "start_time": "2024-11-10T10:08:44.106Z"
   },
   {
    "duration": 485,
    "start_time": "2024-11-10T10:08:57.404Z"
   },
   {
    "duration": 561,
    "start_time": "2024-11-10T10:09:24.974Z"
   },
   {
    "duration": 517,
    "start_time": "2024-11-10T10:09:41.809Z"
   },
   {
    "duration": 513,
    "start_time": "2024-11-10T10:10:01.295Z"
   },
   {
    "duration": 506,
    "start_time": "2024-11-10T10:10:20.855Z"
   },
   {
    "duration": 426,
    "start_time": "2024-11-10T10:11:02.632Z"
   },
   {
    "duration": 577,
    "start_time": "2024-11-10T10:12:26.450Z"
   },
   {
    "duration": 63,
    "start_time": "2024-11-10T10:13:15.493Z"
   },
   {
    "duration": 510,
    "start_time": "2024-11-10T10:13:29.280Z"
   },
   {
    "duration": 214,
    "start_time": "2024-11-10T10:14:13.796Z"
   },
   {
    "duration": 314,
    "start_time": "2024-11-10T10:14:23.072Z"
   },
   {
    "duration": 542,
    "start_time": "2024-11-10T10:14:49.383Z"
   },
   {
    "duration": 285,
    "start_time": "2024-11-10T10:15:54.333Z"
   },
   {
    "duration": 353,
    "start_time": "2024-11-10T10:17:12.927Z"
   },
   {
    "duration": 309,
    "start_time": "2024-11-10T10:18:12.562Z"
   },
   {
    "duration": 369,
    "start_time": "2024-11-10T10:19:31.119Z"
   },
   {
    "duration": 370,
    "start_time": "2024-11-10T12:03:50.669Z"
   },
   {
    "duration": 497,
    "start_time": "2024-11-10T12:04:32.617Z"
   },
   {
    "duration": 386,
    "start_time": "2024-11-10T12:05:31.279Z"
   },
   {
    "duration": 388,
    "start_time": "2024-11-10T12:06:18.970Z"
   },
   {
    "duration": 428,
    "start_time": "2024-11-10T12:06:30.485Z"
   },
   {
    "duration": 393,
    "start_time": "2024-11-10T12:08:28.420Z"
   },
   {
    "duration": 412,
    "start_time": "2024-11-10T12:08:41.634Z"
   },
   {
    "duration": 57,
    "start_time": "2024-11-10T12:50:24.820Z"
   },
   {
    "duration": 58,
    "start_time": "2024-11-10T13:04:39.645Z"
   },
   {
    "duration": 68,
    "start_time": "2024-11-11T09:42:42.122Z"
   },
   {
    "duration": 2,
    "start_time": "2024-11-11T09:43:37.527Z"
   },
   {
    "duration": 67,
    "start_time": "2024-11-11T09:52:51.338Z"
   },
   {
    "duration": 3,
    "start_time": "2024-11-11T09:53:44.694Z"
   },
   {
    "duration": 1338,
    "start_time": "2024-11-11T09:53:44.699Z"
   },
   {
    "duration": 8,
    "start_time": "2024-11-11T09:53:46.039Z"
   },
   {
    "duration": 76,
    "start_time": "2024-11-11T09:53:46.056Z"
   },
   {
    "duration": 23,
    "start_time": "2024-11-11T09:53:46.134Z"
   },
   {
    "duration": 12,
    "start_time": "2024-11-11T09:53:46.159Z"
   },
   {
    "duration": 17,
    "start_time": "2024-11-11T09:53:46.173Z"
   },
   {
    "duration": 190,
    "start_time": "2024-11-11T09:53:46.192Z"
   },
   {
    "duration": 8,
    "start_time": "2024-11-11T09:53:46.384Z"
   },
   {
    "duration": 664,
    "start_time": "2024-11-11T09:53:46.394Z"
   },
   {
    "duration": 263,
    "start_time": "2024-11-11T09:53:47.060Z"
   },
   {
    "duration": 433,
    "start_time": "2024-11-11T09:53:47.325Z"
   },
   {
    "duration": 319,
    "start_time": "2024-11-11T09:53:47.760Z"
   },
   {
    "duration": 335,
    "start_time": "2024-11-11T09:53:48.082Z"
   },
   {
    "duration": 149,
    "start_time": "2024-11-11T09:53:48.419Z"
   },
   {
    "duration": 8,
    "start_time": "2024-11-11T09:53:48.570Z"
   },
   {
    "duration": 151,
    "start_time": "2024-11-11T09:53:48.580Z"
   },
   {
    "duration": 25,
    "start_time": "2024-11-11T09:53:48.733Z"
   },
   {
    "duration": 420,
    "start_time": "2024-11-11T09:53:48.760Z"
   },
   {
    "duration": 11,
    "start_time": "2024-11-11T09:53:49.182Z"
   },
   {
    "duration": 21,
    "start_time": "2024-11-11T09:53:49.195Z"
   },
   {
    "duration": 109,
    "start_time": "2024-11-11T09:53:49.218Z"
   },
   {
    "duration": 25,
    "start_time": "2024-11-11T09:53:49.328Z"
   },
   {
    "duration": 1217,
    "start_time": "2024-11-11T09:54:57.165Z"
   },
   {
    "duration": 1348,
    "start_time": "2024-11-11T09:55:23.593Z"
   },
   {
    "duration": 4,
    "start_time": "2024-11-11T09:56:02.816Z"
   },
   {
    "duration": 1167,
    "start_time": "2024-11-11T09:56:02.822Z"
   },
   {
    "duration": 3,
    "start_time": "2024-11-11T09:56:03.991Z"
   },
   {
    "duration": 97,
    "start_time": "2024-11-11T09:56:03.996Z"
   },
   {
    "duration": 25,
    "start_time": "2024-11-11T09:56:04.096Z"
   },
   {
    "duration": 40,
    "start_time": "2024-11-11T09:56:04.123Z"
   },
   {
    "duration": 46,
    "start_time": "2024-11-11T09:56:04.165Z"
   },
   {
    "duration": 84,
    "start_time": "2024-11-11T09:56:04.213Z"
   },
   {
    "duration": 8,
    "start_time": "2024-11-11T09:56:04.298Z"
   },
   {
    "duration": 682,
    "start_time": "2024-11-11T09:56:04.308Z"
   },
   {
    "duration": 261,
    "start_time": "2024-11-11T09:56:04.992Z"
   },
   {
    "duration": 365,
    "start_time": "2024-11-11T09:56:05.254Z"
   },
   {
    "duration": 317,
    "start_time": "2024-11-11T09:56:05.622Z"
   },
   {
    "duration": 381,
    "start_time": "2024-11-11T09:56:05.943Z"
   },
   {
    "duration": 150,
    "start_time": "2024-11-11T09:56:06.327Z"
   },
   {
    "duration": 8,
    "start_time": "2024-11-11T09:56:06.479Z"
   },
   {
    "duration": 209,
    "start_time": "2024-11-11T09:56:06.488Z"
   },
   {
    "duration": 4,
    "start_time": "2024-11-11T09:56:06.699Z"
   },
   {
    "duration": 380,
    "start_time": "2024-11-11T09:56:06.704Z"
   },
   {
    "duration": 10,
    "start_time": "2024-11-11T09:56:07.086Z"
   },
   {
    "duration": 10,
    "start_time": "2024-11-11T09:56:07.097Z"
   },
   {
    "duration": 65,
    "start_time": "2024-11-11T09:56:07.108Z"
   },
   {
    "duration": 25,
    "start_time": "2024-11-11T09:56:07.175Z"
   },
   {
    "duration": 1266,
    "start_time": "2024-11-11T09:57:08.849Z"
   },
   {
    "duration": 4,
    "start_time": "2024-11-11T09:57:17.559Z"
   },
   {
    "duration": 1171,
    "start_time": "2024-11-11T09:57:17.575Z"
   },
   {
    "duration": 6,
    "start_time": "2024-11-11T09:57:18.755Z"
   },
   {
    "duration": 104,
    "start_time": "2024-11-11T09:57:18.763Z"
   },
   {
    "duration": 19,
    "start_time": "2024-11-11T09:57:18.869Z"
   },
   {
    "duration": 19,
    "start_time": "2024-11-11T09:57:18.891Z"
   },
   {
    "duration": 16,
    "start_time": "2024-11-11T09:57:18.912Z"
   },
   {
    "duration": 77,
    "start_time": "2024-11-11T09:57:18.931Z"
   },
   {
    "duration": 8,
    "start_time": "2024-11-11T09:57:19.010Z"
   },
   {
    "duration": 658,
    "start_time": "2024-11-11T09:57:19.020Z"
   },
   {
    "duration": 272,
    "start_time": "2024-11-11T09:57:19.679Z"
   },
   {
    "duration": 374,
    "start_time": "2024-11-11T09:57:19.955Z"
   },
   {
    "duration": 341,
    "start_time": "2024-11-11T09:57:20.330Z"
   },
   {
    "duration": 355,
    "start_time": "2024-11-11T09:57:20.673Z"
   },
   {
    "duration": 154,
    "start_time": "2024-11-11T09:57:21.031Z"
   },
   {
    "duration": 10,
    "start_time": "2024-11-11T09:57:21.187Z"
   },
   {
    "duration": 170,
    "start_time": "2024-11-11T09:57:21.199Z"
   },
   {
    "duration": 5,
    "start_time": "2024-11-11T09:57:21.371Z"
   },
   {
    "duration": 407,
    "start_time": "2024-11-11T09:57:21.378Z"
   },
   {
    "duration": 11,
    "start_time": "2024-11-11T09:57:21.787Z"
   },
   {
    "duration": 32,
    "start_time": "2024-11-11T09:57:21.799Z"
   },
   {
    "duration": 46,
    "start_time": "2024-11-11T09:57:21.833Z"
   },
   {
    "duration": 15,
    "start_time": "2024-11-11T09:57:21.881Z"
   },
   {
    "duration": 64,
    "start_time": "2024-11-11T09:58:19.056Z"
   },
   {
    "duration": 82,
    "start_time": "2024-11-11T10:00:02.741Z"
   },
   {
    "duration": 60,
    "start_time": "2024-11-11T10:02:43.222Z"
   },
   {
    "duration": 58,
    "start_time": "2024-11-11T10:04:00.554Z"
   },
   {
    "duration": 361,
    "start_time": "2024-11-11T10:05:43.579Z"
   },
   {
    "duration": 500,
    "start_time": "2024-11-11T10:06:15.131Z"
   },
   {
    "duration": 12,
    "start_time": "2024-11-11T10:06:41.479Z"
   },
   {
    "duration": 32,
    "start_time": "2024-11-11T10:07:12.744Z"
   },
   {
    "duration": 14,
    "start_time": "2024-11-11T10:07:52.447Z"
   }
  ],
  "kernelspec": {
   "display_name": "Python 3 (ipykernel)",
   "language": "python",
   "name": "python3"
  },
  "language_info": {
   "codemirror_mode": {
    "name": "ipython",
    "version": 3
   },
   "file_extension": ".py",
   "mimetype": "text/x-python",
   "name": "python",
   "nbconvert_exporter": "python",
   "pygments_lexer": "ipython3",
   "version": "3.9.19"
  },
  "toc": {
   "base_numbering": 1,
   "nav_menu": {},
   "number_sections": true,
   "sideBar": true,
   "skip_h1_title": true,
   "title_cell": "Table of Contents",
   "title_sidebar": "Contents",
   "toc_cell": false,
   "toc_position": {},
   "toc_section_display": true,
   "toc_window_display": false
  }
 },
 "nbformat": 4,
 "nbformat_minor": 4
}
