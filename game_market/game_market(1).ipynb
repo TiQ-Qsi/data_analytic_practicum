{
 "cells": [
  {
   "cell_type": "markdown",
   "metadata": {},
   "source": [
    "# Исследование интернет-магазина компьютерных игр"
   ]
  },
  {
   "cell_type": "markdown",
   "metadata": {},
   "source": [
    "В рамках учебного проекта нам необходимо выявить закономерности, определяющие успешность игр для интернет-магазина компьютерных игр «Стримчик». У нас есть доступ к историческим данным из открытых источников, включающих информацию о продажах игр, оценках пользователей и экспертов, а также жанрах и платформах (например, таких как Xbox и PlayStation). Данные охватывают период до 2016 года. Результаты  исследования позволят нам спланировать кампанию на 2017-й год."
   ]
  },
  {
   "cell_type": "markdown",
   "metadata": {},
   "source": [
    "**Описание данных:**\n",
    "\n",
    "* Name — название игры\n",
    "\n",
    "* Platform — платформа\n",
    "\n",
    "* Year_of_Release — год выпуска\n",
    "\n",
    "* Genre — жанр игры\n",
    "\n",
    "* NA_sales — продажи в Северной Америке (миллионы проданных копий)\n",
    "\n",
    "* EU_sales — продажи в Европе (миллионы проданных копий)\n",
    "\n",
    "* JP_sales — продажи в Японии (миллионы проданных копий)\n",
    "\n",
    "* Other_sales — продажи в других странах (миллионы проданных копий)\n",
    "\n",
    "* Critic_Score — оценка критиков (максимум 100)\n",
    "\n",
    "* User_Score — оценка пользователей (максимум 10)\n",
    "\n",
    "* Rating — рейтинг от организации ESRB (англ. Entertainment Software Rating Board). Эта ассоциация определяет рейтинг компьютерных игр и присваивает им подходящую возрастную категорию."
   ]
  },
  {
   "cell_type": "code",
   "execution_count": 1,
   "metadata": {},
   "outputs": [],
   "source": [
    "import pandas as pd\n",
    "import matplotlib.pyplot as plt\n",
    "import numpy as np\n",
    "import scipy.stats as st\n",
    "import seaborn as sns\n",
    "from scipy.stats import pearsonr"
   ]
  },
  {
   "cell_type": "markdown",
   "metadata": {},
   "source": [
    "## Обзор данных"
   ]
  },
  {
   "cell_type": "code",
   "execution_count": 2,
   "metadata": {},
   "outputs": [],
   "source": [
    "data = pd.read_csv('/datasets/games.csv')"
   ]
  },
  {
   "cell_type": "code",
   "execution_count": 3,
   "metadata": {},
   "outputs": [],
   "source": [
    "pd.set_option('display.max_columns', None)"
   ]
  },
  {
   "cell_type": "code",
   "execution_count": 4,
   "metadata": {},
   "outputs": [
    {
     "data": {
      "text/html": [
       "<div>\n",
       "<style scoped>\n",
       "    .dataframe tbody tr th:only-of-type {\n",
       "        vertical-align: middle;\n",
       "    }\n",
       "\n",
       "    .dataframe tbody tr th {\n",
       "        vertical-align: top;\n",
       "    }\n",
       "\n",
       "    .dataframe thead th {\n",
       "        text-align: right;\n",
       "    }\n",
       "</style>\n",
       "<table border=\"1\" class=\"dataframe\">\n",
       "  <thead>\n",
       "    <tr style=\"text-align: right;\">\n",
       "      <th></th>\n",
       "      <th>Name</th>\n",
       "      <th>Platform</th>\n",
       "      <th>Year_of_Release</th>\n",
       "      <th>Genre</th>\n",
       "      <th>NA_sales</th>\n",
       "      <th>EU_sales</th>\n",
       "      <th>JP_sales</th>\n",
       "      <th>Other_sales</th>\n",
       "      <th>Critic_Score</th>\n",
       "      <th>User_Score</th>\n",
       "      <th>Rating</th>\n",
       "    </tr>\n",
       "  </thead>\n",
       "  <tbody>\n",
       "    <tr>\n",
       "      <th>0</th>\n",
       "      <td>Wii Sports</td>\n",
       "      <td>Wii</td>\n",
       "      <td>2006.0</td>\n",
       "      <td>Sports</td>\n",
       "      <td>41.36</td>\n",
       "      <td>28.96</td>\n",
       "      <td>3.77</td>\n",
       "      <td>8.45</td>\n",
       "      <td>76.0</td>\n",
       "      <td>8</td>\n",
       "      <td>E</td>\n",
       "    </tr>\n",
       "    <tr>\n",
       "      <th>1</th>\n",
       "      <td>Super Mario Bros.</td>\n",
       "      <td>NES</td>\n",
       "      <td>1985.0</td>\n",
       "      <td>Platform</td>\n",
       "      <td>29.08</td>\n",
       "      <td>3.58</td>\n",
       "      <td>6.81</td>\n",
       "      <td>0.77</td>\n",
       "      <td>NaN</td>\n",
       "      <td>NaN</td>\n",
       "      <td>NaN</td>\n",
       "    </tr>\n",
       "    <tr>\n",
       "      <th>2</th>\n",
       "      <td>Mario Kart Wii</td>\n",
       "      <td>Wii</td>\n",
       "      <td>2008.0</td>\n",
       "      <td>Racing</td>\n",
       "      <td>15.68</td>\n",
       "      <td>12.76</td>\n",
       "      <td>3.79</td>\n",
       "      <td>3.29</td>\n",
       "      <td>82.0</td>\n",
       "      <td>8.3</td>\n",
       "      <td>E</td>\n",
       "    </tr>\n",
       "    <tr>\n",
       "      <th>3</th>\n",
       "      <td>Wii Sports Resort</td>\n",
       "      <td>Wii</td>\n",
       "      <td>2009.0</td>\n",
       "      <td>Sports</td>\n",
       "      <td>15.61</td>\n",
       "      <td>10.93</td>\n",
       "      <td>3.28</td>\n",
       "      <td>2.95</td>\n",
       "      <td>80.0</td>\n",
       "      <td>8</td>\n",
       "      <td>E</td>\n",
       "    </tr>\n",
       "    <tr>\n",
       "      <th>4</th>\n",
       "      <td>Pokemon Red/Pokemon Blue</td>\n",
       "      <td>GB</td>\n",
       "      <td>1996.0</td>\n",
       "      <td>Role-Playing</td>\n",
       "      <td>11.27</td>\n",
       "      <td>8.89</td>\n",
       "      <td>10.22</td>\n",
       "      <td>1.00</td>\n",
       "      <td>NaN</td>\n",
       "      <td>NaN</td>\n",
       "      <td>NaN</td>\n",
       "    </tr>\n",
       "    <tr>\n",
       "      <th>5</th>\n",
       "      <td>Tetris</td>\n",
       "      <td>GB</td>\n",
       "      <td>1989.0</td>\n",
       "      <td>Puzzle</td>\n",
       "      <td>23.20</td>\n",
       "      <td>2.26</td>\n",
       "      <td>4.22</td>\n",
       "      <td>0.58</td>\n",
       "      <td>NaN</td>\n",
       "      <td>NaN</td>\n",
       "      <td>NaN</td>\n",
       "    </tr>\n",
       "    <tr>\n",
       "      <th>6</th>\n",
       "      <td>New Super Mario Bros.</td>\n",
       "      <td>DS</td>\n",
       "      <td>2006.0</td>\n",
       "      <td>Platform</td>\n",
       "      <td>11.28</td>\n",
       "      <td>9.14</td>\n",
       "      <td>6.50</td>\n",
       "      <td>2.88</td>\n",
       "      <td>89.0</td>\n",
       "      <td>8.5</td>\n",
       "      <td>E</td>\n",
       "    </tr>\n",
       "    <tr>\n",
       "      <th>7</th>\n",
       "      <td>Wii Play</td>\n",
       "      <td>Wii</td>\n",
       "      <td>2006.0</td>\n",
       "      <td>Misc</td>\n",
       "      <td>13.96</td>\n",
       "      <td>9.18</td>\n",
       "      <td>2.93</td>\n",
       "      <td>2.84</td>\n",
       "      <td>58.0</td>\n",
       "      <td>6.6</td>\n",
       "      <td>E</td>\n",
       "    </tr>\n",
       "    <tr>\n",
       "      <th>8</th>\n",
       "      <td>New Super Mario Bros. Wii</td>\n",
       "      <td>Wii</td>\n",
       "      <td>2009.0</td>\n",
       "      <td>Platform</td>\n",
       "      <td>14.44</td>\n",
       "      <td>6.94</td>\n",
       "      <td>4.70</td>\n",
       "      <td>2.24</td>\n",
       "      <td>87.0</td>\n",
       "      <td>8.4</td>\n",
       "      <td>E</td>\n",
       "    </tr>\n",
       "    <tr>\n",
       "      <th>9</th>\n",
       "      <td>Duck Hunt</td>\n",
       "      <td>NES</td>\n",
       "      <td>1984.0</td>\n",
       "      <td>Shooter</td>\n",
       "      <td>26.93</td>\n",
       "      <td>0.63</td>\n",
       "      <td>0.28</td>\n",
       "      <td>0.47</td>\n",
       "      <td>NaN</td>\n",
       "      <td>NaN</td>\n",
       "      <td>NaN</td>\n",
       "    </tr>\n",
       "  </tbody>\n",
       "</table>\n",
       "</div>"
      ],
      "text/plain": [
       "                        Name Platform  Year_of_Release         Genre  \\\n",
       "0                 Wii Sports      Wii           2006.0        Sports   \n",
       "1          Super Mario Bros.      NES           1985.0      Platform   \n",
       "2             Mario Kart Wii      Wii           2008.0        Racing   \n",
       "3          Wii Sports Resort      Wii           2009.0        Sports   \n",
       "4   Pokemon Red/Pokemon Blue       GB           1996.0  Role-Playing   \n",
       "5                     Tetris       GB           1989.0        Puzzle   \n",
       "6      New Super Mario Bros.       DS           2006.0      Platform   \n",
       "7                   Wii Play      Wii           2006.0          Misc   \n",
       "8  New Super Mario Bros. Wii      Wii           2009.0      Platform   \n",
       "9                  Duck Hunt      NES           1984.0       Shooter   \n",
       "\n",
       "   NA_sales  EU_sales  JP_sales  Other_sales  Critic_Score User_Score Rating  \n",
       "0     41.36     28.96      3.77         8.45          76.0          8      E  \n",
       "1     29.08      3.58      6.81         0.77           NaN        NaN    NaN  \n",
       "2     15.68     12.76      3.79         3.29          82.0        8.3      E  \n",
       "3     15.61     10.93      3.28         2.95          80.0          8      E  \n",
       "4     11.27      8.89     10.22         1.00           NaN        NaN    NaN  \n",
       "5     23.20      2.26      4.22         0.58           NaN        NaN    NaN  \n",
       "6     11.28      9.14      6.50         2.88          89.0        8.5      E  \n",
       "7     13.96      9.18      2.93         2.84          58.0        6.6      E  \n",
       "8     14.44      6.94      4.70         2.24          87.0        8.4      E  \n",
       "9     26.93      0.63      0.28         0.47           NaN        NaN    NaN  "
      ]
     },
     "execution_count": 4,
     "metadata": {},
     "output_type": "execute_result"
    }
   ],
   "source": [
    "data.head(10)"
   ]
  },
  {
   "cell_type": "code",
   "execution_count": 5,
   "metadata": {},
   "outputs": [
    {
     "name": "stdout",
     "output_type": "stream",
     "text": [
      "<class 'pandas.core.frame.DataFrame'>\n",
      "RangeIndex: 16715 entries, 0 to 16714\n",
      "Data columns (total 11 columns):\n",
      " #   Column           Non-Null Count  Dtype  \n",
      "---  ------           --------------  -----  \n",
      " 0   Name             16713 non-null  object \n",
      " 1   Platform         16715 non-null  object \n",
      " 2   Year_of_Release  16446 non-null  float64\n",
      " 3   Genre            16713 non-null  object \n",
      " 4   NA_sales         16715 non-null  float64\n",
      " 5   EU_sales         16715 non-null  float64\n",
      " 6   JP_sales         16715 non-null  float64\n",
      " 7   Other_sales      16715 non-null  float64\n",
      " 8   Critic_Score     8137 non-null   float64\n",
      " 9   User_Score       10014 non-null  object \n",
      " 10  Rating           9949 non-null   object \n",
      "dtypes: float64(6), object(5)\n",
      "memory usage: 1.4+ MB\n"
     ]
    }
   ],
   "source": [
    "data.info()"
   ]
  },
  {
   "cell_type": "markdown",
   "metadata": {},
   "source": [
    "**Вывод:**\n",
    "\n",
    "\n",
    "В DataFrame имеются пропуски, а также в некоторых столбцах установлены некорректные типы данных."
   ]
  },
  {
   "cell_type": "markdown",
   "metadata": {},
   "source": [
    "## Подготовка данных"
   ]
  },
  {
   "cell_type": "markdown",
   "metadata": {},
   "source": [
    "### Предобработка данных"
   ]
  },
  {
   "cell_type": "markdown",
   "metadata": {},
   "source": [
    "Приведём названия столбцов к нижнему регистру."
   ]
  },
  {
   "cell_type": "code",
   "execution_count": 6,
   "metadata": {},
   "outputs": [
    {
     "data": {
      "text/plain": [
       "Index(['name', 'platform', 'year_of_release', 'genre', 'na_sales', 'eu_sales',\n",
       "       'jp_sales', 'other_sales', 'critic_score', 'user_score', 'rating'],\n",
       "      dtype='object')"
      ]
     },
     "execution_count": 6,
     "metadata": {},
     "output_type": "execute_result"
    }
   ],
   "source": [
    "data.columns = data.columns.str.lower()\n",
    "data.columns"
   ]
  },
  {
   "cell_type": "markdown",
   "metadata": {},
   "source": [
    "Удалим пропуски в столбце «name», а заодно и в столбце «genre». Пропуски в них совпадают."
   ]
  },
  {
   "cell_type": "code",
   "execution_count": 7,
   "metadata": {},
   "outputs": [],
   "source": [
    "data = data.dropna(subset=['name']).reset_index(drop=True)"
   ]
  },
  {
   "cell_type": "markdown",
   "metadata": {},
   "source": [
    "Проверим колличество пропусков в столбце «year_of_release»."
   ]
  },
  {
   "cell_type": "code",
   "execution_count": 8,
   "metadata": {},
   "outputs": [
    {
     "data": {
      "text/plain": [
       "269"
      ]
     },
     "execution_count": 8,
     "metadata": {},
     "output_type": "execute_result"
    }
   ],
   "source": [
    "data['year_of_release'].isna().sum()"
   ]
  },
  {
   "cell_type": "markdown",
   "metadata": {},
   "source": [
    "Скорее всего, эти игры еще не были изданы на момент сбора данных. Поэтому удалим строки с пропусками."
   ]
  },
  {
   "cell_type": "code",
   "execution_count": 9,
   "metadata": {},
   "outputs": [],
   "source": [
    "data = data.dropna(subset=['year_of_release']).reset_index(drop=True)"
   ]
  },
  {
   "cell_type": "markdown",
   "metadata": {},
   "source": [
    "изменим для удобства в столбце «year_of_release» тип данных с «float64» на «int64»."
   ]
  },
  {
   "cell_type": "code",
   "execution_count": 10,
   "metadata": {},
   "outputs": [],
   "source": [
    "data['year_of_release'] = data['year_of_release'].astype('int')"
   ]
  },
  {
   "cell_type": "markdown",
   "metadata": {},
   "source": [
    "Проверим пропуски в столбце «critic_score»"
   ]
  },
  {
   "cell_type": "code",
   "execution_count": 11,
   "metadata": {},
   "outputs": [
    {
     "data": {
      "text/plain": [
       "8461"
      ]
     },
     "execution_count": 11,
     "metadata": {},
     "output_type": "execute_result"
    }
   ],
   "source": [
    "data['critic_score'].isna().sum()"
   ]
  },
  {
   "cell_type": "markdown",
   "metadata": {},
   "source": [
    "Около половины всех строк в DataFrame содержат пропуски в этом столбце. К сожалению, мы не можем удалить эти строки, так как это приведет к значительному сокращению объема данных. Также не представляется возможным заполнить пропуски, потому что наши оценки будут далёкими от реальных. Это справедливо и для столбца «user_score»."
   ]
  },
  {
   "cell_type": "markdown",
   "metadata": {},
   "source": [
    "Проверим почему у столбца «user_score» тип данных «object», а не «float64»."
   ]
  },
  {
   "cell_type": "code",
   "execution_count": 12,
   "metadata": {},
   "outputs": [
    {
     "data": {
      "text/plain": [
       "array(['8', nan, '8.3', '8.5', '6.6', '8.4', '8.6', '7.7', '6.3', '7.4',\n",
       "       '8.2', '9', '7.9', '8.1', '8.7', '7.1', '3.4', '5.3', '4.8', '3.2',\n",
       "       '8.9', '6.4', '7.8', '7.5', '2.6', '7.2', '9.2', '7', '7.3', '4.3',\n",
       "       '7.6', '5.7', '5', '9.1', '6.5', 'tbd', '8.8', '6.9', '9.4', '6.8',\n",
       "       '6.1', '6.7', '5.4', '4', '4.9', '4.5', '9.3', '6.2', '4.2', '6',\n",
       "       '3.7', '4.1', '5.8', '5.6', '5.5', '4.4', '4.6', '5.9', '3.9',\n",
       "       '3.1', '2.9', '5.2', '3.3', '4.7', '5.1', '3.5', '2.5', '1.9', '3',\n",
       "       '2.7', '2.2', '2', '9.5', '2.1', '3.6', '2.8', '1.8', '3.8', '0',\n",
       "       '1.6', '9.6', '2.4', '1.7', '1.1', '0.3', '1.5', '0.7', '1.2',\n",
       "       '2.3', '0.5', '1.3', '0.2', '0.6', '1.4', '0.9', '1', '9.7'],\n",
       "      dtype=object)"
      ]
     },
     "execution_count": 12,
     "metadata": {},
     "output_type": "execute_result"
    }
   ],
   "source": [
    "data['user_score'].unique()"
   ]
  },
  {
   "cell_type": "markdown",
   "metadata": {},
   "source": [
    "«tbd» в контексте столбца «user_score» означает, что рейтинг пользователей не определен, то есть игра  не получила оценку. Заменим «tbd» на «NaN», а затем поменяем тип данных на «float64»."
   ]
  },
  {
   "cell_type": "code",
   "execution_count": 13,
   "metadata": {},
   "outputs": [],
   "source": [
    "data['user_score'] = data['user_score'].replace('tbd', np.nan)"
   ]
  },
  {
   "cell_type": "code",
   "execution_count": 14,
   "metadata": {},
   "outputs": [],
   "source": [
    "data['user_score'] = data['user_score'].astype('float')"
   ]
  },
  {
   "cell_type": "markdown",
   "metadata": {},
   "source": [
    "Система ESRB применяется только в США, Канаде и Мексике, поэтому мы не будем пока заполнять пропуски в столбце «rating»."
   ]
  },
  {
   "cell_type": "code",
   "execution_count": 15,
   "metadata": {},
   "outputs": [
    {
     "data": {
      "text/plain": [
       "1"
      ]
     },
     "execution_count": 15,
     "metadata": {},
     "output_type": "execute_result"
    }
   ],
   "source": [
    "data.duplicated(subset=['name', 'platform', 'year_of_release']).sum()"
   ]
  },
  {
   "cell_type": "code",
   "execution_count": 16,
   "metadata": {},
   "outputs": [],
   "source": [
    "data = data.drop_duplicates(subset=['name', 'platform', 'year_of_release']).reset_index(drop=True)"
   ]
  },
  {
   "cell_type": "markdown",
   "metadata": {},
   "source": [
    "Избавились от явных дубликатов."
   ]
  },
  {
   "cell_type": "code",
   "execution_count": 17,
   "metadata": {},
   "outputs": [
    {
     "data": {
      "text/plain": [
       "name               0\n",
       "platform           0\n",
       "year_of_release    0\n",
       "count              0\n",
       "dtype: int64"
      ]
     },
     "execution_count": 17,
     "metadata": {},
     "output_type": "execute_result"
    }
   ],
   "source": [
    "data.groupby(['name', 'platform', 'year_of_release']).size().reset_index(name='count').query('count > 1').count()"
   ]
  },
  {
   "cell_type": "code",
   "execution_count": 18,
   "metadata": {},
   "outputs": [
    {
     "data": {
      "text/plain": [
       "array(['Wii', 'NES', 'GB', 'DS', 'X360', 'PS3', 'PS2', 'SNES', 'GBA',\n",
       "       'PS4', '3DS', 'N64', 'PS', 'XB', 'PC', '2600', 'PSP', 'XOne',\n",
       "       'WiiU', 'GC', 'GEN', 'DC', 'PSV', 'SAT', 'SCD', 'WS', 'NG', 'TG16',\n",
       "       '3DO', 'GG', 'PCFX'], dtype=object)"
      ]
     },
     "execution_count": 18,
     "metadata": {},
     "output_type": "execute_result"
    }
   ],
   "source": [
    "data['platform'].unique()"
   ]
  },
  {
   "cell_type": "code",
   "execution_count": 19,
   "metadata": {},
   "outputs": [
    {
     "data": {
      "text/plain": [
       "array([2006, 1985, 2008, 2009, 1996, 1989, 1984, 2005, 1999, 2007, 2010,\n",
       "       2013, 2004, 1990, 1988, 2002, 2001, 2011, 1998, 2015, 2012, 2014,\n",
       "       1992, 1997, 1993, 1994, 1982, 2016, 2003, 1986, 2000, 1995, 1991,\n",
       "       1981, 1987, 1980, 1983])"
      ]
     },
     "execution_count": 19,
     "metadata": {},
     "output_type": "execute_result"
    }
   ],
   "source": [
    "data['year_of_release'].unique()"
   ]
  },
  {
   "cell_type": "markdown",
   "metadata": {},
   "source": [
    "### Промежуточные вычисления"
   ]
  },
  {
   "cell_type": "code",
   "execution_count": 20,
   "metadata": {},
   "outputs": [],
   "source": [
    "data['total_sales'] = data['na_sales'] + data['eu_sales'] + data['jp_sales'] + data['other_sales']"
   ]
  },
  {
   "cell_type": "code",
   "execution_count": 21,
   "metadata": {},
   "outputs": [
    {
     "data": {
      "text/html": [
       "<div>\n",
       "<style scoped>\n",
       "    .dataframe tbody tr th:only-of-type {\n",
       "        vertical-align: middle;\n",
       "    }\n",
       "\n",
       "    .dataframe tbody tr th {\n",
       "        vertical-align: top;\n",
       "    }\n",
       "\n",
       "    .dataframe thead th {\n",
       "        text-align: right;\n",
       "    }\n",
       "</style>\n",
       "<table border=\"1\" class=\"dataframe\">\n",
       "  <thead>\n",
       "    <tr style=\"text-align: right;\">\n",
       "      <th></th>\n",
       "      <th>name</th>\n",
       "      <th>platform</th>\n",
       "      <th>year_of_release</th>\n",
       "      <th>genre</th>\n",
       "      <th>na_sales</th>\n",
       "      <th>eu_sales</th>\n",
       "      <th>jp_sales</th>\n",
       "      <th>other_sales</th>\n",
       "      <th>critic_score</th>\n",
       "      <th>user_score</th>\n",
       "      <th>rating</th>\n",
       "      <th>total_sales</th>\n",
       "    </tr>\n",
       "  </thead>\n",
       "  <tbody>\n",
       "    <tr>\n",
       "      <th>0</th>\n",
       "      <td>Wii Sports</td>\n",
       "      <td>Wii</td>\n",
       "      <td>2006</td>\n",
       "      <td>Sports</td>\n",
       "      <td>41.36</td>\n",
       "      <td>28.96</td>\n",
       "      <td>3.77</td>\n",
       "      <td>8.45</td>\n",
       "      <td>76.0</td>\n",
       "      <td>8.0</td>\n",
       "      <td>E</td>\n",
       "      <td>82.54</td>\n",
       "    </tr>\n",
       "    <tr>\n",
       "      <th>1</th>\n",
       "      <td>Super Mario Bros.</td>\n",
       "      <td>NES</td>\n",
       "      <td>1985</td>\n",
       "      <td>Platform</td>\n",
       "      <td>29.08</td>\n",
       "      <td>3.58</td>\n",
       "      <td>6.81</td>\n",
       "      <td>0.77</td>\n",
       "      <td>NaN</td>\n",
       "      <td>NaN</td>\n",
       "      <td>NaN</td>\n",
       "      <td>40.24</td>\n",
       "    </tr>\n",
       "    <tr>\n",
       "      <th>2</th>\n",
       "      <td>Mario Kart Wii</td>\n",
       "      <td>Wii</td>\n",
       "      <td>2008</td>\n",
       "      <td>Racing</td>\n",
       "      <td>15.68</td>\n",
       "      <td>12.76</td>\n",
       "      <td>3.79</td>\n",
       "      <td>3.29</td>\n",
       "      <td>82.0</td>\n",
       "      <td>8.3</td>\n",
       "      <td>E</td>\n",
       "      <td>35.52</td>\n",
       "    </tr>\n",
       "    <tr>\n",
       "      <th>3</th>\n",
       "      <td>Wii Sports Resort</td>\n",
       "      <td>Wii</td>\n",
       "      <td>2009</td>\n",
       "      <td>Sports</td>\n",
       "      <td>15.61</td>\n",
       "      <td>10.93</td>\n",
       "      <td>3.28</td>\n",
       "      <td>2.95</td>\n",
       "      <td>80.0</td>\n",
       "      <td>8.0</td>\n",
       "      <td>E</td>\n",
       "      <td>32.77</td>\n",
       "    </tr>\n",
       "    <tr>\n",
       "      <th>4</th>\n",
       "      <td>Pokemon Red/Pokemon Blue</td>\n",
       "      <td>GB</td>\n",
       "      <td>1996</td>\n",
       "      <td>Role-Playing</td>\n",
       "      <td>11.27</td>\n",
       "      <td>8.89</td>\n",
       "      <td>10.22</td>\n",
       "      <td>1.00</td>\n",
       "      <td>NaN</td>\n",
       "      <td>NaN</td>\n",
       "      <td>NaN</td>\n",
       "      <td>31.38</td>\n",
       "    </tr>\n",
       "  </tbody>\n",
       "</table>\n",
       "</div>"
      ],
      "text/plain": [
       "                       name platform  year_of_release         genre  na_sales  \\\n",
       "0                Wii Sports      Wii             2006        Sports     41.36   \n",
       "1         Super Mario Bros.      NES             1985      Platform     29.08   \n",
       "2            Mario Kart Wii      Wii             2008        Racing     15.68   \n",
       "3         Wii Sports Resort      Wii             2009        Sports     15.61   \n",
       "4  Pokemon Red/Pokemon Blue       GB             1996  Role-Playing     11.27   \n",
       "\n",
       "   eu_sales  jp_sales  other_sales  critic_score  user_score rating  \\\n",
       "0     28.96      3.77         8.45          76.0         8.0      E   \n",
       "1      3.58      6.81         0.77           NaN         NaN    NaN   \n",
       "2     12.76      3.79         3.29          82.0         8.3      E   \n",
       "3     10.93      3.28         2.95          80.0         8.0      E   \n",
       "4      8.89     10.22         1.00           NaN         NaN    NaN   \n",
       "\n",
       "   total_sales  \n",
       "0        82.54  \n",
       "1        40.24  \n",
       "2        35.52  \n",
       "3        32.77  \n",
       "4        31.38  "
      ]
     },
     "execution_count": 21,
     "metadata": {},
     "output_type": "execute_result"
    }
   ],
   "source": [
    "data.head()"
   ]
  },
  {
   "cell_type": "markdown",
   "metadata": {},
   "source": [
    "### Вывод\n",
    "\n",
    "В ходе предобрабоки данных мы привели названия столбцов к нижнему регистру.  Также были обнаружены пропуски в столбцах year_of_release, name, genre, critic_score, user_score и rating. Мы удалили строки с пропусками в столбцах year_of_release, name и genre, а в остальных столбцах было решено на данном этапе оставить пропуски.\n",
    "Мы изменили типы данных в столбцах user_score и year_of_release. Кроме того, заменили значение tbd в user_score на NaN. Также проверили данные на дубликаты и избавились от них. Помимо всего прочего нами был добавлен столбец с общими продажами по регионам."
   ]
  },
  {
   "cell_type": "markdown",
   "metadata": {},
   "source": [
    "## Исследовательский анализ данных"
   ]
  },
  {
   "cell_type": "markdown",
   "metadata": {},
   "source": [
    "### Объем выпуска игр в разные годы"
   ]
  },
  {
   "cell_type": "code",
   "execution_count": 23,
   "metadata": {},
   "outputs": [
    {
     "data": {
      "image/png": "[encoded data removed]",
      "text/plain": [
       "<Figure size 648x360 with 1 Axes>"
      ]
     },
     "metadata": {
      "needs_background": "light"
     },
     "output_type": "display_data"
    }
   ],
   "source": [
    "data.pivot_table(\n",
    "    index='year_of_release', \n",
    "    values='name', \n",
    "    aggfunc='count'\n",
    ").plot(\n",
    "    kind='bar', \n",
    "    grid=True, \n",
    "    figsize=(9, 5)\n",
    ")\n",
    "\n",
    "plt.ylabel('Количество игровых проектов')\n",
    "plt.xlabel('Год релиза')\n",
    "plt.title('Объем выпуска игр в разные годы')\n",
    "plt.tight_layout()\n",
    "plt.show()"
   ]
  },
  {
   "cell_type": "markdown",
   "metadata": {},
   "source": [
    "**Вывод:**\n",
    "\n",
    "Согласно имеющимся данным, до 1995 года количество выпущенных игр составляло менее 200 проектов в год. После этого наблюдается постепенное увеличение числа проектов. С 2002 года разработка игр начинает резко расти, и эта тенденция сохраняется до 2011 года, после чего следует резкое снижение количества новых проектов. Данных об играх до 1995 года слишком мало, чтобы на их основании делать какие-либо выводы. Полагаю, они не имеют большого значения для исследования."
   ]
  },
  {
   "cell_type": "markdown",
   "metadata": {},
   "source": [
    "### Продажи по платформам"
   ]
  },
  {
   "cell_type": "markdown",
   "metadata": {},
   "source": [
    "Для начала оценим продажи по всем имеющимся игровым платформам."
   ]
  },
  {
   "cell_type": "code",
   "execution_count": 24,
   "metadata": {},
   "outputs": [
    {
     "data": {
      "image/png": "[encoded data removed]",
      "text/plain": [
       "<Figure size 648x360 with 1 Axes>"
      ]
     },
     "metadata": {
      "needs_background": "light"
     },
     "output_type": "display_data"
    }
   ],
   "source": [
    "sales_by_platform = data.pivot_table(\n",
    "    index='platform', \n",
    "    values='total_sales', \n",
    "    aggfunc='sum'\n",
    ").sort_values(\n",
    "    by='total_sales',\n",
    ")\n",
    "\n",
    "sales_by_platform.plot(\n",
    "    kind='bar', \n",
    "    grid=True, \n",
    "    figsize=(9, 5)\n",
    ")\n",
    "\n",
    "plt.ylabel('Суммарные продажи (млн. копий)')\n",
    "plt.xlabel('Платформа')\n",
    "plt.title('Суммарные продажи игр по платформам')\n",
    "plt.tight_layout()\n",
    "plt.show()"
   ]
  },
  {
   "cell_type": "markdown",
   "metadata": {},
   "source": [
    "У нас есть безусловный топ-6 по общим продажам. Давайте посмотрим, как ситуация в этом топе менялась в зависимости от года."
   ]
  },
  {
   "cell_type": "code",
   "execution_count": 25,
   "metadata": {},
   "outputs": [
    {
     "data": {
      "image/png": "[encoded data removed]",
      "text/plain": [
       "<Figure size 1224x504 with 1 Axes>"
      ]
     },
     "metadata": {
      "needs_background": "light"
     },
     "output_type": "display_data"
    }
   ],
   "source": [
    "top_platforms = sales_by_platform.reset_index().nlargest(6, 'total_sales')['platform']\n",
    "\n",
    "df_platforms = (\n",
    "    data[data['platform'].isin(top_platforms)]\n",
    "    .query('year_of_release >= 1994')\n",
    "    .pivot_table(\n",
    "        index=['platform', 'year_of_release'], \n",
    "        values='total_sales', \n",
    "        aggfunc='sum'\n",
    "    )\n",
    "    .reset_index()\n",
    ")\n",
    "  \n",
    "\n",
    "\n",
    "plt.figure(figsize=(17, 7))\n",
    "sns.barplot(data=df_platforms, x='year_of_release', y='total_sales', hue='platform')\n",
    "plt.grid(axis='y', linestyle='--', color='gray', alpha=0.7)\n",
    "plt.title('Распределение продаж по годам для платформ с наибольшими суммарными продажами')\n",
    "plt.xlabel('Год')\n",
    "plt.ylabel('Суммарные продажи млн. копий')\n",
    "plt.legend(title='Платформы')\n",
    "plt.tight_layout()\n",
    "plt.show()"
   ]
  },
  {
   "cell_type": "markdown",
   "metadata": {},
   "source": [
    "**Годы выпуска платформ:**\n",
    "\n",
    "1. Nintendo DS: 2004\n",
    "2. PlayStation (PS1): 1994\n",
    "3. PlayStation 2 (PS2): 2000\n",
    "4. PlayStation 3 (PS3): 2006\n",
    "5. Nintendo Wii: 2006\n",
    "6. Xbox 360 (X360): 2005"
   ]
  },
  {
   "cell_type": "markdown",
   "metadata": {},
   "source": [
    "**Вывод:** \n",
    "\n",
    "Игровые платформы от Sony, принадлежащие к серии PlayStation, пользуются наибольшей популярностью и демонстрируют самые высокие показатели продаж копий игр. Безусловным историческим лидером по популярности является PlayStation 2. Также стоит отметить консоли от Nintendo и Microsoft, игры для которых также пользуются большим спросом. Sony выпускает новые поколения консолей PlayStation примерно каждые 6–7 лет. В первый год после выхода новой игровой платформы она значительно уступает предыдущему поколению по продажам игр. Это объясняется отчасти меньшим количеством доступных игр по сравнению с предшественником. В среднем жизненный цикл приставки составляет около 7 лет. После этого продажи игр для неё сильно становятся минимальными. Microsoft, как один из основных конкурентов Sony, выпускает новые консоли примерно с такой же периодичностью. Nintendo DS — это портативная игровая система, а Nintendo Wii — полноценная консоль. Этим объясняется небольшой промежуток времени между выпуском этих платформ. Также хочу отметить, что Wii была самой успешной платформой Nintendo, и на старте продаж игры для неё расходились большим количеством копий, чем для других представленных здесь конкурентов."
   ]
  },
  {
   "cell_type": "markdown",
   "metadata": {},
   "source": [
    "### Актуальный период для прогноза на 2017-й"
   ]
  },
  {
   "cell_type": "markdown",
   "metadata": {},
   "source": [
    "В 2013 году Sony и Microsoft выпустили новые поколения своих консолей, поэтому предлагаю рассмотреть актуальный период с 2013 по 2016 год. В это же время увеличилось количество инди-игр, а также активно начали развиваться онлайн-сервисы, такие как PlayStation Plus и Xbox Live Gold."
   ]
  },
  {
   "cell_type": "code",
   "execution_count": 27,
   "metadata": {},
   "outputs": [],
   "source": [
    "actual_data = data.query('year_of_release >= 2013').reset_index(drop=True)"
   ]
  },
  {
   "cell_type": "markdown",
   "metadata": {},
   "source": [
    "### Топ платформ по продажам"
   ]
  },
  {
   "cell_type": "code",
   "execution_count": 28,
   "metadata": {},
   "outputs": [
    {
     "data": {
      "image/png": "[encoded data removed]",
      "text/plain": [
       "<Figure size 648x360 with 1 Axes>"
      ]
     },
     "metadata": {
      "needs_background": "light"
     },
     "output_type": "display_data"
    }
   ],
   "source": [
    "actual_top_platform = actual_data.pivot_table(\n",
    "    index='platform', \n",
    "    values='total_sales', \n",
    "    aggfunc='sum'\n",
    ")\n",
    "\n",
    "actual_top_platform.sort_values(\n",
    "    by='total_sales'\n",
    ").plot(\n",
    "    kind='bar', \n",
    "    figsize=(9, 5),\n",
    "    grid=True\n",
    ")\n",
    "\n",
    "plt.ylabel('Суммарные продажи млн. копий')\n",
    "plt.title('Суммарные продажи игр по платформам')\n",
    "plt.xlabel('Платформа')\n",
    "plt.tight_layout()\n",
    "plt.show()"
   ]
  },
  {
   "cell_type": "markdown",
   "metadata": {},
   "source": [
    "**Вывод:** \n",
    "\n",
    "Спрос на игры для Xbox 360 и PlayStation 3 начал снижаться, в то время как Xbox One и PlayStation 4 набирают популярность. Особенно стоит обратить внимание на PlayStation 4. Игры для этой платформы расходятся наибольшим количеством копий по сравнению с конкурентами. Интерес к Wii значительно упал, и в последнее время более популярной стала портативная игровая система Nintendo 3DS, которая вышла на 5 лет позже, чем Wii."
   ]
  },
  {
   "cell_type": "markdown",
   "metadata": {},
   "source": [
    "### Продажи игр в разбивке по платформам"
   ]
  },
  {
   "cell_type": "code",
   "execution_count": 29,
   "metadata": {},
   "outputs": [],
   "source": [
    "df_actual_platform = actual_top_platform.reset_index()['platform']\n",
    "\n",
    "top5_platform = actual_data[actual_data['platform'].isin(df_actual_platform)].reset_index(drop=True)"
   ]
  },
  {
   "cell_type": "code",
   "execution_count": 30,
   "metadata": {},
   "outputs": [
    {
     "data": {
      "image/png": "[encoded data removed]",
      "text/plain": [
       "<Figure size 576x432 with 1 Axes>"
      ]
     },
     "metadata": {
      "needs_background": "light"
     },
     "output_type": "display_data"
    }
   ],
   "source": [
    "plt.figure(figsize=(8, 6))\n",
    "sns.boxplot(x='platform', y='total_sales', data=top5_platform)\n",
    "plt.title('Глобальные продажи игр в разбивке по платформам')\n",
    "plt.xlabel('Платформа')\n",
    "plt.ylabel('Глобальные продажи (млн. единиц)')\n",
    "plt.grid(axis='y', linestyle='--', color='gray', alpha=0.7)\n",
    "plt.gca().set_ylim(0, 5)\n",
    "plt.show()\n"
   ]
  },
  {
   "cell_type": "code",
   "execution_count": 31,
   "metadata": {},
   "outputs": [
    {
     "data": {
      "text/plain": [
       "count    2233.000000\n",
       "mean        0.488442\n",
       "std         1.235226\n",
       "min         0.010000\n",
       "25%         0.030000\n",
       "50%         0.110000\n",
       "75%         0.400000\n",
       "max        21.050000\n",
       "Name: total_sales, dtype: float64"
      ]
     },
     "execution_count": 31,
     "metadata": {},
     "output_type": "execute_result"
    }
   ],
   "source": [
    "top5_platform['total_sales'].describe()"
   ]
  },
  {
   "cell_type": "code",
   "execution_count": 32,
   "metadata": {},
   "outputs": [
    {
     "data": {
      "text/html": [
       "<div>\n",
       "<style scoped>\n",
       "    .dataframe tbody tr th:only-of-type {\n",
       "        vertical-align: middle;\n",
       "    }\n",
       "\n",
       "    .dataframe tbody tr th {\n",
       "        vertical-align: top;\n",
       "    }\n",
       "\n",
       "    .dataframe thead th {\n",
       "        text-align: right;\n",
       "    }\n",
       "</style>\n",
       "<table border=\"1\" class=\"dataframe\">\n",
       "  <thead>\n",
       "    <tr style=\"text-align: right;\">\n",
       "      <th></th>\n",
       "      <th>name</th>\n",
       "      <th>platform</th>\n",
       "      <th>year_of_release</th>\n",
       "      <th>genre</th>\n",
       "      <th>na_sales</th>\n",
       "      <th>eu_sales</th>\n",
       "      <th>jp_sales</th>\n",
       "      <th>other_sales</th>\n",
       "      <th>critic_score</th>\n",
       "      <th>user_score</th>\n",
       "      <th>rating</th>\n",
       "      <th>total_sales</th>\n",
       "    </tr>\n",
       "  </thead>\n",
       "  <tbody>\n",
       "    <tr>\n",
       "      <th>0</th>\n",
       "      <td>Grand Theft Auto V</td>\n",
       "      <td>PS3</td>\n",
       "      <td>2013</td>\n",
       "      <td>Action</td>\n",
       "      <td>7.02</td>\n",
       "      <td>9.09</td>\n",
       "      <td>0.98</td>\n",
       "      <td>3.96</td>\n",
       "      <td>97.0</td>\n",
       "      <td>8.2</td>\n",
       "      <td>M</td>\n",
       "      <td>21.05</td>\n",
       "    </tr>\n",
       "    <tr>\n",
       "      <th>1</th>\n",
       "      <td>Grand Theft Auto V</td>\n",
       "      <td>X360</td>\n",
       "      <td>2013</td>\n",
       "      <td>Action</td>\n",
       "      <td>9.66</td>\n",
       "      <td>5.14</td>\n",
       "      <td>0.06</td>\n",
       "      <td>1.41</td>\n",
       "      <td>97.0</td>\n",
       "      <td>8.1</td>\n",
       "      <td>M</td>\n",
       "      <td>16.27</td>\n",
       "    </tr>\n",
       "    <tr>\n",
       "      <th>2</th>\n",
       "      <td>Call of Duty: Black Ops 3</td>\n",
       "      <td>PS4</td>\n",
       "      <td>2015</td>\n",
       "      <td>Shooter</td>\n",
       "      <td>6.03</td>\n",
       "      <td>5.86</td>\n",
       "      <td>0.36</td>\n",
       "      <td>2.38</td>\n",
       "      <td>NaN</td>\n",
       "      <td>NaN</td>\n",
       "      <td>NaN</td>\n",
       "      <td>14.63</td>\n",
       "    </tr>\n",
       "    <tr>\n",
       "      <th>3</th>\n",
       "      <td>Pokemon X/Pokemon Y</td>\n",
       "      <td>3DS</td>\n",
       "      <td>2013</td>\n",
       "      <td>Role-Playing</td>\n",
       "      <td>5.28</td>\n",
       "      <td>4.19</td>\n",
       "      <td>4.35</td>\n",
       "      <td>0.78</td>\n",
       "      <td>NaN</td>\n",
       "      <td>NaN</td>\n",
       "      <td>NaN</td>\n",
       "      <td>14.60</td>\n",
       "    </tr>\n",
       "    <tr>\n",
       "      <th>4</th>\n",
       "      <td>Grand Theft Auto V</td>\n",
       "      <td>PS4</td>\n",
       "      <td>2014</td>\n",
       "      <td>Action</td>\n",
       "      <td>3.96</td>\n",
       "      <td>6.31</td>\n",
       "      <td>0.38</td>\n",
       "      <td>1.97</td>\n",
       "      <td>97.0</td>\n",
       "      <td>8.3</td>\n",
       "      <td>M</td>\n",
       "      <td>12.62</td>\n",
       "    </tr>\n",
       "    <tr>\n",
       "      <th>5</th>\n",
       "      <td>Pokemon Omega Ruby/Pokemon Alpha Sapphire</td>\n",
       "      <td>3DS</td>\n",
       "      <td>2014</td>\n",
       "      <td>Role-Playing</td>\n",
       "      <td>4.35</td>\n",
       "      <td>3.49</td>\n",
       "      <td>3.10</td>\n",
       "      <td>0.74</td>\n",
       "      <td>NaN</td>\n",
       "      <td>NaN</td>\n",
       "      <td>NaN</td>\n",
       "      <td>11.68</td>\n",
       "    </tr>\n",
       "    <tr>\n",
       "      <th>6</th>\n",
       "      <td>Call of Duty: Ghosts</td>\n",
       "      <td>X360</td>\n",
       "      <td>2013</td>\n",
       "      <td>Shooter</td>\n",
       "      <td>6.73</td>\n",
       "      <td>2.56</td>\n",
       "      <td>0.04</td>\n",
       "      <td>0.91</td>\n",
       "      <td>73.0</td>\n",
       "      <td>2.6</td>\n",
       "      <td>M</td>\n",
       "      <td>10.24</td>\n",
       "    </tr>\n",
       "    <tr>\n",
       "      <th>7</th>\n",
       "      <td>Call of Duty: Ghosts</td>\n",
       "      <td>PS3</td>\n",
       "      <td>2013</td>\n",
       "      <td>Shooter</td>\n",
       "      <td>4.10</td>\n",
       "      <td>3.63</td>\n",
       "      <td>0.38</td>\n",
       "      <td>1.25</td>\n",
       "      <td>71.0</td>\n",
       "      <td>2.6</td>\n",
       "      <td>M</td>\n",
       "      <td>9.36</td>\n",
       "    </tr>\n",
       "    <tr>\n",
       "      <th>8</th>\n",
       "      <td>Minecraft</td>\n",
       "      <td>X360</td>\n",
       "      <td>2013</td>\n",
       "      <td>Misc</td>\n",
       "      <td>5.70</td>\n",
       "      <td>2.65</td>\n",
       "      <td>0.02</td>\n",
       "      <td>0.81</td>\n",
       "      <td>NaN</td>\n",
       "      <td>NaN</td>\n",
       "      <td>NaN</td>\n",
       "      <td>9.18</td>\n",
       "    </tr>\n",
       "    <tr>\n",
       "      <th>9</th>\n",
       "      <td>FIFA 16</td>\n",
       "      <td>PS4</td>\n",
       "      <td>2015</td>\n",
       "      <td>Sports</td>\n",
       "      <td>1.12</td>\n",
       "      <td>6.12</td>\n",
       "      <td>0.06</td>\n",
       "      <td>1.28</td>\n",
       "      <td>82.0</td>\n",
       "      <td>4.3</td>\n",
       "      <td>E</td>\n",
       "      <td>8.58</td>\n",
       "    </tr>\n",
       "  </tbody>\n",
       "</table>\n",
       "</div>"
      ],
      "text/plain": [
       "                                        name platform  year_of_release  \\\n",
       "0                         Grand Theft Auto V      PS3             2013   \n",
       "1                         Grand Theft Auto V     X360             2013   \n",
       "2                  Call of Duty: Black Ops 3      PS4             2015   \n",
       "3                        Pokemon X/Pokemon Y      3DS             2013   \n",
       "4                         Grand Theft Auto V      PS4             2014   \n",
       "5  Pokemon Omega Ruby/Pokemon Alpha Sapphire      3DS             2014   \n",
       "6                       Call of Duty: Ghosts     X360             2013   \n",
       "7                       Call of Duty: Ghosts      PS3             2013   \n",
       "8                                  Minecraft     X360             2013   \n",
       "9                                    FIFA 16      PS4             2015   \n",
       "\n",
       "          genre  na_sales  eu_sales  jp_sales  other_sales  critic_score  \\\n",
       "0        Action      7.02      9.09      0.98         3.96          97.0   \n",
       "1        Action      9.66      5.14      0.06         1.41          97.0   \n",
       "2       Shooter      6.03      5.86      0.36         2.38           NaN   \n",
       "3  Role-Playing      5.28      4.19      4.35         0.78           NaN   \n",
       "4        Action      3.96      6.31      0.38         1.97          97.0   \n",
       "5  Role-Playing      4.35      3.49      3.10         0.74           NaN   \n",
       "6       Shooter      6.73      2.56      0.04         0.91          73.0   \n",
       "7       Shooter      4.10      3.63      0.38         1.25          71.0   \n",
       "8          Misc      5.70      2.65      0.02         0.81           NaN   \n",
       "9        Sports      1.12      6.12      0.06         1.28          82.0   \n",
       "\n",
       "   user_score rating  total_sales  \n",
       "0         8.2      M        21.05  \n",
       "1         8.1      M        16.27  \n",
       "2         NaN    NaN        14.63  \n",
       "3         NaN    NaN        14.60  \n",
       "4         8.3      M        12.62  \n",
       "5         NaN    NaN        11.68  \n",
       "6         2.6      M        10.24  \n",
       "7         2.6      M         9.36  \n",
       "8         NaN    NaN         9.18  \n",
       "9         4.3      E         8.58  "
      ]
     },
     "execution_count": 32,
     "metadata": {},
     "output_type": "execute_result"
    }
   ],
   "source": [
    "top5_platform.nlargest(10, 'total_sales').sort_values(by='total_sales', ascending=False)"
   ]
  },
  {
   "cell_type": "markdown",
   "metadata": {},
   "source": [
    "**Вывод:**\n",
    "\n",
    "Самой продаваемой игрой для PlayStation 3 и Xbox 360 в период с 2013 по 2016 год стала Grand Theft Auto V. Она вышла эксклюзивно на этих консолях в 2013 году и только в 2015-м стала доступна на других платформах. Два самых больших выброса в наших данных приходятся именно на эту игру. Игровые бестселлеры и популярные эксклюзивы расходятся гигантскими тиражами по сравнению с основной массой проектов. "
   ]
  },
  {
   "cell_type": "markdown",
   "metadata": {},
   "source": [
    "### Влияние отзывов на продажи"
   ]
  },
  {
   "cell_type": "markdown",
   "metadata": {},
   "source": [
    "Давайте создадим новый DataFrame, включающий данные за актуальный период и не имеющий пропусков в столбце «critic_score», а также отфильтрованный по платформе PS4."
   ]
  },
  {
   "cell_type": "code",
   "execution_count": 33,
   "metadata": {},
   "outputs": [],
   "source": [
    "df_critic_score = top5_platform.dropna(subset=['critic_score']).reset_index(drop=True)\n",
    "ps4_critic_score= df_critic_score.query('platform == \"PS4\"')"
   ]
  },
  {
   "cell_type": "markdown",
   "metadata": {},
   "source": [
    "Повторим те же действия для «user_score». "
   ]
  },
  {
   "cell_type": "code",
   "execution_count": 34,
   "metadata": {},
   "outputs": [],
   "source": [
    "df_user_score = top5_platform.dropna(subset=['user_score']).reset_index(drop=True)\n",
    "ps4_user_score = df_user_score.query('platform == \"PS4\"')"
   ]
  },
  {
   "cell_type": "markdown",
   "metadata": {},
   "source": [
    "Посмотрим как влияют отзывы критиков на продажи."
   ]
  },
  {
   "cell_type": "code",
   "execution_count": 35,
   "metadata": {},
   "outputs": [
    {
     "data": {
      "image/png": "[encoded data removed]",
      "text/plain": [
       "<Figure size 648x360 with 1 Axes>"
      ]
     },
     "metadata": {
      "needs_background": "light"
     },
     "output_type": "display_data"
    },
    {
     "name": "stdout",
     "output_type": "stream",
     "text": [
      "Корреляция между отзывами критиков и продажами: 0.41\n"
     ]
    }
   ],
   "source": [
    "plt.figure(figsize=(9, 5))\n",
    "sns.scatterplot(x='critic_score', y='total_sales', data=ps4_critic_score, color='blue', label='Рейтинг критиков')\n",
    "\n",
    "plt.title('Влияние отзывов критиков на продажи игр')\n",
    "plt.xlabel('Рейтинг (от 0 до 100)')\n",
    "plt.ylabel('Глобальные продажи (млн. единиц)')\n",
    "plt.legend()\n",
    "plt.grid(axis='y', linestyle='--', color='gray', alpha=0.7)\n",
    "plt.tight_layout()\n",
    "plt.show()\n",
    "\n",
    "critic_correlation, _ = pearsonr(ps4_critic_score['critic_score'], ps4_critic_score['total_sales'])\n",
    "\n",
    "print(f'Корреляция между отзывами критиков и продажами: {critic_correlation:.2f}')"
   ]
  },
  {
   "cell_type": "markdown",
   "metadata": {},
   "source": [
    " * 1: Полная положительная линейная зависимость.\n",
    " * -1: Полная отрицательная линейная зависимость.\n",
    " * 0: Нет линейной зависимости."
   ]
  },
  {
   "cell_type": "markdown",
   "metadata": {},
   "source": [
    "Теперь рассмотрим, как отзывы пользователей влияют на продажи."
   ]
  },
  {
   "cell_type": "code",
   "execution_count": 36,
   "metadata": {},
   "outputs": [
    {
     "data": {
      "image/png": "[encoded data removed]",
      "text/plain": [
       "<Figure size 648x360 with 1 Axes>"
      ]
     },
     "metadata": {
      "needs_background": "light"
     },
     "output_type": "display_data"
    },
    {
     "name": "stdout",
     "output_type": "stream",
     "text": [
      "Корреляция между отзывами пользователей и продажами: -0.03\n"
     ]
    }
   ],
   "source": [
    "plt.figure(figsize=(9, 5))\n",
    "sns.scatterplot(x='user_score', y='total_sales', data=ps4_user_score, color='blue', label='Ретинг пользователей')\n",
    "\n",
    "plt.title('Влияние отзывов пользователей на продажи игр')\n",
    "plt.xlabel('Рейтинг (от 0 до 10)')\n",
    "plt.ylabel('Глобальные продажи (млн. единиц)')\n",
    "plt.legend()\n",
    "plt.grid(axis='y', linestyle='--', color='gray', alpha=0.7)\n",
    "plt.tight_layout()\n",
    "plt.show()\n",
    "\n",
    "user_correlation, _ = pearsonr(ps4_user_score['user_score'], ps4_user_score['total_sales'])\n",
    "\n",
    "print(f'Корреляция между отзывами пользователей и продажами: {user_correlation:.2f}')"
   ]
  },
  {
   "cell_type": "markdown",
   "metadata": {},
   "source": [
    "**Вывод:**\n",
    "\n",
    "Между отзывами критиков и продажами игр наблюдается умеренная положительная корреляция, в то время как для отзывов пользователей характерна слабая отрицательная корреляция. Это указывает на то, что критики, вероятно, оценивают игры более объективно по сравнению с пользователями. Эта тенденция подтверждается визуальным анализом на диаграмме рассеяния."
   ]
  },
  {
   "cell_type": "markdown",
   "metadata": {},
   "source": [
    "Теперь проверим, насколько справедлив наш вывод относительно других игровых платформ."
   ]
  },
  {
   "cell_type": "code",
   "execution_count": 39,
   "metadata": {},
   "outputs": [],
   "source": [
    "xone_score = actual_data.query('platform == \"XOne\"')\n",
    "ps3_score = actual_data.query('platform == \"PS3\"')\n",
    "x360_score = actual_data.query('platform == \"X360\"')\n",
    "\n",
    "\n",
    "columns_to_compare = ['user_score', 'critic_score']\n",
    "\n",
    "def get_scatterplot(df):\n",
    "    for column in columns_to_compare:\n",
    "        plt.figure(figsize=(9, 5))\n",
    "        sns.scatterplot(x=df[column], y=df['total_sales'], color='blue', label='Ретинг')\n",
    "        plt.title(f'Влияние отзывов {column} на продажи игр')\n",
    "        plt.xlabel('Рейтинг')\n",
    "        plt.ylabel('Глобальные продажи (млн. единиц)')\n",
    "        plt.legend()\n",
    "        plt.grid(axis='y', linestyle='--', color='gray', alpha=0.7)\n",
    "        plt.tight_layout()\n",
    "        plt.show()   \n",
    "        \n",
    "#get_scatterplot(xone_score)  \n",
    "\n",
    "\n",
    "def get_correlation(df_cor):\n",
    "    for column in columns_to_compare:\n",
    "        sub_df = df_cor.dropna(subset=[column])\n",
    "        correlation, _ = pearsonr(sub_df[column], sub_df['total_sales'])\n",
    "        print(f'Корреляция между отзывами {column} и продажами: {correlation:.2f}')\n",
    "        \n",
    "        \n",
    "    \n",
    "#get_correlation(xone_score)"
   ]
  },
  {
   "cell_type": "markdown",
   "metadata": {},
   "source": [
    "Рассмотрим ситуацию для Xbox One."
   ]
  },
  {
   "cell_type": "code",
   "execution_count": 40,
   "metadata": {},
   "outputs": [
    {
     "data": {
      "image/png": "[encoded data removed]",
      "text/plain": [
       "<Figure size 648x360 with 1 Axes>"
      ]
     },
     "metadata": {
      "needs_background": "light"
     },
     "output_type": "display_data"
    },
    {
     "data": {
      "image/png": "[encoded data removed]",
      "text/plain": [
       "<Figure size 648x360 with 1 Axes>"
      ]
     },
     "metadata": {
      "needs_background": "light"
     },
     "output_type": "display_data"
    }
   ],
   "source": [
    "get_scatterplot(xone_score)"
   ]
  },
  {
   "cell_type": "code",
   "execution_count": 41,
   "metadata": {},
   "outputs": [
    {
     "name": "stdout",
     "output_type": "stream",
     "text": [
      "Корреляция между отзывами user_score и продажами: -0.07\n",
      "Корреляция между отзывами critic_score и продажами: 0.42\n"
     ]
    }
   ],
   "source": [
    "get_correlation(xone_score)"
   ]
  },
  {
   "cell_type": "markdown",
   "metadata": {},
   "source": [
    "Теперь посмотрим, как обстоят дела у PlayStation 3."
   ]
  },
  {
   "cell_type": "code",
   "execution_count": 42,
   "metadata": {},
   "outputs": [
    {
     "data": {
      "image/png": "[encoded data removed]",
      "text/plain": [
       "<Figure size 648x360 with 1 Axes>"
      ]
     },
     "metadata": {
      "needs_background": "light"
     },
     "output_type": "display_data"
    },
    {
     "data": {
      "image/png": "[encoded data removed]",
      "text/plain": [
       "<Figure size 648x360 with 1 Axes>"
      ]
     },
     "metadata": {
      "needs_background": "light"
     },
     "output_type": "display_data"
    }
   ],
   "source": [
    "get_scatterplot(ps3_score)"
   ]
  },
  {
   "cell_type": "code",
   "execution_count": 43,
   "metadata": {},
   "outputs": [
    {
     "name": "stdout",
     "output_type": "stream",
     "text": [
      "Корреляция между отзывами user_score и продажами: 0.00\n",
      "Корреляция между отзывами critic_score и продажами: 0.33\n"
     ]
    }
   ],
   "source": [
    "get_correlation(ps3_score)"
   ]
  },
  {
   "cell_type": "markdown",
   "metadata": {},
   "source": [
    "Чтобы быть уверенными в полноте картины, давайте также рассмотрим ситуацию с Xbox 360."
   ]
  },
  {
   "cell_type": "code",
   "execution_count": 44,
   "metadata": {},
   "outputs": [
    {
     "data": {
      "image/png": "[encoded data removed]",
      "text/plain": [
       "<Figure size 648x360 with 1 Axes>"
      ]
     },
     "metadata": {
      "needs_background": "light"
     },
     "output_type": "display_data"
    },
    {
     "data": {
      "image/png": "[encoded data removed]",
      "text/plain": [
       "<Figure size 648x360 with 1 Axes>"
      ]
     },
     "metadata": {
      "needs_background": "light"
     },
     "output_type": "display_data"
    }
   ],
   "source": [
    "get_scatterplot(x360_score)"
   ]
  },
  {
   "cell_type": "code",
   "execution_count": 45,
   "metadata": {},
   "outputs": [
    {
     "name": "stdout",
     "output_type": "stream",
     "text": [
      "Корреляция между отзывами user_score и продажами: -0.01\n",
      "Корреляция между отзывами critic_score и продажами: 0.35\n"
     ]
    }
   ],
   "source": [
    "get_correlation(x360_score)"
   ]
  },
  {
   "cell_type": "code",
   "execution_count": 46,
   "metadata": {},
   "outputs": [
    {
     "data": {
      "text/html": [
       "<div>\n",
       "<style scoped>\n",
       "    .dataframe tbody tr th:only-of-type {\n",
       "        vertical-align: middle;\n",
       "    }\n",
       "\n",
       "    .dataframe tbody tr th {\n",
       "        vertical-align: top;\n",
       "    }\n",
       "\n",
       "    .dataframe thead th {\n",
       "        text-align: right;\n",
       "    }\n",
       "</style>\n",
       "<table border=\"1\" class=\"dataframe\">\n",
       "  <thead>\n",
       "    <tr style=\"text-align: right;\">\n",
       "      <th></th>\n",
       "      <th>name</th>\n",
       "      <th>platform</th>\n",
       "      <th>year_of_release</th>\n",
       "      <th>genre</th>\n",
       "      <th>na_sales</th>\n",
       "      <th>eu_sales</th>\n",
       "      <th>jp_sales</th>\n",
       "      <th>other_sales</th>\n",
       "      <th>critic_score</th>\n",
       "      <th>user_score</th>\n",
       "      <th>rating</th>\n",
       "      <th>total_sales</th>\n",
       "    </tr>\n",
       "  </thead>\n",
       "  <tbody>\n",
       "    <tr>\n",
       "      <th>6</th>\n",
       "      <td>Call of Duty: Ghosts</td>\n",
       "      <td>X360</td>\n",
       "      <td>2013</td>\n",
       "      <td>Shooter</td>\n",
       "      <td>6.73</td>\n",
       "      <td>2.56</td>\n",
       "      <td>0.04</td>\n",
       "      <td>0.91</td>\n",
       "      <td>73.0</td>\n",
       "      <td>2.6</td>\n",
       "      <td>M</td>\n",
       "      <td>10.24</td>\n",
       "    </tr>\n",
       "    <tr>\n",
       "      <th>7</th>\n",
       "      <td>Call of Duty: Ghosts</td>\n",
       "      <td>PS3</td>\n",
       "      <td>2013</td>\n",
       "      <td>Shooter</td>\n",
       "      <td>4.10</td>\n",
       "      <td>3.63</td>\n",
       "      <td>0.38</td>\n",
       "      <td>1.25</td>\n",
       "      <td>71.0</td>\n",
       "      <td>2.6</td>\n",
       "      <td>M</td>\n",
       "      <td>9.36</td>\n",
       "    </tr>\n",
       "  </tbody>\n",
       "</table>\n",
       "</div>"
      ],
      "text/plain": [
       "                   name platform  year_of_release    genre  na_sales  \\\n",
       "6  Call of Duty: Ghosts     X360             2013  Shooter      6.73   \n",
       "7  Call of Duty: Ghosts      PS3             2013  Shooter      4.10   \n",
       "\n",
       "   eu_sales  jp_sales  other_sales  critic_score  user_score rating  \\\n",
       "6      2.56      0.04         0.91          73.0         2.6      M   \n",
       "7      3.63      0.38         1.25          71.0         2.6      M   \n",
       "\n",
       "   total_sales  \n",
       "6        10.24  \n",
       "7         9.36  "
      ]
     },
     "execution_count": 46,
     "metadata": {},
     "output_type": "execute_result"
    }
   ],
   "source": [
    "top5_platform.query('name == \"Call of Duty: Ghosts\"').nlargest(2, 'total_sales')"
   ]
  },
  {
   "cell_type": "markdown",
   "metadata": {},
   "source": [
    "Наши наблюдения также применимы и к другим платформам. Например, Call of Duty: Ghosts для Xbox 360 разошлась тиражом 10.24 млн копий, а для PlayStation 3 — 9.36 млн копий. Однако признание пользователей игра не получила: её оценка составляет лишь 2.6. В то же время критики оценили её в 71.0 для PS3 и 73.0 для Xbox 360."
   ]
  },
  {
   "cell_type": "markdown",
   "metadata": {},
   "source": [
    "### Общее распределение игр по жанрам"
   ]
  },
  {
   "cell_type": "markdown",
   "metadata": {},
   "source": [
    "Взглянем на общую картину."
   ]
  },
  {
   "cell_type": "code",
   "execution_count": 48,
   "metadata": {},
   "outputs": [
    {
     "data": {
      "image/png": "[encoded data removed]",
      "text/plain": [
       "<Figure size 648x360 with 1 Axes>"
      ]
     },
     "metadata": {
      "needs_background": "light"
     },
     "output_type": "display_data"
    }
   ],
   "source": [
    "#top5_platform.pivot_table(\n",
    "actual_data.pivot_table(\n",
    "    index='genre',  \n",
    "    values='total_sales', \n",
    "    aggfunc='sum'\n",
    ").sort_values(by='total_sales').plot(kind='bar', figsize=(9, 5), grid=True)\n",
    "\n",
    "plt.ylabel('Количество проданных копий (млн. единиц)')\n",
    "plt.xlabel('Жанр')\n",
    "plt.title('Распределение игр по жанрам')\n",
    "plt.tight_layout()\n",
    "plt.show()"
   ]
  },
  {
   "cell_type": "markdown",
   "metadata": {},
   "source": [
    "Теперь рассмотрим, на каких платформах игры каких жанров имеют самые высокие тиражи."
   ]
  },
  {
   "cell_type": "code",
   "execution_count": 49,
   "metadata": {},
   "outputs": [
    {
     "data": {
      "text/html": [
       "<div>\n",
       "<style scoped>\n",
       "    .dataframe tbody tr th:only-of-type {\n",
       "        vertical-align: middle;\n",
       "    }\n",
       "\n",
       "    .dataframe tbody tr th {\n",
       "        vertical-align: top;\n",
       "    }\n",
       "\n",
       "    .dataframe thead th {\n",
       "        text-align: right;\n",
       "    }\n",
       "</style>\n",
       "<table border=\"1\" class=\"dataframe\">\n",
       "  <thead>\n",
       "    <tr style=\"text-align: right;\">\n",
       "      <th></th>\n",
       "      <th>total_sales</th>\n",
       "    </tr>\n",
       "    <tr>\n",
       "      <th>genre</th>\n",
       "      <th></th>\n",
       "    </tr>\n",
       "  </thead>\n",
       "  <tbody>\n",
       "    <tr>\n",
       "      <th>Shooter</th>\n",
       "      <td>0.450</td>\n",
       "    </tr>\n",
       "    <tr>\n",
       "      <th>Sports</th>\n",
       "      <td>0.240</td>\n",
       "    </tr>\n",
       "    <tr>\n",
       "      <th>Platform</th>\n",
       "      <td>0.225</td>\n",
       "    </tr>\n",
       "    <tr>\n",
       "      <th>Role-Playing</th>\n",
       "      <td>0.125</td>\n",
       "    </tr>\n",
       "    <tr>\n",
       "      <th>Fighting</th>\n",
       "      <td>0.125</td>\n",
       "    </tr>\n",
       "    <tr>\n",
       "      <th>Racing</th>\n",
       "      <td>0.120</td>\n",
       "    </tr>\n",
       "    <tr>\n",
       "      <th>Action</th>\n",
       "      <td>0.110</td>\n",
       "    </tr>\n",
       "    <tr>\n",
       "      <th>Simulation</th>\n",
       "      <td>0.100</td>\n",
       "    </tr>\n",
       "    <tr>\n",
       "      <th>Misc</th>\n",
       "      <td>0.100</td>\n",
       "    </tr>\n",
       "    <tr>\n",
       "      <th>Strategy</th>\n",
       "      <td>0.080</td>\n",
       "    </tr>\n",
       "    <tr>\n",
       "      <th>Puzzle</th>\n",
       "      <td>0.060</td>\n",
       "    </tr>\n",
       "    <tr>\n",
       "      <th>Adventure</th>\n",
       "      <td>0.030</td>\n",
       "    </tr>\n",
       "  </tbody>\n",
       "</table>\n",
       "</div>"
      ],
      "text/plain": [
       "              total_sales\n",
       "genre                    \n",
       "Shooter             0.450\n",
       "Sports              0.240\n",
       "Platform            0.225\n",
       "Role-Playing        0.125\n",
       "Fighting            0.125\n",
       "Racing              0.120\n",
       "Action              0.110\n",
       "Simulation          0.100\n",
       "Misc                0.100\n",
       "Strategy            0.080\n",
       "Puzzle              0.060\n",
       "Adventure           0.030"
      ]
     },
     "execution_count": 49,
     "metadata": {},
     "output_type": "execute_result"
    }
   ],
   "source": [
    "#pivot_table = top5_platform.pivot_table(\n",
    "pivot_table = actual_data.pivot_table(\n",
    "    index='genre', \n",
    "    #columns='platform',  \n",
    "    values='total_sales', \n",
    "    #aggfunc='sum'\n",
    "    aggfunc='median'\n",
    ")\n",
    "\n",
    "#pivot_table['total'] = pivot_table.sum(axis=1)\n",
    "\n",
    "pivot_table.sort_values(by='total_sales', ascending=False)"
   ]
  },
  {
   "cell_type": "code",
   "execution_count": 50,
   "metadata": {},
   "outputs": [
    {
     "data": {
      "image/png": "[encoded data removed]",
      "text/plain": [
       "<Figure size 1152x432 with 1 Axes>"
      ]
     },
     "metadata": {
      "needs_background": "light"
     },
     "output_type": "display_data"
    }
   ],
   "source": [
    "plt.figure(figsize=(16, 6))\n",
    "sns.boxplot(x='genre', y='total_sales', data=actual_data)\n",
    "plt.title('Глобальные продажи игр в разбивке по жанрам')\n",
    "plt.xlabel('Платформа')\n",
    "plt.ylabel('Глобальные продажи (млн. единиц)')\n",
    "plt.grid(axis='y', linestyle='--', color='gray', alpha=0.7)\n",
    "plt.gca().set_ylim(0, 5)\n",
    "plt.show()"
   ]
  },
  {
   "cell_type": "markdown",
   "metadata": {},
   "source": [
    "Вывод:\n",
    "\n",
    "* Самым стабильным спросом пользуются шутеры. За ними идут спортивные игры и платформеры. Также у этих жанров присутствуют выбросы в виде игровых бестселлеров.\n",
    "\n",
    "* Ролевые игры и файтинги тоже продаются хорошо. У ролевых игр есть значительные выбросы, которые указывают на то, что некоторые проекты становятся особенно популярными среди покупателей.\n",
    "\n",
    "* В жанре экшен наблюдается много значительных выбросов — это говорит о том, что некоторые игры этого жанра становятся очень популярными."
   ]
  },
  {
   "cell_type": "markdown",
   "metadata": {},
   "source": [
    "### Вывод"
   ]
  },
  {
   "cell_type": "markdown",
   "metadata": {},
   "source": [
    "* Пик производства новых игровых проектов пришёлся на период с 2007 по 2011 год, после чего разработка новых проектов сократилась почти вдвое.\n",
    "\n",
    "* Самыми популярными игровыми консолями за всю историю являются:\n",
    "    \n",
    "    1. PlayStation 2;\n",
    "    \n",
    "    2. Xbox 360;\n",
    "    \n",
    "    3. PlayStation 3;\n",
    "    \n",
    "    4. Nintendo Wii;\n",
    "    \n",
    "    5. Nintendo DS;\n",
    "    \n",
    "    6. PlayStation.\n",
    "    \n",
    "* Средний срок жизни игровой платформы составляет около 7 лет.\n",
    "\n",
    "* Актуальный период для прогнозов на 2017 год — это 2013–2016 годы, поскольку за этот промежуток произошли изменения в индустрии, которые стоит брать в расчёт для актуального прогноза.\n",
    "\n",
    "* За выбранный нами актуальный период самыми популярными консолями являются:\n",
    "   \n",
    "    1. PS4;\n",
    "    \n",
    "    2. PS3;\n",
    "    \n",
    "    3. Xone;\n",
    "    \n",
    "    4. 3DS;\n",
    "    \n",
    "    5. Xbox 360.\n",
    "    \n",
    "* Единичные проекты, пользующиеся большой популярностью, создают основную массу продаж, в то время как большинство проектов расходится относительно небольшим тиражом.\n",
    "\n",
    "* Игровые критики более точно оценивают игру, чем пользователи. Так, игры, получившие низкие или средние оценки у пользователей, могут расходиться большим тиражом.\n",
    "\n",
    "* Жанры игр, которые пользуются самым стабильным спросом:\n",
    "\n",
    "    1. Shooter\n",
    "    2. Sports\n",
    "    3. Platform\n",
    "    4. Role-Playing\n",
    "    5. Fighting\n",
    "\n",
    "Также не стоит забывать о играх жанров action среди которых часто бывают хиты, которые расходятся гигантскими тиражами. Игры жанра racing показывают неплохой результат и тоже заслуживают внимания."
   ]
  },
  {
   "cell_type": "markdown",
   "metadata": {},
   "source": [
    "## Портрет пользователя каждого региона"
   ]
  },
  {
   "cell_type": "markdown",
   "metadata": {},
   "source": [
    "### Топ-5 платформ для пользователей регионов (NA, EU, JP)"
   ]
  },
  {
   "cell_type": "code",
   "execution_count": 51,
   "metadata": {},
   "outputs": [],
   "source": [
    "def get_top_platforms(region):\n",
    "    top_platforms = actual_data.groupby('platform')[region].sum().nlargest(5)\n",
    "    total_sales = actual_data[region].sum()\n",
    "    other_sales = actual_data.groupby('platform')[region].sum().sum() - top_platforms.sum() #добавил доли других платформ\n",
    "    top_platforms['other'] = other_sales \n",
    "    top_platforms_percentage = (top_platforms / total_sales)\n",
    "    return top_platforms_percentage\n",
    "\n",
    "\n",
    "na_top = get_top_platforms('na_sales')\n",
    "eu_top = get_top_platforms('eu_sales')\n",
    "jp_top = get_top_platforms('jp_sales')"
   ]
  },
  {
   "cell_type": "code",
   "execution_count": 52,
   "metadata": {},
   "outputs": [
    {
     "data": {
      "image/png": "[encoded data removed]",
      "text/plain": [
       "<Figure size 504x360 with 1 Axes>"
      ]
     },
     "metadata": {},
     "output_type": "display_data"
    }
   ],
   "source": [
    "na_top.plot(kind='pie', autopct='%1.1f%%', figsize=(7, 5), normalize=False)\n",
    "\n",
    "plt.ylabel('')\n",
    "plt.title('Топ-5 платформ в Северной Америке')\n",
    "plt.tight_layout()\n",
    "plt.show()"
   ]
  },
  {
   "cell_type": "markdown",
   "metadata": {},
   "source": [
    "**Вывод:**\n",
    "\n",
    "На PlayStation 4 приходится 25 % продаж игр в Северной Америке, а на PlayStation 3 — чуть более 14 %. Доля Xbox One составляет примерно 21 %, а Xbox 360 — около 19 %. Это говорит о том, что популярность консолей Sony и Microsoft находится примерно на одном уровне. 3DS занимает около 9 % рынка продаж игр."
   ]
  },
  {
   "cell_type": "code",
   "execution_count": 53,
   "metadata": {},
   "outputs": [
    {
     "data": {
      "image/png": "[encoded data removed]",
      "text/plain": [
       "<Figure size 504x360 with 1 Axes>"
      ]
     },
     "metadata": {},
     "output_type": "display_data"
    }
   ],
   "source": [
    "eu_top.plot(kind='pie', autopct='%1.1f%%', figsize=(7, 5), normalize=False)\n",
    "\n",
    "plt.ylabel('')\n",
    "plt.title('Топ-5 платформ в Европе')\n",
    "plt.tight_layout()\n",
    "plt.show()"
   ]
  },
  {
   "cell_type": "markdown",
   "metadata": {},
   "source": [
    "**Вывод** \n",
    "\n",
    "На Европейском рынке консоли от Sony пользуются заметным преимуществом. Доля игр для PlayStation 4 составляет около 36 % от всех продаж, а для PlayStation 3 — примерно 17 %. Консоли от Microsoft занимают примерно равное положение: доля Xbox One составляет примерно 13 %, а Xbox 360 — около 11 %. Игры для 3DS занимают около 8 % от всех продаж."
   ]
  },
  {
   "cell_type": "code",
   "execution_count": 54,
   "metadata": {},
   "outputs": [
    {
     "data": {
      "image/png": "[encoded data removed]",
      "text/plain": [
       "<Figure size 504x360 with 1 Axes>"
      ]
     },
     "metadata": {},
     "output_type": "display_data"
    }
   ],
   "source": [
    "jp_top.plot(kind='pie', autopct='%1.1f%%', figsize=(7, 5), normalize=False)\n",
    "\n",
    "plt.ylabel('') \n",
    "plt.title('Топ-5 платформ в Японии')\n",
    "plt.tight_layout()\n",
    "plt.show()"
   ]
  },
  {
   "cell_type": "markdown",
   "metadata": {},
   "source": [
    "**Вывод:**\n",
    "\n",
    "На Японском рынке ситуация отличается от других. Продажи игр для 3DS составляют примерно 48% от всех продаж. Для WiiU этот показатель составляет около 8%. Продажи игр для PS3 составляют примерно 17%, для PlayStation Vita — около 13%, а для PS4 — примерно 11%."
   ]
  },
  {
   "cell_type": "markdown",
   "metadata": {},
   "source": [
    "### Топ-5 жанров для пользователей регионов (NA, EU, JP)"
   ]
  },
  {
   "cell_type": "code",
   "execution_count": 55,
   "metadata": {},
   "outputs": [],
   "source": [
    "#def get_top_genres(region):\n",
    "    #top_genres = actual_data.groupby('genre')[region].sum().nlargest(5)\n",
    "    #return top_genres\n",
    "\n",
    "def get_top_genres(region):\n",
    "    top_genres = actual_data.groupby('genre')[region].sum().nlargest(5)\n",
    "    total_sales = actual_data[region].sum()\n",
    "    other_sales = actual_data.groupby('genre')[region].sum().sum() - top_genres.sum() #добавил доли других платформ\n",
    "    top_genres['other'] = other_sales \n",
    "    top_genres_percentage = (top_genres / total_sales)\n",
    "    return top_genres_percentage\n",
    "\n",
    "na_top_genre = get_top_genres('na_sales')\n",
    "eu_top_genre = get_top_genres('eu_sales')\n",
    "jp_top_genre = get_top_genres('jp_sales')"
   ]
  },
  {
   "cell_type": "code",
   "execution_count": 56,
   "metadata": {},
   "outputs": [
    {
     "data": {
      "image/png": "[encoded data removed]",
      "text/plain": [
       "<Figure size 504x360 with 1 Axes>"
      ]
     },
     "metadata": {},
     "output_type": "display_data"
    }
   ],
   "source": [
    "#na_top_genre.plot(kind='line', figsize=(7, 5), grid=True, style='o-')\n",
    "\n",
    "#plt.ylabel('Продажи (млн. единиц)')\n",
    "#plt.xlabel('Жанр')\n",
    "#plt.title('Топ-5 жанров в Северной Америке')\n",
    "#plt.tight_layout()\n",
    "#plt.show()\n",
    "\n",
    "na_top_genre.plot(kind='pie', autopct='%1.1f%%', figsize=(7, 5), normalize=False)\n",
    "\n",
    "plt.ylabel('')\n",
    "plt.title('Топ-5 жанров в Северной Америке')\n",
    "plt.tight_layout()\n",
    "plt.show()"
   ]
  },
  {
   "cell_type": "markdown",
   "metadata": {},
   "source": [
    "**Вывод:** \n",
    "\n",
    "В Северной Америке на игры жанра action приходится около 29% продаж, а на shooter примерно 25%. Это, безусловно, два самых популярных жанра в регионе. Далее следуют спортивные игры с тиражом около 15%, ролевые игры с продажами около 11% и замыкает жанр misc с продажами около 6%. На жанры, которые не вошли в топ приходится около 14% продаж."
   ]
  },
  {
   "cell_type": "code",
   "execution_count": 57,
   "metadata": {},
   "outputs": [
    {
     "data": {
      "image/png": "[encoded data removed]",
      "text/plain": [
       "<Figure size 504x360 with 1 Axes>"
      ]
     },
     "metadata": {},
     "output_type": "display_data"
    }
   ],
   "source": [
    "#eu_top_genre.plot(kind='line', figsize=(7, 5), grid=True, style='o-')\n",
    "\n",
    "#plt.ylabel('Продажи (млн. единиц)')\n",
    "#plt.xlabel('Жанр')\n",
    "#plt.title('Топ-5 жанров в Европе')\n",
    "#plt.tight_layout()\n",
    "#plt.show()\n",
    "\n",
    "eu_top_genre.plot(kind='pie', autopct='%1.1f%%', figsize=(7, 5), normalize=False)\n",
    "\n",
    "plt.ylabel('')\n",
    "plt.title('Топ-5 жанров в Европе')\n",
    "plt.tight_layout()\n",
    "plt.show()"
   ]
  },
  {
   "cell_type": "markdown",
   "metadata": {},
   "source": [
    "**Вывод:** \n",
    "\n",
    "В Европейском регионе ситуация похожа на Северную Америку: на продажи игр жанра action приходится около 30%, sports около 15% и role-playing около 9%. Продажи игр жанра shooter немного меньше — около 22%. На последнем месте в топе находятся игры жанра racing. На жанры, которые не вошли в топ приходится около 17% продаж."
   ]
  },
  {
   "cell_type": "code",
   "execution_count": 58,
   "metadata": {},
   "outputs": [
    {
     "data": {
      "image/png": "[encoded data removed]",
      "text/plain": [
       "<Figure size 504x360 with 1 Axes>"
      ]
     },
     "metadata": {},
     "output_type": "display_data"
    }
   ],
   "source": [
    "#jp_top_genre.plot(kind='line', figsize=(7, 5), grid=True, style='o-')\n",
    "\n",
    "#plt.ylabel('Продажи (млн. единиц)')\n",
    "#plt.xlabel('Жанр')\n",
    "#plt.title('Топ-5 жанров в Японии')\n",
    "#plt.tight_layout()\n",
    "#plt.show()\n",
    "\n",
    "jp_top_genre.plot(kind='pie', autopct='%1.1f%%', figsize=(7, 5), normalize=False)\n",
    "\n",
    "plt.ylabel('')\n",
    "plt.title('Топ-5 жанров в Японии')\n",
    "plt.tight_layout()\n",
    "plt.show()"
   ]
  },
  {
   "cell_type": "markdown",
   "metadata": {},
   "source": [
    "**Вывод:**\n",
    "\n",
    "В Японии продажи игр ниже, чем в других регионах. Также здесь отличается топ жанров. Первое место занимают ролевые игры с продажами около 36%. Затем идут экшены с продажами около 29%. Третье место занимает жанр misc с продажами 6.5%. Четвёртое место у файтингов с продажами около 5.4%. Замыкают топ шутеры с продажами около 4.7% миллиона копий. На другие жанры приходится около 18% всех продаж."
   ]
  },
  {
   "cell_type": "markdown",
   "metadata": {},
   "source": [
    "### Влияние рейтинга ESRB на продажи в отдельном регионе"
   ]
  },
  {
   "cell_type": "markdown",
   "metadata": {},
   "source": [
    "Удалим пропуски в столбце «rating» и создадим новый DataFrame df_esrb."
   ]
  },
  {
   "cell_type": "code",
   "execution_count": 59,
   "metadata": {},
   "outputs": [],
   "source": [
    "df_esrb = actual_data.dropna(subset=['rating']).reset_index(drop=True)"
   ]
  },
  {
   "cell_type": "markdown",
   "metadata": {},
   "source": [
    "***ESRB принимают и определяют рейтинги для компьютерных видеоигр и другого развлекательного программного обеспечения в США и Канаде!***"
   ]
  },
  {
   "cell_type": "markdown",
   "metadata": {},
   "source": [
    "**Расшифровка рейтингов**\n",
    "\n",
    "* «E» («Everyone») — «Для всех»: Содержание вполне подходит для всех возрастов (ранее с 6 лет). Такие игры могут понравиться и взрослым. Игры с этим рейтингом могут содержать минимальное насилие, в основном «мультяшного» характера.\n",
    "\n",
    "* «M» («Mature») — «Для взрослых»: Материалы игры не подходят для лиц младше 17 лет. Проекты с данным рейтингом могут содержать жестокое насилие, большое количество крови с расчленением, непристойные сексуальные сцены или грубую ненормативную лексику.\n",
    "\n",
    "* «T» («Teen») — «Подросткам»: Игра подходит для лиц от 13 лет. Проекты из данной категории могут содержать насилие, непристойные сцены, грубый юмор, в меру откровенное сексуальное содержимое, кровь или нечастое использование ненормативной лексики.\n",
    "\n",
    "* «E10+» («Everyone 10 and older») — «Для всех от 10 лет и старше»: Проекты с данным рейтингом могут содержать больше мультипликационного или мягкого насилия, или несколько откровенные сцены, или минимальное количество крови."
   ]
  },
  {
   "cell_type": "code",
   "execution_count": 60,
   "metadata": {},
   "outputs": [
    {
     "data": {
      "image/png": "[encoded data removed]",
      "text/plain": [
       "<Figure size 504x360 with 1 Axes>"
      ]
     },
     "metadata": {
      "needs_background": "light"
     },
     "output_type": "display_data"
    }
   ],
   "source": [
    "plt.figure(figsize=(7, 5))\n",
    "sns.barplot(x='rating', y='na_sales', data=df_esrb)\n",
    "plt.title('Средние продажи в Северной Америке по рейтингам ESRB')\n",
    "plt.xlabel('ESRB Рейтинг')\n",
    "plt.ylabel('Средние продажи (млн. копий)')\n",
    "plt.grid(axis='y', linestyle='--', color='gray', alpha=0.7)\n",
    "plt.tight_layout()\n",
    "plt.show()"
   ]
  },
  {
   "cell_type": "markdown",
   "metadata": {},
   "source": [
    "**Вывод:**\n",
    "    \n",
    "В Северной Америке в среднем лучше всего продаются игры «для взрослых». Чуть менее популярны игры «для всех» и игры «для всех от 10 лет и старше». Игры с рейтингом «подросткам» имеют меньшее количество продаж."
   ]
  },
  {
   "cell_type": "code",
   "execution_count": 61,
   "metadata": {},
   "outputs": [
    {
     "data": {
      "image/png": "[encoded data removed]",
      "text/plain": [
       "<Figure size 504x360 with 1 Axes>"
      ]
     },
     "metadata": {
      "needs_background": "light"
     },
     "output_type": "display_data"
    }
   ],
   "source": [
    "plt.figure(figsize=(7, 5))\n",
    "sns.barplot(x='rating', y='eu_sales', data=df_esrb)\n",
    "plt.title('Средние продажи в Европе по рейтингам ESRB')\n",
    "plt.xlabel('ESRB Рейтинг')\n",
    "plt.ylabel('Средние продажи (млн. копий)')\n",
    "plt.grid(axis='y', linestyle='--', color='gray', alpha=0.7)\n",
    "plt.tight_layout()\n",
    "plt.show()"
   ]
  },
  {
   "cell_type": "markdown",
   "metadata": {},
   "source": [
    "**Вывод:**\n",
    "    \n",
    "В европейском регионе ситуация схожая с Северной Америкой.     "
   ]
  },
  {
   "cell_type": "code",
   "execution_count": 62,
   "metadata": {},
   "outputs": [
    {
     "data": {
      "image/png": "[encoded data removed]",
      "text/plain": [
       "<Figure size 504x360 with 1 Axes>"
      ]
     },
     "metadata": {
      "needs_background": "light"
     },
     "output_type": "display_data"
    }
   ],
   "source": [
    "plt.figure(figsize=(7, 5))\n",
    "sns.barplot(x='rating', y='jp_sales', data=df_esrb)\n",
    "plt.title('Средние продажи в Японии по рейтингам ESRB')\n",
    "plt.xlabel('ESRB Рейтинг')\n",
    "plt.ylabel('Средние продажи (млн. копий)')\n",
    "plt.grid(axis='y', linestyle='--', color='gray', alpha=0.7)\n",
    "plt.tight_layout()\n",
    "plt.show()"
   ]
  },
  {
   "cell_type": "markdown",
   "metadata": {},
   "source": [
    "**Вывод:**\n",
    "\n",
    "Японский регион: слишком мало данных, чтобы делать выводы."
   ]
  },
  {
   "cell_type": "markdown",
   "metadata": {},
   "source": [
    "## Проверка гипотез"
   ]
  },
  {
   "cell_type": "markdown",
   "metadata": {},
   "source": [
    "### Гипотеза 1: Средние пользовательские рейтинги платформ Xbox One и PC равны"
   ]
  },
  {
   "cell_type": "markdown",
   "metadata": {},
   "source": [
    "Нулевая гипотеза всегда говорит о равенстве или неизменности. Так как средние пользовательские рейтинги могут отклоняться в любую сторону, мы будем использовать двустороннюю альтернативную гипотезу."
   ]
  },
  {
   "cell_type": "markdown",
   "metadata": {},
   "source": [
    "* Нулевая гипотеза: Средние пользовательские рейтинги платформ Xbox One и PC равны.\n",
    "\n",
    "* Альтернативная гипотеза: Средние пользовательские рейтинги платформ Xbox One и PC не равны."
   ]
  },
  {
   "cell_type": "code",
   "execution_count": 64,
   "metadata": {},
   "outputs": [
    {
     "name": "stdout",
     "output_type": "stream",
     "text": [
      "p-value: 0.14012658403611647\n",
      "Нет оснований отвергать нулевую гипотезу\n"
     ]
    }
   ],
   "source": [
    "alpha = 0.05\n",
    "\n",
    "first_group_xone = actual_data.query('platform == \"XOne\"').dropna(subset=['user_score'])['user_score']\n",
    "   \n",
    "\n",
    "second_group_pc = actual_data.query('platform == \"PC\"').dropna(subset=['user_score'])['user_score']\n",
    "\n",
    "results = st.ttest_ind(first_group_xone, second_group_pc, alternative='two-sided')\n",
    "\n",
    "print(f'p-value: {results.pvalue}')\n",
    "\n",
    "if results.pvalue < alpha:\n",
    "    print('Отвергаем нулевую гипотезу')\n",
    "else:\n",
    "    print('Нет оснований отвергать нулевую гипотезу')"
   ]
  },
  {
   "cell_type": "markdown",
   "metadata": {},
   "source": [
    "Здесь мы использовали двухвыборочный t-критерий для независимых выборок, поскольку имеем дело с двумя независимыми выборками данных."
   ]
  },
  {
   "cell_type": "markdown",
   "metadata": {},
   "source": [
    "**Вывод:**\n",
    "    \n",
    "Мы не можем отвергнуть гипотезу о том, что средние пользовательские рейтинги платформ Xbox One и PC равны."
   ]
  },
  {
   "cell_type": "markdown",
   "metadata": {},
   "source": [
    "### Гипотеза 2: Средние пользовательские рейтинги жанров Action и Sports  разные."
   ]
  },
  {
   "cell_type": "markdown",
   "metadata": {},
   "source": [
    "Здесь мы также имеем дело с двумя независимыми выборками и альтернативной двусторонней гипотезой."
   ]
  },
  {
   "cell_type": "markdown",
   "metadata": {},
   "source": [
    "* Нулевая гипотеза: Средние пользовательские рейтинги жанров Action и Sports равны.\n",
    "\n",
    "* Альтернативная гипотеза: Средние пользовательские рейтинги пжанров Action и Sports не равны."
   ]
  },
  {
   "cell_type": "code",
   "execution_count": 65,
   "metadata": {},
   "outputs": [
    {
     "name": "stdout",
     "output_type": "stream",
     "text": [
      "p-value: 1.0517832389140023e-27\n",
      "Отвергаем нулевую гипотезу\n"
     ]
    }
   ],
   "source": [
    "alpha = 0.05\n",
    "\n",
    "first_group_action = actual_data.query('genre == \"Action\"').dropna(subset=['user_score'])['user_score']\n",
    "   \n",
    "\n",
    "second_group_sports = actual_data.query('genre == \"Sports\"').dropna(subset=['user_score'])['user_score']\n",
    "\n",
    "results = st.ttest_ind(first_group_action, second_group_sports)\n",
    "\n",
    "print(f'p-value: {results.pvalue}')\n",
    "\n",
    "if results.pvalue < alpha:\n",
    "    print('Отвергаем нулевую гипотезу')\n",
    "else:\n",
    "    print('Нет оснований отвергать нулевую гипотезу')"
   ]
  },
  {
   "cell_type": "markdown",
   "metadata": {},
   "source": [
    "**Вывод:**\n",
    "\n",
    "Мы не можем отвергнуть гипотезу о том, что средние пользовательские рейтинги жанров Action и Sports разные."
   ]
  },
  {
   "cell_type": "markdown",
   "metadata": {},
   "source": [
    "## Общий вывод"
   ]
  },
  {
   "cell_type": "markdown",
   "metadata": {},
   "source": [
    "Общий вывод:\n",
    "   \n",
    "* В ходе первичного анализа данных мы обнаружили пропуски и некорректные типы данных в DataFrame. \n",
    "\n",
    "* В рамках предобработки мы выполнили следующие шаги:\n",
    "\n",
    "    * Привели названия столбцов к нижнему регистру.\n",
    "    \n",
    "    * Обнаружили и удалили строки с пропусками в тех столбцах, где это не привело бы к значительным потерям, но которые потеряли смысл. В остальных столбцах было решено оставить пропуски.\n",
    "    \n",
    "    * Изменили типы данных в столбцах, где это требовалось.\n",
    "    \n",
    "    * Заменили значение tbd в user_score на NaN.\n",
    "    \n",
    "    * Проверили данные на дубликаты и избавились от них.\n",
    "    \n",
    "    * Добавили столбец с общими продажами по регионам.\n",
    "    \n",
    "О природе пропусков мы пришли к выводу, что они могли появиться из-за низких продаж игр и отсутствия достаточного количества индивидуальных отзывов для получения итоговой оценки. Кроме того, игра могла получить региональный возрастной рейтинг вместо североамериканского ESRB.\n",
    "\n",
    "* В ходе исследовательского анализа мы сделали следующие выводы:\n",
    "\n",
    "    * Пик производства новых игровых проектов пришёлся на период с 2007 по 2011 год, после чего разработка новых проектов сократилась почти вдвое.\n",
    "    \n",
    "    * Самыми популярными игровыми консолями за всю историю являются PlayStation 2, Xbox 360, PlayStation 3, Nintendo Wii, Nintendo DS и PlayStation.\n",
    "    \n",
    "    * Средний срок жизни игровой платформы составляет около 7 лет.\n",
    "    \n",
    "    * Актуальный период для прогнозов на 2017 год — это 2013–2016 годы, поскольку за этот промежуток произошли изменения в индустрии, которые стоит учитывать для актуального прогноза.\n",
    "\n",
    "    * За выбранный нами актуальный период самыми популярными консолями являются PS4, PS3, Xone, 3DS и Xbox 360.\n",
    "\n",
    "    * Единичные проекты, пользующиеся большой популярностью, создают основную массу продаж, в то время как большинство проектов расходится относительно небольшим тиражом.\n",
    "    \n",
    "    * Игровые критики более точно оценивают игру, чем пользователи. Так, игры, получившие низкие или средние оценки у пользователей, могут расходиться большим тиражом.\n",
    "    \n",
    "    * Жанры игр, которые пользуются самым стабильным спросом: Shooter, Sports, Platform, Role-Playing и Fighting. Также не стоит забывать о играх жанров action, среди которых часто бывают хиты, которые расходятся гигантскими тиражами. Игры жанра racing показывают неплохой результат и тоже заслуживают внимания.\n",
    "\n",
    "* Изучив портрет пользователей региона, мы сделали следующие выводы:\n",
    "\n",
    "    * В Северной Америке самые популярные платформы — это PS4 (24,8% продаж игр), Xone (21,3% продаж игр), X360 (18,7% продаж игр), PS3 (14,5% продаж) и 3DS (8,7% продаж игр).\n",
    "    \n",
    "    * В Европе самые популярные платформы — это PS4 (36,0% продаж игр), PS3 (17,3% продаж игр), XOne (13,2% продаж игр), X360 (10,8% продаж) и 3DS (7,9% продаж игр).\n",
    "    \n",
    "    * В Японии самые популярные платформы — это 3DS (48,2% продаж игр), PS3 (16,6% продаж игр), PSV (13,2% продаж игр), PS4 (11,3% продаж игр) и Wiiu (7,7% продаж игр).\n",
    "    \n",
    "    * Самые популярные жанры в Северной Америке: Action (28,8% продаж игр), Shooter (25,1% продаж игр), Sports (14,9%), Role-Playing (10,6% продаж игр) и misc (6,3% продаж игр).\n",
    "    \n",
    "    * Самые популярные жанры в Европе: Action (30,1% продаж игр), Shooter (22,4% продаж игр), Sports (15,4% продаж игр), Role-Playing (9,4% продаж игр) и Racing (5,1% продаж игр).\n",
    "    \n",
    "    * Самые популярные жанры в Японии: Role-Playing  (36,3% продаж игр),  Action (28,8% продаж игр), Misc (6,5% продаж игр), Fighting  (5,4% продаж игр), Shooter (4,7% продаж игр).\n",
    "\n",
    "    * Анализ влияния рейтинга ESRB на продажи показал, что в Северной Америке наиболее популярными являются игры с рейтингом ESRB M. Этот рейтинг используется в США и Канаде. В Европе аналогичная ситуация.\n",
    "        \n",
    "* В ходе проверки гипотез мы не смогли отвергнуть следующие гипотезы:\n",
    "\n",
    "    * Средние пользовательские рейтинги платформ Xbox One и PC одинаковые.\n",
    "    \n",
    "    * Средние пользовательские рейтинги жанров Action и Sports разные.\n",
    "      \n",
    "* **Рекомендации:** \n",
    "\n",
    "    * В октябре 2016 года ожидается выход новой платформы Switch от Nintendo. Учитывая успешные старты продаж игр для консолей Nintendo, эта платформа заслуживает внимания.\n",
    "    \n",
    "    * На данный момент самой популярной игровой платформой является PlayStation 4, поэтому стоит сделать на неё основной акцент."
   ]
  },
  {
   "cell_type": "code",
   "execution_count": null,
   "metadata": {},
   "outputs": [],
   "source": []
  }
 ],
 "metadata": {
  "ExecuteTimeLog": [
   {
    "duration": 1311,
    "start_time": "2024-08-26T07:11:54.970Z"
   },
   {
    "duration": 215,
    "start_time": "2024-08-26T07:13:07.655Z"
   },
   {
    "duration": 20,
    "start_time": "2024-08-26T07:17:36.428Z"
   },
   {
    "duration": 16,
    "start_time": "2024-08-26T07:17:51.200Z"
   },
   {
    "duration": 5,
    "start_time": "2024-08-26T07:19:37.638Z"
   },
   {
    "duration": 28,
    "start_time": "2024-08-26T07:20:13.658Z"
   },
   {
    "duration": 4,
    "start_time": "2024-08-26T08:02:43.542Z"
   },
   {
    "duration": 15,
    "start_time": "2024-08-26T08:02:54.209Z"
   },
   {
    "duration": 3,
    "start_time": "2024-08-26T08:03:35.502Z"
   },
   {
    "duration": 1191,
    "start_time": "2024-08-26T08:03:39.574Z"
   },
   {
    "duration": 63,
    "start_time": "2024-08-26T08:03:40.767Z"
   },
   {
    "duration": 3,
    "start_time": "2024-08-26T08:03:40.832Z"
   },
   {
    "duration": 19,
    "start_time": "2024-08-26T08:03:40.837Z"
   },
   {
    "duration": 17,
    "start_time": "2024-08-26T08:03:40.858Z"
   },
   {
    "duration": 4,
    "start_time": "2024-08-26T08:03:40.876Z"
   },
   {
    "duration": 34,
    "start_time": "2024-08-26T08:03:40.881Z"
   },
   {
    "duration": 867,
    "start_time": "2024-08-26T08:06:22.030Z"
   },
   {
    "duration": 5,
    "start_time": "2024-08-26T08:07:24.102Z"
   },
   {
    "duration": 5,
    "start_time": "2024-08-26T08:07:29.409Z"
   },
   {
    "duration": 17,
    "start_time": "2024-08-26T08:07:46.528Z"
   },
   {
    "duration": 13,
    "start_time": "2024-08-26T08:09:54.075Z"
   },
   {
    "duration": 19,
    "start_time": "2024-08-26T08:09:55.929Z"
   },
   {
    "duration": 1156,
    "start_time": "2024-08-26T08:10:37.286Z"
   },
   {
    "duration": 62,
    "start_time": "2024-08-26T08:10:38.444Z"
   },
   {
    "duration": 3,
    "start_time": "2024-08-26T08:10:38.508Z"
   },
   {
    "duration": 27,
    "start_time": "2024-08-26T08:10:38.513Z"
   },
   {
    "duration": 15,
    "start_time": "2024-08-26T08:10:38.542Z"
   },
   {
    "duration": 3,
    "start_time": "2024-08-26T08:10:38.559Z"
   },
   {
    "duration": 38,
    "start_time": "2024-08-26T08:10:38.563Z"
   },
   {
    "duration": 36,
    "start_time": "2024-08-26T08:10:38.603Z"
   },
   {
    "duration": 11,
    "start_time": "2024-08-26T08:13:01.226Z"
   },
   {
    "duration": 18,
    "start_time": "2024-08-26T08:13:02.508Z"
   },
   {
    "duration": 1077,
    "start_time": "2024-08-26T08:13:06.467Z"
   },
   {
    "duration": 59,
    "start_time": "2024-08-26T08:13:07.546Z"
   },
   {
    "duration": 4,
    "start_time": "2024-08-26T08:13:07.606Z"
   },
   {
    "duration": 24,
    "start_time": "2024-08-26T08:13:07.612Z"
   },
   {
    "duration": 14,
    "start_time": "2024-08-26T08:13:07.638Z"
   },
   {
    "duration": 3,
    "start_time": "2024-08-26T08:13:07.654Z"
   },
   {
    "duration": 547,
    "start_time": "2024-08-26T08:13:07.658Z"
   },
   {
    "duration": 0,
    "start_time": "2024-08-26T08:13:08.207Z"
   },
   {
    "duration": 351,
    "start_time": "2024-08-26T08:16:22.856Z"
   },
   {
    "duration": 10,
    "start_time": "2024-08-26T08:16:36.388Z"
   },
   {
    "duration": 18,
    "start_time": "2024-08-26T08:16:38.869Z"
   },
   {
    "duration": 17,
    "start_time": "2024-08-26T08:18:26.702Z"
   },
   {
    "duration": 29,
    "start_time": "2024-08-26T08:28:08.090Z"
   },
   {
    "duration": 25,
    "start_time": "2024-08-26T08:28:43.554Z"
   },
   {
    "duration": 12,
    "start_time": "2024-08-26T08:28:48.529Z"
   },
   {
    "duration": 27,
    "start_time": "2024-08-26T08:28:51.298Z"
   },
   {
    "duration": 1112,
    "start_time": "2024-08-26T08:28:56.586Z"
   },
   {
    "duration": 57,
    "start_time": "2024-08-26T08:28:57.710Z"
   },
   {
    "duration": 2,
    "start_time": "2024-08-26T08:28:57.769Z"
   },
   {
    "duration": 49,
    "start_time": "2024-08-26T08:28:57.773Z"
   },
   {
    "duration": 14,
    "start_time": "2024-08-26T08:28:57.824Z"
   },
   {
    "duration": 3,
    "start_time": "2024-08-26T08:28:57.839Z"
   },
   {
    "duration": 22,
    "start_time": "2024-08-26T08:28:57.843Z"
   },
   {
    "duration": 5,
    "start_time": "2024-08-26T08:28:57.866Z"
   },
   {
    "duration": 45,
    "start_time": "2024-08-26T08:28:57.872Z"
   },
   {
    "duration": 1123,
    "start_time": "2024-08-26T08:29:58.787Z"
   },
   {
    "duration": 56,
    "start_time": "2024-08-26T08:29:59.912Z"
   },
   {
    "duration": 3,
    "start_time": "2024-08-26T08:29:59.969Z"
   },
   {
    "duration": 30,
    "start_time": "2024-08-26T08:29:59.973Z"
   },
   {
    "duration": 60,
    "start_time": "2024-08-26T08:30:00.004Z"
   },
   {
    "duration": 21,
    "start_time": "2024-08-26T08:30:00.066Z"
   },
   {
    "duration": 45,
    "start_time": "2024-08-26T08:30:00.089Z"
   },
   {
    "duration": 52,
    "start_time": "2024-08-26T08:30:00.135Z"
   },
   {
    "duration": 1070,
    "start_time": "2024-08-26T08:30:41.777Z"
   },
   {
    "duration": 64,
    "start_time": "2024-08-26T08:30:42.848Z"
   },
   {
    "duration": 7,
    "start_time": "2024-08-26T08:30:42.913Z"
   },
   {
    "duration": 36,
    "start_time": "2024-08-26T08:30:42.922Z"
   },
   {
    "duration": 14,
    "start_time": "2024-08-26T08:30:42.960Z"
   },
   {
    "duration": 2,
    "start_time": "2024-08-26T08:30:42.975Z"
   },
   {
    "duration": 6,
    "start_time": "2024-08-26T08:30:42.979Z"
   },
   {
    "duration": 43,
    "start_time": "2024-08-26T08:30:42.986Z"
   },
   {
    "duration": 19,
    "start_time": "2024-08-26T08:30:43.031Z"
   },
   {
    "duration": 1068,
    "start_time": "2024-08-26T08:34:52.034Z"
   },
   {
    "duration": 56,
    "start_time": "2024-08-26T08:34:53.105Z"
   },
   {
    "duration": 3,
    "start_time": "2024-08-26T08:34:53.163Z"
   },
   {
    "duration": 29,
    "start_time": "2024-08-26T08:34:53.169Z"
   },
   {
    "duration": 28,
    "start_time": "2024-08-26T08:34:53.201Z"
   },
   {
    "duration": 3,
    "start_time": "2024-08-26T08:34:53.230Z"
   },
   {
    "duration": 7,
    "start_time": "2024-08-26T09:41:23.006Z"
   },
   {
    "duration": 4,
    "start_time": "2024-08-26T09:41:35.603Z"
   },
   {
    "duration": 9,
    "start_time": "2024-08-26T09:47:52.955Z"
   },
   {
    "duration": 5,
    "start_time": "2024-08-26T09:48:14.131Z"
   },
   {
    "duration": 5,
    "start_time": "2024-08-26T09:49:21.354Z"
   },
   {
    "duration": 6,
    "start_time": "2024-08-26T09:49:27.002Z"
   },
   {
    "duration": 27,
    "start_time": "2024-08-26T09:49:51.830Z"
   },
   {
    "duration": 12,
    "start_time": "2024-08-26T09:50:45.626Z"
   },
   {
    "duration": 32,
    "start_time": "2024-08-26T09:50:46.666Z"
   },
   {
    "duration": 998,
    "start_time": "2024-08-26T09:50:50.939Z"
   },
   {
    "duration": 66,
    "start_time": "2024-08-26T09:50:51.939Z"
   },
   {
    "duration": 3,
    "start_time": "2024-08-26T09:50:52.007Z"
   },
   {
    "duration": 65,
    "start_time": "2024-08-26T09:50:52.012Z"
   },
   {
    "duration": 28,
    "start_time": "2024-08-26T09:50:52.078Z"
   },
   {
    "duration": 19,
    "start_time": "2024-08-26T09:50:52.108Z"
   },
   {
    "duration": 37,
    "start_time": "2024-08-26T09:50:52.128Z"
   },
   {
    "duration": 30,
    "start_time": "2024-08-26T09:50:52.167Z"
   },
   {
    "duration": 52,
    "start_time": "2024-08-26T09:50:52.198Z"
   },
   {
    "duration": 4,
    "start_time": "2024-08-26T09:52:33.314Z"
   },
   {
    "duration": 444,
    "start_time": "2024-08-26T09:52:34.523Z"
   },
   {
    "duration": 5,
    "start_time": "2024-08-26T09:52:48.513Z"
   },
   {
    "duration": 23,
    "start_time": "2024-08-26T09:52:51.290Z"
   },
   {
    "duration": 1085,
    "start_time": "2024-08-26T09:52:55.982Z"
   },
   {
    "duration": 61,
    "start_time": "2024-08-26T09:52:57.069Z"
   },
   {
    "duration": 3,
    "start_time": "2024-08-26T09:52:57.131Z"
   },
   {
    "duration": 30,
    "start_time": "2024-08-26T09:52:57.136Z"
   },
   {
    "duration": 14,
    "start_time": "2024-08-26T09:52:57.167Z"
   },
   {
    "duration": 6,
    "start_time": "2024-08-26T09:52:57.182Z"
   },
   {
    "duration": 25,
    "start_time": "2024-08-26T09:52:57.189Z"
   },
   {
    "duration": 4,
    "start_time": "2024-08-26T09:52:57.215Z"
   },
   {
    "duration": 9,
    "start_time": "2024-08-26T09:52:57.220Z"
   },
   {
    "duration": 19,
    "start_time": "2024-08-26T09:52:57.231Z"
   },
   {
    "duration": 1069,
    "start_time": "2024-08-26T09:53:55.714Z"
   },
   {
    "duration": 57,
    "start_time": "2024-08-26T09:53:56.785Z"
   },
   {
    "duration": 3,
    "start_time": "2024-08-26T09:53:56.843Z"
   },
   {
    "duration": 27,
    "start_time": "2024-08-26T09:53:56.847Z"
   },
   {
    "duration": 27,
    "start_time": "2024-08-26T09:53:56.876Z"
   },
   {
    "duration": 3,
    "start_time": "2024-08-26T09:53:56.905Z"
   },
   {
    "duration": 21,
    "start_time": "2024-08-26T09:53:56.909Z"
   },
   {
    "duration": 3,
    "start_time": "2024-08-26T09:53:56.932Z"
   },
   {
    "duration": 17,
    "start_time": "2024-08-26T09:53:56.936Z"
   },
   {
    "duration": 4,
    "start_time": "2024-08-26T09:55:09.303Z"
   },
   {
    "duration": 18,
    "start_time": "2024-08-26T09:55:12.958Z"
   },
   {
    "duration": 1035,
    "start_time": "2024-08-26T09:55:25.600Z"
   },
   {
    "duration": 65,
    "start_time": "2024-08-26T09:55:26.637Z"
   },
   {
    "duration": 3,
    "start_time": "2024-08-26T09:55:26.703Z"
   },
   {
    "duration": 58,
    "start_time": "2024-08-26T09:55:26.707Z"
   },
   {
    "duration": 14,
    "start_time": "2024-08-26T09:55:26.766Z"
   },
   {
    "duration": 25,
    "start_time": "2024-08-26T09:55:26.781Z"
   },
   {
    "duration": 17,
    "start_time": "2024-08-26T09:55:26.807Z"
   },
   {
    "duration": 4,
    "start_time": "2024-08-26T09:55:26.826Z"
   },
   {
    "duration": 18,
    "start_time": "2024-08-26T09:55:26.831Z"
   },
   {
    "duration": 19,
    "start_time": "2024-08-26T09:55:26.850Z"
   },
   {
    "duration": 1044,
    "start_time": "2024-08-26T09:55:37.265Z"
   },
   {
    "duration": 56,
    "start_time": "2024-08-26T09:55:38.312Z"
   },
   {
    "duration": 3,
    "start_time": "2024-08-26T09:55:38.369Z"
   },
   {
    "duration": 57,
    "start_time": "2024-08-26T09:55:38.373Z"
   },
   {
    "duration": 15,
    "start_time": "2024-08-26T09:55:38.432Z"
   },
   {
    "duration": 10,
    "start_time": "2024-08-26T09:55:38.448Z"
   },
   {
    "duration": 10,
    "start_time": "2024-08-26T09:55:38.460Z"
   },
   {
    "duration": 7,
    "start_time": "2024-08-26T09:55:38.471Z"
   },
   {
    "duration": 48,
    "start_time": "2024-08-26T09:55:38.479Z"
   },
   {
    "duration": 75,
    "start_time": "2024-08-26T09:56:37.904Z"
   },
   {
    "duration": 11,
    "start_time": "2024-08-26T09:56:45.672Z"
   },
   {
    "duration": 29,
    "start_time": "2024-08-26T09:56:48.563Z"
   },
   {
    "duration": 11,
    "start_time": "2024-08-26T09:57:00.014Z"
   },
   {
    "duration": 19,
    "start_time": "2024-08-26T09:57:01.350Z"
   },
   {
    "duration": 1092,
    "start_time": "2024-08-26T09:57:05.280Z"
   },
   {
    "duration": 59,
    "start_time": "2024-08-26T09:57:06.374Z"
   },
   {
    "duration": 3,
    "start_time": "2024-08-26T09:57:06.435Z"
   },
   {
    "duration": 39,
    "start_time": "2024-08-26T09:57:06.440Z"
   },
   {
    "duration": 25,
    "start_time": "2024-08-26T09:57:06.481Z"
   },
   {
    "duration": 18,
    "start_time": "2024-08-26T09:57:06.508Z"
   },
   {
    "duration": 9,
    "start_time": "2024-08-26T09:57:06.527Z"
   },
   {
    "duration": 5,
    "start_time": "2024-08-26T09:57:06.537Z"
   },
   {
    "duration": 33,
    "start_time": "2024-08-26T09:57:06.543Z"
   },
   {
    "duration": 1051,
    "start_time": "2024-08-26T10:00:07.511Z"
   },
   {
    "duration": 66,
    "start_time": "2024-08-26T10:00:08.564Z"
   },
   {
    "duration": 3,
    "start_time": "2024-08-26T10:00:08.631Z"
   },
   {
    "duration": 25,
    "start_time": "2024-08-26T10:00:08.635Z"
   },
   {
    "duration": 13,
    "start_time": "2024-08-26T10:00:08.662Z"
   },
   {
    "duration": 11,
    "start_time": "2024-08-26T10:00:08.677Z"
   },
   {
    "duration": 37,
    "start_time": "2024-08-26T10:00:08.697Z"
   },
   {
    "duration": 1007,
    "start_time": "2024-08-26T10:00:15.437Z"
   },
   {
    "duration": 64,
    "start_time": "2024-08-26T10:00:16.446Z"
   },
   {
    "duration": 4,
    "start_time": "2024-08-26T10:00:16.511Z"
   },
   {
    "duration": 31,
    "start_time": "2024-08-26T10:00:16.518Z"
   },
   {
    "duration": 21,
    "start_time": "2024-08-26T10:00:16.551Z"
   },
   {
    "duration": 4,
    "start_time": "2024-08-26T10:00:16.573Z"
   },
   {
    "duration": 1023,
    "start_time": "2024-08-26T10:00:21.528Z"
   },
   {
    "duration": 61,
    "start_time": "2024-08-26T10:00:22.553Z"
   },
   {
    "duration": 2,
    "start_time": "2024-08-26T10:00:22.616Z"
   },
   {
    "duration": 34,
    "start_time": "2024-08-26T10:00:22.620Z"
   },
   {
    "duration": 13,
    "start_time": "2024-08-26T10:00:22.655Z"
   },
   {
    "duration": 10,
    "start_time": "2024-08-26T10:00:22.670Z"
   },
   {
    "duration": 4,
    "start_time": "2024-08-26T10:00:33.671Z"
   },
   {
    "duration": 18,
    "start_time": "2024-08-26T10:20:51.611Z"
   },
   {
    "duration": 6,
    "start_time": "2024-08-26T10:21:41.648Z"
   },
   {
    "duration": 9,
    "start_time": "2024-08-26T10:24:46.145Z"
   },
   {
    "duration": 15,
    "start_time": "2024-08-26T10:24:58.253Z"
   },
   {
    "duration": 5,
    "start_time": "2024-08-26T10:25:30.811Z"
   },
   {
    "duration": 72,
    "start_time": "2024-08-26T10:27:01.173Z"
   },
   {
    "duration": 148,
    "start_time": "2024-08-26T10:32:47.150Z"
   },
   {
    "duration": 124,
    "start_time": "2024-08-26T10:33:44.334Z"
   },
   {
    "duration": 139,
    "start_time": "2024-08-26T10:33:54.783Z"
   },
   {
    "duration": 34,
    "start_time": "2024-08-26T10:41:10.176Z"
   },
   {
    "duration": 4,
    "start_time": "2024-08-26T10:42:48.736Z"
   },
   {
    "duration": 19,
    "start_time": "2024-08-26T10:43:06.231Z"
   },
   {
    "duration": 16,
    "start_time": "2024-08-26T11:17:57.421Z"
   },
   {
    "duration": 159,
    "start_time": "2024-08-26T11:18:01.471Z"
   },
   {
    "duration": 462,
    "start_time": "2024-08-26T11:28:13.220Z"
   },
   {
    "duration": 7,
    "start_time": "2024-08-26T11:28:22.109Z"
   },
   {
    "duration": 217,
    "start_time": "2024-08-26T11:28:24.550Z"
   },
   {
    "duration": 5,
    "start_time": "2024-08-26T11:28:53.467Z"
   },
   {
    "duration": 138,
    "start_time": "2024-08-26T11:31:25.659Z"
   },
   {
    "duration": 6,
    "start_time": "2024-08-26T11:34:19.159Z"
   },
   {
    "duration": 8,
    "start_time": "2024-08-26T11:37:10.859Z"
   },
   {
    "duration": 1077,
    "start_time": "2024-08-26T11:37:58.060Z"
   },
   {
    "duration": 57,
    "start_time": "2024-08-26T11:37:59.139Z"
   },
   {
    "duration": 3,
    "start_time": "2024-08-26T11:37:59.197Z"
   },
   {
    "duration": 42,
    "start_time": "2024-08-26T11:37:59.201Z"
   },
   {
    "duration": 21,
    "start_time": "2024-08-26T11:37:59.245Z"
   },
   {
    "duration": 4,
    "start_time": "2024-08-26T11:37:59.268Z"
   },
   {
    "duration": 17,
    "start_time": "2024-08-26T11:37:59.274Z"
   },
   {
    "duration": 68,
    "start_time": "2024-08-26T11:38:47.080Z"
   },
   {
    "duration": 5,
    "start_time": "2024-08-26T11:39:28.800Z"
   },
   {
    "duration": 8,
    "start_time": "2024-08-26T11:41:48.380Z"
   },
   {
    "duration": 5,
    "start_time": "2024-08-26T11:49:37.367Z"
   },
   {
    "duration": 7,
    "start_time": "2024-08-26T11:49:42.211Z"
   },
   {
    "duration": 6,
    "start_time": "2024-08-26T11:49:52.828Z"
   },
   {
    "duration": 9,
    "start_time": "2024-08-26T11:53:11.800Z"
   },
   {
    "duration": 20,
    "start_time": "2024-08-26T11:53:45.211Z"
   },
   {
    "duration": 16,
    "start_time": "2024-08-26T11:55:22.388Z"
   },
   {
    "duration": 781,
    "start_time": "2024-08-26T11:59:10.988Z"
   },
   {
    "duration": 4,
    "start_time": "2024-08-26T11:59:23.109Z"
   },
   {
    "duration": 69,
    "start_time": "2024-08-26T12:03:14.566Z"
   },
   {
    "duration": 145,
    "start_time": "2024-08-26T12:11:29.897Z"
   },
   {
    "duration": 4,
    "start_time": "2024-08-26T12:28:17.667Z"
   },
   {
    "duration": 5,
    "start_time": "2024-08-26T12:59:39.289Z"
   },
   {
    "duration": 12,
    "start_time": "2024-08-26T12:59:55.330Z"
   },
   {
    "duration": 17,
    "start_time": "2024-08-26T13:00:06.810Z"
   },
   {
    "duration": 6,
    "start_time": "2024-08-26T13:01:31.359Z"
   },
   {
    "duration": 13,
    "start_time": "2024-08-26T13:01:32.979Z"
   },
   {
    "duration": 18,
    "start_time": "2024-08-26T13:09:39.879Z"
   },
   {
    "duration": 29,
    "start_time": "2024-08-26T13:10:43.659Z"
   },
   {
    "duration": 26,
    "start_time": "2024-08-26T13:10:48.427Z"
   },
   {
    "duration": 24,
    "start_time": "2024-08-26T13:10:55.398Z"
   },
   {
    "duration": 19,
    "start_time": "2024-08-26T13:11:06.407Z"
   },
   {
    "duration": 136,
    "start_time": "2024-08-26T13:14:12.379Z"
   },
   {
    "duration": 5,
    "start_time": "2024-08-26T13:15:07.856Z"
   },
   {
    "duration": 21,
    "start_time": "2024-08-26T13:15:42.047Z"
   },
   {
    "duration": 10,
    "start_time": "2024-08-26T13:18:02.176Z"
   },
   {
    "duration": 17,
    "start_time": "2024-08-26T13:18:42.439Z"
   },
   {
    "duration": 12,
    "start_time": "2024-08-26T13:18:47.227Z"
   },
   {
    "duration": 12,
    "start_time": "2024-08-26T13:19:02.516Z"
   },
   {
    "duration": 10,
    "start_time": "2024-08-26T13:21:44.373Z"
   },
   {
    "duration": 8,
    "start_time": "2024-08-26T13:22:11.566Z"
   },
   {
    "duration": 9,
    "start_time": "2024-08-26T13:24:32.028Z"
   },
   {
    "duration": 9,
    "start_time": "2024-08-26T13:26:52.367Z"
   },
   {
    "duration": 5,
    "start_time": "2024-08-26T13:36:08.148Z"
   },
   {
    "duration": 18,
    "start_time": "2024-08-26T13:36:12.148Z"
   },
   {
    "duration": 6,
    "start_time": "2024-08-26T13:50:02.548Z"
   },
   {
    "duration": 10,
    "start_time": "2024-08-26T13:51:45.095Z"
   },
   {
    "duration": 9,
    "start_time": "2024-08-26T13:51:50.906Z"
   },
   {
    "duration": 7,
    "start_time": "2024-08-26T13:52:09.368Z"
   },
   {
    "duration": 13,
    "start_time": "2024-08-26T13:52:33.617Z"
   },
   {
    "duration": 10,
    "start_time": "2024-08-26T13:55:25.667Z"
   },
   {
    "duration": 30,
    "start_time": "2024-08-26T13:56:38.927Z"
   },
   {
    "duration": 4,
    "start_time": "2024-08-26T13:58:42.845Z"
   },
   {
    "duration": 24,
    "start_time": "2024-08-26T14:00:04.338Z"
   },
   {
    "duration": 6,
    "start_time": "2024-08-26T14:00:34.408Z"
   },
   {
    "duration": 19,
    "start_time": "2024-08-26T14:00:40.939Z"
   },
   {
    "duration": 34,
    "start_time": "2024-08-26T14:02:06.051Z"
   },
   {
    "duration": 16,
    "start_time": "2024-08-26T14:04:46.904Z"
   },
   {
    "duration": 24,
    "start_time": "2024-08-26T14:05:11.809Z"
   },
   {
    "duration": 15,
    "start_time": "2024-08-26T14:05:47.016Z"
   },
   {
    "duration": 32,
    "start_time": "2024-08-26T14:06:38.954Z"
   },
   {
    "duration": 21,
    "start_time": "2024-08-26T14:06:47.216Z"
   },
   {
    "duration": 32,
    "start_time": "2024-08-26T14:06:58.076Z"
   },
   {
    "duration": 21,
    "start_time": "2024-08-26T14:07:07.137Z"
   },
   {
    "duration": 104,
    "start_time": "2024-08-26T14:10:10.134Z"
   },
   {
    "duration": 79,
    "start_time": "2024-08-26T14:11:10.597Z"
   },
   {
    "duration": 82,
    "start_time": "2024-08-26T14:11:14.932Z"
   },
   {
    "duration": 69,
    "start_time": "2024-08-26T14:13:28.905Z"
   },
   {
    "duration": 71,
    "start_time": "2024-08-26T14:13:52.318Z"
   },
   {
    "duration": 76,
    "start_time": "2024-08-26T14:14:14.788Z"
   },
   {
    "duration": 69,
    "start_time": "2024-08-26T14:14:21.102Z"
   },
   {
    "duration": 72,
    "start_time": "2024-08-26T14:15:42.608Z"
   },
   {
    "duration": 81,
    "start_time": "2024-08-26T14:18:25.271Z"
   },
   {
    "duration": 17,
    "start_time": "2024-08-26T14:25:41.594Z"
   },
   {
    "duration": 9,
    "start_time": "2024-08-26T14:25:57.901Z"
   },
   {
    "duration": 47,
    "start_time": "2024-08-26T14:26:06.153Z"
   },
   {
    "duration": 12,
    "start_time": "2024-08-26T14:26:46.384Z"
   },
   {
    "duration": 9,
    "start_time": "2024-08-26T14:26:56.274Z"
   },
   {
    "duration": 16,
    "start_time": "2024-08-26T14:27:01.687Z"
   },
   {
    "duration": 13,
    "start_time": "2024-08-26T14:36:28.571Z"
   },
   {
    "duration": 5,
    "start_time": "2024-08-26T14:37:51.845Z"
   },
   {
    "duration": 13,
    "start_time": "2024-08-26T14:38:03.442Z"
   },
   {
    "duration": 1230,
    "start_time": "2024-08-27T06:30:17.333Z"
   },
   {
    "duration": 214,
    "start_time": "2024-08-27T06:30:18.565Z"
   },
   {
    "duration": 3,
    "start_time": "2024-08-27T06:30:18.781Z"
   },
   {
    "duration": 21,
    "start_time": "2024-08-27T06:30:18.787Z"
   },
   {
    "duration": 16,
    "start_time": "2024-08-27T06:30:18.810Z"
   },
   {
    "duration": 45,
    "start_time": "2024-08-27T06:30:18.828Z"
   },
   {
    "duration": 21,
    "start_time": "2024-08-27T06:30:18.875Z"
   },
   {
    "duration": 4,
    "start_time": "2024-08-27T06:30:18.897Z"
   },
   {
    "duration": 13,
    "start_time": "2024-08-27T06:30:18.903Z"
   },
   {
    "duration": 4,
    "start_time": "2024-08-27T06:30:18.918Z"
   },
   {
    "duration": 11,
    "start_time": "2024-08-27T06:30:18.923Z"
   },
   {
    "duration": 5,
    "start_time": "2024-08-27T06:30:18.936Z"
   },
   {
    "duration": 5,
    "start_time": "2024-08-27T06:30:18.942Z"
   },
   {
    "duration": 6,
    "start_time": "2024-08-27T06:30:18.949Z"
   },
   {
    "duration": 4,
    "start_time": "2024-08-27T06:30:18.957Z"
   },
   {
    "duration": 28,
    "start_time": "2024-08-27T06:30:18.962Z"
   },
   {
    "duration": 13,
    "start_time": "2024-08-27T06:30:18.992Z"
   },
   {
    "duration": 15,
    "start_time": "2024-08-27T06:48:54.466Z"
   },
   {
    "duration": 311,
    "start_time": "2024-08-27T06:50:51.796Z"
   },
   {
    "duration": 302,
    "start_time": "2024-08-27T06:51:21.876Z"
   },
   {
    "duration": 330,
    "start_time": "2024-08-27T06:51:33.112Z"
   },
   {
    "duration": 304,
    "start_time": "2024-08-27T06:51:43.945Z"
   },
   {
    "duration": 390,
    "start_time": "2024-08-27T06:53:17.007Z"
   },
   {
    "duration": 329,
    "start_time": "2024-08-27T06:53:58.142Z"
   },
   {
    "duration": 4,
    "start_time": "2024-08-27T08:11:19.909Z"
   },
   {
    "duration": 111,
    "start_time": "2024-08-27T08:12:34.942Z"
   },
   {
    "duration": 14,
    "start_time": "2024-08-27T08:12:44.500Z"
   },
   {
    "duration": 16,
    "start_time": "2024-08-27T08:13:20.742Z"
   },
   {
    "duration": 13,
    "start_time": "2024-08-27T08:13:39.370Z"
   },
   {
    "duration": 14,
    "start_time": "2024-08-27T08:14:27.149Z"
   },
   {
    "duration": 290,
    "start_time": "2024-08-27T08:17:11.640Z"
   },
   {
    "duration": 296,
    "start_time": "2024-08-27T08:17:58.693Z"
   },
   {
    "duration": 300,
    "start_time": "2024-08-27T08:20:13.162Z"
   },
   {
    "duration": 2889,
    "start_time": "2024-08-27T08:27:21.661Z"
   },
   {
    "duration": 87,
    "start_time": "2024-08-27T08:28:39.771Z"
   },
   {
    "duration": 24,
    "start_time": "2024-08-27T08:30:23.117Z"
   },
   {
    "duration": 25,
    "start_time": "2024-08-27T08:30:59.801Z"
   },
   {
    "duration": 17,
    "start_time": "2024-08-27T08:33:36.631Z"
   },
   {
    "duration": 28,
    "start_time": "2024-08-27T08:35:33.918Z"
   },
   {
    "duration": 13,
    "start_time": "2024-08-27T08:36:43.421Z"
   },
   {
    "duration": 15,
    "start_time": "2024-08-27T08:36:52.821Z"
   },
   {
    "duration": 20,
    "start_time": "2024-08-27T08:37:12.999Z"
   },
   {
    "duration": 18,
    "start_time": "2024-08-27T08:38:09.921Z"
   },
   {
    "duration": 15,
    "start_time": "2024-08-27T08:40:58.909Z"
   },
   {
    "duration": 30,
    "start_time": "2024-08-27T08:42:40.799Z"
   },
   {
    "duration": 2491,
    "start_time": "2024-08-27T08:44:07.933Z"
   },
   {
    "duration": 1296,
    "start_time": "2024-08-27T08:49:04.802Z"
   },
   {
    "duration": 24,
    "start_time": "2024-08-27T08:50:17.390Z"
   },
   {
    "duration": 156,
    "start_time": "2024-08-27T08:50:55.260Z"
   },
   {
    "duration": 1058,
    "start_time": "2024-08-27T08:51:44.901Z"
   },
   {
    "duration": 26,
    "start_time": "2024-08-27T08:52:15.410Z"
   },
   {
    "duration": 35,
    "start_time": "2024-08-27T08:52:42.078Z"
   },
   {
    "duration": 151,
    "start_time": "2024-08-27T08:53:08.640Z"
   },
   {
    "duration": 147,
    "start_time": "2024-08-27T08:53:15.950Z"
   },
   {
    "duration": 27,
    "start_time": "2024-08-27T08:54:36.944Z"
   },
   {
    "duration": 31,
    "start_time": "2024-08-27T08:58:06.653Z"
   },
   {
    "duration": 29,
    "start_time": "2024-08-27T08:58:21.693Z"
   },
   {
    "duration": 29,
    "start_time": "2024-08-27T08:58:42.431Z"
   },
   {
    "duration": 33,
    "start_time": "2024-08-27T08:59:20.314Z"
   },
   {
    "duration": 981,
    "start_time": "2024-08-27T09:01:35.420Z"
   },
   {
    "duration": 862,
    "start_time": "2024-08-27T09:02:58.451Z"
   },
   {
    "duration": 896,
    "start_time": "2024-08-27T09:03:13.893Z"
   },
   {
    "duration": 1061,
    "start_time": "2024-08-27T09:05:12.840Z"
   },
   {
    "duration": 882,
    "start_time": "2024-08-27T09:05:21.371Z"
   },
   {
    "duration": 1088,
    "start_time": "2024-08-27T09:05:36.430Z"
   },
   {
    "duration": 978,
    "start_time": "2024-08-27T09:08:42.842Z"
   },
   {
    "duration": 942,
    "start_time": "2024-08-27T09:08:55.799Z"
   },
   {
    "duration": 910,
    "start_time": "2024-08-27T09:09:05.866Z"
   },
   {
    "duration": 1141,
    "start_time": "2024-08-27T09:09:16.432Z"
   },
   {
    "duration": 933,
    "start_time": "2024-08-27T09:09:35.072Z"
   },
   {
    "duration": 1001,
    "start_time": "2024-08-27T09:10:59.837Z"
   },
   {
    "duration": 212,
    "start_time": "2024-08-27T09:12:38.550Z"
   },
   {
    "duration": 1197,
    "start_time": "2024-08-27T09:14:17.651Z"
   },
   {
    "duration": 344,
    "start_time": "2024-08-27T09:16:10.563Z"
   },
   {
    "duration": 1051,
    "start_time": "2024-08-27T09:16:48.121Z"
   },
   {
    "duration": 329,
    "start_time": "2024-08-27T09:16:57.837Z"
   },
   {
    "duration": 379,
    "start_time": "2024-08-27T09:17:05.431Z"
   },
   {
    "duration": 315,
    "start_time": "2024-08-27T09:19:29.381Z"
   },
   {
    "duration": 892,
    "start_time": "2024-08-27T09:20:18.092Z"
   },
   {
    "duration": 3,
    "start_time": "2024-08-27T09:21:02.429Z"
   },
   {
    "duration": 1184,
    "start_time": "2024-08-27T09:21:09.891Z"
   },
   {
    "duration": 56,
    "start_time": "2024-08-27T09:21:11.077Z"
   },
   {
    "duration": 2,
    "start_time": "2024-08-27T09:21:11.135Z"
   },
   {
    "duration": 21,
    "start_time": "2024-08-27T09:21:11.139Z"
   },
   {
    "duration": 13,
    "start_time": "2024-08-27T09:21:11.163Z"
   },
   {
    "duration": 5,
    "start_time": "2024-08-27T09:21:11.177Z"
   },
   {
    "duration": 14,
    "start_time": "2024-08-27T09:21:11.183Z"
   },
   {
    "duration": 5,
    "start_time": "2024-08-27T09:21:11.198Z"
   },
   {
    "duration": 8,
    "start_time": "2024-08-27T09:21:11.204Z"
   },
   {
    "duration": 4,
    "start_time": "2024-08-27T09:21:11.214Z"
   },
   {
    "duration": 4,
    "start_time": "2024-08-27T09:21:11.219Z"
   },
   {
    "duration": 6,
    "start_time": "2024-08-27T09:21:11.224Z"
   },
   {
    "duration": 6,
    "start_time": "2024-08-27T09:21:11.231Z"
   },
   {
    "duration": 9,
    "start_time": "2024-08-27T09:21:11.239Z"
   },
   {
    "duration": 10,
    "start_time": "2024-08-27T09:21:11.250Z"
   },
   {
    "duration": 10,
    "start_time": "2024-08-27T09:21:11.262Z"
   },
   {
    "duration": 27,
    "start_time": "2024-08-27T09:21:11.273Z"
   },
   {
    "duration": 336,
    "start_time": "2024-08-27T09:21:11.301Z"
   },
   {
    "duration": 4,
    "start_time": "2024-08-27T09:21:11.638Z"
   },
   {
    "duration": 315,
    "start_time": "2024-08-27T09:21:11.644Z"
   },
   {
    "duration": 862,
    "start_time": "2024-08-27T09:21:11.960Z"
   },
   {
    "duration": 366,
    "start_time": "2024-08-27T09:22:33.370Z"
   },
   {
    "duration": 118,
    "start_time": "2024-08-27T09:24:21.673Z"
   },
   {
    "duration": 1047,
    "start_time": "2024-08-27T09:24:25.851Z"
   },
   {
    "duration": 55,
    "start_time": "2024-08-27T09:24:26.900Z"
   },
   {
    "duration": 2,
    "start_time": "2024-08-27T09:24:26.957Z"
   },
   {
    "duration": 26,
    "start_time": "2024-08-27T09:24:26.961Z"
   },
   {
    "duration": 14,
    "start_time": "2024-08-27T09:24:26.989Z"
   },
   {
    "duration": 14,
    "start_time": "2024-08-27T09:24:27.004Z"
   },
   {
    "duration": 8,
    "start_time": "2024-08-27T09:24:27.020Z"
   },
   {
    "duration": 9,
    "start_time": "2024-08-27T09:24:27.030Z"
   },
   {
    "duration": 7,
    "start_time": "2024-08-27T09:24:27.041Z"
   },
   {
    "duration": 3,
    "start_time": "2024-08-27T09:24:27.049Z"
   },
   {
    "duration": 10,
    "start_time": "2024-08-27T09:24:27.053Z"
   },
   {
    "duration": 4,
    "start_time": "2024-08-27T09:24:27.065Z"
   },
   {
    "duration": 20,
    "start_time": "2024-08-27T09:24:27.070Z"
   },
   {
    "duration": 30,
    "start_time": "2024-08-27T09:24:27.092Z"
   },
   {
    "duration": 5,
    "start_time": "2024-08-27T09:24:27.124Z"
   },
   {
    "duration": 21,
    "start_time": "2024-08-27T09:24:27.131Z"
   },
   {
    "duration": 14,
    "start_time": "2024-08-27T09:24:27.154Z"
   },
   {
    "duration": 356,
    "start_time": "2024-08-27T09:24:27.169Z"
   },
   {
    "duration": 4,
    "start_time": "2024-08-27T09:24:27.526Z"
   },
   {
    "duration": 308,
    "start_time": "2024-08-27T09:24:27.532Z"
   },
   {
    "duration": 121,
    "start_time": "2024-08-27T09:24:27.842Z"
   },
   {
    "duration": 34,
    "start_time": "2024-08-27T09:25:23.234Z"
   },
   {
    "duration": 22,
    "start_time": "2024-08-27T09:30:26.331Z"
   },
   {
    "duration": 29,
    "start_time": "2024-08-27T09:32:01.301Z"
   },
   {
    "duration": 25,
    "start_time": "2024-08-27T09:33:01.251Z"
   },
   {
    "duration": 26,
    "start_time": "2024-08-27T09:36:12.894Z"
   },
   {
    "duration": 32,
    "start_time": "2024-08-27T09:36:39.969Z"
   },
   {
    "duration": 1096,
    "start_time": "2024-08-27T09:37:57.371Z"
   },
   {
    "duration": 11,
    "start_time": "2024-08-27T12:15:31.353Z"
   },
   {
    "duration": 6,
    "start_time": "2024-08-27T12:15:47.503Z"
   },
   {
    "duration": 2381,
    "start_time": "2024-08-27T12:31:25.415Z"
   },
   {
    "duration": 1052,
    "start_time": "2024-08-27T12:33:30.809Z"
   },
   {
    "duration": 5,
    "start_time": "2024-08-27T12:37:34.552Z"
   },
   {
    "duration": 16,
    "start_time": "2024-08-27T12:41:08.225Z"
   },
   {
    "duration": 14,
    "start_time": "2024-08-27T12:55:14.975Z"
   },
   {
    "duration": 13,
    "start_time": "2024-08-27T12:55:40.644Z"
   },
   {
    "duration": 173,
    "start_time": "2024-08-27T13:33:29.054Z"
   },
   {
    "duration": 302,
    "start_time": "2024-08-27T13:33:42.201Z"
   },
   {
    "duration": 234,
    "start_time": "2024-08-27T13:42:14.480Z"
   },
   {
    "duration": 199,
    "start_time": "2024-08-27T13:42:27.596Z"
   },
   {
    "duration": 188,
    "start_time": "2024-08-27T13:42:56.472Z"
   },
   {
    "duration": 276,
    "start_time": "2024-08-27T13:43:40.391Z"
   },
   {
    "duration": 1062,
    "start_time": "2024-08-27T13:43:46.471Z"
   },
   {
    "duration": 1271,
    "start_time": "2024-08-27T13:48:47.136Z"
   },
   {
    "duration": 193,
    "start_time": "2024-08-27T13:51:33.771Z"
   },
   {
    "duration": 224,
    "start_time": "2024-08-27T13:52:19.679Z"
   },
   {
    "duration": 208,
    "start_time": "2024-08-27T13:52:53.395Z"
   },
   {
    "duration": 200,
    "start_time": "2024-08-27T15:09:14.010Z"
   },
   {
    "duration": 201,
    "start_time": "2024-08-27T15:09:48.140Z"
   },
   {
    "duration": 175,
    "start_time": "2024-08-27T15:21:55.882Z"
   },
   {
    "duration": 167,
    "start_time": "2024-08-27T15:22:15.463Z"
   },
   {
    "duration": 18,
    "start_time": "2024-08-27T15:26:27.557Z"
   },
   {
    "duration": 17,
    "start_time": "2024-08-27T15:28:41.231Z"
   },
   {
    "duration": 1063,
    "start_time": "2024-08-27T15:30:43.330Z"
   },
   {
    "duration": 55,
    "start_time": "2024-08-27T15:30:44.394Z"
   },
   {
    "duration": 3,
    "start_time": "2024-08-27T15:30:44.451Z"
   },
   {
    "duration": 20,
    "start_time": "2024-08-27T15:30:44.455Z"
   },
   {
    "duration": 13,
    "start_time": "2024-08-27T15:30:44.476Z"
   },
   {
    "duration": 39,
    "start_time": "2024-08-27T15:30:44.491Z"
   },
   {
    "duration": 27,
    "start_time": "2024-08-27T15:30:44.531Z"
   },
   {
    "duration": 5,
    "start_time": "2024-08-27T15:30:44.559Z"
   },
   {
    "duration": 8,
    "start_time": "2024-08-27T15:30:44.566Z"
   },
   {
    "duration": 8,
    "start_time": "2024-08-27T15:30:44.577Z"
   },
   {
    "duration": 6,
    "start_time": "2024-08-27T15:30:44.586Z"
   },
   {
    "duration": 4,
    "start_time": "2024-08-27T15:30:44.594Z"
   },
   {
    "duration": 18,
    "start_time": "2024-08-27T15:30:44.600Z"
   },
   {
    "duration": 5,
    "start_time": "2024-08-27T15:30:44.620Z"
   },
   {
    "duration": 14,
    "start_time": "2024-08-27T15:30:44.626Z"
   },
   {
    "duration": 8,
    "start_time": "2024-08-27T15:30:44.641Z"
   },
   {
    "duration": 23,
    "start_time": "2024-08-27T15:30:44.651Z"
   },
   {
    "duration": 339,
    "start_time": "2024-08-27T15:30:44.675Z"
   },
   {
    "duration": 291,
    "start_time": "2024-08-27T15:30:45.015Z"
   },
   {
    "duration": 970,
    "start_time": "2024-08-27T15:30:45.308Z"
   },
   {
    "duration": 10,
    "start_time": "2024-08-27T15:30:46.280Z"
   },
   {
    "duration": 189,
    "start_time": "2024-08-27T15:30:46.291Z"
   },
   {
    "duration": 21,
    "start_time": "2024-08-27T15:30:46.481Z"
   },
   {
    "duration": 309,
    "start_time": "2024-08-27T15:36:31.433Z"
   },
   {
    "duration": 315,
    "start_time": "2024-08-27T15:37:00.095Z"
   },
   {
    "duration": 23,
    "start_time": "2024-08-27T15:38:36.905Z"
   },
   {
    "duration": 302,
    "start_time": "2024-08-27T15:46:19.772Z"
   },
   {
    "duration": 209,
    "start_time": "2024-08-27T15:47:18.082Z"
   },
   {
    "duration": 191,
    "start_time": "2024-08-27T15:47:25.566Z"
   },
   {
    "duration": 170,
    "start_time": "2024-08-27T15:47:57.456Z"
   },
   {
    "duration": 168,
    "start_time": "2024-08-27T15:48:28.376Z"
   },
   {
    "duration": 192,
    "start_time": "2024-08-27T15:50:44.595Z"
   },
   {
    "duration": 269,
    "start_time": "2024-08-27T15:53:17.006Z"
   },
   {
    "duration": 274,
    "start_time": "2024-08-27T15:54:34.106Z"
   },
   {
    "duration": 181,
    "start_time": "2024-08-27T15:54:39.046Z"
   },
   {
    "duration": 179,
    "start_time": "2024-08-27T15:55:09.474Z"
   },
   {
    "duration": 176,
    "start_time": "2024-08-27T15:55:37.939Z"
   },
   {
    "duration": 7,
    "start_time": "2024-08-27T15:56:29.808Z"
   },
   {
    "duration": 159,
    "start_time": "2024-08-27T15:56:34.011Z"
   },
   {
    "duration": 186,
    "start_time": "2024-08-27T15:57:17.784Z"
   },
   {
    "duration": 160,
    "start_time": "2024-08-27T15:58:01.964Z"
   },
   {
    "duration": 181,
    "start_time": "2024-08-27T16:33:44.259Z"
   },
   {
    "duration": 153,
    "start_time": "2024-08-27T16:34:08.099Z"
   },
   {
    "duration": 14,
    "start_time": "2024-08-27T16:36:24.912Z"
   },
   {
    "duration": 14,
    "start_time": "2024-08-27T16:36:39.299Z"
   },
   {
    "duration": 15,
    "start_time": "2024-08-27T16:36:56.838Z"
   },
   {
    "duration": 24,
    "start_time": "2024-08-27T16:37:42.379Z"
   },
   {
    "duration": 24,
    "start_time": "2024-08-27T16:38:14.031Z"
   },
   {
    "duration": 165,
    "start_time": "2024-08-27T16:39:23.329Z"
   },
   {
    "duration": 171,
    "start_time": "2024-08-27T16:55:36.449Z"
   },
   {
    "duration": 258,
    "start_time": "2024-08-27T16:59:09.438Z"
   },
   {
    "duration": 165,
    "start_time": "2024-08-27T16:59:22.170Z"
   },
   {
    "duration": 175,
    "start_time": "2024-08-27T16:59:38.099Z"
   },
   {
    "duration": 155,
    "start_time": "2024-08-27T16:59:47.459Z"
   },
   {
    "duration": 7,
    "start_time": "2024-08-27T17:06:44.048Z"
   },
   {
    "duration": 23,
    "start_time": "2024-08-27T17:06:59.778Z"
   },
   {
    "duration": 20,
    "start_time": "2024-08-27T17:08:56.438Z"
   },
   {
    "duration": 74,
    "start_time": "2024-08-27T17:10:13.829Z"
   },
   {
    "duration": 21,
    "start_time": "2024-08-27T17:10:18.368Z"
   },
   {
    "duration": 19,
    "start_time": "2024-08-27T17:10:45.278Z"
   },
   {
    "duration": 24,
    "start_time": "2024-08-27T17:11:40.409Z"
   },
   {
    "duration": 17,
    "start_time": "2024-08-27T17:12:46.689Z"
   },
   {
    "duration": 17,
    "start_time": "2024-08-27T17:18:32.856Z"
   },
   {
    "duration": 152,
    "start_time": "2024-08-27T17:19:42.516Z"
   },
   {
    "duration": 18,
    "start_time": "2024-08-27T17:21:22.149Z"
   },
   {
    "duration": 152,
    "start_time": "2024-08-27T17:24:38.348Z"
   },
   {
    "duration": 358,
    "start_time": "2024-08-27T17:29:14.559Z"
   },
   {
    "duration": 19,
    "start_time": "2024-08-27T17:29:21.108Z"
   },
   {
    "duration": 19,
    "start_time": "2024-08-27T17:30:41.575Z"
   },
   {
    "duration": 18,
    "start_time": "2024-08-27T17:30:52.039Z"
   },
   {
    "duration": 14,
    "start_time": "2024-08-27T17:31:08.679Z"
   },
   {
    "duration": 18,
    "start_time": "2024-08-27T17:31:15.591Z"
   },
   {
    "duration": 18,
    "start_time": "2024-08-27T17:31:22.079Z"
   },
   {
    "duration": 20,
    "start_time": "2024-08-27T17:31:31.739Z"
   },
   {
    "duration": 19,
    "start_time": "2024-08-27T17:31:53.519Z"
   },
   {
    "duration": 18,
    "start_time": "2024-08-27T17:32:03.369Z"
   },
   {
    "duration": 19,
    "start_time": "2024-08-27T17:32:26.949Z"
   },
   {
    "duration": 20,
    "start_time": "2024-08-27T17:33:08.912Z"
   },
   {
    "duration": 18,
    "start_time": "2024-08-27T17:33:36.556Z"
   },
   {
    "duration": 20,
    "start_time": "2024-08-27T17:34:50.329Z"
   },
   {
    "duration": 6,
    "start_time": "2024-08-27T17:37:31.378Z"
   },
   {
    "duration": 7,
    "start_time": "2024-08-27T17:37:42.061Z"
   },
   {
    "duration": 18,
    "start_time": "2024-08-27T17:38:32.519Z"
   },
   {
    "duration": 13,
    "start_time": "2024-08-27T17:40:12.298Z"
   },
   {
    "duration": 19,
    "start_time": "2024-08-27T17:40:27.086Z"
   },
   {
    "duration": 20,
    "start_time": "2024-08-27T17:40:44.630Z"
   },
   {
    "duration": 23,
    "start_time": "2024-08-27T17:45:07.817Z"
   },
   {
    "duration": 19,
    "start_time": "2024-08-27T17:45:32.579Z"
   },
   {
    "duration": 21,
    "start_time": "2024-08-27T17:45:41.380Z"
   },
   {
    "duration": 17,
    "start_time": "2024-08-27T17:48:06.902Z"
   },
   {
    "duration": 52,
    "start_time": "2024-08-28T07:41:06.649Z"
   },
   {
    "duration": 1450,
    "start_time": "2024-08-28T07:41:11.790Z"
   },
   {
    "duration": 244,
    "start_time": "2024-08-28T07:41:13.242Z"
   },
   {
    "duration": 3,
    "start_time": "2024-08-28T07:41:13.487Z"
   },
   {
    "duration": 75,
    "start_time": "2024-08-28T07:41:13.491Z"
   },
   {
    "duration": 26,
    "start_time": "2024-08-28T07:41:13.568Z"
   },
   {
    "duration": 5,
    "start_time": "2024-08-28T07:41:13.595Z"
   },
   {
    "duration": 27,
    "start_time": "2024-08-28T07:41:13.602Z"
   },
   {
    "duration": 85,
    "start_time": "2024-08-28T07:41:13.631Z"
   },
   {
    "duration": 11,
    "start_time": "2024-08-28T07:41:13.717Z"
   },
   {
    "duration": 3,
    "start_time": "2024-08-28T07:41:13.730Z"
   },
   {
    "duration": 6,
    "start_time": "2024-08-28T07:41:13.734Z"
   },
   {
    "duration": 7,
    "start_time": "2024-08-28T07:41:13.741Z"
   },
   {
    "duration": 12,
    "start_time": "2024-08-28T07:41:13.749Z"
   },
   {
    "duration": 6,
    "start_time": "2024-08-28T07:41:13.764Z"
   },
   {
    "duration": 6,
    "start_time": "2024-08-28T07:41:13.772Z"
   },
   {
    "duration": 5,
    "start_time": "2024-08-28T07:41:13.779Z"
   },
   {
    "duration": 24,
    "start_time": "2024-08-28T07:41:13.785Z"
   },
   {
    "duration": 389,
    "start_time": "2024-08-28T07:41:13.811Z"
   },
   {
    "duration": 325,
    "start_time": "2024-08-28T07:41:14.201Z"
   },
   {
    "duration": 1113,
    "start_time": "2024-08-28T07:41:14.527Z"
   },
   {
    "duration": 6,
    "start_time": "2024-08-28T07:41:15.642Z"
   },
   {
    "duration": 276,
    "start_time": "2024-08-28T07:41:15.649Z"
   },
   {
    "duration": 7,
    "start_time": "2024-08-28T07:41:15.926Z"
   },
   {
    "duration": 190,
    "start_time": "2024-08-28T07:41:15.934Z"
   },
   {
    "duration": 8,
    "start_time": "2024-08-28T07:41:16.126Z"
   },
   {
    "duration": 24,
    "start_time": "2024-08-28T07:41:16.136Z"
   },
   {
    "duration": 99,
    "start_time": "2024-08-28T07:59:10.302Z"
   },
   {
    "duration": 5,
    "start_time": "2024-08-28T07:59:28.930Z"
   },
   {
    "duration": 5,
    "start_time": "2024-08-28T07:59:51.060Z"
   },
   {
    "duration": 25,
    "start_time": "2024-08-28T08:00:23.195Z"
   },
   {
    "duration": 24,
    "start_time": "2024-08-28T08:01:10.672Z"
   },
   {
    "duration": 11,
    "start_time": "2024-08-28T08:02:16.569Z"
   },
   {
    "duration": 6,
    "start_time": "2024-08-28T08:06:02.822Z"
   },
   {
    "duration": 7,
    "start_time": "2024-08-28T08:06:28.409Z"
   },
   {
    "duration": 24,
    "start_time": "2024-08-28T08:11:31.250Z"
   },
   {
    "duration": 23,
    "start_time": "2024-08-28T08:11:34.101Z"
   },
   {
    "duration": 6,
    "start_time": "2024-08-28T08:16:58.265Z"
   },
   {
    "duration": 5,
    "start_time": "2024-08-28T08:17:36.339Z"
   },
   {
    "duration": 9,
    "start_time": "2024-08-28T08:18:04.616Z"
   },
   {
    "duration": 85,
    "start_time": "2024-08-28T08:22:14.006Z"
   },
   {
    "duration": 376,
    "start_time": "2024-08-28T08:26:50.780Z"
   },
   {
    "duration": 356,
    "start_time": "2024-08-28T08:28:18.842Z"
   },
   {
    "duration": 344,
    "start_time": "2024-08-28T08:28:47.541Z"
   },
   {
    "duration": 366,
    "start_time": "2024-08-28T08:32:02.235Z"
   },
   {
    "duration": 198,
    "start_time": "2024-08-28T08:32:24.242Z"
   },
   {
    "duration": 354,
    "start_time": "2024-08-28T08:32:36.155Z"
   },
   {
    "duration": 105,
    "start_time": "2024-08-28T08:34:51.592Z"
   },
   {
    "duration": 368,
    "start_time": "2024-08-28T08:36:19.824Z"
   },
   {
    "duration": 2,
    "start_time": "2024-08-28T08:38:40.335Z"
   },
   {
    "duration": 1125,
    "start_time": "2024-08-28T08:38:45.495Z"
   },
   {
    "duration": 60,
    "start_time": "2024-08-28T08:38:46.622Z"
   },
   {
    "duration": 3,
    "start_time": "2024-08-28T08:38:46.683Z"
   },
   {
    "duration": 20,
    "start_time": "2024-08-28T08:38:46.688Z"
   },
   {
    "duration": 16,
    "start_time": "2024-08-28T08:38:46.710Z"
   },
   {
    "duration": 25,
    "start_time": "2024-08-28T08:38:46.727Z"
   },
   {
    "duration": 42,
    "start_time": "2024-08-28T08:38:46.753Z"
   },
   {
    "duration": 15,
    "start_time": "2024-08-28T08:38:46.797Z"
   },
   {
    "duration": 23,
    "start_time": "2024-08-28T08:38:46.813Z"
   },
   {
    "duration": 70,
    "start_time": "2024-08-28T08:38:46.838Z"
   },
   {
    "duration": 5,
    "start_time": "2024-08-28T08:38:46.909Z"
   },
   {
    "duration": 5,
    "start_time": "2024-08-28T08:38:46.915Z"
   },
   {
    "duration": 5,
    "start_time": "2024-08-28T08:38:46.922Z"
   },
   {
    "duration": 5,
    "start_time": "2024-08-28T08:38:46.929Z"
   },
   {
    "duration": 4,
    "start_time": "2024-08-28T08:38:46.936Z"
   },
   {
    "duration": 9,
    "start_time": "2024-08-28T08:38:46.941Z"
   },
   {
    "duration": 74,
    "start_time": "2024-08-28T08:38:46.952Z"
   },
   {
    "duration": 381,
    "start_time": "2024-08-28T08:38:47.028Z"
   },
   {
    "duration": 342,
    "start_time": "2024-08-28T08:38:47.411Z"
   },
   {
    "duration": 1115,
    "start_time": "2024-08-28T08:38:47.754Z"
   },
   {
    "duration": 7,
    "start_time": "2024-08-28T08:38:48.871Z"
   },
   {
    "duration": 247,
    "start_time": "2024-08-28T08:38:48.880Z"
   },
   {
    "duration": 6,
    "start_time": "2024-08-28T08:38:49.129Z"
   },
   {
    "duration": 204,
    "start_time": "2024-08-28T08:38:49.137Z"
   },
   {
    "duration": 8,
    "start_time": "2024-08-28T08:38:49.342Z"
   },
   {
    "duration": 20,
    "start_time": "2024-08-28T08:38:49.351Z"
   },
   {
    "duration": 29,
    "start_time": "2024-08-28T08:38:49.372Z"
   },
   {
    "duration": 6,
    "start_time": "2024-08-28T08:38:49.404Z"
   },
   {
    "duration": 317,
    "start_time": "2024-08-28T08:38:49.412Z"
   },
   {
    "duration": 484,
    "start_time": "2024-08-28T08:39:08.930Z"
   },
   {
    "duration": 341,
    "start_time": "2024-08-28T08:39:39.264Z"
   },
   {
    "duration": 5,
    "start_time": "2024-08-28T08:40:06.792Z"
   },
   {
    "duration": 357,
    "start_time": "2024-08-28T08:40:53.320Z"
   },
   {
    "duration": 1184,
    "start_time": "2024-08-28T08:43:14.839Z"
   },
   {
    "duration": 64,
    "start_time": "2024-08-28T08:43:16.025Z"
   },
   {
    "duration": 2,
    "start_time": "2024-08-28T08:43:16.091Z"
   },
   {
    "duration": 31,
    "start_time": "2024-08-28T08:43:16.095Z"
   },
   {
    "duration": 15,
    "start_time": "2024-08-28T08:43:16.129Z"
   },
   {
    "duration": 6,
    "start_time": "2024-08-28T08:43:16.146Z"
   },
   {
    "duration": 13,
    "start_time": "2024-08-28T08:43:16.154Z"
   },
   {
    "duration": 5,
    "start_time": "2024-08-28T08:43:16.168Z"
   },
   {
    "duration": 28,
    "start_time": "2024-08-28T08:43:16.175Z"
   },
   {
    "duration": 6,
    "start_time": "2024-08-28T08:43:16.205Z"
   },
   {
    "duration": 12,
    "start_time": "2024-08-28T08:43:16.213Z"
   },
   {
    "duration": 6,
    "start_time": "2024-08-28T08:43:16.227Z"
   },
   {
    "duration": 14,
    "start_time": "2024-08-28T08:43:16.235Z"
   },
   {
    "duration": 18,
    "start_time": "2024-08-28T08:43:16.253Z"
   },
   {
    "duration": 21,
    "start_time": "2024-08-28T08:43:16.272Z"
   },
   {
    "duration": 37,
    "start_time": "2024-08-28T08:43:16.294Z"
   },
   {
    "duration": 17,
    "start_time": "2024-08-28T08:43:16.333Z"
   },
   {
    "duration": 375,
    "start_time": "2024-08-28T08:43:16.352Z"
   },
   {
    "duration": 324,
    "start_time": "2024-08-28T08:43:16.729Z"
   },
   {
    "duration": 1109,
    "start_time": "2024-08-28T08:43:17.054Z"
   },
   {
    "duration": 7,
    "start_time": "2024-08-28T08:43:18.164Z"
   },
   {
    "duration": 199,
    "start_time": "2024-08-28T08:43:18.173Z"
   },
   {
    "duration": 7,
    "start_time": "2024-08-28T08:43:18.373Z"
   },
   {
    "duration": 205,
    "start_time": "2024-08-28T08:43:18.382Z"
   },
   {
    "duration": 10,
    "start_time": "2024-08-28T08:43:18.589Z"
   },
   {
    "duration": 28,
    "start_time": "2024-08-28T08:43:18.600Z"
   },
   {
    "duration": 7,
    "start_time": "2024-08-28T08:43:18.630Z"
   },
   {
    "duration": 7,
    "start_time": "2024-08-28T08:43:18.639Z"
   },
   {
    "duration": 345,
    "start_time": "2024-08-28T08:43:18.647Z"
   },
   {
    "duration": 5,
    "start_time": "2024-08-28T08:43:18.998Z"
   },
   {
    "duration": 3,
    "start_time": "2024-08-28T08:45:29.788Z"
   },
   {
    "duration": 1257,
    "start_time": "2024-08-28T08:45:34.571Z"
   },
   {
    "duration": 62,
    "start_time": "2024-08-28T08:45:35.829Z"
   },
   {
    "duration": 8,
    "start_time": "2024-08-28T08:45:35.892Z"
   },
   {
    "duration": 106,
    "start_time": "2024-08-28T08:45:35.902Z"
   },
   {
    "duration": 43,
    "start_time": "2024-08-28T08:45:36.009Z"
   },
   {
    "duration": 4,
    "start_time": "2024-08-28T08:45:36.054Z"
   },
   {
    "duration": 10,
    "start_time": "2024-08-28T08:45:36.060Z"
   },
   {
    "duration": 4,
    "start_time": "2024-08-28T08:45:36.072Z"
   },
   {
    "duration": 8,
    "start_time": "2024-08-28T08:45:36.077Z"
   },
   {
    "duration": 3,
    "start_time": "2024-08-28T08:45:36.088Z"
   },
   {
    "duration": 57,
    "start_time": "2024-08-28T08:45:36.092Z"
   },
   {
    "duration": 21,
    "start_time": "2024-08-28T08:45:36.150Z"
   },
   {
    "duration": 12,
    "start_time": "2024-08-28T08:45:36.173Z"
   },
   {
    "duration": 6,
    "start_time": "2024-08-28T08:45:36.186Z"
   },
   {
    "duration": 24,
    "start_time": "2024-08-28T08:45:36.194Z"
   },
   {
    "duration": 8,
    "start_time": "2024-08-28T08:45:36.219Z"
   },
   {
    "duration": 23,
    "start_time": "2024-08-28T08:45:36.228Z"
   },
   {
    "duration": 399,
    "start_time": "2024-08-28T08:45:36.253Z"
   },
   {
    "duration": 332,
    "start_time": "2024-08-28T08:45:36.654Z"
   },
   {
    "duration": 1152,
    "start_time": "2024-08-28T08:45:36.988Z"
   },
   {
    "duration": 6,
    "start_time": "2024-08-28T08:45:38.141Z"
   },
   {
    "duration": 207,
    "start_time": "2024-08-28T08:45:38.149Z"
   },
   {
    "duration": 7,
    "start_time": "2024-08-28T08:45:38.357Z"
   },
   {
    "duration": 217,
    "start_time": "2024-08-28T08:45:38.366Z"
   },
   {
    "duration": 14,
    "start_time": "2024-08-28T08:45:38.584Z"
   },
   {
    "duration": 27,
    "start_time": "2024-08-28T08:45:38.600Z"
   },
   {
    "duration": 9,
    "start_time": "2024-08-28T08:45:38.629Z"
   },
   {
    "duration": 7,
    "start_time": "2024-08-28T08:45:38.641Z"
   },
   {
    "duration": 461,
    "start_time": "2024-08-28T08:45:38.649Z"
   },
   {
    "duration": 343,
    "start_time": "2024-08-28T08:45:55.392Z"
   },
   {
    "duration": 341,
    "start_time": "2024-08-28T08:46:05.968Z"
   },
   {
    "duration": 341,
    "start_time": "2024-08-28T08:46:25.857Z"
   },
   {
    "duration": 350,
    "start_time": "2024-08-28T09:07:05.912Z"
   },
   {
    "duration": 1363,
    "start_time": "2024-08-28T09:08:23.736Z"
   },
   {
    "duration": 341,
    "start_time": "2024-08-28T09:12:04.841Z"
   },
   {
    "duration": 344,
    "start_time": "2024-08-28T09:12:53.658Z"
   },
   {
    "duration": 331,
    "start_time": "2024-08-28T09:13:23.870Z"
   },
   {
    "duration": 338,
    "start_time": "2024-08-28T09:13:51.479Z"
   },
   {
    "duration": 65,
    "start_time": "2024-08-28T09:41:42.203Z"
   },
   {
    "duration": 33,
    "start_time": "2024-08-28T09:54:55.468Z"
   },
   {
    "duration": 27,
    "start_time": "2024-08-28T09:55:07.826Z"
   },
   {
    "duration": 285,
    "start_time": "2024-08-28T09:55:35.294Z"
   },
   {
    "duration": 290,
    "start_time": "2024-08-28T09:56:05.932Z"
   },
   {
    "duration": 1270,
    "start_time": "2024-08-28T11:35:02.290Z"
   },
   {
    "duration": 182,
    "start_time": "2024-08-28T11:35:03.562Z"
   },
   {
    "duration": 2,
    "start_time": "2024-08-28T11:35:03.746Z"
   },
   {
    "duration": 22,
    "start_time": "2024-08-28T11:35:03.750Z"
   },
   {
    "duration": 14,
    "start_time": "2024-08-28T11:35:03.773Z"
   },
   {
    "duration": 58,
    "start_time": "2024-08-28T11:35:03.789Z"
   },
   {
    "duration": 23,
    "start_time": "2024-08-28T11:35:03.849Z"
   },
   {
    "duration": 5,
    "start_time": "2024-08-28T11:35:03.874Z"
   },
   {
    "duration": 23,
    "start_time": "2024-08-28T11:35:03.881Z"
   },
   {
    "duration": 6,
    "start_time": "2024-08-28T11:35:03.907Z"
   },
   {
    "duration": 10,
    "start_time": "2024-08-28T11:35:03.914Z"
   },
   {
    "duration": 6,
    "start_time": "2024-08-28T11:35:03.925Z"
   },
   {
    "duration": 16,
    "start_time": "2024-08-28T11:35:03.933Z"
   },
   {
    "duration": 7,
    "start_time": "2024-08-28T11:35:03.950Z"
   },
   {
    "duration": 15,
    "start_time": "2024-08-28T11:35:03.959Z"
   },
   {
    "duration": 16,
    "start_time": "2024-08-28T11:35:03.975Z"
   },
   {
    "duration": 13,
    "start_time": "2024-08-28T11:35:03.992Z"
   },
   {
    "duration": 345,
    "start_time": "2024-08-28T11:35:04.007Z"
   },
   {
    "duration": 318,
    "start_time": "2024-08-28T11:35:04.354Z"
   },
   {
    "duration": 1318,
    "start_time": "2024-08-28T11:35:04.674Z"
   },
   {
    "duration": 7,
    "start_time": "2024-08-28T11:35:05.994Z"
   },
   {
    "duration": 185,
    "start_time": "2024-08-28T11:35:06.002Z"
   },
   {
    "duration": 7,
    "start_time": "2024-08-28T11:35:06.189Z"
   },
   {
    "duration": 174,
    "start_time": "2024-08-28T11:35:06.197Z"
   },
   {
    "duration": 7,
    "start_time": "2024-08-28T11:35:06.372Z"
   },
   {
    "duration": 65,
    "start_time": "2024-08-28T11:35:06.381Z"
   },
   {
    "duration": 12,
    "start_time": "2024-08-28T11:35:06.447Z"
   },
   {
    "duration": 39,
    "start_time": "2024-08-28T11:35:06.462Z"
   },
   {
    "duration": 410,
    "start_time": "2024-08-28T11:35:06.502Z"
   },
   {
    "duration": 302,
    "start_time": "2024-08-28T11:35:06.914Z"
   },
   {
    "duration": 12,
    "start_time": "2024-08-28T11:37:15.629Z"
   },
   {
    "duration": 10,
    "start_time": "2024-08-28T11:37:30.109Z"
   },
   {
    "duration": 11,
    "start_time": "2024-08-28T11:38:12.850Z"
   },
   {
    "duration": 11,
    "start_time": "2024-08-28T11:38:55.252Z"
   },
   {
    "duration": 116,
    "start_time": "2024-08-28T11:40:43.422Z"
   },
   {
    "duration": 23,
    "start_time": "2024-08-28T11:40:51.999Z"
   },
   {
    "duration": 188,
    "start_time": "2024-08-28T11:41:58.615Z"
   },
   {
    "duration": 8,
    "start_time": "2024-08-28T11:42:34.971Z"
   },
   {
    "duration": 241,
    "start_time": "2024-08-28T11:44:39.462Z"
   },
   {
    "duration": 52,
    "start_time": "2024-08-28T11:45:50.181Z"
   },
   {
    "duration": 44,
    "start_time": "2024-08-28T11:46:47.281Z"
   },
   {
    "duration": 8,
    "start_time": "2024-08-28T11:47:10.471Z"
   },
   {
    "duration": 7,
    "start_time": "2024-08-28T11:47:19.192Z"
   },
   {
    "duration": 7,
    "start_time": "2024-08-28T11:47:29.021Z"
   },
   {
    "duration": 7,
    "start_time": "2024-08-28T11:47:34.902Z"
   },
   {
    "duration": 8,
    "start_time": "2024-08-28T11:48:55.932Z"
   },
   {
    "duration": 8,
    "start_time": "2024-08-28T11:49:08.150Z"
   },
   {
    "duration": 7,
    "start_time": "2024-08-28T11:50:03.540Z"
   },
   {
    "duration": 7,
    "start_time": "2024-08-28T11:51:20.811Z"
   },
   {
    "duration": 8,
    "start_time": "2024-08-28T11:52:33.512Z"
   },
   {
    "duration": 16,
    "start_time": "2024-08-28T11:58:53.790Z"
   },
   {
    "duration": 13,
    "start_time": "2024-08-28T11:59:27.431Z"
   },
   {
    "duration": 15,
    "start_time": "2024-08-28T12:00:08.157Z"
   },
   {
    "duration": 1130,
    "start_time": "2024-08-28T12:02:09.819Z"
   },
   {
    "duration": 55,
    "start_time": "2024-08-28T12:02:10.950Z"
   },
   {
    "duration": 3,
    "start_time": "2024-08-28T12:02:11.006Z"
   },
   {
    "duration": 50,
    "start_time": "2024-08-28T12:02:11.011Z"
   },
   {
    "duration": 102,
    "start_time": "2024-08-28T12:02:11.062Z"
   },
   {
    "duration": 19,
    "start_time": "2024-08-28T12:02:11.165Z"
   },
   {
    "duration": 33,
    "start_time": "2024-08-28T12:02:11.186Z"
   },
   {
    "duration": 33,
    "start_time": "2024-08-28T12:02:11.220Z"
   },
   {
    "duration": 24,
    "start_time": "2024-08-28T12:02:11.255Z"
   },
   {
    "duration": 16,
    "start_time": "2024-08-28T12:02:11.281Z"
   },
   {
    "duration": 28,
    "start_time": "2024-08-28T12:02:11.298Z"
   },
   {
    "duration": 28,
    "start_time": "2024-08-28T12:02:11.327Z"
   },
   {
    "duration": 33,
    "start_time": "2024-08-28T12:02:11.356Z"
   },
   {
    "duration": 35,
    "start_time": "2024-08-28T12:02:11.391Z"
   },
   {
    "duration": 36,
    "start_time": "2024-08-28T12:02:11.427Z"
   },
   {
    "duration": 14,
    "start_time": "2024-08-28T12:02:11.465Z"
   },
   {
    "duration": 36,
    "start_time": "2024-08-28T12:02:11.481Z"
   },
   {
    "duration": 373,
    "start_time": "2024-08-28T12:02:11.518Z"
   },
   {
    "duration": 326,
    "start_time": "2024-08-28T12:02:11.893Z"
   },
   {
    "duration": 1294,
    "start_time": "2024-08-28T12:02:12.221Z"
   },
   {
    "duration": 7,
    "start_time": "2024-08-28T12:02:13.517Z"
   },
   {
    "duration": 217,
    "start_time": "2024-08-28T12:02:13.525Z"
   },
   {
    "duration": 7,
    "start_time": "2024-08-28T12:02:13.743Z"
   },
   {
    "duration": 173,
    "start_time": "2024-08-28T12:02:13.752Z"
   },
   {
    "duration": 15,
    "start_time": "2024-08-28T12:02:13.926Z"
   },
   {
    "duration": 44,
    "start_time": "2024-08-28T12:02:13.942Z"
   },
   {
    "duration": 16,
    "start_time": "2024-08-28T12:02:13.987Z"
   },
   {
    "duration": 25,
    "start_time": "2024-08-28T12:02:14.007Z"
   },
   {
    "duration": 299,
    "start_time": "2024-08-28T12:02:14.033Z"
   },
   {
    "duration": 290,
    "start_time": "2024-08-28T12:02:14.338Z"
   },
   {
    "duration": 11,
    "start_time": "2024-08-28T12:02:14.630Z"
   },
   {
    "duration": 26,
    "start_time": "2024-08-28T12:02:14.642Z"
   },
   {
    "duration": 31,
    "start_time": "2024-08-28T12:02:14.669Z"
   },
   {
    "duration": 16,
    "start_time": "2024-08-28T12:04:21.337Z"
   },
   {
    "duration": 13,
    "start_time": "2024-08-28T12:18:18.289Z"
   },
   {
    "duration": 12,
    "start_time": "2024-08-28T12:19:05.279Z"
   },
   {
    "duration": 13,
    "start_time": "2024-08-28T12:22:11.251Z"
   },
   {
    "duration": 105,
    "start_time": "2024-08-28T12:23:13.183Z"
   },
   {
    "duration": 21,
    "start_time": "2024-08-28T12:23:47.439Z"
   },
   {
    "duration": 20,
    "start_time": "2024-08-28T12:24:43.857Z"
   },
   {
    "duration": 23,
    "start_time": "2024-08-28T12:25:08.219Z"
   },
   {
    "duration": 13,
    "start_time": "2024-08-28T12:28:44.200Z"
   },
   {
    "duration": 29,
    "start_time": "2024-08-28T12:28:51.240Z"
   },
   {
    "duration": 23,
    "start_time": "2024-08-28T12:29:25.408Z"
   },
   {
    "duration": 24,
    "start_time": "2024-08-28T12:30:04.500Z"
   },
   {
    "duration": 14,
    "start_time": "2024-08-28T12:33:03.086Z"
   },
   {
    "duration": 19,
    "start_time": "2024-08-28T12:37:34.028Z"
   },
   {
    "duration": 11,
    "start_time": "2024-08-28T12:37:45.640Z"
   },
   {
    "duration": 13,
    "start_time": "2024-08-28T12:38:41.717Z"
   },
   {
    "duration": 132,
    "start_time": "2024-08-28T12:38:51.963Z"
   },
   {
    "duration": 174,
    "start_time": "2024-08-28T12:39:11.821Z"
   },
   {
    "duration": 178,
    "start_time": "2024-08-28T12:39:24.218Z"
   },
   {
    "duration": 182,
    "start_time": "2024-08-28T12:40:28.638Z"
   },
   {
    "duration": 184,
    "start_time": "2024-08-28T12:40:37.579Z"
   },
   {
    "duration": 188,
    "start_time": "2024-08-28T12:40:50.688Z"
   },
   {
    "duration": 429,
    "start_time": "2024-08-28T12:42:14.437Z"
   },
   {
    "duration": 309,
    "start_time": "2024-08-28T12:42:40.798Z"
   },
   {
    "duration": 332,
    "start_time": "2024-08-28T12:43:00.411Z"
   },
   {
    "duration": 347,
    "start_time": "2024-08-28T12:44:23.764Z"
   },
   {
    "duration": 341,
    "start_time": "2024-08-28T12:44:36.799Z"
   },
   {
    "duration": 351,
    "start_time": "2024-08-28T12:45:03.240Z"
   },
   {
    "duration": 358,
    "start_time": "2024-08-28T12:45:28.354Z"
   },
   {
    "duration": 298,
    "start_time": "2024-08-28T12:45:38.712Z"
   },
   {
    "duration": 426,
    "start_time": "2024-08-28T12:45:55.958Z"
   },
   {
    "duration": 614,
    "start_time": "2024-08-28T12:46:15.138Z"
   },
   {
    "duration": 1223,
    "start_time": "2024-08-28T13:29:59.934Z"
   },
   {
    "duration": 55,
    "start_time": "2024-08-28T13:30:01.159Z"
   },
   {
    "duration": 3,
    "start_time": "2024-08-28T13:30:01.216Z"
   },
   {
    "duration": 36,
    "start_time": "2024-08-28T13:30:01.220Z"
   },
   {
    "duration": 50,
    "start_time": "2024-08-28T13:30:01.257Z"
   },
   {
    "duration": 5,
    "start_time": "2024-08-28T13:30:01.309Z"
   },
   {
    "duration": 44,
    "start_time": "2024-08-28T13:30:01.316Z"
   },
   {
    "duration": 24,
    "start_time": "2024-08-28T13:30:01.361Z"
   },
   {
    "duration": 26,
    "start_time": "2024-08-28T13:30:01.386Z"
   },
   {
    "duration": 10,
    "start_time": "2024-08-28T13:30:01.415Z"
   },
   {
    "duration": 48,
    "start_time": "2024-08-28T13:30:01.426Z"
   },
   {
    "duration": 47,
    "start_time": "2024-08-28T13:30:01.476Z"
   },
   {
    "duration": 24,
    "start_time": "2024-08-28T13:30:01.525Z"
   },
   {
    "duration": 26,
    "start_time": "2024-08-28T13:30:01.551Z"
   },
   {
    "duration": 32,
    "start_time": "2024-08-28T13:30:01.579Z"
   },
   {
    "duration": 39,
    "start_time": "2024-08-28T13:30:01.613Z"
   },
   {
    "duration": 606,
    "start_time": "2024-08-28T13:30:01.654Z"
   },
   {
    "duration": 444,
    "start_time": "2024-08-28T13:30:02.262Z"
   },
   {
    "duration": 1432,
    "start_time": "2024-08-28T13:30:02.708Z"
   },
   {
    "duration": 6,
    "start_time": "2024-08-28T13:30:04.142Z"
   },
   {
    "duration": 357,
    "start_time": "2024-08-28T13:30:04.150Z"
   },
   {
    "duration": 7,
    "start_time": "2024-08-28T13:30:04.509Z"
   },
   {
    "duration": 179,
    "start_time": "2024-08-28T13:30:04.517Z"
   },
   {
    "duration": 8,
    "start_time": "2024-08-28T13:30:04.697Z"
   },
   {
    "duration": 32,
    "start_time": "2024-08-28T13:30:04.707Z"
   },
   {
    "duration": 8,
    "start_time": "2024-08-28T13:30:04.740Z"
   },
   {
    "duration": 33,
    "start_time": "2024-08-28T13:30:04.749Z"
   },
   {
    "duration": 344,
    "start_time": "2024-08-28T13:30:04.786Z"
   },
   {
    "duration": 343,
    "start_time": "2024-08-28T13:30:05.138Z"
   },
   {
    "duration": 7,
    "start_time": "2024-08-28T13:30:05.483Z"
   },
   {
    "duration": 94,
    "start_time": "2024-08-28T13:30:05.492Z"
   },
   {
    "duration": 75,
    "start_time": "2024-08-28T13:30:05.588Z"
   },
   {
    "duration": 394,
    "start_time": "2024-08-28T13:30:05.664Z"
   },
   {
    "duration": 26,
    "start_time": "2024-08-28T13:30:06.060Z"
   },
   {
    "duration": 112,
    "start_time": "2024-08-28T14:17:15.946Z"
   },
   {
    "duration": 15,
    "start_time": "2024-08-28T14:18:15.094Z"
   },
   {
    "duration": 13,
    "start_time": "2024-08-28T14:19:32.031Z"
   },
   {
    "duration": 115,
    "start_time": "2024-08-28T14:22:32.209Z"
   },
   {
    "duration": 263,
    "start_time": "2024-08-28T14:25:22.210Z"
   },
   {
    "duration": 278,
    "start_time": "2024-08-28T14:25:39.262Z"
   },
   {
    "duration": 255,
    "start_time": "2024-08-28T14:26:53.337Z"
   },
   {
    "duration": 253,
    "start_time": "2024-08-28T14:27:40.810Z"
   },
   {
    "duration": 12,
    "start_time": "2024-08-28T14:29:15.180Z"
   },
   {
    "duration": 50,
    "start_time": "2024-08-29T05:28:29.604Z"
   },
   {
    "duration": 1407,
    "start_time": "2024-08-29T05:32:21.188Z"
   },
   {
    "duration": 188,
    "start_time": "2024-08-29T05:32:22.597Z"
   },
   {
    "duration": 3,
    "start_time": "2024-08-29T05:32:22.787Z"
   },
   {
    "duration": 151,
    "start_time": "2024-08-29T05:32:22.792Z"
   },
   {
    "duration": 52,
    "start_time": "2024-08-29T05:32:22.945Z"
   },
   {
    "duration": 8,
    "start_time": "2024-08-29T05:32:22.998Z"
   },
   {
    "duration": 16,
    "start_time": "2024-08-29T05:32:23.009Z"
   },
   {
    "duration": 4,
    "start_time": "2024-08-29T05:32:23.027Z"
   },
   {
    "duration": 18,
    "start_time": "2024-08-29T05:32:23.033Z"
   },
   {
    "duration": 3,
    "start_time": "2024-08-29T05:32:23.054Z"
   },
   {
    "duration": 39,
    "start_time": "2024-08-29T05:32:23.059Z"
   },
   {
    "duration": 37,
    "start_time": "2024-08-29T05:32:23.099Z"
   },
   {
    "duration": 6,
    "start_time": "2024-08-29T05:32:23.137Z"
   },
   {
    "duration": 10,
    "start_time": "2024-08-29T05:32:23.145Z"
   },
   {
    "duration": 15,
    "start_time": "2024-08-29T05:32:23.156Z"
   },
   {
    "duration": 16,
    "start_time": "2024-08-29T05:32:23.172Z"
   },
   {
    "duration": 619,
    "start_time": "2024-08-29T05:32:23.189Z"
   },
   {
    "duration": 503,
    "start_time": "2024-08-29T05:32:23.809Z"
   },
   {
    "duration": 1360,
    "start_time": "2024-08-29T05:32:24.314Z"
   },
   {
    "duration": 6,
    "start_time": "2024-08-29T05:32:25.676Z"
   },
   {
    "duration": 354,
    "start_time": "2024-08-29T05:32:25.683Z"
   },
   {
    "duration": 7,
    "start_time": "2024-08-29T05:32:26.045Z"
   },
   {
    "duration": 181,
    "start_time": "2024-08-29T05:32:26.054Z"
   },
   {
    "duration": 9,
    "start_time": "2024-08-29T05:32:26.237Z"
   },
   {
    "duration": 28,
    "start_time": "2024-08-29T05:32:26.248Z"
   },
   {
    "duration": 7,
    "start_time": "2024-08-29T05:32:26.278Z"
   },
   {
    "duration": 7,
    "start_time": "2024-08-29T05:32:26.287Z"
   },
   {
    "duration": 353,
    "start_time": "2024-08-29T05:32:26.297Z"
   },
   {
    "duration": 322,
    "start_time": "2024-08-29T05:32:26.651Z"
   },
   {
    "duration": 8,
    "start_time": "2024-08-29T05:32:26.974Z"
   },
   {
    "duration": 9,
    "start_time": "2024-08-29T05:32:26.984Z"
   },
   {
    "duration": 25,
    "start_time": "2024-08-29T05:32:26.995Z"
   },
   {
    "duration": 387,
    "start_time": "2024-08-29T05:32:27.046Z"
   },
   {
    "duration": 30,
    "start_time": "2024-08-29T05:32:27.434Z"
   },
   {
    "duration": 19,
    "start_time": "2024-08-29T05:32:27.466Z"
   },
   {
    "duration": 299,
    "start_time": "2024-08-29T05:32:27.487Z"
   },
   {
    "duration": 289,
    "start_time": "2024-08-29T05:32:27.787Z"
   },
   {
    "duration": 284,
    "start_time": "2024-08-29T05:32:28.077Z"
   },
   {
    "duration": 111,
    "start_time": "2024-08-29T05:32:28.363Z"
   },
   {
    "duration": 7,
    "start_time": "2024-08-29T05:39:58.267Z"
   },
   {
    "duration": 9,
    "start_time": "2024-08-29T05:40:24.445Z"
   },
   {
    "duration": 1232,
    "start_time": "2024-08-29T05:41:41.095Z"
   },
   {
    "duration": 1098,
    "start_time": "2024-08-29T05:41:50.736Z"
   },
   {
    "duration": 174,
    "start_time": "2024-08-29T05:42:53.585Z"
   },
   {
    "duration": 175,
    "start_time": "2024-08-29T05:43:25.439Z"
   },
   {
    "duration": 474,
    "start_time": "2024-08-29T05:44:48.375Z"
   },
   {
    "duration": 314,
    "start_time": "2024-08-29T05:45:39.355Z"
   },
   {
    "duration": 263,
    "start_time": "2024-08-29T06:40:53.700Z"
   },
   {
    "duration": 226,
    "start_time": "2024-08-29T06:41:59.652Z"
   },
   {
    "duration": 195,
    "start_time": "2024-08-29T06:43:39.875Z"
   },
   {
    "duration": 228,
    "start_time": "2024-08-29T06:46:05.334Z"
   },
   {
    "duration": 173,
    "start_time": "2024-08-29T06:49:48.791Z"
   },
   {
    "duration": 227,
    "start_time": "2024-08-29T06:50:26.321Z"
   },
   {
    "duration": 246,
    "start_time": "2024-08-29T06:50:32.512Z"
   },
   {
    "duration": 22,
    "start_time": "2024-08-29T07:05:47.333Z"
   },
   {
    "duration": 9,
    "start_time": "2024-08-29T07:05:55.721Z"
   },
   {
    "duration": 5,
    "start_time": "2024-08-29T07:06:00.448Z"
   },
   {
    "duration": 17,
    "start_time": "2024-08-29T07:08:17.345Z"
   },
   {
    "duration": 12,
    "start_time": "2024-08-29T07:09:42.072Z"
   },
   {
    "duration": 9,
    "start_time": "2024-08-29T07:10:45.951Z"
   },
   {
    "duration": 9,
    "start_time": "2024-08-29T07:11:49.502Z"
   },
   {
    "duration": 5,
    "start_time": "2024-08-29T07:11:55.412Z"
   },
   {
    "duration": 7,
    "start_time": "2024-08-29T07:12:12.550Z"
   },
   {
    "duration": 9,
    "start_time": "2024-08-29T07:12:53.919Z"
   },
   {
    "duration": 5,
    "start_time": "2024-08-29T07:12:56.003Z"
   },
   {
    "duration": 9,
    "start_time": "2024-08-29T07:19:20.562Z"
   },
   {
    "duration": 170,
    "start_time": "2024-08-29T07:20:26.521Z"
   },
   {
    "duration": 298,
    "start_time": "2024-08-29T07:22:34.515Z"
   },
   {
    "duration": 229,
    "start_time": "2024-08-29T07:24:18.867Z"
   },
   {
    "duration": 398,
    "start_time": "2024-08-29T07:25:27.262Z"
   },
   {
    "duration": 268,
    "start_time": "2024-08-29T07:30:54.354Z"
   },
   {
    "duration": 136,
    "start_time": "2024-08-29T07:33:12.002Z"
   },
   {
    "duration": 129,
    "start_time": "2024-08-29T07:34:42.582Z"
   },
   {
    "duration": 268,
    "start_time": "2024-08-29T07:34:51.641Z"
   },
   {
    "duration": 270,
    "start_time": "2024-08-29T07:35:45.139Z"
   },
   {
    "duration": 284,
    "start_time": "2024-08-29T07:35:57.291Z"
   },
   {
    "duration": 6,
    "start_time": "2024-08-29T07:46:59.986Z"
   },
   {
    "duration": 5,
    "start_time": "2024-08-29T08:03:55.090Z"
   },
   {
    "duration": 29,
    "start_time": "2024-08-29T08:24:07.817Z"
   },
   {
    "duration": 25,
    "start_time": "2024-08-29T08:27:17.272Z"
   },
   {
    "duration": 6,
    "start_time": "2024-08-29T08:30:33.001Z"
   },
   {
    "duration": 4,
    "start_time": "2024-08-29T08:37:11.300Z"
   },
   {
    "duration": 13,
    "start_time": "2024-08-29T08:38:37.601Z"
   },
   {
    "duration": 14,
    "start_time": "2024-08-29T08:38:44.233Z"
   },
   {
    "duration": 4,
    "start_time": "2024-08-29T08:38:54.005Z"
   },
   {
    "duration": 807,
    "start_time": "2024-08-29T08:39:13.363Z"
   },
   {
    "duration": 5,
    "start_time": "2024-08-29T08:40:55.882Z"
   },
   {
    "duration": 12,
    "start_time": "2024-08-29T08:41:20.727Z"
   },
   {
    "duration": 6,
    "start_time": "2024-08-29T08:41:26.128Z"
   },
   {
    "duration": 5,
    "start_time": "2024-08-29T08:41:31.248Z"
   },
   {
    "duration": 6,
    "start_time": "2024-08-29T08:41:56.775Z"
   },
   {
    "duration": 5,
    "start_time": "2024-08-29T08:41:57.432Z"
   },
   {
    "duration": 1238,
    "start_time": "2024-08-29T08:42:01.250Z"
   },
   {
    "duration": 74,
    "start_time": "2024-08-29T08:42:02.490Z"
   },
   {
    "duration": 2,
    "start_time": "2024-08-29T08:42:02.566Z"
   },
   {
    "duration": 35,
    "start_time": "2024-08-29T08:42:02.570Z"
   },
   {
    "duration": 23,
    "start_time": "2024-08-29T08:42:02.607Z"
   },
   {
    "duration": 15,
    "start_time": "2024-08-29T08:42:02.632Z"
   },
   {
    "duration": 41,
    "start_time": "2024-08-29T08:42:02.648Z"
   },
   {
    "duration": 10,
    "start_time": "2024-08-29T08:42:02.691Z"
   },
   {
    "duration": 8,
    "start_time": "2024-08-29T08:42:02.703Z"
   },
   {
    "duration": 4,
    "start_time": "2024-08-29T08:42:02.714Z"
   },
   {
    "duration": 22,
    "start_time": "2024-08-29T08:42:02.719Z"
   },
   {
    "duration": 16,
    "start_time": "2024-08-29T08:42:02.743Z"
   },
   {
    "duration": 6,
    "start_time": "2024-08-29T08:42:02.761Z"
   },
   {
    "duration": 21,
    "start_time": "2024-08-29T08:42:02.768Z"
   },
   {
    "duration": 23,
    "start_time": "2024-08-29T08:42:02.791Z"
   },
   {
    "duration": 39,
    "start_time": "2024-08-29T08:42:02.816Z"
   },
   {
    "duration": 542,
    "start_time": "2024-08-29T08:42:02.857Z"
   },
   {
    "duration": 451,
    "start_time": "2024-08-29T08:42:03.401Z"
   },
   {
    "duration": 1387,
    "start_time": "2024-08-29T08:42:03.853Z"
   },
   {
    "duration": 9,
    "start_time": "2024-08-29T08:42:05.242Z"
   },
   {
    "duration": 337,
    "start_time": "2024-08-29T08:42:05.252Z"
   },
   {
    "duration": 7,
    "start_time": "2024-08-29T08:42:05.591Z"
   },
   {
    "duration": 184,
    "start_time": "2024-08-29T08:42:05.599Z"
   },
   {
    "duration": 8,
    "start_time": "2024-08-29T08:42:05.785Z"
   },
   {
    "duration": 60,
    "start_time": "2024-08-29T08:42:05.795Z"
   },
   {
    "duration": 20,
    "start_time": "2024-08-29T08:42:05.856Z"
   },
   {
    "duration": 29,
    "start_time": "2024-08-29T08:42:05.877Z"
   },
   {
    "duration": 344,
    "start_time": "2024-08-29T08:42:05.909Z"
   },
   {
    "duration": 342,
    "start_time": "2024-08-29T08:42:06.255Z"
   },
   {
    "duration": 8,
    "start_time": "2024-08-29T08:42:06.599Z"
   },
   {
    "duration": 17,
    "start_time": "2024-08-29T08:42:06.609Z"
   },
   {
    "duration": 48,
    "start_time": "2024-08-29T08:42:06.628Z"
   },
   {
    "duration": 397,
    "start_time": "2024-08-29T08:42:06.678Z"
   },
   {
    "duration": 25,
    "start_time": "2024-08-29T08:42:07.076Z"
   },
   {
    "duration": 11,
    "start_time": "2024-08-29T08:42:07.102Z"
   },
   {
    "duration": 244,
    "start_time": "2024-08-29T08:42:07.114Z"
   },
   {
    "duration": 217,
    "start_time": "2024-08-29T08:42:07.360Z"
   },
   {
    "duration": 193,
    "start_time": "2024-08-29T08:42:07.579Z"
   },
   {
    "duration": 9,
    "start_time": "2024-08-29T08:42:07.774Z"
   },
   {
    "duration": 304,
    "start_time": "2024-08-29T08:42:07.784Z"
   },
   {
    "duration": 298,
    "start_time": "2024-08-29T08:42:08.091Z"
   },
   {
    "duration": 428,
    "start_time": "2024-08-29T08:42:08.391Z"
   },
   {
    "duration": 5,
    "start_time": "2024-08-29T08:42:08.821Z"
   },
   {
    "duration": 19,
    "start_time": "2024-08-29T08:42:08.828Z"
   },
   {
    "duration": 6,
    "start_time": "2024-08-29T08:42:08.848Z"
   },
   {
    "duration": 9,
    "start_time": "2024-08-29T08:42:08.855Z"
   },
   {
    "duration": 5,
    "start_time": "2024-08-29T08:42:32.562Z"
   },
   {
    "duration": 217,
    "start_time": "2024-08-29T08:47:39.505Z"
   },
   {
    "duration": 209,
    "start_time": "2024-08-29T09:10:15.766Z"
   },
   {
    "duration": 200,
    "start_time": "2024-08-29T09:14:36.193Z"
   },
   {
    "duration": 204,
    "start_time": "2024-08-29T09:14:54.231Z"
   },
   {
    "duration": 207,
    "start_time": "2024-08-29T09:15:04.008Z"
   },
   {
    "duration": 218,
    "start_time": "2024-08-29T09:15:13.511Z"
   },
   {
    "duration": 248,
    "start_time": "2024-08-29T09:15:21.400Z"
   },
   {
    "duration": 118,
    "start_time": "2024-08-29T09:15:32.823Z"
   },
   {
    "duration": 250,
    "start_time": "2024-08-29T09:15:41.021Z"
   },
   {
    "duration": 187,
    "start_time": "2024-08-29T09:16:04.535Z"
   },
   {
    "duration": 51,
    "start_time": "2024-08-29T09:16:25.650Z"
   },
   {
    "duration": 1313,
    "start_time": "2024-08-29T09:16:29.634Z"
   },
   {
    "duration": 1260,
    "start_time": "2024-08-29T09:16:50.901Z"
   },
   {
    "duration": 230,
    "start_time": "2024-08-29T09:18:46.222Z"
   },
   {
    "duration": 11,
    "start_time": "2024-08-29T09:19:31.716Z"
   },
   {
    "duration": 254,
    "start_time": "2024-08-29T09:19:36.324Z"
   },
   {
    "duration": 149,
    "start_time": "2024-08-29T09:19:45.532Z"
   },
   {
    "duration": 231,
    "start_time": "2024-08-29T09:20:03.220Z"
   },
   {
    "duration": 179,
    "start_time": "2024-08-29T09:20:35.418Z"
   },
   {
    "duration": 217,
    "start_time": "2024-08-29T09:20:50.052Z"
   },
   {
    "duration": 346,
    "start_time": "2024-08-29T09:22:21.546Z"
   },
   {
    "duration": 214,
    "start_time": "2024-08-29T09:22:48.981Z"
   },
   {
    "duration": 406,
    "start_time": "2024-08-29T09:22:56.732Z"
   },
   {
    "duration": 190,
    "start_time": "2024-08-29T09:23:42.378Z"
   },
   {
    "duration": 331,
    "start_time": "2024-08-29T09:23:59.442Z"
   },
   {
    "duration": 386,
    "start_time": "2024-08-29T09:24:05.972Z"
   },
   {
    "duration": 448,
    "start_time": "2024-08-29T09:24:24.422Z"
   },
   {
    "duration": 349,
    "start_time": "2024-08-29T09:45:32.558Z"
   },
   {
    "duration": 354,
    "start_time": "2024-08-29T09:46:13.810Z"
   },
   {
    "duration": 24,
    "start_time": "2024-08-29T09:55:30.969Z"
   },
   {
    "duration": 41,
    "start_time": "2024-08-29T10:26:58.167Z"
   },
   {
    "duration": 12,
    "start_time": "2024-08-29T10:27:25.027Z"
   },
   {
    "duration": 37,
    "start_time": "2024-08-29T10:27:33.217Z"
   },
   {
    "duration": 11,
    "start_time": "2024-08-29T10:33:48.230Z"
   },
   {
    "duration": 7,
    "start_time": "2024-08-29T10:34:23.231Z"
   },
   {
    "duration": 12,
    "start_time": "2024-08-29T10:45:07.872Z"
   },
   {
    "duration": 8,
    "start_time": "2024-08-29T10:45:17.763Z"
   },
   {
    "duration": 9,
    "start_time": "2024-08-29T10:45:29.741Z"
   },
   {
    "duration": 21,
    "start_time": "2024-08-29T10:48:55.917Z"
   },
   {
    "duration": 17,
    "start_time": "2024-08-29T10:49:17.912Z"
   },
   {
    "duration": 60,
    "start_time": "2024-08-29T10:52:03.041Z"
   },
   {
    "duration": 19,
    "start_time": "2024-08-29T11:17:19.145Z"
   },
   {
    "duration": 3,
    "start_time": "2024-08-29T11:57:24.252Z"
   },
   {
    "duration": 39,
    "start_time": "2024-08-29T11:57:24.266Z"
   },
   {
    "duration": 19,
    "start_time": "2024-08-29T11:57:24.326Z"
   },
   {
    "duration": 17,
    "start_time": "2024-08-29T11:57:24.364Z"
   },
   {
    "duration": 16,
    "start_time": "2024-08-29T11:57:24.389Z"
   },
   {
    "duration": 7,
    "start_time": "2024-08-29T11:57:24.449Z"
   },
   {
    "duration": 17,
    "start_time": "2024-08-29T11:57:24.467Z"
   },
   {
    "duration": 50,
    "start_time": "2024-08-29T11:57:24.497Z"
   },
   {
    "duration": 9,
    "start_time": "2024-08-29T11:57:24.556Z"
   },
   {
    "duration": 4,
    "start_time": "2024-08-29T11:57:24.575Z"
   },
   {
    "duration": 57,
    "start_time": "2024-08-29T11:57:24.590Z"
   },
   {
    "duration": 8,
    "start_time": "2024-08-29T11:57:24.657Z"
   },
   {
    "duration": 5,
    "start_time": "2024-08-29T11:57:24.689Z"
   },
   {
    "duration": 3,
    "start_time": "2024-08-29T11:57:24.746Z"
   },
   {
    "duration": 5,
    "start_time": "2024-08-29T11:57:24.769Z"
   },
   {
    "duration": 16,
    "start_time": "2024-08-29T11:57:25.372Z"
   },
   {
    "duration": 507,
    "start_time": "2024-08-29T11:57:25.857Z"
   },
   {
    "duration": 453,
    "start_time": "2024-08-29T11:57:27.782Z"
   },
   {
    "duration": 1377,
    "start_time": "2024-08-29T11:57:28.254Z"
   },
   {
    "duration": 6,
    "start_time": "2024-08-29T11:57:30.046Z"
   },
   {
    "duration": 414,
    "start_time": "2024-08-29T11:57:30.103Z"
   },
   {
    "duration": 16,
    "start_time": "2024-08-29T11:57:30.730Z"
   },
   {
    "duration": 200,
    "start_time": "2024-08-29T11:57:30.762Z"
   },
   {
    "duration": 23,
    "start_time": "2024-08-29T11:57:30.984Z"
   },
   {
    "duration": 122,
    "start_time": "2024-08-29T11:57:31.024Z"
   },
   {
    "duration": 35,
    "start_time": "2024-08-29T11:57:31.158Z"
   },
   {
    "duration": 10,
    "start_time": "2024-08-29T11:57:31.549Z"
   },
   {
    "duration": 330,
    "start_time": "2024-08-29T11:57:31.935Z"
   },
   {
    "duration": 400,
    "start_time": "2024-08-29T11:57:32.276Z"
   },
   {
    "duration": 12,
    "start_time": "2024-08-29T11:57:32.687Z"
   },
   {
    "duration": 14,
    "start_time": "2024-08-29T11:57:32.751Z"
   },
   {
    "duration": 17,
    "start_time": "2024-08-29T11:57:33.151Z"
   },
   {
    "duration": 358,
    "start_time": "2024-08-29T11:57:33.242Z"
   },
   {
    "duration": 34,
    "start_time": "2024-08-29T11:57:33.613Z"
   },
   {
    "duration": 10,
    "start_time": "2024-08-29T11:57:33.882Z"
   },
   {
    "duration": 229,
    "start_time": "2024-08-29T11:57:34.251Z"
   },
   {
    "duration": 271,
    "start_time": "2024-08-29T11:57:34.679Z"
   },
   {
    "duration": 204,
    "start_time": "2024-08-29T11:57:34.964Z"
   },
   {
    "duration": 9,
    "start_time": "2024-08-29T11:57:35.447Z"
   },
   {
    "duration": 266,
    "start_time": "2024-08-29T11:57:35.750Z"
   },
   {
    "duration": 320,
    "start_time": "2024-08-29T11:57:36.313Z"
   },
   {
    "duration": 258,
    "start_time": "2024-08-29T11:57:36.647Z"
   },
   {
    "duration": 5,
    "start_time": "2024-08-29T11:57:37.286Z"
   },
   {
    "duration": 346,
    "start_time": "2024-08-29T11:57:37.751Z"
   },
   {
    "duration": 344,
    "start_time": "2024-08-29T11:57:38.461Z"
   },
   {
    "duration": 376,
    "start_time": "2024-08-29T11:57:38.822Z"
   },
   {
    "duration": 39,
    "start_time": "2024-08-29T11:57:39.215Z"
   },
   {
    "duration": 29,
    "start_time": "2024-08-29T11:57:39.256Z"
   },
   {
    "duration": 1285,
    "start_time": "2024-08-29T12:12:28.843Z"
   },
   {
    "duration": 57,
    "start_time": "2024-08-29T12:12:30.130Z"
   },
   {
    "duration": 43,
    "start_time": "2024-08-29T12:12:30.189Z"
   },
   {
    "duration": 67,
    "start_time": "2024-08-29T12:12:30.234Z"
   },
   {
    "duration": 25,
    "start_time": "2024-08-29T12:12:30.303Z"
   },
   {
    "duration": 80,
    "start_time": "2024-08-29T12:12:30.330Z"
   },
   {
    "duration": 43,
    "start_time": "2024-08-29T12:12:30.412Z"
   },
   {
    "duration": 23,
    "start_time": "2024-08-29T12:12:30.456Z"
   },
   {
    "duration": 16,
    "start_time": "2024-08-29T12:12:30.480Z"
   },
   {
    "duration": 15,
    "start_time": "2024-08-29T12:12:30.500Z"
   },
   {
    "duration": 18,
    "start_time": "2024-08-29T12:12:30.517Z"
   },
   {
    "duration": 14,
    "start_time": "2024-08-29T12:12:30.537Z"
   },
   {
    "duration": 55,
    "start_time": "2024-08-29T12:12:30.553Z"
   },
   {
    "duration": 35,
    "start_time": "2024-08-29T12:12:30.610Z"
   },
   {
    "duration": 14,
    "start_time": "2024-08-29T12:12:30.647Z"
   },
   {
    "duration": 25,
    "start_time": "2024-08-29T12:12:30.663Z"
   },
   {
    "duration": 574,
    "start_time": "2024-08-29T12:12:30.690Z"
   },
   {
    "duration": 460,
    "start_time": "2024-08-29T12:12:31.266Z"
   },
   {
    "duration": 1474,
    "start_time": "2024-08-29T12:12:31.728Z"
   },
   {
    "duration": 6,
    "start_time": "2024-08-29T12:12:33.204Z"
   },
   {
    "duration": 453,
    "start_time": "2024-08-29T12:12:33.212Z"
   },
   {
    "duration": 6,
    "start_time": "2024-08-29T12:12:33.669Z"
   },
   {
    "duration": 199,
    "start_time": "2024-08-29T12:12:33.677Z"
   },
   {
    "duration": 10,
    "start_time": "2024-08-29T12:12:33.877Z"
   },
   {
    "duration": 25,
    "start_time": "2024-08-29T12:12:33.889Z"
   },
   {
    "duration": 31,
    "start_time": "2024-08-29T12:12:33.916Z"
   },
   {
    "duration": 30,
    "start_time": "2024-08-29T12:12:33.949Z"
   },
   {
    "duration": 352,
    "start_time": "2024-08-29T12:12:33.984Z"
   },
   {
    "duration": 320,
    "start_time": "2024-08-29T12:12:34.338Z"
   },
   {
    "duration": 9,
    "start_time": "2024-08-29T12:12:34.660Z"
   },
   {
    "duration": 12,
    "start_time": "2024-08-29T12:12:34.671Z"
   },
   {
    "duration": 23,
    "start_time": "2024-08-29T12:12:34.684Z"
   },
   {
    "duration": 538,
    "start_time": "2024-08-29T12:12:34.708Z"
   },
   {
    "duration": 39,
    "start_time": "2024-08-29T12:12:35.248Z"
   },
   {
    "duration": 13,
    "start_time": "2024-08-29T12:12:35.290Z"
   },
   {
    "duration": 298,
    "start_time": "2024-08-29T12:12:35.305Z"
   },
   {
    "duration": 274,
    "start_time": "2024-08-29T12:12:35.605Z"
   },
   {
    "duration": 311,
    "start_time": "2024-08-29T12:12:35.881Z"
   },
   {
    "duration": 11,
    "start_time": "2024-08-29T12:12:36.194Z"
   },
   {
    "duration": 291,
    "start_time": "2024-08-29T12:12:36.207Z"
   },
   {
    "duration": 322,
    "start_time": "2024-08-29T12:12:36.499Z"
   },
   {
    "duration": 387,
    "start_time": "2024-08-29T12:12:36.822Z"
   },
   {
    "duration": 7,
    "start_time": "2024-08-29T12:12:37.210Z"
   },
   {
    "duration": 388,
    "start_time": "2024-08-29T12:12:37.219Z"
   },
   {
    "duration": 393,
    "start_time": "2024-08-29T12:12:37.609Z"
   },
   {
    "duration": 393,
    "start_time": "2024-08-29T12:12:38.004Z"
   },
   {
    "duration": 14,
    "start_time": "2024-08-29T12:12:38.398Z"
   },
   {
    "duration": 38,
    "start_time": "2024-08-29T12:12:38.414Z"
   },
   {
    "duration": 1220,
    "start_time": "2024-08-29T12:43:35.462Z"
   },
   {
    "duration": 59,
    "start_time": "2024-08-29T12:43:36.684Z"
   },
   {
    "duration": 3,
    "start_time": "2024-08-29T12:43:36.745Z"
   },
   {
    "duration": 65,
    "start_time": "2024-08-29T12:43:36.750Z"
   },
   {
    "duration": 40,
    "start_time": "2024-08-29T12:43:36.816Z"
   },
   {
    "duration": 13,
    "start_time": "2024-08-29T12:43:36.858Z"
   },
   {
    "duration": 26,
    "start_time": "2024-08-29T12:43:36.873Z"
   },
   {
    "duration": 28,
    "start_time": "2024-08-29T12:43:36.901Z"
   },
   {
    "duration": 8,
    "start_time": "2024-08-29T12:43:36.931Z"
   },
   {
    "duration": 7,
    "start_time": "2024-08-29T12:43:36.941Z"
   },
   {
    "duration": 19,
    "start_time": "2024-08-29T12:43:36.949Z"
   },
   {
    "duration": 5,
    "start_time": "2024-08-29T12:43:36.970Z"
   },
   {
    "duration": 10,
    "start_time": "2024-08-29T12:43:36.977Z"
   },
   {
    "duration": 38,
    "start_time": "2024-08-29T12:43:36.988Z"
   },
   {
    "duration": 7,
    "start_time": "2024-08-29T12:43:37.028Z"
   },
   {
    "duration": 39,
    "start_time": "2024-08-29T12:43:37.037Z"
   },
   {
    "duration": 573,
    "start_time": "2024-08-29T12:43:37.078Z"
   },
   {
    "duration": 460,
    "start_time": "2024-08-29T12:43:37.653Z"
   },
   {
    "duration": 1390,
    "start_time": "2024-08-29T12:43:38.115Z"
   },
   {
    "duration": 7,
    "start_time": "2024-08-29T12:43:39.506Z"
   },
   {
    "duration": 365,
    "start_time": "2024-08-29T12:43:39.514Z"
   },
   {
    "duration": 6,
    "start_time": "2024-08-29T12:43:39.881Z"
   },
   {
    "duration": 208,
    "start_time": "2024-08-29T12:43:39.889Z"
   },
   {
    "duration": 11,
    "start_time": "2024-08-29T12:43:40.099Z"
   },
   {
    "duration": 46,
    "start_time": "2024-08-29T12:43:40.112Z"
   },
   {
    "duration": 7,
    "start_time": "2024-08-29T12:43:40.160Z"
   },
   {
    "duration": 37,
    "start_time": "2024-08-29T12:43:40.169Z"
   },
   {
    "duration": 347,
    "start_time": "2024-08-29T12:43:40.210Z"
   },
   {
    "duration": 359,
    "start_time": "2024-08-29T12:43:40.559Z"
   },
   {
    "duration": 7,
    "start_time": "2024-08-29T12:43:40.920Z"
   },
   {
    "duration": 8,
    "start_time": "2024-08-29T12:43:40.928Z"
   },
   {
    "duration": 17,
    "start_time": "2024-08-29T12:43:40.937Z"
   },
   {
    "duration": 519,
    "start_time": "2024-08-29T12:43:40.955Z"
   },
   {
    "duration": 34,
    "start_time": "2024-08-29T12:43:41.476Z"
   },
   {
    "duration": 10,
    "start_time": "2024-08-29T12:43:41.512Z"
   },
   {
    "duration": 200,
    "start_time": "2024-08-29T12:43:41.523Z"
   },
   {
    "duration": 207,
    "start_time": "2024-08-29T12:43:41.724Z"
   },
   {
    "duration": 199,
    "start_time": "2024-08-29T12:43:41.932Z"
   },
   {
    "duration": 9,
    "start_time": "2024-08-29T12:43:42.133Z"
   },
   {
    "duration": 315,
    "start_time": "2024-08-29T12:43:42.144Z"
   },
   {
    "duration": 292,
    "start_time": "2024-08-29T12:43:42.461Z"
   },
   {
    "duration": 394,
    "start_time": "2024-08-29T12:43:42.755Z"
   },
   {
    "duration": 5,
    "start_time": "2024-08-29T12:43:43.151Z"
   },
   {
    "duration": 385,
    "start_time": "2024-08-29T12:43:43.158Z"
   },
   {
    "duration": 319,
    "start_time": "2024-08-29T12:43:43.545Z"
   },
   {
    "duration": 366,
    "start_time": "2024-08-29T12:43:43.905Z"
   },
   {
    "duration": 15,
    "start_time": "2024-08-29T12:43:44.272Z"
   },
   {
    "duration": 122,
    "start_time": "2024-08-29T12:43:44.304Z"
   },
   {
    "duration": 1200,
    "start_time": "2024-08-29T13:26:26.341Z"
   },
   {
    "duration": 61,
    "start_time": "2024-08-29T13:26:27.543Z"
   },
   {
    "duration": 2,
    "start_time": "2024-08-29T13:26:27.606Z"
   },
   {
    "duration": 42,
    "start_time": "2024-08-29T13:26:27.610Z"
   },
   {
    "duration": 18,
    "start_time": "2024-08-29T13:26:27.654Z"
   },
   {
    "duration": 5,
    "start_time": "2024-08-29T13:26:27.673Z"
   },
   {
    "duration": 14,
    "start_time": "2024-08-29T13:26:27.680Z"
   },
   {
    "duration": 11,
    "start_time": "2024-08-29T13:26:27.696Z"
   },
   {
    "duration": 10,
    "start_time": "2024-08-29T13:26:27.709Z"
   },
   {
    "duration": 4,
    "start_time": "2024-08-29T13:26:27.721Z"
   },
   {
    "duration": 5,
    "start_time": "2024-08-29T13:26:27.727Z"
   },
   {
    "duration": 17,
    "start_time": "2024-08-29T13:26:27.734Z"
   },
   {
    "duration": 4,
    "start_time": "2024-08-29T13:26:27.753Z"
   },
   {
    "duration": 25,
    "start_time": "2024-08-29T13:26:27.760Z"
   },
   {
    "duration": 7,
    "start_time": "2024-08-29T13:26:27.787Z"
   },
   {
    "duration": 15,
    "start_time": "2024-08-29T13:26:27.804Z"
   },
   {
    "duration": 561,
    "start_time": "2024-08-29T13:26:27.821Z"
   },
   {
    "duration": 482,
    "start_time": "2024-08-29T13:26:28.384Z"
   },
   {
    "duration": 1359,
    "start_time": "2024-08-29T13:26:28.867Z"
   },
   {
    "duration": 7,
    "start_time": "2024-08-29T13:26:30.227Z"
   },
   {
    "duration": 359,
    "start_time": "2024-08-29T13:26:30.236Z"
   },
   {
    "duration": 7,
    "start_time": "2024-08-29T13:26:30.604Z"
   },
   {
    "duration": 200,
    "start_time": "2024-08-29T13:26:30.613Z"
   },
   {
    "duration": 8,
    "start_time": "2024-08-29T13:26:30.815Z"
   },
   {
    "duration": 33,
    "start_time": "2024-08-29T13:26:30.825Z"
   },
   {
    "duration": 8,
    "start_time": "2024-08-29T13:26:30.859Z"
   },
   {
    "duration": 12,
    "start_time": "2024-08-29T13:26:30.869Z"
   },
   {
    "duration": 340,
    "start_time": "2024-08-29T13:26:30.883Z"
   },
   {
    "duration": 382,
    "start_time": "2024-08-29T13:26:31.224Z"
   },
   {
    "duration": 9,
    "start_time": "2024-08-29T13:26:31.607Z"
   },
   {
    "duration": 8,
    "start_time": "2024-08-29T13:26:31.617Z"
   },
   {
    "duration": 18,
    "start_time": "2024-08-29T13:26:31.626Z"
   },
   {
    "duration": 387,
    "start_time": "2024-08-29T13:26:31.645Z"
   },
   {
    "duration": 24,
    "start_time": "2024-08-29T13:26:32.034Z"
   },
   {
    "duration": 10,
    "start_time": "2024-08-29T13:26:32.060Z"
   },
   {
    "duration": 255,
    "start_time": "2024-08-29T13:26:32.072Z"
   },
   {
    "duration": 211,
    "start_time": "2024-08-29T13:26:32.329Z"
   },
   {
    "duration": 265,
    "start_time": "2024-08-29T13:26:32.543Z"
   },
   {
    "duration": 10,
    "start_time": "2024-08-29T13:26:32.811Z"
   },
   {
    "duration": 295,
    "start_time": "2024-08-29T13:26:32.822Z"
   },
   {
    "duration": 326,
    "start_time": "2024-08-29T13:26:33.121Z"
   },
   {
    "duration": 390,
    "start_time": "2024-08-29T13:26:33.448Z"
   },
   {
    "duration": 5,
    "start_time": "2024-08-29T13:26:33.839Z"
   },
   {
    "duration": 316,
    "start_time": "2024-08-29T13:26:33.846Z"
   },
   {
    "duration": 396,
    "start_time": "2024-08-29T13:26:34.164Z"
   },
   {
    "duration": 381,
    "start_time": "2024-08-29T13:26:34.562Z"
   },
   {
    "duration": 14,
    "start_time": "2024-08-29T13:26:34.945Z"
   },
   {
    "duration": 32,
    "start_time": "2024-08-29T13:26:34.961Z"
   },
   {
    "duration": 82,
    "start_time": "2024-08-29T13:34:24.002Z"
   },
   {
    "duration": 25,
    "start_time": "2024-08-29T13:37:26.811Z"
   },
   {
    "duration": 5,
    "start_time": "2024-08-29T13:42:12.513Z"
   },
   {
    "duration": 10,
    "start_time": "2024-08-29T13:48:02.144Z"
   },
   {
    "duration": 1438,
    "start_time": "2024-08-29T16:27:58.948Z"
   },
   {
    "duration": 190,
    "start_time": "2024-08-29T16:28:00.388Z"
   },
   {
    "duration": 4,
    "start_time": "2024-08-29T16:28:00.580Z"
   },
   {
    "duration": 48,
    "start_time": "2024-08-29T16:28:00.586Z"
   },
   {
    "duration": 15,
    "start_time": "2024-08-29T16:28:00.636Z"
   },
   {
    "duration": 18,
    "start_time": "2024-08-29T16:28:00.653Z"
   },
   {
    "duration": 23,
    "start_time": "2024-08-29T16:28:00.673Z"
   },
   {
    "duration": 17,
    "start_time": "2024-08-29T16:28:00.698Z"
   },
   {
    "duration": 12,
    "start_time": "2024-08-29T16:28:00.717Z"
   },
   {
    "duration": 14,
    "start_time": "2024-08-29T16:28:00.733Z"
   },
   {
    "duration": 20,
    "start_time": "2024-08-29T16:28:00.750Z"
   },
   {
    "duration": 12,
    "start_time": "2024-08-29T16:28:00.772Z"
   },
   {
    "duration": 21,
    "start_time": "2024-08-29T16:28:00.786Z"
   },
   {
    "duration": 14,
    "start_time": "2024-08-29T16:28:00.809Z"
   },
   {
    "duration": 6,
    "start_time": "2024-08-29T16:28:00.824Z"
   },
   {
    "duration": 15,
    "start_time": "2024-08-29T16:28:00.832Z"
   },
   {
    "duration": 138,
    "start_time": "2024-08-29T16:28:00.849Z"
   },
   {
    "duration": 634,
    "start_time": "2024-08-29T16:28:00.989Z"
   },
   {
    "duration": 472,
    "start_time": "2024-08-29T16:28:01.624Z"
   },
   {
    "duration": 1478,
    "start_time": "2024-08-29T16:28:02.098Z"
   },
   {
    "duration": 26,
    "start_time": "2024-08-29T16:28:03.578Z"
   },
   {
    "duration": 5,
    "start_time": "2024-08-29T16:28:03.606Z"
   },
   {
    "duration": 337,
    "start_time": "2024-08-29T16:28:03.613Z"
   },
   {
    "duration": 28,
    "start_time": "2024-08-29T16:28:03.951Z"
   },
   {
    "duration": 182,
    "start_time": "2024-08-29T16:28:03.981Z"
   },
   {
    "duration": 11,
    "start_time": "2024-08-29T16:28:04.166Z"
   },
   {
    "duration": 28,
    "start_time": "2024-08-29T16:28:04.179Z"
   },
   {
    "duration": 8,
    "start_time": "2024-08-29T16:28:04.210Z"
   },
   {
    "duration": 73,
    "start_time": "2024-08-29T16:28:04.219Z"
   },
   {
    "duration": 411,
    "start_time": "2024-08-29T16:28:04.294Z"
   },
   {
    "duration": 379,
    "start_time": "2024-08-29T16:28:04.707Z"
   },
   {
    "duration": 9,
    "start_time": "2024-08-29T16:28:05.088Z"
   },
   {
    "duration": 16,
    "start_time": "2024-08-29T16:28:05.098Z"
   },
   {
    "duration": 75,
    "start_time": "2024-08-29T16:28:05.115Z"
   },
   {
    "duration": 18,
    "start_time": "2024-08-29T16:28:05.192Z"
   },
   {
    "duration": 382,
    "start_time": "2024-08-29T16:28:05.212Z"
   },
   {
    "duration": 26,
    "start_time": "2024-08-29T16:28:05.595Z"
   },
   {
    "duration": 10,
    "start_time": "2024-08-29T16:28:05.622Z"
   },
   {
    "duration": 258,
    "start_time": "2024-08-29T16:28:05.634Z"
   },
   {
    "duration": 209,
    "start_time": "2024-08-29T16:28:05.894Z"
   },
   {
    "duration": 269,
    "start_time": "2024-08-29T16:28:06.105Z"
   },
   {
    "duration": 10,
    "start_time": "2024-08-29T16:28:06.377Z"
   },
   {
    "duration": 245,
    "start_time": "2024-08-29T16:28:06.388Z"
   },
   {
    "duration": 302,
    "start_time": "2024-08-29T16:28:06.634Z"
   },
   {
    "duration": 382,
    "start_time": "2024-08-29T16:28:06.938Z"
   },
   {
    "duration": 6,
    "start_time": "2024-08-29T16:28:07.322Z"
   },
   {
    "duration": 375,
    "start_time": "2024-08-29T16:28:07.330Z"
   },
   {
    "duration": 326,
    "start_time": "2024-08-29T16:28:07.707Z"
   },
   {
    "duration": 399,
    "start_time": "2024-08-29T16:28:08.034Z"
   },
   {
    "duration": 9,
    "start_time": "2024-08-29T16:28:08.435Z"
   },
   {
    "duration": 38,
    "start_time": "2024-08-29T16:28:08.445Z"
   },
   {
    "duration": 17,
    "start_time": "2024-08-29T16:28:08.484Z"
   },
   {
    "duration": 50,
    "start_time": "2024-08-29T16:36:47.020Z"
   },
   {
    "duration": 12,
    "start_time": "2024-08-29T16:36:54.649Z"
   },
   {
    "duration": 10,
    "start_time": "2024-08-29T16:37:01.710Z"
   },
   {
    "duration": 33,
    "start_time": "2024-08-29T16:39:00.468Z"
   },
   {
    "duration": 13,
    "start_time": "2024-08-29T16:39:13.858Z"
   },
   {
    "duration": 1171,
    "start_time": "2024-08-29T16:43:03.980Z"
   },
   {
    "duration": 7,
    "start_time": "2024-08-29T16:44:01.319Z"
   },
   {
    "duration": 8,
    "start_time": "2024-08-29T16:45:03.739Z"
   },
   {
    "duration": 45,
    "start_time": "2024-08-29T16:49:37.859Z"
   },
   {
    "duration": 12,
    "start_time": "2024-08-29T16:51:09.761Z"
   },
   {
    "duration": 1250,
    "start_time": "2024-08-29T17:08:52.358Z"
   },
   {
    "duration": 60,
    "start_time": "2024-08-29T17:08:53.610Z"
   },
   {
    "duration": 3,
    "start_time": "2024-08-29T17:08:53.672Z"
   },
   {
    "duration": 35,
    "start_time": "2024-08-29T17:08:53.677Z"
   },
   {
    "duration": 20,
    "start_time": "2024-08-29T17:08:53.713Z"
   },
   {
    "duration": 5,
    "start_time": "2024-08-29T17:08:53.734Z"
   },
   {
    "duration": 11,
    "start_time": "2024-08-29T17:08:53.740Z"
   },
   {
    "duration": 7,
    "start_time": "2024-08-29T17:08:53.764Z"
   },
   {
    "duration": 11,
    "start_time": "2024-08-29T17:08:53.773Z"
   },
   {
    "duration": 9,
    "start_time": "2024-08-29T17:08:53.787Z"
   },
   {
    "duration": 11,
    "start_time": "2024-08-29T17:08:53.798Z"
   },
   {
    "duration": 6,
    "start_time": "2024-08-29T17:08:53.811Z"
   },
   {
    "duration": 14,
    "start_time": "2024-08-29T17:08:53.818Z"
   },
   {
    "duration": 12,
    "start_time": "2024-08-29T17:08:53.833Z"
   },
   {
    "duration": 25,
    "start_time": "2024-08-29T17:08:53.847Z"
   },
   {
    "duration": 16,
    "start_time": "2024-08-29T17:08:53.874Z"
   },
   {
    "duration": 7,
    "start_time": "2024-08-29T17:08:53.892Z"
   },
   {
    "duration": 4,
    "start_time": "2024-08-29T17:08:53.901Z"
   },
   {
    "duration": 15,
    "start_time": "2024-08-29T17:08:53.907Z"
   },
   {
    "duration": 113,
    "start_time": "2024-08-29T17:08:53.924Z"
   },
   {
    "duration": 555,
    "start_time": "2024-08-29T17:08:54.039Z"
   },
   {
    "duration": 503,
    "start_time": "2024-08-29T17:08:54.596Z"
   },
   {
    "duration": 1299,
    "start_time": "2024-08-29T17:08:55.101Z"
   },
   {
    "duration": 26,
    "start_time": "2024-08-29T17:08:56.402Z"
   },
   {
    "duration": 24,
    "start_time": "2024-08-29T17:08:56.430Z"
   },
   {
    "duration": 313,
    "start_time": "2024-08-29T17:08:56.455Z"
   },
   {
    "duration": 7,
    "start_time": "2024-08-29T17:08:56.770Z"
   },
   {
    "duration": 171,
    "start_time": "2024-08-29T17:08:56.781Z"
   },
   {
    "duration": 11,
    "start_time": "2024-08-29T17:08:56.954Z"
   },
   {
    "duration": 33,
    "start_time": "2024-08-29T17:08:56.967Z"
   },
   {
    "duration": 8,
    "start_time": "2024-08-29T17:08:57.002Z"
   },
   {
    "duration": 13,
    "start_time": "2024-08-29T17:08:57.011Z"
   },
   {
    "duration": 331,
    "start_time": "2024-08-29T17:08:57.025Z"
   },
   {
    "duration": 311,
    "start_time": "2024-08-29T17:08:57.357Z"
   },
   {
    "duration": 7,
    "start_time": "2024-08-29T17:08:57.670Z"
   },
   {
    "duration": 13,
    "start_time": "2024-08-29T17:08:57.679Z"
   },
   {
    "duration": 28,
    "start_time": "2024-08-29T17:08:57.694Z"
   },
   {
    "duration": 16,
    "start_time": "2024-08-29T17:08:57.723Z"
   },
   {
    "duration": 341,
    "start_time": "2024-08-29T17:08:57.741Z"
   },
   {
    "duration": 24,
    "start_time": "2024-08-29T17:08:58.084Z"
   },
   {
    "duration": 33,
    "start_time": "2024-08-29T17:08:58.110Z"
   },
   {
    "duration": 233,
    "start_time": "2024-08-29T17:08:58.145Z"
   },
   {
    "duration": 218,
    "start_time": "2024-08-29T17:08:58.380Z"
   },
   {
    "duration": 194,
    "start_time": "2024-08-29T17:08:58.600Z"
   },
   {
    "duration": 74,
    "start_time": "2024-08-29T17:08:58.796Z"
   },
   {
    "duration": 247,
    "start_time": "2024-08-29T17:08:58.872Z"
   },
   {
    "duration": 298,
    "start_time": "2024-08-29T17:08:59.121Z"
   },
   {
    "duration": 389,
    "start_time": "2024-08-29T17:08:59.421Z"
   },
   {
    "duration": 8,
    "start_time": "2024-08-29T17:08:59.812Z"
   },
   {
    "duration": 382,
    "start_time": "2024-08-29T17:08:59.822Z"
   },
   {
    "duration": 371,
    "start_time": "2024-08-29T17:09:00.206Z"
   },
   {
    "duration": 351,
    "start_time": "2024-08-29T17:09:00.579Z"
   },
   {
    "duration": 9,
    "start_time": "2024-08-29T17:09:00.932Z"
   },
   {
    "duration": 29,
    "start_time": "2024-08-29T17:09:00.942Z"
   },
   {
    "duration": 13,
    "start_time": "2024-08-29T17:09:00.972Z"
   },
   {
    "duration": 38,
    "start_time": "2024-08-29T17:15:07.401Z"
   },
   {
    "duration": 74,
    "start_time": "2024-08-29T17:18:58.772Z"
   },
   {
    "duration": 23,
    "start_time": "2024-08-29T17:19:24.424Z"
   },
   {
    "duration": 27,
    "start_time": "2024-08-29T17:19:33.069Z"
   },
   {
    "duration": 29,
    "start_time": "2024-08-29T17:19:50.998Z"
   },
   {
    "duration": 32,
    "start_time": "2024-08-29T17:20:11.282Z"
   },
   {
    "duration": 32,
    "start_time": "2024-08-29T17:20:50.339Z"
   },
   {
    "duration": 28,
    "start_time": "2024-08-29T17:20:54.638Z"
   },
   {
    "duration": 33,
    "start_time": "2024-08-29T17:21:15.804Z"
   },
   {
    "duration": 38,
    "start_time": "2024-08-29T17:21:23.941Z"
   },
   {
    "duration": 27,
    "start_time": "2024-08-29T17:23:36.255Z"
   },
   {
    "duration": 7,
    "start_time": "2024-08-29T17:57:33.399Z"
   },
   {
    "duration": 273,
    "start_time": "2024-08-29T17:57:36.658Z"
   },
   {
    "duration": 5,
    "start_time": "2024-08-29T18:10:42.016Z"
   },
   {
    "duration": 9,
    "start_time": "2024-08-29T18:10:49.571Z"
   },
   {
    "duration": 110,
    "start_time": "2024-08-29T18:24:48.604Z"
   },
   {
    "duration": 177,
    "start_time": "2024-08-29T18:25:23.280Z"
   },
   {
    "duration": 312,
    "start_time": "2024-08-29T18:25:57.039Z"
   },
   {
    "duration": 641,
    "start_time": "2024-08-29T18:30:54.816Z"
   },
   {
    "duration": 751,
    "start_time": "2024-08-29T18:32:01.917Z"
   },
   {
    "duration": 315,
    "start_time": "2024-08-29T18:35:21.932Z"
   },
   {
    "duration": 339,
    "start_time": "2024-08-29T18:35:52.509Z"
   },
   {
    "duration": 350,
    "start_time": "2024-08-29T18:36:40.760Z"
   },
   {
    "duration": 633,
    "start_time": "2024-08-29T18:37:00.351Z"
   },
   {
    "duration": 624,
    "start_time": "2024-08-29T18:41:29.346Z"
   },
   {
    "duration": 29,
    "start_time": "2024-08-29T18:47:07.593Z"
   },
   {
    "duration": 26,
    "start_time": "2024-08-29T18:48:17.913Z"
   },
   {
    "duration": 24,
    "start_time": "2024-08-29T18:49:29.724Z"
   },
   {
    "duration": 19,
    "start_time": "2024-08-29T18:51:38.488Z"
   },
   {
    "duration": 12,
    "start_time": "2024-08-29T18:55:12.013Z"
   },
   {
    "duration": 347,
    "start_time": "2024-08-29T18:56:53.084Z"
   },
   {
    "duration": 11,
    "start_time": "2024-08-29T18:58:11.451Z"
   },
   {
    "duration": 750,
    "start_time": "2024-08-29T19:01:47.317Z"
   },
   {
    "duration": 8,
    "start_time": "2024-08-29T19:02:17.026Z"
   },
   {
    "duration": 610,
    "start_time": "2024-08-29T19:04:48.629Z"
   },
   {
    "duration": 11,
    "start_time": "2024-08-29T19:05:19.231Z"
   },
   {
    "duration": 630,
    "start_time": "2024-08-29T19:07:38.366Z"
   },
   {
    "duration": 8,
    "start_time": "2024-08-29T19:08:22.411Z"
   },
   {
    "duration": 5,
    "start_time": "2024-08-29T19:28:42.010Z"
   },
   {
    "duration": 5,
    "start_time": "2024-08-29T19:29:12.969Z"
   },
   {
    "duration": 381,
    "start_time": "2024-08-29T19:31:23.401Z"
   },
   {
    "duration": 29,
    "start_time": "2024-08-29T19:33:43.291Z"
   },
   {
    "duration": 50,
    "start_time": "2024-08-29T19:37:38.966Z"
   },
   {
    "duration": 46,
    "start_time": "2024-08-30T06:27:47.815Z"
   },
   {
    "duration": 1287,
    "start_time": "2024-08-30T06:27:51.014Z"
   },
   {
    "duration": 176,
    "start_time": "2024-08-30T06:27:52.303Z"
   },
   {
    "duration": 4,
    "start_time": "2024-08-30T06:27:52.480Z"
   },
   {
    "duration": 29,
    "start_time": "2024-08-30T06:27:52.486Z"
   },
   {
    "duration": 32,
    "start_time": "2024-08-30T06:27:52.516Z"
   },
   {
    "duration": 15,
    "start_time": "2024-08-30T06:27:52.550Z"
   },
   {
    "duration": 9,
    "start_time": "2024-08-30T06:27:52.567Z"
   },
   {
    "duration": 5,
    "start_time": "2024-08-30T06:27:52.577Z"
   },
   {
    "duration": 8,
    "start_time": "2024-08-30T06:27:52.583Z"
   },
   {
    "duration": 4,
    "start_time": "2024-08-30T06:27:52.594Z"
   },
   {
    "duration": 6,
    "start_time": "2024-08-30T06:27:52.599Z"
   },
   {
    "duration": 13,
    "start_time": "2024-08-30T06:27:52.606Z"
   },
   {
    "duration": 16,
    "start_time": "2024-08-30T06:27:52.620Z"
   },
   {
    "duration": 25,
    "start_time": "2024-08-30T06:27:52.637Z"
   },
   {
    "duration": 11,
    "start_time": "2024-08-30T06:27:52.664Z"
   },
   {
    "duration": 35,
    "start_time": "2024-08-30T06:27:52.676Z"
   },
   {
    "duration": 46,
    "start_time": "2024-08-30T06:27:52.713Z"
   },
   {
    "duration": 5,
    "start_time": "2024-08-30T06:27:52.761Z"
   },
   {
    "duration": 4,
    "start_time": "2024-08-30T06:27:52.768Z"
   },
   {
    "duration": 5,
    "start_time": "2024-08-30T06:27:52.774Z"
   },
   {
    "duration": 17,
    "start_time": "2024-08-30T06:27:52.781Z"
   },
   {
    "duration": 97,
    "start_time": "2024-08-30T06:27:52.800Z"
   },
   {
    "duration": 614,
    "start_time": "2024-08-30T06:27:52.899Z"
   },
   {
    "duration": 470,
    "start_time": "2024-08-30T06:27:53.515Z"
   },
   {
    "duration": 1295,
    "start_time": "2024-08-30T06:27:53.987Z"
   },
   {
    "duration": 25,
    "start_time": "2024-08-30T06:27:55.283Z"
   },
   {
    "duration": 6,
    "start_time": "2024-08-30T06:27:55.309Z"
   },
   {
    "duration": 320,
    "start_time": "2024-08-30T06:27:55.319Z"
   },
   {
    "duration": 6,
    "start_time": "2024-08-30T06:27:55.640Z"
   },
   {
    "duration": 250,
    "start_time": "2024-08-30T06:27:55.660Z"
   },
   {
    "duration": 16,
    "start_time": "2024-08-30T06:27:55.913Z"
   },
   {
    "duration": 37,
    "start_time": "2024-08-30T06:27:55.931Z"
   },
   {
    "duration": 9,
    "start_time": "2024-08-30T06:27:55.970Z"
   },
   {
    "duration": 9,
    "start_time": "2024-08-30T06:27:55.981Z"
   },
   {
    "duration": 357,
    "start_time": "2024-08-30T06:27:55.992Z"
   },
   {
    "duration": 330,
    "start_time": "2024-08-30T06:27:56.351Z"
   },
   {
    "duration": 7,
    "start_time": "2024-08-30T06:27:56.683Z"
   },
   {
    "duration": 7,
    "start_time": "2024-08-30T06:27:56.692Z"
   },
   {
    "duration": 13,
    "start_time": "2024-08-30T06:27:56.700Z"
   },
   {
    "duration": 652,
    "start_time": "2024-08-30T06:27:56.715Z"
   },
   {
    "duration": 8,
    "start_time": "2024-08-30T06:27:57.368Z"
   },
   {
    "duration": 675,
    "start_time": "2024-08-30T06:27:57.378Z"
   },
   {
    "duration": 11,
    "start_time": "2024-08-30T06:27:58.055Z"
   },
   {
    "duration": 673,
    "start_time": "2024-08-30T06:27:58.068Z"
   },
   {
    "duration": 7,
    "start_time": "2024-08-30T06:27:58.743Z"
   },
   {
    "duration": 17,
    "start_time": "2024-08-30T06:27:58.761Z"
   },
   {
    "duration": 20,
    "start_time": "2024-08-30T06:27:58.780Z"
   },
   {
    "duration": 489,
    "start_time": "2024-08-30T06:27:58.802Z"
   },
   {
    "duration": 134,
    "start_time": "2024-08-30T06:27:59.293Z"
   },
   {
    "duration": 0,
    "start_time": "2024-08-30T06:27:59.429Z"
   },
   {
    "duration": 0,
    "start_time": "2024-08-30T06:27:59.430Z"
   },
   {
    "duration": 0,
    "start_time": "2024-08-30T06:27:59.431Z"
   },
   {
    "duration": 0,
    "start_time": "2024-08-30T06:27:59.432Z"
   },
   {
    "duration": 0,
    "start_time": "2024-08-30T06:27:59.434Z"
   },
   {
    "duration": 0,
    "start_time": "2024-08-30T06:27:59.435Z"
   },
   {
    "duration": 0,
    "start_time": "2024-08-30T06:27:59.436Z"
   },
   {
    "duration": 0,
    "start_time": "2024-08-30T06:27:59.437Z"
   },
   {
    "duration": 0,
    "start_time": "2024-08-30T06:27:59.438Z"
   },
   {
    "duration": 0,
    "start_time": "2024-08-30T06:27:59.462Z"
   },
   {
    "duration": 0,
    "start_time": "2024-08-30T06:27:59.463Z"
   },
   {
    "duration": 0,
    "start_time": "2024-08-30T06:27:59.464Z"
   },
   {
    "duration": 0,
    "start_time": "2024-08-30T06:27:59.466Z"
   },
   {
    "duration": 0,
    "start_time": "2024-08-30T06:27:59.467Z"
   },
   {
    "duration": 0,
    "start_time": "2024-08-30T06:27:59.468Z"
   },
   {
    "duration": 13,
    "start_time": "2024-08-30T06:28:52.586Z"
   },
   {
    "duration": 277,
    "start_time": "2024-08-30T06:32:52.777Z"
   },
   {
    "duration": 291,
    "start_time": "2024-08-30T06:33:04.835Z"
   },
   {
    "duration": 287,
    "start_time": "2024-08-30T06:33:10.710Z"
   },
   {
    "duration": 281,
    "start_time": "2024-08-30T06:33:18.481Z"
   },
   {
    "duration": 279,
    "start_time": "2024-08-30T06:33:24.675Z"
   },
   {
    "duration": 4,
    "start_time": "2024-08-30T06:36:34.615Z"
   },
   {
    "duration": 3,
    "start_time": "2024-08-30T06:37:14.766Z"
   },
   {
    "duration": 2,
    "start_time": "2024-08-30T06:37:25.305Z"
   },
   {
    "duration": 1219,
    "start_time": "2024-08-30T06:39:53.853Z"
   },
   {
    "duration": 56,
    "start_time": "2024-08-30T06:39:55.073Z"
   },
   {
    "duration": 3,
    "start_time": "2024-08-30T06:39:55.131Z"
   },
   {
    "duration": 55,
    "start_time": "2024-08-30T06:39:55.137Z"
   },
   {
    "duration": 40,
    "start_time": "2024-08-30T06:39:55.194Z"
   },
   {
    "duration": 23,
    "start_time": "2024-08-30T06:39:55.236Z"
   },
   {
    "duration": 33,
    "start_time": "2024-08-30T06:39:55.261Z"
   },
   {
    "duration": 22,
    "start_time": "2024-08-30T06:39:55.295Z"
   },
   {
    "duration": 42,
    "start_time": "2024-08-30T06:39:55.319Z"
   },
   {
    "duration": 13,
    "start_time": "2024-08-30T06:39:55.363Z"
   },
   {
    "duration": 17,
    "start_time": "2024-08-30T06:39:55.377Z"
   },
   {
    "duration": 14,
    "start_time": "2024-08-30T06:39:55.395Z"
   },
   {
    "duration": 21,
    "start_time": "2024-08-30T06:39:55.411Z"
   },
   {
    "duration": 33,
    "start_time": "2024-08-30T06:39:55.434Z"
   },
   {
    "duration": 34,
    "start_time": "2024-08-30T06:39:55.469Z"
   },
   {
    "duration": 31,
    "start_time": "2024-08-30T06:39:55.504Z"
   },
   {
    "duration": 40,
    "start_time": "2024-08-30T06:39:55.537Z"
   },
   {
    "duration": 5,
    "start_time": "2024-08-30T06:39:55.578Z"
   },
   {
    "duration": 23,
    "start_time": "2024-08-30T06:39:55.584Z"
   },
   {
    "duration": 9,
    "start_time": "2024-08-30T06:39:55.609Z"
   },
   {
    "duration": 22,
    "start_time": "2024-08-30T06:39:55.620Z"
   },
   {
    "duration": 76,
    "start_time": "2024-08-30T06:39:55.644Z"
   },
   {
    "duration": 560,
    "start_time": "2024-08-30T06:39:55.722Z"
   },
   {
    "duration": 433,
    "start_time": "2024-08-30T06:39:56.284Z"
   },
   {
    "duration": 1270,
    "start_time": "2024-08-30T06:39:56.719Z"
   },
   {
    "duration": 25,
    "start_time": "2024-08-30T06:39:57.990Z"
   },
   {
    "duration": 5,
    "start_time": "2024-08-30T06:39:58.017Z"
   },
   {
    "duration": 328,
    "start_time": "2024-08-30T06:39:58.026Z"
   },
   {
    "duration": 9,
    "start_time": "2024-08-30T06:39:58.355Z"
   },
   {
    "duration": 256,
    "start_time": "2024-08-30T06:39:58.366Z"
   },
   {
    "duration": 9,
    "start_time": "2024-08-30T06:39:58.623Z"
   },
   {
    "duration": 34,
    "start_time": "2024-08-30T06:39:58.634Z"
   },
   {
    "duration": 9,
    "start_time": "2024-08-30T06:39:58.670Z"
   },
   {
    "duration": 9,
    "start_time": "2024-08-30T06:39:58.680Z"
   },
   {
    "duration": 373,
    "start_time": "2024-08-30T06:39:58.691Z"
   },
   {
    "duration": 323,
    "start_time": "2024-08-30T06:39:59.066Z"
   },
   {
    "duration": 3,
    "start_time": "2024-08-30T06:39:59.391Z"
   },
   {
    "duration": 9,
    "start_time": "2024-08-30T06:39:59.395Z"
   },
   {
    "duration": 12,
    "start_time": "2024-08-30T06:39:59.406Z"
   },
   {
    "duration": 715,
    "start_time": "2024-08-30T06:39:59.420Z"
   },
   {
    "duration": 8,
    "start_time": "2024-08-30T06:40:00.136Z"
   },
   {
    "duration": 591,
    "start_time": "2024-08-30T06:40:00.146Z"
   },
   {
    "duration": 8,
    "start_time": "2024-08-30T06:40:00.739Z"
   },
   {
    "duration": 673,
    "start_time": "2024-08-30T06:40:00.761Z"
   },
   {
    "duration": 7,
    "start_time": "2024-08-30T06:40:01.436Z"
   },
   {
    "duration": 48,
    "start_time": "2024-08-30T06:40:01.445Z"
   },
   {
    "duration": 29,
    "start_time": "2024-08-30T06:40:01.495Z"
   },
   {
    "duration": 547,
    "start_time": "2024-08-30T06:40:01.526Z"
   },
   {
    "duration": 15,
    "start_time": "2024-08-30T06:40:02.075Z"
   },
   {
    "duration": 318,
    "start_time": "2024-08-30T06:40:02.091Z"
   },
   {
    "duration": 9,
    "start_time": "2024-08-30T06:40:02.411Z"
   },
   {
    "duration": 265,
    "start_time": "2024-08-30T06:40:02.422Z"
   },
   {
    "duration": 215,
    "start_time": "2024-08-30T06:40:02.688Z"
   },
   {
    "duration": 262,
    "start_time": "2024-08-30T06:40:02.905Z"
   },
   {
    "duration": 9,
    "start_time": "2024-08-30T06:40:03.168Z"
   },
   {
    "duration": 240,
    "start_time": "2024-08-30T06:40:03.178Z"
   },
   {
    "duration": 304,
    "start_time": "2024-08-30T06:40:03.420Z"
   },
   {
    "duration": 310,
    "start_time": "2024-08-30T06:40:03.725Z"
   },
   {
    "duration": 6,
    "start_time": "2024-08-30T06:40:04.037Z"
   },
   {
    "duration": 374,
    "start_time": "2024-08-30T06:40:04.045Z"
   },
   {
    "duration": 294,
    "start_time": "2024-08-30T06:40:04.421Z"
   },
   {
    "duration": 446,
    "start_time": "2024-08-30T06:40:04.761Z"
   },
   {
    "duration": 8,
    "start_time": "2024-08-30T06:40:05.209Z"
   },
   {
    "duration": 18,
    "start_time": "2024-08-30T06:40:05.219Z"
   },
   {
    "duration": 29,
    "start_time": "2024-08-30T06:40:05.239Z"
   },
   {
    "duration": 232,
    "start_time": "2024-08-30T06:44:33.599Z"
   },
   {
    "duration": 211,
    "start_time": "2024-08-30T06:47:01.168Z"
   },
   {
    "duration": 232,
    "start_time": "2024-08-30T06:48:29.532Z"
   },
   {
    "duration": 191,
    "start_time": "2024-08-30T06:48:54.704Z"
   },
   {
    "duration": 14,
    "start_time": "2024-08-30T06:50:27.492Z"
   },
   {
    "duration": 222,
    "start_time": "2024-08-30T06:50:29.363Z"
   },
   {
    "duration": 192,
    "start_time": "2024-08-30T06:50:32.884Z"
   },
   {
    "duration": 210,
    "start_time": "2024-08-30T06:50:37.364Z"
   },
   {
    "duration": 8,
    "start_time": "2024-08-30T06:52:13.565Z"
   },
   {
    "duration": 3,
    "start_time": "2024-08-30T06:52:16.354Z"
   },
   {
    "duration": 14,
    "start_time": "2024-08-30T06:54:44.546Z"
   },
   {
    "duration": 10,
    "start_time": "2024-08-30T06:54:48.193Z"
   },
   {
    "duration": 5,
    "start_time": "2024-08-30T06:55:33.333Z"
   },
   {
    "duration": 13,
    "start_time": "2024-08-30T06:58:50.071Z"
   },
   {
    "duration": 10,
    "start_time": "2024-08-30T06:58:55.928Z"
   },
   {
    "duration": 262,
    "start_time": "2024-08-30T07:00:35.913Z"
   },
   {
    "duration": 234,
    "start_time": "2024-08-30T07:00:58.439Z"
   },
   {
    "duration": 188,
    "start_time": "2024-08-30T07:01:48.893Z"
   },
   {
    "duration": 231,
    "start_time": "2024-08-30T07:02:26.865Z"
   },
   {
    "duration": 385,
    "start_time": "2024-08-30T07:30:34.682Z"
   },
   {
    "duration": 283,
    "start_time": "2024-08-30T07:30:41.878Z"
   },
   {
    "duration": 66,
    "start_time": "2024-08-30T07:36:21.943Z"
   },
   {
    "duration": 1004,
    "start_time": "2024-08-30T20:15:02.957Z"
   },
   {
    "duration": 49,
    "start_time": "2024-08-30T20:15:03.963Z"
   },
   {
    "duration": 2,
    "start_time": "2024-08-30T20:15:04.014Z"
   },
   {
    "duration": 16,
    "start_time": "2024-08-30T20:15:04.018Z"
   },
   {
    "duration": 17,
    "start_time": "2024-08-30T20:15:04.036Z"
   },
   {
    "duration": 16,
    "start_time": "2024-08-30T20:15:04.054Z"
   },
   {
    "duration": 79,
    "start_time": "2024-08-30T20:15:04.071Z"
   },
   {
    "duration": 124,
    "start_time": "2024-08-30T20:15:04.152Z"
   },
   {
    "duration": 32,
    "start_time": "2024-08-30T20:15:04.277Z"
   },
   {
    "duration": 10,
    "start_time": "2024-08-30T20:15:04.311Z"
   },
   {
    "duration": 4,
    "start_time": "2024-08-30T20:15:04.322Z"
   },
   {
    "duration": 5,
    "start_time": "2024-08-30T20:15:04.327Z"
   },
   {
    "duration": 4,
    "start_time": "2024-08-30T20:15:04.333Z"
   },
   {
    "duration": 6,
    "start_time": "2024-08-30T20:15:04.338Z"
   },
   {
    "duration": 16,
    "start_time": "2024-08-30T20:15:04.345Z"
   },
   {
    "duration": 20,
    "start_time": "2024-08-30T20:15:04.362Z"
   },
   {
    "duration": 33,
    "start_time": "2024-08-30T20:15:04.384Z"
   },
   {
    "duration": 4,
    "start_time": "2024-08-30T20:15:04.418Z"
   },
   {
    "duration": 15,
    "start_time": "2024-08-30T20:15:04.423Z"
   },
   {
    "duration": 4,
    "start_time": "2024-08-30T20:15:04.439Z"
   },
   {
    "duration": 13,
    "start_time": "2024-08-30T20:15:04.444Z"
   },
   {
    "duration": 103,
    "start_time": "2024-08-30T20:15:04.458Z"
   },
   {
    "duration": 443,
    "start_time": "2024-08-30T20:15:04.562Z"
   },
   {
    "duration": 405,
    "start_time": "2024-08-30T20:15:05.007Z"
   },
   {
    "duration": 1065,
    "start_time": "2024-08-30T20:15:05.414Z"
   },
   {
    "duration": 27,
    "start_time": "2024-08-30T20:15:06.480Z"
   },
   {
    "duration": 9,
    "start_time": "2024-08-30T20:15:06.509Z"
   },
   {
    "duration": 300,
    "start_time": "2024-08-30T20:15:06.522Z"
   },
   {
    "duration": 4,
    "start_time": "2024-08-30T20:15:06.824Z"
   },
   {
    "duration": 217,
    "start_time": "2024-08-30T20:15:06.830Z"
   },
   {
    "duration": 6,
    "start_time": "2024-08-30T20:15:07.048Z"
   },
   {
    "duration": 38,
    "start_time": "2024-08-30T20:15:07.055Z"
   },
   {
    "duration": 7,
    "start_time": "2024-08-30T20:15:07.094Z"
   },
   {
    "duration": 83,
    "start_time": "2024-08-30T20:15:07.102Z"
   },
   {
    "duration": 294,
    "start_time": "2024-08-30T20:15:07.186Z"
   },
   {
    "duration": 290,
    "start_time": "2024-08-30T20:15:07.482Z"
   },
   {
    "duration": 2,
    "start_time": "2024-08-30T20:15:07.774Z"
   },
   {
    "duration": 10,
    "start_time": "2024-08-30T20:15:07.777Z"
   },
   {
    "duration": 13,
    "start_time": "2024-08-30T20:15:07.788Z"
   },
   {
    "duration": 562,
    "start_time": "2024-08-30T20:15:07.806Z"
   },
   {
    "duration": 7,
    "start_time": "2024-08-30T20:15:08.370Z"
   },
   {
    "duration": 582,
    "start_time": "2024-08-30T20:15:08.378Z"
   },
   {
    "duration": 8,
    "start_time": "2024-08-30T20:15:08.961Z"
   },
   {
    "duration": 601,
    "start_time": "2024-08-30T20:15:08.971Z"
   },
   {
    "duration": 6,
    "start_time": "2024-08-30T20:15:09.573Z"
   },
   {
    "duration": 22,
    "start_time": "2024-08-30T20:15:09.580Z"
   },
   {
    "duration": 9,
    "start_time": "2024-08-30T20:15:09.606Z"
   },
   {
    "duration": 375,
    "start_time": "2024-08-30T20:15:09.616Z"
   },
   {
    "duration": 17,
    "start_time": "2024-08-30T20:15:09.993Z"
   },
   {
    "duration": 280,
    "start_time": "2024-08-30T20:15:10.011Z"
   },
   {
    "duration": 18,
    "start_time": "2024-08-30T20:15:10.293Z"
   },
   {
    "duration": 198,
    "start_time": "2024-08-30T20:15:10.313Z"
   },
   {
    "duration": 206,
    "start_time": "2024-08-30T20:15:10.512Z"
   },
   {
    "duration": 195,
    "start_time": "2024-08-30T20:15:10.720Z"
   },
   {
    "duration": 11,
    "start_time": "2024-08-30T20:15:10.916Z"
   },
   {
    "duration": 191,
    "start_time": "2024-08-30T20:15:10.928Z"
   },
   {
    "duration": 197,
    "start_time": "2024-08-30T20:15:11.121Z"
   },
   {
    "duration": 197,
    "start_time": "2024-08-30T20:15:11.320Z"
   },
   {
    "duration": 4,
    "start_time": "2024-08-30T20:15:11.519Z"
   },
   {
    "duration": 304,
    "start_time": "2024-08-30T20:15:11.524Z"
   },
   {
    "duration": 304,
    "start_time": "2024-08-30T20:15:11.830Z"
   },
   {
    "duration": 391,
    "start_time": "2024-08-30T20:15:12.135Z"
   },
   {
    "duration": 8,
    "start_time": "2024-08-30T20:15:12.528Z"
   },
   {
    "duration": 12,
    "start_time": "2024-08-30T20:15:12.537Z"
   },
   {
    "duration": 15,
    "start_time": "2024-08-30T20:15:12.550Z"
   }
  ],
  "kernelspec": {
   "display_name": "Python 3 (ipykernel)",
   "language": "python",
   "name": "python3"
  },
  "language_info": {
   "codemirror_mode": {
    "name": "ipython",
    "version": 3
   },
   "file_extension": ".py",
   "mimetype": "text/x-python",
   "name": "python",
   "nbconvert_exporter": "python",
   "pygments_lexer": "ipython3",
   "version": "3.9.19"
  },
  "toc": {
   "base_numbering": 1,
   "nav_menu": {},
   "number_sections": true,
   "sideBar": true,
   "skip_h1_title": true,
   "title_cell": "Table of Contents",
   "title_sidebar": "Contents",
   "toc_cell": false,
   "toc_position": {
    "height": "calc(100% - 180px)",
    "left": "10px",
    "top": "150px",
    "width": "186.943px"
   },
   "toc_section_display": true,
   "toc_window_display": false
  }
 },
 "nbformat": 4,
 "nbformat_minor": 4
}
